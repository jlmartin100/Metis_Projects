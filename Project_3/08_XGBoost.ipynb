{
 "cells": [
  {
   "cell_type": "code",
   "execution_count": 2,
   "metadata": {},
   "outputs": [
    {
     "data": {
      "text/html": [
       "<style>.container {width:95% !important; }</style>"
      ],
      "text/plain": [
       "<IPython.core.display.HTML object>"
      ]
     },
     "metadata": {},
     "output_type": "display_data"
    }
   ],
   "source": [
    "from IPython.core.display import display, HTML\n",
    "display(HTML(\"<style>.container {width:95% !important; }</style>\"))"
   ]
  },
  {
   "cell_type": "code",
   "execution_count": 1,
   "metadata": {},
   "outputs": [],
   "source": [
    "import pandas as pd\n",
    "import numpy as np\n",
    "import scipy.stats as st\n",
    "from collections import Counter\n",
    "\n",
    "import xgboost as xgb\n",
    "\n",
    "from sklearn.model_selection import train_test_split\n",
    "from sklearn.metrics import roc_auc_score, confusion_matrix, roc_curve\n",
    "from sklearn.metrics import precision_score, recall_score, accuracy_score\n",
    "from sklearn.metrics import precision_recall_curve,f1_score, fbeta_score, classification_report\n",
    "\n",
    "import matplotlib.pyplot as plt\n",
    "import seaborn as sns\n",
    "%matplotlib inline\n",
    "\n",
    "plt.rcParams['figure.figsize'] = (9, 6)\n",
    "sns.set(context='notebook', style='whitegrid', font_scale=1.2)\n",
    "\n",
    "import pickle\n",
    "import json\n",
    "\n"
   ]
  },
  {
   "cell_type": "markdown",
   "metadata": {},
   "source": [
    "## XGBoost Models\n",
    "\n",
    "After utilizing logistic regression as the baseline, and doing some cursory testing on K Nearest Neighbors and Naive Bayes, I spent more time working with Random Forest models and XGBoost models, in order to understand their parameters.  \n",
    "\n",
    "Due to the life or death nature of medical data, recall was the measure of choice here, specifically recall on the minority class, which were the deaths.  I did also briefly consider using an F2.  However, that seemed to result in overfitting as I was attempting to tune, so I returned to minority class recall as the metric of preference.\n",
    "\n",
    "Using the full metric classification report while adjust XGBoost parameters helped me to better understand how the parameters worked, and also to observe the precision/recall and majority/minority class tradeoffs as they shifted."
   ]
  },
  {
   "cell_type": "markdown",
   "metadata": {},
   "source": [
    "### The Full Dataset"
   ]
  },
  {
   "cell_type": "code",
   "execution_count": 3,
   "metadata": {},
   "outputs": [
    {
     "data": {
      "text/plain": [
       "(561096, 24)"
      ]
     },
     "execution_count": 3,
     "metadata": {},
     "output_type": "execute_result"
    }
   ],
   "source": [
    "covid_clean = pd.read_json('covid_no_nan.json', lines=True)\n",
    "covid_clean.shape"
   ]
  },
  {
   "cell_type": "code",
   "execution_count": 5,
   "metadata": {},
   "outputs": [],
   "source": [
    "features = ['sex','patient_type', 'pneumonia', 'diabetes', 'copd', 'asthma', 'inmsupr',\n",
    "       'hypertension', 'other_disease', 'cardiovascular', 'obesity',\n",
    "       'renal_chronic', 'tobacco', 'pregnancy',  'covid_res',\n",
    "       'contact_other_covid']\n",
    "\n",
    "x = covid_clean[features]\n",
    "y = covid_clean['passed']\n",
    "\n",
    "# train / test split\n",
    "xtrain, xtest, ytrain, ytest = train_test_split(x, y, test_size=0.2, \\\n",
    "                                                random_state=33, \\\n",
    "                                                stratify = y.values)\n",
    "\n",
    "# train /validation split\n",
    "xtrain, xval, ytrain, yval = train_test_split(xtrain, ytrain, test_size=0.2, \\\n",
    "                                             random_state=33,\\\n",
    "                                             stratify=ytrain.values)"
   ]
  },
  {
   "cell_type": "code",
   "execution_count": 14,
   "metadata": {},
   "outputs": [
    {
     "name": "stdout",
     "output_type": "stream",
     "text": [
      "[0]\tvalidation_0-error:0.06336\tvalidation_1-error:0.06336\n",
      "[1]\tvalidation_0-error:0.06336\tvalidation_1-error:0.06336\n",
      "[2]\tvalidation_0-error:0.06336\tvalidation_1-error:0.06336\n",
      "[3]\tvalidation_0-error:0.06336\tvalidation_1-error:0.06336\n",
      "[4]\tvalidation_0-error:0.06336\tvalidation_1-error:0.06336\n",
      "[5]\tvalidation_0-error:0.06336\tvalidation_1-error:0.06336\n",
      "[6]\tvalidation_0-error:0.06336\tvalidation_1-error:0.06336\n",
      "[7]\tvalidation_0-error:0.06336\tvalidation_1-error:0.06336\n",
      "[8]\tvalidation_0-error:0.06336\tvalidation_1-error:0.06336\n",
      "[9]\tvalidation_0-error:0.06336\tvalidation_1-error:0.06336\n",
      "[10]\tvalidation_0-error:0.06336\tvalidation_1-error:0.06336\n",
      "[11]\tvalidation_0-error:0.06336\tvalidation_1-error:0.06336\n",
      "[12]\tvalidation_0-error:0.06336\tvalidation_1-error:0.06336\n",
      "[13]\tvalidation_0-error:0.06336\tvalidation_1-error:0.06336\n",
      "[14]\tvalidation_0-error:0.06336\tvalidation_1-error:0.06336\n",
      "[15]\tvalidation_0-error:0.06336\tvalidation_1-error:0.06336\n",
      "[16]\tvalidation_0-error:0.06336\tvalidation_1-error:0.06336\n",
      "[17]\tvalidation_0-error:0.06336\tvalidation_1-error:0.06336\n",
      "[18]\tvalidation_0-error:0.06336\tvalidation_1-error:0.06336\n",
      "[19]\tvalidation_0-error:0.06336\tvalidation_1-error:0.06336\n",
      "[20]\tvalidation_0-error:0.06336\tvalidation_1-error:0.06336\n",
      "[21]\tvalidation_0-error:0.06296\tvalidation_1-error:0.06286\n",
      "[22]\tvalidation_0-error:0.06336\tvalidation_1-error:0.06336\n",
      "[23]\tvalidation_0-error:0.06317\tvalidation_1-error:0.06308\n",
      "[24]\tvalidation_0-error:0.06295\tvalidation_1-error:0.06286\n",
      "[25]\tvalidation_0-error:0.06295\tvalidation_1-error:0.06286\n",
      "[26]\tvalidation_0-error:0.06295\tvalidation_1-error:0.06286\n",
      "[27]\tvalidation_0-error:0.06295\tvalidation_1-error:0.06286\n",
      "[28]\tvalidation_0-error:0.06295\tvalidation_1-error:0.06286\n",
      "[29]\tvalidation_0-error:0.06295\tvalidation_1-error:0.06286\n",
      "[30]\tvalidation_0-error:0.06294\tvalidation_1-error:0.06286\n",
      "[31]\tvalidation_0-error:0.06294\tvalidation_1-error:0.06286\n",
      "[32]\tvalidation_0-error:0.06283\tvalidation_1-error:0.06289\n",
      "[33]\tvalidation_0-error:0.06283\tvalidation_1-error:0.06289\n",
      "[34]\tvalidation_0-error:0.06281\tvalidation_1-error:0.06289\n",
      "[35]\tvalidation_0-error:0.06281\tvalidation_1-error:0.06288\n",
      "[36]\tvalidation_0-error:0.06281\tvalidation_1-error:0.06288\n",
      "[37]\tvalidation_0-error:0.06281\tvalidation_1-error:0.06288\n",
      "[38]\tvalidation_0-error:0.06281\tvalidation_1-error:0.06288\n",
      "[39]\tvalidation_0-error:0.06281\tvalidation_1-error:0.06288\n",
      "[40]\tvalidation_0-error:0.06281\tvalidation_1-error:0.06288\n",
      "[41]\tvalidation_0-error:0.06281\tvalidation_1-error:0.06288\n",
      "[42]\tvalidation_0-error:0.06281\tvalidation_1-error:0.06288\n",
      "[43]\tvalidation_0-error:0.06281\tvalidation_1-error:0.06288\n",
      "[44]\tvalidation_0-error:0.06281\tvalidation_1-error:0.06286\n",
      "[45]\tvalidation_0-error:0.06281\tvalidation_1-error:0.06286\n",
      "[46]\tvalidation_0-error:0.06276\tvalidation_1-error:0.06274\n",
      "[47]\tvalidation_0-error:0.06277\tvalidation_1-error:0.06273\n",
      "[48]\tvalidation_0-error:0.06275\tvalidation_1-error:0.06273\n",
      "[49]\tvalidation_0-error:0.06274\tvalidation_1-error:0.06273\n",
      "[50]\tvalidation_0-error:0.06273\tvalidation_1-error:0.06274\n",
      "[51]\tvalidation_0-error:0.06273\tvalidation_1-error:0.06274\n",
      "[52]\tvalidation_0-error:0.06274\tvalidation_1-error:0.06259\n",
      "[53]\tvalidation_0-error:0.06274\tvalidation_1-error:0.06257\n",
      "[54]\tvalidation_0-error:0.06271\tvalidation_1-error:0.06256\n",
      "[55]\tvalidation_0-error:0.06271\tvalidation_1-error:0.06256\n",
      "[56]\tvalidation_0-error:0.06270\tvalidation_1-error:0.06256\n",
      "[57]\tvalidation_0-error:0.06259\tvalidation_1-error:0.06222\n",
      "[58]\tvalidation_0-error:0.06260\tvalidation_1-error:0.06220\n",
      "[59]\tvalidation_0-error:0.06258\tvalidation_1-error:0.06223\n",
      "[60]\tvalidation_0-error:0.06257\tvalidation_1-error:0.06222\n",
      "[61]\tvalidation_0-error:0.06255\tvalidation_1-error:0.06212\n",
      "[62]\tvalidation_0-error:0.06255\tvalidation_1-error:0.06211\n",
      "[63]\tvalidation_0-error:0.06256\tvalidation_1-error:0.06209\n",
      "[64]\tvalidation_0-error:0.06257\tvalidation_1-error:0.06210\n",
      "[65]\tvalidation_0-error:0.06255\tvalidation_1-error:0.06215\n",
      "[66]\tvalidation_0-error:0.06255\tvalidation_1-error:0.06215\n",
      "[67]\tvalidation_0-error:0.06251\tvalidation_1-error:0.06213\n",
      "[68]\tvalidation_0-error:0.06251\tvalidation_1-error:0.06213\n",
      "[69]\tvalidation_0-error:0.06250\tvalidation_1-error:0.06213\n",
      "[70]\tvalidation_0-error:0.06250\tvalidation_1-error:0.06213\n",
      "[71]\tvalidation_0-error:0.06250\tvalidation_1-error:0.06212\n",
      "[72]\tvalidation_0-error:0.06251\tvalidation_1-error:0.06212\n",
      "[73]\tvalidation_0-error:0.06249\tvalidation_1-error:0.06212\n",
      "[74]\tvalidation_0-error:0.06249\tvalidation_1-error:0.06213\n",
      "[75]\tvalidation_0-error:0.06249\tvalidation_1-error:0.06213\n",
      "[76]\tvalidation_0-error:0.06249\tvalidation_1-error:0.06213\n",
      "[77]\tvalidation_0-error:0.06249\tvalidation_1-error:0.06214\n",
      "[78]\tvalidation_0-error:0.06250\tvalidation_1-error:0.06214\n",
      "[79]\tvalidation_0-error:0.06247\tvalidation_1-error:0.06211\n",
      "[80]\tvalidation_0-error:0.06247\tvalidation_1-error:0.06209\n",
      "[81]\tvalidation_0-error:0.06246\tvalidation_1-error:0.06211\n",
      "[82]\tvalidation_0-error:0.06246\tvalidation_1-error:0.06210\n",
      "[83]\tvalidation_0-error:0.06247\tvalidation_1-error:0.06205\n",
      "[84]\tvalidation_0-error:0.06247\tvalidation_1-error:0.06203\n",
      "[85]\tvalidation_0-error:0.06245\tvalidation_1-error:0.06203\n",
      "[86]\tvalidation_0-error:0.06246\tvalidation_1-error:0.06203\n",
      "[87]\tvalidation_0-error:0.06249\tvalidation_1-error:0.06201\n",
      "[88]\tvalidation_0-error:0.06245\tvalidation_1-error:0.06200\n",
      "[89]\tvalidation_0-error:0.06245\tvalidation_1-error:0.06202\n",
      "[90]\tvalidation_0-error:0.06245\tvalidation_1-error:0.06201\n",
      "[91]\tvalidation_0-error:0.06242\tvalidation_1-error:0.06193\n",
      "[92]\tvalidation_0-error:0.06243\tvalidation_1-error:0.06190\n",
      "[93]\tvalidation_0-error:0.06243\tvalidation_1-error:0.06191\n",
      "[94]\tvalidation_0-error:0.06242\tvalidation_1-error:0.06186\n",
      "[95]\tvalidation_0-error:0.06242\tvalidation_1-error:0.06186\n",
      "[96]\tvalidation_0-error:0.06243\tvalidation_1-error:0.06187\n",
      "[97]\tvalidation_0-error:0.06242\tvalidation_1-error:0.06182\n",
      "[98]\tvalidation_0-error:0.06242\tvalidation_1-error:0.06183\n",
      "[99]\tvalidation_0-error:0.06242\tvalidation_1-error:0.06182\n",
      "[100]\tvalidation_0-error:0.06240\tvalidation_1-error:0.06178\n",
      "[101]\tvalidation_0-error:0.06242\tvalidation_1-error:0.06178\n",
      "[102]\tvalidation_0-error:0.06239\tvalidation_1-error:0.06177\n",
      "[103]\tvalidation_0-error:0.06239\tvalidation_1-error:0.06176\n",
      "[104]\tvalidation_0-error:0.06239\tvalidation_1-error:0.06177\n",
      "[105]\tvalidation_0-error:0.06238\tvalidation_1-error:0.06178\n",
      "[106]\tvalidation_0-error:0.06239\tvalidation_1-error:0.06184\n",
      "[107]\tvalidation_0-error:0.06238\tvalidation_1-error:0.06178\n",
      "[108]\tvalidation_0-error:0.06238\tvalidation_1-error:0.06180\n",
      "[109]\tvalidation_0-error:0.06234\tvalidation_1-error:0.06183\n",
      "[110]\tvalidation_0-error:0.06233\tvalidation_1-error:0.06184\n",
      "[111]\tvalidation_0-error:0.06233\tvalidation_1-error:0.06183\n",
      "[112]\tvalidation_0-error:0.06234\tvalidation_1-error:0.06183\n",
      "[113]\tvalidation_0-error:0.06234\tvalidation_1-error:0.06180\n",
      "[114]\tvalidation_0-error:0.06234\tvalidation_1-error:0.06180\n",
      "[115]\tvalidation_0-error:0.06233\tvalidation_1-error:0.06183\n",
      "[116]\tvalidation_0-error:0.06233\tvalidation_1-error:0.06183\n",
      "[117]\tvalidation_0-error:0.06233\tvalidation_1-error:0.06183\n",
      "[118]\tvalidation_0-error:0.06233\tvalidation_1-error:0.06183\n",
      "[119]\tvalidation_0-error:0.06233\tvalidation_1-error:0.06185\n",
      "[120]\tvalidation_0-error:0.06233\tvalidation_1-error:0.06185\n",
      "[121]\tvalidation_0-error:0.06232\tvalidation_1-error:0.06186\n",
      "[122]\tvalidation_0-error:0.06232\tvalidation_1-error:0.06189\n",
      "[123]\tvalidation_0-error:0.06230\tvalidation_1-error:0.06190\n",
      "[124]\tvalidation_0-error:0.06230\tvalidation_1-error:0.06189\n",
      "[125]\tvalidation_0-error:0.06230\tvalidation_1-error:0.06189\n",
      "[126]\tvalidation_0-error:0.06230\tvalidation_1-error:0.06189\n",
      "[127]\tvalidation_0-error:0.06230\tvalidation_1-error:0.06189\n",
      "[128]\tvalidation_0-error:0.06230\tvalidation_1-error:0.06189\n",
      "[129]\tvalidation_0-error:0.06232\tvalidation_1-error:0.06184\n",
      "[130]\tvalidation_0-error:0.06232\tvalidation_1-error:0.06183\n",
      "[131]\tvalidation_0-error:0.06233\tvalidation_1-error:0.06182\n",
      "[132]\tvalidation_0-error:0.06232\tvalidation_1-error:0.06184\n",
      "[133]\tvalidation_0-error:0.06231\tvalidation_1-error:0.06184\n",
      "[134]\tvalidation_0-error:0.06231\tvalidation_1-error:0.06184\n",
      "[135]\tvalidation_0-error:0.06231\tvalidation_1-error:0.06183\n",
      "[136]\tvalidation_0-error:0.06230\tvalidation_1-error:0.06182\n",
      "[137]\tvalidation_0-error:0.06232\tvalidation_1-error:0.06182\n",
      "[138]\tvalidation_0-error:0.06233\tvalidation_1-error:0.06180\n"
     ]
    },
    {
     "name": "stdout",
     "output_type": "stream",
     "text": [
      "[139]\tvalidation_0-error:0.06233\tvalidation_1-error:0.06180\n",
      "[140]\tvalidation_0-error:0.06232\tvalidation_1-error:0.06180\n",
      "[141]\tvalidation_0-error:0.06232\tvalidation_1-error:0.06180\n",
      "[142]\tvalidation_0-error:0.06233\tvalidation_1-error:0.06178\n",
      "[143]\tvalidation_0-error:0.06233\tvalidation_1-error:0.06180\n",
      "[144]\tvalidation_0-error:0.06233\tvalidation_1-error:0.06180\n",
      "[145]\tvalidation_0-error:0.06233\tvalidation_1-error:0.06180\n",
      "[146]\tvalidation_0-error:0.06233\tvalidation_1-error:0.06181\n",
      "[147]\tvalidation_0-error:0.06233\tvalidation_1-error:0.06181\n",
      "[148]\tvalidation_0-error:0.06234\tvalidation_1-error:0.06177\n",
      "[149]\tvalidation_0-error:0.06233\tvalidation_1-error:0.06176\n",
      "[150]\tvalidation_0-error:0.06233\tvalidation_1-error:0.06176\n",
      "[151]\tvalidation_0-error:0.06232\tvalidation_1-error:0.06177\n",
      "[152]\tvalidation_0-error:0.06233\tvalidation_1-error:0.06178\n",
      "[153]\tvalidation_0-error:0.06233\tvalidation_1-error:0.06178\n"
     ]
    }
   ],
   "source": [
    "boost = xgb.XGBClassifier(\n",
    "            n_estimators=1000,\n",
    "            max_depth=4,\n",
    "            objective='binary:logistic',\n",
    "            use_label_encoder=False,\n",
    "            learning_rate=.05,\n",
    "            subsample=.8,\n",
    "            min_child_weight=2,\n",
    "            colsample_bytree=.8)\n",
    "\n",
    "eval_set =[(xtrain,ytrain), (xval, yval)]\n",
    "\n",
    "fit_model = boost.fit(\n",
    "            xtrain, ytrain,\n",
    "            eval_set=eval_set,\n",
    "            eval_metric='error',  # metric: classification error. could also use AUC,etc\n",
    "            early_stopping_rounds=50,\n",
    "            verbose=False)"
   ]
  },
  {
   "cell_type": "code",
   "execution_count": 16,
   "metadata": {},
   "outputs": [
    {
     "data": {
      "text/plain": [
       "array([[83759,   423],\n",
       "       [ 5128,   567]])"
      ]
     },
     "execution_count": 16,
     "metadata": {},
     "output_type": "execute_result"
    }
   ],
   "source": [
    "gbm_cm = confusion_matrix(yval, boost.predict(xval))\n",
    "gbm_cm"
   ]
  },
  {
   "cell_type": "code",
   "execution_count": 18,
   "metadata": {},
   "outputs": [
    {
     "name": "stdout",
     "output_type": "stream",
     "text": [
      "              precision    recall  f1-score   support\n",
      "\n",
      "           0       0.94      0.99      0.97     84182\n",
      "           1       0.57      0.10      0.17      5695\n",
      "\n",
      "    accuracy                           0.94     89877\n",
      "   macro avg       0.76      0.55      0.57     89877\n",
      "weighted avg       0.92      0.94      0.92     89877\n",
      "\n"
     ]
    }
   ],
   "source": [
    "print(classification_report(yval, boost.predict(xval)))"
   ]
  },
  {
   "cell_type": "code",
   "execution_count": 19,
   "metadata": {},
   "outputs": [],
   "source": [
    "boost2 = xgb.XGBClassifier(\n",
    "            n_estimators=30000,  # increased\n",
    "            max_depth=4,\n",
    "            objective='binary:logistic',\n",
    "            use_label_encoder=False,\n",
    "            learning_rate=.1, # increased\n",
    "            subsample=1,          # increased - row subsampling rate\n",
    "            min_child_weight=2,\n",
    "            colsample_bytree=1)   # increased - feature subsampling rate\n",
    "\n",
    "eval_set =[(xtrain,ytrain), (xval, yval)]\n",
    "\n",
    "fit_model = boost2.fit(\n",
    "            xtrain, ytrain,\n",
    "            eval_set=eval_set,\n",
    "            eval_metric='error',  # metric: classification error. could also use AUC,etc\n",
    "            early_stopping_rounds=50,\n",
    "            verbose=False)"
   ]
  },
  {
   "cell_type": "code",
   "execution_count": 20,
   "metadata": {},
   "outputs": [
    {
     "data": {
      "text/plain": [
       "array([[83725,   457],\n",
       "       [ 5092,   603]])"
      ]
     },
     "execution_count": 20,
     "metadata": {},
     "output_type": "execute_result"
    }
   ],
   "source": [
    "# more positives, more false negatives\n",
    "gbm2_cm = confusion_matrix(yval, boost2.predict(xval))\n",
    "gbm2_cm"
   ]
  },
  {
   "cell_type": "code",
   "execution_count": 21,
   "metadata": {},
   "outputs": [
    {
     "name": "stdout",
     "output_type": "stream",
     "text": [
      "              precision    recall  f1-score   support\n",
      "\n",
      "           0       0.94      0.99      0.97     84182\n",
      "           1       0.57      0.11      0.18      5695\n",
      "\n",
      "    accuracy                           0.94     89877\n",
      "   macro avg       0.76      0.55      0.57     89877\n",
      "weighted avg       0.92      0.94      0.92     89877\n",
      "\n"
     ]
    }
   ],
   "source": [
    "# slight increase in minority class metrics\n",
    "print(classification_report(yval, boost2.predict(xval)))"
   ]
  },
  {
   "cell_type": "code",
   "execution_count": 22,
   "metadata": {},
   "outputs": [],
   "source": [
    "boost3 = xgb.XGBClassifier(\n",
    "            n_estimators=30000,\n",
    "            max_depth=4,\n",
    "            objective='binary:logistic',\n",
    "            use_label_encoder=False,\n",
    "            learning_rate=.5, # increased\n",
    "            subsample=1,          # row subsampling rate\n",
    "            min_child_weight=1, # decreased\n",
    "            colsample_bytree=1)   # feature subsampling rate\n",
    "\n",
    "eval_set =[(xtrain,ytrain), (xval, yval)]\n",
    "\n",
    "fit_model = boost3.fit(\n",
    "            xtrain, ytrain,\n",
    "            eval_set=eval_set,\n",
    "            eval_metric='error',  # metric: classification error. could also use AUC,etc\n",
    "            early_stopping_rounds=50,\n",
    "            verbose=False)"
   ]
  },
  {
   "cell_type": "code",
   "execution_count": 23,
   "metadata": {},
   "outputs": [
    {
     "data": {
      "text/plain": [
       "array([[83710,   472],\n",
       "       [ 5080,   615]])"
      ]
     },
     "execution_count": 23,
     "metadata": {},
     "output_type": "execute_result"
    }
   ],
   "source": [
    "# fewer positives, more negatives, more false negatives\n",
    "gbm3_cm = confusion_matrix(yval, boost3.predict(xval))\n",
    "gbm3_cm"
   ]
  },
  {
   "cell_type": "code",
   "execution_count": 24,
   "metadata": {},
   "outputs": [
    {
     "name": "stdout",
     "output_type": "stream",
     "text": [
      "              precision    recall  f1-score   support\n",
      "\n",
      "           0       0.94      0.99      0.97     84182\n",
      "           1       0.57      0.11      0.18      5695\n",
      "\n",
      "    accuracy                           0.94     89877\n",
      "   macro avg       0.75      0.55      0.57     89877\n",
      "weighted avg       0.92      0.94      0.92     89877\n",
      "\n"
     ]
    }
   ],
   "source": [
    "# no change in minority class metrics\n",
    "print(classification_report(yval, boost3.predict(xval)))"
   ]
  },
  {
   "cell_type": "code",
   "execution_count": 25,
   "metadata": {},
   "outputs": [],
   "source": [
    "boost4 = xgb.XGBClassifier(\n",
    "            n_estimators=30000,\n",
    "            max_depth=4,\n",
    "            objective='binary:logistic',\n",
    "            use_label_encoder=False,\n",
    "            learning_rate=.05, # decreased\n",
    "            subsample=1,          # row subsampling rate\n",
    "            min_child_weight=1, \n",
    "            colsample_bytree=1)   # feature subsampling rate\n",
    "\n",
    "eval_set =[(xtrain,ytrain), (xval, yval)]\n",
    "\n",
    "fit_model = boost4.fit(\n",
    "            xtrain, ytrain,\n",
    "            eval_set=eval_set,\n",
    "            eval_metric='error',  # metric: classification error. could also use AUC,etc\n",
    "            early_stopping_rounds=50,\n",
    "            verbose=False)"
   ]
  },
  {
   "cell_type": "code",
   "execution_count": 26,
   "metadata": {},
   "outputs": [
    {
     "data": {
      "text/plain": [
       "array([[83722,   460],\n",
       "       [ 5090,   605]])"
      ]
     },
     "execution_count": 26,
     "metadata": {},
     "output_type": "execute_result"
    }
   ],
   "source": [
    "# more positives, fewer negatives, more false positives\n",
    "gbm4_cm = confusion_matrix(yval, boost4.predict(xval))\n",
    "gbm4_cm"
   ]
  },
  {
   "cell_type": "code",
   "execution_count": 27,
   "metadata": {},
   "outputs": [
    {
     "name": "stdout",
     "output_type": "stream",
     "text": [
      "              precision    recall  f1-score   support\n",
      "\n",
      "           0       0.94      0.99      0.97     84182\n",
      "           1       0.57      0.11      0.18      5695\n",
      "\n",
      "    accuracy                           0.94     89877\n",
      "   macro avg       0.76      0.55      0.57     89877\n",
      "weighted avg       0.92      0.94      0.92     89877\n",
      "\n"
     ]
    }
   ],
   "source": [
    "# no holistic change in metrics\n",
    "print(classification_report(yval, boost4.predict(xval)))"
   ]
  },
  {
   "cell_type": "code",
   "execution_count": 28,
   "metadata": {},
   "outputs": [],
   "source": [
    "boost5 = xgb.XGBClassifier(\n",
    "            n_estimators=30000,\n",
    "            max_depth=5,   # increased\n",
    "            objective='binary:logistic',\n",
    "            use_label_encoder=False,\n",
    "            learning_rate=.08, # increased\n",
    "            subsample=1,          # row subsampling rate\n",
    "            min_child_weight=1, \n",
    "            colsample_bytree=1)   # feature subsampling rate\n",
    "\n",
    "eval_set =[(xtrain,ytrain), (xval, yval)]\n",
    "\n",
    "fit_model = boost5.fit(\n",
    "            xtrain, ytrain,\n",
    "            eval_set=eval_set,\n",
    "            eval_metric='error',  # metric: classification error. could also use AUC,etc\n",
    "            early_stopping_rounds=50,\n",
    "            verbose=False)"
   ]
  },
  {
   "cell_type": "code",
   "execution_count": 31,
   "metadata": {},
   "outputs": [
    {
     "data": {
      "text/plain": [
       "array([[83726,   456],\n",
       "       [ 5110,   585]])"
      ]
     },
     "execution_count": 31,
     "metadata": {},
     "output_type": "execute_result"
    }
   ],
   "source": [
    "# increase in positives, decrease in negatives\n",
    "gbm5_cm = confusion_matrix(yval, boost5.predict(xval))\n",
    "gbm5_cm"
   ]
  },
  {
   "cell_type": "code",
   "execution_count": 30,
   "metadata": {},
   "outputs": [
    {
     "name": "stdout",
     "output_type": "stream",
     "text": [
      "              precision    recall  f1-score   support\n",
      "\n",
      "           0       0.94      0.99      0.97     84182\n",
      "           1       0.56      0.10      0.17      5695\n",
      "\n",
      "    accuracy                           0.94     89877\n",
      "   macro avg       0.75      0.55      0.57     89877\n",
      "weighted avg       0.92      0.94      0.92     89877\n",
      "\n"
     ]
    }
   ],
   "source": [
    "# recall, f1 score for minority class went down with ^learning rate, ^ max depth\n",
    "print(classification_report(yval, boost5.predict(xval)))"
   ]
  },
  {
   "cell_type": "code",
   "execution_count": 38,
   "metadata": {},
   "outputs": [],
   "source": [
    "boost6 = xgb.XGBClassifier(\n",
    "            n_estimators=30000,\n",
    "            max_depth=8,   # increased\n",
    "            objective='binary:logistic',\n",
    "            use_label_encoder=False,\n",
    "            learning_rate=.05, \n",
    "            subsample=1,          # row subsampling rate\n",
    "            min_child_weight=2,  # increased\n",
    "            colsample_bytree=1)   #  feature subsampling rate\n",
    "\n",
    "eval_set =[(xtrain,ytrain), (xval, yval)]\n",
    "\n",
    "fit_model = boost6.fit(\n",
    "            xtrain, ytrain,\n",
    "            eval_set=eval_set,\n",
    "            eval_metric='error',  # metric: classification error. could also use AUC,etc\n",
    "            early_stopping_rounds=50,\n",
    "            verbose=False)"
   ]
  },
  {
   "cell_type": "code",
   "execution_count": 39,
   "metadata": {},
   "outputs": [
    {
     "data": {
      "text/plain": [
       "array([[83479,   703],\n",
       "       [ 4871,   824]])"
      ]
     },
     "execution_count": 39,
     "metadata": {},
     "output_type": "execute_result"
    }
   ],
   "source": [
    "# greatly increased false negs, decreased fals pos, but also increased true negs\n",
    "gbm6_cm = confusion_matrix(yval, boost6.predict(xval))\n",
    "gbm6_cm"
   ]
  },
  {
   "cell_type": "code",
   "execution_count": 40,
   "metadata": {},
   "outputs": [
    {
     "name": "stdout",
     "output_type": "stream",
     "text": [
      "              precision    recall  f1-score   support\n",
      "\n",
      "           0       0.94      0.99      0.97     84182\n",
      "           1       0.54      0.14      0.23      5695\n",
      "\n",
      "    accuracy                           0.94     89877\n",
      "   macro avg       0.74      0.57      0.60     89877\n",
      "weighted avg       0.92      0.94      0.92     89877\n",
      "\n"
     ]
    }
   ],
   "source": [
    "print(classification_report(yval, boost6.predict(xval)))"
   ]
  },
  {
   "cell_type": "code",
   "execution_count": 41,
   "metadata": {},
   "outputs": [],
   "source": [
    "boost7 = xgb.XGBClassifier(\n",
    "            n_estimators=30000,\n",
    "            max_depth=10,   # increased\n",
    "            objective='binary:logistic',\n",
    "            use_label_encoder=False,\n",
    "            learning_rate=.05, \n",
    "            subsample=1,          # row subsampling rate\n",
    "            min_child_weight=2,  \n",
    "            colsample_bytree=1)   #  feature subsampling rate\n",
    "\n",
    "eval_set =[(xtrain,ytrain), (xval, yval)]\n",
    "\n",
    "fit_model = boost7.fit(\n",
    "            xtrain, ytrain,\n",
    "            eval_set=eval_set,\n",
    "            eval_metric='error',  # metric: classification error. could also use AUC,etc\n",
    "            early_stopping_rounds=50,\n",
    "            verbose=False)"
   ]
  },
  {
   "cell_type": "code",
   "execution_count": 42,
   "metadata": {},
   "outputs": [
    {
     "data": {
      "text/plain": [
       "array([[83522,   660],\n",
       "       [ 4944,   751]])"
      ]
     },
     "execution_count": 42,
     "metadata": {},
     "output_type": "execute_result"
    }
   ],
   "source": [
    "gbm7_cm = confusion_matrix(yval, boost7.predict(xval))\n",
    "gbm7_cm"
   ]
  },
  {
   "cell_type": "code",
   "execution_count": 43,
   "metadata": {},
   "outputs": [
    {
     "name": "stdout",
     "output_type": "stream",
     "text": [
      "              precision    recall  f1-score   support\n",
      "\n",
      "           0       0.94      0.99      0.97     84182\n",
      "           1       0.53      0.13      0.21      5695\n",
      "\n",
      "    accuracy                           0.94     89877\n",
      "   macro avg       0.74      0.56      0.59     89877\n",
      "weighted avg       0.92      0.94      0.92     89877\n",
      "\n"
     ]
    }
   ],
   "source": [
    "print(classification_report(yval, boost7.predict(xval)))"
   ]
  },
  {
   "cell_type": "code",
   "execution_count": 44,
   "metadata": {},
   "outputs": [],
   "source": [
    "boost8 = xgb.XGBClassifier(\n",
    "            n_estimators=30000,\n",
    "            max_depth=9,   # middle ground?\n",
    "            objective='binary:logistic',\n",
    "            use_label_encoder=False,\n",
    "            learning_rate=.05, \n",
    "            subsample=1,          # row subsampling rate\n",
    "            min_child_weight=2,  \n",
    "            colsample_bytree=1)   #  feature subsampling rate\n",
    "\n",
    "eval_set =[(xtrain,ytrain), (xval, yval)]\n",
    "\n",
    "fit_model = boost8.fit(\n",
    "            xtrain, ytrain,\n",
    "            eval_set=eval_set,\n",
    "            eval_metric='error',  # metric: classification error. could also use AUC,etc\n",
    "            early_stopping_rounds=50,\n",
    "            verbose=False)"
   ]
  },
  {
   "cell_type": "code",
   "execution_count": 45,
   "metadata": {},
   "outputs": [
    {
     "data": {
      "text/plain": [
       "array([[83543,   639],\n",
       "       [ 4955,   740]])"
      ]
     },
     "execution_count": 45,
     "metadata": {},
     "output_type": "execute_result"
    }
   ],
   "source": [
    "gbm8_cm = confusion_matrix(yval, boost8.predict(xval))\n",
    "gbm8_cm"
   ]
  },
  {
   "cell_type": "code",
   "execution_count": 46,
   "metadata": {},
   "outputs": [
    {
     "name": "stdout",
     "output_type": "stream",
     "text": [
      "              precision    recall  f1-score   support\n",
      "\n",
      "           0       0.94      0.99      0.97     84182\n",
      "           1       0.54      0.13      0.21      5695\n",
      "\n",
      "    accuracy                           0.94     89877\n",
      "   macro avg       0.74      0.56      0.59     89877\n",
      "weighted avg       0.92      0.94      0.92     89877\n",
      "\n"
     ]
    }
   ],
   "source": [
    "print(classification_report(yval, boost8.predict(xval)))"
   ]
  },
  {
   "cell_type": "code",
   "execution_count": 47,
   "metadata": {},
   "outputs": [],
   "source": [
    "boost9 = xgb.XGBClassifier(\n",
    "            n_estimators=30000,\n",
    "            max_depth=15,   # go big\n",
    "            objective='binary:logistic',\n",
    "            use_label_encoder=False,\n",
    "            learning_rate=.05, \n",
    "            subsample=1,          # row subsampling rate\n",
    "            min_child_weight=2,  \n",
    "            colsample_bytree=1)   #  feature subsampling rate\n",
    "\n",
    "eval_set =[(xtrain,ytrain), (xval, yval)]\n",
    "\n",
    "fit_model = boost9.fit(\n",
    "            xtrain, ytrain,\n",
    "            eval_set=eval_set,\n",
    "            eval_metric='error',  # metric: classification error. could also use AUC,etc\n",
    "            early_stopping_rounds=50,\n",
    "            verbose=False)"
   ]
  },
  {
   "cell_type": "code",
   "execution_count": 48,
   "metadata": {},
   "outputs": [
    {
     "data": {
      "text/plain": [
       "array([[83367,   815],\n",
       "       [ 4829,   866]])"
      ]
     },
     "execution_count": 48,
     "metadata": {},
     "output_type": "execute_result"
    }
   ],
   "source": [
    "# improvements on the minority class\n",
    "gbm9_cm = confusion_matrix(yval, boost9.predict(xval))\n",
    "gbm9_cm"
   ]
  },
  {
   "cell_type": "code",
   "execution_count": 49,
   "metadata": {},
   "outputs": [
    {
     "name": "stdout",
     "output_type": "stream",
     "text": [
      "              precision    recall  f1-score   support\n",
      "\n",
      "           0       0.95      0.99      0.97     84182\n",
      "           1       0.52      0.15      0.23      5695\n",
      "\n",
      "    accuracy                           0.94     89877\n",
      "   macro avg       0.73      0.57      0.60     89877\n",
      "weighted avg       0.92      0.94      0.92     89877\n",
      "\n"
     ]
    }
   ],
   "source": [
    "print(classification_report(yval, boost9.predict(xval)))"
   ]
  },
  {
   "cell_type": "code",
   "execution_count": 50,
   "metadata": {},
   "outputs": [],
   "source": [
    "boost10 = xgb.XGBClassifier(\n",
    "            n_estimators=30000,\n",
    "            max_depth=20,   # go bigger\n",
    "            objective='binary:logistic',\n",
    "            use_label_encoder=False,\n",
    "            learning_rate=.05, \n",
    "            subsample=1,          # row subsampling rate\n",
    "            min_child_weight=2,  \n",
    "            colsample_bytree=1)   #  feature subsampling rate\n",
    "\n",
    "eval_set =[(xtrain,ytrain), (xval, yval)]\n",
    "\n",
    "fit_model = boost10.fit(\n",
    "            xtrain, ytrain,\n",
    "            eval_set=eval_set,\n",
    "            eval_metric='error',  # metric: classification error. could also use AUC,etc\n",
    "            early_stopping_rounds=50,\n",
    "            verbose=False)"
   ]
  },
  {
   "cell_type": "code",
   "execution_count": 51,
   "metadata": {},
   "outputs": [
    {
     "data": {
      "text/plain": [
       "array([[83355,   827],\n",
       "       [ 4824,   871]])"
      ]
     },
     "execution_count": 51,
     "metadata": {},
     "output_type": "execute_result"
    }
   ],
   "source": [
    "gbm10_cm = confusion_matrix(yval, boost10.predict(xval))\n",
    "gbm10_cm"
   ]
  },
  {
   "cell_type": "code",
   "execution_count": 52,
   "metadata": {},
   "outputs": [
    {
     "name": "stdout",
     "output_type": "stream",
     "text": [
      "              precision    recall  f1-score   support\n",
      "\n",
      "           0       0.95      0.99      0.97     84182\n",
      "           1       0.51      0.15      0.24      5695\n",
      "\n",
      "    accuracy                           0.94     89877\n",
      "   macro avg       0.73      0.57      0.60     89877\n",
      "weighted avg       0.92      0.94      0.92     89877\n",
      "\n"
     ]
    }
   ],
   "source": [
    "print(classification_report(yval, boost10.predict(xval)))"
   ]
  },
  {
   "cell_type": "code",
   "execution_count": 53,
   "metadata": {},
   "outputs": [],
   "source": [
    "boost11 = xgb.XGBClassifier(\n",
    "            n_estimators=30000,\n",
    "            max_depth=25,   # go even bigger\n",
    "            objective='binary:logistic',\n",
    "            use_label_encoder=False,\n",
    "            learning_rate=.05, \n",
    "            subsample=1,          # row subsampling rate\n",
    "            min_child_weight=2,  \n",
    "            colsample_bytree=1)   #  feature subsampling rate\n",
    "\n",
    "eval_set =[(xtrain,ytrain), (xval, yval)]\n",
    "\n",
    "fit_model = boost11.fit(\n",
    "            xtrain, ytrain,\n",
    "            eval_set=eval_set,\n",
    "            eval_metric='error',  # metric: classification error. could also use AUC,etc\n",
    "            early_stopping_rounds=50,\n",
    "            verbose=False)"
   ]
  },
  {
   "cell_type": "code",
   "execution_count": 54,
   "metadata": {},
   "outputs": [
    {
     "data": {
      "text/plain": [
       "array([[83355,   827],\n",
       "       [ 4824,   871]])"
      ]
     },
     "execution_count": 54,
     "metadata": {},
     "output_type": "execute_result"
    }
   ],
   "source": [
    "# no change\n",
    "gbm11_cm = confusion_matrix(yval, boost11.predict(xval))\n",
    "gbm11_cm"
   ]
  },
  {
   "cell_type": "code",
   "execution_count": 55,
   "metadata": {},
   "outputs": [
    {
     "name": "stdout",
     "output_type": "stream",
     "text": [
      "              precision    recall  f1-score   support\n",
      "\n",
      "           0       0.95      0.99      0.97     84182\n",
      "           1       0.51      0.15      0.24      5695\n",
      "\n",
      "    accuracy                           0.94     89877\n",
      "   macro avg       0.73      0.57      0.60     89877\n",
      "weighted avg       0.92      0.94      0.92     89877\n",
      "\n"
     ]
    }
   ],
   "source": [
    "print(classification_report(yval, boost11.predict(xval)))"
   ]
  },
  {
   "cell_type": "code",
   "execution_count": 56,
   "metadata": {},
   "outputs": [],
   "source": [
    "boost12 = xgb.XGBClassifier(\n",
    "            n_estimators=30000,\n",
    "            max_depth=30,   # go even bigger\n",
    "            objective='binary:logistic',\n",
    "            use_label_encoder=False,\n",
    "            learning_rate=.05, \n",
    "            subsample=1,          # row subsampling rate\n",
    "            min_child_weight=2,  \n",
    "            colsample_bytree=1)   #  feature subsampling rate\n",
    "\n",
    "eval_set =[(xtrain,ytrain), (xval, yval)]\n",
    "\n",
    "fit_model = boost12.fit(\n",
    "            xtrain, ytrain,\n",
    "            eval_set=eval_set,\n",
    "            eval_metric='error',  # metric: classification error. could also use AUC,etc\n",
    "            early_stopping_rounds=50,\n",
    "            verbose=False)"
   ]
  },
  {
   "cell_type": "code",
   "execution_count": 60,
   "metadata": {},
   "outputs": [
    {
     "data": {
      "text/plain": [
       "array([[83355,   827],\n",
       "       [ 4824,   871]])"
      ]
     },
     "execution_count": 60,
     "metadata": {},
     "output_type": "execute_result"
    }
   ],
   "source": [
    "# no change\n",
    "gbm12_cm = confusion_matrix(yval, boost12.predict(xval))\n",
    "gbm12_cm"
   ]
  },
  {
   "cell_type": "code",
   "execution_count": 58,
   "metadata": {},
   "outputs": [
    {
     "name": "stdout",
     "output_type": "stream",
     "text": [
      "              precision    recall  f1-score   support\n",
      "\n",
      "           0       0.95      0.99      0.97     84182\n",
      "           1       0.51      0.15      0.24      5695\n",
      "\n",
      "    accuracy                           0.94     89877\n",
      "   macro avg       0.73      0.57      0.60     89877\n",
      "weighted avg       0.92      0.94      0.92     89877\n",
      "\n"
     ]
    }
   ],
   "source": [
    "print(classification_report(yval, boost12.predict(xval)))"
   ]
  },
  {
   "cell_type": "code",
   "execution_count": 59,
   "metadata": {},
   "outputs": [],
   "source": [
    "boost13 = xgb.XGBClassifier(\n",
    "            n_estimators=30000,\n",
    "            max_depth=15,   # settled here at 15\n",
    "            objective='binary:logistic',\n",
    "            use_label_encoder=False,\n",
    "            learning_rate=.04, # decrease\n",
    "            subsample=1,          # row subsampling rate\n",
    "            min_child_weight=2,  \n",
    "            colsample_bytree=1)   #  feature subsampling rate\n",
    "\n",
    "eval_set =[(xtrain,ytrain), (xval, yval)]\n",
    "\n",
    "fit_model = boost13.fit(\n",
    "            xtrain, ytrain,\n",
    "            eval_set=eval_set,\n",
    "            eval_metric='error',  # metric: classification error. could also use AUC,etc\n",
    "            early_stopping_rounds=50,\n",
    "            verbose=False)"
   ]
  },
  {
   "cell_type": "code",
   "execution_count": 61,
   "metadata": {},
   "outputs": [
    {
     "data": {
      "text/plain": [
       "array([[83365,   817],\n",
       "       [ 4828,   867]])"
      ]
     },
     "execution_count": 61,
     "metadata": {},
     "output_type": "execute_result"
    }
   ],
   "source": [
    "gbm13_cm = confusion_matrix(yval, boost13.predict(xval))\n",
    "gbm13_cm"
   ]
  },
  {
   "cell_type": "code",
   "execution_count": 62,
   "metadata": {},
   "outputs": [
    {
     "name": "stdout",
     "output_type": "stream",
     "text": [
      "              precision    recall  f1-score   support\n",
      "\n",
      "           0       0.95      0.99      0.97     84182\n",
      "           1       0.51      0.15      0.23      5695\n",
      "\n",
      "    accuracy                           0.94     89877\n",
      "   macro avg       0.73      0.57      0.60     89877\n",
      "weighted avg       0.92      0.94      0.92     89877\n",
      "\n"
     ]
    }
   ],
   "source": [
    "print(classification_report(yval, boost13.predict(xval)))"
   ]
  },
  {
   "cell_type": "code",
   "execution_count": 63,
   "metadata": {},
   "outputs": [],
   "source": [
    "boost14 = xgb.XGBClassifier(\n",
    "            n_estimators=30000,\n",
    "            max_depth=15,   # settled here at 15\n",
    "            objective='binary:logistic',\n",
    "            use_label_encoder=False,\n",
    "            learning_rate=.03, # decrease\n",
    "            subsample=1,          # row subsampling rate\n",
    "            min_child_weight=2,  \n",
    "            colsample_bytree=1)   #  feature subsampling rate\n",
    "\n",
    "eval_set =[(xtrain,ytrain), (xval, yval)]\n",
    "\n",
    "fit_model = boost14.fit(\n",
    "            xtrain, ytrain,\n",
    "            eval_set=eval_set,\n",
    "            eval_metric='error',  # metric: classification error. could also use AUC,etc\n",
    "            early_stopping_rounds=50,\n",
    "            verbose=False)"
   ]
  },
  {
   "cell_type": "code",
   "execution_count": 64,
   "metadata": {},
   "outputs": [
    {
     "data": {
      "text/plain": [
       "array([[83365,   817],\n",
       "       [ 4827,   868]])"
      ]
     },
     "execution_count": 64,
     "metadata": {},
     "output_type": "execute_result"
    }
   ],
   "source": [
    "# precision increase of 1 minority class datapoint - best so far\n",
    "gbm14_cm = confusion_matrix(yval, boost14.predict(xval))\n",
    "gbm14_cm"
   ]
  },
  {
   "cell_type": "code",
   "execution_count": 65,
   "metadata": {},
   "outputs": [
    {
     "name": "stdout",
     "output_type": "stream",
     "text": [
      "              precision    recall  f1-score   support\n",
      "\n",
      "           0       0.95      0.99      0.97     84182\n",
      "           1       0.52      0.15      0.24      5695\n",
      "\n",
      "    accuracy                           0.94     89877\n",
      "   macro avg       0.73      0.57      0.60     89877\n",
      "weighted avg       0.92      0.94      0.92     89877\n",
      "\n"
     ]
    }
   ],
   "source": [
    "print(classification_report(yval, boost14.predict(xval)))"
   ]
  },
  {
   "cell_type": "code",
   "execution_count": 66,
   "metadata": {},
   "outputs": [],
   "source": [
    "boost15 = xgb.XGBClassifier(\n",
    "            n_estimators=30000,\n",
    "            max_depth=15,   # settled here at 15\n",
    "            objective='binary:logistic',\n",
    "            use_label_encoder=False,\n",
    "            learning_rate=.02, # decrease\n",
    "            subsample=1,          # row subsampling rate\n",
    "            min_child_weight=2,  \n",
    "            colsample_bytree=1)   #  feature subsampling rate\n",
    "\n",
    "eval_set =[(xtrain,ytrain), (xval, yval)]\n",
    "\n",
    "fit_model = boost15.fit(\n",
    "            xtrain, ytrain,\n",
    "            eval_set=eval_set,\n",
    "            eval_metric='error',  # metric: classification error. could also use AUC,etc\n",
    "            early_stopping_rounds=50,\n",
    "            verbose=False)"
   ]
  },
  {
   "cell_type": "code",
   "execution_count": 67,
   "metadata": {},
   "outputs": [
    {
     "data": {
      "text/plain": [
       "array([[83338,   844],\n",
       "       [ 4819,   876]])"
      ]
     },
     "execution_count": 67,
     "metadata": {},
     "output_type": "execute_result"
    }
   ],
   "source": [
    "gbm15_cm = confusion_matrix(yval, boost15.predict(xval))\n",
    "gbm15_cm"
   ]
  },
  {
   "cell_type": "code",
   "execution_count": 68,
   "metadata": {},
   "outputs": [
    {
     "name": "stdout",
     "output_type": "stream",
     "text": [
      "              precision    recall  f1-score   support\n",
      "\n",
      "           0       0.95      0.99      0.97     84182\n",
      "           1       0.51      0.15      0.24      5695\n",
      "\n",
      "    accuracy                           0.94     89877\n",
      "   macro avg       0.73      0.57      0.60     89877\n",
      "weighted avg       0.92      0.94      0.92     89877\n",
      "\n"
     ]
    }
   ],
   "source": [
    "print(classification_report(yval, boost15.predict(xval)))"
   ]
  },
  {
   "cell_type": "code",
   "execution_count": 69,
   "metadata": {},
   "outputs": [],
   "source": [
    "boost16 = xgb.XGBClassifier(\n",
    "            n_estimators=30000,\n",
    "            max_depth=15,   # settled here at 15\n",
    "            objective='binary:logistic',\n",
    "            use_label_encoder=False,\n",
    "            learning_rate=.03, # return to middle value\n",
    "            subsample=1,          # row subsampling rate\n",
    "            min_child_weight=1,  # decrease\n",
    "            colsample_bytree=1)   #  feature subsampling rate\n",
    "\n",
    "eval_set =[(xtrain,ytrain), (xval, yval)]\n",
    "\n",
    "fit_model = boost16.fit(\n",
    "            xtrain, ytrain,\n",
    "            eval_set=eval_set,\n",
    "            eval_metric='error',  # metric: classification error. could also use AUC,etc\n",
    "            early_stopping_rounds=50,\n",
    "            verbose=False)"
   ]
  },
  {
   "cell_type": "code",
   "execution_count": 70,
   "metadata": {},
   "outputs": [
    {
     "data": {
      "text/plain": [
       "array([[83333,   849],\n",
       "       [ 4835,   860]])"
      ]
     },
     "execution_count": 70,
     "metadata": {},
     "output_type": "execute_result"
    }
   ],
   "source": [
    "# moving away from the target\n",
    "gbm16_cm = confusion_matrix(yval, boost16.predict(xval))\n",
    "gbm16_cm"
   ]
  },
  {
   "cell_type": "code",
   "execution_count": 71,
   "metadata": {},
   "outputs": [
    {
     "name": "stdout",
     "output_type": "stream",
     "text": [
      "              precision    recall  f1-score   support\n",
      "\n",
      "           0       0.95      0.99      0.97     84182\n",
      "           1       0.50      0.15      0.23      5695\n",
      "\n",
      "    accuracy                           0.94     89877\n",
      "   macro avg       0.72      0.57      0.60     89877\n",
      "weighted avg       0.92      0.94      0.92     89877\n",
      "\n"
     ]
    }
   ],
   "source": [
    "print(classification_report(yval, boost16.predict(xval)))"
   ]
  },
  {
   "cell_type": "code",
   "execution_count": 72,
   "metadata": {},
   "outputs": [],
   "source": [
    "boost17 = xgb.XGBClassifier(\n",
    "            n_estimators=30000,\n",
    "            max_depth=15,   # settled here at 15\n",
    "            objective='binary:logistic',\n",
    "            use_label_encoder=False,\n",
    "            learning_rate=.03, # return to middle value\n",
    "            subsample=1,          # row subsampling rate\n",
    "            min_child_weight=3,  # increase\n",
    "            colsample_bytree=1)   #  feature subsampling rate\n",
    "\n",
    "eval_set =[(xtrain,ytrain), (xval, yval)]\n",
    "\n",
    "fit_model = boost17.fit(\n",
    "            xtrain, ytrain,\n",
    "            eval_set=eval_set,\n",
    "            eval_metric='error',  # metric: classification error. could also use AUC,etc\n",
    "            early_stopping_rounds=50,\n",
    "            verbose=False)"
   ]
  },
  {
   "cell_type": "code",
   "execution_count": 73,
   "metadata": {},
   "outputs": [
    {
     "data": {
      "text/plain": [
       "array([[83337,   845],\n",
       "       [ 4816,   879]])"
      ]
     },
     "execution_count": 73,
     "metadata": {},
     "output_type": "execute_result"
    }
   ],
   "source": [
    "gbm17_cm = confusion_matrix(yval, boost17.predict(xval))\n",
    "gbm17_cm"
   ]
  },
  {
   "cell_type": "code",
   "execution_count": 74,
   "metadata": {},
   "outputs": [
    {
     "name": "stdout",
     "output_type": "stream",
     "text": [
      "              precision    recall  f1-score   support\n",
      "\n",
      "           0       0.95      0.99      0.97     84182\n",
      "           1       0.51      0.15      0.24      5695\n",
      "\n",
      "    accuracy                           0.94     89877\n",
      "   macro avg       0.73      0.57      0.60     89877\n",
      "weighted avg       0.92      0.94      0.92     89877\n",
      "\n"
     ]
    }
   ],
   "source": [
    "print(classification_report(yval, boost17.predict(xval)))"
   ]
  },
  {
   "cell_type": "code",
   "execution_count": 75,
   "metadata": {},
   "outputs": [],
   "source": [
    "boost18 = xgb.XGBClassifier(\n",
    "            n_estimators=30000,\n",
    "            max_depth=15,   # settled here at 15\n",
    "            objective='binary:logistic',\n",
    "            use_label_encoder=False,\n",
    "            learning_rate=.03, \n",
    "            subsample=1,          # row subsampling rate\n",
    "            min_child_weight=5,  \n",
    "            colsample_bytree=1)   #  feature subsampling rate\n",
    "\n",
    "eval_set =[(xtrain,ytrain), (xval, yval)]\n",
    "\n",
    "fit_model = boost18.fit(\n",
    "            xtrain, ytrain,\n",
    "            eval_set=eval_set,\n",
    "            eval_metric='error',  # metric: classification error. could also use AUC,etc\n",
    "            early_stopping_rounds=50,\n",
    "            verbose=False)"
   ]
  },
  {
   "cell_type": "code",
   "execution_count": 76,
   "metadata": {},
   "outputs": [
    {
     "data": {
      "text/plain": [
       "array([[83351,   831],\n",
       "       [ 4819,   876]])"
      ]
     },
     "execution_count": 76,
     "metadata": {},
     "output_type": "execute_result"
    }
   ],
   "source": [
    "gbm18_cm = confusion_matrix(yval, boost18.predict(xval))\n",
    "gbm18_cm"
   ]
  },
  {
   "cell_type": "code",
   "execution_count": 77,
   "metadata": {},
   "outputs": [
    {
     "name": "stdout",
     "output_type": "stream",
     "text": [
      "              precision    recall  f1-score   support\n",
      "\n",
      "           0       0.95      0.99      0.97     84182\n",
      "           1       0.51      0.15      0.24      5695\n",
      "\n",
      "    accuracy                           0.94     89877\n",
      "   macro avg       0.73      0.57      0.60     89877\n",
      "weighted avg       0.92      0.94      0.92     89877\n",
      "\n"
     ]
    }
   ],
   "source": [
    "print(classification_report(yval, boost18.predict(xval)))"
   ]
  },
  {
   "cell_type": "code",
   "execution_count": 78,
   "metadata": {},
   "outputs": [],
   "source": [
    "boost19 = xgb.XGBClassifier(\n",
    "            n_estimators=30000,\n",
    "            max_depth=15,   # settled here at 15\n",
    "            objective='binary:logistic',\n",
    "            use_label_encoder=False,\n",
    "            learning_rate=.03, # settled here at .03\n",
    "            subsample=.8,          # decreased - row subsampling rate\n",
    "            min_child_weight=2,  # settled here at 2\n",
    "            colsample_bytree=1)   #  feature subsampling rate\n",
    "\n",
    "eval_set =[(xtrain,ytrain), (xval, yval)]\n",
    "\n",
    "fit_model = boost19.fit(\n",
    "            xtrain, ytrain,\n",
    "            eval_set=eval_set,\n",
    "            eval_metric='error',  # metric: classification error. could also use AUC,etc\n",
    "            early_stopping_rounds=50,\n",
    "            verbose=False)"
   ]
  },
  {
   "cell_type": "code",
   "execution_count": 79,
   "metadata": {},
   "outputs": [
    {
     "data": {
      "text/plain": [
       "array([[83389,   793],\n",
       "       [ 4854,   841]])"
      ]
     },
     "execution_count": 79,
     "metadata": {},
     "output_type": "execute_result"
    }
   ],
   "source": [
    "gbm19_cm = confusion_matrix(yval, boost19.predict(xval))\n",
    "gbm19_cm"
   ]
  },
  {
   "cell_type": "code",
   "execution_count": 80,
   "metadata": {},
   "outputs": [
    {
     "name": "stdout",
     "output_type": "stream",
     "text": [
      "              precision    recall  f1-score   support\n",
      "\n",
      "           0       0.94      0.99      0.97     84182\n",
      "           1       0.51      0.15      0.23      5695\n",
      "\n",
      "    accuracy                           0.94     89877\n",
      "   macro avg       0.73      0.57      0.60     89877\n",
      "weighted avg       0.92      0.94      0.92     89877\n",
      "\n"
     ]
    }
   ],
   "source": [
    "print(classification_report(yval, boost19.predict(xval)))"
   ]
  },
  {
   "cell_type": "code",
   "execution_count": 81,
   "metadata": {},
   "outputs": [],
   "source": [
    "boost20 = xgb.XGBClassifier(\n",
    "            n_estimators=30000,\n",
    "            max_depth=15,   # settled here at 15\n",
    "            objective='binary:logistic',\n",
    "            use_label_encoder=False,\n",
    "            learning_rate=.03, # settled here at .03\n",
    "            subsample=.7,          # decreased - row subsampling rate\n",
    "            min_child_weight=2,  # settled here at 2\n",
    "            colsample_bytree=1)   #  feature subsampling rate\n",
    "\n",
    "eval_set =[(xtrain,ytrain), (xval, yval)]\n",
    "\n",
    "fit_model = boost20.fit(\n",
    "            xtrain, ytrain,\n",
    "            eval_set=eval_set,\n",
    "            eval_metric='error',  # metric: classification error. could also use AUC,etc\n",
    "            early_stopping_rounds=50,\n",
    "            verbose=False)"
   ]
  },
  {
   "cell_type": "code",
   "execution_count": 82,
   "metadata": {},
   "outputs": [
    {
     "data": {
      "text/plain": [
       "array([[83385,   797],\n",
       "       [ 4839,   856]])"
      ]
     },
     "execution_count": 82,
     "metadata": {},
     "output_type": "execute_result"
    }
   ],
   "source": [
    "gbm20_cm = confusion_matrix(yval, boost20.predict(xval))\n",
    "gbm20_cm"
   ]
  },
  {
   "cell_type": "code",
   "execution_count": 83,
   "metadata": {},
   "outputs": [
    {
     "name": "stdout",
     "output_type": "stream",
     "text": [
      "              precision    recall  f1-score   support\n",
      "\n",
      "           0       0.95      0.99      0.97     84182\n",
      "           1       0.52      0.15      0.23      5695\n",
      "\n",
      "    accuracy                           0.94     89877\n",
      "   macro avg       0.73      0.57      0.60     89877\n",
      "weighted avg       0.92      0.94      0.92     89877\n",
      "\n"
     ]
    }
   ],
   "source": [
    "print(classification_report(yval, boost20.predict(xval)))"
   ]
  },
  {
   "cell_type": "code",
   "execution_count": 84,
   "metadata": {},
   "outputs": [],
   "source": [
    "boost21 = xgb.XGBClassifier(\n",
    "            n_estimators=30000,\n",
    "            max_depth=15,   # settled here at 15\n",
    "            objective='binary:logistic',\n",
    "            use_label_encoder=False,\n",
    "            learning_rate=.03, # settled here at .03\n",
    "            subsample=.6,          # decreased - row subsampling rate\n",
    "            min_child_weight=2,  # settled here at 2\n",
    "            colsample_bytree=1)   #  feature subsampling rate\n",
    "\n",
    "eval_set =[(xtrain,ytrain), (xval, yval)]\n",
    "\n",
    "fit_model = boost21.fit(\n",
    "            xtrain, ytrain,\n",
    "            eval_set=eval_set,\n",
    "            eval_metric='error',  # metric: classification error. could also use AUC,etc\n",
    "            early_stopping_rounds=50,\n",
    "            verbose=False)"
   ]
  },
  {
   "cell_type": "code",
   "execution_count": 85,
   "metadata": {},
   "outputs": [
    {
     "data": {
      "text/plain": [
       "array([[83414,   768],\n",
       "       [ 4861,   834]])"
      ]
     },
     "execution_count": 85,
     "metadata": {},
     "output_type": "execute_result"
    }
   ],
   "source": [
    "gbm21_cm = confusion_matrix(yval, boost21.predict(xval))\n",
    "gbm21_cm"
   ]
  },
  {
   "cell_type": "code",
   "execution_count": 86,
   "metadata": {},
   "outputs": [
    {
     "name": "stdout",
     "output_type": "stream",
     "text": [
      "              precision    recall  f1-score   support\n",
      "\n",
      "           0       0.94      0.99      0.97     84182\n",
      "           1       0.52      0.15      0.23      5695\n",
      "\n",
      "    accuracy                           0.94     89877\n",
      "   macro avg       0.73      0.57      0.60     89877\n",
      "weighted avg       0.92      0.94      0.92     89877\n",
      "\n"
     ]
    }
   ],
   "source": [
    "print(classification_report(yval, boost21.predict(xval)))"
   ]
  },
  {
   "cell_type": "code",
   "execution_count": 87,
   "metadata": {},
   "outputs": [],
   "source": [
    "boost22 = xgb.XGBClassifier(\n",
    "            n_estimators=30000,\n",
    "            max_depth=15,   # settled here at 15\n",
    "            objective='binary:logistic',\n",
    "            use_label_encoder=False,\n",
    "            learning_rate=.03, # settled here at .03\n",
    "            subsample=.5,          # decreased - row subsampling rate\n",
    "            # does more randomness in the rows help here?\n",
    "            min_child_weight=2,  # settled here at 2\n",
    "            colsample_bytree=1)   #  feature subsampling rate\n",
    "\n",
    "eval_set =[(xtrain,ytrain), (xval, yval)]\n",
    "\n",
    "fit_model = boost22.fit(\n",
    "            xtrain, ytrain,\n",
    "            eval_set=eval_set,\n",
    "            eval_metric='error',  # metric: classification error. could also use AUC,etc\n",
    "            early_stopping_rounds=50,\n",
    "            verbose=False)"
   ]
  },
  {
   "cell_type": "code",
   "execution_count": 88,
   "metadata": {},
   "outputs": [
    {
     "data": {
      "text/plain": [
       "array([[83415,   767],\n",
       "       [ 4862,   833]])"
      ]
     },
     "execution_count": 88,
     "metadata": {},
     "output_type": "execute_result"
    }
   ],
   "source": [
    "gbm22_cm = confusion_matrix(yval, boost22.predict(xval))\n",
    "gbm22_cm"
   ]
  },
  {
   "cell_type": "code",
   "execution_count": 89,
   "metadata": {},
   "outputs": [
    {
     "name": "stdout",
     "output_type": "stream",
     "text": [
      "              precision    recall  f1-score   support\n",
      "\n",
      "           0       0.94      0.99      0.97     84182\n",
      "           1       0.52      0.15      0.23      5695\n",
      "\n",
      "    accuracy                           0.94     89877\n",
      "   macro avg       0.73      0.57      0.60     89877\n",
      "weighted avg       0.92      0.94      0.92     89877\n",
      "\n"
     ]
    }
   ],
   "source": [
    "# more randomness in the rows does not seem to help accuracy here\n",
    "print(classification_report(yval, boost22.predict(xval)))"
   ]
  },
  {
   "cell_type": "code",
   "execution_count": 90,
   "metadata": {},
   "outputs": [],
   "source": [
    "boost23 = xgb.XGBClassifier(\n",
    "            n_estimators=30000,\n",
    "            max_depth=15,   # settled here at 15\n",
    "            objective='binary:logistic',\n",
    "            use_label_encoder=False,\n",
    "            learning_rate=.03, # settled here at .03\n",
    "            subsample=1,          # settled - row subsampling rate\n",
    "            min_child_weight=2,  \n",
    "            colsample_bytree=.8)   #  feature subsampling rate\n",
    "            # how about fewer features/randomness in features?\n",
    "\n",
    "eval_set =[(xtrain,ytrain), (xval, yval)]\n",
    "\n",
    "fit_model = boost23.fit(\n",
    "            xtrain, ytrain,\n",
    "            eval_set=eval_set,\n",
    "            eval_metric='error',  # metric: classification error. could also use AUC,etc\n",
    "            early_stopping_rounds=50,\n",
    "            verbose=False)"
   ]
  },
  {
   "cell_type": "code",
   "execution_count": 91,
   "metadata": {},
   "outputs": [
    {
     "data": {
      "text/plain": [
       "array([[83772,   410],\n",
       "       [ 5198,   497]])"
      ]
     },
     "execution_count": 91,
     "metadata": {},
     "output_type": "execute_result"
    }
   ],
   "source": [
    "gbm23_cm = confusion_matrix(yval, boost23.predict(xval))\n",
    "gbm23_cm"
   ]
  },
  {
   "cell_type": "code",
   "execution_count": 92,
   "metadata": {},
   "outputs": [
    {
     "name": "stdout",
     "output_type": "stream",
     "text": [
      "              precision    recall  f1-score   support\n",
      "\n",
      "           0       0.94      1.00      0.97     84182\n",
      "           1       0.55      0.09      0.15      5695\n",
      "\n",
      "    accuracy                           0.94     89877\n",
      "   macro avg       0.74      0.54      0.56     89877\n",
      "weighted avg       0.92      0.94      0.92     89877\n",
      "\n"
     ]
    }
   ],
   "source": [
    "# better precision, worse recall in minority class, worse F1\n",
    "print(classification_report(yval, boost23.predict(xval)))"
   ]
  },
  {
   "cell_type": "code",
   "execution_count": 93,
   "metadata": {},
   "outputs": [],
   "source": [
    "boost24 = xgb.XGBClassifier(\n",
    "            n_estimators=30000,\n",
    "            max_depth=15,   # settled here at 15\n",
    "            objective='binary:logistic',\n",
    "            use_label_encoder=False,\n",
    "            learning_rate=.03, # settled here at .03\n",
    "            subsample=1,          # settled - row subsampling rate\n",
    "            min_child_weight=2,  \n",
    "            colsample_bytree=.9)   #  feature subsampling rate\n",
    "            # middle ground in features/randomness in features?\n",
    "\n",
    "eval_set =[(xtrain,ytrain), (xval, yval)]\n",
    "\n",
    "fit_model = boost24.fit(\n",
    "            xtrain, ytrain,\n",
    "            eval_set=eval_set,\n",
    "            eval_metric='error',  # metric: classification error. could also use AUC,etc\n",
    "            early_stopping_rounds=50,\n",
    "            verbose=False)"
   ]
  },
  {
   "cell_type": "code",
   "execution_count": 94,
   "metadata": {},
   "outputs": [
    {
     "data": {
      "text/plain": [
       "array([[83734,   448],\n",
       "       [ 5159,   536]])"
      ]
     },
     "execution_count": 94,
     "metadata": {},
     "output_type": "execute_result"
    }
   ],
   "source": [
    "gbm24_cm = confusion_matrix(yval, boost24.predict(xval))\n",
    "gbm24_cm"
   ]
  },
  {
   "cell_type": "code",
   "execution_count": 97,
   "metadata": {},
   "outputs": [
    {
     "name": "stdout",
     "output_type": "stream",
     "text": [
      "              precision    recall  f1-score   support\n",
      "\n",
      "           0       0.94      0.99      0.97     84182\n",
      "           1       0.54      0.09      0.16      5695\n",
      "\n",
      "    accuracy                           0.94     89877\n",
      "   macro avg       0.74      0.54      0.56     89877\n",
      "weighted avg       0.92      0.94      0.92     89877\n",
      "\n"
     ]
    }
   ],
   "source": [
    "# no improvement\n",
    "print(classification_report(yval, boost24.predict(xval)))"
   ]
  },
  {
   "cell_type": "code",
   "execution_count": 98,
   "metadata": {},
   "outputs": [],
   "source": [
    "boost25 = xgb.XGBClassifier(\n",
    "            n_estimators=30000,\n",
    "            max_depth=15,   # settled here at 15\n",
    "            objective='binary:logistic',\n",
    "            use_label_encoder=False,\n",
    "            learning_rate=.03, # settled here at .03\n",
    "            subsample=1,          # settled - row subsampling rate\n",
    "            min_child_weight=2,  \n",
    "            colsample_bytree=.5)   #  feature subsampling rate\n",
    "            # middle ground in features/randomness in features?\n",
    "\n",
    "eval_set =[(xtrain,ytrain), (xval, yval)]\n",
    "\n",
    "fit_model = boost25.fit(\n",
    "            xtrain, ytrain,\n",
    "            eval_set=eval_set,\n",
    "            eval_metric='error',  # metric: classification error. could also use AUC,etc\n",
    "            early_stopping_rounds=50,\n",
    "            verbose=False)"
   ]
  },
  {
   "cell_type": "code",
   "execution_count": 99,
   "metadata": {},
   "outputs": [
    {
     "data": {
      "text/plain": [
       "array([[84105,    77],\n",
       "       [ 5558,   137]])"
      ]
     },
     "execution_count": 99,
     "metadata": {},
     "output_type": "execute_result"
    }
   ],
   "source": [
    "gbm25_cm = confusion_matrix(yval, boost25.predict(xval))\n",
    "gbm25_cm"
   ]
  },
  {
   "cell_type": "code",
   "execution_count": 100,
   "metadata": {},
   "outputs": [
    {
     "name": "stdout",
     "output_type": "stream",
     "text": [
      "              precision    recall  f1-score   support\n",
      "\n",
      "           0       0.94      1.00      0.97     84182\n",
      "           1       0.64      0.02      0.05      5695\n",
      "\n",
      "    accuracy                           0.94     89877\n",
      "   macro avg       0.79      0.51      0.51     89877\n",
      "weighted avg       0.92      0.94      0.91     89877\n",
      "\n"
     ]
    }
   ],
   "source": [
    "# precision increasing at expense of recall due to features decreasing\n",
    "print(classification_report(yval, boost25.predict(xval)))"
   ]
  },
  {
   "cell_type": "code",
   "execution_count": 101,
   "metadata": {},
   "outputs": [],
   "source": [
    "boost26 = xgb.XGBClassifier(\n",
    "            n_estimators=30000,\n",
    "            max_depth=15,   # settled here at 15\n",
    "            objective='binary:logistic',\n",
    "            use_label_encoder=False,\n",
    "            learning_rate=.03, # settled here at .03\n",
    "            subsample=1,          # settled - row subsampling rate\n",
    "            min_child_weight=2,\n",
    "            reg_lambda=.8,        # default = 1, try lowering it\n",
    "            colsample_bytree=1)   #  settled here at 1 - feature subsampling rate\n",
    "          \n",
    "eval_set =[(xtrain,ytrain), (xval, yval)]\n",
    "\n",
    "fit_model = boost26.fit(\n",
    "            xtrain, ytrain,\n",
    "            eval_set=eval_set,\n",
    "            eval_metric='error',  # metric: classification error. could also use AUC,etc\n",
    "            early_stopping_rounds=50,\n",
    "            verbose=False)"
   ]
  },
  {
   "cell_type": "code",
   "execution_count": 102,
   "metadata": {},
   "outputs": [
    {
     "data": {
      "text/plain": [
       "array([[83365,   817],\n",
       "       [ 4828,   867]])"
      ]
     },
     "execution_count": 102,
     "metadata": {},
     "output_type": "execute_result"
    }
   ],
   "source": [
    "gbm26_cm = confusion_matrix(yval, boost26.predict(xval))\n",
    "gbm26_cm"
   ]
  },
  {
   "cell_type": "code",
   "execution_count": 103,
   "metadata": {},
   "outputs": [
    {
     "name": "stdout",
     "output_type": "stream",
     "text": [
      "              precision    recall  f1-score   support\n",
      "\n",
      "           0       0.95      0.99      0.97     84182\n",
      "           1       0.51      0.15      0.23      5695\n",
      "\n",
      "    accuracy                           0.94     89877\n",
      "   macro avg       0.73      0.57      0.60     89877\n",
      "weighted avg       0.92      0.94      0.92     89877\n",
      "\n"
     ]
    }
   ],
   "source": [
    "print(classification_report(yval, boost26.predict(xval)))"
   ]
  },
  {
   "cell_type": "code",
   "execution_count": 104,
   "metadata": {},
   "outputs": [],
   "source": [
    "boost27 = xgb.XGBClassifier(\n",
    "            n_estimators=30000,\n",
    "            max_depth=15,   # settled here at 15\n",
    "            objective='binary:logistic',\n",
    "            use_label_encoder=False,\n",
    "            learning_rate=.03, # settled\n",
    "            subsample=1,          # settled - row subsampling rate\n",
    "            min_child_weight=2,   # settled\n",
    "            reg_lambda=.7,       # lowering?\n",
    "            colsample_bytree=1)   # settled - feature subsampling rate\n",
    "\n",
    "eval_set =[(xtrain,ytrain), (xval, yval)]\n",
    "\n",
    "fit_model = boost27.fit(\n",
    "            xtrain, ytrain,\n",
    "            eval_set=eval_set,\n",
    "            eval_metric='error',  # metric: classification error. could also use AUC,etc\n",
    "            early_stopping_rounds=50,\n",
    "            verbose=False)"
   ]
  },
  {
   "cell_type": "code",
   "execution_count": 106,
   "metadata": {},
   "outputs": [
    {
     "data": {
      "text/plain": [
       "array([[83365,   817],\n",
       "       [ 4827,   868]])"
      ]
     },
     "execution_count": 106,
     "metadata": {},
     "output_type": "execute_result"
    }
   ],
   "source": [
    "gbm27_cm = confusion_matrix(yval, boost27.predict(xval))\n",
    "gbm27_cm"
   ]
  },
  {
   "cell_type": "code",
   "execution_count": 107,
   "metadata": {},
   "outputs": [
    {
     "name": "stdout",
     "output_type": "stream",
     "text": [
      "              precision    recall  f1-score   support\n",
      "\n",
      "           0       0.95      0.99      0.97     84182\n",
      "           1       0.52      0.15      0.24      5695\n",
      "\n",
      "    accuracy                           0.94     89877\n",
      "   macro avg       0.73      0.57      0.60     89877\n",
      "weighted avg       0.92      0.94      0.92     89877\n",
      "\n"
     ]
    }
   ],
   "source": [
    "print(classification_report(yval, boost27.predict(xval)))"
   ]
  },
  {
   "cell_type": "code",
   "execution_count": 108,
   "metadata": {},
   "outputs": [],
   "source": [
    "boost28 = xgb.XGBClassifier(\n",
    "            n_estimators=30000,\n",
    "            max_depth=15,   # settled here at 15\n",
    "            objective='binary:logistic',\n",
    "            use_label_encoder=False,\n",
    "            learning_rate=.03, # settled\n",
    "            subsample=1,          # settled - row subsampling rate\n",
    "            min_child_weight=2,   # settled\n",
    "            reg_lambda=.5,       # lowering?\n",
    "            colsample_bytree=1)   # settled - feature subsampling rate\n",
    "\n",
    "eval_set =[(xtrain,ytrain), (xval, yval)]\n",
    "\n",
    "fit_model = boost28.fit(\n",
    "            xtrain, ytrain,\n",
    "            eval_set=eval_set,\n",
    "            eval_metric='error',  # metric: classification error. could also use AUC,etc\n",
    "            early_stopping_rounds=50,\n",
    "            verbose=False)"
   ]
  },
  {
   "cell_type": "code",
   "execution_count": 109,
   "metadata": {},
   "outputs": [
    {
     "data": {
      "text/plain": [
       "array([[83364,   818],\n",
       "       [ 4828,   867]])"
      ]
     },
     "execution_count": 109,
     "metadata": {},
     "output_type": "execute_result"
    }
   ],
   "source": [
    "gbm28_cm = confusion_matrix(yval, boost28.predict(xval))\n",
    "gbm28_cm"
   ]
  },
  {
   "cell_type": "code",
   "execution_count": 110,
   "metadata": {},
   "outputs": [
    {
     "name": "stdout",
     "output_type": "stream",
     "text": [
      "              precision    recall  f1-score   support\n",
      "\n",
      "           0       0.95      0.99      0.97     84182\n",
      "           1       0.51      0.15      0.23      5695\n",
      "\n",
      "    accuracy                           0.94     89877\n",
      "   macro avg       0.73      0.57      0.60     89877\n",
      "weighted avg       0.92      0.94      0.92     89877\n",
      "\n"
     ]
    }
   ],
   "source": [
    "# moving in the wrong direction\n",
    "print(classification_report(yval, boost28.predict(xval)))"
   ]
  },
  {
   "cell_type": "code",
   "execution_count": 114,
   "metadata": {},
   "outputs": [],
   "source": [
    "boost29 = xgb.XGBClassifier(\n",
    "            n_estimators=30000,\n",
    "            max_depth=15,   # settled here at 15\n",
    "            objective='binary:logistic',\n",
    "            use_label_encoder=False,\n",
    "            learning_rate=.03, # settled\n",
    "            subsample=1,          # settled - row subsampling rate\n",
    "            min_child_weight=2,   # settled\n",
    "            reg_lambda=.000001,       # lowering?\n",
    "            colsample_bytree=1)   # settled - feature subsampling rate\n",
    "\n",
    "eval_set =[(xtrain,ytrain), (xval, yval)]\n",
    "\n",
    "fit_model = boost29.fit(\n",
    "            xtrain, ytrain,\n",
    "            eval_set=eval_set,\n",
    "            eval_metric='error',  # metric: classification error. could also use AUC,etc\n",
    "            early_stopping_rounds=50,\n",
    "            verbose=False)"
   ]
  },
  {
   "cell_type": "code",
   "execution_count": 115,
   "metadata": {},
   "outputs": [
    {
     "data": {
      "text/plain": [
       "array([[83337,   845],\n",
       "       [ 4819,   876]])"
      ]
     },
     "execution_count": 115,
     "metadata": {},
     "output_type": "execute_result"
    }
   ],
   "source": [
    "gbm29_cm = confusion_matrix(yval, boost29.predict(xval))\n",
    "gbm29_cm"
   ]
  },
  {
   "cell_type": "code",
   "execution_count": 116,
   "metadata": {},
   "outputs": [
    {
     "name": "stdout",
     "output_type": "stream",
     "text": [
      "              precision    recall  f1-score   support\n",
      "\n",
      "           0       0.95      0.99      0.97     84182\n",
      "           1       0.51      0.15      0.24      5695\n",
      "\n",
      "    accuracy                           0.94     89877\n",
      "   macro avg       0.73      0.57      0.60     89877\n",
      "weighted avg       0.92      0.94      0.92     89877\n",
      "\n"
     ]
    }
   ],
   "source": [
    "print(classification_report(yval, boost29.predict(xval)))"
   ]
  },
  {
   "cell_type": "markdown",
   "metadata": {},
   "source": [
    "### The Best Model on the Full Dataset"
   ]
  },
  {
   "cell_type": "code",
   "execution_count": 6,
   "metadata": {},
   "outputs": [],
   "source": [
    "# best xgboost model - finalized hyperparameters, no lambda\n",
    "\n",
    "boost14 = xgb.XGBClassifier(\n",
    "            n_estimators=30000,\n",
    "            max_depth=15,   \n",
    "            objective='binary:logistic',\n",
    "            use_label_encoder=False,\n",
    "            learning_rate=.03, \n",
    "            subsample=1,          # row subsampling rate\n",
    "            min_child_weight=2,  \n",
    "            colsample_bytree=1)   #  feature subsampling rate\n",
    "\n",
    "eval_set =[(xtrain,ytrain), (xval, yval)]\n",
    "\n",
    "fit_model = boost14.fit(\n",
    "            xtrain, ytrain,\n",
    "            eval_set=eval_set,\n",
    "            eval_metric='error',  # metric: classification error. could also use AUC,etc\n",
    "            early_stopping_rounds=50,\n",
    "            verbose=False)"
   ]
  },
  {
   "cell_type": "code",
   "execution_count": 8,
   "metadata": {},
   "outputs": [
    {
     "data": {
      "text/plain": [
       "array([[83365,   817],\n",
       "       [ 4827,   868]])"
      ]
     },
     "execution_count": 8,
     "metadata": {},
     "output_type": "execute_result"
    }
   ],
   "source": [
    "gbm14_cm = confusion_matrix(yval, boost14.predict(xval))\n",
    "gbm14_cm"
   ]
  },
  {
   "cell_type": "code",
   "execution_count": 9,
   "metadata": {},
   "outputs": [
    {
     "name": "stdout",
     "output_type": "stream",
     "text": [
      "              precision    recall  f1-score   support\n",
      "\n",
      "           0       0.95      0.99      0.97     84182\n",
      "           1       0.52      0.15      0.24      5695\n",
      "\n",
      "    accuracy                           0.94     89877\n",
      "   macro avg       0.73      0.57      0.60     89877\n",
      "weighted avg       0.92      0.94      0.92     89877\n",
      "\n"
     ]
    }
   ],
   "source": [
    "print(classification_report(yval, boost14.predict(xval)))"
   ]
  },
  {
   "cell_type": "code",
   "execution_count": 10,
   "metadata": {},
   "outputs": [
    {
     "data": {
      "image/png": "[encoded data removed]",
      "text/plain": [
       "<Figure size 648x432 with 1 Axes>"
      ]
     },
     "metadata": {},
     "output_type": "display_data"
    }
   ],
   "source": [
    "plt.barh(xtrain.columns, boost14.feature_importances_);"
   ]
  },
  {
   "cell_type": "code",
   "execution_count": 11,
   "metadata": {},
   "outputs": [
    {
     "data": {
      "image/png": "[encoded data removed]",
      "text/plain": [
       "<Figure size 1350x900 with 2 Axes>"
      ]
     },
     "metadata": {},
     "output_type": "display_data"
    }
   ],
   "source": [
    "plt.figure(dpi=150)\n",
    "sns.heatmap(gbm14_cm, cmap=plt.cm.Purples, annot=True, fmt='d', square=True,\n",
    "           xticklabels=['Living', 'Passed'],\n",
    "           yticklabels=['Living', 'Passed'])\n",
    "\n",
    "plt.xlabel('Predicted values')\n",
    "plt.ylabel('Actual values')\n",
    "plt.title('COVID Deaths - XGBoost')\n",
    "plt.savefig('COVID_XGB_conf_matrix', dpi=600, bbox_inches='tight');"
   ]
  },
  {
   "cell_type": "markdown",
   "metadata": {},
   "source": [
    "### XGBoost Conclusions\n",
    "\n",
    "XGBoost was able to get some better precision and recall on the minority class, the mortality class, than the logistic regression model.  However, the overall accuracy and F1 were very close.  \n",
    "\n",
    "Looking at the feature importance, it is clear that the overwhelming weight is placed on the patient_type feature.  I had already considered focusing in on only the hospitalized/inpatient patient_type, in order to parse out finer distinctions in the other features. This will likely also address a great deal of our class imbalance."
   ]
  },
  {
   "cell_type": "code",
   "execution_count": 12,
   "metadata": {},
   "outputs": [],
   "source": [
    "# to save xgb model as json automatically\n",
    "boost14.save_model('xgb_full_data_model.json')"
   ]
  },
  {
   "cell_type": "markdown",
   "metadata": {},
   "source": [
    "### Hospitalization / Inpatient Dataset"
   ]
  },
  {
   "cell_type": "code",
   "execution_count": 13,
   "metadata": {},
   "outputs": [],
   "source": [
    "covid_hosp = pd.read_json('covid_hosp.json', lines=True)"
   ]
  },
  {
   "cell_type": "code",
   "execution_count": 14,
   "metadata": {},
   "outputs": [],
   "source": [
    "features = ['sex','patient_type', 'pneumonia', 'diabetes', 'copd', 'asthma', 'inmsupr',\n",
    "       'hypertension', 'other_disease', 'cardiovascular', 'obesity',\n",
    "       'renal_chronic', 'tobacco', 'pregnancy',  'covid_res',\n",
    "       'contact_other_covid']\n",
    "\n",
    "xh = covid_hosp[features]\n",
    "yh = covid_hosp['passed']\n",
    "\n",
    "# train / test split\n",
    "xtrainh, xtesth, ytrainh, ytesth = train_test_split(xh, yh, test_size=0.2, \\\n",
    "                                                random_state=33, \\\n",
    "                                                stratify = yh.values)\n",
    "\n",
    "# train /validation split\n",
    "xtrainh, xvalh, ytrainh, yvalh = train_test_split(xtrainh, ytrainh, test_size=0.2, \\\n",
    "                                             random_state=33,\\\n",
    "                                             stratify=ytrainh.values)"
   ]
  },
  {
   "cell_type": "code",
   "execution_count": 17,
   "metadata": {},
   "outputs": [],
   "source": [
    "boost_h1 = xgb.XGBClassifier(\n",
    "            n_estimators=30000,\n",
    "            max_depth=15,   \n",
    "            objective='binary:logistic',\n",
    "            use_label_encoder=False,\n",
    "            learning_rate=.03, \n",
    "            subsample=1,          # row subsampling rate\n",
    "            min_child_weight=2,  \n",
    "            colsample_bytree=1)   #  feature subsampling rate\n",
    "\n",
    "eval_set_h =[(xtrainh,ytrainh), (xvalh, yvalh)]\n",
    "\n",
    "fit_model = boost_h1.fit(\n",
    "            xtrainh, ytrainh,\n",
    "            eval_set=eval_set,\n",
    "            eval_metric='error',  # metric: classification error. could also use AUC,etc\n",
    "            early_stopping_rounds=50,\n",
    "            verbose=False)"
   ]
  },
  {
   "cell_type": "code",
   "execution_count": 20,
   "metadata": {},
   "outputs": [
    {
     "data": {
      "text/plain": [
       "array([[13407,   729],\n",
       "       [ 4393,   731]])"
      ]
     },
     "execution_count": 20,
     "metadata": {},
     "output_type": "execute_result"
    }
   ],
   "source": [
    "gbm_h1_cm = confusion_matrix(yvalh, boost_h1.predict(xvalh))\n",
    "gbm_h1_cm"
   ]
  },
  {
   "cell_type": "code",
   "execution_count": 25,
   "metadata": {},
   "outputs": [
    {
     "name": "stdout",
     "output_type": "stream",
     "text": [
      "              precision    recall  f1-score   support\n",
      "\n",
      "           0       0.76      0.95      0.85     56540\n",
      "           1       0.56      0.16      0.25     20497\n",
      "\n",
      "    accuracy                           0.74     77037\n",
      "   macro avg       0.66      0.56      0.55     77037\n",
      "weighted avg       0.71      0.74      0.69     77037\n",
      "\n"
     ]
    }
   ],
   "source": [
    "# training set\n",
    "print(classification_report(ytrainh, boost_h1.predict(xtrainh)))"
   ]
  },
  {
   "cell_type": "code",
   "execution_count": 21,
   "metadata": {},
   "outputs": [
    {
     "name": "stdout",
     "output_type": "stream",
     "text": [
      "              precision    recall  f1-score   support\n",
      "\n",
      "           0       0.75      0.95      0.84     14136\n",
      "           1       0.50      0.14      0.22      5124\n",
      "\n",
      "    accuracy                           0.73     19260\n",
      "   macro avg       0.63      0.55      0.53     19260\n",
      "weighted avg       0.69      0.73      0.68     19260\n",
      "\n"
     ]
    }
   ],
   "source": [
    "# validation set\n",
    "print(classification_report(yvalh, boost_h1.predict(xvalh)))"
   ]
  },
  {
   "cell_type": "code",
   "execution_count": 26,
   "metadata": {},
   "outputs": [
    {
     "data": {
      "image/png": "[encoded data removed]",
      "text/plain": [
       "<Figure size 648x432 with 1 Axes>"
      ]
     },
     "metadata": {},
     "output_type": "display_data"
    }
   ],
   "source": [
    "plt.barh(xtrainh.columns, boost_h1.feature_importances_);"
   ]
  },
  {
   "cell_type": "markdown",
   "metadata": {},
   "source": [
    "### Immunosuppression Dataset"
   ]
  },
  {
   "cell_type": "code",
   "execution_count": 15,
   "metadata": {},
   "outputs": [],
   "source": [
    "covid_immun = pd.read_json('covid_immun.json', lines=True)"
   ]
  },
  {
   "cell_type": "code",
   "execution_count": 16,
   "metadata": {},
   "outputs": [],
   "source": [
    "features = ['sex','patient_type', 'pneumonia', 'diabetes', 'copd', 'asthma', 'inmsupr',\n",
    "       'hypertension', 'other_disease', 'cardiovascular', 'obesity',\n",
    "       'renal_chronic', 'tobacco', 'pregnancy',  'covid_res',\n",
    "       'contact_other_covid']\n",
    "\n",
    "xi = covid_clean[features]\n",
    "yi = covid_clean['passed']\n",
    "\n",
    "# train / test split\n",
    "xtraini, xtesti, ytraini, ytesti = train_test_split(xi, yi, test_size=0.2, \\\n",
    "                                                random_state=33, \\\n",
    "                                                stratify = yi.values)\n",
    "\n",
    "# train /validation split\n",
    "xtraini, xvali, ytraini, yvali = train_test_split(xtraini, ytraini, test_size=0.2, \\\n",
    "                                             random_state=33,\\\n",
    "                                             stratify=ytraini.values)"
   ]
  },
  {
   "cell_type": "code",
   "execution_count": 18,
   "metadata": {},
   "outputs": [],
   "source": [
    "boost_i1 = xgb.XGBClassifier(\n",
    "            n_estimators=30000,\n",
    "            max_depth=15,   \n",
    "            objective='binary:logistic',\n",
    "            use_label_encoder=False,\n",
    "            learning_rate=.03, \n",
    "            subsample=1,          # row subsampling rate\n",
    "            min_child_weight=2,  \n",
    "            colsample_bytree=1)   #  feature subsampling rate\n",
    "\n",
    "eval_set_i =[(xtraini,ytraini), (xvali, yvali)]\n",
    "\n",
    "fit_model = boost_i1.fit(\n",
    "            xtraini, ytraini,\n",
    "            eval_set=eval_set,\n",
    "            eval_metric='error',  # metric: classification error. could also use AUC,etc\n",
    "            early_stopping_rounds=50,\n",
    "            verbose=False)"
   ]
  },
  {
   "cell_type": "code",
   "execution_count": 22,
   "metadata": {},
   "outputs": [
    {
     "data": {
      "text/plain": [
       "array([[83307,   875],\n",
       "       [ 4825,   870]])"
      ]
     },
     "execution_count": 22,
     "metadata": {},
     "output_type": "execute_result"
    }
   ],
   "source": [
    "gbm_i1_cm = confusion_matrix(yvali, boost_i1.predict(xvali))\n",
    "gbm_i1_cm"
   ]
  },
  {
   "cell_type": "code",
   "execution_count": 24,
   "metadata": {},
   "outputs": [
    {
     "name": "stdout",
     "output_type": "stream",
     "text": [
      "              precision    recall  f1-score   support\n",
      "\n",
      "           0       0.95      0.99      0.97    336728\n",
      "           1       0.58      0.18      0.27     22779\n",
      "\n",
      "    accuracy                           0.94    359507\n",
      "   macro avg       0.76      0.59      0.62    359507\n",
      "weighted avg       0.92      0.94      0.92    359507\n",
      "\n"
     ]
    }
   ],
   "source": [
    "# train set\n",
    "print(classification_report(ytraini, boost_i1.predict(xtraini)))"
   ]
  },
  {
   "cell_type": "code",
   "execution_count": 23,
   "metadata": {},
   "outputs": [
    {
     "name": "stdout",
     "output_type": "stream",
     "text": [
      "              precision    recall  f1-score   support\n",
      "\n",
      "           0       0.95      0.99      0.97     84182\n",
      "           1       0.50      0.15      0.23      5695\n",
      "\n",
      "    accuracy                           0.94     89877\n",
      "   macro avg       0.72      0.57      0.60     89877\n",
      "weighted avg       0.92      0.94      0.92     89877\n",
      "\n"
     ]
    }
   ],
   "source": [
    "# validation set\n",
    "print(classification_report(yvali, boost_i1.predict(xvali)))"
   ]
  },
  {
   "cell_type": "code",
   "execution_count": 27,
   "metadata": {},
   "outputs": [
    {
     "data": {
      "image/png": "[encoded data removed]",
      "text/plain": [
       "<Figure size 648x432 with 1 Axes>"
      ]
     },
     "metadata": {},
     "output_type": "display_data"
    }
   ],
   "source": [
    "plt.barh(xtraini.columns, boost_i1.feature_importances_);"
   ]
  },
  {
   "cell_type": "code",
   "execution_count": 28,
   "metadata": {},
   "outputs": [
    {
     "data": {
      "text/plain": [
       "1    4679\n",
       "0    4225\n",
       "Name: patient_type, dtype: int64"
      ]
     },
     "execution_count": 28,
     "metadata": {},
     "output_type": "execute_result"
    }
   ],
   "source": [
    "covid_immun['patient_type'].value_counts()"
   ]
  }
 ],
 "metadata": {
  "kernelspec": {
   "display_name": "Python 3",
   "language": "python",
   "name": "python3"
  },
  "language_info": {
   "codemirror_mode": {
    "name": "ipython",
    "version": 3
   },
   "file_extension": ".py",
   "mimetype": "text/x-python",
   "name": "python",
   "nbconvert_exporter": "python",
   "pygments_lexer": "ipython3",
   "version": "3.8.5"
  }
 },
 "nbformat": 4,
 "nbformat_minor": 4
}
