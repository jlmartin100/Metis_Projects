{
 "cells": [
  {
   "cell_type": "code",
   "execution_count": 2,
   "metadata": {},
   "outputs": [],
   "source": [
    "import pandas as pd\n",
    "import numpy as np\n",
    "import scipy.stats as st\n",
    "\n",
    "from sklearn.model_selection import train_test_split\n",
    "from sklearn.linear_model import LogisticRegression\n",
    "from sklearn.neighbors import KNeighborsClassifier\n",
    "from sklearn.metrics import roc_auc_score, confusion_matrix, plot_confusion_matrix\n",
    "from sklearn.metrics import roc_curve, plot_roc_curve\n",
    "from sklearn.metrics import precision_score, recall_score\n",
    "from sklearn.metrics import precision_recall_curve,f1_score, fbeta_score, classification_report\n",
    "\n",
    "from sklearn.preprocessing import StandardScaler, OneHotEncoder\n",
    "\n",
    "import matplotlib.pyplot as plt\n",
    "import seaborn as sns\n",
    "import json"
   ]
  },
  {
   "cell_type": "markdown",
   "metadata": {},
   "source": [
    "## A Minimum Viable Product\n",
    "\n",
    "For a baseline, I constructed a logistic regression model with no regularization. I also tried out a K Nearest Neighbors model and a Naive Bayes model, though I expected due to class imbalances that these would not prove optimal. "
   ]
  },
  {
   "cell_type": "code",
   "execution_count": 3,
   "metadata": {},
   "outputs": [],
   "source": [
    "covid_clean = pd.read_json('covid_no_nan.json', lines=True)"
   ]
  },
  {
   "cell_type": "code",
   "execution_count": 4,
   "metadata": {},
   "outputs": [
    {
     "data": {
      "text/html": [
       "<div>\n",
       "<style scoped>\n",
       "    .dataframe tbody tr th:only-of-type {\n",
       "        vertical-align: middle;\n",
       "    }\n",
       "\n",
       "    .dataframe tbody tr th {\n",
       "        vertical-align: top;\n",
       "    }\n",
       "\n",
       "    .dataframe thead th {\n",
       "        text-align: right;\n",
       "    }\n",
       "</style>\n",
       "<table border=\"1\" class=\"dataframe\">\n",
       "  <thead>\n",
       "    <tr style=\"text-align: right;\">\n",
       "      <th></th>\n",
       "      <th>id</th>\n",
       "      <th>sex</th>\n",
       "      <th>patient_type</th>\n",
       "      <th>entry_date</th>\n",
       "      <th>date_symptoms</th>\n",
       "      <th>date_died</th>\n",
       "      <th>intubed</th>\n",
       "      <th>pneumonia</th>\n",
       "      <th>age</th>\n",
       "      <th>pregnancy</th>\n",
       "      <th>...</th>\n",
       "      <th>hypertension</th>\n",
       "      <th>other_disease</th>\n",
       "      <th>cardiovascular</th>\n",
       "      <th>obesity</th>\n",
       "      <th>renal_chronic</th>\n",
       "      <th>tobacco</th>\n",
       "      <th>contact_other_covid</th>\n",
       "      <th>covid_res</th>\n",
       "      <th>icu</th>\n",
       "      <th>passed</th>\n",
       "    </tr>\n",
       "  </thead>\n",
       "  <tbody>\n",
       "    <tr>\n",
       "      <th>0</th>\n",
       "      <td>033f0a</td>\n",
       "      <td>1</td>\n",
       "      <td>0</td>\n",
       "      <td>2020-06-24T00:00:00.000Z</td>\n",
       "      <td>2020-06-19T00:00:00.000Z</td>\n",
       "      <td>9999-99-99</td>\n",
       "      <td>0</td>\n",
       "      <td>0</td>\n",
       "      <td>46</td>\n",
       "      <td>0</td>\n",
       "      <td>...</td>\n",
       "      <td>0</td>\n",
       "      <td>0</td>\n",
       "      <td>0</td>\n",
       "      <td>0</td>\n",
       "      <td>0</td>\n",
       "      <td>0</td>\n",
       "      <td>0</td>\n",
       "      <td>1</td>\n",
       "      <td>0</td>\n",
       "      <td>0</td>\n",
       "    </tr>\n",
       "    <tr>\n",
       "      <th>1</th>\n",
       "      <td>18be58</td>\n",
       "      <td>1</td>\n",
       "      <td>1</td>\n",
       "      <td>2020-06-19T00:00:00.000Z</td>\n",
       "      <td>2020-06-19T00:00:00.000Z</td>\n",
       "      <td>9999-99-99</td>\n",
       "      <td>0</td>\n",
       "      <td>1</td>\n",
       "      <td>57</td>\n",
       "      <td>0</td>\n",
       "      <td>...</td>\n",
       "      <td>1</td>\n",
       "      <td>0</td>\n",
       "      <td>0</td>\n",
       "      <td>0</td>\n",
       "      <td>1</td>\n",
       "      <td>1</td>\n",
       "      <td>1</td>\n",
       "      <td>1</td>\n",
       "      <td>0</td>\n",
       "      <td>0</td>\n",
       "    </tr>\n",
       "    <tr>\n",
       "      <th>2</th>\n",
       "      <td>1e7e67</td>\n",
       "      <td>0</td>\n",
       "      <td>0</td>\n",
       "      <td>2020-06-08T00:00:00.000Z</td>\n",
       "      <td>2020-06-01T00:00:00.000Z</td>\n",
       "      <td>9999-99-99</td>\n",
       "      <td>0</td>\n",
       "      <td>0</td>\n",
       "      <td>65</td>\n",
       "      <td>0</td>\n",
       "      <td>...</td>\n",
       "      <td>1</td>\n",
       "      <td>0</td>\n",
       "      <td>0</td>\n",
       "      <td>0</td>\n",
       "      <td>0</td>\n",
       "      <td>0</td>\n",
       "      <td>0</td>\n",
       "      <td>1</td>\n",
       "      <td>0</td>\n",
       "      <td>0</td>\n",
       "    </tr>\n",
       "    <tr>\n",
       "      <th>3</th>\n",
       "      <td>003bcb</td>\n",
       "      <td>1</td>\n",
       "      <td>0</td>\n",
       "      <td>2020-06-08T00:00:00.000Z</td>\n",
       "      <td>2020-06-05T00:00:00.000Z</td>\n",
       "      <td>9999-99-99</td>\n",
       "      <td>0</td>\n",
       "      <td>0</td>\n",
       "      <td>39</td>\n",
       "      <td>0</td>\n",
       "      <td>...</td>\n",
       "      <td>0</td>\n",
       "      <td>0</td>\n",
       "      <td>0</td>\n",
       "      <td>0</td>\n",
       "      <td>0</td>\n",
       "      <td>0</td>\n",
       "      <td>1</td>\n",
       "      <td>1</td>\n",
       "      <td>0</td>\n",
       "      <td>0</td>\n",
       "    </tr>\n",
       "    <tr>\n",
       "      <th>4</th>\n",
       "      <td>1a8351</td>\n",
       "      <td>1</td>\n",
       "      <td>0</td>\n",
       "      <td>2020-06-08T00:00:00.000Z</td>\n",
       "      <td>2020-06-02T00:00:00.000Z</td>\n",
       "      <td>9999-99-99</td>\n",
       "      <td>0</td>\n",
       "      <td>0</td>\n",
       "      <td>45</td>\n",
       "      <td>0</td>\n",
       "      <td>...</td>\n",
       "      <td>0</td>\n",
       "      <td>0</td>\n",
       "      <td>0</td>\n",
       "      <td>0</td>\n",
       "      <td>0</td>\n",
       "      <td>1</td>\n",
       "      <td>0</td>\n",
       "      <td>1</td>\n",
       "      <td>0</td>\n",
       "      <td>0</td>\n",
       "    </tr>\n",
       "  </tbody>\n",
       "</table>\n",
       "<p>5 rows × 24 columns</p>\n",
       "</div>"
      ],
      "text/plain": [
       "       id  sex  patient_type                entry_date  \\\n",
       "0  033f0a    1             0  2020-06-24T00:00:00.000Z   \n",
       "1  18be58    1             1  2020-06-19T00:00:00.000Z   \n",
       "2  1e7e67    0             0  2020-06-08T00:00:00.000Z   \n",
       "3  003bcb    1             0  2020-06-08T00:00:00.000Z   \n",
       "4  1a8351    1             0  2020-06-08T00:00:00.000Z   \n",
       "\n",
       "              date_symptoms   date_died  intubed  pneumonia  age  pregnancy  \\\n",
       "0  2020-06-19T00:00:00.000Z  9999-99-99        0          0   46          0   \n",
       "1  2020-06-19T00:00:00.000Z  9999-99-99        0          1   57          0   \n",
       "2  2020-06-01T00:00:00.000Z  9999-99-99        0          0   65          0   \n",
       "3  2020-06-05T00:00:00.000Z  9999-99-99        0          0   39          0   \n",
       "4  2020-06-02T00:00:00.000Z  9999-99-99        0          0   45          0   \n",
       "\n",
       "   ...  hypertension  other_disease  cardiovascular  obesity  renal_chronic  \\\n",
       "0  ...             0              0               0        0              0   \n",
       "1  ...             1              0               0        0              1   \n",
       "2  ...             1              0               0        0              0   \n",
       "3  ...             0              0               0        0              0   \n",
       "4  ...             0              0               0        0              0   \n",
       "\n",
       "   tobacco  contact_other_covid  covid_res  icu  passed  \n",
       "0        0                    0          1    0       0  \n",
       "1        1                    1          1    0       0  \n",
       "2        0                    0          1    0       0  \n",
       "3        0                    1          1    0       0  \n",
       "4        1                    0          1    0       0  \n",
       "\n",
       "[5 rows x 24 columns]"
      ]
     },
     "execution_count": 4,
     "metadata": {},
     "output_type": "execute_result"
    }
   ],
   "source": [
    "covid_clean.head()"
   ]
  },
  {
   "cell_type": "code",
   "execution_count": 5,
   "metadata": {},
   "outputs": [
    {
     "data": {
      "text/plain": [
       "(561096, 24)"
      ]
     },
     "execution_count": 5,
     "metadata": {},
     "output_type": "execute_result"
    }
   ],
   "source": [
    "covid_clean.shape"
   ]
  },
  {
   "cell_type": "code",
   "execution_count": 6,
   "metadata": {},
   "outputs": [],
   "source": [
    "categoricals = [ 'sex','patient_type', 'pneumonia', 'diabetes', 'copd', 'asthma', 'inmsupr',\n",
    "       'hypertension', 'other_disease', 'cardiovascular', 'obesity',\n",
    "       'renal_chronic', 'tobacco', 'pregnancy', 'icu', 'intubed', 'covid_res',\n",
    "       'contact_other_covid', 'passed']"
   ]
  },
  {
   "cell_type": "code",
   "execution_count": 7,
   "metadata": {},
   "outputs": [],
   "source": [
    "covid_clean[categoricals] = covid_clean[categoricals].astype('category')"
   ]
  },
  {
   "cell_type": "code",
   "execution_count": 8,
   "metadata": {},
   "outputs": [
    {
     "data": {
      "text/plain": [
       "id                       object\n",
       "sex                    category\n",
       "patient_type           category\n",
       "entry_date               object\n",
       "date_symptoms            object\n",
       "date_died                object\n",
       "intubed                category\n",
       "pneumonia              category\n",
       "age                       int64\n",
       "pregnancy              category\n",
       "diabetes               category\n",
       "copd                   category\n",
       "asthma                 category\n",
       "inmsupr                category\n",
       "hypertension           category\n",
       "other_disease          category\n",
       "cardiovascular         category\n",
       "obesity                category\n",
       "renal_chronic          category\n",
       "tobacco                category\n",
       "contact_other_covid    category\n",
       "covid_res              category\n",
       "icu                    category\n",
       "passed                 category\n",
       "dtype: object"
      ]
     },
     "execution_count": 8,
     "metadata": {},
     "output_type": "execute_result"
    }
   ],
   "source": [
    "covid_clean.dtypes"
   ]
  },
  {
   "cell_type": "code",
   "execution_count": 9,
   "metadata": {},
   "outputs": [
    {
     "data": {
      "text/plain": [
       "0    552226\n",
       "1      8870\n",
       "Name: inmsupr, dtype: int64"
      ]
     },
     "execution_count": 9,
     "metadata": {},
     "output_type": "execute_result"
    }
   ],
   "source": [
    "covid_clean['inmsupr'].value_counts()"
   ]
  },
  {
   "cell_type": "code",
   "execution_count": 10,
   "metadata": {},
   "outputs": [],
   "source": [
    "# train / test split\n",
    "df_train, df_test = train_test_split(covid_clean, test_size=0.2, random_state=33, stratify=covid_clean['passed'].values)"
   ]
  },
  {
   "cell_type": "code",
   "execution_count": 11,
   "metadata": {},
   "outputs": [],
   "source": [
    "# train / validation split\n",
    "df_train, df_val = train_test_split(df_train, test_size=0.2, random_state=33, stratify=df_train['passed'].values)"
   ]
  },
  {
   "cell_type": "code",
   "execution_count": 12,
   "metadata": {},
   "outputs": [
    {
     "data": {
      "text/plain": [
       "Index(['id', 'sex', 'patient_type', 'entry_date', 'date_symptoms', 'date_died',\n",
       "       'intubed', 'pneumonia', 'age', 'pregnancy', 'diabetes', 'copd',\n",
       "       'asthma', 'inmsupr', 'hypertension', 'other_disease', 'cardiovascular',\n",
       "       'obesity', 'renal_chronic', 'tobacco', 'contact_other_covid',\n",
       "       'covid_res', 'icu', 'passed'],\n",
       "      dtype='object')"
      ]
     },
     "execution_count": 12,
     "metadata": {},
     "output_type": "execute_result"
    }
   ],
   "source": [
    "df_train.columns"
   ]
  },
  {
   "cell_type": "markdown",
   "metadata": {},
   "source": [
    "### Logistic Regression - A Baseline"
   ]
  },
  {
   "cell_type": "code",
   "execution_count": 16,
   "metadata": {},
   "outputs": [
    {
     "data": {
      "text/plain": [
       "LogisticRegression(C=100000, max_iter=5000)"
      ]
     },
     "execution_count": 16,
     "metadata": {},
     "output_type": "execute_result"
    }
   ],
   "source": [
    "lm_1 = LogisticRegression(C=100000,\n",
    "                         max_iter=5000)  # no regularization\n",
    "features = ['age', 'sex', 'patient_type', 'cardiovascular', 'hypertension', 'obesity', 'inmsupr','copd', 'other_disease', 'renal_chronic','tobacco', 'covid_res']\n",
    "X_train  = df_train[features]\n",
    "y_train = df_train['passed']\n",
    "\n",
    "scaler = StandardScaler()\n",
    "X_train = scaler.fit_transform(X_train)\n",
    "\n",
    "lm_1.fit(X_train, y_train)"
   ]
  },
  {
   "cell_type": "code",
   "execution_count": 17,
   "metadata": {},
   "outputs": [
    {
     "name": "stdout",
     "output_type": "stream",
     "text": [
      "intercept:  -4.2359663750958605\n",
      "coefs:  [[ 0.66590232  0.20633351  1.30744541 -0.01987385  0.05722235  0.10866261\n",
      "   0.02250625 -0.01110812  0.04030872  0.05858481 -0.03319011  0.1553724 ]]\n"
     ]
    }
   ],
   "source": [
    "print('intercept: ', lm_1.intercept_[0])\n",
    "print('coefs: ', lm_1.coef_)"
   ]
  },
  {
   "cell_type": "code",
   "execution_count": 18,
   "metadata": {},
   "outputs": [
    {
     "name": "stdout",
     "output_type": "stream",
     "text": [
      "              precision    recall  f1-score   support\n",
      "\n",
      "           0       0.94      0.99      0.97    336378\n",
      "           1       0.43      0.09      0.15     22722\n",
      "\n",
      "    accuracy                           0.93    359100\n",
      "   macro avg       0.68      0.54      0.56    359100\n",
      "weighted avg       0.91      0.93      0.91    359100\n",
      "\n"
     ]
    }
   ],
   "source": [
    "# scoring on training set\n",
    "print(classification_report(y_train, lm_1.predict(X_train)))"
   ]
  },
  {
   "cell_type": "code",
   "execution_count": 20,
   "metadata": {},
   "outputs": [
    {
     "data": {
      "text/plain": [
       "array([[83398,   698],\n",
       "       [ 5159,   521]])"
      ]
     },
     "execution_count": 20,
     "metadata": {},
     "output_type": "execute_result"
    }
   ],
   "source": [
    "X_val = scaler.transform(df_val[features])\n",
    "y_val = df_val['passed']\n",
    "lr_preds = lm_1.predict(X_val)\n",
    "lr_conf = confusion_matrix(y_val,\n",
    "                lr_preds)\n",
    "lr_conf"
   ]
  },
  {
   "cell_type": "code",
   "execution_count": 21,
   "metadata": {},
   "outputs": [
    {
     "name": "stdout",
     "output_type": "stream",
     "text": [
      "              precision    recall  f1-score   support\n",
      "\n",
      "           0       0.94      0.99      0.97     84096\n",
      "           1       0.43      0.09      0.15      5680\n",
      "\n",
      "    accuracy                           0.93     89776\n",
      "   macro avg       0.68      0.54      0.56     89776\n",
      "weighted avg       0.91      0.93      0.91     89776\n",
      "\n"
     ]
    }
   ],
   "source": [
    "# scoring on validation set\n",
    "print(classification_report(y_val, lm_1.predict(X_val)))"
   ]
  },
  {
   "cell_type": "code",
   "execution_count": 22,
   "metadata": {},
   "outputs": [
    {
     "name": "stdout",
     "output_type": "stream",
     "text": [
      "age [0.66590232]\n",
      "sex [0.20633351]\n",
      "patient_type [1.30744541]\n",
      "cardiovascular [-0.01987385]\n",
      "hypertension [0.05722235]\n",
      "obesity [0.10866261]\n",
      "inmsupr [0.02250625]\n",
      "copd [-0.01110812]\n",
      "other_disease [0.04030872]\n",
      "renal_chronic [0.05858481]\n",
      "tobacco [-0.03319011]\n",
      "covid_res [0.1553724]\n"
     ]
    }
   ],
   "source": [
    "for feature, coef in zip(df_train[features], lm_1.coef_.T):\n",
    "    print(feature, coef)"
   ]
  },
  {
   "cell_type": "code",
   "execution_count": 23,
   "metadata": {},
   "outputs": [
    {
     "name": "stdout",
     "output_type": "stream",
     "text": [
      "              precision    recall  f1-score   support\n",
      "\n",
      "           0       0.97      0.02      0.03    105119\n",
      "           1       0.06      0.99      0.12      7101\n",
      "\n",
      "    accuracy                           0.08    112220\n",
      "   macro avg       0.52      0.50      0.08    112220\n",
      "weighted avg       0.91      0.08      0.04    112220\n",
      "\n"
     ]
    }
   ],
   "source": [
    "# this cell added at the end of the project\n",
    "# scoring on test set\n",
    "X_test  = df_test[features]\n",
    "y_test = df_test['passed']\n",
    "print(classification_report(y_test, lm_1.predict(X_test)))"
   ]
  },
  {
   "cell_type": "markdown",
   "metadata": {},
   "source": [
    "### Interpreting Coefficients with Respect to Log Loss"
   ]
  },
  {
   "cell_type": "code",
   "execution_count": 69,
   "metadata": {},
   "outputs": [
    {
     "data": {
      "text/plain": [
       "3.695071852189992"
      ]
     },
     "execution_count": 69,
     "metadata": {},
     "output_type": "execute_result"
    }
   ],
   "source": [
    "np.exp(1.307)"
   ]
  },
  {
   "cell_type": "code",
   "execution_count": 70,
   "metadata": {},
   "outputs": [
    {
     "data": {
      "text/plain": [
       "1.938665791236518"
      ]
     },
     "execution_count": 70,
     "metadata": {},
     "output_type": "execute_result"
    }
   ],
   "source": [
    "np.exp(0.662)"
   ]
  },
  {
   "cell_type": "code",
   "execution_count": 71,
   "metadata": {},
   "outputs": [
    {
     "data": {
      "text/plain": [
       "1.161834242728283"
      ]
     },
     "execution_count": 71,
     "metadata": {},
     "output_type": "execute_result"
    }
   ],
   "source": [
    "np.exp(0.15)"
   ]
  },
  {
   "cell_type": "code",
   "execution_count": 72,
   "metadata": {},
   "outputs": [
    {
     "data": {
      "text/plain": [
       "1.0218173217877218"
      ]
     },
     "execution_count": 72,
     "metadata": {},
     "output_type": "execute_result"
    }
   ],
   "source": [
    "np.exp(0.02158273)"
   ]
  },
  {
   "cell_type": "code",
   "execution_count": 73,
   "metadata": {},
   "outputs": [
    {
     "data": {
      "text/plain": [
       "1.056191728623155"
      ]
     },
     "execution_count": 73,
     "metadata": {},
     "output_type": "execute_result"
    }
   ],
   "source": [
    "np.exp(0.05466973)"
   ]
  },
  {
   "cell_type": "code",
   "execution_count": 81,
   "metadata": {},
   "outputs": [
    {
     "data": {
      "text/plain": [
       "0.9803334010706944"
      ]
     },
     "execution_count": 81,
     "metadata": {},
     "output_type": "execute_result"
    }
   ],
   "source": [
    "np.exp(-0.01986256)"
   ]
  },
  {
   "cell_type": "code",
   "execution_count": 54,
   "metadata": {},
   "outputs": [
    {
     "data": {
      "text/plain": [
       "0.21391348361064774"
      ]
     },
     "execution_count": 54,
     "metadata": {},
     "output_type": "execute_result"
    }
   ],
   "source": [
    "sum(covid_clean['patient_type'])/len(covid_clean)"
   ]
  },
  {
   "cell_type": "code",
   "execution_count": 55,
   "metadata": {},
   "outputs": [
    {
     "data": {
      "text/plain": [
       "0.06327437729016068"
      ]
     },
     "execution_count": 55,
     "metadata": {},
     "output_type": "execute_result"
    }
   ],
   "source": [
    "sum(covid_clean['passed'])/len(covid_clean)"
   ]
  },
  {
   "cell_type": "code",
   "execution_count": 82,
   "metadata": {},
   "outputs": [
    {
     "data": {
      "image/png": "[encoded data removed]",
      "text/plain": [
       "<Figure size 432x288 with 1 Axes>"
      ]
     },
     "metadata": {
      "needs_background": "light"
     },
     "output_type": "display_data"
    }
   ],
   "source": [
    "plot_roc_curve(lm_1, X_val, y_val);"
   ]
  },
  {
   "cell_type": "code",
   "execution_count": 83,
   "metadata": {},
   "outputs": [
    {
     "data": {
      "text/plain": [
       "<sklearn.metrics._plot.roc_curve.RocCurveDisplay at 0x7f961e3efb80>"
      ]
     },
     "execution_count": 83,
     "metadata": {},
     "output_type": "execute_result"
    },
    {
     "data": {
      "image/png": "[encoded data removed]",
      "text/plain": [
       "<Figure size 432x288 with 1 Axes>"
      ]
     },
     "metadata": {
      "needs_background": "light"
     },
     "output_type": "display_data"
    }
   ],
   "source": [
    "# this cell added at the end of the project\n",
    "plot_roc_curve(lm_1, X_test, y_test);"
   ]
  },
  {
   "cell_type": "code",
   "execution_count": 59,
   "metadata": {},
   "outputs": [
    {
     "data": {
      "text/plain": [
       "<sklearn.metrics._plot.confusion_matrix.ConfusionMatrixDisplay at 0x7f961e290d00>"
      ]
     },
     "execution_count": 59,
     "metadata": {},
     "output_type": "execute_result"
    },
    {
     "data": {
      "image/png": "[encoded data removed]",
      "text/plain": [
       "<Figure size 432x288 with 2 Axes>"
      ]
     },
     "metadata": {
      "needs_background": "light"
     },
     "output_type": "display_data"
    }
   ],
   "source": [
    "# this cell added at the end of the project\n",
    "plot_confusion_matrix(lm_1, X_test, y_test);"
   ]
  },
  {
   "cell_type": "code",
   "execution_count": 52,
   "metadata": {},
   "outputs": [
    {
     "data": {
      "text/plain": [
       "array([[0.93642845, 0.06357155],\n",
       "       [0.99640882, 0.00359118],\n",
       "       [0.99618407, 0.00381593],\n",
       "       [0.99052076, 0.00947924],\n",
       "       [0.9897454 , 0.0102546 ],\n",
       "       [0.99470976, 0.00529024],\n",
       "       [0.99618407, 0.00381593],\n",
       "       [0.9927463 , 0.0072537 ],\n",
       "       [0.9951626 , 0.0048374 ],\n",
       "       [0.99579331, 0.00420669],\n",
       "       [0.98796466, 0.01203534],\n",
       "       [0.99259478, 0.00740522],\n",
       "       [0.41627985, 0.58372015],\n",
       "       [0.99373477, 0.00626523],\n",
       "       [0.99603013, 0.00396987],\n",
       "       [0.63754327, 0.36245673],\n",
       "       [0.57433044, 0.42566956],\n",
       "       [0.98409429, 0.01590571],\n",
       "       [0.99362266, 0.00637734],\n",
       "       [0.99721959, 0.00278041],\n",
       "       [0.9847018 , 0.0152982 ],\n",
       "       [0.99721959, 0.00278041],\n",
       "       [0.99633206, 0.00366794],\n",
       "       [0.97359935, 0.02640065],\n",
       "       [0.989663  , 0.010337  ]])"
      ]
     },
     "execution_count": 52,
     "metadata": {},
     "output_type": "execute_result"
    }
   ],
   "source": [
    "lm_1.predict_proba(X_val)[:25]"
   ]
  },
  {
   "cell_type": "markdown",
   "metadata": {},
   "source": [
    "The first column of this array represents the probability that y=0, or that the person is still living, and the second column represents the probability that y=1, or the person has passed away."
   ]
  },
  {
   "cell_type": "markdown",
   "metadata": {},
   "source": [
    "### K Nearest Neighbors"
   ]
  },
  {
   "cell_type": "code",
   "execution_count": 25,
   "metadata": {},
   "outputs": [
    {
     "data": {
      "text/plain": [
       "KNeighborsClassifier()"
      ]
     },
     "execution_count": 25,
     "metadata": {},
     "output_type": "execute_result"
    }
   ],
   "source": [
    "knn = KNeighborsClassifier(n_neighbors=5)\n",
    "knn.fit(X_train, y_train)"
   ]
  },
  {
   "cell_type": "code",
   "execution_count": 26,
   "metadata": {},
   "outputs": [
    {
     "name": "stdout",
     "output_type": "stream",
     "text": [
      "The score for KNN is\n",
      "Training:  93.74%\n",
      "Test set:  93.07%\n"
     ]
    }
   ],
   "source": [
    "print(\"The score for KNN is\")\n",
    "print(\"Training: {:6.2f}%\".format(100*knn.score(X_train, y_train)))\n",
    "print(\"Test set: {:6.2f}%\".format(100*knn.score(X_val, y_val)))"
   ]
  },
  {
   "cell_type": "code",
   "execution_count": 59,
   "metadata": {},
   "outputs": [
    {
     "name": "stdout",
     "output_type": "stream",
     "text": [
      "The score for logistic regression is\n",
      "Training:  93.46%\n",
      "Test set:  93.54%\n"
     ]
    }
   ],
   "source": [
    "# cursory comparison only\n",
    "\n",
    "print(\"The score for logistic regression is\")\n",
    "print(\"Training: {:6.2f}%\".format(100*lm_1.score(X_train, y_train)))\n",
    "print(\"Test set: {:6.2f}%\".format(100*lm_1.score(X_val, y_val)))"
   ]
  },
  {
   "cell_type": "code",
   "execution_count": 60,
   "metadata": {
    "scrolled": true
   },
   "outputs": [
    {
     "data": {
      "image/png": "[encoded data removed]",
      "text/plain": [
       "<Figure size 900x600 with 2 Axes>"
      ]
     },
     "metadata": {
      "needs_background": "light"
     },
     "output_type": "display_data"
    }
   ],
   "source": [
    "plt.figure(dpi=150)\n",
    "sns.heatmap(lr_conf, cmap=plt.cm.OrRd, annot=True, fmt='d', square=True,\n",
    "           xticklabels=['Living', 'Passed'],\n",
    "           yticklabels=['Living', 'Passed'])\n",
    "\n",
    "plt.xlabel('Predicted values')\n",
    "plt.ylabel('Actual values')\n",
    "plt.title('COVID Deaths - Logistic Regression')\n",
    "plt.savefig('COVID_regrconf_matrix', dpi=600, bbox_inches='tight');"
   ]
  },
  {
   "cell_type": "code",
   "execution_count": 62,
   "metadata": {},
   "outputs": [
    {
     "data": {
      "image/png": "[encoded data removed]",
      "text/plain": [
       "<Figure size 900x600 with 2 Axes>"
      ]
     },
     "metadata": {
      "needs_background": "light"
     },
     "output_type": "display_data"
    }
   ],
   "source": [
    "# cell added at end of project\n",
    "\n",
    "knn_confusion = confusion_matrix(y_test, knn.predict(X_test))\n",
    "plt.figure(dpi=150)\n",
    "sns.heatmap(knn_confusion, cmap=plt.cm.Purples, annot=True, fmt='d', square=True,\n",
    "           xticklabels=['Living', 'Passed'],\n",
    "           yticklabels=['Living', 'Passed'])\n",
    "\n",
    "plt.xlabel('Predicted values')\n",
    "plt.ylabel('Actual values')\n",
    "plt.title('COVID Deaths - K Nearest Neighbors')\n",
    "plt.savefig('COVID_KNN_conf_matrix', dpi=600, bbox_inches='tight');"
   ]
  },
  {
   "cell_type": "code",
   "execution_count": 29,
   "metadata": {},
   "outputs": [],
   "source": [
    "from sklearn.naive_bayes import BernoulliNB, MultinomialNB, GaussianNB\n",
    "from sklearn.dummy import DummyClassifier\n"
   ]
  },
  {
   "cell_type": "code",
   "execution_count": 30,
   "metadata": {},
   "outputs": [
    {
     "data": {
      "text/plain": [
       "0.9146120022074662"
      ]
     },
     "execution_count": 30,
     "metadata": {},
     "output_type": "execute_result"
    }
   ],
   "source": [
    "nb = BernoulliNB()\n",
    "nb.fit(X_train, y_train)\n",
    "nb.score(X_val, y_val)"
   ]
  },
  {
   "cell_type": "code",
   "execution_count": 31,
   "metadata": {},
   "outputs": [
    {
     "name": "stderr",
     "output_type": "stream",
     "text": [
      "/Users/jess/workspace/anaconda3/lib/python3.8/site-packages/sklearn/dummy.py:131: FutureWarning: The default value of strategy will change from stratified to prior in 0.24.\n",
      "  warnings.warn(\"The default value of strategy will change from \"\n"
     ]
    },
    {
     "data": {
      "text/plain": [
       "0.8802449575418796"
      ]
     },
     "execution_count": 31,
     "metadata": {},
     "output_type": "execute_result"
    }
   ],
   "source": [
    "dc = DummyClassifier() # not for real problems, just a baseline \n",
    "dc.fit(X_train, y_train)\n",
    "dc.score(X_val, y_val)"
   ]
  },
  {
   "cell_type": "code",
   "execution_count": 32,
   "metadata": {},
   "outputs": [
    {
     "data": {
      "image/png": "[encoded data removed]",
      "text/plain": [
       "<Figure size 900x600 with 2 Axes>"
      ]
     },
     "metadata": {
      "needs_background": "light"
     },
     "output_type": "display_data"
    }
   ],
   "source": [
    "# cell added at end of project\n",
    "\n",
    "NB_confusion = confusion_matrix(y_test, nb.predict(X_test))\n",
    "plt.figure(dpi=150)\n",
    "sns.heatmap(NB_confusion, cmap=plt.cm.Purples, annot=True, fmt='d', square=True,\n",
    "           xticklabels=['Living', 'Passed'],\n",
    "           yticklabels=['Living', 'Passed'])\n",
    "\n",
    "plt.xlabel('Predicted values')\n",
    "plt.ylabel('Actual values')\n",
    "plt.title('COVID Deaths - Naive Bayes')\n",
    "plt.savefig('COVID_NB_conf_matrix', dpi=600, bbox_inches='tight');"
   ]
  },
  {
   "cell_type": "code",
   "execution_count": 12,
   "metadata": {},
   "outputs": [
    {
     "name": "stdout",
     "output_type": "stream",
     "text": [
      "              precision    recall  f1-score   support\n",
      "\n",
      "           0       0.94      0.99      0.97     84182\n",
      "           1       0.42      0.08      0.13      5695\n",
      "\n",
      "    accuracy                           0.93     89877\n",
      "   macro avg       0.68      0.54      0.55     89877\n",
      "weighted avg       0.91      0.93      0.91     89877\n",
      "\n"
     ]
    }
   ],
   "source": [
    "print(classification_report(y_val, lr_preds))"
   ]
  },
  {
   "cell_type": "code",
   "execution_count": 27,
   "metadata": {},
   "outputs": [
    {
     "name": "stdout",
     "output_type": "stream",
     "text": [
      "              precision    recall  f1-score   support\n",
      "\n",
      "           0       0.94      0.99      0.97    105248\n",
      "           1       0.42      0.08      0.14      7098\n",
      "\n",
      "    accuracy                           0.93    112346\n",
      "   macro avg       0.68      0.54      0.55    112346\n",
      "weighted avg       0.91      0.93      0.91    112346\n",
      "\n"
     ]
    }
   ],
   "source": [
    "print(classification_report(y_test, lr_preds))"
   ]
  },
  {
   "cell_type": "code",
   "execution_count": 45,
   "metadata": {},
   "outputs": [
    {
     "name": "stdout",
     "output_type": "stream",
     "text": [
      "              precision    recall  f1-score   support\n",
      "\n",
      "           0       0.95      0.98      0.96    105248\n",
      "           1       0.35      0.16      0.22      7098\n",
      "\n",
      "    accuracy                           0.93    112346\n",
      "   macro avg       0.65      0.57      0.59    112346\n",
      "weighted avg       0.91      0.93      0.92    112346\n",
      "\n"
     ]
    }
   ],
   "source": [
    "print(classification_report(y_test, knn.predict(X_test)))"
   ]
  },
  {
   "cell_type": "code",
   "execution_count": 33,
   "metadata": {},
   "outputs": [
    {
     "name": "stdout",
     "output_type": "stream",
     "text": [
      "              precision    recall  f1-score   support\n",
      "\n",
      "           0       0.96      0.95      0.95    105227\n",
      "           1       0.35      0.41      0.38      7119\n",
      "\n",
      "    accuracy                           0.91    112346\n",
      "   macro avg       0.66      0.68      0.67    112346\n",
      "weighted avg       0.92      0.91      0.92    112346\n",
      "\n"
     ]
    }
   ],
   "source": [
    "print(classification_report(y_test, nb.predict(X_test)))"
   ]
  },
  {
   "cell_type": "code",
   "execution_count": null,
   "metadata": {},
   "outputs": [],
   "source": []
  },
  {
   "cell_type": "code",
   "execution_count": null,
   "metadata": {},
   "outputs": [],
   "source": [
    "import pickle\n",
    "import os\n",
    "\n",
    "models = ['lm_1', 'nb', 'knn']\n",
    "\n",
    "if not os.path.exists('models'):\n",
    "    os.makedirs('models')\n",
    "    \n",
    "for model_name in models:\n",
    "    curr_model = eval(model_name)\n",
    "    \n",
    "    curr_model.fit()\n",
    "    with open(f'models/{model_name}.pickle', 'wb') as pfile:\n",
    "        pickle.dump(curr_)"
   ]
  }
 ],
 "metadata": {
  "kernelspec": {
   "display_name": "Python 3",
   "language": "python",
   "name": "python3"
  },
  "language_info": {
   "codemirror_mode": {
    "name": "ipython",
    "version": 3
   },
   "file_extension": ".py",
   "mimetype": "text/x-python",
   "name": "python",
   "nbconvert_exporter": "python",
   "pygments_lexer": "ipython3",
   "version": "3.8.5"
  }
 },
 "nbformat": 4,
 "nbformat_minor": 4
}
