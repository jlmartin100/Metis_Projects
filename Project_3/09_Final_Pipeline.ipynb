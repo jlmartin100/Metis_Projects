{
 "cells": [
  {
   "cell_type": "code",
   "execution_count": 1,
   "metadata": {},
   "outputs": [
    {
     "data": {
      "text/html": [
       "<style>.container { width:95% !important; }</style>"
      ],
      "text/plain": [
       "<IPython.core.display.HTML object>"
      ]
     },
     "metadata": {},
     "output_type": "display_data"
    }
   ],
   "source": [
    "from IPython.core.display import display, HTML\n",
    "display(HTML(\"<style>.container { width:95% !important; }</style>\"))"
   ]
  },
  {
   "cell_type": "code",
   "execution_count": 150,
   "metadata": {},
   "outputs": [],
   "source": [
    "import pandas as pd\n",
    "import numpy as np\n",
    "import scipy.stats as st\n",
    "import json\n",
    "\n",
    "from sklearn.model_selection import train_test_split\n",
    "from sklearn.preprocessing import StandardScaler\n",
    "from sklearn.preprocessing import OneHotEncoder\n",
    "\n",
    "from imblearn.over_sampling import ADASYN\n",
    "\n",
    "from sklearn.linear_model import LogisticRegression\n",
    "from sklearn.linear_model import ElasticNet\n",
    "from sklearn.model_selection import GridSearchCV\n",
    "\n",
    "\n",
    "from sklearn.metrics import roc_auc_score, roc_curve, plot_roc_curve, confusion_matrix, plot_confusion_matrix\n",
    "from sklearn.metrics import recall_score, log_loss, fbeta_score, f1_score, make_scorer\n",
    "from sklearn.metrics import precision_recall_curve, plot_precision_recall_curve\n",
    "from sklearn.metrics import classification_report\n",
    "\n",
    "from sklearn.datasets import make_classification\n",
    "from collections import Counter\n",
    "\n",
    "import matplotlib.pyplot as plt\n",
    "import seaborn as sns\n",
    "from mlxtend.plotting import plot_decision_regions\n",
    "%matplotlib inline\n",
    "\n"
   ]
  },
  {
   "cell_type": "markdown",
   "metadata": {},
   "source": [
    "### Full Dataset"
   ]
  },
  {
   "cell_type": "code",
   "execution_count": 7,
   "metadata": {},
   "outputs": [],
   "source": [
    "covid_total = pd.read_json('covid_no_nan.json', lines=True)"
   ]
  },
  {
   "cell_type": "code",
   "execution_count": 14,
   "metadata": {},
   "outputs": [],
   "source": [
    "covid_total_feats = covid_total"
   ]
  },
  {
   "cell_type": "code",
   "execution_count": 17,
   "metadata": {},
   "outputs": [],
   "source": [
    "covid_total_feats['comorb_count'] = covid_total_feats['diabetes'] + covid_total_feats['copd'] + covid_total_feats['asthma'] + covid_total_feats['hypertension'] + covid_total_feats['other_disease'] + covid_total_feats['cardiovascular'] + covid_total_feats['renal_chronic'] + covid_total_feats['obesity'] + covid_total_feats['tobacco']"
   ]
  },
  {
   "cell_type": "code",
   "execution_count": 21,
   "metadata": {},
   "outputs": [],
   "source": [
    "covid_total_feats['imm_comorb'] = np.where((covid_total_feats['inmsupr']==1) & (covid_total_feats['comorb_count']>=1), 1,0)"
   ]
  },
  {
   "cell_type": "code",
   "execution_count": 25,
   "metadata": {},
   "outputs": [],
   "source": [
    "covid_total_feats['imm_covid_pos'] =  np.where((covid_total_feats['inmsupr']==1) & (covid_total_feats['covid_res']==1), 1,0)"
   ]
  },
  {
   "cell_type": "code",
   "execution_count": 30,
   "metadata": {},
   "outputs": [],
   "source": [
    "covid_total_feats['imm_other_dis'] =  np.where((covid_total_feats['inmsupr']==1) & (covid_total_feats['other_disease']==1), 1,0)"
   ]
  },
  {
   "cell_type": "code",
   "execution_count": 33,
   "metadata": {},
   "outputs": [],
   "source": [
    "covid_total_feats['imm_lung_disease'] = np.where((covid_total_feats['inmsupr']==1) & \\\n",
    "                                          ((covid_total_feats['pneumonia']==1) | \\\n",
    "                                          (covid_total_feats['asthma']==1) | \\\n",
    "                                          (covid_total_feats['copd']==1) | \\\n",
    "                                          (covid_total_feats['tobacco']==1)), 1, 0)"
   ]
  },
  {
   "cell_type": "markdown",
   "metadata": {},
   "source": [
    "### Hospitalized Only Dataset"
   ]
  },
  {
   "cell_type": "code",
   "execution_count": 8,
   "metadata": {},
   "outputs": [],
   "source": [
    "covid_hosp = pd.read_json('covid_hosp_feats.json', lines=True)"
   ]
  },
  {
   "cell_type": "code",
   "execution_count": 18,
   "metadata": {},
   "outputs": [],
   "source": [
    "covid_hosp['comorb_count'] = covid_hosp['diabetes'] + covid_hosp['copd'] + covid_hosp['asthma'] + covid_hosp['hypertension'] + covid_hosp['other_disease'] + covid_hosp['cardiovascular'] + covid_hosp['renal_chronic'] + covid_hosp['obesity'] + covid_hosp['tobacco']"
   ]
  },
  {
   "cell_type": "code",
   "execution_count": 22,
   "metadata": {},
   "outputs": [],
   "source": [
    "covid_hosp['imm_comorb'] = np.where((covid_hosp['inmsupr']==1) & (covid_hosp['comorb_count']>=1), 1,0)"
   ]
  },
  {
   "cell_type": "code",
   "execution_count": 27,
   "metadata": {},
   "outputs": [],
   "source": [
    "covid_hosp['imm_covid_pos'] =  np.where((covid_hosp['inmsupr']==1) & (covid_hosp['covid_res']==1), 1,0)"
   ]
  },
  {
   "cell_type": "code",
   "execution_count": 31,
   "metadata": {},
   "outputs": [],
   "source": [
    "covid_hosp['imm_other_dis'] =  np.where((covid_hosp['inmsupr']==1) & (covid_hosp['other_disease']==1), 1,0)"
   ]
  },
  {
   "cell_type": "code",
   "execution_count": 34,
   "metadata": {},
   "outputs": [],
   "source": [
    "covid_hosp['imm_lung_disease'] = np.where((covid_hosp['inmsupr']==1) & \\\n",
    "                                          ((covid_hosp['pneumonia']==1) | \\\n",
    "                                          (covid_hosp['asthma']==1) | \\\n",
    "                                          (covid_hosp['copd']==1) | \\\n",
    "                                          (covid_hosp['tobacco']==1)), 1, 0)"
   ]
  },
  {
   "cell_type": "markdown",
   "metadata": {},
   "source": [
    "### Immunosuppressed Only Dataset"
   ]
  },
  {
   "cell_type": "code",
   "execution_count": 9,
   "metadata": {},
   "outputs": [],
   "source": [
    "covid_immun = pd.read_json('covid_immun.json', lines=True)"
   ]
  },
  {
   "cell_type": "code",
   "execution_count": 19,
   "metadata": {},
   "outputs": [],
   "source": [
    "covid_immun['comorb_count'] = covid_immun['diabetes'] + covid_immun['copd'] + covid_immun['asthma'] + covid_immun['hypertension'] + covid_immun['other_disease'] + covid_immun['cardiovascular'] + covid_immun['renal_chronic'] + covid_immun['obesity'] + covid_immun['tobacco']"
   ]
  },
  {
   "cell_type": "code",
   "execution_count": 23,
   "metadata": {},
   "outputs": [],
   "source": [
    "covid_immun['imm_comorb'] = np.where((covid_immun['inmsupr']==1) & (covid_immun['comorb_count']>=1), 1,0)"
   ]
  },
  {
   "cell_type": "code",
   "execution_count": 26,
   "metadata": {},
   "outputs": [],
   "source": [
    "covid_immun['imm_covid_pos'] =  np.where((covid_immun['inmsupr']==1) & (covid_immun['covid_res']==1), 1,0)"
   ]
  },
  {
   "cell_type": "code",
   "execution_count": 32,
   "metadata": {},
   "outputs": [],
   "source": [
    "covid_immun['imm_other_dis'] =  np.where((covid_immun['inmsupr']==1) & (covid_immun['other_disease']==1), 1,0)"
   ]
  },
  {
   "cell_type": "code",
   "execution_count": 35,
   "metadata": {},
   "outputs": [],
   "source": [
    "covid_immun['imm_lung_disease'] = np.where((covid_immun['inmsupr']==1) & \\\n",
    "                                          ((covid_immun['pneumonia']==1) | \\\n",
    "                                          (covid_immun['asthma']==1) | \\\n",
    "                                          (covid_immun['copd']==1) | \\\n",
    "                                          (covid_immun['tobacco']==1)), 1, 0)"
   ]
  },
  {
   "cell_type": "markdown",
   "metadata": {},
   "source": [
    "### Engineered and Categorical Features"
   ]
  },
  {
   "cell_type": "code",
   "execution_count": 49,
   "metadata": {},
   "outputs": [],
   "source": [
    "covid_total_feats = pd.get_dummies(covid_total_feats, columns=['covid_res'], drop_first=True, prefix='covid_res')\n",
    "covid_hosp = pd.get_dummies(covid_hosp, columns=['covid_res'], drop_first=True, prefix='covid_res')\n",
    "covid_immun = pd.get_dummies(covid_immun, columns=['covid_res'], drop_first=True, prefix='covid_res')"
   ]
  },
  {
   "cell_type": "code",
   "execution_count": 53,
   "metadata": {},
   "outputs": [
    {
     "data": {
      "text/plain": [
       "(561096, 30)"
      ]
     },
     "execution_count": 53,
     "metadata": {},
     "output_type": "execute_result"
    }
   ],
   "source": [
    "covid_total_feats.shape"
   ]
  },
  {
   "cell_type": "code",
   "execution_count": 54,
   "metadata": {},
   "outputs": [
    {
     "data": {
      "text/plain": [
       "(120026, 30)"
      ]
     },
     "execution_count": 54,
     "metadata": {},
     "output_type": "execute_result"
    }
   ],
   "source": [
    "covid_hosp.shape"
   ]
  },
  {
   "cell_type": "code",
   "execution_count": 55,
   "metadata": {},
   "outputs": [
    {
     "data": {
      "text/plain": [
       "(8870, 30)"
      ]
     },
     "execution_count": 55,
     "metadata": {},
     "output_type": "execute_result"
    }
   ],
   "source": [
    "covid_immun.shape"
   ]
  },
  {
   "cell_type": "code",
   "execution_count": 50,
   "metadata": {},
   "outputs": [
    {
     "data": {
      "text/plain": [
       "Index(['id', 'sex', 'patient_type', 'entry_date', 'date_symptoms', 'date_died',\n",
       "       'intubed', 'pneumonia', 'age', 'pregnancy', 'diabetes', 'copd',\n",
       "       'asthma', 'inmsupr', 'hypertension', 'other_disease', 'cardiovascular',\n",
       "       'obesity', 'renal_chronic', 'tobacco', 'contact_other_covid', 'icu',\n",
       "       'passed', 'comorb_count', 'imm_comorb', 'imm_covid_pos',\n",
       "       'imm_other_dis', 'imm_lung_disease', 'covid_res_1', 'covid_res_2'],\n",
       "      dtype='object')"
      ]
     },
     "execution_count": 50,
     "metadata": {},
     "output_type": "execute_result"
    }
   ],
   "source": [
    "covid_total_feats.columns"
   ]
  },
  {
   "cell_type": "code",
   "execution_count": 51,
   "metadata": {},
   "outputs": [
    {
     "data": {
      "text/plain": [
       "Index(['id', 'sex', 'patient_type', 'entry_date', 'date_symptoms', 'date_died',\n",
       "       'intubed', 'pneumonia', 'age', 'pregnancy', 'diabetes', 'copd',\n",
       "       'asthma', 'inmsupr', 'hypertension', 'other_disease', 'cardiovascular',\n",
       "       'obesity', 'renal_chronic', 'tobacco', 'contact_other_covid', 'icu',\n",
       "       'passed', 'comorb_count', 'imm_comorb', 'imm_covid_pos',\n",
       "       'imm_other_dis', 'imm_lung_disease', 'covid_res_1', 'covid_res_2'],\n",
       "      dtype='object')"
      ]
     },
     "execution_count": 51,
     "metadata": {},
     "output_type": "execute_result"
    }
   ],
   "source": [
    "covid_hosp.columns"
   ]
  },
  {
   "cell_type": "code",
   "execution_count": 52,
   "metadata": {},
   "outputs": [
    {
     "data": {
      "text/plain": [
       "Index(['id', 'sex', 'patient_type', 'entry_date', 'date_symptoms', 'date_died',\n",
       "       'intubed', 'pneumonia', 'age', 'pregnancy', 'diabetes', 'copd',\n",
       "       'asthma', 'inmsupr', 'hypertension', 'other_disease', 'cardiovascular',\n",
       "       'obesity', 'renal_chronic', 'tobacco', 'contact_other_covid', 'icu',\n",
       "       'passed', 'comorb_count', 'imm_comorb', 'imm_covid_pos',\n",
       "       'imm_other_dis', 'imm_lung_disease', 'covid_res_1', 'covid_res_2'],\n",
       "      dtype='object')"
      ]
     },
     "execution_count": 52,
     "metadata": {},
     "output_type": "execute_result"
    }
   ],
   "source": [
    "covid_immun.columns"
   ]
  },
  {
   "cell_type": "code",
   "execution_count": 62,
   "metadata": {},
   "outputs": [],
   "source": [
    "categoricals = [ 'sex','patient_type', 'pneumonia', 'diabetes', 'copd', 'asthma', 'inmsupr',\n",
    "       'hypertension', 'other_disease', 'cardiovascular', 'obesity','renal_chronic', 'tobacco', \n",
    "                'pregnancy', 'icu', 'intubed', 'contact_other_covid', 'passed', 'imm_comorb',\n",
    "       'imm_covid_pos', 'imm_other_dis', 'imm_lung_disease', 'covid_res_1', 'covid_res_2']"
   ]
  },
  {
   "cell_type": "code",
   "execution_count": 63,
   "metadata": {},
   "outputs": [],
   "source": [
    "covid_total_feats[categoricals] = covid_total_feats[categoricals].astype('category')\n",
    "covid_hosp[categoricals] = covid_hosp[categoricals].astype('category')\n",
    "covid_immun[categoricals] = covid_immun[categoricals].astype('category')"
   ]
  },
  {
   "cell_type": "code",
   "execution_count": 243,
   "metadata": {},
   "outputs": [],
   "source": [
    "strict_features = ['sex',  'age', 'pregnancy', 'diabetes', 'copd','asthma', 'inmsupr', 'hypertension', \n",
    "                   'other_disease', 'cardiovascular','obesity', 'renal_chronic', 'tobacco',\n",
    "                   'contact_other_covid', 'comorb_count', 'imm_comorb', 'imm_covid_pos', 'imm_other_dis', \n",
    "                   'imm_lung_disease','covid_res_1', 'covid_res_2']\n",
    "\n",
    "stricter_features = ['sex', 'age', 'diabetes', 'copd', 'asthma', 'inmsupr', 'hypertension', 'other_disease',\n",
    "                    'cardiovascular', 'renal_chronic', 'contact_other_covid', 'covid_res_1']\n",
    "\n",
    "outcomes = [ 'pneumonia','intubed','icu','passed']"
   ]
  },
  {
   "cell_type": "markdown",
   "metadata": {},
   "source": [
    "## Target: Patient Deaths from COVID"
   ]
  },
  {
   "cell_type": "markdown",
   "metadata": {},
   "source": [
    "### Immunosuppressed Only: Modeling to Predict Deaths"
   ]
  },
  {
   "cell_type": "markdown",
   "metadata": {},
   "source": [
    "### Modeling With No Stratification, No Oversampling/Undersampling"
   ]
  },
  {
   "cell_type": "code",
   "execution_count": 218,
   "metadata": {},
   "outputs": [],
   "source": [
    "# train / test split\n",
    "\n",
    "base_train, base_test = train_test_split(covid_immun, test_size=0.2, random_state=33)"
   ]
  },
  {
   "cell_type": "code",
   "execution_count": 219,
   "metadata": {},
   "outputs": [],
   "source": [
    "# train / validation split\n",
    "base_train, base_val = train_test_split(base_train, test_size=0.2, random_state=33)"
   ]
  },
  {
   "cell_type": "code",
   "execution_count": 220,
   "metadata": {},
   "outputs": [],
   "source": [
    "xb_train = base_train[strict_features]\n",
    "yb_train = base_train['passed']"
   ]
  },
  {
   "cell_type": "code",
   "execution_count": 221,
   "metadata": {},
   "outputs": [],
   "source": [
    "# Scaling\n",
    "scaler = StandardScaler()\n",
    "xb_train = scaler.fit_transform(xb_train)\n",
    "\n",
    "xb_val = scaler.fit_transform(base_val[strict_features])\n",
    "yb_val = base_val['passed']"
   ]
  },
  {
   "cell_type": "code",
   "execution_count": 222,
   "metadata": {},
   "outputs": [],
   "source": [
    "# Initializing Model - base\n",
    "logreg_b = LogisticRegression(solver='saga')"
   ]
  },
  {
   "cell_type": "code",
   "execution_count": 223,
   "metadata": {},
   "outputs": [],
   "source": [
    "# GridSearch for best parameters, best estimator\n",
    "params = {\n",
    "    'C': np.logspace(-3, 3, 7),\n",
    "    'penalty':['l1', 'l2'],\n",
    "    'random_state':[33],\n",
    "    'max_iter': [3000]\n",
    "}\n",
    "score = make_scorer(f1_score)"
   ]
  },
  {
   "cell_type": "code",
   "execution_count": 224,
   "metadata": {
    "scrolled": true
   },
   "outputs": [
    {
     "name": "stdout",
     "output_type": "stream",
     "text": [
      "Best parameters:  {'C': 100.0, 'max_iter': 3000, 'penalty': 'l1', 'random_state': 33}\n",
      "Best estimator : LogisticRegression(C=100.0, max_iter=3000, penalty='l1', random_state=33,\n",
      "                   solver='saga')\n",
      "Training scores:                precision    recall  f1-score   support\n",
      "\n",
      "           0       0.87      0.98      0.92      4803\n",
      "           1       0.57      0.18      0.28       873\n",
      "\n",
      "    accuracy                           0.85      5676\n",
      "   macro avg       0.72      0.58      0.60      5676\n",
      "weighted avg       0.82      0.85      0.82      5676\n",
      "\n"
     ]
    }
   ],
   "source": [
    "gridsearch_b = GridSearchCV(logreg_b, params, cv=5, scoring=score)\n",
    "gridsearch_b.fit(xb_train, yb_train)\n",
    "\n",
    "print(\"Best parameters: \", gridsearch_b.best_params_)\n",
    "\n",
    "best_estim_b = gridsearch_b.best_estimator_\n",
    "print(\"Best estimator :\", best_estim_b)\n",
    "\n",
    "best_estim_b.fit(xb_train, yb_train)\n",
    "\n",
    "print(\"Training scores: \", classification_report(yb_train, best_estim_b.predict(xb_train)))"
   ]
  },
  {
   "cell_type": "code",
   "execution_count": 225,
   "metadata": {},
   "outputs": [
    {
     "name": "stdout",
     "output_type": "stream",
     "text": [
      "Confusion Matrix (Training):  [[4686  117]\n",
      " [ 715  158]]\n"
     ]
    }
   ],
   "source": [
    "gs_b_preds = best_estim_b.predict(xb_train)\n",
    "gs_b_conf = confusion_matrix(yb_train, gs_b_preds)\n",
    "print(\"Confusion Matrix (Training): \", gs_b_conf)"
   ]
  },
  {
   "cell_type": "code",
   "execution_count": 226,
   "metadata": {},
   "outputs": [
    {
     "name": "stdout",
     "output_type": "stream",
     "text": [
      "Validation scores:                precision    recall  f1-score   support\n",
      "\n",
      "           0       0.88      0.98      0.92      1212\n",
      "           1       0.60      0.20      0.30       208\n",
      "\n",
      "    accuracy                           0.86      1420\n",
      "   macro avg       0.74      0.59      0.61      1420\n",
      "weighted avg       0.84      0.86      0.83      1420\n",
      "\n",
      "Confusion Matrix (Validation):  [[1185   27]\n",
      " [ 167   41]]\n"
     ]
    }
   ],
   "source": [
    "print(\"Validation scores: \", classification_report(yb_val, best_estim_b.predict(xb_val)))\n",
    "\n",
    "gs_b_val_conf = confusion_matrix(yb_val, best_estim_b.predict(xb_val))\n",
    "print(\"Confusion Matrix (Validation): \", gs_b_val_conf)"
   ]
  },
  {
   "cell_type": "code",
   "execution_count": 233,
   "metadata": {},
   "outputs": [],
   "source": [
    "logreg_4 = LogisticRegression(C=500, max_iter=3000, penalty='l1', random_state=33,\n",
    "                   solver='saga')"
   ]
  },
  {
   "cell_type": "code",
   "execution_count": 234,
   "metadata": {},
   "outputs": [
    {
     "name": "stdout",
     "output_type": "stream",
     "text": [
      "Training scores:                precision    recall  f1-score   support\n",
      "\n",
      "           0       0.87      0.98      0.92      4803\n",
      "           1       0.57      0.18      0.28       873\n",
      "\n",
      "    accuracy                           0.85      5676\n",
      "   macro avg       0.72      0.58      0.60      5676\n",
      "weighted avg       0.82      0.85      0.82      5676\n",
      "\n"
     ]
    }
   ],
   "source": [
    "logreg_4.fit(xb_train, yb_train)\n",
    "print(\"Training scores: \", classification_report(yb_train, logreg_4.predict(xb_train)))"
   ]
  },
  {
   "cell_type": "code",
   "execution_count": 240,
   "metadata": {},
   "outputs": [
    {
     "data": {
      "text/plain": [
       "<sklearn.metrics._plot.roc_curve.RocCurveDisplay at 0x7fb8b7f9bb80>"
      ]
     },
     "execution_count": 240,
     "metadata": {},
     "output_type": "execute_result"
    },
    {
     "data": {
      "image/png": "[encoded data removed]",
      "text/plain": [
       "<Figure size 432x288 with 1 Axes>"
      ]
     },
     "metadata": {
      "needs_background": "light"
     },
     "output_type": "display_data"
    }
   ],
   "source": [
    "plot_roc_curve(logreg_4, xb_val, yb_val);"
   ]
  },
  {
   "cell_type": "code",
   "execution_count": 242,
   "metadata": {},
   "outputs": [
    {
     "data": {
      "image/png": "[encoded data removed]",
      "text/plain": [
       "<Figure size 432x288 with 2 Axes>"
      ]
     },
     "metadata": {
      "needs_background": "light"
     },
     "output_type": "display_data"
    }
   ],
   "source": [
    "plot_confusion_matrix(logreg_4, xb_val, yb_val);"
   ]
  },
  {
   "cell_type": "code",
   "execution_count": 245,
   "metadata": {},
   "outputs": [
    {
     "name": "stdout",
     "output_type": "stream",
     "text": [
      "sex [0.15709884]\n",
      "age [0.43722225]\n",
      "pregnancy [-0.57105016]\n",
      "diabetes [0.1062306]\n",
      "copd [-0.13707014]\n",
      "asthma [-0.22621143]\n",
      "inmsupr [0.]\n",
      "hypertension [0.05116365]\n",
      "other_disease [0.06245799]\n",
      "cardiovascular [0.07133529]\n",
      "obesity [-0.0719865]\n",
      "renal_chronic [0.15364423]\n",
      "tobacco [-0.11836819]\n",
      "contact_other_covid [-0.49066814]\n",
      "comorb_count [0.00135693]\n",
      "imm_comorb [9.69918818e-05]\n",
      "imm_covid_pos [0.24016003]\n",
      "imm_other_dis [0.06245799]\n",
      "imm_lung_disease [0.69493726]\n",
      "covid_res_1 [0.24016003]\n",
      "covid_res_2 [-0.18175008]\n"
     ]
    }
   ],
   "source": [
    "for feature, coef in zip(covid_immun[strict_features], logreg_4.coef_.T):\n",
    "    print(feature, coef)"
   ]
  },
  {
   "cell_type": "markdown",
   "metadata": {},
   "source": [
    "### Modeling with Basic Stratification"
   ]
  },
  {
   "cell_type": "code",
   "execution_count": 204,
   "metadata": {},
   "outputs": [],
   "source": [
    "# train / test split\n",
    "\n",
    "i_train, i_test = train_test_split(covid_immun, test_size=0.2, random_state=33, stratify = covid_immun['passed'])"
   ]
  },
  {
   "cell_type": "code",
   "execution_count": 205,
   "metadata": {},
   "outputs": [],
   "source": [
    "# train / validation split\n",
    "i_train, i_val = train_test_split(i_train, test_size=0.2, random_state=33, stratify = i_train['passed'])"
   ]
  },
  {
   "cell_type": "code",
   "execution_count": 206,
   "metadata": {},
   "outputs": [],
   "source": [
    "x_train = i_train[strict_features]\n",
    "y_train = i_train['passed']"
   ]
  },
  {
   "cell_type": "code",
   "execution_count": 207,
   "metadata": {},
   "outputs": [],
   "source": [
    "# Scaling\n",
    "scaler = StandardScaler()\n",
    "x_train = scaler.fit_transform(x_train)\n",
    "\n",
    "x_val = scaler.fit_transform(i_val[strict_features])\n",
    "y_val = i_val['passed']"
   ]
  },
  {
   "cell_type": "code",
   "execution_count": 208,
   "metadata": {},
   "outputs": [],
   "source": [
    "# Initializing Model - simple stratified\n",
    "logreg_ss = LogisticRegression(solver='saga')"
   ]
  },
  {
   "cell_type": "code",
   "execution_count": 212,
   "metadata": {},
   "outputs": [],
   "source": [
    "# GridSearch for best parameters, best estimator\n",
    "params = {\n",
    "    'C': np.logspace(-3, 3, 7),\n",
    "    'penalty':['l1', 'l2'],\n",
    "    'random_state':[33],\n",
    "    'max_iter': [3000]\n",
    "}\n",
    "score = make_scorer(f1_score)"
   ]
  },
  {
   "cell_type": "code",
   "execution_count": 213,
   "metadata": {},
   "outputs": [
    {
     "name": "stdout",
     "output_type": "stream",
     "text": [
      "Best parameters:  {'C': 10.0, 'max_iter': 3000, 'penalty': 'l1', 'random_state': 33}\n",
      "Best estimator : LogisticRegression(C=10.0, max_iter=3000, penalty='l1', random_state=33,\n",
      "                   solver='saga')\n",
      "Training scores:                precision    recall  f1-score   support\n",
      "\n",
      "           0       0.87      0.98      0.92      4820\n",
      "           1       0.59      0.20      0.29       856\n",
      "\n",
      "    accuracy                           0.86      5676\n",
      "   macro avg       0.73      0.59      0.61      5676\n",
      "weighted avg       0.83      0.86      0.83      5676\n",
      "\n"
     ]
    }
   ],
   "source": [
    "gridsearch_ss = GridSearchCV(logreg_ss, params, cv=5, scoring=score)\n",
    "gridsearch_ss.fit(x_train, y_train)\n",
    "\n",
    "print(\"Best parameters: \", gridsearch_ss.best_params_)\n",
    "\n",
    "best_estim_ss = gridsearch_ss.best_estimator_\n",
    "print(\"Best estimator :\", best_estim_ss)\n",
    "\n",
    "best_estim_ss.fit(x_train, y_train)\n",
    "\n",
    "print(\"Training scores: \", classification_report(y_train, best_estim_ss.predict(x_train)))"
   ]
  },
  {
   "cell_type": "code",
   "execution_count": 214,
   "metadata": {},
   "outputs": [
    {
     "name": "stdout",
     "output_type": "stream",
     "text": [
      "Confusion Matrix (Training):  [[4702  118]\n",
      " [ 689  167]]\n"
     ]
    }
   ],
   "source": [
    "gs_ss_preds = best_estim_ss.predict(x_train)\n",
    "gs_ss_conf = confusion_matrix(y_train, gs_ss_preds)\n",
    "print(\"Confusion Matrix (Training): \", gs_ss_conf)"
   ]
  },
  {
   "cell_type": "code",
   "execution_count": 215,
   "metadata": {},
   "outputs": [
    {
     "name": "stdout",
     "output_type": "stream",
     "text": [
      "Validation scores:                precision    recall  f1-score   support\n",
      "\n",
      "           0       0.87      0.98      0.92      1206\n",
      "           1       0.65      0.20      0.31       214\n",
      "\n",
      "    accuracy                           0.86      1420\n",
      "   macro avg       0.76      0.59      0.62      1420\n",
      "weighted avg       0.84      0.86      0.83      1420\n",
      "\n",
      "Confusion Matrix (Validation):  [[1183   23]\n",
      " [ 171   43]]\n"
     ]
    }
   ],
   "source": [
    "print(\"Validation scores: \", classification_report(y_val, best_estim_ss.predict(x_val)))\n",
    "\n",
    "gs_ss_val_conf = confusion_matrix(y_val, best_estim_ss.predict(x_val))\n",
    "print(\"Confusion Matrix (Validation): \", gs_ss_val_conf)"
   ]
  },
  {
   "cell_type": "code",
   "execution_count": 216,
   "metadata": {},
   "outputs": [],
   "source": [
    "xtest = i_test[strict_features]\n",
    "ytest = i_test['passed']"
   ]
  },
  {
   "cell_type": "code",
   "execution_count": 217,
   "metadata": {},
   "outputs": [
    {
     "name": "stdout",
     "output_type": "stream",
     "text": [
      "Confusion Matrix (Test Set):  [[  61 1445]\n",
      " [   6  262]]\n"
     ]
    }
   ],
   "source": [
    "# test set results\n",
    "gs_ss_test_preds = best_estim_ss.predict(xtest)\n",
    "gs_ss_test_conf = confusion_matrix(ytest, gs_ss_test_preds)\n",
    "print(\"Confusion Matrix (Test Set): \", gs_ss_test_conf)"
   ]
  },
  {
   "cell_type": "markdown",
   "metadata": {},
   "source": [
    "### Modeling with Adaptive Synthetic Oversampling"
   ]
  },
  {
   "cell_type": "code",
   "execution_count": 188,
   "metadata": {},
   "outputs": [],
   "source": [
    "# train / test split\n",
    "\n",
    "i_train, i_test = train_test_split(covid_immun, test_size=0.2, random_state=33)"
   ]
  },
  {
   "cell_type": "code",
   "execution_count": 189,
   "metadata": {},
   "outputs": [],
   "source": [
    "# train / validation split\n",
    "i_train, i_val = train_test_split(i_train, test_size=0.2, random_state=33)"
   ]
  },
  {
   "cell_type": "code",
   "execution_count": 190,
   "metadata": {},
   "outputs": [],
   "source": [
    "xitrain = i_train[strict_features]\n",
    "yitrain = i_train['passed']"
   ]
  },
  {
   "cell_type": "code",
   "execution_count": 191,
   "metadata": {},
   "outputs": [
    {
     "data": {
      "text/plain": [
       "Counter({0: 4803, 1: 4788})"
      ]
     },
     "execution_count": 191,
     "metadata": {},
     "output_type": "execute_result"
    }
   ],
   "source": [
    "# Addressing class imbalance\n",
    "Xi_adasyn, yi_adasyn = ADASYN(random_state=33).fit_sample(xitrain, yitrain)\n",
    "Counter(yi_adasyn)"
   ]
  },
  {
   "cell_type": "code",
   "execution_count": 192,
   "metadata": {},
   "outputs": [],
   "source": [
    "# Scaling\n",
    "scaler = StandardScaler()\n",
    "Xi_adasyn = scaler.fit_transform(Xi_adasyn)\n",
    "\n",
    "xi_val = scaler.fit_transform(i_val[strict_features])\n",
    "yi_val = i_val['passed']"
   ]
  },
  {
   "cell_type": "code",
   "execution_count": 193,
   "metadata": {},
   "outputs": [],
   "source": [
    "# Initializing Model\n",
    "logreg_i = LogisticRegression(solver='saga')"
   ]
  },
  {
   "cell_type": "code",
   "execution_count": 194,
   "metadata": {},
   "outputs": [
    {
     "data": {
      "text/plain": [
       "make_scorer(f1_score)"
      ]
     },
     "execution_count": 194,
     "metadata": {},
     "output_type": "execute_result"
    }
   ],
   "source": [
    "# GridSearch for best parameters, best estimator\n",
    "params = {\n",
    "    'C': np.logspace(-3, 3, 7),\n",
    "    'penalty':['l1', 'l2'],\n",
    "    'random_state':[33],\n",
    "    'max_iter': [5000]\n",
    "}\n",
    "make_scorer(f1_score)"
   ]
  },
  {
   "cell_type": "code",
   "execution_count": 195,
   "metadata": {},
   "outputs": [
    {
     "name": "stdout",
     "output_type": "stream",
     "text": [
      "Best parameters:  {'C': 0.001, 'max_iter': 5000, 'penalty': 'l1', 'random_state': 33}\n",
      "Best estimator : LogisticRegression(C=0.001, max_iter=5000, penalty='l1', random_state=33,\n",
      "                   solver='saga')\n",
      "Training scores:                precision    recall  f1-score   support\n",
      "\n",
      "           0       0.83      0.33      0.48      4803\n",
      "           1       0.58      0.93      0.72      4788\n",
      "\n",
      "    accuracy                           0.63      9591\n",
      "   macro avg       0.71      0.63      0.60      9591\n",
      "weighted avg       0.71      0.63      0.60      9591\n",
      "\n"
     ]
    }
   ],
   "source": [
    "gridsearch = GridSearchCV(logreg_i, params, cv=5, scoring=score)\n",
    "gridsearch.fit(Xi_adasyn, yi_adasyn)\n",
    "\n",
    "print(\"Best parameters: \", gridsearch.best_params_)\n",
    "\n",
    "best_estim = gridsearch.best_estimator_\n",
    "print(\"Best estimator :\", best_estim)\n",
    "\n",
    "best_estim.fit(Xi_adasyn, yi_adasyn)\n",
    "\n",
    "print(\"Training scores: \", classification_report(yi_adasyn, best_estim.predict(Xi_adasyn)))"
   ]
  },
  {
   "cell_type": "code",
   "execution_count": 196,
   "metadata": {},
   "outputs": [
    {
     "name": "stdout",
     "output_type": "stream",
     "text": [
      "Confusion Matrix (Training):  [[1599 3204]\n",
      " [ 321 4467]]\n"
     ]
    }
   ],
   "source": [
    "gsi_preds = best_estim.predict(Xi_adasyn)\n",
    "gsi_conf = confusion_matrix(yi_adasyn, gsi_preds)\n",
    "print(\"Confusion Matrix (Training): \", gsi_conf)"
   ]
  },
  {
   "cell_type": "code",
   "execution_count": 197,
   "metadata": {},
   "outputs": [
    {
     "name": "stdout",
     "output_type": "stream",
     "text": [
      "Validation scores:                precision    recall  f1-score   support\n",
      "\n",
      "           0       0.95      0.29      0.44      1212\n",
      "           1       0.18      0.92      0.30       208\n",
      "\n",
      "    accuracy                           0.38      1420\n",
      "   macro avg       0.57      0.60      0.37      1420\n",
      "weighted avg       0.84      0.38      0.42      1420\n",
      "\n",
      "Confusion Matrix (Validation):  [[349 863]\n",
      " [ 17 191]]\n"
     ]
    }
   ],
   "source": [
    "print(\"Validation scores: \", classification_report(yi_val, best_estim.predict(xi_val)))\n",
    "\n",
    "gsi_val_conf = confusion_matrix(yi_val, best_estim.predict(xi_val))\n",
    "print(\"Confusion Matrix (Validation): \", gsi_val_conf)"
   ]
  },
  {
   "cell_type": "code",
   "execution_count": 198,
   "metadata": {},
   "outputs": [
    {
     "name": "stdout",
     "output_type": "stream",
     "text": [
      "sex [0.]\n",
      "age [0.05673535]\n",
      "pregnancy [0.]\n",
      "diabetes [0.]\n",
      "copd [0.]\n",
      "asthma [0.]\n",
      "inmsupr [0.]\n",
      "hypertension [0.]\n",
      "other_disease [0.]\n",
      "cardiovascular [0.]\n",
      "obesity [0.]\n",
      "renal_chronic [0.]\n",
      "tobacco [0.]\n",
      "contact_other_covid [-0.25406152]\n",
      "comorb_count [0.]\n",
      "imm_comorb [0.]\n",
      "imm_covid_pos [0.]\n",
      "imm_other_dis [0.]\n",
      "imm_lung_disease [0.]\n",
      "covid_res_1 [0.]\n",
      "covid_res_2 [0.]\n"
     ]
    }
   ],
   "source": [
    "for feature, coef in zip(covid_immun[strict_features], best_estim.coef_.T):\n",
    "    print(feature, coef)"
   ]
  },
  {
   "cell_type": "code",
   "execution_count": 199,
   "metadata": {},
   "outputs": [],
   "source": [
    "xtest = i_test[strict_features]\n",
    "ytest = i_test['passed']"
   ]
  },
  {
   "cell_type": "code",
   "execution_count": 200,
   "metadata": {},
   "outputs": [
    {
     "name": "stdout",
     "output_type": "stream",
     "text": [
      "Confusion Matrix (Test Set):  [[  23 1494]\n",
      " [   2  255]]\n"
     ]
    }
   ],
   "source": [
    "# test set results\n",
    "gsi_test_preds = best_estim.predict(xtest)\n",
    "gsi_test_conf = confusion_matrix(ytest, gsi_test_preds)\n",
    "print(\"Confusion Matrix (Test Set): \", gsi_test_conf)"
   ]
  },
  {
   "cell_type": "code",
   "execution_count": 201,
   "metadata": {},
   "outputs": [
    {
     "data": {
      "text/plain": [
       "<sklearn.metrics._plot.precision_recall_curve.PrecisionRecallDisplay at 0x7fb8b7e12c70>"
      ]
     },
     "execution_count": 201,
     "metadata": {},
     "output_type": "execute_result"
    },
    {
     "data": {
      "image/png": "[encoded data removed]",
      "text/plain": [
       "<Figure size 432x288 with 1 Axes>"
      ]
     },
     "metadata": {
      "needs_background": "light"
     },
     "output_type": "display_data"
    }
   ],
   "source": [
    "# test set graphing, visualization\n",
    "plot_precision_recall_curve(best_estim, xtest, ytest)"
   ]
  },
  {
   "cell_type": "code",
   "execution_count": 202,
   "metadata": {},
   "outputs": [
    {
     "data": {
      "text/plain": [
       "<sklearn.metrics._plot.roc_curve.RocCurveDisplay at 0x7fb8ba1e6e50>"
      ]
     },
     "execution_count": 202,
     "metadata": {},
     "output_type": "execute_result"
    },
    {
     "data": {
      "image/png": "[encoded data removed]",
      "text/plain": [
       "<Figure size 432x288 with 1 Axes>"
      ]
     },
     "metadata": {
      "needs_background": "light"
     },
     "output_type": "display_data"
    }
   ],
   "source": [
    "plot_roc_curve(best_estim, xtest, ytest)"
   ]
  },
  {
   "cell_type": "code",
   "execution_count": 203,
   "metadata": {},
   "outputs": [
    {
     "data": {
      "text/plain": [
       "<sklearn.metrics._plot.confusion_matrix.ConfusionMatrixDisplay at 0x7fb8b8dd1e80>"
      ]
     },
     "execution_count": 203,
     "metadata": {},
     "output_type": "execute_result"
    },
    {
     "data": {
      "image/png": "[encoded data removed]",
      "text/plain": [
       "<Figure size 432x288 with 2 Axes>"
      ]
     },
     "metadata": {
      "needs_background": "light"
     },
     "output_type": "display_data"
    }
   ],
   "source": [
    "plot_confusion_matrix(best_estim, xtest, ytest)"
   ]
  },
  {
   "cell_type": "code",
   "execution_count": 154,
   "metadata": {},
   "outputs": [
    {
     "data": {
      "image/png": "[encoded data removed]",
      "text/plain": [
       "<Figure size 900x600 with 2 Axes>"
      ]
     },
     "metadata": {
      "needs_background": "light"
     },
     "output_type": "display_data"
    }
   ],
   "source": [
    "plt.figure(dpi=150)\n",
    "sns.heatmap(gsi_test_conf, cmap=plt.cm.OrRd, annot=True, fmt='d', square=True,\n",
    "           xticklabels=['Survived', 'Died'],\n",
    "           yticklabels=['Survived', 'Died'])\n",
    "\n",
    "plt.xlabel('Predicted values')\n",
    "plt.ylabel('Actual values')\n",
    "plt.title('COVID Deaths - Logistic Regression, ADASYN Oversampling')\n",
    "plt.savefig('COVID_LR_GSCV_ADASYN_matrix', dpi=600, bbox_inches='tight');"
   ]
  },
  {
   "cell_type": "code",
   "execution_count": 156,
   "metadata": {},
   "outputs": [
    {
     "data": {
      "image/png": "[encoded data removed]",
      "text/plain": [
       "<Figure size 1080x504 with 1 Axes>"
      ]
     },
     "metadata": {
      "needs_background": "light"
     },
     "output_type": "display_data"
    }
   ],
   "source": [
    "probas= best_estim.predict_proba(xtest)[:,1]\n",
    "\n",
    "plt.figure(figsize=(15,7))\n",
    "plt.hist(probas[ytest==0], bins=50, label='Survived')\n",
    "plt.hist(probas[ytest==1], bins=50, label='Died')\n",
    "plt.xlabel('Probabilities of Class Assignment, Survived vs. Died')\n",
    "plt.ylabel('Number of records in each bucket', fontsize=25)\n",
    "plt.legend(fontsize=15)\n",
    "plt.tick_params(axis='both', labelsize=25, pad=5)\n",
    "plt.show();"
   ]
  },
  {
   "cell_type": "code",
   "execution_count": 170,
   "metadata": {},
   "outputs": [],
   "source": [
    "logreg_i2 = LogisticRegression(solver='saga', C=.05, penalty='l1', random_state=33)"
   ]
  },
  {
   "cell_type": "code",
   "execution_count": 171,
   "metadata": {},
   "outputs": [
    {
     "name": "stdout",
     "output_type": "stream",
     "text": [
      "Training scores:                precision    recall  f1-score   support\n",
      "\n",
      "           0       0.76      0.76      0.76      4820\n",
      "           1       0.76      0.77      0.77      4912\n",
      "\n",
      "    accuracy                           0.76      9732\n",
      "   macro avg       0.76      0.76      0.76      9732\n",
      "weighted avg       0.76      0.76      0.76      9732\n",
      "\n"
     ]
    }
   ],
   "source": [
    "logreg_i2.fit(Xi_adasyn, yi_adasyn)\n",
    "print(\"Training scores: \", classification_report(yi_adasyn, logreg_i2.predict(Xi_adasyn)))"
   ]
  },
  {
   "cell_type": "code",
   "execution_count": 172,
   "metadata": {},
   "outputs": [
    {
     "name": "stdout",
     "output_type": "stream",
     "text": [
      "Confusion Matrix (Training):  [[3659 1161]\n",
      " [1145 3767]]\n"
     ]
    }
   ],
   "source": [
    "lr2_preds = logreg_i2.predict(Xi_adasyn)\n",
    "lr2_conf = confusion_matrix(yi_adasyn, lr2_preds)\n",
    "print(\"Confusion Matrix (Training): \", lr2_conf)"
   ]
  },
  {
   "cell_type": "code",
   "execution_count": 173,
   "metadata": {},
   "outputs": [
    {
     "name": "stdout",
     "output_type": "stream",
     "text": [
      "Validation scores:                precision    recall  f1-score   support\n",
      "\n",
      "           0       0.95      0.45      0.61      1206\n",
      "           1       0.22      0.87      0.35       214\n",
      "\n",
      "    accuracy                           0.51      1420\n",
      "   macro avg       0.59      0.66      0.48      1420\n",
      "weighted avg       0.84      0.51      0.57      1420\n",
      "\n",
      "Confusion Matrix (Validation):  [[539 667]\n",
      " [ 27 187]]\n"
     ]
    }
   ],
   "source": [
    "print(\"Validation scores: \", classification_report(yi_val, logreg_i2.predict(xi_val)))\n",
    "\n",
    "lr2_val_conf = confusion_matrix(yi_val, logreg_i2.predict(xi_val))\n",
    "print(\"Confusion Matrix (Validation): \", lr2_val_conf)"
   ]
  },
  {
   "cell_type": "code",
   "execution_count": 185,
   "metadata": {},
   "outputs": [],
   "source": [
    "xtest = i_test[strict_features]\n",
    "ytest = i_test['passed']"
   ]
  },
  {
   "cell_type": "code",
   "execution_count": 175,
   "metadata": {},
   "outputs": [
    {
     "name": "stdout",
     "output_type": "stream",
     "text": [
      "Test scores:                precision    recall  f1-score   support\n",
      "\n",
      "           0       1.00      0.00      0.00      1506\n",
      "           1       0.15      1.00      0.26       268\n",
      "\n",
      "    accuracy                           0.15      1774\n",
      "   macro avg       0.58      0.50      0.13      1774\n",
      "weighted avg       0.87      0.15      0.04      1774\n",
      "\n",
      "Confusion Matrix (Test Set):  [[   3 1503]\n",
      " [   0  268]]\n"
     ]
    }
   ],
   "source": [
    "# test set results\n",
    "print(\"Test scores: \", classification_report(ytest, logreg_i2.predict(xtest)))\n",
    "\n",
    "lr2_test_conf = confusion_matrix(ytest, logreg_i2.predict(xtest))\n",
    "print(\"Confusion Matrix (Test Set): \", lr2_test_conf)"
   ]
  },
  {
   "cell_type": "code",
   "execution_count": 180,
   "metadata": {},
   "outputs": [],
   "source": [
    "logreg_i3 = LogisticRegression()"
   ]
  },
  {
   "cell_type": "code",
   "execution_count": 181,
   "metadata": {},
   "outputs": [
    {
     "data": {
      "text/plain": [
       "make_scorer(f1_score)"
      ]
     },
     "execution_count": 181,
     "metadata": {},
     "output_type": "execute_result"
    }
   ],
   "source": [
    "# GridSearch for best parameters, best estimator\n",
    "params = {\n",
    "    'C': np.logspace(-3, 3, 7),\n",
    "    'penalty':['l2'],\n",
    "    'random_state':[33],\n",
    "    'max_iter': [5000]\n",
    "}\n",
    "make_scorer(f1_score)"
   ]
  },
  {
   "cell_type": "code",
   "execution_count": 182,
   "metadata": {},
   "outputs": [
    {
     "name": "stdout",
     "output_type": "stream",
     "text": [
      "Best parameters:  {'C': 0.01, 'max_iter': 5000, 'penalty': 'l2', 'random_state': 33}\n",
      "Best estimator : LogisticRegression(C=0.01, max_iter=5000, random_state=33)\n",
      "Training scores:                precision    recall  f1-score   support\n",
      "\n",
      "           0       0.77      0.72      0.74      4820\n",
      "           1       0.74      0.79      0.77      4912\n",
      "\n",
      "    accuracy                           0.76      9732\n",
      "   macro avg       0.76      0.76      0.76      9732\n",
      "weighted avg       0.76      0.76      0.76      9732\n",
      "\n"
     ]
    }
   ],
   "source": [
    "gridsearch_i3 = GridSearchCV(logreg_i3, params, cv=5, scoring=score)\n",
    "gridsearch_i3.fit(Xi_adasyn, yi_adasyn)\n",
    "\n",
    "print(\"Best parameters: \", gridsearch_i3.best_params_)\n",
    "\n",
    "best_estim_i3 = gridsearch_i3.best_estimator_\n",
    "print(\"Best estimator :\", best_estim_i3)\n",
    "\n",
    "best_estim_i3.fit(Xi_adasyn, yi_adasyn)\n",
    "\n",
    "print(\"Training scores: \", classification_report(yi_adasyn, best_estim_i3.predict(Xi_adasyn)))"
   ]
  },
  {
   "cell_type": "code",
   "execution_count": 184,
   "metadata": {},
   "outputs": [
    {
     "name": "stdout",
     "output_type": "stream",
     "text": [
      "Confusion Matrix (Training):  [[3448 1372]\n",
      " [1007 3905]]\n"
     ]
    }
   ],
   "source": [
    "lr3_preds = best_estim_i3.predict(Xi_adasyn)\n",
    "lr3_conf = confusion_matrix(yi_adasyn, lr3_preds)\n",
    "print(\"Confusion Matrix (Training): \", lr3_conf)"
   ]
  },
  {
   "cell_type": "code",
   "execution_count": 187,
   "metadata": {},
   "outputs": [
    {
     "name": "stdout",
     "output_type": "stream",
     "text": [
      "Test scores:                precision    recall  f1-score   support\n",
      "\n",
      "           0       1.00      0.00      0.01      1506\n",
      "           1       0.15      1.00      0.26       268\n",
      "\n",
      "    accuracy                           0.15      1774\n",
      "   macro avg       0.58      0.50      0.13      1774\n",
      "weighted avg       0.87      0.15      0.05      1774\n",
      "\n",
      "Confusion Matrix (Test Set):  [[   5 1501]\n",
      " [   0  268]]\n"
     ]
    }
   ],
   "source": [
    "# test set results\n",
    "print(\"Test scores: \", classification_report(ytest, best_estim_i3.predict(xtest)))\n",
    "\n",
    "lr3_test_conf = confusion_matrix(ytest, best_estim_i3.predict(xtest))\n",
    "print(\"Confusion Matrix (Test Set): \", lr3_test_conf)"
   ]
  },
  {
   "cell_type": "code",
   "execution_count": null,
   "metadata": {},
   "outputs": [],
   "source": [
    "import pickle\n",
    "import os\n",
    "\n",
    "if not os.path.exists('models'):\n",
    "    os.makedirs('models')\n",
    "    \n",
    "\n",
    "with open(f'models/{LR_GSCV_ADASYN_immun}.pickle', 'wb') as pfile:\n",
    "     pickle.dump(best_estim)"
   ]
  },
  {
   "cell_type": "markdown",
   "metadata": {},
   "source": [
    "### Hospitalized Only: Modeling To Predict COVID Deaths"
   ]
  },
  {
   "cell_type": "code",
   "execution_count": 121,
   "metadata": {},
   "outputs": [],
   "source": [
    "# train / test split\n",
    "\n",
    "h_train, h_test = train_test_split(covid_hosp, test_size=0.2, random_state=33, stratify=covid_hosp['passed'])"
   ]
  },
  {
   "cell_type": "code",
   "execution_count": 122,
   "metadata": {},
   "outputs": [],
   "source": [
    "# train / validation split\n",
    "h_train, h_val = train_test_split(h_train, test_size=0.2, random_state=33, stratify=h_train['passed'])"
   ]
  },
  {
   "cell_type": "code",
   "execution_count": 123,
   "metadata": {},
   "outputs": [],
   "source": [
    "xhtrain = h_train[strict_features]\n",
    "yhtrain = h_train['passed']"
   ]
  },
  {
   "cell_type": "code",
   "execution_count": 124,
   "metadata": {},
   "outputs": [
    {
     "data": {
      "text/plain": [
       "Counter({0: 56369, 1: 55828})"
      ]
     },
     "execution_count": 124,
     "metadata": {},
     "output_type": "execute_result"
    }
   ],
   "source": [
    "# Addressing class imbalance\n",
    "Xh_adasyn, yh_adasyn = ADASYN(random_state=33).fit_sample(xhtrain, yhtrain)\n",
    "Counter(yh_adasyn)"
   ]
  },
  {
   "cell_type": "code",
   "execution_count": 125,
   "metadata": {},
   "outputs": [],
   "source": [
    "# Scaling\n",
    "scaler = StandardScaler()\n",
    "Xh_adasyn = scaler.fit_transform(Xh_adasyn)\n",
    "\n",
    "xh_val = scaler.fit_transform(h_val[strict_features])\n",
    "yh_val = h_val['passed']"
   ]
  },
  {
   "cell_type": "code",
   "execution_count": 127,
   "metadata": {},
   "outputs": [],
   "source": [
    "# Initializing Model\n",
    "logreg_h = LogisticRegression(solver='saga')"
   ]
  },
  {
   "cell_type": "code",
   "execution_count": 128,
   "metadata": {},
   "outputs": [
    {
     "data": {
      "text/plain": [
       "make_scorer(f1_score)"
      ]
     },
     "execution_count": 128,
     "metadata": {},
     "output_type": "execute_result"
    }
   ],
   "source": [
    "# GridSearch for best parameters, best estimator\n",
    "params = {\n",
    "    'C': np.logspace(-3, 3, 7),\n",
    "    'penalty':['l1', 'l2'],\n",
    "    'random_state':[33],\n",
    "    'max_iter': [5000]\n",
    "}\n",
    "make_scorer(f1_score)"
   ]
  },
  {
   "cell_type": "code",
   "execution_count": 129,
   "metadata": {},
   "outputs": [
    {
     "name": "stdout",
     "output_type": "stream",
     "text": [
      "Best parameters:  {'C': 0.001, 'max_iter': 5000, 'penalty': 'l2', 'random_state': 33}\n",
      "Best estimator : LogisticRegression(C=0.001, max_iter=5000, random_state=33, solver='saga')\n",
      "Training scores:                precision    recall  f1-score   support\n",
      "\n",
      "           0       0.68      0.59      0.64     56369\n",
      "           1       0.64      0.72      0.68     55828\n",
      "\n",
      "    accuracy                           0.66    112197\n",
      "   macro avg       0.66      0.66      0.66    112197\n",
      "weighted avg       0.66      0.66      0.66    112197\n",
      "\n"
     ]
    }
   ],
   "source": [
    "gridsearch_h = GridSearchCV(logreg_h, params, cv=5, scoring=score)\n",
    "gridsearch_h.fit(Xh_adasyn, yh_adasyn)\n",
    "\n",
    "print(\"Best parameters: \", gridsearch_h.best_params_)\n",
    "\n",
    "best_estim_h = gridsearch_h.best_estimator_\n",
    "print(\"Best estimator :\", best_estim_h)\n",
    "\n",
    "best_estim_h.fit(Xh_adasyn, yh_adasyn)\n",
    "\n",
    "print(\"Training scores: \", classification_report(yh_adasyn, best_estim_h.predict(Xh_adasyn)))"
   ]
  },
  {
   "cell_type": "code",
   "execution_count": 136,
   "metadata": {},
   "outputs": [
    {
     "name": "stdout",
     "output_type": "stream",
     "text": [
      "Confusion Matrix (Training):  [[33447 22922]\n",
      " [15451 40377]]\n"
     ]
    }
   ],
   "source": [
    "gsh_preds = best_estim_h.predict(Xh_adasyn)\n",
    "gsh_conf = confusion_matrix(yh_adasyn, gsh_preds)\n",
    "print(\"Confusion Matrix (Training): \", gsh_conf)"
   ]
  },
  {
   "cell_type": "code",
   "execution_count": 137,
   "metadata": {},
   "outputs": [
    {
     "name": "stdout",
     "output_type": "stream",
     "text": [
      "Validation scores:                precision    recall  f1-score   support\n",
      "\n",
      "           0       0.87      0.53      0.66     14092\n",
      "           1       0.38      0.78      0.51      5112\n",
      "\n",
      "    accuracy                           0.60     19204\n",
      "   macro avg       0.62      0.66      0.58     19204\n",
      "weighted avg       0.74      0.60      0.62     19204\n",
      "\n",
      "Confusion Matrix (Validation):  [[7516 6576]\n",
      " [1137 3975]]\n"
     ]
    }
   ],
   "source": [
    "print(\"Validation scores: \", classification_report(yh_val, best_estim_h.predict(xh_val)))\n",
    "\n",
    "gsh_val_conf = confusion_matrix(yh_val, best_estim_h.predict(xh_val))\n",
    "print(\"Confusion Matrix (Validation): \", gsh_val_conf)"
   ]
  },
  {
   "cell_type": "code",
   "execution_count": 138,
   "metadata": {},
   "outputs": [
    {
     "name": "stdout",
     "output_type": "stream",
     "text": [
      "sex [0.08259293]\n",
      "age [0.47234919]\n",
      "pregnancy [-0.14960813]\n",
      "diabetes [-0.16106479]\n",
      "copd [-0.15961676]\n",
      "asthma [-0.19496643]\n",
      "inmsupr [-0.07522039]\n",
      "hypertension [-0.19269785]\n",
      "other_disease [-0.1310629]\n",
      "cardiovascular [-0.15413393]\n",
      "obesity [-0.15582114]\n",
      "renal_chronic [-0.09864176]\n",
      "tobacco [-0.1877712]\n",
      "contact_other_covid [-0.31512152]\n",
      "comorb_count [0.60068664]\n",
      "imm_comorb [-0.02619142]\n",
      "imm_covid_pos [0.01639943]\n",
      "imm_other_dis [0.02487082]\n",
      "imm_lung_disease [0.07670125]\n",
      "covid_res_1 [0.2966205]\n",
      "covid_res_2 [-0.23956453]\n"
     ]
    }
   ],
   "source": [
    "for feature, coef in zip(covid_hosp[strict_features], best_estim_h.coef_.T):\n",
    "    print(feature, coef)"
   ]
  },
  {
   "cell_type": "code",
   "execution_count": null,
   "metadata": {},
   "outputs": [],
   "source": []
  },
  {
   "cell_type": "code",
   "execution_count": null,
   "metadata": {},
   "outputs": [],
   "source": []
  },
  {
   "cell_type": "code",
   "execution_count": null,
   "metadata": {},
   "outputs": [],
   "source": []
  },
  {
   "cell_type": "code",
   "execution_count": null,
   "metadata": {},
   "outputs": [],
   "source": []
  },
  {
   "cell_type": "code",
   "execution_count": null,
   "metadata": {},
   "outputs": [],
   "source": []
  },
  {
   "cell_type": "code",
   "execution_count": null,
   "metadata": {},
   "outputs": [],
   "source": []
  },
  {
   "cell_type": "code",
   "execution_count": null,
   "metadata": {},
   "outputs": [],
   "source": []
  },
  {
   "cell_type": "code",
   "execution_count": null,
   "metadata": {},
   "outputs": [],
   "source": []
  },
  {
   "cell_type": "code",
   "execution_count": null,
   "metadata": {},
   "outputs": [],
   "source": []
  },
  {
   "cell_type": "markdown",
   "metadata": {},
   "source": [
    "### Complete Dataset: Modeling to Predict Deaths (Do Not Run w ADASYN)"
   ]
  },
  {
   "cell_type": "code",
   "execution_count": 139,
   "metadata": {},
   "outputs": [],
   "source": [
    "# train / test split\n",
    "f_train, f_test = train_test_split(covid_total_feats, test_size=0.2, random_state=33, stratify=covid_total_feats['passed'])"
   ]
  },
  {
   "cell_type": "code",
   "execution_count": 140,
   "metadata": {},
   "outputs": [],
   "source": [
    "# train / validation split\n",
    "f_train, f_val = train_test_split(f_train, test_size=0.2, random_state=33, stratify=f_train['passed'])"
   ]
  },
  {
   "cell_type": "code",
   "execution_count": 141,
   "metadata": {},
   "outputs": [],
   "source": [
    "xftrain = f_train[strict_features]\n",
    "yftrain = f_train['passed']"
   ]
  },
  {
   "cell_type": "code",
   "execution_count": 142,
   "metadata": {},
   "outputs": [
    {
     "data": {
      "text/plain": [
       "Counter({0: 336378, 1: 332776})"
      ]
     },
     "execution_count": 142,
     "metadata": {},
     "output_type": "execute_result"
    }
   ],
   "source": [
    "# Addressing class imbalance\n",
    "Xf_adasyn, yf_adasyn = ADASYN(random_state=33).fit_sample(xftrain, yftrain)\n",
    "Counter(yf_adasyn)"
   ]
  },
  {
   "cell_type": "code",
   "execution_count": 143,
   "metadata": {},
   "outputs": [],
   "source": [
    "# Scaling\n",
    "scaler = StandardScaler()\n",
    "Xf_adasyn = scaler.fit_transform(Xf_adasyn)\n",
    "\n",
    "xf_val = scaler.fit_transform(f_val[strict_features])\n",
    "yf_val = f_val['passed']"
   ]
  },
  {
   "cell_type": "code",
   "execution_count": 144,
   "metadata": {},
   "outputs": [],
   "source": [
    "# Initializing Model\n",
    "logreg_f = LogisticRegression(solver='saga')"
   ]
  },
  {
   "cell_type": "code",
   "execution_count": 145,
   "metadata": {},
   "outputs": [
    {
     "data": {
      "text/plain": [
       "make_scorer(f1_score)"
      ]
     },
     "execution_count": 145,
     "metadata": {},
     "output_type": "execute_result"
    }
   ],
   "source": [
    "# GridSearch for best parameters, best estimator\n",
    "params = {\n",
    "    'C': np.logspace(-3, 3, 7),\n",
    "    'penalty':['l1', 'l2'],\n",
    "    'random_state':[33],\n",
    "    'max_iter': [5000]\n",
    "}\n",
    "make_scorer(f1_score)"
   ]
  },
  {
   "cell_type": "code",
   "execution_count": 146,
   "metadata": {},
   "outputs": [
    {
     "ename": "KeyboardInterrupt",
     "evalue": "",
     "output_type": "error",
     "traceback": [
      "\u001b[0;31m---------------------------------------------------------------------------\u001b[0m",
      "\u001b[0;31mKeyboardInterrupt\u001b[0m                         Traceback (most recent call last)",
      "\u001b[0;32m<ipython-input-146-edfb0fd2823d>\u001b[0m in \u001b[0;36m<module>\u001b[0;34m\u001b[0m\n\u001b[1;32m      1\u001b[0m \u001b[0mgridsearch_f\u001b[0m \u001b[0;34m=\u001b[0m \u001b[0mGridSearchCV\u001b[0m\u001b[0;34m(\u001b[0m\u001b[0mlogreg_f\u001b[0m\u001b[0;34m,\u001b[0m \u001b[0mparams\u001b[0m\u001b[0;34m,\u001b[0m \u001b[0mcv\u001b[0m\u001b[0;34m=\u001b[0m\u001b[0;36m5\u001b[0m\u001b[0;34m,\u001b[0m \u001b[0mscoring\u001b[0m\u001b[0;34m=\u001b[0m\u001b[0mscore\u001b[0m\u001b[0;34m)\u001b[0m\u001b[0;34m\u001b[0m\u001b[0;34m\u001b[0m\u001b[0m\n\u001b[0;32m----> 2\u001b[0;31m \u001b[0mgridsearch_f\u001b[0m\u001b[0;34m.\u001b[0m\u001b[0mfit\u001b[0m\u001b[0;34m(\u001b[0m\u001b[0mXf_adasyn\u001b[0m\u001b[0;34m,\u001b[0m \u001b[0myf_adasyn\u001b[0m\u001b[0;34m)\u001b[0m\u001b[0;34m\u001b[0m\u001b[0;34m\u001b[0m\u001b[0m\n\u001b[0m\u001b[1;32m      3\u001b[0m \u001b[0;34m\u001b[0m\u001b[0m\n\u001b[1;32m      4\u001b[0m \u001b[0mprint\u001b[0m\u001b[0;34m(\u001b[0m\u001b[0;34m\"Best parameters on full dataset: \"\u001b[0m\u001b[0;34m,\u001b[0m \u001b[0mgridsearch_f\u001b[0m\u001b[0;34m.\u001b[0m\u001b[0mbest_params_\u001b[0m\u001b[0;34m)\u001b[0m\u001b[0;34m\u001b[0m\u001b[0;34m\u001b[0m\u001b[0m\n\u001b[1;32m      5\u001b[0m \u001b[0;34m\u001b[0m\u001b[0m\n",
      "\u001b[0;32m~/workspace/anaconda3/lib/python3.8/site-packages/sklearn/utils/validation.py\u001b[0m in \u001b[0;36minner_f\u001b[0;34m(*args, **kwargs)\u001b[0m\n\u001b[1;32m     70\u001b[0m                           FutureWarning)\n\u001b[1;32m     71\u001b[0m         \u001b[0mkwargs\u001b[0m\u001b[0;34m.\u001b[0m\u001b[0mupdate\u001b[0m\u001b[0;34m(\u001b[0m\u001b[0;34m{\u001b[0m\u001b[0mk\u001b[0m\u001b[0;34m:\u001b[0m \u001b[0marg\u001b[0m \u001b[0;32mfor\u001b[0m \u001b[0mk\u001b[0m\u001b[0;34m,\u001b[0m \u001b[0marg\u001b[0m \u001b[0;32min\u001b[0m \u001b[0mzip\u001b[0m\u001b[0;34m(\u001b[0m\u001b[0msig\u001b[0m\u001b[0;34m.\u001b[0m\u001b[0mparameters\u001b[0m\u001b[0;34m,\u001b[0m \u001b[0margs\u001b[0m\u001b[0;34m)\u001b[0m\u001b[0;34m}\u001b[0m\u001b[0;34m)\u001b[0m\u001b[0;34m\u001b[0m\u001b[0;34m\u001b[0m\u001b[0m\n\u001b[0;32m---> 72\u001b[0;31m         \u001b[0;32mreturn\u001b[0m \u001b[0mf\u001b[0m\u001b[0;34m(\u001b[0m\u001b[0;34m**\u001b[0m\u001b[0mkwargs\u001b[0m\u001b[0;34m)\u001b[0m\u001b[0;34m\u001b[0m\u001b[0;34m\u001b[0m\u001b[0m\n\u001b[0m\u001b[1;32m     73\u001b[0m     \u001b[0;32mreturn\u001b[0m \u001b[0minner_f\u001b[0m\u001b[0;34m\u001b[0m\u001b[0;34m\u001b[0m\u001b[0m\n\u001b[1;32m     74\u001b[0m \u001b[0;34m\u001b[0m\u001b[0m\n",
      "\u001b[0;32m~/workspace/anaconda3/lib/python3.8/site-packages/sklearn/model_selection/_search.py\u001b[0m in \u001b[0;36mfit\u001b[0;34m(self, X, y, groups, **fit_params)\u001b[0m\n\u001b[1;32m    734\u001b[0m                 \u001b[0;32mreturn\u001b[0m \u001b[0mresults\u001b[0m\u001b[0;34m\u001b[0m\u001b[0;34m\u001b[0m\u001b[0m\n\u001b[1;32m    735\u001b[0m \u001b[0;34m\u001b[0m\u001b[0m\n\u001b[0;32m--> 736\u001b[0;31m             \u001b[0mself\u001b[0m\u001b[0;34m.\u001b[0m\u001b[0m_run_search\u001b[0m\u001b[0;34m(\u001b[0m\u001b[0mevaluate_candidates\u001b[0m\u001b[0;34m)\u001b[0m\u001b[0;34m\u001b[0m\u001b[0;34m\u001b[0m\u001b[0m\n\u001b[0m\u001b[1;32m    737\u001b[0m \u001b[0;34m\u001b[0m\u001b[0m\n\u001b[1;32m    738\u001b[0m         \u001b[0;31m# For multi-metric evaluation, store the best_index_, best_params_ and\u001b[0m\u001b[0;34m\u001b[0m\u001b[0;34m\u001b[0m\u001b[0;34m\u001b[0m\u001b[0m\n",
      "\u001b[0;32m~/workspace/anaconda3/lib/python3.8/site-packages/sklearn/model_selection/_search.py\u001b[0m in \u001b[0;36m_run_search\u001b[0;34m(self, evaluate_candidates)\u001b[0m\n\u001b[1;32m   1186\u001b[0m     \u001b[0;32mdef\u001b[0m \u001b[0m_run_search\u001b[0m\u001b[0;34m(\u001b[0m\u001b[0mself\u001b[0m\u001b[0;34m,\u001b[0m \u001b[0mevaluate_candidates\u001b[0m\u001b[0;34m)\u001b[0m\u001b[0;34m:\u001b[0m\u001b[0;34m\u001b[0m\u001b[0;34m\u001b[0m\u001b[0m\n\u001b[1;32m   1187\u001b[0m         \u001b[0;34m\"\"\"Search all candidates in param_grid\"\"\"\u001b[0m\u001b[0;34m\u001b[0m\u001b[0;34m\u001b[0m\u001b[0m\n\u001b[0;32m-> 1188\u001b[0;31m         \u001b[0mevaluate_candidates\u001b[0m\u001b[0;34m(\u001b[0m\u001b[0mParameterGrid\u001b[0m\u001b[0;34m(\u001b[0m\u001b[0mself\u001b[0m\u001b[0;34m.\u001b[0m\u001b[0mparam_grid\u001b[0m\u001b[0;34m)\u001b[0m\u001b[0;34m)\u001b[0m\u001b[0;34m\u001b[0m\u001b[0;34m\u001b[0m\u001b[0m\n\u001b[0m\u001b[1;32m   1189\u001b[0m \u001b[0;34m\u001b[0m\u001b[0m\n\u001b[1;32m   1190\u001b[0m \u001b[0;34m\u001b[0m\u001b[0m\n",
      "\u001b[0;32m~/workspace/anaconda3/lib/python3.8/site-packages/sklearn/model_selection/_search.py\u001b[0m in \u001b[0;36mevaluate_candidates\u001b[0;34m(candidate_params)\u001b[0m\n\u001b[1;32m    706\u001b[0m                               n_splits, n_candidates, n_candidates * n_splits))\n\u001b[1;32m    707\u001b[0m \u001b[0;34m\u001b[0m\u001b[0m\n\u001b[0;32m--> 708\u001b[0;31m                 out = parallel(delayed(_fit_and_score)(clone(base_estimator),\n\u001b[0m\u001b[1;32m    709\u001b[0m                                                        \u001b[0mX\u001b[0m\u001b[0;34m,\u001b[0m \u001b[0my\u001b[0m\u001b[0;34m,\u001b[0m\u001b[0;34m\u001b[0m\u001b[0;34m\u001b[0m\u001b[0m\n\u001b[1;32m    710\u001b[0m                                                        \u001b[0mtrain\u001b[0m\u001b[0;34m=\u001b[0m\u001b[0mtrain\u001b[0m\u001b[0;34m,\u001b[0m \u001b[0mtest\u001b[0m\u001b[0;34m=\u001b[0m\u001b[0mtest\u001b[0m\u001b[0;34m,\u001b[0m\u001b[0;34m\u001b[0m\u001b[0;34m\u001b[0m\u001b[0m\n",
      "\u001b[0;32m~/workspace/anaconda3/lib/python3.8/site-packages/joblib/parallel.py\u001b[0m in \u001b[0;36m__call__\u001b[0;34m(self, iterable)\u001b[0m\n\u001b[1;32m   1042\u001b[0m                 \u001b[0mself\u001b[0m\u001b[0;34m.\u001b[0m\u001b[0m_iterating\u001b[0m \u001b[0;34m=\u001b[0m \u001b[0mself\u001b[0m\u001b[0;34m.\u001b[0m\u001b[0m_original_iterator\u001b[0m \u001b[0;32mis\u001b[0m \u001b[0;32mnot\u001b[0m \u001b[0;32mNone\u001b[0m\u001b[0;34m\u001b[0m\u001b[0;34m\u001b[0m\u001b[0m\n\u001b[1;32m   1043\u001b[0m \u001b[0;34m\u001b[0m\u001b[0m\n\u001b[0;32m-> 1044\u001b[0;31m             \u001b[0;32mwhile\u001b[0m \u001b[0mself\u001b[0m\u001b[0;34m.\u001b[0m\u001b[0mdispatch_one_batch\u001b[0m\u001b[0;34m(\u001b[0m\u001b[0miterator\u001b[0m\u001b[0;34m)\u001b[0m\u001b[0;34m:\u001b[0m\u001b[0;34m\u001b[0m\u001b[0;34m\u001b[0m\u001b[0m\n\u001b[0m\u001b[1;32m   1045\u001b[0m                 \u001b[0;32mpass\u001b[0m\u001b[0;34m\u001b[0m\u001b[0;34m\u001b[0m\u001b[0m\n\u001b[1;32m   1046\u001b[0m \u001b[0;34m\u001b[0m\u001b[0m\n",
      "\u001b[0;32m~/workspace/anaconda3/lib/python3.8/site-packages/joblib/parallel.py\u001b[0m in \u001b[0;36mdispatch_one_batch\u001b[0;34m(self, iterator)\u001b[0m\n\u001b[1;32m    857\u001b[0m                 \u001b[0;32mreturn\u001b[0m \u001b[0;32mFalse\u001b[0m\u001b[0;34m\u001b[0m\u001b[0;34m\u001b[0m\u001b[0m\n\u001b[1;32m    858\u001b[0m             \u001b[0;32melse\u001b[0m\u001b[0;34m:\u001b[0m\u001b[0;34m\u001b[0m\u001b[0;34m\u001b[0m\u001b[0m\n\u001b[0;32m--> 859\u001b[0;31m                 \u001b[0mself\u001b[0m\u001b[0;34m.\u001b[0m\u001b[0m_dispatch\u001b[0m\u001b[0;34m(\u001b[0m\u001b[0mtasks\u001b[0m\u001b[0;34m)\u001b[0m\u001b[0;34m\u001b[0m\u001b[0;34m\u001b[0m\u001b[0m\n\u001b[0m\u001b[1;32m    860\u001b[0m                 \u001b[0;32mreturn\u001b[0m \u001b[0;32mTrue\u001b[0m\u001b[0;34m\u001b[0m\u001b[0;34m\u001b[0m\u001b[0m\n\u001b[1;32m    861\u001b[0m \u001b[0;34m\u001b[0m\u001b[0m\n",
      "\u001b[0;32m~/workspace/anaconda3/lib/python3.8/site-packages/joblib/parallel.py\u001b[0m in \u001b[0;36m_dispatch\u001b[0;34m(self, batch)\u001b[0m\n\u001b[1;32m    775\u001b[0m         \u001b[0;32mwith\u001b[0m \u001b[0mself\u001b[0m\u001b[0;34m.\u001b[0m\u001b[0m_lock\u001b[0m\u001b[0;34m:\u001b[0m\u001b[0;34m\u001b[0m\u001b[0;34m\u001b[0m\u001b[0m\n\u001b[1;32m    776\u001b[0m             \u001b[0mjob_idx\u001b[0m \u001b[0;34m=\u001b[0m \u001b[0mlen\u001b[0m\u001b[0;34m(\u001b[0m\u001b[0mself\u001b[0m\u001b[0;34m.\u001b[0m\u001b[0m_jobs\u001b[0m\u001b[0;34m)\u001b[0m\u001b[0;34m\u001b[0m\u001b[0;34m\u001b[0m\u001b[0m\n\u001b[0;32m--> 777\u001b[0;31m             \u001b[0mjob\u001b[0m \u001b[0;34m=\u001b[0m \u001b[0mself\u001b[0m\u001b[0;34m.\u001b[0m\u001b[0m_backend\u001b[0m\u001b[0;34m.\u001b[0m\u001b[0mapply_async\u001b[0m\u001b[0;34m(\u001b[0m\u001b[0mbatch\u001b[0m\u001b[0;34m,\u001b[0m \u001b[0mcallback\u001b[0m\u001b[0;34m=\u001b[0m\u001b[0mcb\u001b[0m\u001b[0;34m)\u001b[0m\u001b[0;34m\u001b[0m\u001b[0;34m\u001b[0m\u001b[0m\n\u001b[0m\u001b[1;32m    778\u001b[0m             \u001b[0;31m# A job can complete so quickly than its callback is\u001b[0m\u001b[0;34m\u001b[0m\u001b[0;34m\u001b[0m\u001b[0;34m\u001b[0m\u001b[0m\n\u001b[1;32m    779\u001b[0m             \u001b[0;31m# called before we get here, causing self._jobs to\u001b[0m\u001b[0;34m\u001b[0m\u001b[0;34m\u001b[0m\u001b[0;34m\u001b[0m\u001b[0m\n",
      "\u001b[0;32m~/workspace/anaconda3/lib/python3.8/site-packages/joblib/_parallel_backends.py\u001b[0m in \u001b[0;36mapply_async\u001b[0;34m(self, func, callback)\u001b[0m\n\u001b[1;32m    206\u001b[0m     \u001b[0;32mdef\u001b[0m \u001b[0mapply_async\u001b[0m\u001b[0;34m(\u001b[0m\u001b[0mself\u001b[0m\u001b[0;34m,\u001b[0m \u001b[0mfunc\u001b[0m\u001b[0;34m,\u001b[0m \u001b[0mcallback\u001b[0m\u001b[0;34m=\u001b[0m\u001b[0;32mNone\u001b[0m\u001b[0;34m)\u001b[0m\u001b[0;34m:\u001b[0m\u001b[0;34m\u001b[0m\u001b[0;34m\u001b[0m\u001b[0m\n\u001b[1;32m    207\u001b[0m         \u001b[0;34m\"\"\"Schedule a func to be run\"\"\"\u001b[0m\u001b[0;34m\u001b[0m\u001b[0;34m\u001b[0m\u001b[0m\n\u001b[0;32m--> 208\u001b[0;31m         \u001b[0mresult\u001b[0m \u001b[0;34m=\u001b[0m \u001b[0mImmediateResult\u001b[0m\u001b[0;34m(\u001b[0m\u001b[0mfunc\u001b[0m\u001b[0;34m)\u001b[0m\u001b[0;34m\u001b[0m\u001b[0;34m\u001b[0m\u001b[0m\n\u001b[0m\u001b[1;32m    209\u001b[0m         \u001b[0;32mif\u001b[0m \u001b[0mcallback\u001b[0m\u001b[0;34m:\u001b[0m\u001b[0;34m\u001b[0m\u001b[0;34m\u001b[0m\u001b[0m\n\u001b[1;32m    210\u001b[0m             \u001b[0mcallback\u001b[0m\u001b[0;34m(\u001b[0m\u001b[0mresult\u001b[0m\u001b[0;34m)\u001b[0m\u001b[0;34m\u001b[0m\u001b[0;34m\u001b[0m\u001b[0m\n",
      "\u001b[0;32m~/workspace/anaconda3/lib/python3.8/site-packages/joblib/_parallel_backends.py\u001b[0m in \u001b[0;36m__init__\u001b[0;34m(self, batch)\u001b[0m\n\u001b[1;32m    570\u001b[0m         \u001b[0;31m# Don't delay the application, to avoid keeping the input\u001b[0m\u001b[0;34m\u001b[0m\u001b[0;34m\u001b[0m\u001b[0;34m\u001b[0m\u001b[0m\n\u001b[1;32m    571\u001b[0m         \u001b[0;31m# arguments in memory\u001b[0m\u001b[0;34m\u001b[0m\u001b[0;34m\u001b[0m\u001b[0;34m\u001b[0m\u001b[0m\n\u001b[0;32m--> 572\u001b[0;31m         \u001b[0mself\u001b[0m\u001b[0;34m.\u001b[0m\u001b[0mresults\u001b[0m \u001b[0;34m=\u001b[0m \u001b[0mbatch\u001b[0m\u001b[0;34m(\u001b[0m\u001b[0;34m)\u001b[0m\u001b[0;34m\u001b[0m\u001b[0;34m\u001b[0m\u001b[0m\n\u001b[0m\u001b[1;32m    573\u001b[0m \u001b[0;34m\u001b[0m\u001b[0m\n\u001b[1;32m    574\u001b[0m     \u001b[0;32mdef\u001b[0m \u001b[0mget\u001b[0m\u001b[0;34m(\u001b[0m\u001b[0mself\u001b[0m\u001b[0;34m)\u001b[0m\u001b[0;34m:\u001b[0m\u001b[0;34m\u001b[0m\u001b[0;34m\u001b[0m\u001b[0m\n",
      "\u001b[0;32m~/workspace/anaconda3/lib/python3.8/site-packages/joblib/parallel.py\u001b[0m in \u001b[0;36m__call__\u001b[0;34m(self)\u001b[0m\n\u001b[1;32m    260\u001b[0m         \u001b[0;31m# change the default number of processes to -1\u001b[0m\u001b[0;34m\u001b[0m\u001b[0;34m\u001b[0m\u001b[0;34m\u001b[0m\u001b[0m\n\u001b[1;32m    261\u001b[0m         \u001b[0;32mwith\u001b[0m \u001b[0mparallel_backend\u001b[0m\u001b[0;34m(\u001b[0m\u001b[0mself\u001b[0m\u001b[0;34m.\u001b[0m\u001b[0m_backend\u001b[0m\u001b[0;34m,\u001b[0m \u001b[0mn_jobs\u001b[0m\u001b[0;34m=\u001b[0m\u001b[0mself\u001b[0m\u001b[0;34m.\u001b[0m\u001b[0m_n_jobs\u001b[0m\u001b[0;34m)\u001b[0m\u001b[0;34m:\u001b[0m\u001b[0;34m\u001b[0m\u001b[0;34m\u001b[0m\u001b[0m\n\u001b[0;32m--> 262\u001b[0;31m             return [func(*args, **kwargs)\n\u001b[0m\u001b[1;32m    263\u001b[0m                     for func, args, kwargs in self.items]\n\u001b[1;32m    264\u001b[0m \u001b[0;34m\u001b[0m\u001b[0m\n",
      "\u001b[0;32m~/workspace/anaconda3/lib/python3.8/site-packages/joblib/parallel.py\u001b[0m in \u001b[0;36m<listcomp>\u001b[0;34m(.0)\u001b[0m\n\u001b[1;32m    260\u001b[0m         \u001b[0;31m# change the default number of processes to -1\u001b[0m\u001b[0;34m\u001b[0m\u001b[0;34m\u001b[0m\u001b[0;34m\u001b[0m\u001b[0m\n\u001b[1;32m    261\u001b[0m         \u001b[0;32mwith\u001b[0m \u001b[0mparallel_backend\u001b[0m\u001b[0;34m(\u001b[0m\u001b[0mself\u001b[0m\u001b[0;34m.\u001b[0m\u001b[0m_backend\u001b[0m\u001b[0;34m,\u001b[0m \u001b[0mn_jobs\u001b[0m\u001b[0;34m=\u001b[0m\u001b[0mself\u001b[0m\u001b[0;34m.\u001b[0m\u001b[0m_n_jobs\u001b[0m\u001b[0;34m)\u001b[0m\u001b[0;34m:\u001b[0m\u001b[0;34m\u001b[0m\u001b[0;34m\u001b[0m\u001b[0m\n\u001b[0;32m--> 262\u001b[0;31m             return [func(*args, **kwargs)\n\u001b[0m\u001b[1;32m    263\u001b[0m                     for func, args, kwargs in self.items]\n\u001b[1;32m    264\u001b[0m \u001b[0;34m\u001b[0m\u001b[0m\n",
      "\u001b[0;32m~/workspace/anaconda3/lib/python3.8/site-packages/sklearn/model_selection/_validation.py\u001b[0m in \u001b[0;36m_fit_and_score\u001b[0;34m(estimator, X, y, scorer, train, test, verbose, parameters, fit_params, return_train_score, return_parameters, return_n_test_samples, return_times, return_estimator, error_score)\u001b[0m\n\u001b[1;32m    529\u001b[0m             \u001b[0mestimator\u001b[0m\u001b[0;34m.\u001b[0m\u001b[0mfit\u001b[0m\u001b[0;34m(\u001b[0m\u001b[0mX_train\u001b[0m\u001b[0;34m,\u001b[0m \u001b[0;34m**\u001b[0m\u001b[0mfit_params\u001b[0m\u001b[0;34m)\u001b[0m\u001b[0;34m\u001b[0m\u001b[0;34m\u001b[0m\u001b[0m\n\u001b[1;32m    530\u001b[0m         \u001b[0;32melse\u001b[0m\u001b[0;34m:\u001b[0m\u001b[0;34m\u001b[0m\u001b[0;34m\u001b[0m\u001b[0m\n\u001b[0;32m--> 531\u001b[0;31m             \u001b[0mestimator\u001b[0m\u001b[0;34m.\u001b[0m\u001b[0mfit\u001b[0m\u001b[0;34m(\u001b[0m\u001b[0mX_train\u001b[0m\u001b[0;34m,\u001b[0m \u001b[0my_train\u001b[0m\u001b[0;34m,\u001b[0m \u001b[0;34m**\u001b[0m\u001b[0mfit_params\u001b[0m\u001b[0;34m)\u001b[0m\u001b[0;34m\u001b[0m\u001b[0;34m\u001b[0m\u001b[0m\n\u001b[0m\u001b[1;32m    532\u001b[0m \u001b[0;34m\u001b[0m\u001b[0m\n\u001b[1;32m    533\u001b[0m     \u001b[0;32mexcept\u001b[0m \u001b[0mException\u001b[0m \u001b[0;32mas\u001b[0m \u001b[0me\u001b[0m\u001b[0;34m:\u001b[0m\u001b[0;34m\u001b[0m\u001b[0;34m\u001b[0m\u001b[0m\n",
      "\u001b[0;32m~/workspace/anaconda3/lib/python3.8/site-packages/sklearn/linear_model/_logistic.py\u001b[0m in \u001b[0;36mfit\u001b[0;34m(self, X, y, sample_weight)\u001b[0m\n\u001b[1;32m   1405\u001b[0m         \u001b[0;32melse\u001b[0m\u001b[0;34m:\u001b[0m\u001b[0;34m\u001b[0m\u001b[0;34m\u001b[0m\u001b[0m\n\u001b[1;32m   1406\u001b[0m             \u001b[0mprefer\u001b[0m \u001b[0;34m=\u001b[0m \u001b[0;34m'processes'\u001b[0m\u001b[0;34m\u001b[0m\u001b[0;34m\u001b[0m\u001b[0m\n\u001b[0;32m-> 1407\u001b[0;31m         fold_coefs_ = Parallel(n_jobs=self.n_jobs, verbose=self.verbose,\n\u001b[0m\u001b[1;32m   1408\u001b[0m                                \u001b[0;34m**\u001b[0m\u001b[0m_joblib_parallel_args\u001b[0m\u001b[0;34m(\u001b[0m\u001b[0mprefer\u001b[0m\u001b[0;34m=\u001b[0m\u001b[0mprefer\u001b[0m\u001b[0;34m)\u001b[0m\u001b[0;34m)\u001b[0m\u001b[0;34m(\u001b[0m\u001b[0;34m\u001b[0m\u001b[0;34m\u001b[0m\u001b[0m\n\u001b[1;32m   1409\u001b[0m             path_func(X, y, pos_class=class_, Cs=[C_],\n",
      "\u001b[0;32m~/workspace/anaconda3/lib/python3.8/site-packages/joblib/parallel.py\u001b[0m in \u001b[0;36m__call__\u001b[0;34m(self, iterable)\u001b[0m\n\u001b[1;32m   1039\u001b[0m             \u001b[0;31m# remaining jobs.\u001b[0m\u001b[0;34m\u001b[0m\u001b[0;34m\u001b[0m\u001b[0;34m\u001b[0m\u001b[0m\n\u001b[1;32m   1040\u001b[0m             \u001b[0mself\u001b[0m\u001b[0;34m.\u001b[0m\u001b[0m_iterating\u001b[0m \u001b[0;34m=\u001b[0m \u001b[0;32mFalse\u001b[0m\u001b[0;34m\u001b[0m\u001b[0;34m\u001b[0m\u001b[0m\n\u001b[0;32m-> 1041\u001b[0;31m             \u001b[0;32mif\u001b[0m \u001b[0mself\u001b[0m\u001b[0;34m.\u001b[0m\u001b[0mdispatch_one_batch\u001b[0m\u001b[0;34m(\u001b[0m\u001b[0miterator\u001b[0m\u001b[0;34m)\u001b[0m\u001b[0;34m:\u001b[0m\u001b[0;34m\u001b[0m\u001b[0;34m\u001b[0m\u001b[0m\n\u001b[0m\u001b[1;32m   1042\u001b[0m                 \u001b[0mself\u001b[0m\u001b[0;34m.\u001b[0m\u001b[0m_iterating\u001b[0m \u001b[0;34m=\u001b[0m \u001b[0mself\u001b[0m\u001b[0;34m.\u001b[0m\u001b[0m_original_iterator\u001b[0m \u001b[0;32mis\u001b[0m \u001b[0;32mnot\u001b[0m \u001b[0;32mNone\u001b[0m\u001b[0;34m\u001b[0m\u001b[0;34m\u001b[0m\u001b[0m\n\u001b[1;32m   1043\u001b[0m \u001b[0;34m\u001b[0m\u001b[0m\n",
      "\u001b[0;32m~/workspace/anaconda3/lib/python3.8/site-packages/joblib/parallel.py\u001b[0m in \u001b[0;36mdispatch_one_batch\u001b[0;34m(self, iterator)\u001b[0m\n\u001b[1;32m    857\u001b[0m                 \u001b[0;32mreturn\u001b[0m \u001b[0;32mFalse\u001b[0m\u001b[0;34m\u001b[0m\u001b[0;34m\u001b[0m\u001b[0m\n\u001b[1;32m    858\u001b[0m             \u001b[0;32melse\u001b[0m\u001b[0;34m:\u001b[0m\u001b[0;34m\u001b[0m\u001b[0;34m\u001b[0m\u001b[0m\n\u001b[0;32m--> 859\u001b[0;31m                 \u001b[0mself\u001b[0m\u001b[0;34m.\u001b[0m\u001b[0m_dispatch\u001b[0m\u001b[0;34m(\u001b[0m\u001b[0mtasks\u001b[0m\u001b[0;34m)\u001b[0m\u001b[0;34m\u001b[0m\u001b[0;34m\u001b[0m\u001b[0m\n\u001b[0m\u001b[1;32m    860\u001b[0m                 \u001b[0;32mreturn\u001b[0m \u001b[0;32mTrue\u001b[0m\u001b[0;34m\u001b[0m\u001b[0;34m\u001b[0m\u001b[0m\n\u001b[1;32m    861\u001b[0m \u001b[0;34m\u001b[0m\u001b[0m\n",
      "\u001b[0;32m~/workspace/anaconda3/lib/python3.8/site-packages/joblib/parallel.py\u001b[0m in \u001b[0;36m_dispatch\u001b[0;34m(self, batch)\u001b[0m\n\u001b[1;32m    775\u001b[0m         \u001b[0;32mwith\u001b[0m \u001b[0mself\u001b[0m\u001b[0;34m.\u001b[0m\u001b[0m_lock\u001b[0m\u001b[0;34m:\u001b[0m\u001b[0;34m\u001b[0m\u001b[0;34m\u001b[0m\u001b[0m\n\u001b[1;32m    776\u001b[0m             \u001b[0mjob_idx\u001b[0m \u001b[0;34m=\u001b[0m \u001b[0mlen\u001b[0m\u001b[0;34m(\u001b[0m\u001b[0mself\u001b[0m\u001b[0;34m.\u001b[0m\u001b[0m_jobs\u001b[0m\u001b[0;34m)\u001b[0m\u001b[0;34m\u001b[0m\u001b[0;34m\u001b[0m\u001b[0m\n\u001b[0;32m--> 777\u001b[0;31m             \u001b[0mjob\u001b[0m \u001b[0;34m=\u001b[0m \u001b[0mself\u001b[0m\u001b[0;34m.\u001b[0m\u001b[0m_backend\u001b[0m\u001b[0;34m.\u001b[0m\u001b[0mapply_async\u001b[0m\u001b[0;34m(\u001b[0m\u001b[0mbatch\u001b[0m\u001b[0;34m,\u001b[0m \u001b[0mcallback\u001b[0m\u001b[0;34m=\u001b[0m\u001b[0mcb\u001b[0m\u001b[0;34m)\u001b[0m\u001b[0;34m\u001b[0m\u001b[0;34m\u001b[0m\u001b[0m\n\u001b[0m\u001b[1;32m    778\u001b[0m             \u001b[0;31m# A job can complete so quickly than its callback is\u001b[0m\u001b[0;34m\u001b[0m\u001b[0;34m\u001b[0m\u001b[0;34m\u001b[0m\u001b[0m\n\u001b[1;32m    779\u001b[0m             \u001b[0;31m# called before we get here, causing self._jobs to\u001b[0m\u001b[0;34m\u001b[0m\u001b[0;34m\u001b[0m\u001b[0;34m\u001b[0m\u001b[0m\n",
      "\u001b[0;32m~/workspace/anaconda3/lib/python3.8/site-packages/joblib/_parallel_backends.py\u001b[0m in \u001b[0;36mapply_async\u001b[0;34m(self, func, callback)\u001b[0m\n\u001b[1;32m    206\u001b[0m     \u001b[0;32mdef\u001b[0m \u001b[0mapply_async\u001b[0m\u001b[0;34m(\u001b[0m\u001b[0mself\u001b[0m\u001b[0;34m,\u001b[0m \u001b[0mfunc\u001b[0m\u001b[0;34m,\u001b[0m \u001b[0mcallback\u001b[0m\u001b[0;34m=\u001b[0m\u001b[0;32mNone\u001b[0m\u001b[0;34m)\u001b[0m\u001b[0;34m:\u001b[0m\u001b[0;34m\u001b[0m\u001b[0;34m\u001b[0m\u001b[0m\n\u001b[1;32m    207\u001b[0m         \u001b[0;34m\"\"\"Schedule a func to be run\"\"\"\u001b[0m\u001b[0;34m\u001b[0m\u001b[0;34m\u001b[0m\u001b[0m\n\u001b[0;32m--> 208\u001b[0;31m         \u001b[0mresult\u001b[0m \u001b[0;34m=\u001b[0m \u001b[0mImmediateResult\u001b[0m\u001b[0;34m(\u001b[0m\u001b[0mfunc\u001b[0m\u001b[0;34m)\u001b[0m\u001b[0;34m\u001b[0m\u001b[0;34m\u001b[0m\u001b[0m\n\u001b[0m\u001b[1;32m    209\u001b[0m         \u001b[0;32mif\u001b[0m \u001b[0mcallback\u001b[0m\u001b[0;34m:\u001b[0m\u001b[0;34m\u001b[0m\u001b[0;34m\u001b[0m\u001b[0m\n\u001b[1;32m    210\u001b[0m             \u001b[0mcallback\u001b[0m\u001b[0;34m(\u001b[0m\u001b[0mresult\u001b[0m\u001b[0;34m)\u001b[0m\u001b[0;34m\u001b[0m\u001b[0;34m\u001b[0m\u001b[0m\n",
      "\u001b[0;32m~/workspace/anaconda3/lib/python3.8/site-packages/joblib/_parallel_backends.py\u001b[0m in \u001b[0;36m__init__\u001b[0;34m(self, batch)\u001b[0m\n\u001b[1;32m    570\u001b[0m         \u001b[0;31m# Don't delay the application, to avoid keeping the input\u001b[0m\u001b[0;34m\u001b[0m\u001b[0;34m\u001b[0m\u001b[0;34m\u001b[0m\u001b[0m\n\u001b[1;32m    571\u001b[0m         \u001b[0;31m# arguments in memory\u001b[0m\u001b[0;34m\u001b[0m\u001b[0;34m\u001b[0m\u001b[0;34m\u001b[0m\u001b[0m\n\u001b[0;32m--> 572\u001b[0;31m         \u001b[0mself\u001b[0m\u001b[0;34m.\u001b[0m\u001b[0mresults\u001b[0m \u001b[0;34m=\u001b[0m \u001b[0mbatch\u001b[0m\u001b[0;34m(\u001b[0m\u001b[0;34m)\u001b[0m\u001b[0;34m\u001b[0m\u001b[0;34m\u001b[0m\u001b[0m\n\u001b[0m\u001b[1;32m    573\u001b[0m \u001b[0;34m\u001b[0m\u001b[0m\n\u001b[1;32m    574\u001b[0m     \u001b[0;32mdef\u001b[0m \u001b[0mget\u001b[0m\u001b[0;34m(\u001b[0m\u001b[0mself\u001b[0m\u001b[0;34m)\u001b[0m\u001b[0;34m:\u001b[0m\u001b[0;34m\u001b[0m\u001b[0;34m\u001b[0m\u001b[0m\n",
      "\u001b[0;32m~/workspace/anaconda3/lib/python3.8/site-packages/joblib/parallel.py\u001b[0m in \u001b[0;36m__call__\u001b[0;34m(self)\u001b[0m\n\u001b[1;32m    260\u001b[0m         \u001b[0;31m# change the default number of processes to -1\u001b[0m\u001b[0;34m\u001b[0m\u001b[0;34m\u001b[0m\u001b[0;34m\u001b[0m\u001b[0m\n\u001b[1;32m    261\u001b[0m         \u001b[0;32mwith\u001b[0m \u001b[0mparallel_backend\u001b[0m\u001b[0;34m(\u001b[0m\u001b[0mself\u001b[0m\u001b[0;34m.\u001b[0m\u001b[0m_backend\u001b[0m\u001b[0;34m,\u001b[0m \u001b[0mn_jobs\u001b[0m\u001b[0;34m=\u001b[0m\u001b[0mself\u001b[0m\u001b[0;34m.\u001b[0m\u001b[0m_n_jobs\u001b[0m\u001b[0;34m)\u001b[0m\u001b[0;34m:\u001b[0m\u001b[0;34m\u001b[0m\u001b[0;34m\u001b[0m\u001b[0m\n\u001b[0;32m--> 262\u001b[0;31m             return [func(*args, **kwargs)\n\u001b[0m\u001b[1;32m    263\u001b[0m                     for func, args, kwargs in self.items]\n\u001b[1;32m    264\u001b[0m \u001b[0;34m\u001b[0m\u001b[0m\n",
      "\u001b[0;32m~/workspace/anaconda3/lib/python3.8/site-packages/joblib/parallel.py\u001b[0m in \u001b[0;36m<listcomp>\u001b[0;34m(.0)\u001b[0m\n\u001b[1;32m    260\u001b[0m         \u001b[0;31m# change the default number of processes to -1\u001b[0m\u001b[0;34m\u001b[0m\u001b[0;34m\u001b[0m\u001b[0;34m\u001b[0m\u001b[0m\n\u001b[1;32m    261\u001b[0m         \u001b[0;32mwith\u001b[0m \u001b[0mparallel_backend\u001b[0m\u001b[0;34m(\u001b[0m\u001b[0mself\u001b[0m\u001b[0;34m.\u001b[0m\u001b[0m_backend\u001b[0m\u001b[0;34m,\u001b[0m \u001b[0mn_jobs\u001b[0m\u001b[0;34m=\u001b[0m\u001b[0mself\u001b[0m\u001b[0;34m.\u001b[0m\u001b[0m_n_jobs\u001b[0m\u001b[0;34m)\u001b[0m\u001b[0;34m:\u001b[0m\u001b[0;34m\u001b[0m\u001b[0;34m\u001b[0m\u001b[0m\n\u001b[0;32m--> 262\u001b[0;31m             return [func(*args, **kwargs)\n\u001b[0m\u001b[1;32m    263\u001b[0m                     for func, args, kwargs in self.items]\n\u001b[1;32m    264\u001b[0m \u001b[0;34m\u001b[0m\u001b[0m\n",
      "\u001b[0;32m~/workspace/anaconda3/lib/python3.8/site-packages/sklearn/linear_model/_logistic.py\u001b[0m in \u001b[0;36m_logistic_regression_path\u001b[0;34m(X, y, pos_class, Cs, fit_intercept, max_iter, tol, verbose, solver, coef, class_weight, dual, penalty, intercept_scaling, multi_class, random_state, check_input, max_squared_sum, sample_weight, l1_ratio)\u001b[0m\n\u001b[1;32m    795\u001b[0m                 \u001b[0mbeta\u001b[0m \u001b[0;34m=\u001b[0m \u001b[0;34m(\u001b[0m\u001b[0;36m1.\u001b[0m \u001b[0;34m/\u001b[0m \u001b[0mC\u001b[0m\u001b[0;34m)\u001b[0m \u001b[0;34m*\u001b[0m \u001b[0ml1_ratio\u001b[0m\u001b[0;34m\u001b[0m\u001b[0;34m\u001b[0m\u001b[0m\n\u001b[1;32m    796\u001b[0m \u001b[0;34m\u001b[0m\u001b[0m\n\u001b[0;32m--> 797\u001b[0;31m             w0, n_iter_i, warm_start_sag = sag_solver(\n\u001b[0m\u001b[1;32m    798\u001b[0m                 \u001b[0mX\u001b[0m\u001b[0;34m,\u001b[0m \u001b[0mtarget\u001b[0m\u001b[0;34m,\u001b[0m \u001b[0msample_weight\u001b[0m\u001b[0;34m,\u001b[0m \u001b[0mloss\u001b[0m\u001b[0;34m,\u001b[0m \u001b[0malpha\u001b[0m\u001b[0;34m,\u001b[0m\u001b[0;34m\u001b[0m\u001b[0;34m\u001b[0m\u001b[0m\n\u001b[1;32m    799\u001b[0m                 \u001b[0mbeta\u001b[0m\u001b[0;34m,\u001b[0m \u001b[0mmax_iter\u001b[0m\u001b[0;34m,\u001b[0m \u001b[0mtol\u001b[0m\u001b[0;34m,\u001b[0m\u001b[0;34m\u001b[0m\u001b[0;34m\u001b[0m\u001b[0m\n",
      "\u001b[0;32m~/workspace/anaconda3/lib/python3.8/site-packages/sklearn/utils/validation.py\u001b[0m in \u001b[0;36minner_f\u001b[0;34m(*args, **kwargs)\u001b[0m\n\u001b[1;32m     70\u001b[0m                           FutureWarning)\n\u001b[1;32m     71\u001b[0m         \u001b[0mkwargs\u001b[0m\u001b[0;34m.\u001b[0m\u001b[0mupdate\u001b[0m\u001b[0;34m(\u001b[0m\u001b[0;34m{\u001b[0m\u001b[0mk\u001b[0m\u001b[0;34m:\u001b[0m \u001b[0marg\u001b[0m \u001b[0;32mfor\u001b[0m \u001b[0mk\u001b[0m\u001b[0;34m,\u001b[0m \u001b[0marg\u001b[0m \u001b[0;32min\u001b[0m \u001b[0mzip\u001b[0m\u001b[0;34m(\u001b[0m\u001b[0msig\u001b[0m\u001b[0;34m.\u001b[0m\u001b[0mparameters\u001b[0m\u001b[0;34m,\u001b[0m \u001b[0margs\u001b[0m\u001b[0;34m)\u001b[0m\u001b[0;34m}\u001b[0m\u001b[0;34m)\u001b[0m\u001b[0;34m\u001b[0m\u001b[0;34m\u001b[0m\u001b[0m\n\u001b[0;32m---> 72\u001b[0;31m         \u001b[0;32mreturn\u001b[0m \u001b[0mf\u001b[0m\u001b[0;34m(\u001b[0m\u001b[0;34m**\u001b[0m\u001b[0mkwargs\u001b[0m\u001b[0;34m)\u001b[0m\u001b[0;34m\u001b[0m\u001b[0;34m\u001b[0m\u001b[0m\n\u001b[0m\u001b[1;32m     73\u001b[0m     \u001b[0;32mreturn\u001b[0m \u001b[0minner_f\u001b[0m\u001b[0;34m\u001b[0m\u001b[0;34m\u001b[0m\u001b[0m\n\u001b[1;32m     74\u001b[0m \u001b[0;34m\u001b[0m\u001b[0m\n",
      "\u001b[0;32m~/workspace/anaconda3/lib/python3.8/site-packages/sklearn/linear_model/_sag.py\u001b[0m in \u001b[0;36msag_solver\u001b[0;34m(X, y, sample_weight, loss, alpha, beta, max_iter, tol, verbose, random_state, check_input, max_squared_sum, warm_start_mem, is_saga)\u001b[0m\n\u001b[1;32m    309\u001b[0m \u001b[0;34m\u001b[0m\u001b[0m\n\u001b[1;32m    310\u001b[0m     \u001b[0msag\u001b[0m \u001b[0;34m=\u001b[0m \u001b[0msag64\u001b[0m \u001b[0;32mif\u001b[0m \u001b[0mX\u001b[0m\u001b[0;34m.\u001b[0m\u001b[0mdtype\u001b[0m \u001b[0;34m==\u001b[0m \u001b[0mnp\u001b[0m\u001b[0;34m.\u001b[0m\u001b[0mfloat64\u001b[0m \u001b[0;32melse\u001b[0m \u001b[0msag32\u001b[0m\u001b[0;34m\u001b[0m\u001b[0;34m\u001b[0m\u001b[0m\n\u001b[0;32m--> 311\u001b[0;31m     num_seen, n_iter_ = sag(dataset, coef_init,\n\u001b[0m\u001b[1;32m    312\u001b[0m                             \u001b[0mintercept_init\u001b[0m\u001b[0;34m,\u001b[0m \u001b[0mn_samples\u001b[0m\u001b[0;34m,\u001b[0m\u001b[0;34m\u001b[0m\u001b[0;34m\u001b[0m\u001b[0m\n\u001b[1;32m    313\u001b[0m                             \u001b[0mn_features\u001b[0m\u001b[0;34m,\u001b[0m \u001b[0mn_classes\u001b[0m\u001b[0;34m,\u001b[0m \u001b[0mtol\u001b[0m\u001b[0;34m,\u001b[0m\u001b[0;34m\u001b[0m\u001b[0;34m\u001b[0m\u001b[0m\n",
      "\u001b[0;31mKeyboardInterrupt\u001b[0m: "
     ]
    }
   ],
   "source": [
    "gridsearch_f = GridSearchCV(logreg_f, params, cv=5, scoring=score)\n",
    "gridsearch_f.fit(Xf_adasyn, yf_adasyn)\n",
    "\n",
    "print(\"Best parameters on full dataset: \", gridsearch_f.best_params_)\n",
    "\n",
    "best_estim_f = gridsearch_f.best_estimator_\n",
    "print(\"Best estimator on full dataset:\", best_estim_f)\n",
    "\n",
    "best_estim_f.fit(Xf_adasyn, yf_adasyn)\n",
    "\n",
    "print(\"Training scores on full dataset: \", classification_report(yf_adasyn, best_estim_f.predict(Xf_adasyn)))"
   ]
  },
  {
   "cell_type": "code",
   "execution_count": null,
   "metadata": {},
   "outputs": [],
   "source": [
    "gsf_preds = best_estim_f.predict(Xf_adasyn)\n",
    "gsf_conf = confusion_matrix(yf_adasyn, gsf_preds)\n",
    "print(\"Confusion Matrix (Training): \", gsf_conf)"
   ]
  },
  {
   "cell_type": "code",
   "execution_count": null,
   "metadata": {},
   "outputs": [],
   "source": [
    "print(\"Validation scores: \", classification_report(yf_val, best_estim_f.predict(xf_val)))\n",
    "\n",
    "gsf_val_conf = confusion_matrix(yf_val, best_estim_f.predict(xf_val))\n",
    "print(\"Confusion Matrix (Validation): \", gsf_val_conf)"
   ]
  },
  {
   "cell_type": "code",
   "execution_count": null,
   "metadata": {},
   "outputs": [],
   "source": [
    "for feature, coef in zip(covid_total_feats[strict_features], best_estim_f.coef_.T):\n",
    "    print(feature, coef)"
   ]
  },
  {
   "cell_type": "markdown",
   "metadata": {},
   "source": [
    "## Target: Modeling for Pneumonia"
   ]
  },
  {
   "cell_type": "markdown",
   "metadata": {},
   "source": [
    "\n",
    "### Immunosuppressed Subset, Modeling to Predict Pneumonia"
   ]
  },
  {
   "cell_type": "code",
   "execution_count": null,
   "metadata": {},
   "outputs": [],
   "source": [
    "# train / test split\n",
    "ip_train, ip_test = train_test_split(covid_immun, test_size=0.2, random_state=33, stratify=covid_immun['pneumonia'])"
   ]
  },
  {
   "cell_type": "code",
   "execution_count": null,
   "metadata": {},
   "outputs": [],
   "source": [
    "# train / validation split\n",
    "ip_train, ip_val = train_test_split(ip_train, test_size=0.2, random_state=33, stratify=ip_train['pneumonia'])"
   ]
  },
  {
   "cell_type": "code",
   "execution_count": null,
   "metadata": {},
   "outputs": [],
   "source": [
    "xiptrain = ip_train[strict_features]\n",
    "yiptrain = ip_train['pneumonia']"
   ]
  },
  {
   "cell_type": "code",
   "execution_count": null,
   "metadata": {},
   "outputs": [],
   "source": [
    "# Addressing class imbalance\n",
    "Xip_adasyn, yip_adasyn = ADASYN(random_state=33).fit_sample(xiptrain, yiptrain)\n",
    "Counter(yip_adasyn)"
   ]
  },
  {
   "cell_type": "code",
   "execution_count": null,
   "metadata": {},
   "outputs": [],
   "source": [
    "# Scaling\n",
    "scaler = StandardScaler()\n",
    "Xip_adasyn = scaler.fit_transform(Xip_adasyn)\n",
    "\n",
    "xip_val = scaler.fit_transform(ip_val[strict_features])\n",
    "yip_val = ip_val['pneumonia']"
   ]
  },
  {
   "cell_type": "code",
   "execution_count": null,
   "metadata": {},
   "outputs": [],
   "source": [
    "# Initializing Model\n",
    "logreg_ip = LogisticRegression(solver='saga')"
   ]
  },
  {
   "cell_type": "code",
   "execution_count": null,
   "metadata": {},
   "outputs": [],
   "source": [
    "gridsearch_ip = GridSearchCV(logreg_ip, params, cv=5, scoring=score)\n",
    "gridsearch_ip.fit(Xip_adasyn, yip_adasyn)\n",
    "\n",
    "print(\"Best parameters on immun dataset: \", gridsearch_ip.best_params_)\n",
    "\n",
    "best_estim_ip = gridsearch_ip.best_estimator_\n",
    "print(\"Best estimator on immun dataset:\", best_estim_ip)\n",
    "\n",
    "best_estim_ip.fit(Xip_adasyn, yip_adasyn)\n",
    "\n",
    "print(\"Training scores on immun dataset: \", classification_report(yip_adasyn, best_estim_ip.predict(Xip_adasyn)))"
   ]
  },
  {
   "cell_type": "code",
   "execution_count": null,
   "metadata": {},
   "outputs": [],
   "source": [
    "gsip_preds = best_estim_ip.predict(Xip_adasyn)\n",
    "gsip_conf = confusion_matrix(yip_adasyn, gsip_preds)\n",
    "print(\"Confusion Matrix (Training): \", gsip_conf)"
   ]
  },
  {
   "cell_type": "code",
   "execution_count": null,
   "metadata": {},
   "outputs": [],
   "source": [
    "print(\"Validation scores: \", classification_report(yip_val, best_estim_ip.predict(xip_val)))\n",
    "\n",
    "gsip_val_conf = confusion_matrix(yip_val, best_estim_ip.predict(xip_val))\n",
    "print(\"Confusion Matrix (Validation): \", gsip_val_conf)"
   ]
  },
  {
   "cell_type": "code",
   "execution_count": null,
   "metadata": {},
   "outputs": [],
   "source": [
    "for feature, coef in zip(covid_immun[strict_features], best_estim_ip.coef_.T):\n",
    "    print(feature, coef)"
   ]
  },
  {
   "cell_type": "markdown",
   "metadata": {},
   "source": [
    "## Target: Modeling To Predict Intubation"
   ]
  },
  {
   "cell_type": "markdown",
   "metadata": {},
   "source": [
    "### Immunosuppressed Dataset, Modeling to Predict Intubation"
   ]
  },
  {
   "cell_type": "code",
   "execution_count": null,
   "metadata": {},
   "outputs": [],
   "source": [
    "# train / test split\n",
    "iin_train, iin_test = train_test_split(covid_immun, test_size=0.2, random_state=33, stratify=covid_immun['intubation'])"
   ]
  },
  {
   "cell_type": "code",
   "execution_count": null,
   "metadata": {},
   "outputs": [],
   "source": [
    "# train / validation split\n",
    "iin_train, iin_val = train_test_split(iin_train, test_size=0.2, random_state=33, stratify=iin_train['intubation'])"
   ]
  },
  {
   "cell_type": "code",
   "execution_count": null,
   "metadata": {},
   "outputs": [],
   "source": [
    "xiintrain = iin_train[strict_features]\n",
    "yiintrain = iin_train['intubation']"
   ]
  },
  {
   "cell_type": "code",
   "execution_count": null,
   "metadata": {},
   "outputs": [],
   "source": [
    "# Addressing class imbalance\n",
    "Xiin_adasyn, yiin_adasyn = ADASYN(random_state=33).fit_sample(xiintrain, yiintrain)\n",
    "Counter(yiin_adasyn)"
   ]
  },
  {
   "cell_type": "code",
   "execution_count": null,
   "metadata": {},
   "outputs": [],
   "source": [
    "# Scaling\n",
    "scaler = StandardScaler()\n",
    "Xiin_adasyn = scaler.fit_transform(Xiin_adasyn)\n",
    "\n",
    "xiin_val = scaler.fit_transform(iin_val[strict_features])\n",
    "yiin_val = iin_val['intubation']"
   ]
  },
  {
   "cell_type": "code",
   "execution_count": null,
   "metadata": {},
   "outputs": [],
   "source": [
    "# Initializing Model\n",
    "logreg_iin = LogisticRegression(solver='saga')"
   ]
  },
  {
   "cell_type": "code",
   "execution_count": null,
   "metadata": {},
   "outputs": [],
   "source": [
    "gridsearch_iin = GridSearchCV(logreg_iin, params, cv=5, scoring=score)\n",
    "gridsearch_iin.fit(Xiin_adasyn, yiin_adasyn)\n",
    "\n",
    "print(\"Best parameters on full dataset: \", gridsearch_iin.best_params_)\n",
    "\n",
    "best_estim_iin = gridsearch_iin.best_estimator_\n",
    "print(\"Best estimator on full dataset:\", best_estim_iin)\n",
    "\n",
    "best_estim_iin.fit(Xiin_adasyn, yiin_adasyn)\n",
    "\n",
    "print(\"Training scores on full dataset: \", classification_report(yiin_adasyn, best_estim_iin.predict(Xiin_adasyn)))"
   ]
  },
  {
   "cell_type": "code",
   "execution_count": null,
   "metadata": {},
   "outputs": [],
   "source": [
    "gsin_preds = best_estim_iin.predict(Xiin_adasyn)\n",
    "gsin_conf = confusion_matrix(yiin_adasyn, gsin_preds)\n",
    "print(\"Confusion Matrix (Training): \", gsin_conf)"
   ]
  },
  {
   "cell_type": "code",
   "execution_count": null,
   "metadata": {},
   "outputs": [],
   "source": [
    "print(\"Validation scores: \", classification_report(yiin_val, best_estim_iin.predict(xiin_val)))\n",
    "\n",
    "gsin_val_conf = confusion_matrix(yiin_val, best_estim_iin.predict(xiin_val))\n",
    "print(\"Confusion Matrix (Validation): \", gsin_val_conf)"
   ]
  },
  {
   "cell_type": "code",
   "execution_count": null,
   "metadata": {},
   "outputs": [],
   "source": [
    "for feature, coef in zip(covid_immun[strict_features], best_estim_iin.coef_.T):\n",
    "    print(feature, coef)"
   ]
  },
  {
   "cell_type": "markdown",
   "metadata": {},
   "source": [
    "## Target: Modeling To Predict ICU Admission"
   ]
  },
  {
   "cell_type": "markdown",
   "metadata": {},
   "source": [
    "### Immunosuppressed Subset, Predicting ICU Admission"
   ]
  },
  {
   "cell_type": "code",
   "execution_count": null,
   "metadata": {},
   "outputs": [],
   "source": [
    "# train / test split\n",
    "iic_train, iic_test = train_test_split(covid_immun, test_size=0.2, random_state=33, stratify=covid_immun['icu'])"
   ]
  },
  {
   "cell_type": "code",
   "execution_count": null,
   "metadata": {},
   "outputs": [],
   "source": [
    "# train / validation split\n",
    "iic_train, iic_val = train_test_split(iic_train, test_size=0.2, random_state=33, stratify=iic_train['icu'])"
   ]
  },
  {
   "cell_type": "code",
   "execution_count": null,
   "metadata": {},
   "outputs": [],
   "source": [
    "xiictrain = iic_train[strict_features]\n",
    "yiictrain = iic_train['icu']"
   ]
  },
  {
   "cell_type": "code",
   "execution_count": null,
   "metadata": {},
   "outputs": [],
   "source": [
    "# Addressing class imbalance\n",
    "Xiic_adasyn, yiic_adasyn = ADASYN(random_state=33).fit_sample(xiictrain, yiictrain)\n",
    "Counter(yiic_adasyn)"
   ]
  },
  {
   "cell_type": "code",
   "execution_count": null,
   "metadata": {},
   "outputs": [],
   "source": [
    "# Scaling\n",
    "scaler = StandardScaler()\n",
    "Xiic_adasyn = scaler.fit_transform(Xiic_adasyn)\n",
    "\n",
    "xiic_val = scaler.fit_transform(iic_val[strict_features])\n",
    "yiic_val = iic_val['icu']"
   ]
  },
  {
   "cell_type": "code",
   "execution_count": null,
   "metadata": {},
   "outputs": [],
   "source": [
    "# Initializing Model\n",
    "logreg_iic = LogisticRegression(solver='saga')"
   ]
  },
  {
   "cell_type": "code",
   "execution_count": null,
   "metadata": {},
   "outputs": [],
   "source": [
    "gridsearch_iic = GridSearchCV(logreg_iic, params, cv=5, scoring=score)\n",
    "gridsearch_iic.fit(Xiic_adasyn, yiic_adasyn)\n",
    "\n",
    "print(\"Best parameters on immun dataset: \", gridsearch_iic.best_params_)\n",
    "\n",
    "best_estim_iic = gridsearch_iic.best_estimator_\n",
    "print(\"Best estimator on immun dataset:\", best_estim_iic)\n",
    "\n",
    "best_estim_iic.fit(Xiic_adasyn, yiic_adasyn)\n",
    "\n",
    "print(\"Training scores on full dataset: \", classification_report(yiic_adasyn, best_estim_iic.predict(Xiic_adasyn)))"
   ]
  },
  {
   "cell_type": "code",
   "execution_count": null,
   "metadata": {},
   "outputs": [],
   "source": [
    "gsic_preds = best_estim_iic.predict(Xiic_adasyn)\n",
    "gsic_conf = confusion_matrix(yiic_adasyn, gsic_preds)\n",
    "print(\"Confusion Matrix (Training): \", gsic_conf)"
   ]
  },
  {
   "cell_type": "code",
   "execution_count": null,
   "metadata": {},
   "outputs": [],
   "source": [
    "print(\"Validation scores: \", classification_report(yiic_val, best_estim_iic.predict(xiic_val)))\n",
    "\n",
    "gsic_val_conf = confusion_matrix(yiic_val, best_estim_iic.predict(xiic_val))\n",
    "print(\"Confusion Matrix (Validation): \", gsic_val_conf)"
   ]
  },
  {
   "cell_type": "code",
   "execution_count": null,
   "metadata": {},
   "outputs": [],
   "source": [
    "for feature, coef in zip(covid_immun[strict_features], best_estim_iic.coef_.T):\n",
    "    print(feature, coef)"
   ]
  },
  {
   "cell_type": "markdown",
   "metadata": {},
   "source": [
    "### Complete Dataset: Modeling to Predict Hospitalization"
   ]
  },
  {
   "cell_type": "code",
   "execution_count": null,
   "metadata": {},
   "outputs": [],
   "source": [
    "# train / test split\n",
    "fh_train, fh_test = train_test_split(covid_total_feats, test_size=0.2, random_state=33, stratify=covid_total_feats['patient_type'])"
   ]
  },
  {
   "cell_type": "code",
   "execution_count": null,
   "metadata": {},
   "outputs": [],
   "source": [
    "# train / validation split\n",
    "fh_train, fh_val = train_test_split(fh_train, test_size=0.2, random_state=33, stratify=fh_train['patient_type'])"
   ]
  },
  {
   "cell_type": "code",
   "execution_count": null,
   "metadata": {},
   "outputs": [],
   "source": [
    "# defining our target and features\n",
    "xfhtrain = fh_train[strict_features]\n",
    "yfhtrain = fh_train['patient_type']"
   ]
  },
  {
   "cell_type": "code",
   "execution_count": null,
   "metadata": {},
   "outputs": [],
   "source": [
    "# Addressing class imbalance\n",
    "Xfh_adasyn, yfh_adasyn = ADASYN(random_state=33).fit_sample(xfhtrain, yfhtrain)\n",
    "Counter(yfh_adasyn)"
   ]
  },
  {
   "cell_type": "code",
   "execution_count": null,
   "metadata": {},
   "outputs": [],
   "source": [
    "# Scaling\n",
    "scaler = StandardScaler()\n",
    "Xfh_adasyn = scaler.fit_transform(Xfh_adasyn)\n",
    "\n",
    "xfh_val = scaler.fit_transform(fh_val[strict_features])\n",
    "yfh_val = fh_val['passed']"
   ]
  },
  {
   "cell_type": "code",
   "execution_count": null,
   "metadata": {},
   "outputs": [],
   "source": [
    "# Initializing Model\n",
    "logreg_fh = LogisticRegression(solver='saga')"
   ]
  },
  {
   "cell_type": "code",
   "execution_count": null,
   "metadata": {},
   "outputs": [],
   "source": [
    "# GridSearch for best parameters, best estimator\n",
    "params = {\n",
    "    'C': np.logspace(-3, 3, 7),\n",
    "    'penalty':['l1', 'l2'],\n",
    "    'random_state':[33],\n",
    "    'max_iter': [5000]\n",
    "}\n",
    "make_scorer(f1_score)"
   ]
  },
  {
   "cell_type": "code",
   "execution_count": null,
   "metadata": {},
   "outputs": [],
   "source": [
    "gridsearch_fh = GridSearchCV(logreg_fh, params, cv=5, scoring=score)\n",
    "gridsearch_fh.fit(Xfh_adasyn, yfh_adasyn)\n",
    "\n",
    "print(\"Best parameters on full dataset: \", gridsearch_fh.best_params_)\n",
    "\n",
    "best_estim_fh = gridsearch_fh.best_estimator_\n",
    "print(\"Best estimator on full dataset:\", best_estim_fh)\n",
    "\n",
    "best_estim_fh.fit(Xfh_adasyn, yfh_adasyn)\n",
    "\n",
    "print(\"Training scores on full dataset: \", classification_report(yfh_adasyn, best_estim_fh.predict(Xfh_adasyn))"
   ]
  },
  {
   "cell_type": "code",
   "execution_count": null,
   "metadata": {},
   "outputs": [],
   "source": [
    "gsfh_preds = best_estim_fh.predict(Xfh_adasyn)\n",
    "gsfh_conf = confusion_matrix(yfh_adasyn, gsfh_preds)\n",
    "print(\"Confusion Matrix (Training): \", gsfh_conf)"
   ]
  },
  {
   "cell_type": "code",
   "execution_count": null,
   "metadata": {},
   "outputs": [],
   "source": [
    "print(\"Validation scores: \", classification_report(yfh_val, best_estim_fh.predict(xfh_val)))\n",
    "\n",
    "gsfh_val_conf = confusion_matrix(yfh_val, best_estim_fh.predict(xfh_val))\n",
    "print(\"Confusion Matrix (Validation): \", gsfh_val_conf)"
   ]
  },
  {
   "cell_type": "code",
   "execution_count": null,
   "metadata": {},
   "outputs": [],
   "source": [
    "for feature, coef in zip(covid_total_feats[strict_features], best_estim_fh.coef_.T):\n",
    "    print(feature, coef)"
   ]
  },
  {
   "cell_type": "code",
   "execution_count": null,
   "metadata": {},
   "outputs": [],
   "source": []
  },
  {
   "cell_type": "code",
   "execution_count": null,
   "metadata": {},
   "outputs": [],
   "source": []
  },
  {
   "cell_type": "markdown",
   "metadata": {},
   "source": [
    "### Complete Dataset: Modeling to Predict Pneumonia"
   ]
  },
  {
   "cell_type": "code",
   "execution_count": null,
   "metadata": {},
   "outputs": [],
   "source": [
    "# train / test split\n",
    "fp_train, fp_test = train_test_split(covid_total_feats, test_size=0.2, random_state=33, stratify=covid_total_feats['pneumonia'])"
   ]
  },
  {
   "cell_type": "code",
   "execution_count": null,
   "metadata": {},
   "outputs": [],
   "source": [
    "# train / validation split\n",
    "fp_train, fp_val = train_test_split(fp_train, test_size=0.2, random_state=33, stratify=fp_train['pneumonia'])"
   ]
  },
  {
   "cell_type": "code",
   "execution_count": null,
   "metadata": {},
   "outputs": [],
   "source": [
    "# defining our target and features\n",
    "xfptrain = fp_train[strict_features]\n",
    "yfptrain = fp_train['pneumonia']"
   ]
  },
  {
   "cell_type": "code",
   "execution_count": null,
   "metadata": {},
   "outputs": [],
   "source": [
    "# Addressing class imbalance\n",
    "Xfp_adasyn, yfp_adasyn = ADASYN(random_state=33).fit_sample(xfptrain, yfptrain)\n",
    "Counter(yfp_adasyn)"
   ]
  },
  {
   "cell_type": "code",
   "execution_count": null,
   "metadata": {},
   "outputs": [],
   "source": [
    "# Scaling\n",
    "scaler = StandardScaler()\n",
    "Xfp_adasyn = scaler.fit_transform(Xfp_adasyn)\n",
    "\n",
    "xfp_val = scaler.fit_transform(fp_val[strict_features])\n",
    "yfp_val = fp_val['pneumonia']"
   ]
  },
  {
   "cell_type": "code",
   "execution_count": null,
   "metadata": {},
   "outputs": [],
   "source": [
    "# Initializing Model\n",
    "logreg_p = LogisticRegression(solver='saga')"
   ]
  },
  {
   "cell_type": "code",
   "execution_count": null,
   "metadata": {},
   "outputs": [],
   "source": [
    "# GridSearch for best parameters, best estimator\n",
    "params = {\n",
    "    'C': np.logspace(-3, 3, 7),\n",
    "    'penalty':['l1', 'l2'],\n",
    "    'random_state':[33],\n",
    "    'max_iter': [5000]\n",
    "}\n",
    "make_scorer(f1_score)"
   ]
  },
  {
   "cell_type": "code",
   "execution_count": null,
   "metadata": {},
   "outputs": [],
   "source": [
    "gridsearch_fp = GridSearchCV(logreg_p, params, cv=5, scoring=score)\n",
    "gridsearch_fp.fit(Xfp_adasyn, yfp_adasyn)\n",
    "\n",
    "print(\"Best parameters on full dataset: \", gridsearch_fp.best_params_)\n",
    "\n",
    "best_estim_fp = gridsearch_fp.best_estimator_\n",
    "print(\"Best estimator on full dataset:\", best_estim_fp)\n",
    "\n",
    "best_estim_fp.fit(Xfp_adasyn, yfp_adasyn)\n",
    "\n",
    "print(\"Training scores on full dataset: \", classification_report(yfp_adasyn, best_estim_fp.predict(Xfp_adasyn))"
   ]
  },
  {
   "cell_type": "code",
   "execution_count": null,
   "metadata": {},
   "outputs": [],
   "source": [
    "gsp_preds = best_estim_fp.predict(Xfp_adasyn)\n",
    "gsp_conf = confusion_matrix(yfp_adasyn, gsfp_preds)\n",
    "print(\"Confusion Matrix (Training): \", gsfp_conf)"
   ]
  },
  {
   "cell_type": "code",
   "execution_count": null,
   "metadata": {},
   "outputs": [],
   "source": [
    "print(\"Validation scores: \", classification_report(yfp_val, best_estim_fp.predict(xfp_val)))\n",
    "\n",
    "gsp_val_conf = confusion_matrix(yfp_val, best_estim_fp.predict(xfp_val))\n",
    "print(\"Confusion Matrix (Validation): \", gsp_val_conf)"
   ]
  },
  {
   "cell_type": "code",
   "execution_count": null,
   "metadata": {},
   "outputs": [],
   "source": [
    "for feature, coef in zip(covid_total_feats[strict_features], best_estim_fp.coef_.T):\n",
    "    print(feature, coef)"
   ]
  },
  {
   "cell_type": "code",
   "execution_count": null,
   "metadata": {},
   "outputs": [],
   "source": []
  },
  {
   "cell_type": "code",
   "execution_count": null,
   "metadata": {},
   "outputs": [],
   "source": []
  },
  {
   "cell_type": "markdown",
   "metadata": {},
   "source": [
    "### Complete Dataset: Modeling to Predict Intubation"
   ]
  },
  {
   "cell_type": "markdown",
   "metadata": {},
   "source": [
    "### Complete Dataset: Modeling to Predict ICU Admission"
   ]
  },
  {
   "cell_type": "code",
   "execution_count": null,
   "metadata": {},
   "outputs": [],
   "source": []
  },
  {
   "cell_type": "code",
   "execution_count": null,
   "metadata": {},
   "outputs": [],
   "source": []
  },
  {
   "cell_type": "code",
   "execution_count": null,
   "metadata": {},
   "outputs": [],
   "source": []
  }
 ],
 "metadata": {
  "kernelspec": {
   "display_name": "Python 3",
   "language": "python",
   "name": "python3"
  },
  "language_info": {
   "codemirror_mode": {
    "name": "ipython",
    "version": 3
   },
   "file_extension": ".py",
   "mimetype": "text/x-python",
   "name": "python",
   "nbconvert_exporter": "python",
   "pygments_lexer": "ipython3",
   "version": "3.8.5"
  }
 },
 "nbformat": 4,
 "nbformat_minor": 4
}
