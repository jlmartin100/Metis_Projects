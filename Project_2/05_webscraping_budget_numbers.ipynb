{
 "cells": [
  {
   "cell_type": "code",
   "execution_count": 1,
   "metadata": {},
   "outputs": [],
   "source": [
    "from bs4 import BeautifulSoup\n",
    "import requests\n",
    "import numpy as np\n",
    "import pandas as pd"
   ]
  },
  {
   "cell_type": "code",
   "execution_count": 2,
   "metadata": {},
   "outputs": [],
   "source": [
    "import os, re, sys, pickle, requests, resource, json\n",
    "import time\n",
    "from random import random\n",
    "from IPython.core.display import clear_output"
   ]
  },
  {
   "cell_type": "markdown",
   "metadata": {},
   "source": [
    "### Webscraping Movie Budgets and Domestic Grosses\n",
    "\n",
    "For webscraping budget numbers, I used [The Numbers](https://www.the-numbers.com/).  The budget information can be accessed by individual movie page, or by a ranked list in the form of tables containing 100 titles at a time.\n",
    "\n",
    "\n",
    "Although the list has a great many more titles, I chose initially to scrape the budget and gross information for the first 5000 titles in their ranking tables.  Since the ranking includes all genres, and not just science fiction, I assessed that this number would yield a sufficient number of records for a baseline linear regression.  I plan to do a larger scrape, including all budget and gross information available, at a future point.\n",
    "\n",
    "The code below formats for the url for each of the 50 table pages, 100 titles each.  It then selects table information for title, release date, budget, domestic grosses, and worldwide grosses."
   ]
  },
  {
   "cell_type": "code",
   "execution_count": 73,
   "metadata": {},
   "outputs": [],
   "source": [
    "budget_data_list = []"
   ]
  },
  {
   "cell_type": "code",
   "execution_count": 80,
   "metadata": {},
   "outputs": [
    {
     "name": "stdout",
     "output_type": "stream",
     "text": [
      "Request:50; Frequency: 0.37544668561893496 requests/s\n"
     ]
    }
   ],
   "source": [
    "\n",
    "budget_url = \"https://www.the-numbers.com/movie/budgets/all/{}\"\n",
    "\n",
    "pages = [str(i) for i in range(1,5000,100)]\n",
    "\n",
    "# preparing to monitor\n",
    "start_time = time.time()\n",
    "tries =0\n",
    "\n",
    "for page in pages:\n",
    "\n",
    "    response = requests.get(budget_url.format(page))\n",
    "    source = response.text\n",
    "\n",
    "    time.sleep(0.5+2*random())\n",
    "    tries +=1\n",
    "    elapsed_time = time.time() - start_time\n",
    "    print('Request:{}; Frequency: {} requests/s'.format(tries, tries/elapsed_time))\n",
    "    clear_output(wait = True)\n",
    "\n",
    "    if tries > 2200:\n",
    "        print(\"Number of requests exceeded\")\n",
    "        break\n",
    "\n",
    "    budget_soup = BeautifulSoup(source, \"lxml\")\n",
    "\n",
    "    budget_table = budget_soup.find('table')\n",
    "\n",
    "    rows = [row for row in budget_table.find_all('tr')]\n",
    "\n",
    "    for row in rows:\n",
    "        items = row.find_all('td')\n",
    "        if (len(items)<1) : \n",
    "            release_date = np.nan\n",
    "            title = np.nan\n",
    "            budget = np.nan\n",
    "            dom_gross = np.nan\n",
    "            ww_gross = np.nan\n",
    "            \n",
    "        else:\n",
    "            release_date = items[1].text\n",
    "            if not release_date: \n",
    "                next_element = item.findNext()\n",
    "\n",
    "                if next_element:\n",
    "                    release_date = next_element.text \n",
    "                else:\n",
    "                    release_date = np.nan\n",
    "            \n",
    "            title = items[2].text\n",
    "            if not title: \n",
    "                next_element = item.findNext()\n",
    "\n",
    "                if next_element:\n",
    "                    title = next_element.text \n",
    "                else:\n",
    "                    title= np.nan \n",
    "\n",
    "            budget = items[3].text\n",
    "            if not budget: \n",
    "                next_element = item.findNext()\n",
    "\n",
    "                if next_element:\n",
    "                    budget = next_element.text \n",
    "                else:\n",
    "                    budget = np.nan\n",
    "\n",
    "            dom_gross = items[4].text\n",
    "            if not dom_gross: \n",
    "                next_element = item.findNext()\n",
    "\n",
    "                if next_element:\n",
    "                    dom_gross = next_element.text \n",
    "                else:\n",
    "                    dom_gross = np.nan\n",
    "\n",
    "            ww_gross = items[5].text\n",
    "            if not ww_gross: \n",
    "                next_element = item.findNext()\n",
    "\n",
    "                if next_element:\n",
    "                    ww_gross = next_element.text \n",
    "                else:\n",
    "                    ww_gross = np.nan\n",
    "\n",
    "        budget_dict = dict(zip(headers, [title, release_date, budget, \n",
    "                                     dom_gross, ww_gross]))\n",
    "\n",
    "        budget_data_list.append(budget_dict)"
   ]
  },
  {
   "cell_type": "markdown",
   "metadata": {},
   "source": [
    "Checking that data was scraped appropriately for all records, converting the list of dictionaries to dataframe"
   ]
  },
  {
   "cell_type": "code",
   "execution_count": 81,
   "metadata": {},
   "outputs": [
    {
     "data": {
      "text/plain": [
       "5100"
      ]
     },
     "execution_count": 81,
     "metadata": {},
     "output_type": "execute_result"
    }
   ],
   "source": [
    "len(budget_data_list)"
   ]
  },
  {
   "cell_type": "code",
   "execution_count": 82,
   "metadata": {},
   "outputs": [
    {
     "data": {
      "text/plain": [
       "5"
      ]
     },
     "execution_count": 82,
     "metadata": {},
     "output_type": "execute_result"
    }
   ],
   "source": [
    "len(budget_data_list[49])"
   ]
  },
  {
   "cell_type": "code",
   "execution_count": 83,
   "metadata": {},
   "outputs": [],
   "source": [
    "budget_df = pd.DataFrame(budget_data_list)"
   ]
  },
  {
   "cell_type": "code",
   "execution_count": 84,
   "metadata": {},
   "outputs": [
    {
     "data": {
      "text/plain": [
       "(5100, 5)"
      ]
     },
     "execution_count": 84,
     "metadata": {},
     "output_type": "execute_result"
    }
   ],
   "source": [
    "budget_df.shape"
   ]
  },
  {
   "cell_type": "code",
   "execution_count": 92,
   "metadata": {},
   "outputs": [],
   "source": [
    "budget_df = budget_df[budget_df['title'].notna()]"
   ]
  },
  {
   "cell_type": "code",
   "execution_count": 93,
   "metadata": {},
   "outputs": [
    {
     "data": {
      "text/plain": [
       "5050"
      ]
     },
     "execution_count": 93,
     "metadata": {},
     "output_type": "execute_result"
    }
   ],
   "source": [
    "budget_df['title'].notna().sum()"
   ]
  },
  {
   "cell_type": "markdown",
   "metadata": {},
   "source": [
    "Assessing to see that all intended categories of data were scraped"
   ]
  },
  {
   "cell_type": "code",
   "execution_count": 99,
   "metadata": {},
   "outputs": [
    {
     "data": {
      "text/html": [
       "<div>\n",
       "<style scoped>\n",
       "    .dataframe tbody tr th:only-of-type {\n",
       "        vertical-align: middle;\n",
       "    }\n",
       "\n",
       "    .dataframe tbody tr th {\n",
       "        vertical-align: top;\n",
       "    }\n",
       "\n",
       "    .dataframe thead th {\n",
       "        text-align: right;\n",
       "    }\n",
       "</style>\n",
       "<table border=\"1\" class=\"dataframe\">\n",
       "  <thead>\n",
       "    <tr style=\"text-align: right;\">\n",
       "      <th></th>\n",
       "      <th>title</th>\n",
       "      <th>release_date</th>\n",
       "      <th>budget</th>\n",
       "      <th>dom_gross</th>\n",
       "      <th>ww_gross</th>\n",
       "    </tr>\n",
       "  </thead>\n",
       "  <tbody>\n",
       "    <tr>\n",
       "      <th>133</th>\n",
       "      <td>The Dark Knight</td>\n",
       "      <td>Jul 11, 2008</td>\n",
       "      <td>$185,000,000</td>\n",
       "      <td>$533,720,947</td>\n",
       "      <td>$999,434,419</td>\n",
       "    </tr>\n",
       "    <tr>\n",
       "      <th>4003</th>\n",
       "      <td>Fifty Dead Men Walking</td>\n",
       "      <td>Aug 21, 2009</td>\n",
       "      <td>$10,000,000</td>\n",
       "      <td>$0</td>\n",
       "      <td>$997,921</td>\n",
       "    </tr>\n",
       "    <tr>\n",
       "      <th>3671</th>\n",
       "      <td>Duma</td>\n",
       "      <td>Sep 30, 2005</td>\n",
       "      <td>$12,000,000</td>\n",
       "      <td>$870,067</td>\n",
       "      <td>$994,790</td>\n",
       "    </tr>\n",
       "    <tr>\n",
       "      <th>2659</th>\n",
       "      <td>Robot Overlords</td>\n",
       "      <td>Mar 15, 2015</td>\n",
       "      <td>$21,000,000</td>\n",
       "      <td>$0</td>\n",
       "      <td>$991,329</td>\n",
       "    </tr>\n",
       "    <tr>\n",
       "      <th>982</th>\n",
       "      <td>Hellboy</td>\n",
       "      <td>Apr 2, 2004</td>\n",
       "      <td>$60,000,000</td>\n",
       "      <td>$59,623,958</td>\n",
       "      <td>$99,823,958</td>\n",
       "    </tr>\n",
       "    <tr>\n",
       "      <th>...</th>\n",
       "      <td>...</td>\n",
       "      <td>...</td>\n",
       "      <td>...</td>\n",
       "      <td>...</td>\n",
       "      <td>...</td>\n",
       "    </tr>\n",
       "    <tr>\n",
       "      <th>4367</th>\n",
       "      <td>The Kings of Appletown</td>\n",
       "      <td>Dec 12, 2008</td>\n",
       "      <td>$7,000,000</td>\n",
       "      <td>$0</td>\n",
       "      <td>$0</td>\n",
       "    </tr>\n",
       "    <tr>\n",
       "      <th>4368</th>\n",
       "      <td>Stargate - The Ark of Truth</td>\n",
       "      <td>Mar 11, 2008</td>\n",
       "      <td>$7,000,000</td>\n",
       "      <td>$0</td>\n",
       "      <td>$0</td>\n",
       "    </tr>\n",
       "    <tr>\n",
       "      <th>71</th>\n",
       "      <td>No Time to Die</td>\n",
       "      <td>Mar 31, 2021</td>\n",
       "      <td>$250,000,000</td>\n",
       "      <td>$0</td>\n",
       "      <td>$0</td>\n",
       "    </tr>\n",
       "    <tr>\n",
       "      <th>4369</th>\n",
       "      <td>Alpha &amp; Omega: The Legend of the Saw Tooth Cave</td>\n",
       "      <td>Sep 1, 2015</td>\n",
       "      <td>$7,000,000</td>\n",
       "      <td>$0</td>\n",
       "      <td>$0</td>\n",
       "    </tr>\n",
       "    <tr>\n",
       "      <th>3050</th>\n",
       "      <td>The Prince</td>\n",
       "      <td>Aug 22, 2014</td>\n",
       "      <td>$18,000,000</td>\n",
       "      <td>$0</td>\n",
       "      <td>$0</td>\n",
       "    </tr>\n",
       "  </tbody>\n",
       "</table>\n",
       "<p>5050 rows × 5 columns</p>\n",
       "</div>"
      ],
      "text/plain": [
       "                                                title  release_date  \\\n",
       "133                                   The Dark Knight  Jul 11, 2008   \n",
       "4003                           Fifty Dead Men Walking  Aug 21, 2009   \n",
       "3671                                             Duma  Sep 30, 2005   \n",
       "2659                                  Robot Overlords  Mar 15, 2015   \n",
       "982                                           Hellboy   Apr 2, 2004   \n",
       "...                                               ...           ...   \n",
       "4367                           The Kings of Appletown  Dec 12, 2008   \n",
       "4368                      Stargate - The Ark of Truth  Mar 11, 2008   \n",
       "71                                     No Time to Die  Mar 31, 2021   \n",
       "4369  Alpha & Omega: The Legend of the Saw Tooth Cave   Sep 1, 2015   \n",
       "3050                                       The Prince  Aug 22, 2014   \n",
       "\n",
       "             budget      dom_gross       ww_gross  \n",
       "133    $185,000,000   $533,720,947   $999,434,419  \n",
       "4003    $10,000,000             $0       $997,921  \n",
       "3671    $12,000,000       $870,067       $994,790  \n",
       "2659    $21,000,000             $0       $991,329  \n",
       "982     $60,000,000    $59,623,958    $99,823,958  \n",
       "...             ...            ...            ...  \n",
       "4367     $7,000,000             $0             $0  \n",
       "4368     $7,000,000             $0             $0  \n",
       "71     $250,000,000             $0             $0  \n",
       "4369     $7,000,000             $0             $0  \n",
       "3050    $18,000,000             $0             $0  \n",
       "\n",
       "[5050 rows x 5 columns]"
      ]
     },
     "execution_count": 99,
     "metadata": {},
     "output_type": "execute_result"
    }
   ],
   "source": [
    "budget_df.sort_values(by=\"ww_gross\", ascending=False)"
   ]
  },
  {
   "cell_type": "markdown",
   "metadata": {},
   "source": [
    "#### Preliminary cleaning and formatting\n",
    "\n",
    "The budget data will need to be merged with the IMDB and Rotten Tomatoes data.  Since I have already created a lowercase title string with underscores replacing spaces in order to format the Rotten Tomatoes url, I am formatting the budget data titles here to match this, to facilitate the merge."
   ]
  },
  {
   "cell_type": "code",
   "execution_count": 114,
   "metadata": {},
   "outputs": [],
   "source": [
    "budget_df['title_cc'] = budget_df['title'].str.lower()"
   ]
  },
  {
   "cell_type": "code",
   "execution_count": 160,
   "metadata": {},
   "outputs": [],
   "source": [
    "budget_df['title_cc'] = budget_df['title_cc'].str.replace('&','and',regex=False)\n",
    "budget_df['title_cc'] = budget_df['title_cc'].str.replace('\\\\','_',regex=True)\n",
    "budget_df['title_cc'] = budget_df['title_cc'].str.replace('episode\\s([ivx]*)\\s-\\s','',regex=True)\n",
    "budget_df['title_cc'] = budget_df['title_cc'].str.replace(\"\\s\",'_',regex=True)\n",
    "budget_df['title_cc'] = budget_df['title_cc'].str.replace(\"\\W\",'',regex=True)\n",
    "budget_df['title_cc'] = budget_df['title_cc'].str.replace('_+','_',regex=True)"
   ]
  },
  {
   "cell_type": "code",
   "execution_count": 119,
   "metadata": {},
   "outputs": [
    {
     "data": {
      "text/html": [
       "<div>\n",
       "<style scoped>\n",
       "    .dataframe tbody tr th:only-of-type {\n",
       "        vertical-align: middle;\n",
       "    }\n",
       "\n",
       "    .dataframe tbody tr th {\n",
       "        vertical-align: top;\n",
       "    }\n",
       "\n",
       "    .dataframe thead th {\n",
       "        text-align: right;\n",
       "    }\n",
       "</style>\n",
       "<table border=\"1\" class=\"dataframe\">\n",
       "  <thead>\n",
       "    <tr style=\"text-align: right;\">\n",
       "      <th></th>\n",
       "      <th>title</th>\n",
       "      <th>release_date</th>\n",
       "      <th>budget</th>\n",
       "      <th>dom_gross</th>\n",
       "      <th>ww_gross</th>\n",
       "      <th>title_cc</th>\n",
       "    </tr>\n",
       "  </thead>\n",
       "  <tbody>\n",
       "    <tr>\n",
       "      <th>0</th>\n",
       "      <td>Valerian and the City of a Thousand Planets</td>\n",
       "      <td>Jul 20, 2017</td>\n",
       "      <td>$180,000,000</td>\n",
       "      <td>$40,479,370</td>\n",
       "      <td>$215,098,356</td>\n",
       "      <td>valerian_and_the_city_of_a_thousand_planets</td>\n",
       "    </tr>\n",
       "    <tr>\n",
       "      <th>1</th>\n",
       "      <td>Bolt</td>\n",
       "      <td>Nov 21, 2008</td>\n",
       "      <td>$150,000,000</td>\n",
       "      <td>$114,053,579</td>\n",
       "      <td>$328,015,029</td>\n",
       "      <td>bolt</td>\n",
       "    </tr>\n",
       "    <tr>\n",
       "      <th>2</th>\n",
       "      <td>Monster Trucks</td>\n",
       "      <td>Dec 29, 2016</td>\n",
       "      <td>$125,000,000</td>\n",
       "      <td>$33,370,166</td>\n",
       "      <td>$61,642,798</td>\n",
       "      <td>monster_trucks</td>\n",
       "    </tr>\n",
       "    <tr>\n",
       "      <th>3</th>\n",
       "      <td>The Expendables 2</td>\n",
       "      <td>Aug 15, 2012</td>\n",
       "      <td>$100,000,000</td>\n",
       "      <td>$85,028,192</td>\n",
       "      <td>$311,979,256</td>\n",
       "      <td>the_expendables_2</td>\n",
       "    </tr>\n",
       "    <tr>\n",
       "      <th>4</th>\n",
       "      <td>Bicentennial Man</td>\n",
       "      <td>Dec 17, 1999</td>\n",
       "      <td>$90,000,000</td>\n",
       "      <td>$58,220,776</td>\n",
       "      <td>$87,420,776</td>\n",
       "      <td>bicentennial_man</td>\n",
       "    </tr>\n",
       "  </tbody>\n",
       "</table>\n",
       "</div>"
      ],
      "text/plain": [
       "                                         title  release_date         budget  \\\n",
       "0  Valerian and the City of a Thousand Planets  Jul 20, 2017   $180,000,000   \n",
       "1                                         Bolt  Nov 21, 2008   $150,000,000   \n",
       "2                               Monster Trucks  Dec 29, 2016   $125,000,000   \n",
       "3                            The Expendables 2  Aug 15, 2012   $100,000,000   \n",
       "4                             Bicentennial Man  Dec 17, 1999    $90,000,000   \n",
       "\n",
       "       dom_gross       ww_gross                                     title_cc  \n",
       "0    $40,479,370   $215,098,356  valerian_and_the_city_of_a_thousand_planets  \n",
       "1   $114,053,579   $328,015,029                                         bolt  \n",
       "2    $33,370,166    $61,642,798                               monster_trucks  \n",
       "3    $85,028,192   $311,979,256                            the_expendables_2  \n",
       "4    $58,220,776    $87,420,776                             bicentennial_man  "
      ]
     },
     "execution_count": 119,
     "metadata": {},
     "output_type": "execute_result"
    }
   ],
   "source": [
    "budget_df.head()"
   ]
  },
  {
   "cell_type": "code",
   "execution_count": 161,
   "metadata": {},
   "outputs": [],
   "source": [
    "budget_df['budget'] = budget_df['budget'].str.strip('$')"
   ]
  },
  {
   "cell_type": "code",
   "execution_count": 162,
   "metadata": {},
   "outputs": [],
   "source": [
    "budget_df['dom_gross'] = budget_df['dom_gross'].str.strip('$')"
   ]
  },
  {
   "cell_type": "code",
   "execution_count": 163,
   "metadata": {},
   "outputs": [],
   "source": [
    "budget_df['ww_gross'] = budget_df['ww_gross'].str.strip('$')"
   ]
  },
  {
   "cell_type": "code",
   "execution_count": 169,
   "metadata": {},
   "outputs": [
    {
     "data": {
      "text/html": [
       "<div>\n",
       "<style scoped>\n",
       "    .dataframe tbody tr th:only-of-type {\n",
       "        vertical-align: middle;\n",
       "    }\n",
       "\n",
       "    .dataframe tbody tr th {\n",
       "        vertical-align: top;\n",
       "    }\n",
       "\n",
       "    .dataframe thead th {\n",
       "        text-align: right;\n",
       "    }\n",
       "</style>\n",
       "<table border=\"1\" class=\"dataframe\">\n",
       "  <thead>\n",
       "    <tr style=\"text-align: right;\">\n",
       "      <th></th>\n",
       "      <th>title</th>\n",
       "      <th>release_date</th>\n",
       "      <th>budget</th>\n",
       "      <th>dom_gross</th>\n",
       "      <th>ww_gross</th>\n",
       "      <th>title_cc</th>\n",
       "      <th>release_date2</th>\n",
       "    </tr>\n",
       "  </thead>\n",
       "  <tbody>\n",
       "    <tr>\n",
       "      <th>0</th>\n",
       "      <td>Valerian and the City of a Thousand Planets</td>\n",
       "      <td>Jul 20, 2017</td>\n",
       "      <td>$180,000,000</td>\n",
       "      <td>$40,479,370</td>\n",
       "      <td>$215,098,356</td>\n",
       "      <td>valerian_and_the_city_of_a_thousand_planets</td>\n",
       "      <td>Jul 20, 2017</td>\n",
       "    </tr>\n",
       "    <tr>\n",
       "      <th>1</th>\n",
       "      <td>Bolt</td>\n",
       "      <td>Nov 21, 2008</td>\n",
       "      <td>$150,000,000</td>\n",
       "      <td>$114,053,579</td>\n",
       "      <td>$328,015,029</td>\n",
       "      <td>bolt</td>\n",
       "      <td>Nov 21, 2008</td>\n",
       "    </tr>\n",
       "    <tr>\n",
       "      <th>2</th>\n",
       "      <td>Monster Trucks</td>\n",
       "      <td>Dec 29, 2016</td>\n",
       "      <td>$125,000,000</td>\n",
       "      <td>$33,370,166</td>\n",
       "      <td>$61,642,798</td>\n",
       "      <td>monster_trucks</td>\n",
       "      <td>Dec 29, 2016</td>\n",
       "    </tr>\n",
       "    <tr>\n",
       "      <th>3</th>\n",
       "      <td>The Expendables 2</td>\n",
       "      <td>Aug 15, 2012</td>\n",
       "      <td>$100,000,000</td>\n",
       "      <td>$85,028,192</td>\n",
       "      <td>$311,979,256</td>\n",
       "      <td>the_expendables_2</td>\n",
       "      <td>Aug 15, 2012</td>\n",
       "    </tr>\n",
       "    <tr>\n",
       "      <th>4</th>\n",
       "      <td>Bicentennial Man</td>\n",
       "      <td>Dec 17, 1999</td>\n",
       "      <td>$90,000,000</td>\n",
       "      <td>$58,220,776</td>\n",
       "      <td>$87,420,776</td>\n",
       "      <td>bicentennial_man</td>\n",
       "      <td>Dec 17, 1999</td>\n",
       "    </tr>\n",
       "  </tbody>\n",
       "</table>\n",
       "</div>"
      ],
      "text/plain": [
       "                                         title  release_date         budget  \\\n",
       "0  Valerian and the City of a Thousand Planets  Jul 20, 2017   $180,000,000   \n",
       "1                                         Bolt  Nov 21, 2008   $150,000,000   \n",
       "2                               Monster Trucks  Dec 29, 2016   $125,000,000   \n",
       "3                            The Expendables 2  Aug 15, 2012   $100,000,000   \n",
       "4                             Bicentennial Man  Dec 17, 1999    $90,000,000   \n",
       "\n",
       "       dom_gross       ww_gross                                     title_cc  \\\n",
       "0    $40,479,370   $215,098,356  valerian_and_the_city_of_a_thousand_planets   \n",
       "1   $114,053,579   $328,015,029                                         bolt   \n",
       "2    $33,370,166    $61,642,798                               monster_trucks   \n",
       "3    $85,028,192   $311,979,256                            the_expendables_2   \n",
       "4    $58,220,776    $87,420,776                             bicentennial_man   \n",
       "\n",
       "  release_date2  \n",
       "0  Jul 20, 2017  \n",
       "1  Nov 21, 2008  \n",
       "2  Dec 29, 2016  \n",
       "3  Aug 15, 2012  \n",
       "4  Dec 17, 1999  "
      ]
     },
     "execution_count": 169,
     "metadata": {},
     "output_type": "execute_result"
    }
   ],
   "source": [
    "budget_df.head()"
   ]
  },
  {
   "cell_type": "code",
   "execution_count": 120,
   "metadata": {},
   "outputs": [
    {
     "data": {
      "text/plain": [
       "(5050, 6)"
      ]
     },
     "execution_count": 120,
     "metadata": {},
     "output_type": "execute_result"
    }
   ],
   "source": [
    "budget_df.shape"
   ]
  },
  {
   "cell_type": "code",
   "execution_count": 148,
   "metadata": {},
   "outputs": [],
   "source": [
    "budget_df['release_date2'] = budget_df['release_date'].replace('Unknown', np.nan)"
   ]
  },
  {
   "cell_type": "code",
   "execution_count": 149,
   "metadata": {},
   "outputs": [],
   "source": [
    "budget_df['release_date2'] = budget_df['release_date2'].replace('Fall, 2021', np.nan)"
   ]
  },
  {
   "cell_type": "markdown",
   "metadata": {},
   "source": [
    "#### Exporting and Saving Data\n",
    "\n",
    "I exported the data in json format, for easy import into other notebooks for cleaning, merging, and analysis."
   ]
  },
  {
   "cell_type": "code",
   "execution_count": 168,
   "metadata": {},
   "outputs": [],
   "source": [
    "budget_df.to_json('budget_data.json', orient='records', lines=True)"
   ]
  }
 ],
 "metadata": {
  "kernelspec": {
   "display_name": "Python 3",
   "language": "python",
   "name": "python3"
  },
  "language_info": {
   "codemirror_mode": {
    "name": "ipython",
    "version": 3
   },
   "file_extension": ".py",
   "mimetype": "text/x-python",
   "name": "python",
   "nbconvert_exporter": "python",
   "pygments_lexer": "ipython3",
   "version": "3.8.5"
  }
 },
 "nbformat": 4,
 "nbformat_minor": 4
}
