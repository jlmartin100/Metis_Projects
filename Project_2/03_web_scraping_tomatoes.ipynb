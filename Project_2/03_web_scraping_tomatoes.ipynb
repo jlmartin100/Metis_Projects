{
 "cells": [
  {
   "cell_type": "code",
   "execution_count": 1,
   "metadata": {},
   "outputs": [],
   "source": [
    "from bs4 import BeautifulSoup\n",
    "import pandas as pd\n",
    "import numpy as np\n",
    "import os, re, sys, pickle, requests, resource, json\n",
    "import time\n",
    "from random import random\n",
    "from IPython.core.display import clear_output"
   ]
  },
  {
   "cell_type": "code",
   "execution_count": 2,
   "metadata": {},
   "outputs": [],
   "source": [
    "from selenium import webdriver\n",
    "from selenium.webdriver.common.keys import Keys\n",
    "\n",
    "chromedriver = \"/Applications/chromedriver\"  # path to the chromedriver executable\n",
    "os.environ['webdriver.chrome.driver'] = chromedriver\n",
    "driver = webdriver.Chrome(chromedriver)"
   ]
  },
  {
   "cell_type": "markdown",
   "metadata": {},
   "source": [
    "## Webscraping Rotten Tomatoes\n",
    "\n",
    "In order to acquire Tomatometer data, it was necessary to search out the url for each film title individually.  To do this, I imported the cleaned IMDB data and formatted a title string to append to the base Rotten Tomatoes url.  "
   ]
  },
  {
   "cell_type": "code",
   "execution_count": 170,
   "metadata": {},
   "outputs": [],
   "source": [
    "imdb_lookup_df3 = pd.read_json(\"imdb_lookup_df3.json\", lines=True)"
   ]
  },
  {
   "cell_type": "code",
   "execution_count": 177,
   "metadata": {},
   "outputs": [
    {
     "data": {
      "text/plain": [
       "(83, 7)"
      ]
     },
     "execution_count": 177,
     "metadata": {},
     "output_type": "execute_result"
    }
   ],
   "source": [
    "imdb_lookup_df3.shape"
   ]
  },
  {
   "cell_type": "code",
   "execution_count": 171,
   "metadata": {},
   "outputs": [
    {
     "data": {
      "text/plain": [
       "Index(['title', 'imdb_id', 'title_link', 'director_name', 'director_id',\n",
       "       'director_link', 'title_cc'],\n",
       "      dtype='object')"
      ]
     },
     "execution_count": 171,
     "metadata": {},
     "output_type": "execute_result"
    }
   ],
   "source": [
    "imdb_lookup_df3.columns"
   ]
  },
  {
   "cell_type": "code",
   "execution_count": 17,
   "metadata": {},
   "outputs": [],
   "source": [
    "imdb_lookup_df3['title_cc'] = imdb_lookup_df3['title_cc'].str.strip(':')"
   ]
  },
  {
   "cell_type": "code",
   "execution_count": 172,
   "metadata": {},
   "outputs": [],
   "source": [
    "title_list = imdb_lookup_df3['title_cc']"
   ]
  },
  {
   "cell_type": "code",
   "execution_count": 173,
   "metadata": {},
   "outputs": [
    {
     "data": {
      "text/plain": [
       "0                                               beneath\n",
       "1                               the_million_dollar_duck\n",
       "2                                 cities_of_last_things\n",
       "3                                            lazer_team\n",
       "4                             the_powerpuff_girls_movie\n",
       "5                                  these_are_the_damned\n",
       "6                                                   bug\n",
       "7                                                poison\n",
       "8                                         american_hero\n",
       "9                                                undead\n",
       "10    aqua_teen_hunger_force_colon_movie_film_for_th...\n",
       "11                                                stung\n",
       "12                                        the_objective\n",
       "13                                            curvature\n",
       "14                                        the_minds_eye\n",
       "15                                             metropia\n",
       "16                                         time_changer\n",
       "17                                save_the_green_planet\n",
       "18                           jack_brooks_monster_slayer\n",
       "19                                   spark_a_space_tail\n",
       "Name: title_cc, dtype: object"
      ]
     },
     "execution_count": 173,
     "metadata": {},
     "output_type": "execute_result"
    }
   ],
   "source": [
    "title_list[0:20]"
   ]
  },
  {
   "cell_type": "code",
   "execution_count": 22,
   "metadata": {},
   "outputs": [],
   "source": [
    "# rotten tomatoes url - takes title, lower case, underscores\n",
    "tomato_url = \"https://www.rottentomatoes.com/m/{}\""
   ]
  },
  {
   "cell_type": "code",
   "execution_count": 155,
   "metadata": {},
   "outputs": [],
   "source": [
    "movie_html = []\n",
    "tomato_dict = {}\n",
    "tomato_list = []\n",
    "\n",
    "\n",
    "def get_page_source(title_list):\n",
    "    t_success = 0\n",
    "    t_nan = 0\n",
    "    \n",
    "    headers = ['title', 'tomatometer', 'tomato_ct', 'aud_score', 'aud_score_ct']\n",
    "    \n",
    "    start_time = time.time()\n",
    "    tries = 0\n",
    "    \n",
    "    for title in title_list:\n",
    "        url = tomato_url.format(title)\n",
    "        user_agent = {'User-agent': 'Mozilla/5.0'}\n",
    "        driver = webdriver.Chrome(chromedriver)\n",
    "        tomato_response = driver.get(url)\n",
    "        movie_html.append(driver.page_source)\n",
    "        \n",
    "        tries += 1\n",
    "        time.sleep(2+2*random())\n",
    "        elapsed_time = time.time() - start_time\n",
    "        print('Request: {}; Frequency: {} requests/s'.format(tries, tries/elapsed_time))\n",
    "        clear_output(wait = True)\n",
    "\n",
    "        tomato_soup = BeautifulSoup(driver.page_source, 'html5lib')\n",
    "       \n",
    "        percents = tomato_soup.find_all('span', class_ = 'mop-ratings-wrap__percentage')\n",
    "        if not percents:\n",
    "            pass\n",
    "        try:\n",
    "            tomatometer = percents[0].text.strip().strip('%')\n",
    "        except:\n",
    "            tomatometer = np.nan\n",
    "        try:\n",
    "            aud_score = percents[1].text.strip().strip('%')\n",
    "        except:\n",
    "            aud_score = np.nan\n",
    "                \n",
    "        aud_score_cts = tomato_soup.find_all('strong', class_='mop-ratings-wrap__text--small')\n",
    "        if not aud_score_cts:\n",
    "            pass\n",
    "\n",
    "        try:\n",
    "            tomato_ct = tomato_soup.find('small', class_=\"mop-ratings-wrap__text--small\").text.strip()\n",
    "        except:\n",
    "            tomato_ct = np.nan\n",
    "        try:\n",
    "            aud_score_ct = aud_score_cts[1].text.strip('User Ratings: ').strip()\n",
    "        except:\n",
    "            aud_score_ct = np.nan\n",
    "\n",
    "        tomato_dict = dict(zip(headers, [title, tomatometer,tomato_ct,aud_score, aud_score_ct]))\n",
    "\n",
    "        tomato_list.append(tomato_dict)\n",
    "\n"
   ]
  },
  {
   "cell_type": "code",
   "execution_count": 174,
   "metadata": {},
   "outputs": [
    {
     "name": "stdout",
     "output_type": "stream",
     "text": [
      "Request: 1; Frequency: 0.09651267054628379 requests/s\n",
      "Request: 2; Frequency: 0.1052446846880484 requests/s\n",
      "Request: 3; Frequency: 0.10583214917210933 requests/s\n",
      "Request: 4; Frequency: 0.10544584811674267 requests/s\n",
      "Request: 5; Frequency: 0.10406853674412553 requests/s\n",
      "Request: 6; Frequency: 0.1041812703857576 requests/s\n",
      "Request: 7; Frequency: 0.10254388546574102 requests/s\n",
      "Request: 8; Frequency: 0.10351448883246708 requests/s\n",
      "Request: 9; Frequency: 0.10415415010313055 requests/s\n",
      "Request: 10; Frequency: 0.10634002864994331 requests/s\n",
      "Request: 11; Frequency: 0.10744948449912252 requests/s\n",
      "Request: 12; Frequency: 0.10938345626721385 requests/s\n",
      "Request: 13; Frequency: 0.11032251064019022 requests/s\n",
      "Request: 14; Frequency: 0.11003541014757644 requests/s\n",
      "Request: 15; Frequency: 0.11064321309124951 requests/s\n",
      "Request: 16; Frequency: 0.11067666974645807 requests/s\n",
      "Request: 17; Frequency: 0.10984446792971275 requests/s\n",
      "Request: 18; Frequency: 0.1108828724122148 requests/s\n",
      "Request: 19; Frequency: 0.10951326389897312 requests/s\n",
      "Request: 20; Frequency: 0.10915463853382103 requests/s\n",
      "Request: 21; Frequency: 0.10835624354220272 requests/s\n",
      "Request: 22; Frequency: 0.10766028194952848 requests/s\n",
      "Request: 23; Frequency: 0.1069977251171947 requests/s\n",
      "Request: 24; Frequency: 0.10704223831045555 requests/s\n",
      "Request: 25; Frequency: 0.10758153311217411 requests/s\n",
      "Request: 26; Frequency: 0.10723168897236962 requests/s\n",
      "Request: 27; Frequency: 0.10703708910933588 requests/s\n",
      "Request: 28; Frequency: 0.1072005565072094 requests/s\n",
      "Request: 29; Frequency: 0.10725854044918133 requests/s\n",
      "Request: 30; Frequency: 0.10686375069837305 requests/s\n",
      "Request: 31; Frequency: 0.1066434375019728 requests/s\n",
      "Request: 32; Frequency: 0.10678349845822131 requests/s\n",
      "Request: 33; Frequency: 0.1063959921438771 requests/s\n",
      "Request: 34; Frequency: 0.10580571160034007 requests/s\n",
      "Request: 35; Frequency: 0.10603172940454282 requests/s\n",
      "Request: 36; Frequency: 0.10642997741766429 requests/s\n",
      "Request: 37; Frequency: 0.1067945569074049 requests/s\n",
      "Request: 38; Frequency: 0.10676935760877597 requests/s\n",
      "Request: 39; Frequency: 0.1063372078797663 requests/s\n",
      "Request: 40; Frequency: 0.10616664495078272 requests/s\n",
      "Request: 41; Frequency: 0.10579771175755444 requests/s\n",
      "Request: 42; Frequency: 0.10516817099897524 requests/s\n",
      "Request: 43; Frequency: 0.10468834457112679 requests/s\n",
      "Request: 44; Frequency: 0.10437408349997895 requests/s\n",
      "Request: 45; Frequency: 0.10388038069564647 requests/s\n",
      "Request: 46; Frequency: 0.10373084511758478 requests/s\n",
      "Request: 47; Frequency: 0.10380667398751933 requests/s\n",
      "Request: 48; Frequency: 0.10408239809366912 requests/s\n",
      "Request: 49; Frequency: 0.10451034661726952 requests/s\n",
      "Request: 50; Frequency: 0.10445252600139482 requests/s\n",
      "Request: 51; Frequency: 0.10429786871806326 requests/s\n",
      "Request: 52; Frequency: 0.1043479716303133 requests/s\n",
      "Request: 53; Frequency: 0.10455800147536497 requests/s\n",
      "Request: 54; Frequency: 0.10476979103150504 requests/s\n",
      "Request: 55; Frequency: 0.10473773504149453 requests/s\n",
      "Request: 56; Frequency: 0.1048891509843947 requests/s\n",
      "Request: 57; Frequency: 0.10466241497051236 requests/s\n",
      "Request: 58; Frequency: 0.10459251464468215 requests/s\n",
      "Request: 59; Frequency: 0.10498202536371971 requests/s\n",
      "Request: 60; Frequency: 0.1048812854717997 requests/s\n",
      "Request: 61; Frequency: 0.1049492573048312 requests/s\n",
      "Request: 62; Frequency: 0.10506672357800685 requests/s\n",
      "Request: 63; Frequency: 0.10544334956460169 requests/s\n",
      "Request: 64; Frequency: 0.1050728693545009 requests/s\n",
      "Request: 65; Frequency: 0.10544413743502501 requests/s\n",
      "Request: 66; Frequency: 0.1053420950696746 requests/s\n",
      "Request: 67; Frequency: 0.10527762121502478 requests/s\n",
      "Request: 68; Frequency: 0.10558270686237327 requests/s\n",
      "Request: 69; Frequency: 0.10563789037323289 requests/s\n",
      "Request: 70; Frequency: 0.10572896679021537 requests/s\n",
      "Request: 71; Frequency: 0.10565730286305053 requests/s\n",
      "Request: 72; Frequency: 0.10551420577998648 requests/s\n",
      "Request: 73; Frequency: 0.10527471504142001 requests/s\n",
      "Request: 74; Frequency: 0.10523802814775624 requests/s\n",
      "Request: 75; Frequency: 0.10562569654518744 requests/s\n",
      "Request: 76; Frequency: 0.10588143270382618 requests/s\n",
      "Request: 77; Frequency: 0.10546808113372654 requests/s\n",
      "Request: 78; Frequency: 0.10567644678489137 requests/s\n",
      "Request: 79; Frequency: 0.10553676427932401 requests/s\n",
      "Request: 80; Frequency: 0.10557902799801938 requests/s\n",
      "Request: 81; Frequency: 0.10546481592369061 requests/s\n",
      "Request: 82; Frequency: 0.1053661422650389 requests/s\n",
      "Request: 83; Frequency: 0.10481752548171248 requests/s\n",
      "There are 2083 titles in movie_html.\n",
      "Successes: 0, NaNs:0\n"
     ]
    }
   ],
   "source": [
    "get_page_source(title_list)"
   ]
  },
  {
   "cell_type": "code",
   "execution_count": 175,
   "metadata": {},
   "outputs": [
    {
     "data": {
      "text/plain": [
       "[{'title': 'tenet',\n",
       "  'tomatometer': '70',\n",
       "  'tomato_ct': '324',\n",
       "  'aud_score': '76',\n",
       "  'aud_score_ct': 'Verified Ratings: 5,837'},\n",
       " {'title': 'the_midnight_sky',\n",
       "  'tomatometer': '51',\n",
       "  'tomato_ct': '226',\n",
       "  'aud_score': '26',\n",
       "  'aud_score_ct': '2,122'},\n",
       " {'title': 'wonder_woman',\n",
       "  'tomatometer': '83',\n",
       "  'tomato_ct': '12',\n",
       "  'aud_score': '78',\n",
       "  'aud_score_ct': '1,910'},\n",
       " {'title': 'avengers_endgame',\n",
       "  'tomatometer': '94',\n",
       "  'tomato_ct': '532',\n",
       "  'aud_score': '90',\n",
       "  'aud_score_ct': '70,830'},\n",
       " {'title': 'outside_the_wire',\n",
       "  'tomatometer': '36',\n",
       "  'tomato_ct': '58',\n",
       "  'aud_score': '33',\n",
       "  'aud_score_ct': '295'},\n",
       " {'title': 'dune',\n",
       "  'tomatometer': '75',\n",
       "  'tomato_ct': 'N/A',\n",
       "  'aud_score': nan,\n",
       "  'aud_score_ct': '1,261'},\n",
       " {'title': 'interstellar',\n",
       "  'tomatometer': '72',\n",
       "  'tomato_ct': '365',\n",
       "  'aud_score': '86',\n",
       "  'aud_score_ct': '176,217'},\n",
       " {'title': 'love_and_monsters',\n",
       "  'tomatometer': '92',\n",
       "  'tomato_ct': '75',\n",
       "  'aud_score': '89',\n",
       "  'aud_score_ct': 'Verified Ratings: 54'},\n",
       " {'title': 'mad_max_fury_road',\n",
       "  'tomatometer': '97',\n",
       "  'tomato_ct': '424',\n",
       "  'aud_score': '86',\n",
       "  'aud_score_ct': '128,488'},\n",
       " {'title': 'star_wars_the_rise_of_skywalker',\n",
       "  'tomatometer': '51',\n",
       "  'tomato_ct': '500',\n",
       "  'aud_score': '86',\n",
       "  'aud_score_ct': 'Verified Ratings: 98,277'}]"
      ]
     },
     "execution_count": 175,
     "metadata": {},
     "output_type": "execute_result"
    }
   ],
   "source": [
    "tomato_list[0:10]"
   ]
  },
  {
   "cell_type": "code",
   "execution_count": 178,
   "metadata": {},
   "outputs": [
    {
     "data": {
      "text/plain": [
       "2083"
      ]
     },
     "execution_count": 178,
     "metadata": {},
     "output_type": "execute_result"
    }
   ],
   "source": [
    "len(tomato_list)"
   ]
  },
  {
   "cell_type": "code",
   "execution_count": 179,
   "metadata": {},
   "outputs": [
    {
     "data": {
      "text/html": [
       "<div>\n",
       "<style scoped>\n",
       "    .dataframe tbody tr th:only-of-type {\n",
       "        vertical-align: middle;\n",
       "    }\n",
       "\n",
       "    .dataframe tbody tr th {\n",
       "        vertical-align: top;\n",
       "    }\n",
       "\n",
       "    .dataframe thead th {\n",
       "        text-align: right;\n",
       "    }\n",
       "</style>\n",
       "<table border=\"1\" class=\"dataframe\">\n",
       "  <thead>\n",
       "    <tr style=\"text-align: right;\">\n",
       "      <th></th>\n",
       "      <th>title</th>\n",
       "      <th>tomatometer</th>\n",
       "      <th>tomato_ct</th>\n",
       "      <th>aud_score</th>\n",
       "      <th>aud_score_ct</th>\n",
       "    </tr>\n",
       "  </thead>\n",
       "  <tbody>\n",
       "    <tr>\n",
       "      <th>0</th>\n",
       "      <td>tenet</td>\n",
       "      <td>70</td>\n",
       "      <td>324</td>\n",
       "      <td>76</td>\n",
       "      <td>Verified Ratings: 5,837</td>\n",
       "    </tr>\n",
       "    <tr>\n",
       "      <th>1</th>\n",
       "      <td>the_midnight_sky</td>\n",
       "      <td>51</td>\n",
       "      <td>226</td>\n",
       "      <td>26</td>\n",
       "      <td>2,122</td>\n",
       "    </tr>\n",
       "    <tr>\n",
       "      <th>2</th>\n",
       "      <td>wonder_woman</td>\n",
       "      <td>83</td>\n",
       "      <td>12</td>\n",
       "      <td>78</td>\n",
       "      <td>1,910</td>\n",
       "    </tr>\n",
       "    <tr>\n",
       "      <th>3</th>\n",
       "      <td>avengers_endgame</td>\n",
       "      <td>94</td>\n",
       "      <td>532</td>\n",
       "      <td>90</td>\n",
       "      <td>70,830</td>\n",
       "    </tr>\n",
       "    <tr>\n",
       "      <th>4</th>\n",
       "      <td>outside_the_wire</td>\n",
       "      <td>36</td>\n",
       "      <td>58</td>\n",
       "      <td>33</td>\n",
       "      <td>295</td>\n",
       "    </tr>\n",
       "  </tbody>\n",
       "</table>\n",
       "</div>"
      ],
      "text/plain": [
       "              title tomatometer tomato_ct aud_score             aud_score_ct\n",
       "0             tenet          70       324        76  Verified Ratings: 5,837\n",
       "1  the_midnight_sky          51       226        26                    2,122\n",
       "2      wonder_woman          83        12        78                    1,910\n",
       "3  avengers_endgame          94       532        90                   70,830\n",
       "4  outside_the_wire          36        58        33                      295"
      ]
     },
     "execution_count": 179,
     "metadata": {},
     "output_type": "execute_result"
    }
   ],
   "source": [
    "tomato_df2 = pd.DataFrame(tomato_list)\n",
    "tomato_df2.head()"
   ]
  },
  {
   "cell_type": "code",
   "execution_count": 180,
   "metadata": {},
   "outputs": [
    {
     "data": {
      "text/plain": [
       "2083"
      ]
     },
     "execution_count": 180,
     "metadata": {},
     "output_type": "execute_result"
    }
   ],
   "source": [
    "len(tomato_df2)"
   ]
  },
  {
   "cell_type": "code",
   "execution_count": 181,
   "metadata": {},
   "outputs": [],
   "source": [
    "tomato_df2['tomato_ct']= tomato_df2['tomato_ct'].replace('N/A', np.NaN)"
   ]
  },
  {
   "cell_type": "code",
   "execution_count": 182,
   "metadata": {},
   "outputs": [],
   "source": [
    "tomato_df2['aud_score_ct']= tomato_df2['aud_score_ct'].replace('Not yet availabl', np.NaN)"
   ]
  },
  {
   "cell_type": "code",
   "execution_count": 183,
   "metadata": {},
   "outputs": [
    {
     "data": {
      "text/html": [
       "<div>\n",
       "<style scoped>\n",
       "    .dataframe tbody tr th:only-of-type {\n",
       "        vertical-align: middle;\n",
       "    }\n",
       "\n",
       "    .dataframe tbody tr th {\n",
       "        vertical-align: top;\n",
       "    }\n",
       "\n",
       "    .dataframe thead th {\n",
       "        text-align: right;\n",
       "    }\n",
       "</style>\n",
       "<table border=\"1\" class=\"dataframe\">\n",
       "  <thead>\n",
       "    <tr style=\"text-align: right;\">\n",
       "      <th></th>\n",
       "      <th>title</th>\n",
       "      <th>tomatometer</th>\n",
       "      <th>tomato_ct</th>\n",
       "      <th>aud_score</th>\n",
       "      <th>aud_score_ct</th>\n",
       "    </tr>\n",
       "  </thead>\n",
       "  <tbody>\n",
       "    <tr>\n",
       "      <th>count</th>\n",
       "      <td>2083</td>\n",
       "      <td>1369</td>\n",
       "      <td>1098</td>\n",
       "      <td>1081</td>\n",
       "      <td>1352</td>\n",
       "    </tr>\n",
       "    <tr>\n",
       "      <th>unique</th>\n",
       "      <td>2017</td>\n",
       "      <td>100</td>\n",
       "      <td>274</td>\n",
       "      <td>92</td>\n",
       "      <td>1170</td>\n",
       "    </tr>\n",
       "    <tr>\n",
       "      <th>top</th>\n",
       "      <td>cargo</td>\n",
       "      <td>0</td>\n",
       "      <td>5</td>\n",
       "      <td>45</td>\n",
       "      <td>30</td>\n",
       "    </tr>\n",
       "    <tr>\n",
       "      <th>freq</th>\n",
       "      <td>3</td>\n",
       "      <td>35</td>\n",
       "      <td>38</td>\n",
       "      <td>26</td>\n",
       "      <td>6</td>\n",
       "    </tr>\n",
       "  </tbody>\n",
       "</table>\n",
       "</div>"
      ],
      "text/plain": [
       "        title tomatometer tomato_ct aud_score aud_score_ct\n",
       "count    2083        1369      1098      1081         1352\n",
       "unique   2017         100       274        92         1170\n",
       "top     cargo           0         5        45           30\n",
       "freq        3          35        38        26            6"
      ]
     },
     "execution_count": 183,
     "metadata": {},
     "output_type": "execute_result"
    }
   ],
   "source": [
    "tomato_df2.describe()"
   ]
  },
  {
   "cell_type": "code",
   "execution_count": 185,
   "metadata": {},
   "outputs": [],
   "source": [
    "tomato_df2.to_json('tomato_data2.json', orient='records', lines=True)"
   ]
  },
  {
   "cell_type": "code",
   "execution_count": null,
   "metadata": {},
   "outputs": [],
   "source": []
  }
 ],
 "metadata": {
  "kernelspec": {
   "display_name": "Python 3",
   "language": "python",
   "name": "python3"
  },
  "language_info": {
   "codemirror_mode": {
    "name": "ipython",
    "version": 3
   },
   "file_extension": ".py",
   "mimetype": "text/x-python",
   "name": "python",
   "nbconvert_exporter": "python",
   "pygments_lexer": "ipython3",
   "version": "3.8.5"
  }
 },
 "nbformat": 4,
 "nbformat_minor": 4
}
