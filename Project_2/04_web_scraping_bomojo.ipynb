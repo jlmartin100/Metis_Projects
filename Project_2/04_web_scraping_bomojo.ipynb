{
 "cells": [
  {
   "cell_type": "code",
   "execution_count": 1,
   "metadata": {},
   "outputs": [],
   "source": [
    "from bs4 import BeautifulSoup\n",
    "import requests\n",
    "import numpy as np\n",
    "import pandas as pd"
   ]
  },
  {
   "cell_type": "code",
   "execution_count": 2,
   "metadata": {},
   "outputs": [],
   "source": [
    "import os, re, sys, pickle, requests, resource, json\n",
    "import time\n",
    "from random import random\n",
    "from IPython.core.display import clear_output"
   ]
  },
  {
   "cell_type": "markdown",
   "metadata": {},
   "source": [
    "### Webscraping Box Office Mojo\n",
    "\n",
    "Since I encountered some difficulties in obtaining director information for all of the film entries on IMDB, in particular for films which had more than one director, I attempted to scrape this information from [Box Office Mojo](https://www.boxofficemojo.com/), which had a more approachable tabular format. I used the `imdb_id` field sliced from the `title_link`  from the cleaned IMDB dataframe to do this.\n",
    "\n",
    "I also attempted to scrape other cast and crew data, but ultimately abandoned this portion due to time constraints."
   ]
  },
  {
   "cell_type": "code",
   "execution_count": 70,
   "metadata": {},
   "outputs": [],
   "source": [
    "imdb_lookup_df3 = pd.read_json(\"imdb_lookup_df3.json\", lines=True)"
   ]
  },
  {
   "cell_type": "code",
   "execution_count": 71,
   "metadata": {},
   "outputs": [
    {
     "data": {
      "text/html": [
       "<div>\n",
       "<style scoped>\n",
       "    .dataframe tbody tr th:only-of-type {\n",
       "        vertical-align: middle;\n",
       "    }\n",
       "\n",
       "    .dataframe tbody tr th {\n",
       "        vertical-align: top;\n",
       "    }\n",
       "\n",
       "    .dataframe thead th {\n",
       "        text-align: right;\n",
       "    }\n",
       "</style>\n",
       "<table border=\"1\" class=\"dataframe\">\n",
       "  <thead>\n",
       "    <tr style=\"text-align: right;\">\n",
       "      <th></th>\n",
       "      <th>title</th>\n",
       "      <th>imdb_id</th>\n",
       "      <th>title_link</th>\n",
       "      <th>director_name</th>\n",
       "      <th>director_id</th>\n",
       "      <th>director_link</th>\n",
       "      <th>title_cc</th>\n",
       "    </tr>\n",
       "  </thead>\n",
       "  <tbody>\n",
       "    <tr>\n",
       "      <th>0</th>\n",
       "      <td>Beneath</td>\n",
       "      <td>tt2325518</td>\n",
       "      <td>/title/tt2325518/?ref_=adv_li_tt</td>\n",
       "      <td>Larry Fessenden</td>\n",
       "      <td>nm0275244</td>\n",
       "      <td>/name/nm0275244/?ref_=adv_li_dr_0</td>\n",
       "      <td>beneath</td>\n",
       "    </tr>\n",
       "    <tr>\n",
       "      <th>1</th>\n",
       "      <td>The Million Dollar Duck</td>\n",
       "      <td>tt0066728</td>\n",
       "      <td>/title/tt0066728/?ref_=adv_li_tt</td>\n",
       "      <td>Vincent McEveety</td>\n",
       "      <td>nm0568546</td>\n",
       "      <td>/name/nm0568546/?ref_=adv_li_dr_0</td>\n",
       "      <td>the_million_dollar_duck</td>\n",
       "    </tr>\n",
       "    <tr>\n",
       "      <th>2</th>\n",
       "      <td>Cities of Last Things</td>\n",
       "      <td>tt4397342</td>\n",
       "      <td>/title/tt4397342/?ref_=adv_li_tt</td>\n",
       "      <td>Wi Ding Ho</td>\n",
       "      <td>nm0387399</td>\n",
       "      <td>/name/nm0387399/?ref_=adv_li_dr_0</td>\n",
       "      <td>cities_of_last_things</td>\n",
       "    </tr>\n",
       "    <tr>\n",
       "      <th>3</th>\n",
       "      <td>Lazer Team</td>\n",
       "      <td>tt3864024</td>\n",
       "      <td>/title/tt3864024/?ref_=adv_li_tt</td>\n",
       "      <td>Matt Hullum</td>\n",
       "      <td>nm0401502</td>\n",
       "      <td>/name/nm0401502/?ref_=adv_li_dr_0</td>\n",
       "      <td>lazer_team</td>\n",
       "    </tr>\n",
       "    <tr>\n",
       "      <th>4</th>\n",
       "      <td>The Powerpuff Girls Movie</td>\n",
       "      <td>tt0289408</td>\n",
       "      <td>/title/tt0289408/?ref_=adv_li_tt</td>\n",
       "      <td>Craig McCracken</td>\n",
       "      <td>nm0566833</td>\n",
       "      <td>/name/nm0566833/?ref_=adv_li_dr_0</td>\n",
       "      <td>the_powerpuff_girls_movie</td>\n",
       "    </tr>\n",
       "  </tbody>\n",
       "</table>\n",
       "</div>"
      ],
      "text/plain": [
       "                       title    imdb_id                        title_link  \\\n",
       "0                    Beneath  tt2325518  /title/tt2325518/?ref_=adv_li_tt   \n",
       "1    The Million Dollar Duck  tt0066728  /title/tt0066728/?ref_=adv_li_tt   \n",
       "2      Cities of Last Things  tt4397342  /title/tt4397342/?ref_=adv_li_tt   \n",
       "3                 Lazer Team  tt3864024  /title/tt3864024/?ref_=adv_li_tt   \n",
       "4  The Powerpuff Girls Movie  tt0289408  /title/tt0289408/?ref_=adv_li_tt   \n",
       "\n",
       "      director_name director_id                      director_link  \\\n",
       "0   Larry Fessenden   nm0275244  /name/nm0275244/?ref_=adv_li_dr_0   \n",
       "1  Vincent McEveety   nm0568546  /name/nm0568546/?ref_=adv_li_dr_0   \n",
       "2        Wi Ding Ho   nm0387399  /name/nm0387399/?ref_=adv_li_dr_0   \n",
       "3       Matt Hullum   nm0401502  /name/nm0401502/?ref_=adv_li_dr_0   \n",
       "4   Craig McCracken   nm0566833  /name/nm0566833/?ref_=adv_li_dr_0   \n",
       "\n",
       "                    title_cc  \n",
       "0                    beneath  \n",
       "1    the_million_dollar_duck  \n",
       "2      cities_of_last_things  \n",
       "3                 lazer_team  \n",
       "4  the_powerpuff_girls_movie  "
      ]
     },
     "execution_count": 71,
     "metadata": {},
     "output_type": "execute_result"
    }
   ],
   "source": [
    "imdb_lookup_df3.head()"
   ]
  },
  {
   "cell_type": "code",
   "execution_count": 72,
   "metadata": {},
   "outputs": [],
   "source": [
    "id_list = imdb_lookup_df3['imdb_id']"
   ]
  },
  {
   "cell_type": "code",
   "execution_count": 73,
   "metadata": {},
   "outputs": [],
   "source": [
    "def get_movie_value(soup, field_name):\n",
    "    obj = soup.find(text = re.compile(field_name))\n",
    "    \n",
    "    if not obj:\n",
    "        return None\n",
    "    \n",
    "    next_element = obj.findNext()\n",
    "    \n",
    "    if next_element:\n",
    "        return next_element.text\n",
    "    else:\n",
    "        \n",
    "        return None"
   ]
  },
  {
   "cell_type": "code",
   "execution_count": 74,
   "metadata": {},
   "outputs": [],
   "source": [
    "mojo_data_list = []\n",
    "\n",
    "def get_movie_dict(id_list):\n",
    "\n",
    "    mojo_url = \"https://www.boxofficemojo.com/title/{}/?ref_=bo_se_r_1\"\n",
    "\n",
    "# preparing to monitor\n",
    "    start_time = time.time()\n",
    "    tries =0\n",
    "\n",
    "    for movie_id in id_list:\n",
    "    \n",
    "        response = requests.get(mojo_url.format(movie_id))\n",
    "        page = response.text\n",
    "        \n",
    "        time.sleep(0.5+2*random())\n",
    "        tries +=1\n",
    "        elapsed_time = time.time() - start_time\n",
    "        print('Request:{}; Frequency: {} requests/s'.format(tries, tries/elapsed_time))\n",
    "        clear_output(wait = True)\n",
    "        \n",
    "        if tries > 2200:\n",
    "            return \"Number of requests exceeded\"\n",
    "            break\n",
    "\n",
    "        mojo_soup = BeautifulSoup(page, \"lxml\")\n",
    "\n",
    "        headers = [\"id\",\"title_string\",\"dom_gross\", \"release_date\"]\n",
    "\n",
    "        title_string = mojo_soup.find('title').text\n",
    "        \n",
    "        try:\n",
    "            domestic_gross = (mojo_soup.find(\n",
    "                class_='mojo-performance-summary-table')\\\n",
    "                              .find_all('span', class_='money')[0].text)\n",
    "        except:\n",
    "            domestic_gross = np.nan\n",
    "                         \n",
    "        release_date = get_movie_value(mojo_soup, 'Release Date')\n",
    "        \n",
    "        mojo_dict = dict(zip(headers, [movie_id, title_string,\n",
    "                                       domestic_gross,\n",
    "                                       release_date]))\n",
    "        mojo_data_list.append(mojo_dict)"
   ]
  },
  {
   "cell_type": "code",
   "execution_count": 50,
   "metadata": {},
   "outputs": [],
   "source": [
    "crew_id_dict ={}\n",
    "cast_id_dict ={}\n",
    "\n",
    "def get_movie_cast_n_crew(id_list):\n",
    "\n",
    "    \n",
    "    mojo_crew_url = \"https://www.boxofficemojo.com/title/{}/credits/?ref_=bo_tt_tab#tabs\"\n",
    "\n",
    "# preparing to monitor\n",
    "    start_time = time.time()\n",
    "    tries =0\n",
    "\n",
    "    for movie_id in id_list:\n",
    "    \n",
    "        response = requests.get(mojo_crew_url.format(movie_id))\n",
    "        page = response.text\n",
    "        \n",
    "        time.sleep(0.5+2*random())\n",
    "        tries +=1\n",
    "        elapsed_time = time.time() - start_time\n",
    "        print('Request:{}; Frequency: {} requests/s'.format(tries, tries/elapsed_time))\n",
    "        clear_output(wait = True)\n",
    "        \n",
    "        if tries > 2200:\n",
    "            return \"Number of requests exceeded\"\n",
    "            break\n",
    "\n",
    "        mojo_crew_soup = BeautifulSoup(page, \"lxml\")\n",
    "        \n",
    "        crew_table = mojo_crew_soup.find('table', attrs={'id':'principalCrew'})\n",
    "        \n",
    "        crew_rows = [row for row in crew_table.find_all('tr')]\n",
    "        \n",
    "     \n",
    "        crew_list = [movie_id]\n",
    "        crew_header = ['movie_id']\n",
    "                \n",
    "        for row in crew_rows[1:3]:\n",
    "            crew = row.find_all('td')\n",
    "            crew_name = crew[0].find('a').text\n",
    "            crew_list.append(crew_name)\n",
    "            crew_role = crew[-1].text\n",
    "            crew_header.append(crew_role)\n",
    "        \n",
    "        while crew_list < 4:\n",
    "            crew_list.append(np.nan)\n",
    "            \n",
    "        crew_dict = dict(zip(crew_header, crew_list))\n",
    "\n",
    "            \n",
    "            \n",
    "    mojo_cast_url = \"https://www.boxofficemojo.com/title/{}/credits/?ref_=bo_tt_tab#tabs\"\n",
    "\n",
    "    for id in id_list:\n",
    "        response = requests.get(mojo_cast_url.format(id))\n",
    "        page = response.text\n",
    "\n",
    "        mojo_cast_soup = BeautifulSoup(page, \"lxml\")\n",
    "\n",
    "        cast_table = mojo_cast_soup.find('table', attrs={'id':'principalCast'})\n",
    "        \n",
    "        cast_rows = [row for row in cast_table.find_all('tr')]\n",
    "        \n",
    "        crew_list = [movie_id]\n",
    "        crew_header = ['movie_id', 'actor_01', 'actor_02', 'actor_03']\n",
    "        \n",
    "        for row in crew_rows[1:3]:\n",
    "            crew = row.find_all('td')\n",
    "            crew_name = crew[0].find('a').text\n",
    "            crew_list.append(crew_name)\n",
    "        \n",
    "        while crew_list < 4:\n",
    "            crew_list.append(np.nan)\n",
    "            \n",
    "               imdb_dict = dict(zip(headers, [title, title_link, mpaa_rating, year, runtime, imdb_rating, metascore,\n",
    "                              imdb_votes, director_name, director_link, imdb_genres]))\n",
    "\n",
    "            \n",
    "        cast_id_dict[id] = cast_dict "
   ]
  },
  {
   "cell_type": "code",
   "execution_count": 75,
   "metadata": {},
   "outputs": [
    {
     "name": "stdout",
     "output_type": "stream",
     "text": [
      "Request:83; Frequency: 0.49158886154006853 requests/s\n"
     ]
    }
   ],
   "source": [
    "get_movie_dict(id_list)"
   ]
  },
  {
   "cell_type": "code",
   "execution_count": 76,
   "metadata": {},
   "outputs": [
    {
     "data": {
      "text/plain": [
       "83"
      ]
     },
     "execution_count": 76,
     "metadata": {},
     "output_type": "execute_result"
    }
   ],
   "source": [
    "len(mojo_data_list)"
   ]
  },
  {
   "cell_type": "code",
   "execution_count": 45,
   "metadata": {},
   "outputs": [
    {
     "name": "stdout",
     "output_type": "stream",
     "text": [
      "[<tr><th class=\"a-span6\">Crew Member</th><th class=\"a-span6\">Role</th></tr>, <tr><td><a class=\"a-link-normal\" href=\"https://pro.imdb.com/name/nm0009190/?ref_=mojo_tt_cw_1&amp;rf=mojo_tt_cw_1\" rel=\"noopener\" target=\"_blank\">J.J. Abrams<svg class=\"mojo-new-window-svg\" viewbox=\"0 0 32 32\" xmlns=\"http://www.w3.org/2000/svg\">\n",
      "<path d=\"M24,15.57251l3,3V23.5A3.50424,3.50424,0,0,1,23.5,27H8.5A3.50424,3.50424,0,0,1,5,23.5V8.5A3.50424,3.50424,0,0,1,8.5,5h4.92755l3,3H8.5a.50641.50641,0,0,0-.5.5v15a.50641.50641,0,0,0,.5.5h15a.50641.50641,0,0,0,.5-.5ZM19.81952,8.56372,12.8844,17.75a.49989.49989,0,0,0,.04547.65479l.66534.66528a.49983.49983,0,0,0,.65479.04553l9.18628-6.93518,2.12579,2.12585a.5.5,0,0,0,.84741-.27526l1.48273-9.35108a.50006.50006,0,0,0-.57214-.57214L17.969,5.59058a.5.5,0,0,0-.27526.84741Z\"></path>\n",
      "</svg></a></td><td>Director</td></tr>, <tr><td><a class=\"a-link-normal\" href=\"https://pro.imdb.com/name/nm0006516/?ref_=mojo_tt_cw_2&amp;rf=mojo_tt_cw_2\" rel=\"noopener\" target=\"_blank\">Chris Terrio<svg class=\"mojo-new-window-svg\" viewbox=\"0 0 32 32\" xmlns=\"http://www.w3.org/2000/svg\">\n",
      "<path d=\"M24,15.57251l3,3V23.5A3.50424,3.50424,0,0,1,23.5,27H8.5A3.50424,3.50424,0,0,1,5,23.5V8.5A3.50424,3.50424,0,0,1,8.5,5h4.92755l3,3H8.5a.50641.50641,0,0,0-.5.5v15a.50641.50641,0,0,0,.5.5h15a.50641.50641,0,0,0,.5-.5ZM19.81952,8.56372,12.8844,17.75a.49989.49989,0,0,0,.04547.65479l.66534.66528a.49983.49983,0,0,0,.65479.04553l9.18628-6.93518,2.12579,2.12585a.5.5,0,0,0,.84741-.27526l1.48273-9.35108a.50006.50006,0,0,0-.57214-.57214L17.969,5.59058a.5.5,0,0,0-.27526.84741Z\"></path>\n",
      "</svg></a></td><td>Writer</td></tr>, <tr><td><a class=\"a-link-normal\" href=\"https://pro.imdb.com/name/nm0009190/?ref_=mojo_tt_cw_3&amp;rf=mojo_tt_cw_3\" rel=\"noopener\" target=\"_blank\">J.J. Abrams<svg class=\"mojo-new-window-svg\" viewbox=\"0 0 32 32\" xmlns=\"http://www.w3.org/2000/svg\">\n",
      "<path d=\"M24,15.57251l3,3V23.5A3.50424,3.50424,0,0,1,23.5,27H8.5A3.50424,3.50424,0,0,1,5,23.5V8.5A3.50424,3.50424,0,0,1,8.5,5h4.92755l3,3H8.5a.50641.50641,0,0,0-.5.5v15a.50641.50641,0,0,0,.5.5h15a.50641.50641,0,0,0,.5-.5ZM19.81952,8.56372,12.8844,17.75a.49989.49989,0,0,0,.04547.65479l.66534.66528a.49983.49983,0,0,0,.65479.04553l9.18628-6.93518,2.12579,2.12585a.5.5,0,0,0,.84741-.27526l1.48273-9.35108a.50006.50006,0,0,0-.57214-.57214L17.969,5.59058a.5.5,0,0,0-.27526.84741Z\"></path>\n",
      "</svg></a></td><td>Writer</td></tr>, <tr><td><a class=\"a-link-normal\" href=\"https://pro.imdb.com/name/nm2081046/?ref_=mojo_tt_cw_4&amp;rf=mojo_tt_cw_4\" rel=\"noopener\" target=\"_blank\">Derek Connolly<svg class=\"mojo-new-window-svg\" viewbox=\"0 0 32 32\" xmlns=\"http://www.w3.org/2000/svg\">\n",
      "<path d=\"M24,15.57251l3,3V23.5A3.50424,3.50424,0,0,1,23.5,27H8.5A3.50424,3.50424,0,0,1,5,23.5V8.5A3.50424,3.50424,0,0,1,8.5,5h4.92755l3,3H8.5a.50641.50641,0,0,0-.5.5v15a.50641.50641,0,0,0,.5.5h15a.50641.50641,0,0,0,.5-.5ZM19.81952,8.56372,12.8844,17.75a.49989.49989,0,0,0,.04547.65479l.66534.66528a.49983.49983,0,0,0,.65479.04553l9.18628-6.93518,2.12579,2.12585a.5.5,0,0,0,.84741-.27526l1.48273-9.35108a.50006.50006,0,0,0-.57214-.57214L17.969,5.59058a.5.5,0,0,0-.27526.84741Z\"></path>\n",
      "</svg></a></td><td>Writer</td></tr>, <tr><td><a class=\"a-link-normal\" href=\"https://pro.imdb.com/name/nm1119880/?ref_=mojo_tt_cw_5&amp;rf=mojo_tt_cw_5\" rel=\"noopener\" target=\"_blank\">Colin Trevorrow<svg class=\"mojo-new-window-svg\" viewbox=\"0 0 32 32\" xmlns=\"http://www.w3.org/2000/svg\">\n",
      "<path d=\"M24,15.57251l3,3V23.5A3.50424,3.50424,0,0,1,23.5,27H8.5A3.50424,3.50424,0,0,1,5,23.5V8.5A3.50424,3.50424,0,0,1,8.5,5h4.92755l3,3H8.5a.50641.50641,0,0,0-.5.5v15a.50641.50641,0,0,0,.5.5h15a.50641.50641,0,0,0,.5-.5ZM19.81952,8.56372,12.8844,17.75a.49989.49989,0,0,0,.04547.65479l.66534.66528a.49983.49983,0,0,0,.65479.04553l9.18628-6.93518,2.12579,2.12585a.5.5,0,0,0,.84741-.27526l1.48273-9.35108a.50006.50006,0,0,0-.57214-.57214L17.969,5.59058a.5.5,0,0,0-.27526.84741Z\"></path>\n",
      "</svg></a></td><td>Writer</td></tr>, <tr><td><a class=\"a-link-normal\" href=\"https://pro.imdb.com/name/nm0009190/?ref_=mojo_tt_cw_6&amp;rf=mojo_tt_cw_6\" rel=\"noopener\" target=\"_blank\">J.J. Abrams<svg class=\"mojo-new-window-svg\" viewbox=\"0 0 32 32\" xmlns=\"http://www.w3.org/2000/svg\">\n",
      "<path d=\"M24,15.57251l3,3V23.5A3.50424,3.50424,0,0,1,23.5,27H8.5A3.50424,3.50424,0,0,1,5,23.5V8.5A3.50424,3.50424,0,0,1,8.5,5h4.92755l3,3H8.5a.50641.50641,0,0,0-.5.5v15a.50641.50641,0,0,0,.5.5h15a.50641.50641,0,0,0,.5-.5ZM19.81952,8.56372,12.8844,17.75a.49989.49989,0,0,0,.04547.65479l.66534.66528a.49983.49983,0,0,0,.65479.04553l9.18628-6.93518,2.12579,2.12585a.5.5,0,0,0,.84741-.27526l1.48273-9.35108a.50006.50006,0,0,0-.57214-.57214L17.969,5.59058a.5.5,0,0,0-.27526.84741Z\"></path>\n",
      "</svg></a></td><td>Writer</td></tr>, <tr><td><a class=\"a-link-normal\" href=\"https://pro.imdb.com/name/nm0006516/?ref_=mojo_tt_cw_7&amp;rf=mojo_tt_cw_7\" rel=\"noopener\" target=\"_blank\">Chris Terrio<svg class=\"mojo-new-window-svg\" viewbox=\"0 0 32 32\" xmlns=\"http://www.w3.org/2000/svg\">\n",
      "<path d=\"M24,15.57251l3,3V23.5A3.50424,3.50424,0,0,1,23.5,27H8.5A3.50424,3.50424,0,0,1,5,23.5V8.5A3.50424,3.50424,0,0,1,8.5,5h4.92755l3,3H8.5a.50641.50641,0,0,0-.5.5v15a.50641.50641,0,0,0,.5.5h15a.50641.50641,0,0,0,.5-.5ZM19.81952,8.56372,12.8844,17.75a.49989.49989,0,0,0,.04547.65479l.66534.66528a.49983.49983,0,0,0,.65479.04553l9.18628-6.93518,2.12579,2.12585a.5.5,0,0,0,.84741-.27526l1.48273-9.35108a.50006.50006,0,0,0-.57214-.57214L17.969,5.59058a.5.5,0,0,0-.27526.84741Z\"></path>\n",
      "</svg></a></td><td>Writer</td></tr>, <tr><td><a class=\"a-link-normal\" href=\"https://pro.imdb.com/name/nm0000184/?ref_=mojo_tt_cw_8&amp;rf=mojo_tt_cw_8\" rel=\"noopener\" target=\"_blank\">George Lucas<svg class=\"mojo-new-window-svg\" viewbox=\"0 0 32 32\" xmlns=\"http://www.w3.org/2000/svg\">\n",
      "<path d=\"M24,15.57251l3,3V23.5A3.50424,3.50424,0,0,1,23.5,27H8.5A3.50424,3.50424,0,0,1,5,23.5V8.5A3.50424,3.50424,0,0,1,8.5,5h4.92755l3,3H8.5a.50641.50641,0,0,0-.5.5v15a.50641.50641,0,0,0,.5.5h15a.50641.50641,0,0,0,.5-.5ZM19.81952,8.56372,12.8844,17.75a.49989.49989,0,0,0,.04547.65479l.66534.66528a.49983.49983,0,0,0,.65479.04553l9.18628-6.93518,2.12579,2.12585a.5.5,0,0,0,.84741-.27526l1.48273-9.35108a.50006.50006,0,0,0-.57214-.57214L17.969,5.59058a.5.5,0,0,0-.27526.84741Z\"></path>\n",
      "</svg></a></td><td>Writer</td></tr>, <tr><td><a class=\"a-link-normal\" href=\"https://pro.imdb.com/name/nm0009190/?ref_=mojo_tt_cw_9&amp;rf=mojo_tt_cw_9\" rel=\"noopener\" target=\"_blank\">J.J. Abrams<svg class=\"mojo-new-window-svg\" viewbox=\"0 0 32 32\" xmlns=\"http://www.w3.org/2000/svg\">\n",
      "<path d=\"M24,15.57251l3,3V23.5A3.50424,3.50424,0,0,1,23.5,27H8.5A3.50424,3.50424,0,0,1,5,23.5V8.5A3.50424,3.50424,0,0,1,8.5,5h4.92755l3,3H8.5a.50641.50641,0,0,0-.5.5v15a.50641.50641,0,0,0,.5.5h15a.50641.50641,0,0,0,.5-.5ZM19.81952,8.56372,12.8844,17.75a.49989.49989,0,0,0,.04547.65479l.66534.66528a.49983.49983,0,0,0,.65479.04553l9.18628-6.93518,2.12579,2.12585a.5.5,0,0,0,.84741-.27526l1.48273-9.35108a.50006.50006,0,0,0-.57214-.57214L17.969,5.59058a.5.5,0,0,0-.27526.84741Z\"></path>\n",
      "</svg></a></td><td>Producer</td></tr>, <tr><td><a class=\"a-link-normal\" href=\"https://pro.imdb.com/name/nm0005086/?ref_=mojo_tt_cw_10&amp;rf=mojo_tt_cw_10\" rel=\"noopener\" target=\"_blank\">Kathleen Kennedy<svg class=\"mojo-new-window-svg\" viewbox=\"0 0 32 32\" xmlns=\"http://www.w3.org/2000/svg\">\n",
      "<path d=\"M24,15.57251l3,3V23.5A3.50424,3.50424,0,0,1,23.5,27H8.5A3.50424,3.50424,0,0,1,5,23.5V8.5A3.50424,3.50424,0,0,1,8.5,5h4.92755l3,3H8.5a.50641.50641,0,0,0-.5.5v15a.50641.50641,0,0,0,.5.5h15a.50641.50641,0,0,0,.5-.5ZM19.81952,8.56372,12.8844,17.75a.49989.49989,0,0,0,.04547.65479l.66534.66528a.49983.49983,0,0,0,.65479.04553l9.18628-6.93518,2.12579,2.12585a.5.5,0,0,0,.84741-.27526l1.48273-9.35108a.50006.50006,0,0,0-.57214-.57214L17.969,5.59058a.5.5,0,0,0-.27526.84741Z\"></path>\n",
      "</svg></a></td><td>Producer</td></tr>, <tr><td><a class=\"a-link-normal\" href=\"https://pro.imdb.com/name/nm2038668/?ref_=mojo_tt_cw_11&amp;rf=mojo_tt_cw_11\" rel=\"noopener\" target=\"_blank\">Michelle Rejwan<svg class=\"mojo-new-window-svg\" viewbox=\"0 0 32 32\" xmlns=\"http://www.w3.org/2000/svg\">\n",
      "<path d=\"M24,15.57251l3,3V23.5A3.50424,3.50424,0,0,1,23.5,27H8.5A3.50424,3.50424,0,0,1,5,23.5V8.5A3.50424,3.50424,0,0,1,8.5,5h4.92755l3,3H8.5a.50641.50641,0,0,0-.5.5v15a.50641.50641,0,0,0,.5.5h15a.50641.50641,0,0,0,.5-.5ZM19.81952,8.56372,12.8844,17.75a.49989.49989,0,0,0,.04547.65479l.66534.66528a.49983.49983,0,0,0,.65479.04553l9.18628-6.93518,2.12579,2.12585a.5.5,0,0,0,.84741-.27526l1.48273-9.35108a.50006.50006,0,0,0-.57214-.57214L17.969,5.59058a.5.5,0,0,0-.27526.84741Z\"></path>\n",
      "</svg></a></td><td>Producer</td></tr>, <tr><td><a class=\"a-link-normal\" href=\"https://pro.imdb.com/name/nm0002354/?ref_=mojo_tt_cw_12&amp;rf=mojo_tt_cw_12\" rel=\"noopener\" target=\"_blank\">John Williams<svg class=\"mojo-new-window-svg\" viewbox=\"0 0 32 32\" xmlns=\"http://www.w3.org/2000/svg\">\n",
      "<path d=\"M24,15.57251l3,3V23.5A3.50424,3.50424,0,0,1,23.5,27H8.5A3.50424,3.50424,0,0,1,5,23.5V8.5A3.50424,3.50424,0,0,1,8.5,5h4.92755l3,3H8.5a.50641.50641,0,0,0-.5.5v15a.50641.50641,0,0,0,.5.5h15a.50641.50641,0,0,0,.5-.5ZM19.81952,8.56372,12.8844,17.75a.49989.49989,0,0,0,.04547.65479l.66534.66528a.49983.49983,0,0,0,.65479.04553l9.18628-6.93518,2.12579,2.12585a.5.5,0,0,0,.84741-.27526l1.48273-9.35108a.50006.50006,0,0,0-.57214-.57214L17.969,5.59058a.5.5,0,0,0-.27526.84741Z\"></path>\n",
      "</svg></a></td><td>Composer</td></tr>, <tr><td><a class=\"a-link-normal\" href=\"https://pro.imdb.com/name/nm0591053/?ref_=mojo_tt_cw_13&amp;rf=mojo_tt_cw_13\" rel=\"noopener\" target=\"_blank\">Dan Mindel<svg class=\"mojo-new-window-svg\" viewbox=\"0 0 32 32\" xmlns=\"http://www.w3.org/2000/svg\">\n",
      "<path d=\"M24,15.57251l3,3V23.5A3.50424,3.50424,0,0,1,23.5,27H8.5A3.50424,3.50424,0,0,1,5,23.5V8.5A3.50424,3.50424,0,0,1,8.5,5h4.92755l3,3H8.5a.50641.50641,0,0,0-.5.5v15a.50641.50641,0,0,0,.5.5h15a.50641.50641,0,0,0,.5-.5ZM19.81952,8.56372,12.8844,17.75a.49989.49989,0,0,0,.04547.65479l.66534.66528a.49983.49983,0,0,0,.65479.04553l9.18628-6.93518,2.12579,2.12585a.5.5,0,0,0,.84741-.27526l1.48273-9.35108a.50006.50006,0,0,0-.57214-.57214L17.969,5.59058a.5.5,0,0,0-.27526.84741Z\"></path>\n",
      "</svg></a></td><td>Cinematographer</td></tr>, <tr><td><a class=\"a-link-normal\" href=\"https://pro.imdb.com/name/nm0104783/?ref_=mojo_tt_cw_14&amp;rf=mojo_tt_cw_14\" rel=\"noopener\" target=\"_blank\">Maryann Brandon<svg class=\"mojo-new-window-svg\" viewbox=\"0 0 32 32\" xmlns=\"http://www.w3.org/2000/svg\">\n",
      "<path d=\"M24,15.57251l3,3V23.5A3.50424,3.50424,0,0,1,23.5,27H8.5A3.50424,3.50424,0,0,1,5,23.5V8.5A3.50424,3.50424,0,0,1,8.5,5h4.92755l3,3H8.5a.50641.50641,0,0,0-.5.5v15a.50641.50641,0,0,0,.5.5h15a.50641.50641,0,0,0,.5-.5ZM19.81952,8.56372,12.8844,17.75a.49989.49989,0,0,0,.04547.65479l.66534.66528a.49983.49983,0,0,0,.65479.04553l9.18628-6.93518,2.12579,2.12585a.5.5,0,0,0,.84741-.27526l1.48273-9.35108a.50006.50006,0,0,0-.57214-.57214L17.969,5.59058a.5.5,0,0,0-.27526.84741Z\"></path>\n",
      "</svg></a></td><td>Editor</td></tr>, <tr><td><a class=\"a-link-normal\" href=\"https://pro.imdb.com/name/nm3712374/?ref_=mojo_tt_cw_15&amp;rf=mojo_tt_cw_15\" rel=\"noopener\" target=\"_blank\">Stefan Grube<svg class=\"mojo-new-window-svg\" viewbox=\"0 0 32 32\" xmlns=\"http://www.w3.org/2000/svg\">\n",
      "<path d=\"M24,15.57251l3,3V23.5A3.50424,3.50424,0,0,1,23.5,27H8.5A3.50424,3.50424,0,0,1,5,23.5V8.5A3.50424,3.50424,0,0,1,8.5,5h4.92755l3,3H8.5a.50641.50641,0,0,0-.5.5v15a.50641.50641,0,0,0,.5.5h15a.50641.50641,0,0,0,.5-.5ZM19.81952,8.56372,12.8844,17.75a.49989.49989,0,0,0,.04547.65479l.66534.66528a.49983.49983,0,0,0,.65479.04553l9.18628-6.93518,2.12579,2.12585a.5.5,0,0,0,.84741-.27526l1.48273-9.35108a.50006.50006,0,0,0-.57214-.57214L17.969,5.59058a.5.5,0,0,0-.27526.84741Z\"></path>\n",
      "</svg></a></td><td>Editor</td></tr>, <tr><td><a class=\"a-link-normal\" href=\"https://pro.imdb.com/name/nm0141437/?ref_=mojo_tt_cw_16&amp;rf=mojo_tt_cw_16\" rel=\"noopener\" target=\"_blank\">Rick Carter<svg class=\"mojo-new-window-svg\" viewbox=\"0 0 32 32\" xmlns=\"http://www.w3.org/2000/svg\">\n",
      "<path d=\"M24,15.57251l3,3V23.5A3.50424,3.50424,0,0,1,23.5,27H8.5A3.50424,3.50424,0,0,1,5,23.5V8.5A3.50424,3.50424,0,0,1,8.5,5h4.92755l3,3H8.5a.50641.50641,0,0,0-.5.5v15a.50641.50641,0,0,0,.5.5h15a.50641.50641,0,0,0,.5-.5ZM19.81952,8.56372,12.8844,17.75a.49989.49989,0,0,0,.04547.65479l.66534.66528a.49983.49983,0,0,0,.65479.04553l9.18628-6.93518,2.12579,2.12585a.5.5,0,0,0,.84741-.27526l1.48273-9.35108a.50006.50006,0,0,0-.57214-.57214L17.969,5.59058a.5.5,0,0,0-.27526.84741Z\"></path>\n",
      "</svg></a></td><td>Production Designer</td></tr>, <tr><td><a class=\"a-link-normal\" href=\"https://pro.imdb.com/name/nm1473415/?ref_=mojo_tt_cw_17&amp;rf=mojo_tt_cw_17\" rel=\"noopener\" target=\"_blank\">Kevin Jenkins<svg class=\"mojo-new-window-svg\" viewbox=\"0 0 32 32\" xmlns=\"http://www.w3.org/2000/svg\">\n",
      "<path d=\"M24,15.57251l3,3V23.5A3.50424,3.50424,0,0,1,23.5,27H8.5A3.50424,3.50424,0,0,1,5,23.5V8.5A3.50424,3.50424,0,0,1,8.5,5h4.92755l3,3H8.5a.50641.50641,0,0,0-.5.5v15a.50641.50641,0,0,0,.5.5h15a.50641.50641,0,0,0,.5-.5ZM19.81952,8.56372,12.8844,17.75a.49989.49989,0,0,0,.04547.65479l.66534.66528a.49983.49983,0,0,0,.65479.04553l9.18628-6.93518,2.12579,2.12585a.5.5,0,0,0,.84741-.27526l1.48273-9.35108a.50006.50006,0,0,0-.57214-.57214L17.969,5.59058a.5.5,0,0,0-.27526.84741Z\"></path>\n",
      "</svg></a></td><td>Production Designer</td></tr>]\n"
     ]
    }
   ],
   "source": [
    "mojo_crew_url = \"https://www.boxofficemojo.com/title/{}/credits/?ref_=bo_tt_tab#tabs\"\n",
    "    \n",
    "# preparing to monitor\n",
    "start_time = time.time()\n",
    "tries =0\n",
    "\n",
    "for movie_id in id_list:\n",
    "\n",
    "    response = requests.get(mojo_crew_url.format(movie_id))\n",
    "    page = response.text\n",
    "\n",
    "    time.sleep(0.5+2*random())\n",
    "    tries +=1\n",
    "    elapsed_time = time.time() - start_time\n",
    "    print('Request:{}; Frequency: {} requests/s'.format(tries, tries/elapsed_time))\n",
    "    clear_output(wait = True)\n",
    "\n",
    "    if tries > 2200:\n",
    "        print(\"Number of requests exceeded\")\n",
    "        break\n",
    "\n",
    "    mojo_crew_soup = BeautifulSoup(page, \"lxml\")\n",
    "\n",
    "    crew_table = mojo_crew_soup.find('table', attrs={'id':'principalCrew'})\n",
    "\n",
    "    crew_rows = [row for row in crew_table.find_all('tr')]\n",
    "    print(crew_rows)\n",
    "\n",
    "    crew_dict = {}\n",
    "\n",
    "    for row in crew_rows[1:3]:\n",
    "        crew = row.find_all('td')\n",
    "        crew_link = crew[0].find('a')\n",
    "\n",
    "        crew_name, crew_url = crew_link.text, crew_link['href']\n",
    "        crew_role = crew[-1].text\n",
    "        crew_dict[crew_name] = {crew_role, crew_url}\n",
    "\n",
    "    crew_id_dict[movie_id] = crew_dict "
   ]
  },
  {
   "cell_type": "code",
   "execution_count": 46,
   "metadata": {},
   "outputs": [
    {
     "data": {
      "text/plain": [
       "{'tt6723592': {'Christopher Nolan\\n\\n': {'Writer',\n",
       "   'https://pro.imdb.com/name/nm0634240/?ref_=mojo_tt_cw_2&rf=mojo_tt_cw_2'}},\n",
       " 'tt10539608': {'George Clooney\\n\\n': {'Director',\n",
       "   'https://pro.imdb.com/name/nm0000123/?ref_=mojo_tt_cw_1&rf=mojo_tt_cw_1'},\n",
       "  'Lily Brooks-Dalton\\n\\n': {'Writer',\n",
       "   'https://pro.imdb.com/name/nm10791512/?ref_=mojo_tt_cw_2&rf=mojo_tt_cw_2'}},\n",
       " 'tt0451279': {'Patty Jenkins\\n\\n': {'Director',\n",
       "   'https://pro.imdb.com/name/nm0420941/?ref_=mojo_tt_cw_1&rf=mojo_tt_cw_1'},\n",
       "  'Allan Heinberg\\n\\n': {'Writer',\n",
       "   'https://pro.imdb.com/name/nm0374302/?ref_=mojo_tt_cw_2&rf=mojo_tt_cw_2'}},\n",
       " 'tt4154796': {'Anthony Russo\\n\\n': {'Director',\n",
       "   'https://pro.imdb.com/name/nm0751577/?ref_=mojo_tt_cw_1&rf=mojo_tt_cw_1'},\n",
       "  'Joe Russo\\n\\n': {'Director',\n",
       "   'https://pro.imdb.com/name/nm0751648/?ref_=mojo_tt_cw_2&rf=mojo_tt_cw_2'}},\n",
       " 'tt10451914': {'Mikael Håfström\\n\\n': {'Director',\n",
       "   'https://pro.imdb.com/name/nm0405632/?ref_=mojo_tt_cw_1&rf=mojo_tt_cw_1'},\n",
       "  'Rob Yescombe\\n\\n': {'Writer',\n",
       "   'https://pro.imdb.com/name/nm2559427/?ref_=mojo_tt_cw_2&rf=mojo_tt_cw_2'}},\n",
       " 'tt1160419': {'Denis Villeneuve\\n\\n': {'Director',\n",
       "   'https://pro.imdb.com/name/nm0898288/?ref_=mojo_tt_cw_1&rf=mojo_tt_cw_1'},\n",
       "  'Frank Herbert\\n\\n': {'Writer',\n",
       "   'https://pro.imdb.com/name/nm0378541/?ref_=mojo_tt_cw_2&rf=mojo_tt_cw_2'}},\n",
       " 'tt0816692': {'Christopher Nolan\\n\\n': {'Director',\n",
       "   'https://pro.imdb.com/name/nm0634240/?ref_=mojo_tt_cw_1&rf=mojo_tt_cw_1'},\n",
       "  'Jonathan Nolan\\n\\n': {'Writer',\n",
       "   'https://pro.imdb.com/name/nm0634300/?ref_=mojo_tt_cw_2&rf=mojo_tt_cw_2'}},\n",
       " 'tt2222042': {'Michael Matthews\\n\\n': {'Director',\n",
       "   'https://pro.imdb.com/name/nm3462290/?ref_=mojo_tt_cw_1&rf=mojo_tt_cw_1'},\n",
       "  'Brian Duffield\\n\\n': {'Writer',\n",
       "   'https://pro.imdb.com/name/nm3929259/?ref_=mojo_tt_cw_2&rf=mojo_tt_cw_2'}},\n",
       " 'tt1392190': {'George Miller\\n\\n': {'Writer',\n",
       "   'https://pro.imdb.com/name/nm0004306/?ref_=mojo_tt_cw_2&rf=mojo_tt_cw_2'}},\n",
       " 'tt2527338': {'J.J. Abrams\\n\\n': {'Director',\n",
       "   'https://pro.imdb.com/name/nm0009190/?ref_=mojo_tt_cw_1&rf=mojo_tt_cw_1'},\n",
       "  'Chris Terrio\\n\\n': {'Writer',\n",
       "   'https://pro.imdb.com/name/nm0006516/?ref_=mojo_tt_cw_2&rf=mojo_tt_cw_2'}}}"
      ]
     },
     "execution_count": 46,
     "metadata": {},
     "output_type": "execute_result"
    }
   ],
   "source": [
    "crew_id_dict"
   ]
  },
  {
   "cell_type": "code",
   "execution_count": 77,
   "metadata": {},
   "outputs": [],
   "source": [
    "mojo_df2 = pd.DataFrame(mojo_data_list)"
   ]
  },
  {
   "cell_type": "code",
   "execution_count": 78,
   "metadata": {},
   "outputs": [
    {
     "data": {
      "text/html": [
       "<div>\n",
       "<style scoped>\n",
       "    .dataframe tbody tr th:only-of-type {\n",
       "        vertical-align: middle;\n",
       "    }\n",
       "\n",
       "    .dataframe tbody tr th {\n",
       "        vertical-align: top;\n",
       "    }\n",
       "\n",
       "    .dataframe thead th {\n",
       "        text-align: right;\n",
       "    }\n",
       "</style>\n",
       "<table border=\"1\" class=\"dataframe\">\n",
       "  <thead>\n",
       "    <tr style=\"text-align: right;\">\n",
       "      <th></th>\n",
       "      <th>id</th>\n",
       "      <th>title_string</th>\n",
       "      <th>dom_gross</th>\n",
       "      <th>release_date</th>\n",
       "    </tr>\n",
       "  </thead>\n",
       "  <tbody>\n",
       "    <tr>\n",
       "      <th>78</th>\n",
       "      <td>tt0270688</td>\n",
       "      <td>Teknolust - Box Office Mojo</td>\n",
       "      <td>$28,811</td>\n",
       "      <td>August 22, 2003\\n            (Domestic)</td>\n",
       "    </tr>\n",
       "    <tr>\n",
       "      <th>79</th>\n",
       "      <td>tt6170484</td>\n",
       "      <td>Monster Hunt 2 - Box Office Mojo</td>\n",
       "      <td>$706,153</td>\n",
       "      <td>February 15, 2018\\n            (APAC)</td>\n",
       "    </tr>\n",
       "    <tr>\n",
       "      <th>80</th>\n",
       "      <td>tt2320924</td>\n",
       "      <td>War of the Worlds: Goliath - Box Office Mojo</td>\n",
       "      <td>$13,385</td>\n",
       "      <td>March 7, 2014\\n            (Domestic)</td>\n",
       "    </tr>\n",
       "    <tr>\n",
       "      <th>81</th>\n",
       "      <td>tt1867091</td>\n",
       "      <td>The Reconstruction of William Zero - Box Offic...</td>\n",
       "      <td>NaN</td>\n",
       "      <td>None</td>\n",
       "    </tr>\n",
       "    <tr>\n",
       "      <th>82</th>\n",
       "      <td>tt0312358</td>\n",
       "      <td>Anatomy 2 - Box Office Mojo</td>\n",
       "      <td>$623</td>\n",
       "      <td>February 6, 2003\\n            (Germany)</td>\n",
       "    </tr>\n",
       "  </tbody>\n",
       "</table>\n",
       "</div>"
      ],
      "text/plain": [
       "           id                                       title_string dom_gross  \\\n",
       "78  tt0270688                        Teknolust - Box Office Mojo   $28,811   \n",
       "79  tt6170484                   Monster Hunt 2 - Box Office Mojo  $706,153   \n",
       "80  tt2320924       War of the Worlds: Goliath - Box Office Mojo   $13,385   \n",
       "81  tt1867091  The Reconstruction of William Zero - Box Offic...       NaN   \n",
       "82  tt0312358                        Anatomy 2 - Box Office Mojo      $623   \n",
       "\n",
       "                               release_date  \n",
       "78  August 22, 2003\\n            (Domestic)  \n",
       "79    February 15, 2018\\n            (APAC)  \n",
       "80    March 7, 2014\\n            (Domestic)  \n",
       "81                                     None  \n",
       "82  February 6, 2003\\n            (Germany)  "
      ]
     },
     "execution_count": 78,
     "metadata": {},
     "output_type": "execute_result"
    }
   ],
   "source": [
    "mojo_df2.tail()"
   ]
  },
  {
   "cell_type": "code",
   "execution_count": 68,
   "metadata": {},
   "outputs": [],
   "source": [
    "import json"
   ]
  },
  {
   "cell_type": "code",
   "execution_count": 79,
   "metadata": {},
   "outputs": [],
   "source": [
    "mojo_df2.to_json('mojo_data2.json', orient='records', lines=True)"
   ]
  },
  {
   "cell_type": "code",
   "execution_count": 81,
   "metadata": {},
   "outputs": [
    {
     "data": {
      "text/plain": [
       "2000"
      ]
     },
     "execution_count": 81,
     "metadata": {},
     "output_type": "execute_result"
    }
   ],
   "source": [
    "len(mojo_df)"
   ]
  },
  {
   "cell_type": "code",
   "execution_count": null,
   "metadata": {},
   "outputs": [],
   "source": []
  }
 ],
 "metadata": {
  "kernelspec": {
   "display_name": "Python 3",
   "language": "python",
   "name": "python3"
  },
  "language_info": {
   "codemirror_mode": {
    "name": "ipython",
    "version": 3
   },
   "file_extension": ".py",
   "mimetype": "text/x-python",
   "name": "python",
   "nbconvert_exporter": "python",
   "pygments_lexer": "ipython3",
   "version": "3.8.5"
  }
 },
 "nbformat": 4,
 "nbformat_minor": 4
}
