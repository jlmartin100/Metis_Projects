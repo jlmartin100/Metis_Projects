{
 "cells": [
  {
   "cell_type": "code",
   "execution_count": 52,
   "id": "right-series",
   "metadata": {},
   "outputs": [],
   "source": [
    "import pandas as pd\n",
    "import numpy as np\n",
    "import scipy.sparse as ss\n",
    "import pickle\n",
    "\n",
    "from corextopic import corextopic as ct\n",
    "from corextopic import vis_topic as vt\n",
    "\n",
    "import matplotlib.pyplot as plt\n",
    "import seaborn as sns\n",
    "%matplotlib inline"
   ]
  },
  {
   "cell_type": "code",
   "execution_count": 53,
   "id": "sporting-response",
   "metadata": {},
   "outputs": [],
   "source": [
    "from sklearn.feature_extraction.text import CountVectorizer"
   ]
  },
  {
   "cell_type": "code",
   "execution_count": 54,
   "id": "democratic-defense",
   "metadata": {},
   "outputs": [],
   "source": [
    "en_df = pickle.load(open(\"en_df_3mo.pkl\", 'rb'))"
   ]
  },
  {
   "cell_type": "code",
   "execution_count": 55,
   "id": "killing-therapist",
   "metadata": {},
   "outputs": [
    {
     "data": {
      "text/html": [
       "<div>\n",
       "<style scoped>\n",
       "    .dataframe tbody tr th:only-of-type {\n",
       "        vertical-align: middle;\n",
       "    }\n",
       "\n",
       "    .dataframe tbody tr th {\n",
       "        vertical-align: top;\n",
       "    }\n",
       "\n",
       "    .dataframe thead th {\n",
       "        text-align: right;\n",
       "    }\n",
       "</style>\n",
       "<table border=\"1\" class=\"dataframe\">\n",
       "  <thead>\n",
       "    <tr style=\"text-align: right;\">\n",
       "      <th></th>\n",
       "      <th>id</th>\n",
       "      <th>conversation_id</th>\n",
       "      <th>created_at</th>\n",
       "      <th>date</th>\n",
       "      <th>time</th>\n",
       "      <th>timezone</th>\n",
       "      <th>user_id</th>\n",
       "      <th>username</th>\n",
       "      <th>name</th>\n",
       "      <th>place</th>\n",
       "      <th>...</th>\n",
       "      <th>retweet</th>\n",
       "      <th>quote_url</th>\n",
       "      <th>video</th>\n",
       "      <th>thumbnail</th>\n",
       "      <th>reply_to</th>\n",
       "      <th>text</th>\n",
       "      <th>lang</th>\n",
       "      <th>tokens</th>\n",
       "      <th>filtered</th>\n",
       "      <th>filtered_joined</th>\n",
       "    </tr>\n",
       "  </thead>\n",
       "  <tbody>\n",
       "    <tr>\n",
       "      <th>122852</th>\n",
       "      <td>1321924686465372161</td>\n",
       "      <td>1321924686465372161</td>\n",
       "      <td>2020-10-29 16:19:40 CDT</td>\n",
       "      <td>2020-10-29</td>\n",
       "      <td>16:19:40</td>\n",
       "      <td>-600</td>\n",
       "      <td>713099809637335040</td>\n",
       "      <td>noiambrose_</td>\n",
       "      <td>WandaMaximoff</td>\n",
       "      <td>NaN</td>\n",
       "      <td>...</td>\n",
       "      <td>False</td>\n",
       "      <td>NaN</td>\n",
       "      <td>0</td>\n",
       "      <td>NaN</td>\n",
       "      <td>[]</td>\n",
       "      <td>Corona  corona  you destorying my lifestyle pal</td>\n",
       "      <td>en</td>\n",
       "      <td>[Corona, corona, you, destorying, my, lifestyl...</td>\n",
       "      <td>[corona, corona, destorying, lifestyle, pal]</td>\n",
       "      <td>corona corona destorying lifestyle pal</td>\n",
       "    </tr>\n",
       "    <tr>\n",
       "      <th>122846</th>\n",
       "      <td>1321924698746204160</td>\n",
       "      <td>1321924698746204160</td>\n",
       "      <td>2020-10-29 16:19:43 CDT</td>\n",
       "      <td>2020-10-29</td>\n",
       "      <td>16:19:43</td>\n",
       "      <td>-600</td>\n",
       "      <td>1246780265571237889</td>\n",
       "      <td>sayedamaann</td>\n",
       "      <td>🌻سعید آمان</td>\n",
       "      <td>NaN</td>\n",
       "      <td>...</td>\n",
       "      <td>False</td>\n",
       "      <td>NaN</td>\n",
       "      <td>0</td>\n",
       "      <td>NaN</td>\n",
       "      <td>[]</td>\n",
       "      <td>In this Corona world I wanna kiss you till dea...</td>\n",
       "      <td>en</td>\n",
       "      <td>[In, this, Corona, world, I, wan, na, kiss, yo...</td>\n",
       "      <td>[in, corona, i, wan, kiss, till, death, 🌻🌍]</td>\n",
       "      <td>in corona i wan kiss till death 🌻🌍</td>\n",
       "    </tr>\n",
       "    <tr>\n",
       "      <th>122842</th>\n",
       "      <td>1321924709454389254</td>\n",
       "      <td>1321924709454389254</td>\n",
       "      <td>2020-10-29 16:19:45 CDT</td>\n",
       "      <td>2020-10-29</td>\n",
       "      <td>16:19:45</td>\n",
       "      <td>-600</td>\n",
       "      <td>172663780</td>\n",
       "      <td>stevetwilightim</td>\n",
       "      <td>david pietrzak</td>\n",
       "      <td>NaN</td>\n",
       "      <td>...</td>\n",
       "      <td>False</td>\n",
       "      <td>https://twitter.com/maggieNYT/status/132188195...</td>\n",
       "      <td>0</td>\n",
       "      <td>NaN</td>\n",
       "      <td>[]</td>\n",
       "      <td>LYING TRUMP TRYING TO TAKE HEALTHCARE OFF OF A...</td>\n",
       "      <td>en</td>\n",
       "      <td>[LYING, TRUMP, TRYING, TO, TAKE, HEALTHCARE, O...</td>\n",
       "      <td>[lying, trump, trying, to, take, healthcare, o...</td>\n",
       "      <td>lying trump trying to take healthcare off of a...</td>\n",
       "    </tr>\n",
       "    <tr>\n",
       "      <th>122869</th>\n",
       "      <td>1321924545876434944</td>\n",
       "      <td>1321924545876434944</td>\n",
       "      <td>2020-10-29 16:19:06 CDT</td>\n",
       "      <td>2020-10-29</td>\n",
       "      <td>16:19:06</td>\n",
       "      <td>-600</td>\n",
       "      <td>970274347750375424</td>\n",
       "      <td>burgerlover231</td>\n",
       "      <td>Dave</td>\n",
       "      <td>NaN</td>\n",
       "      <td>...</td>\n",
       "      <td>False</td>\n",
       "      <td>NaN</td>\n",
       "      <td>1</td>\n",
       "      <td>https://pbs.twimg.com/media/ElhrXBGVoAA61jd.jpg</td>\n",
       "      <td>[]</td>\n",
       "      <td>Wuhan  China   NOW  at the start of  corona vi...</td>\n",
       "      <td>en</td>\n",
       "      <td>[Wuhan, China, NOW, at, the, start, of, corona...</td>\n",
       "      <td>[wuhan, china, now, start, corona, virus]</td>\n",
       "      <td>wuhan china now start corona virus</td>\n",
       "    </tr>\n",
       "    <tr>\n",
       "      <th>122863</th>\n",
       "      <td>1321924597458100224</td>\n",
       "      <td>1321924597458100224</td>\n",
       "      <td>2020-10-29 16:19:18 CDT</td>\n",
       "      <td>2020-10-29</td>\n",
       "      <td>16:19:18</td>\n",
       "      <td>-600</td>\n",
       "      <td>1247132467393429504</td>\n",
       "      <td>lucyandclou</td>\n",
       "      <td>Lucy &amp; Clou</td>\n",
       "      <td>NaN</td>\n",
       "      <td>...</td>\n",
       "      <td>False</td>\n",
       "      <td>NaN</td>\n",
       "      <td>1</td>\n",
       "      <td>https://pbs.twimg.com/ext_tw_video_thumb/13219...</td>\n",
       "      <td>[]</td>\n",
       "      <td>Help me out  For who should I vote 🍍🌰🥔  Watch ...</td>\n",
       "      <td>en</td>\n",
       "      <td>[Help, me, out, For, who, should, I, vote, 🍍🌰🥔...</td>\n",
       "      <td>[help, for, i, vote, 🍍🌰🥔, watch, full, video, ...</td>\n",
       "      <td>help for i vote 🍍🌰🥔 watch full video youtube f...</td>\n",
       "    </tr>\n",
       "  </tbody>\n",
       "</table>\n",
       "<p>5 rows × 31 columns</p>\n",
       "</div>"
      ],
      "text/plain": [
       "                         id      conversation_id               created_at  \\\n",
       "122852  1321924686465372161  1321924686465372161  2020-10-29 16:19:40 CDT   \n",
       "122846  1321924698746204160  1321924698746204160  2020-10-29 16:19:43 CDT   \n",
       "122842  1321924709454389254  1321924709454389254  2020-10-29 16:19:45 CDT   \n",
       "122869  1321924545876434944  1321924545876434944  2020-10-29 16:19:06 CDT   \n",
       "122863  1321924597458100224  1321924597458100224  2020-10-29 16:19:18 CDT   \n",
       "\n",
       "              date      time  timezone              user_id         username  \\\n",
       "122852  2020-10-29  16:19:40      -600   713099809637335040      noiambrose_   \n",
       "122846  2020-10-29  16:19:43      -600  1246780265571237889      sayedamaann   \n",
       "122842  2020-10-29  16:19:45      -600            172663780  stevetwilightim   \n",
       "122869  2020-10-29  16:19:06      -600   970274347750375424   burgerlover231   \n",
       "122863  2020-10-29  16:19:18      -600  1247132467393429504      lucyandclou   \n",
       "\n",
       "                  name place  ... retweet  \\\n",
       "122852   WandaMaximoff   NaN  ...   False   \n",
       "122846      🌻سعید آمان   NaN  ...   False   \n",
       "122842  david pietrzak   NaN  ...   False   \n",
       "122869            Dave   NaN  ...   False   \n",
       "122863     Lucy & Clou   NaN  ...   False   \n",
       "\n",
       "                                                quote_url video  \\\n",
       "122852                                                NaN     0   \n",
       "122846                                                NaN     0   \n",
       "122842  https://twitter.com/maggieNYT/status/132188195...     0   \n",
       "122869                                                NaN     1   \n",
       "122863                                                NaN     1   \n",
       "\n",
       "                                                thumbnail reply_to  \\\n",
       "122852                                                NaN       []   \n",
       "122846                                                NaN       []   \n",
       "122842                                                NaN       []   \n",
       "122869    https://pbs.twimg.com/media/ElhrXBGVoAA61jd.jpg       []   \n",
       "122863  https://pbs.twimg.com/ext_tw_video_thumb/13219...       []   \n",
       "\n",
       "                                                     text  lang  \\\n",
       "122852   Corona  corona  you destorying my lifestyle pal     en   \n",
       "122846  In this Corona world I wanna kiss you till dea...    en   \n",
       "122842  LYING TRUMP TRYING TO TAKE HEALTHCARE OFF OF A...    en   \n",
       "122869  Wuhan  China   NOW  at the start of  corona vi...    en   \n",
       "122863  Help me out  For who should I vote 🍍🌰🥔  Watch ...    en   \n",
       "\n",
       "                                                   tokens  \\\n",
       "122852  [Corona, corona, you, destorying, my, lifestyl...   \n",
       "122846  [In, this, Corona, world, I, wan, na, kiss, yo...   \n",
       "122842  [LYING, TRUMP, TRYING, TO, TAKE, HEALTHCARE, O...   \n",
       "122869  [Wuhan, China, NOW, at, the, start, of, corona...   \n",
       "122863  [Help, me, out, For, who, should, I, vote, 🍍🌰🥔...   \n",
       "\n",
       "                                                 filtered  \\\n",
       "122852       [corona, corona, destorying, lifestyle, pal]   \n",
       "122846        [in, corona, i, wan, kiss, till, death, 🌻🌍]   \n",
       "122842  [lying, trump, trying, to, take, healthcare, o...   \n",
       "122869          [wuhan, china, now, start, corona, virus]   \n",
       "122863  [help, for, i, vote, 🍍🌰🥔, watch, full, video, ...   \n",
       "\n",
       "                                          filtered_joined  \n",
       "122852             corona corona destorying lifestyle pal  \n",
       "122846                 in corona i wan kiss till death 🌻🌍  \n",
       "122842  lying trump trying to take healthcare off of a...  \n",
       "122869                 wuhan china now start corona virus  \n",
       "122863  help for i vote 🍍🌰🥔 watch full video youtube f...  \n",
       "\n",
       "[5 rows x 31 columns]"
      ]
     },
     "execution_count": 55,
     "metadata": {},
     "output_type": "execute_result"
    }
   ],
   "source": [
    "en_df.head()"
   ]
  },
  {
   "cell_type": "code",
   "execution_count": 41,
   "id": "elegant-science",
   "metadata": {},
   "outputs": [],
   "source": [
    "en_df.filtered = en_df.filtered.apply(lambda x: ' '.join(x))"
   ]
  },
  {
   "cell_type": "code",
   "execution_count": 44,
   "id": "diverse-bench",
   "metadata": {},
   "outputs": [
    {
     "data": {
      "text/plain": [
       "119134    She Khaleda Begum age years saved Rs lakh perf...\n",
       "119140    ImranKhanPTI ClarenceHouse BorisJohnson koi re...\n",
       "119128                                 sylver Corona ye Ref\n",
       "119111    The new music post quarantine finna repetitive...\n",
       "119113    My dad high risk Corona bc health amp I ’ work...\n",
       "Name: filtered, dtype: object"
      ]
     },
     "execution_count": 44,
     "metadata": {},
     "output_type": "execute_result"
    }
   ],
   "source": [
    "en_df.filtered.head()"
   ]
  },
  {
   "cell_type": "code",
   "execution_count": 56,
   "id": "thick-capitol",
   "metadata": {},
   "outputs": [
    {
     "data": {
      "text/plain": [
       "Index(['id', 'conversation_id', 'created_at', 'date', 'time', 'timezone',\n",
       "       'user_id', 'username', 'name', 'place', 'tweet', 'language', 'mentions',\n",
       "       'urls', 'photos', 'replies_count', 'retweets_count', 'likes_count',\n",
       "       'hashtags', 'cashtags', 'link', 'retweet', 'quote_url', 'video',\n",
       "       'thumbnail', 'reply_to', 'text', 'lang', 'tokens', 'filtered',\n",
       "       'filtered_joined'],\n",
       "      dtype='object')"
      ]
     },
     "execution_count": 56,
     "metadata": {},
     "output_type": "execute_result"
    }
   ],
   "source": [
    "en_df.columns"
   ]
  },
  {
   "cell_type": "code",
   "execution_count": 57,
   "id": "annoying-front",
   "metadata": {},
   "outputs": [
    {
     "data": {
      "text/plain": [
       "en    293433\n",
       "Name: lang, dtype: int64"
      ]
     },
     "execution_count": 57,
     "metadata": {},
     "output_type": "execute_result"
    }
   ],
   "source": [
    "en_df.lang.value_counts()"
   ]
  },
  {
   "cell_type": "code",
   "execution_count": 67,
   "id": "designed-examination",
   "metadata": {},
   "outputs": [
    {
     "data": {
      "text/html": [
       "<div>\n",
       "<style scoped>\n",
       "    .dataframe tbody tr th:only-of-type {\n",
       "        vertical-align: middle;\n",
       "    }\n",
       "\n",
       "    .dataframe tbody tr th {\n",
       "        vertical-align: top;\n",
       "    }\n",
       "\n",
       "    .dataframe thead th {\n",
       "        text-align: right;\n",
       "    }\n",
       "</style>\n",
       "<table border=\"1\" class=\"dataframe\">\n",
       "  <thead>\n",
       "    <tr style=\"text-align: right;\">\n",
       "      <th></th>\n",
       "      <th>id</th>\n",
       "      <th>conversation_id</th>\n",
       "      <th>created_at</th>\n",
       "      <th>date</th>\n",
       "      <th>time</th>\n",
       "      <th>timezone</th>\n",
       "      <th>user_id</th>\n",
       "      <th>username</th>\n",
       "      <th>name</th>\n",
       "      <th>place</th>\n",
       "      <th>...</th>\n",
       "      <th>retweet</th>\n",
       "      <th>quote_url</th>\n",
       "      <th>video</th>\n",
       "      <th>thumbnail</th>\n",
       "      <th>reply_to</th>\n",
       "      <th>text</th>\n",
       "      <th>lang</th>\n",
       "      <th>tokens</th>\n",
       "      <th>filtered</th>\n",
       "      <th>filtered_joined</th>\n",
       "    </tr>\n",
       "  </thead>\n",
       "  <tbody>\n",
       "    <tr>\n",
       "      <th>122852</th>\n",
       "      <td>1321924686465372161</td>\n",
       "      <td>1321924686465372161</td>\n",
       "      <td>2020-10-29 16:19:40 CDT</td>\n",
       "      <td>2020-10-29</td>\n",
       "      <td>16:19:40</td>\n",
       "      <td>-600</td>\n",
       "      <td>713099809637335040</td>\n",
       "      <td>noiambrose_</td>\n",
       "      <td>WandaMaximoff</td>\n",
       "      <td>NaN</td>\n",
       "      <td>...</td>\n",
       "      <td>False</td>\n",
       "      <td>NaN</td>\n",
       "      <td>0</td>\n",
       "      <td>NaN</td>\n",
       "      <td>[]</td>\n",
       "      <td>Corona  corona  you destorying my lifestyle pal</td>\n",
       "      <td>en</td>\n",
       "      <td>[Corona, corona, you, destorying, my, lifestyl...</td>\n",
       "      <td>[corona, corona, destorying, lifestyle, pal]</td>\n",
       "      <td>corona corona destorying lifestyle pal</td>\n",
       "    </tr>\n",
       "    <tr>\n",
       "      <th>122846</th>\n",
       "      <td>1321924698746204160</td>\n",
       "      <td>1321924698746204160</td>\n",
       "      <td>2020-10-29 16:19:43 CDT</td>\n",
       "      <td>2020-10-29</td>\n",
       "      <td>16:19:43</td>\n",
       "      <td>-600</td>\n",
       "      <td>1246780265571237889</td>\n",
       "      <td>sayedamaann</td>\n",
       "      <td>🌻سعید آمان</td>\n",
       "      <td>NaN</td>\n",
       "      <td>...</td>\n",
       "      <td>False</td>\n",
       "      <td>NaN</td>\n",
       "      <td>0</td>\n",
       "      <td>NaN</td>\n",
       "      <td>[]</td>\n",
       "      <td>In this Corona world I wanna kiss you till dea...</td>\n",
       "      <td>en</td>\n",
       "      <td>[In, this, Corona, world, I, wan, na, kiss, yo...</td>\n",
       "      <td>[in, corona, i, wan, kiss, till, death, 🌻🌍]</td>\n",
       "      <td>in corona i wan kiss till death 🌻🌍</td>\n",
       "    </tr>\n",
       "    <tr>\n",
       "      <th>122842</th>\n",
       "      <td>1321924709454389254</td>\n",
       "      <td>1321924709454389254</td>\n",
       "      <td>2020-10-29 16:19:45 CDT</td>\n",
       "      <td>2020-10-29</td>\n",
       "      <td>16:19:45</td>\n",
       "      <td>-600</td>\n",
       "      <td>172663780</td>\n",
       "      <td>stevetwilightim</td>\n",
       "      <td>david pietrzak</td>\n",
       "      <td>NaN</td>\n",
       "      <td>...</td>\n",
       "      <td>False</td>\n",
       "      <td>https://twitter.com/maggieNYT/status/132188195...</td>\n",
       "      <td>0</td>\n",
       "      <td>NaN</td>\n",
       "      <td>[]</td>\n",
       "      <td>LYING TRUMP TRYING TO TAKE HEALTHCARE OFF OF A...</td>\n",
       "      <td>en</td>\n",
       "      <td>[LYING, TRUMP, TRYING, TO, TAKE, HEALTHCARE, O...</td>\n",
       "      <td>[lying, trump, trying, to, take, healthcare, o...</td>\n",
       "      <td>lying trump trying to take healthcare off of a...</td>\n",
       "    </tr>\n",
       "    <tr>\n",
       "      <th>122869</th>\n",
       "      <td>1321924545876434944</td>\n",
       "      <td>1321924545876434944</td>\n",
       "      <td>2020-10-29 16:19:06 CDT</td>\n",
       "      <td>2020-10-29</td>\n",
       "      <td>16:19:06</td>\n",
       "      <td>-600</td>\n",
       "      <td>970274347750375424</td>\n",
       "      <td>burgerlover231</td>\n",
       "      <td>Dave</td>\n",
       "      <td>NaN</td>\n",
       "      <td>...</td>\n",
       "      <td>False</td>\n",
       "      <td>NaN</td>\n",
       "      <td>1</td>\n",
       "      <td>https://pbs.twimg.com/media/ElhrXBGVoAA61jd.jpg</td>\n",
       "      <td>[]</td>\n",
       "      <td>Wuhan  China   NOW  at the start of  corona vi...</td>\n",
       "      <td>en</td>\n",
       "      <td>[Wuhan, China, NOW, at, the, start, of, corona...</td>\n",
       "      <td>[wuhan, china, now, start, corona, virus]</td>\n",
       "      <td>wuhan china now start corona virus</td>\n",
       "    </tr>\n",
       "    <tr>\n",
       "      <th>122863</th>\n",
       "      <td>1321924597458100224</td>\n",
       "      <td>1321924597458100224</td>\n",
       "      <td>2020-10-29 16:19:18 CDT</td>\n",
       "      <td>2020-10-29</td>\n",
       "      <td>16:19:18</td>\n",
       "      <td>-600</td>\n",
       "      <td>1247132467393429504</td>\n",
       "      <td>lucyandclou</td>\n",
       "      <td>Lucy &amp; Clou</td>\n",
       "      <td>NaN</td>\n",
       "      <td>...</td>\n",
       "      <td>False</td>\n",
       "      <td>NaN</td>\n",
       "      <td>1</td>\n",
       "      <td>https://pbs.twimg.com/ext_tw_video_thumb/13219...</td>\n",
       "      <td>[]</td>\n",
       "      <td>Help me out  For who should I vote 🍍🌰🥔  Watch ...</td>\n",
       "      <td>en</td>\n",
       "      <td>[Help, me, out, For, who, should, I, vote, 🍍🌰🥔...</td>\n",
       "      <td>[help, for, i, vote, 🍍🌰🥔, watch, full, video, ...</td>\n",
       "      <td>help for i vote 🍍🌰🥔 watch full video youtube f...</td>\n",
       "    </tr>\n",
       "  </tbody>\n",
       "</table>\n",
       "<p>5 rows × 31 columns</p>\n",
       "</div>"
      ],
      "text/plain": [
       "                         id      conversation_id               created_at  \\\n",
       "122852  1321924686465372161  1321924686465372161  2020-10-29 16:19:40 CDT   \n",
       "122846  1321924698746204160  1321924698746204160  2020-10-29 16:19:43 CDT   \n",
       "122842  1321924709454389254  1321924709454389254  2020-10-29 16:19:45 CDT   \n",
       "122869  1321924545876434944  1321924545876434944  2020-10-29 16:19:06 CDT   \n",
       "122863  1321924597458100224  1321924597458100224  2020-10-29 16:19:18 CDT   \n",
       "\n",
       "              date      time  timezone              user_id         username  \\\n",
       "122852  2020-10-29  16:19:40      -600   713099809637335040      noiambrose_   \n",
       "122846  2020-10-29  16:19:43      -600  1246780265571237889      sayedamaann   \n",
       "122842  2020-10-29  16:19:45      -600            172663780  stevetwilightim   \n",
       "122869  2020-10-29  16:19:06      -600   970274347750375424   burgerlover231   \n",
       "122863  2020-10-29  16:19:18      -600  1247132467393429504      lucyandclou   \n",
       "\n",
       "                  name place  ... retweet  \\\n",
       "122852   WandaMaximoff   NaN  ...   False   \n",
       "122846      🌻سعید آمان   NaN  ...   False   \n",
       "122842  david pietrzak   NaN  ...   False   \n",
       "122869            Dave   NaN  ...   False   \n",
       "122863     Lucy & Clou   NaN  ...   False   \n",
       "\n",
       "                                                quote_url video  \\\n",
       "122852                                                NaN     0   \n",
       "122846                                                NaN     0   \n",
       "122842  https://twitter.com/maggieNYT/status/132188195...     0   \n",
       "122869                                                NaN     1   \n",
       "122863                                                NaN     1   \n",
       "\n",
       "                                                thumbnail reply_to  \\\n",
       "122852                                                NaN       []   \n",
       "122846                                                NaN       []   \n",
       "122842                                                NaN       []   \n",
       "122869    https://pbs.twimg.com/media/ElhrXBGVoAA61jd.jpg       []   \n",
       "122863  https://pbs.twimg.com/ext_tw_video_thumb/13219...       []   \n",
       "\n",
       "                                                     text  lang  \\\n",
       "122852   Corona  corona  you destorying my lifestyle pal     en   \n",
       "122846  In this Corona world I wanna kiss you till dea...    en   \n",
       "122842  LYING TRUMP TRYING TO TAKE HEALTHCARE OFF OF A...    en   \n",
       "122869  Wuhan  China   NOW  at the start of  corona vi...    en   \n",
       "122863  Help me out  For who should I vote 🍍🌰🥔  Watch ...    en   \n",
       "\n",
       "                                                   tokens  \\\n",
       "122852  [Corona, corona, you, destorying, my, lifestyl...   \n",
       "122846  [In, this, Corona, world, I, wan, na, kiss, yo...   \n",
       "122842  [LYING, TRUMP, TRYING, TO, TAKE, HEALTHCARE, O...   \n",
       "122869  [Wuhan, China, NOW, at, the, start, of, corona...   \n",
       "122863  [Help, me, out, For, who, should, I, vote, 🍍🌰🥔...   \n",
       "\n",
       "                                                 filtered  \\\n",
       "122852       [corona, corona, destorying, lifestyle, pal]   \n",
       "122846        [in, corona, i, wan, kiss, till, death, 🌻🌍]   \n",
       "122842  [lying, trump, trying, to, take, healthcare, o...   \n",
       "122869          [wuhan, china, now, start, corona, virus]   \n",
       "122863  [help, for, i, vote, 🍍🌰🥔, watch, full, video, ...   \n",
       "\n",
       "                                          filtered_joined  \n",
       "122852             corona corona destorying lifestyle pal  \n",
       "122846                 in corona i wan kiss till death 🌻🌍  \n",
       "122842  lying trump trying to take healthcare off of a...  \n",
       "122869                 wuhan china now start corona virus  \n",
       "122863  help for i vote 🍍🌰🥔 watch full video youtube f...  \n",
       "\n",
       "[5 rows x 31 columns]"
      ]
     },
     "execution_count": 67,
     "metadata": {},
     "output_type": "execute_result"
    }
   ],
   "source": [
    "en_df.head()"
   ]
  },
  {
   "cell_type": "code",
   "execution_count": 58,
   "id": "silent-freight",
   "metadata": {},
   "outputs": [],
   "source": [
    "en_dtm = pickle.load(open(\"tfidf_en_3mo_sparse.pkl\", 'rb'))"
   ]
  },
  {
   "cell_type": "code",
   "execution_count": 59,
   "id": "equal-blues",
   "metadata": {},
   "outputs": [],
   "source": [
    "en_vectorizer = pickle.load(open(\"en_vectorizer_3mo.pkl\", 'rb'))"
   ]
  },
  {
   "cell_type": "code",
   "execution_count": 60,
   "id": "supported-income",
   "metadata": {},
   "outputs": [],
   "source": [
    "words = list(np.asarray(en_vectorizer.get_feature_names()))"
   ]
  },
  {
   "cell_type": "code",
   "execution_count": 62,
   "id": "reported-fellowship",
   "metadata": {},
   "outputs": [
    {
     "data": {
      "text/plain": [
       "<corextopic.corextopic.Corex at 0x7f9020c1d9a0>"
      ]
     },
     "execution_count": 62,
     "metadata": {},
     "output_type": "execute_result"
    }
   ],
   "source": [
    "topic_model = ct.Corex(n_hidden=30, words=words, seed=55)\n",
    "topic_model.fit(en_dtm, words=words, docs=en_df.filtered_joined)"
   ]
  },
  {
   "cell_type": "markdown",
   "id": "special-trail",
   "metadata": {},
   "source": [
    "### What Are My Topics?"
   ]
  },
  {
   "cell_type": "code",
   "execution_count": 63,
   "id": "visible-springfield",
   "metadata": {},
   "outputs": [
    {
     "name": "stdout",
     "output_type": "stream",
     "text": [
      "0: hai,se,ki,ke,ho,narendramodi,farmers,amitshah,delhi,covid\n",
      "1: gilligan,wells,dawn,island,ann,mary,dies,star,complications,played\n",
      "2: de,la,por,ich,ist,en,te,impfstoff,es,coronakrise\n",
      "3: trump,trumphasnoplan,mitch,mcconnell,pushing,court,incompetence,trumps,senate,checks\n",
      "4: honours,knighted,recognised,lewis,hamilton,volunteers,dsp,mentee,frm,deals\n",
      "5: broncos,nfl,ravens,game,qb,saints,steelers,list,players,qbs\n",
      "6: overreach,dictates,dystopian,interact,genuinely,roderic,gorman,equality,boris,educators\n",
      "7: ray,referee,tysonvsjones,tysonjones,tyson,named,yednetworkke,humanresources,tysonjonesjr,amref\n",
      "8: freelancing,pending,unavailable,marketplace,shisha,violates,platform,za,healthza,cafe\n",
      "9: detained,quran,nesw,qur,religion,wrongfully,burn,incident,maskless,officer\n",
      "10: missguided,missguidedcybersun,missguidednoticeme,officialplt,pltpinksunday,noticememissguided,silvuwo,lobaapex,misguidednoticeme,misgudedcybersun\n",
      "11: rez,renewable,oppressed,fundraise,electricity,visible,becoz,navajo,computer,enemy\n",
      "12: coronaus,coronaupdate,projections,discharged,outcome,recovered,coronavirusnewyork,coronaviruslockdownuk,nysc,united\n",
      "13: letlow,luke,congressman,elect,louisiana,voteearlyinperson,obamacare,usps,eliminate,sworn\n",
      "14: medellin,cms,humanitarian,colombia,shoe,crypto,cryptocurrencies,measure,size,necessity\n",
      "15: nbd,johns,entirety,deleted,hopkins,bee,published,engelsangle,remindmetweets,tmichigan\n",
      "16: lyme,barbariantrades,madsholme,konrad,eli,kuhlo,greg,xers,thomasbridges,xeris\n",
      "17: bogocumfiefdom,govofvestedinterests,peterjhasson,torytotalincompetence,maxkellerman,diplomat,wiunion,wiright,wipolitics,firsttake\n",
      "18: damadeferroofic,scotnews,pandeemic,ontatio,technica,mucous,ars,skgov,timo,membranes\n",
      "19: curv,luxpo,palesa,skips,btamiiah,chelle,repairs,racefansdotnet,coops,pipes\n",
      "20: tulsi,gabbard,kibbe,veraetches,jimwatsonottawa,luntleymark,morpheusyung,unwhole,spanyol,jonisawesomest\n",
      "21: pitfalls,immunopathology,defect,paragraph,pursuit,titled,refers,debilitating,rushed,paulkington\n",
      "22: kharbanda,kriti,dremmafrans,cameliadewan,mariab,davidsteadson,ndloubere,twitr,hqoc,dzl\n",
      "23: bishopoftyler,dioceseoffresno,bishops,highbrow,nobrow,aliasvaughn,mayward,catholic,shihadehjanice,aisling\n",
      "24: journaal,hdoumergue,mdh,dodd,neyo,dmitchster,antifafreddy,cockblocking,wisepaxcat,hennessy\n",
      "25: shootatweet,rollrolllarry,lmnysf,sengillibrand,queens,guns,elneny,iy,reppaultonko,loiner\n",
      "26: bigu,hodlnut,motherfknclouds,topsyturvyross,pokemongoapp,mufaddal,vohra,analogue,kachumbali,jerusalema\n",
      "27: schittscreek,littleviolenc,calmdownkidder,rfu,fijitimesonline,parkstorm,oliviaboen,yoitsajizzle,trevken,tinymeows\n",
      "28: ccadelago,borussia,jonathantamari,annonces,gref,sberbank,blackyellow,dortmund,heidigiokos,rynothelion\n",
      "29: sharafjarrar,manipulete,wattpad,coronaboy,bizitalk,wti,shoosh,fingering,komaeda,upppppppp\n"
     ]
    }
   ],
   "source": [
    "topics = topic_model.get_topics()\n",
    "for n, topic in enumerate(topics):\n",
    "    topic_words,_ = zip(*topic)\n",
    "    print('{}: '.format(n) + ','.join(topic_words))"
   ]
  },
  {
   "cell_type": "markdown",
   "id": "positive-offense",
   "metadata": {},
   "source": [
    "### Top Tweets Associated With A Topic"
   ]
  },
  {
   "cell_type": "code",
   "execution_count": null,
   "id": "piano-error",
   "metadata": {},
   "outputs": [],
   "source": [
    "topic_model.get_top_docs(topic=4, n_docs=2)"
   ]
  },
  {
   "cell_type": "markdown",
   "id": "round-premiere",
   "metadata": {},
   "source": [
    "### Which Topics Has CorEx Assigned Each Document?"
   ]
  },
  {
   "cell_type": "code",
   "execution_count": 69,
   "id": "fifteen-tonight",
   "metadata": {},
   "outputs": [],
   "source": [
    "anchor_words = [['fire', 'fauci', 'fraud'],\n",
    "                ['bill', 'gates', 'bioterrorist'], \n",
    "                ['honey', 'lemon', 'vitamin','garlic'], \n",
    "                ['biological', 'warfare'], \n",
    "                ['electromagnetic'], \n",
    "                ['deep', 'state', 'new', 'world', 'order'], \n",
    "                ['id','2020'], \n",
    "                ['vegetarian'], \n",
    "                ['herbal'], \n",
    "                ['scamdemic', 'plandemic'], \n",
    "                ['dirty', 'vaccine'], \n",
    "                ['wuflu', 'chinavirus']]"
   ]
  },
  {
   "cell_type": "code",
   "execution_count": 86,
   "id": "south-regression",
   "metadata": {},
   "outputs": [],
   "source": [
    "anchors_combo = ['fire', 'fauci', 'fraud',\n",
    "                'bill', 'gates', 'bioterrorist', \n",
    "                'honey', 'lemon', 'vitamin','garlic', \n",
    "                'biological', 'warfare', \n",
    "                'electromagnetic', \n",
    "                'deep', 'state', 'new', 'world', 'order', \n",
    "                'id','2020', 'fraud',\n",
    "                'vegetarian', 'bioterrorist',\n",
    "                'herbal', 'covidhoax',\n",
    "                'scamdemic', 'plandemic', \n",
    "                'dirty', 'coronavirushoax',\n",
    "                'wuflu', 'chinavirus']"
   ]
  },
  {
   "cell_type": "code",
   "execution_count": 87,
   "id": "expressed-distributor",
   "metadata": {},
   "outputs": [
    {
     "name": "stdout",
     "output_type": "stream",
     "text": [
      "WARNING: Anchor word not in word column labels provided to CorEx: world\n",
      "WARNING: Anchor word not in word column labels provided to CorEx: id\n",
      "WARNING: Anchor word not in word column labels provided to CorEx: 2020\n"
     ]
    },
    {
     "data": {
      "text/plain": [
       "<corextopic.corextopic.Corex at 0x7f9450d11190>"
      ]
     },
     "execution_count": 87,
     "metadata": {},
     "output_type": "execute_result"
    }
   ],
   "source": [
    "an_topic_model = ct.Corex(n_hidden=30, max_iter=2000, words=words, seed=55)\n",
    "an_topic_model.fit(en_dtm, words=words, anchors=anchors_combo, anchor_strength=10, docs=en_df.filtered_joined)"
   ]
  },
  {
   "cell_type": "code",
   "execution_count": 88,
   "id": "korean-institute",
   "metadata": {},
   "outputs": [
    {
     "name": "stdout",
     "output_type": "stream",
     "text": [
      "0: fire,religion,nesw,quran,qur,burn,decide,pride,wrong,forever\n",
      "1: fauci,surge,dr,warns,anthony,forgotten,rez,renewable,oppressed,thanksgiving\n",
      "2: fraud,incompetence,widumptrump,blindfolded,hunter,russian,wi,propaganda,turning,corner\n",
      "3: bill,relief,mcconnell,trumphasnoplan,mitch,checks,senate,trump,pushing,trumps\n",
      "4: gates,bs,deadeyebs,xlepakek,rexbrawlstars,lighttt,blakebs,alfie,tezelbs,kanyewest\n",
      "5: hai,ki,se,ho,ke,narendramodi,farmers,bhi,amitshah,ko\n",
      "6: honey,anthem,armistice,abbey,royals,mbumomswhoblog,sing,singing,hardman,rzhongnotes\n",
      "7: lemon,flushing,grupomodelo,drinking,meadows,mx,park,untappd,greenway,mondrian\n",
      "8: vitamin,unavailable,violates,temporarily,नस,artsakhrepublic,terroristturkey,सरक,deficiency,छत\n",
      "9: garlic,crypto,humanresources,pandemia,shootatweet,cryptocurrencies,workfromhome,sundayvibes,saturdayvibes,saturdaythoughts\n",
      "10: biological,broncos,nfl,ravens,qb,saints,game,steelers,list,reserve\n",
      "11: warfare,breonna,casual,taylor,davidcullinane,junior,sinnfeinireland,shocking,puts,legalizeitlala\n",
      "12: referee,ray,tysonvsjones,tyson,tysonjones,fight,jones,named,chimaev,khamzat\n",
      "13: deep,dsp,mentee,frm,deals,deal,ebitda,cuts,eur,desperate\n",
      "14: state,lindseygrahamsc,harrisonjaime,postandcourier,jaime,harrison,lindsey,graham,constituents,votehimout\n",
      "15: new,cases,strain,york,total,variant,eve,reports,record,reported\n",
      "16: order,barbariantrades,madsholme,konrad,defies,singer,executive,eli,lyme,deactivation\n",
      "17: fraud,mobs,xi,voter,election,freer,civil,liberties,cheat,assault\n",
      "18: zoo,vegetarian,knoxville,tiger,nowplaying,ضروری,احتیاط,listenlive,jzba,meadowbrook\n",
      "19: silvuwo,lobaapex,bioterrorist,crabsowo,finallylisaonpenshoppetv,muhammad,hanowo,lisaonpenshoppetvtoday,journaal,qasim\n",
      "20: jeffreestar,cashapp,missguided,missguidedcybersun,help,missguidednoticeme,jeffree,love,bills,officialplt\n",
      "21: wells,gilligan,dawn,island,ann,mary,dies,star,complications,played\n",
      "22: scamdemic,cody,rampart,parekh,nickson,eddiebarstool,saiqa,naz,ivan,undrr\n",
      "23: plandemic,impoverishing,bucksexton,centrally,magplanet,styleupnow,mypressnews,ecosexuality,garraway,crashing\n",
      "24: dirty,de,ist,en,ich,la,por,mit,und,te\n",
      "25: documents,johns,hopkins,nbd,entirety,hospitalization,deleted,scenario,faster,reveal\n",
      "26: wuflu,timeliness,plight,treachery,insensitivity,procedural,fairness,deception,reject,bbi\n",
      "27: chinavirus,medellin,shoe,cms,colombia,humanitarian,measure,size,popularity,machiavellian\n",
      "28: detained,wrongfully,incident,fiancee,maskless,officer,buckinghamshire,willragatz,mackey,declares\n",
      "29: ayemcclane,jaggytooth,detikcom,stmiley,technica,mscarolbates,atlus,ars,pardesseleh,siliconeer\n"
     ]
    }
   ],
   "source": [
    "an_topics = an_topic_model.get_topics()\n",
    "for n, topic in enumerate(an_topics):\n",
    "    topic_words,_ = zip(*an_topic_model.get_topics(topic=n))\n",
    "    print('{}: '.format(n) + ','.join(topic_words))"
   ]
  },
  {
   "cell_type": "code",
   "execution_count": 72,
   "id": "social-benjamin",
   "metadata": {},
   "outputs": [],
   "source": [
    "from nltk.tokenize import word_tokenize\n",
    "from nltk.corpus import stopwords"
   ]
  },
  {
   "cell_type": "code",
   "execution_count": 73,
   "id": "selected-rebound",
   "metadata": {},
   "outputs": [
    {
     "name": "stderr",
     "output_type": "stream",
     "text": [
      "[nltk_data] Downloading package stopwords to /Users/jess/nltk_data...\n",
      "[nltk_data]   Package stopwords is already up-to-date!\n"
     ]
    },
    {
     "data": {
      "text/plain": [
       "True"
      ]
     },
     "execution_count": 73,
     "metadata": {},
     "output_type": "execute_result"
    }
   ],
   "source": [
    "nltk.download('stopwords')"
   ]
  },
  {
   "cell_type": "code",
   "execution_count": 74,
   "id": "interracial-powder",
   "metadata": {},
   "outputs": [],
   "source": [
    "stop_words_standard = stopwords.words('english')\n",
    "stop_words_long = open('/Users/jess/workspace/Metis_Projects/Project_4/stopwords/stopwords_long_ranks_nl.txt', 'r', encoding='utf-8').read().split('\\n')\n",
    "stop = set(stop_words_standard + stop_words_long + ['https' , 'http'])"
   ]
  },
  {
   "cell_type": "code",
   "execution_count": 79,
   "id": "saved-moisture",
   "metadata": {},
   "outputs": [],
   "source": [
    "cv = CountVectorizer(lowercase=True,\n",
    "                     stop_words=stop,\n",
    "                     min_df = 2,\n",
    "                     max_df = .8,\n",
    "                     ngram_range=(1,2)\n",
    "                    )"
   ]
  },
  {
   "cell_type": "code",
   "execution_count": 80,
   "id": "revised-intensity",
   "metadata": {},
   "outputs": [],
   "source": [
    "corex_vector = cv.fit_transform(en_df.filtered_joined)"
   ]
  },
  {
   "cell_type": "code",
   "execution_count": 85,
   "id": "designed-community",
   "metadata": {},
   "outputs": [
    {
     "name": "stdout",
     "output_type": "stream",
     "text": [
      "WARNING: Anchor word not in word column labels provided to CorEx: world\n",
      "WARNING: Anchor word not in word column labels provided to CorEx: id\n",
      "WARNING: Anchor word not in word column labels provided to CorEx: 2020\n"
     ]
    },
    {
     "data": {
      "text/plain": [
       "<corextopic.corextopic.Corex at 0x7f902ff50a60>"
      ]
     },
     "execution_count": 85,
     "metadata": {},
     "output_type": "execute_result"
    }
   ],
   "source": [
    "cv_topic_model = ct.Corex(n_hidden=30, seed=55, max_iter=3000)\n",
    "cv_topic_model.fit(corex_vector, anchors=anchor_words, anchor_strength=10,words=cv.get_feature_names())"
   ]
  },
  {
   "cell_type": "code",
   "execution_count": 84,
   "id": "hawaiian-packet",
   "metadata": {},
   "outputs": [
    {
     "name": "stdout",
     "output_type": "stream",
     "text": [
      "0: fauci,fraud,fire,dr fauci,mentee,surge surge,frm mentee,dsp,fauci warns,warns\n",
      "1: bill,gates,relief,covid relief,mcconnell,senate,checks,mitch,mitch mcconnell,relief bill\n",
      "2: vitamin,honey,lemon,sars cov,cov,sars,moscow mitch,moscow,loomis,peta\n",
      "3: biological,warfare,corona inflation,petrol,karan,inflation,ke karan,price,mohfw,mohfw india\n",
      "4: deaths trump,keeps pushing,trump keeps,trumps court,court healthcare,healthcare trumphasnoplan,pushing lies,day trumps,rise trump,trumphasnoplan\n",
      "5: new,state,order,deep,new covid,new cases,new year,strain,new corona,covid new\n",
      "6: help,job,jeffreestar,cashapp,pay,jeffreestar cashapp,bills,lost,lost job,jobs\n",
      "7: distancing,social distancing,social,economy,cruel,पन,एम,एम पन,fbi cia,unemployment economy\n",
      "8: plandemic,scamdemic,pre existing,existing,existing conditions,pre,conditions,covid aid,sold,steven swinford\n",
      "9: vaccine,covid vaccine,dirty,corona vaccine,pfizer,vaccine covid,moderna,astrazeneca,doses,vaccines\n",
      "10: hai,narendramodi,delhi,farmers,se,ki,amitshah,ke,ho,ko\n",
      "11: cases,covid cases,restrictions,covid restrictions,reported,states,county,record,cases covid,total\n",
      "12: lives,issues,months,mental,protocols,infection,treatment,worse,understand,mental health\n",
      "13: deaths,covid deaths,death,numbers,dying,covid death,rate,number,covid numbers,deaths covid\n",
      "14: feel,gon,christmas,bc,love,hope,fucking,night,wan,fun\n",
      "15: news,testing,covid testing,list,change,covid list,climate,great,story,travel\n",
      "16: died,died covid,dies,dawn,island,wells,dies covid,dawn wells,gilligan,gilligan island\n",
      "17: corona,covid,corona pandemic,corona covid,covid corona,corona corona,corona coronavirus,time corona,corona time,people corona\n",
      "18: going,work,school,safe,stay,risk,keep,schools,kids,students\n",
      "19: trump,realdonaldtrump,biden,americans,die,president,people,vote,lies,donald\n",
      "20: virus,corona virus,india,covid virus,virus cases,chinese,virus covid,pakistan,novel,virus pandemic\n",
      "21: money,wave,republican,second,attack,second wave,treating,heart attack,pence,doctors money\n",
      "22: coronavirus,china,day,toll,england,coronavirus covid,coronavirus corona,data,worst,election\n",
      "23: shit,thing,fuck,kill,ass,damn,mom,man,wait,god\n",
      "24: positive,test,tested,positive covid,covid test,tested positive,tests,negative,cold,covid tests\n",
      "25: mask,masks,spread,wear,wearing,long,spreading,wear mask,spread covid,term\n",
      "26: year,game,season,halloween,play,year covid,team,nfl,happy,players\n",
      "27: patients,hospitals,care,covid patients,health,hospital,workers,staff,icu,nhs\n",
      "28: flu,control,post,post covid,handling,research,covid flu,transmission,flu covid,evidence\n",
      "29: government,response,crisis,lockdowns,country,economic,boris,covid response,media,deal\n"
     ]
    }
   ],
   "source": [
    "cv_topics = cv_topic_model.get_topics()\n",
    "for n, topic in enumerate(cv_topics):\n",
    "    topic_words,_ = zip(*topic)\n",
    "    print('{}: '.format(n) + ','.join(topic_words))"
   ]
  },
  {
   "cell_type": "code",
   "execution_count": 49,
   "id": "inner-credit",
   "metadata": {},
   "outputs": [],
   "source": [
    "w2v_anchors = [['plandemic', 'scamdemic', 'fearmongering', 'coronavirushoax', 'covidhoax', 'fabricated', 'smokescreen']]"
   ]
  },
  {
   "cell_type": "code",
   "execution_count": null,
   "id": "pediatric-ghana",
   "metadata": {},
   "outputs": [],
   "source": []
  },
  {
   "cell_type": "code",
   "execution_count": null,
   "id": "fitting-diagram",
   "metadata": {},
   "outputs": [],
   "source": []
  },
  {
   "cell_type": "code",
   "execution_count": null,
   "id": "invisible-robert",
   "metadata": {},
   "outputs": [],
   "source": []
  },
  {
   "cell_type": "code",
   "execution_count": null,
   "id": "hispanic-baking",
   "metadata": {},
   "outputs": [],
   "source": []
  },
  {
   "cell_type": "code",
   "execution_count": null,
   "id": "sapphire-controversy",
   "metadata": {},
   "outputs": [],
   "source": []
  },
  {
   "cell_type": "code",
   "execution_count": 32,
   "id": "lovely-noise",
   "metadata": {},
   "outputs": [
    {
     "name": "stderr",
     "output_type": "stream",
     "text": [
      "[nltk_data] Downloading package stopwords to /Users/jess/nltk_data...\n",
      "[nltk_data]   Package stopwords is already up-to-date!\n"
     ]
    },
    {
     "data": {
      "text/plain": [
       "True"
      ]
     },
     "execution_count": 32,
     "metadata": {},
     "output_type": "execute_result"
    }
   ],
   "source": [
    "import nltk\n",
    "from nltk.corpus import stopwords\n",
    "nltk.download('stopwords')"
   ]
  },
  {
   "cell_type": "code",
   "execution_count": 33,
   "id": "lesser-preliminary",
   "metadata": {},
   "outputs": [],
   "source": [
    "stop_words_standard = stopwords.words('english')\n",
    "stop_words_long = open('/Users/jess/workspace/Metis_Projects/Project_4/stopwords/stopwords_long_ranks_nl.txt', 'r', encoding='utf-8').read().split('\\n')\n",
    "stop = set(stop_words_standard + stop_words_long + ['https' , 'http'])"
   ]
  },
  {
   "cell_type": "code",
   "execution_count": 37,
   "id": "considerable-update",
   "metadata": {},
   "outputs": [
    {
     "name": "stdout",
     "output_type": "stream",
     "text": [
      "[['she', 'khaleda', 'begum', 'age', 'years', 'saved', 'rs', 'lakh', 'perform', 'hajj', 'donated', 'corona', 'charity', '❤'], ['imrankhanpti', 'clarencehouse', 'borisjohnson', 'koi', 'relief', 'nhi', 'mila', 'relief', 'granted', 'likha', 'ata', 'hy', 'dfa', 'complaint', 'ki', 'citizen', 'portal', 'complaint', 'cell', 'ki', 'post', 'office', 'calls', 'ki', 'kia', 'faida', 'hua', 'apka', 'itny', 'pese', 'lgany', 'ka', 'agr', 'aj', 'doctr', 'ali', 'hassan', 'awan', 'ko', 'mri', 'complaint', 'koi', 'saza', 'di', 'gai', 'hti', 'relief', 'dia', 'hta', 'corona'], ['sylver', 'corona', 'ye', 'ref'], ['the', 'new', 'music', 'post', 'quarantine', 'finna', 'repetitive', 'bet', '’', 'hear', 'countless', 'times', 'she', 'loner', 'loan', 'uh', 'i', 'kill', 'pussy', 'corona', 'the', 'rap', 'game', 'mine', 'i', 'murder', 'corona', 'columbine', '🥴🥴🥴'], ['my', 'dad', 'high', 'risk', 'corona', 'bc', 'health', 'amp', 'i', '’', 'working', 'amp', 'high', 'risk', 'transferring', 'i', '’', 'visit', 'parents', 'weeks', 'my', 'adorable', 'mom', 'dropped', 'groceries', 'front', 'door', 'i', '’', 'cracking', 'individual', 'slices', 'cheese', 'mayo']]\n"
     ]
    }
   ],
   "source": [
    "texts = [[word.lower() for word in tweet if word not in stop] for tweet in en_df.tokens.values]\n",
    "print(texts[0:5])"
   ]
  },
  {
   "cell_type": "code",
   "execution_count": null,
   "id": "fitting-triumph",
   "metadata": {},
   "outputs": [],
   "source": []
  }
 ],
 "metadata": {
  "kernelspec": {
   "display_name": "Python [conda env:metis] *",
   "language": "python",
   "name": "conda-env-metis-py"
  },
  "language_info": {
   "codemirror_mode": {
    "name": "ipython",
    "version": 3
   },
   "file_extension": ".py",
   "mimetype": "text/x-python",
   "name": "python",
   "nbconvert_exporter": "python",
   "pygments_lexer": "ipython3",
   "version": "3.8.6"
  }
 },
 "nbformat": 4,
 "nbformat_minor": 5
}
