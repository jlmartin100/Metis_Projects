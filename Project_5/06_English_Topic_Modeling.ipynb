{
 "cells": [
  {
   "cell_type": "code",
   "execution_count": 2,
   "id": "mexican-first",
   "metadata": {},
   "outputs": [],
   "source": [
    "import pandas as pd\n",
    "import numpy as np\n",
    "import pickle\n",
    "\n",
    "from sklearn.decomposition import TruncatedSVD\n",
    "from sklearn.decomposition import NMF\n",
    "from sklearn.metrics.pairwise import cosine_similarity"
   ]
  },
  {
   "cell_type": "code",
   "execution_count": null,
   "id": "dietary-christianity",
   "metadata": {},
   "outputs": [],
   "source": [
    "en_dtm = pickle.load(open(\"tfidf_en_sparse.pkl\", 'rb'))"
   ]
  },
  {
   "cell_type": "code",
   "execution_count": null,
   "id": "first-allen",
   "metadata": {},
   "outputs": [],
   "source": [
    "en_vectorizer = pickle.load(open(\"en_vectorizer.pkl\", 'rb'))"
   ]
  },
  {
   "cell_type": "code",
   "execution_count": null,
   "id": "single-supply",
   "metadata": {},
   "outputs": [],
   "source": [
    "en_nmf_model = NMF(10)\n",
    "en_topics = en_nmf_model.fit_transform(en_dtm)\n",
    "en_topics.shape"
   ]
  },
  {
   "cell_type": "code",
   "execution_count": null,
   "id": "legendary-string",
   "metadata": {},
   "outputs": [],
   "source": [
    "n_top_words = 15\n",
    "en_feature_names = en_vectorizer.get_feature_names()\n",
    "\n",
    "for i, topic_vec in enumerate(en_nmf_model.components_):\n",
    "    print(i, end= ' ')\n",
    "    for fid in topic_vec.argsort()[-1:-n_top_words-1:-1]:\n",
    "        print(en_feature_names[fid], end=' ')\n",
    "    print()"
   ]
  },
  {
   "cell_type": "code",
   "execution_count": null,
   "id": "accessible-league",
   "metadata": {},
   "outputs": [],
   "source": [
    "topic = en_nmf_model.components_.argsort(axis=1)[:, -1:-9:-1]\n",
    "topic_words_list = [[en_feature_names[e] for e in l] for l in t]\n",
    "topic_words_list"
   ]
  },
  {
   "cell_type": "code",
   "execution_count": null,
   "id": "planned-savage",
   "metadata": {},
   "outputs": [],
   "source": []
  },
  {
   "cell_type": "code",
   "execution_count": null,
   "id": "bored-vinyl",
   "metadata": {},
   "outputs": [],
   "source": [
    "en_df['topic_full'] = en_topics.argmax(axis=1)\n"
   ]
  },
  {
   "cell_type": "code",
   "execution_count": null,
   "id": "favorite-temple",
   "metadata": {},
   "outputs": [],
   "source": [
    "en_df['topic_nouns'] = en_nouns_topics.argmax(axis=1)"
   ]
  },
  {
   "cell_type": "code",
   "execution_count": null,
   "id": "intended-barrel",
   "metadata": {},
   "outputs": [],
   "source": []
  },
  {
   "cell_type": "code",
   "execution_count": null,
   "id": "italic-trustee",
   "metadata": {},
   "outputs": [],
   "source": []
  }
 ],
 "metadata": {
  "kernelspec": {
   "display_name": "Python [conda env:metis] *",
   "language": "python",
   "name": "conda-env-metis-py"
  },
  "language_info": {
   "codemirror_mode": {
    "name": "ipython",
    "version": 3
   },
   "file_extension": ".py",
   "mimetype": "text/x-python",
   "name": "python",
   "nbconvert_exporter": "python",
   "pygments_lexer": "ipython3",
   "version": "3.8.6"
  }
 },
 "nbformat": 4,
 "nbformat_minor": 5
}
