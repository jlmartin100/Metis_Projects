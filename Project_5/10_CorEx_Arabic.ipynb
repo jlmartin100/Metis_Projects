{
 "cells": [
  {
   "cell_type": "code",
   "execution_count": 1,
   "id": "right-series",
   "metadata": {},
   "outputs": [],
   "source": [
    "import pandas as pd\n",
    "import numpy as np\n",
    "import scipy.sparse as ss\n",
    "import pickle\n",
    "\n",
    "from corextopic import corextopic as ct\n",
    "from corextopic import vis_topic as vt\n",
    "\n",
    "import matplotlib.pyplot as plt\n",
    "import seaborn as sns\n",
    "%matplotlib inline"
   ]
  },
  {
   "cell_type": "code",
   "execution_count": 2,
   "id": "sporting-response",
   "metadata": {},
   "outputs": [],
   "source": [
    "from sklearn.feature_extraction.text import CountVectorizer"
   ]
  },
  {
   "cell_type": "code",
   "execution_count": 4,
   "id": "democratic-defense",
   "metadata": {},
   "outputs": [],
   "source": [
    "ar_df = pickle.load(open(\"ar_df_3mo.pkl\", 'rb'))"
   ]
  },
  {
   "cell_type": "code",
   "execution_count": 5,
   "id": "killing-therapist",
   "metadata": {},
   "outputs": [
    {
     "data": {
      "text/html": [
       "<div>\n",
       "<style scoped>\n",
       "    .dataframe tbody tr th:only-of-type {\n",
       "        vertical-align: middle;\n",
       "    }\n",
       "\n",
       "    .dataframe tbody tr th {\n",
       "        vertical-align: top;\n",
       "    }\n",
       "\n",
       "    .dataframe thead th {\n",
       "        text-align: right;\n",
       "    }\n",
       "</style>\n",
       "<table border=\"1\" class=\"dataframe\">\n",
       "  <thead>\n",
       "    <tr style=\"text-align: right;\">\n",
       "      <th></th>\n",
       "      <th>id</th>\n",
       "      <th>conversation_id</th>\n",
       "      <th>created_at</th>\n",
       "      <th>date</th>\n",
       "      <th>time</th>\n",
       "      <th>timezone</th>\n",
       "      <th>user_id</th>\n",
       "      <th>username</th>\n",
       "      <th>name</th>\n",
       "      <th>place</th>\n",
       "      <th>...</th>\n",
       "      <th>hashtags</th>\n",
       "      <th>cashtags</th>\n",
       "      <th>link</th>\n",
       "      <th>retweet</th>\n",
       "      <th>quote_url</th>\n",
       "      <th>video</th>\n",
       "      <th>thumbnail</th>\n",
       "      <th>reply_to</th>\n",
       "      <th>text</th>\n",
       "      <th>lang</th>\n",
       "    </tr>\n",
       "  </thead>\n",
       "  <tbody>\n",
       "    <tr>\n",
       "      <th>34138</th>\n",
       "      <td>1311516689650122752</td>\n",
       "      <td>1311516689650122752</td>\n",
       "      <td>2020-09-30 23:02:00 CDT</td>\n",
       "      <td>2020-09-30</td>\n",
       "      <td>23:02:00</td>\n",
       "      <td>-600</td>\n",
       "      <td>1174210043664838657</td>\n",
       "      <td>faoinuae</td>\n",
       "      <td>FAO for GCC states, UAE &amp; Yemen</td>\n",
       "      <td>NaN</td>\n",
       "      <td>...</td>\n",
       "      <td>['سبل_عيش', 'كوفيد_19']</td>\n",
       "      <td>[]</td>\n",
       "      <td>https://twitter.com/FAOinUAE/status/1311516689...</td>\n",
       "      <td>False</td>\n",
       "      <td>NaN</td>\n",
       "      <td>0</td>\n",
       "      <td>NaN</td>\n",
       "      <td>[]</td>\n",
       "      <td>هل تعلم أن الأسماك 🐟🐠 تعد واحدة من السلع الغذا...</td>\n",
       "      <td>ar</td>\n",
       "    </tr>\n",
       "    <tr>\n",
       "      <th>34146</th>\n",
       "      <td>1311507758160777216</td>\n",
       "      <td>1311507758160777216</td>\n",
       "      <td>2020-09-30 22:26:30 CDT</td>\n",
       "      <td>2020-09-30</td>\n",
       "      <td>22:26:30</td>\n",
       "      <td>-600</td>\n",
       "      <td>951917493442015232</td>\n",
       "      <td>addafternet</td>\n",
       "      <td>منصة الدفتر العلمية ®️</td>\n",
       "      <td>NaN</td>\n",
       "      <td>...</td>\n",
       "      <td>[]</td>\n",
       "      <td>[]</td>\n",
       "      <td>https://twitter.com/addafternet/status/1311507...</td>\n",
       "      <td>False</td>\n",
       "      <td>NaN</td>\n",
       "      <td>0</td>\n",
       "      <td>NaN</td>\n",
       "      <td>[]</td>\n",
       "      <td>عمليات الإغلاق المترافقة مع انتشار فيروس كوفيد...</td>\n",
       "      <td>ar</td>\n",
       "    </tr>\n",
       "    <tr>\n",
       "      <th>34147</th>\n",
       "      <td>1311506585508773889</td>\n",
       "      <td>1311360242521985024</td>\n",
       "      <td>2020-09-30 22:21:51 CDT</td>\n",
       "      <td>2020-09-30</td>\n",
       "      <td>22:21:51</td>\n",
       "      <td>-600</td>\n",
       "      <td>718412478</td>\n",
       "      <td>eddy_gemayel</td>\n",
       "      <td>Eddy Gemayel</td>\n",
       "      <td>NaN</td>\n",
       "      <td>...</td>\n",
       "      <td>[]</td>\n",
       "      <td>[]</td>\n",
       "      <td>https://twitter.com/eddy_gemayel/status/131150...</td>\n",
       "      <td>False</td>\n",
       "      <td>NaN</td>\n",
       "      <td>0</td>\n",
       "      <td>NaN</td>\n",
       "      <td>[{'screen_name': 'issahamd1n', 'name': 'Issa H...</td>\n",
       "      <td>الاطباء هم الأكثر عرضةً للهجرة أثناء أزمة ا...</td>\n",
       "      <td>ar</td>\n",
       "    </tr>\n",
       "    <tr>\n",
       "      <th>34148</th>\n",
       "      <td>1311505444657983489</td>\n",
       "      <td>1311505444657983489</td>\n",
       "      <td>2020-09-30 22:17:19 CDT</td>\n",
       "      <td>2020-09-30</td>\n",
       "      <td>22:17:19</td>\n",
       "      <td>-600</td>\n",
       "      <td>1017445720956198912</td>\n",
       "      <td>liallal_develop</td>\n",
       "      <td>liallal</td>\n",
       "      <td>NaN</td>\n",
       "      <td>...</td>\n",
       "      <td>['سكاي_رياضه', 'ايران', 'كوفيد_19', 'سيف_بن_زا...</td>\n",
       "      <td>[]</td>\n",
       "      <td>https://twitter.com/liallal_develop/status/131...</td>\n",
       "      <td>False</td>\n",
       "      <td>NaN</td>\n",
       "      <td>0</td>\n",
       "      <td>NaN</td>\n",
       "      <td>[]</td>\n",
       "      <td>I will do organic youtube video  spotify music...</td>\n",
       "      <td>ar</td>\n",
       "    </tr>\n",
       "    <tr>\n",
       "      <th>34149</th>\n",
       "      <td>1311505387447705600</td>\n",
       "      <td>1311505387447705600</td>\n",
       "      <td>2020-09-30 22:17:05 CDT</td>\n",
       "      <td>2020-09-30</td>\n",
       "      <td>22:17:05</td>\n",
       "      <td>-600</td>\n",
       "      <td>1017445720956198912</td>\n",
       "      <td>liallal_develop</td>\n",
       "      <td>liallal</td>\n",
       "      <td>NaN</td>\n",
       "      <td>...</td>\n",
       "      <td>['سكاي_رياضه', 'ايران', 'كوفيد_19', 'سيف_بن_زا...</td>\n",
       "      <td>[]</td>\n",
       "      <td>https://twitter.com/liallal_develop/status/131...</td>\n",
       "      <td>False</td>\n",
       "      <td>NaN</td>\n",
       "      <td>0</td>\n",
       "      <td>NaN</td>\n",
       "      <td>[]</td>\n",
       "      <td>I will do organic promotion youtube video     ...</td>\n",
       "      <td>ar</td>\n",
       "    </tr>\n",
       "  </tbody>\n",
       "</table>\n",
       "<p>5 rows × 28 columns</p>\n",
       "</div>"
      ],
      "text/plain": [
       "                        id      conversation_id               created_at  \\\n",
       "34138  1311516689650122752  1311516689650122752  2020-09-30 23:02:00 CDT   \n",
       "34146  1311507758160777216  1311507758160777216  2020-09-30 22:26:30 CDT   \n",
       "34147  1311506585508773889  1311360242521985024  2020-09-30 22:21:51 CDT   \n",
       "34148  1311505444657983489  1311505444657983489  2020-09-30 22:17:19 CDT   \n",
       "34149  1311505387447705600  1311505387447705600  2020-09-30 22:17:05 CDT   \n",
       "\n",
       "             date      time  timezone              user_id         username  \\\n",
       "34138  2020-09-30  23:02:00      -600  1174210043664838657         faoinuae   \n",
       "34146  2020-09-30  22:26:30      -600   951917493442015232      addafternet   \n",
       "34147  2020-09-30  22:21:51      -600            718412478     eddy_gemayel   \n",
       "34148  2020-09-30  22:17:19      -600  1017445720956198912  liallal_develop   \n",
       "34149  2020-09-30  22:17:05      -600  1017445720956198912  liallal_develop   \n",
       "\n",
       "                                  name place  ...  \\\n",
       "34138  FAO for GCC states, UAE & Yemen   NaN  ...   \n",
       "34146           منصة الدفتر العلمية ®️   NaN  ...   \n",
       "34147                     Eddy Gemayel   NaN  ...   \n",
       "34148                          liallal   NaN  ...   \n",
       "34149                          liallal   NaN  ...   \n",
       "\n",
       "                                                hashtags cashtags  \\\n",
       "34138                            ['سبل_عيش', 'كوفيد_19']       []   \n",
       "34146                                                 []       []   \n",
       "34147                                                 []       []   \n",
       "34148  ['سكاي_رياضه', 'ايران', 'كوفيد_19', 'سيف_بن_زا...       []   \n",
       "34149  ['سكاي_رياضه', 'ايران', 'كوفيد_19', 'سيف_بن_زا...       []   \n",
       "\n",
       "                                                    link retweet quote_url  \\\n",
       "34138  https://twitter.com/FAOinUAE/status/1311516689...   False       NaN   \n",
       "34146  https://twitter.com/addafternet/status/1311507...   False       NaN   \n",
       "34147  https://twitter.com/eddy_gemayel/status/131150...   False       NaN   \n",
       "34148  https://twitter.com/liallal_develop/status/131...   False       NaN   \n",
       "34149  https://twitter.com/liallal_develop/status/131...   False       NaN   \n",
       "\n",
       "       video  thumbnail                                           reply_to  \\\n",
       "34138      0        NaN                                                 []   \n",
       "34146      0        NaN                                                 []   \n",
       "34147      0        NaN  [{'screen_name': 'issahamd1n', 'name': 'Issa H...   \n",
       "34148      0        NaN                                                 []   \n",
       "34149      0        NaN                                                 []   \n",
       "\n",
       "                                                    text lang  \n",
       "34138  هل تعلم أن الأسماك 🐟🐠 تعد واحدة من السلع الغذا...   ar  \n",
       "34146  عمليات الإغلاق المترافقة مع انتشار فيروس كوفيد...   ar  \n",
       "34147     الاطباء هم الأكثر عرضةً للهجرة أثناء أزمة ا...   ar  \n",
       "34148  I will do organic youtube video  spotify music...   ar  \n",
       "34149  I will do organic promotion youtube video     ...   ar  \n",
       "\n",
       "[5 rows x 28 columns]"
      ]
     },
     "execution_count": 5,
     "metadata": {},
     "output_type": "execute_result"
    }
   ],
   "source": [
    "ar_df.head()"
   ]
  },
  {
   "cell_type": "code",
   "execution_count": 41,
   "id": "elegant-science",
   "metadata": {},
   "outputs": [],
   "source": [
    "en_df.filtered = en_df.filtered.apply(lambda x: ' '.join(x))"
   ]
  },
  {
   "cell_type": "code",
   "execution_count": 44,
   "id": "diverse-bench",
   "metadata": {},
   "outputs": [
    {
     "data": {
      "text/plain": [
       "119134    She Khaleda Begum age years saved Rs lakh perf...\n",
       "119140    ImranKhanPTI ClarenceHouse BorisJohnson koi re...\n",
       "119128                                 sylver Corona ye Ref\n",
       "119111    The new music post quarantine finna repetitive...\n",
       "119113    My dad high risk Corona bc health amp I ’ work...\n",
       "Name: filtered, dtype: object"
      ]
     },
     "execution_count": 44,
     "metadata": {},
     "output_type": "execute_result"
    }
   ],
   "source": [
    "en_df.filtered.head()"
   ]
  },
  {
   "cell_type": "code",
   "execution_count": 6,
   "id": "thick-capitol",
   "metadata": {},
   "outputs": [
    {
     "data": {
      "text/plain": [
       "Index(['id', 'conversation_id', 'created_at', 'date', 'time', 'timezone',\n",
       "       'user_id', 'username', 'name', 'place', 'tweet', 'language', 'mentions',\n",
       "       'urls', 'photos', 'replies_count', 'retweets_count', 'likes_count',\n",
       "       'hashtags', 'cashtags', 'link', 'retweet', 'quote_url', 'video',\n",
       "       'thumbnail', 'reply_to', 'text', 'lang'],\n",
       "      dtype='object')"
      ]
     },
     "execution_count": 6,
     "metadata": {},
     "output_type": "execute_result"
    }
   ],
   "source": [
    "ar_df.columns"
   ]
  },
  {
   "cell_type": "code",
   "execution_count": 7,
   "id": "annoying-front",
   "metadata": {},
   "outputs": [
    {
     "data": {
      "text/plain": [
       "ar    288876\n",
       "Name: lang, dtype: int64"
      ]
     },
     "execution_count": 7,
     "metadata": {},
     "output_type": "execute_result"
    }
   ],
   "source": [
    "ar_df.lang.value_counts()"
   ]
  },
  {
   "cell_type": "code",
   "execution_count": 9,
   "id": "silent-freight",
   "metadata": {},
   "outputs": [],
   "source": [
    "ar_dtm = pickle.load(open(\"tfidf_ar_sparse_3mo.pkl\", 'rb'))"
   ]
  },
  {
   "cell_type": "code",
   "execution_count": 8,
   "id": "equal-blues",
   "metadata": {},
   "outputs": [],
   "source": [
    "ar_vectorizer = pickle.load(open(\"ar_vectorizer_3mo.pkl\", 'rb'))"
   ]
  },
  {
   "cell_type": "code",
   "execution_count": 10,
   "id": "supported-income",
   "metadata": {},
   "outputs": [],
   "source": [
    "words = list(np.asarray(ar_vectorizer.get_feature_names()))"
   ]
  },
  {
   "cell_type": "code",
   "execution_count": 12,
   "id": "reported-fellowship",
   "metadata": {},
   "outputs": [
    {
     "data": {
      "text/plain": [
       "<corextopic.corextopic.Corex at 0x7fe940ce7760>"
      ]
     },
     "execution_count": 12,
     "metadata": {},
     "output_type": "execute_result"
    }
   ],
   "source": [
    "topic_model = ct.Corex(n_hidden=30, words=words, seed=55)\n",
    "topic_model.fit(ar_dtm, words=words, docs=ar_df.tweet)"
   ]
  },
  {
   "cell_type": "markdown",
   "id": "special-trail",
   "metadata": {},
   "source": [
    "### What Are My Topics?"
   ]
  },
  {
   "cell_type": "code",
   "execution_count": 13,
   "id": "visible-springfield",
   "metadata": {},
   "outputs": [
    {
     "name": "stdout",
     "output_type": "stream",
     "text": [
      "0: ال,co,الله,اللي,ات,20,مش,لقاح,عشان,19\n",
      "1: حال,وفا,تسجيل,جديد,إصاب,24,إجمالي,ساع,شفاء,ماضي\n",
      "2: اخت,the,شقيق,حافي,بيوإنتك,ممزق,بروفسور,أوغور,صغرى,ازياء\n",
      "3: مملكه,وطني_أمن_للإنسانية,aou_ksab,مجان,أوائل_الإمارات,ماسبق,أنشطه,مبادر,تبرع,منص\n",
      "4: عبل,عنتر,الفاينل_عن_بعد,جامعه_العين,aau_uae,3meed_news,uae_barq,امه_2020,امة_2020,الرشايدة_نيوز\n",
      "5: صباح_الخير,النصر_الباطن_الدوري,الأقتران_العظيم,سناب,الشتاء_حولك,الفرق_بين_البدو_والحضر,مساء_الخير,السلالة_الجديدة,المشروب_الرسمي_للشتاء,مقاطعه_المنتجات_الفرنسيه55\n",
      "6: يدينك,زندق,صامته,تعقم,مفاتيح,مادم,نتقيد,خوفا,فوا,نسق\n",
      "7: يماني,ناصر,إمام,مهدي,إخوان,الصحة_النفسية,غانم_الحساني,l0tzp8mzep,1441,هزل\n",
      "8: الوقائع,الوقائع_الاخبارية,alwakaai,وقائع,الاردن,احتياطات_موجه_كورونا,اتحاد_مغردي_السودان,مدونه_الاتحاد,sudtwittun,حظر_تجول\n",
      "9: سيتي,فولهام,مانشستر,إيفرتون,توتنهام,مبارا,تأجيل,تيليس,أليكس,ايفرتون\n",
      "10: صحتك_أهم,الاسر_المنتجة,افكار_تجارية,w81y3lsayp,طنج,sahtak,لاتتردد,أوكسيجين,طوفار,صوير\n",
      "11: distancing,social,أجتماعي,أسلم,نقانق,شطائر,هودي,قاطعوهم,تتساهل,الحكاية\n",
      "12: أنفاس,حمراء,متفرغ,حبس,لايعمل,باإمكاننا,لعائل,تتحرك,مفصول,متعفف\n",
      "13: نيوموكوكال,عززصحتك,iranalhurra,ييكم,سلاامو,تدبر_آية,كورونا_وآيات,وشكراجزيلا,في_معية_الله,إنمارسات\n",
      "14: نخوه_لاجل_شهداء_كورونا,نخوة_لاجل_شهداء_كورونا,yazan_almgableh,ellena_hkj,drsamkari,ehadaddin,الجيش_الابيض,alkhwaldh_ali,باركليز,farisalahmad2\n",
      "15: أزيلال,يرتسم,azilalalhora,اكتروني,ليبراسيون,azilal24,ازيلال,71639563,3591631,afli6ywqjc\n",
      "16: تتاح,ميديكاجو,medicago,4roo11,مصادر_نيوز,onibvv3wcu,71sirbochy,yyapegeocx,qbgstlvm09,zethc4pwkt\n",
      "17: ارتبط,ياعديم,شغف,منطفئ,يامنطفئ,عديم,s5g,samarabdelham14,reham_gr_,براني\n",
      "18: غرد_بصورة,أولمبياد_طوكيو,الحرية_لجمال_حداد,الحرية_للصحفي_جمال_حداد,لا_لحبس_الصحفيين,xywydz00nu,الأسماء_الحسنى,فادعوه,باخ,تماس\n",
      "19: دوناروما,غابي,monzerjr00,هاوجي,snooma5,glory19mu,الامتحانات_اونلاين_افضل,تعطيل_الامتحانات,صحة_ولادنا_اهم,ريبيتش\n",
      "20: قرقنة,g3zhgie3rv,نعني,b5eyyby7of,zcqyvbwflu,1t1j29rw0i,whmj07gp6k,zly50vl9a9,4qnl0l8pud,43gxmit0q5\n",
      "21: اسواق_آسيا,اسواق_أوروبا,ناهيتان,نانديز,w24gguorbi,4bfysliuf8,jakgjae198,km7dcfgqfz,ukxox7prgz,jcajdiap1f\n",
      "22: مسدد,حياتنا_أهم,qslub2k3jt,تؤرق,qmafjg2tck,ylslpm7oeb,wearadamnmask,قرارالحكومة,بلادبسبب,wqqnqndyi2\n",
      "23: للخبر_بقية,waeltamimi,مبضع,يقيني,مصائر,ibrahimhadi10,youmyattaleb0,انهدم,kbinnassar,ازقف\n",
      "24: إنفوغرافيك,rgg8y5qmpp,hew8kdcgrz,اخوويا,gxlpxy9ahp,bctmmmmnyy,ميدتيرررم,يفتشي,gq4x8ow0zw,3yp30y2soi\n",
      "25: الأقل,لمدة,zbcrssusgsتكرر,1dkkiqq9mo,clr3binvfp,yzzmssvjfd,bpmuexouh4,vacunacovid19,hqxaxejkya,vlbhquifms\n",
      "26: تليكرام,قناة_الغدير_الخبر_في_لحظات,7zvutn46ul,gwfkpafgfc,i_gbrm,0vmsqeya5z,حقيقة_مؤلمة,rqgpper708,n3wj30jm9l,gh_zellamsee\n",
      "27: البشارة,السيرام_تقتل_العراقيين,سيرام,tpekwxitkb,linda40489691,gcpjrxxg9e,0dyaihzorh,a2e7noevci,y60qebxetn,aisiqkkspl\n",
      "28: لا_للقاح_كورونا,shadihelal,لا_للقاحات,معتقلين_مصر_في_خطر,liljhehnsx,ws0uf7mvie,2gtzdackfv,9zpqpvcdco,nrc8o3ufby,mjj6tpf6tm\n",
      "29: 47tgzmajhb,حصان_طروادة,استرازينيكاوأكسفورد,فالكونز,uuv6mscich,موصلاح,pljy3y20i3,1hhhhhq2mj,ceherkzv9b,الباكستاني\n"
     ]
    }
   ],
   "source": [
    "topics = topic_model.get_topics()\n",
    "for n, topic in enumerate(topics):\n",
    "    topic_words,_ = zip(*topic)\n",
    "    print('{}: '.format(n) + ','.join(topic_words))"
   ]
  },
  {
   "cell_type": "markdown",
   "id": "positive-offense",
   "metadata": {},
   "source": [
    "### Top Tweets Associated With A Topic"
   ]
  },
  {
   "cell_type": "code",
   "execution_count": null,
   "id": "piano-error",
   "metadata": {},
   "outputs": [],
   "source": [
    "topic_model.get_top_docs(topic=4, n_docs=2)"
   ]
  },
  {
   "cell_type": "markdown",
   "id": "round-premiere",
   "metadata": {},
   "source": [
    "### Which Topics Has CorEx Assigned Each Document?"
   ]
  },
  {
   "cell_type": "code",
   "execution_count": 16,
   "id": "fifteen-tonight",
   "metadata": {},
   "outputs": [],
   "source": [
    "anchor_words = [['سارين'], \n",
    "                ['أعشاب', 'ثوم', 'ليمون', 'شفاء','فيتامين'], \n",
    "                ['اختراع'], \n",
    "                ['ناموس', 'بعوض'], \n",
    "                ['بيل', 'مشروع',' جيتس'], \n",
    "                ['كهرومغناطيسية'], \n",
    "                ['5g','ID','2020'], \n",
    "                ['نباتي'], \n",
    "                ['أنفلونزا'], \n",
    "                ['بيولوجي', 'حرب']]"
   ]
  },
  {
   "cell_type": "code",
   "execution_count": 36,
   "id": "thirty-deputy",
   "metadata": {},
   "outputs": [],
   "source": [
    "anchors_combo = ['سارين', \n",
    "                'أعشاب', 'ثوم', 'ليمون', 'شفاء','فيتامين', \n",
    "                'اختراع', \n",
    "                'ناموس', 'بعوض', \n",
    "                'بيل', 'مشروع',' جيتس', \n",
    "                'كهرومغناطيسية', \n",
    "                ' 5g ','ID','2020', \n",
    "                'نباتي', \n",
    "                'أنفلونزا', \n",
    "                'بيولوجي', 'حرب']"
   ]
  },
  {
   "cell_type": "code",
   "execution_count": 37,
   "id": "expressed-distributor",
   "metadata": {},
   "outputs": [
    {
     "name": "stdout",
     "output_type": "stream",
     "text": [
      "WARNING: Anchor word not in word column labels provided to CorEx: سارين\n",
      "WARNING: Anchor word not in word column labels provided to CorEx:  جيتس\n",
      "WARNING: Anchor word not in word column labels provided to CorEx:  5g \n",
      "WARNING: Anchor word not in word column labels provided to CorEx: ID\n"
     ]
    },
    {
     "data": {
      "text/plain": [
       "<corextopic.corextopic.Corex at 0x7fe937cbca90>"
      ]
     },
     "execution_count": 37,
     "metadata": {},
     "output_type": "execute_result"
    }
   ],
   "source": [
    "an_ar_topic_model = ct.Corex(n_hidden=30, max_iter=500, words=words, seed=55)\n",
    "an_ar_topic_model.fit(ar_dtm, words=words, anchors=anchors_combo, anchor_strength=10, docs=ar_df.tweet)"
   ]
  },
  {
   "cell_type": "code",
   "execution_count": 38,
   "id": "korean-institute",
   "metadata": {},
   "outputs": [
    {
     "name": "stdout",
     "output_type": "stream",
     "text": [
      "0: أعشاب,صحيفة_الشرق,إنفوجرافيك,مجلة_الفجيرة,fujmagazine,fujairah_magazine,المملكة,نعود_بحذر,الفجيرة,يحظر\n",
      "1: ثوم,تجاري,مستوفي,محل,مخالف,تدابير,منشآت,احترازي,منشأ,تنبيه\n",
      "2: ليمون,الرشايدة_نيوز,امه_2020,امة_2020,kuwait,لا_للأختبارات_الورقيه_كورونا_قاتل,عيالنا_مو_لعبه_بإيدكم,elkhabar,إلكتر,moekuwait\n",
      "3: شفاء,حال,تسجيل,إجمالي,جديد,24,ساع,وفا,إصاب,ماضي\n",
      "4: فيتامين,اتحاد_مغردي_السودان,مدونه_الاتحاد,sudtwittun,لميس_الحديدي,كلمة_أخيرة,احتياطات_موجه_كورونا,lameesh,نقص,on\n",
      "5: اختراع,حماي,ينته,البس_كمامة,كحولي,wearamask,مطهر,صابون,إستمرار,حافظ\n",
      "6: رقمي,جذور,تجلى,سناب,صباح_الخير,النصر_الباطن_الدوري,تحتي,الأقتران_العظيم,السلالة_الجديدة,متين\n",
      "7: بعوض,جهاز_التخطيط_والاحصاء,خليك_على_بال,أشطاري24,yoursafetyismysafety,إضغط,بشام,دجمبر,مفحوص,w81y3lsayp\n",
      "8: بيل,غيتس,issh75syvh,قرصن,منبثق,جيتس,فيس,بوك,مايكروسوفت,منشور\n",
      "9: مشروع,أوائل_الإمارات,وسم,نموذج,رشح,forsan_uae,أرشح,الصحة_النفسية,غانم_الحساني,شخصي\n",
      "10: كهرومغناطيسية,احترار,غرد_بصورة,اسواق_آسيا,ترفد,كاوس,فنلندي,bualiben,لجم,579ku\n",
      "11: 2020,يماني,تاريخ,11,ناصر,29,bayan,إمام,إحصائي,10\n",
      "12: الاردن,الوقائع,الوقائع_الاخبارية,alwakaai,وقائع,نباتي,عكاظ,تطبيق_عكاظ,ان_تكون_اولا,حظر_تجول\n",
      "13: أنفلونزا,عززصحتك,موسمي,لفاوتشي,سئم,إصغاء,أغبياء,نيوموكوكال,نائي,رئوي\n",
      "14: يتلقى,بيولوجي,سمو,جرع,ولي_العهد,أولى,أمير,عهد,ولي,محمد_بن_سلمان\n",
      "15: حرب,سلطان_المزيد,اللهم,السنه,جذام,برص,داعم_للخير,أسقام,جنون,التوحيد\n",
      "16: px86nfsm8r,fkytqaxuya,xncw2rmepn,ezpt2qvxqm,1umwaqse4e,idmqrijvgd,v1dhia1t5m,ذكتور,qknfyjp9lc,9zy6kxutun\n",
      "17: نخوه_لاجل_شهداء_كورونا,نخوة_لاجل_شهداء_كورونا,yazan_almgableh,ellena_hkj,drsamkari,ehadaddin,الجيش_الابيض,alkhwaldh_ali,farisalahmad2,شلولو\n",
      "18: tayyar_org,tayyar,org,ارجوكي,liljhehnsx,ws0uf7mvie,uagwmttpp9,qwl3esqbdg,kbinnassar,انهدم\n",
      "19: ييكم,سلاامو,غرافيتي,مستوحى,تضربان,yahesham,sh_azaaa,vtznqkqzs7,bpfiba2rkb,crhaqmjizv\n",
      "20: سيتي,فولهام,مانشستر,إيفرتون,توتنهام,مبارا,تأجيل,تيليس,ايفرتون,أليكس\n",
      "21: مجلس_كوفيد_19,hokasha72,يالمبي,ajlonisultan,gwfkpafgfc,حقيقة_مؤلمة,cluster,cluster1riyadh,هوشه_بنات,e1\n",
      "22: إصابتان,جديدتان,قناة_الغدير_الخبر_في_لحظات,7zvutn46ul,تليكرام,كفرعبيدا,فيليبي,كفرحزير,فيروس_شاباري,pa3mzjbs1z\n",
      "23: ال,co,الله,اللي,ات,20,مش,فيروس,عشان,لقاح\n",
      "24: سيرام,السيرام_تقتل_العراقيين,mjj6tpf6tm,nrc8o3ufby,linda40489691,qd9ox5qlgs,ueq3voophr,k0qmf4kegq,4adwlbdwtc,hussin1434\n",
      "25: استرازينيكاوأكسفورد,حصان_طروادة,ظروري,omdwqjgxl3,bdnzastrpw,5xeoohblpm,jdyq8onz8t,3yp30y2soi,gq4x8ow0zw,ensansharif\n",
      "26: asala_7mad,5ilhkbvyna,7bnxnehvsi,fjbc2krgu1,20ikptxaxg,5twbjfvnh9,4m6su9t9gz,lvw6taiqdw,5txrnt5hv5,سعيد_الناصيري\n",
      "27: glory19mu,al22988,chehbi,menusj9shay9bjd,اخوويا,meee66mee,تستعتعش,نطشر,ميدتيرررم,ayat__89\n",
      "28: عنقريب_نيوز,السودان_وصراع_المناصب,monzerjr00,snooma5,كورونا_الموجه_الثانية,الصادق_المهدي,للخبر_بقية,waeltamimi,سكيكدة,إتاحة_فرصة_لراسبى_دفعة_كورونا\n",
      "29: لا_للقاح_كورونا,لا_للقاحات,maramhusseinn,اهووو,knpr8ma666,meoguassyh,هيهاجم,2laamhmdsamer,كونغ_فلو,فايروس_ووهان\n"
     ]
    }
   ],
   "source": [
    "an_topics = an_ar_topic_model.get_topics()\n",
    "for n, topic in enumerate(an_topics):\n",
    "    topic_words,_ = zip(*an_ar_topic_model.get_topics(topic=n))\n",
    "    print('{}: '.format(n) + ','.join(topic_words))"
   ]
  },
  {
   "cell_type": "code",
   "execution_count": 21,
   "id": "married-coalition",
   "metadata": {},
   "outputs": [
    {
     "name": "stderr",
     "output_type": "stream",
     "text": [
      "[nltk_data] Downloading package stopwords to /Users/jess/nltk_data...\n",
      "[nltk_data]   Package stopwords is already up-to-date!\n"
     ]
    },
    {
     "data": {
      "text/plain": [
       "True"
      ]
     },
     "execution_count": 21,
     "metadata": {},
     "output_type": "execute_result"
    }
   ],
   "source": [
    "import nltk\n",
    "from nltk.corpus import stopwords\n",
    "nltk.download('stopwords')"
   ]
  },
  {
   "cell_type": "code",
   "execution_count": 22,
   "id": "prepared-football",
   "metadata": {},
   "outputs": [],
   "source": [
    "stop_words_std = stopwords.words('arabic')\n",
    "stopword_url = \"/Users/jess/workspace/Metis_Projects/Project_5/camel_tools/arabic-stop-words/list.txt\""
   ]
  },
  {
   "cell_type": "code",
   "execution_count": 23,
   "id": "objective-perry",
   "metadata": {},
   "outputs": [],
   "source": [
    "def get_stopwords(file_location):\n",
    "    lines = []\n",
    "    file = open(file_location)\n",
    "    lines = file.read().split('\\n')\n",
    "        \n",
    "    file.close()\n",
    "    return lines\n",
    "\n",
    "stopwords_long = get_stopwords(stopword_url)"
   ]
  },
  {
   "cell_type": "code",
   "execution_count": 24,
   "id": "refined-teach",
   "metadata": {},
   "outputs": [],
   "source": [
    "my_stop_words = set(stop_words_std + stopwords_long + ['http', 'https'])"
   ]
  },
  {
   "cell_type": "code",
   "execution_count": 28,
   "id": "saved-moisture",
   "metadata": {},
   "outputs": [],
   "source": [
    "cv = CountVectorizer(lowercase=True,\n",
    "                     stop_words=my_stop_words,\n",
    "                     max_df = 0.8,\n",
    "                     min_df = 2,\n",
    "                     ngram_range=(1,2)\n",
    "                    )"
   ]
  },
  {
   "cell_type": "code",
   "execution_count": 29,
   "id": "revised-intensity",
   "metadata": {},
   "outputs": [],
   "source": [
    "corex_vector = cv.fit_transform(ar_df.tweet)"
   ]
  },
  {
   "cell_type": "code",
   "execution_count": 34,
   "id": "designed-community",
   "metadata": {},
   "outputs": [
    {
     "name": "stdout",
     "output_type": "stream",
     "text": [
      "WARNING: Anchor word not in word column labels provided to CorEx: سارين\n",
      "WARNING: Anchor word not in word column labels provided to CorEx: ناموس\n",
      "WARNING: Anchor word not in word column labels provided to CorEx:  جيتس\n",
      "WARNING: Anchor word not in word column labels provided to CorEx: ID\n",
      "WARNING: Anchor word not in word column labels provided to CorEx: نباتي\n"
     ]
    },
    {
     "data": {
      "text/plain": [
       "<corextopic.corextopic.Corex at 0x7fe937cbc250>"
      ]
     },
     "execution_count": 34,
     "metadata": {},
     "output_type": "execute_result"
    }
   ],
   "source": [
    "cv_topic_model = ct.Corex(n_hidden=30, max_iter=3000, seed=55)\n",
    "cv_topic_model.fit(corex_vector, anchors=anchor_words, anchor_strength=10, words=cv.get_feature_names())"
   ]
  },
  {
   "cell_type": "code",
   "execution_count": 33,
   "id": "hawaiian-packet",
   "metadata": {},
   "outputs": [
    {
     "name": "stdout",
     "output_type": "stream",
     "text": [
      "0: شفاء,جديدة,إصابة,إصابة جديدة,حالة,وفاة,جديدة بفيروس,تسجيل,بفيروس كورونا,بفيروس\n",
      "1: اختراع,المكلفة,المكلفة ببحث,ببحث,ببحث آلية,العليا المكلفة,آلية التعامل,التطورات الناتجة,التعامل التطورات,الناتجة\n",
      "2: أوغور,شاهين,أوغور شاهين,مؤسس شركة,شاهين مؤسس,مؤسس,حافي القدمين,بيوإنتك,حافي,شركة بيوإنتك\n",
      "3: مشروع,بيل,المجتمع,يخضعون للحجر,للحجر الصحي,الخارج يخضعون,يخضعون,محلية مسجلة,مسجلة أفراد,الأخيرة بينها\n",
      "4: جائحة,جائحة كوفيد,الاحترازية,الإجراءات,الصحية,جائحة كورونا,للحد,القطاع,الوقائية,التعليم\n",
      "5: 2020,11,11 2020,محمد اليماني,اليماني,al,الإمام,ناصر محمد,menafn al,2020 co\n",
      "6: أنفلونزا,فايروس حل,المتحدة وكادت,وكادت تنهار,حل بالعراق,تنهار بفعل,بالعراق امريكا_تنتفض,وكادت,حل حل,بفعل فايروس\n",
      "7: حرب,بالتدابير الاحترازية,بالتدابير,المستوفية,الالتزام بالتدابير,بيولوجي,لعدم الالتزام,عالية الجودة,اقتصادية دبي,محلا\n",
      "8: تطبيق,عبر تطبيق,نبض,nabdapp,للجميع,تطبيق نبض,nabdapp co,نبض nabdapp,مركز,مساعدات\n",
      "9: لبنان,coronavirus,غزة,coronavirus co,مصر,إيران,لمدة,قطاع غزة,العراق,قطاع\n",
      "10: العالم,الفيروس,الدول,سلالة,الوباء,دول,يتم,دول العالم,يجب,الج\n",
      "11: السعودية,المملكة,إصابته,عبد,عبدالله,الرياض,الحمد,ولله الحمد,ولله,إصابته بفيروس\n",
      "12: كوفيد_20,انا,عشان,والله,مو,كورونا_الجديد,السلالة_الجديدة,عندي,يارب,انت\n",
      "13: كوريا,الطلاب,كوفيد 25,الجنوبية,الشريف,التباعد الاجتماعي,كوريا الجنوبية,التباعد,عملت,الطلبة\n",
      "14: قطر,ارتداء,سلامتك_هي_سلامتي,ارتداء الكمامة,والصابون,بالماء والصابون,مسافة,الكمامة,بالماء,covid\n",
      "15: الصحة العالمية,العالمية,اللهم,لله,الحمد لله,عنا,رب,البلاء,المسلمين,العالمين\n",
      "16: فحص,بدون,فحص كورونا,الحجر,بإذن,بإذن الله,الجميع,الحجر الصحي,فحص كوفيد,فترة\n",
      "17: وباء,العام,السلالة,الرابط,السلالة الجديدة,النفط,دراسة,الاقتصاد,عبر,معدل\n",
      "18: مش,ده,شاء,شاء الله,دي,عنده,الناس,ربنا,كنت,حد\n",
      "19: الوزراء,رئيس,مجلس,مجلس الوزراء,كورونا_المغرب,covid19 كورونا_المغرب,رئيس الوزراء,الله تعالى,تعالى,سلبية\n",
      "20: لقاح,لقاح كورونا,لقاح كوفيد,فايزر,الجرعة,يتلقى,الجرعة الأولى,الأولى لقاح,شركة,يتلقى الجرعة\n",
      "21: وزير,وزير الصحة,الأولى,سمو,للقاح,ولي_العهد,للقاح كوفيد,العهد,ولي العهد,ولي\n",
      "22: اللقاح,التطعيم,بنسبة,المرحلة,كبار,السن,السلام عليكم,فعال,بلقاح,السلام\n",
      "23: الله,النصر,بفايروس,بفايروس كورونا,الدوري,مباراة,الهلال,لاعبين,القدم,نادي\n",
      "24: تفشي,انتشار,أزمة,الإمارات,أزمة كورونا,لمواجهة,دبي,تداعيات,للحد انتشار,الموجة\n",
      "25: اللي,شي,ازمة,لان,ناس,ممكن,ازمة كورونا,لازم,فيهم,ليش\n",
      "26: فيروس,فيروس كورونا,المستجد,كورونا المستجد,لفيروس,إصابات,لفيروس كورونا,فيروس كوفيد,الإصابة,الإصابات\n",
      "27: كوفيد 19,19,كوفيد,19 co,كورونا,كورونا كوفيد,كوفيد_19,١٩,كوفيد ١٩,بـ كوفيد\n",
      "28: منظمة,منظمة الصحة,مرة,لأول,لأول مرة,المضادة,الموسمية,ينتشر,الاردن كورونا,سيتي\n",
      "29: co,٢٠,كوفيد 20,كوفيد ٢٠,20,يعني,كورونا co,ايه,طلع,يستر\n"
     ]
    }
   ],
   "source": [
    "cv_topics = cv_topic_model.get_topics()\n",
    "for n, topic in enumerate(cv_topics):\n",
    "    topic_words,_ = zip(*topic)\n",
    "    print('{}: '.format(n) + ','.join(topic_words))"
   ]
  },
  {
   "cell_type": "code",
   "execution_count": 49,
   "id": "inner-credit",
   "metadata": {},
   "outputs": [],
   "source": [
    "w2v_anchors = [['plandemic', 'scamdemic', 'fearmongering', 'coronavirushoax', 'covidhoax', 'fabricated', 'smokescreen']]"
   ]
  },
  {
   "cell_type": "code",
   "execution_count": null,
   "id": "pediatric-ghana",
   "metadata": {},
   "outputs": [],
   "source": []
  },
  {
   "cell_type": "code",
   "execution_count": null,
   "id": "fitting-diagram",
   "metadata": {},
   "outputs": [],
   "source": []
  },
  {
   "cell_type": "code",
   "execution_count": null,
   "id": "invisible-robert",
   "metadata": {},
   "outputs": [],
   "source": []
  },
  {
   "cell_type": "code",
   "execution_count": null,
   "id": "hispanic-baking",
   "metadata": {},
   "outputs": [],
   "source": []
  },
  {
   "cell_type": "code",
   "execution_count": null,
   "id": "sapphire-controversy",
   "metadata": {},
   "outputs": [],
   "source": []
  },
  {
   "cell_type": "code",
   "execution_count": 32,
   "id": "lovely-noise",
   "metadata": {},
   "outputs": [
    {
     "name": "stderr",
     "output_type": "stream",
     "text": [
      "[nltk_data] Downloading package stopwords to /Users/jess/nltk_data...\n",
      "[nltk_data]   Package stopwords is already up-to-date!\n"
     ]
    },
    {
     "data": {
      "text/plain": [
       "True"
      ]
     },
     "execution_count": 32,
     "metadata": {},
     "output_type": "execute_result"
    }
   ],
   "source": [
    "import nltk\n",
    "from nltk.corpus import stopwords\n",
    "nltk.download('stopwords')"
   ]
  },
  {
   "cell_type": "code",
   "execution_count": 33,
   "id": "lesser-preliminary",
   "metadata": {},
   "outputs": [],
   "source": [
    "stop_words_standard = stopwords.words('english')\n",
    "stop_words_long = open('/Users/jess/workspace/Metis_Projects/Project_4/stopwords/stopwords_long_ranks_nl.txt', 'r', encoding='utf-8').read().split('\\n')\n",
    "stop = set(stop_words_standard + stop_words_long + ['https' , 'http'])"
   ]
  },
  {
   "cell_type": "code",
   "execution_count": 37,
   "id": "considerable-update",
   "metadata": {},
   "outputs": [
    {
     "name": "stdout",
     "output_type": "stream",
     "text": [
      "[['she', 'khaleda', 'begum', 'age', 'years', 'saved', 'rs', 'lakh', 'perform', 'hajj', 'donated', 'corona', 'charity', '❤'], ['imrankhanpti', 'clarencehouse', 'borisjohnson', 'koi', 'relief', 'nhi', 'mila', 'relief', 'granted', 'likha', 'ata', 'hy', 'dfa', 'complaint', 'ki', 'citizen', 'portal', 'complaint', 'cell', 'ki', 'post', 'office', 'calls', 'ki', 'kia', 'faida', 'hua', 'apka', 'itny', 'pese', 'lgany', 'ka', 'agr', 'aj', 'doctr', 'ali', 'hassan', 'awan', 'ko', 'mri', 'complaint', 'koi', 'saza', 'di', 'gai', 'hti', 'relief', 'dia', 'hta', 'corona'], ['sylver', 'corona', 'ye', 'ref'], ['the', 'new', 'music', 'post', 'quarantine', 'finna', 'repetitive', 'bet', '’', 'hear', 'countless', 'times', 'she', 'loner', 'loan', 'uh', 'i', 'kill', 'pussy', 'corona', 'the', 'rap', 'game', 'mine', 'i', 'murder', 'corona', 'columbine', '🥴🥴🥴'], ['my', 'dad', 'high', 'risk', 'corona', 'bc', 'health', 'amp', 'i', '’', 'working', 'amp', 'high', 'risk', 'transferring', 'i', '’', 'visit', 'parents', 'weeks', 'my', 'adorable', 'mom', 'dropped', 'groceries', 'front', 'door', 'i', '’', 'cracking', 'individual', 'slices', 'cheese', 'mayo']]\n"
     ]
    }
   ],
   "source": [
    "texts = [[word.lower() for word in tweet if word not in stop] for tweet in en_df.tokens.values]\n",
    "print(texts[0:5])"
   ]
  },
  {
   "cell_type": "code",
   "execution_count": null,
   "id": "fitting-triumph",
   "metadata": {},
   "outputs": [],
   "source": []
  }
 ],
 "metadata": {
  "kernelspec": {
   "display_name": "Python [conda env:metis] *",
   "language": "python",
   "name": "conda-env-metis-py"
  },
  "language_info": {
   "codemirror_mode": {
    "name": "ipython",
    "version": 3
   },
   "file_extension": ".py",
   "mimetype": "text/x-python",
   "name": "python",
   "nbconvert_exporter": "python",
   "pygments_lexer": "ipython3",
   "version": "3.8.6"
  }
 },
 "nbformat": 4,
 "nbformat_minor": 5
}
