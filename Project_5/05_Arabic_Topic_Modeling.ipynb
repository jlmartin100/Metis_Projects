{
 "cells": [
  {
   "cell_type": "code",
   "execution_count": 1,
   "id": "treated-methodology",
   "metadata": {},
   "outputs": [],
   "source": [
    "import pandas as pd\n",
    "import numpy as np\n",
    "import pickle\n",
    "\n",
    "from sklearn.decomposition import TruncatedSVD\n",
    "from sklearn.decomposition import NMF\n",
    "from sklearn.metrics.pairwise import cosine_similarity"
   ]
  },
  {
   "cell_type": "code",
   "execution_count": 5,
   "id": "critical-exchange",
   "metadata": {},
   "outputs": [],
   "source": [
    "ar_dtm = pickle.load(open(\"tfidf1_sparse.pkl\", 'rb'))"
   ]
  },
  {
   "cell_type": "code",
   "execution_count": 6,
   "id": "collect-screen",
   "metadata": {},
   "outputs": [],
   "source": [
    "ar_vectorizer = pickle.load(open(\"ar_vectorizer.pkl\", 'rb'))"
   ]
  },
  {
   "cell_type": "code",
   "execution_count": 7,
   "id": "sexual-adelaide",
   "metadata": {},
   "outputs": [
    {
     "name": "stderr",
     "output_type": "stream",
     "text": [
      "/Users/jess/anaconda3/envs/metis/lib/python3.8/site-packages/sklearn/decomposition/_nmf.py:312: FutureWarning: The 'init' value, when 'init=None' and n_components is less than n_samples and n_features, will be changed from 'nndsvd' to 'nndsvda' in 1.1 (renaming of 0.26).\n",
      "  warnings.warn((\"The 'init' value, when 'init=None' and \"\n"
     ]
    },
    {
     "data": {
      "text/plain": [
       "(1245116, 10)"
      ]
     },
     "execution_count": 7,
     "metadata": {},
     "output_type": "execute_result"
    }
   ],
   "source": [
    "ar_nmf_model = NMF(10)\n",
    "ar_topics = ar_nmf_model.fit_transform(ar_dtm)\n",
    "ar_topics.shape"
   ]
  },
  {
   "cell_type": "code",
   "execution_count": 8,
   "id": "acting-arrangement",
   "metadata": {},
   "outputs": [
    {
     "name": "stdout",
     "output_type": "stream",
     "text": [
      "0 جديدة إصابة بفيروس وفاة تسجيل تسجل كورونا بـ عاجل اصابة وفيات إصابات حالات مصر ليرتفع \n",
      "1 وللمساهمة بمطهر كحولي يديكم مجتمعكم لحمايتكم بإستمرار حافظوا البس والصابون بالماء وحماية ارتداء كمامة الحد \n",
      "2 كورونا فيروس الجديد خليك المستجد بالبيت البيت البيان مصر الله القارئ دائما covid عمان الكويت \n",
      "3 كوفيد الجديد خليك البيت يا قطر عمان بالبيت المستجد covid مرض كرونا فيروس كلنا حظر \n",
      "4 حالة وتسجيل إجمالي الحالات تسجيل جديدة ليصبح حالات تعلن تعافي رحمهم المتعافية ولله الحمد وفيات \n",
      "5 الصحة وزارة العالمية حالات منظمة عاجل تعلن قطر تسجيل فيروس السعودية وزير العامة أعلنت الكويت \n",
      "6 لقاح الله الجرعة الأولى يتلقى جرعة ولي الحرمين العهد خادم الشريفين اللقاح فايزر سمو حفظه \n",
      "7 https بـ العالم فيروس إصابات الإمارات جائحة أكثر آخر المتحدة وفيات تتجاوز مستجدات لـ عبر \n",
      "8 ساعة الماضية شفاء المتعافين إصابة وإجمالي الـ الكويت الكويتية حالة المغرب https الأخيرة جرعة بالمغرب \n",
      "9 ناجح الكل الفصل تلقائي انهاء بقدم النجاح فاينل اضمن كورونا إنهاء mohegovjo أضمن نجاح omarrazzaz \n"
     ]
    }
   ],
   "source": [
    "n_top_words = 15\n",
    "ar_feature_names = ar_vectorizer.get_feature_names()\n",
    "\n",
    "for i, topic_vec in enumerate(ar_nmf_model.components_):\n",
    "    print(i, end= ' ')\n",
    "    for fid in topic_vec.argsort()[-1:-n_top_words-1:-1]:\n",
    "        print(ar_feature_names[fid], end=' ')\n",
    "    print()"
   ]
  },
  {
   "cell_type": "code",
   "execution_count": 10,
   "id": "wrong-charity",
   "metadata": {},
   "outputs": [
    {
     "data": {
      "text/plain": [
       "[['جديدة', 'إصابة', 'بفيروس', 'وفاة', 'تسجيل', 'تسجل', 'كورونا', 'بـ'],\n",
       " ['وللمساهمة',\n",
       "  'بمطهر',\n",
       "  'كحولي',\n",
       "  'يديكم',\n",
       "  'مجتمعكم',\n",
       "  'لحمايتكم',\n",
       "  'بإستمرار',\n",
       "  'حافظوا'],\n",
       " ['كورونا', 'فيروس', 'الجديد', 'خليك', 'المستجد', 'بالبيت', 'البيت', 'البيان'],\n",
       " ['كوفيد', 'الجديد', 'خليك', 'البيت', 'يا', 'قطر', 'عمان', 'بالبيت'],\n",
       " ['حالة', 'وتسجيل', 'إجمالي', 'الحالات', 'تسجيل', 'جديدة', 'ليصبح', 'حالات'],\n",
       " ['الصحة', 'وزارة', 'العالمية', 'حالات', 'منظمة', 'عاجل', 'تعلن', 'قطر'],\n",
       " ['لقاح', 'الله', 'الجرعة', 'الأولى', 'يتلقى', 'جرعة', 'ولي', 'الحرمين'],\n",
       " ['https', 'بـ', 'العالم', 'فيروس', 'إصابات', 'الإمارات', 'جائحة', 'أكثر'],\n",
       " ['ساعة', 'الماضية', 'شفاء', 'المتعافين', 'إصابة', 'وإجمالي', 'الـ', 'الكويت'],\n",
       " ['ناجح', 'الكل', 'الفصل', 'تلقائي', 'انهاء', 'بقدم', 'النجاح', 'فاينل']]"
      ]
     },
     "execution_count": 10,
     "metadata": {},
     "output_type": "execute_result"
    }
   ],
   "source": [
    "topic = ar_nmf_model.components_.argsort(axis=1)[:, -1:-9:-1]\n",
    "topic_words_list = [[ar_feature_names[e] for e in l] for l in topic]\n",
    "topic_words_list"
   ]
  },
  {
   "cell_type": "code",
   "execution_count": null,
   "id": "expensive-review",
   "metadata": {},
   "outputs": [],
   "source": []
  },
  {
   "cell_type": "code",
   "execution_count": null,
   "id": "tender-coordination",
   "metadata": {},
   "outputs": [],
   "source": []
  },
  {
   "cell_type": "code",
   "execution_count": null,
   "id": "distinct-doctor",
   "metadata": {},
   "outputs": [],
   "source": []
  },
  {
   "cell_type": "code",
   "execution_count": null,
   "id": "continued-encoding",
   "metadata": {},
   "outputs": [],
   "source": [
    "ar_df['topic_full'] = ar_topics.argmax(axis=1)\n",
    "ar_df['topic_nouns'] = ar_nouns_topics.argmax(axis=1)"
   ]
  },
  {
   "cell_type": "code",
   "execution_count": null,
   "id": "changed-rocket",
   "metadata": {},
   "outputs": [],
   "source": []
  },
  {
   "cell_type": "code",
   "execution_count": null,
   "id": "alleged-dining",
   "metadata": {},
   "outputs": [],
   "source": []
  },
  {
   "cell_type": "code",
   "execution_count": null,
   "id": "improving-fantasy",
   "metadata": {},
   "outputs": [],
   "source": []
  },
  {
   "cell_type": "code",
   "execution_count": null,
   "id": "honey-fourth",
   "metadata": {},
   "outputs": [],
   "source": []
  },
  {
   "cell_type": "code",
   "execution_count": null,
   "id": "realistic-impact",
   "metadata": {},
   "outputs": [],
   "source": []
  }
 ],
 "metadata": {
  "kernelspec": {
   "display_name": "Python [conda env:metis] *",
   "language": "python",
   "name": "conda-env-metis-py"
  },
  "language_info": {
   "codemirror_mode": {
    "name": "ipython",
    "version": 3
   },
   "file_extension": ".py",
   "mimetype": "text/x-python",
   "name": "python",
   "nbconvert_exporter": "python",
   "pygments_lexer": "ipython3",
   "version": "3.8.6"
  }
 },
 "nbformat": 4,
 "nbformat_minor": 5
}
