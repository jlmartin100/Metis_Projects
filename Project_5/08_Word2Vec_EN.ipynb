{
  "nbformat": 4,
  "nbformat_minor": 0,
  "metadata": {
    "colab": {
      "name": "word2vec_en.ipynb",
      "provenance": [],
      "collapsed_sections": [],
      "machine_shape": "hm",
      "include_colab_link": true
    },
    "kernelspec": {
      "name": "python3",
      "display_name": "Python 3"
    },
    "language_info": {
      "name": "python"
    },
    "accelerator": "GPU"
  },
  "cells": [
    {
      "cell_type": "markdown",
      "metadata": {
        "id": "view-in-github",
        "colab_type": "text"
      },
      "source": [
        "<a href=\"https://colab.research.google.com/github/jlmartin100/Metis_Projects/blob/main/Project_5/word2vec_en.ipynb\" target=\"_parent\"><img src=\"https://colab.research.google.com/assets/colab-badge.svg\" alt=\"Open In Colab\"/></a>"
      ]
    },
    {
      "cell_type": "code",
      "metadata": {
        "colab": {
          "base_uri": "https://localhost:8080/"
        },
        "id": "Mus2hE5InJoi",
        "outputId": "1c64a95e-7183-4ee5-f8f9-a2df336e0794"
      },
      "source": [
        "!pip install gensim"
      ],
      "execution_count": null,
      "outputs": [
        {
          "output_type": "stream",
          "text": [
            "Requirement already satisfied: gensim in /usr/local/lib/python3.7/dist-packages (3.6.0)\n",
            "Requirement already satisfied: numpy>=1.11.3 in /usr/local/lib/python3.7/dist-packages (from gensim) (1.19.5)\n",
            "Requirement already satisfied: six>=1.5.0 in /usr/local/lib/python3.7/dist-packages (from gensim) (1.15.0)\n",
            "Requirement already satisfied: smart-open>=1.2.1 in /usr/local/lib/python3.7/dist-packages (from gensim) (4.2.0)\n",
            "Requirement already satisfied: scipy>=0.18.1 in /usr/local/lib/python3.7/dist-packages (from gensim) (1.4.1)\n"
          ],
          "name": "stdout"
        }
      ]
    },
    {
      "cell_type": "code",
      "metadata": {
        "colab": {
          "base_uri": "https://localhost:8080/"
        },
        "id": "FMqF76i4LYLt",
        "outputId": "5ca754d8-6d3a-416d-a392-2f49ad7c6a0b"
      },
      "source": [
        "from google.colab import drive\n",
        "drive.mount('/content/drive')"
      ],
      "execution_count": null,
      "outputs": [
        {
          "output_type": "stream",
          "text": [
            "Mounted at /content/drive\n"
          ],
          "name": "stdout"
        }
      ]
    },
    {
      "cell_type": "code",
      "metadata": {
        "id": "tOmwIwqgEaak"
      },
      "source": [
        "import pandas as pd\n",
        "import numpy as np"
      ],
      "execution_count": null,
      "outputs": []
    },
    {
      "cell_type": "code",
      "metadata": {
        "colab": {
          "base_uri": "https://localhost:8080/"
        },
        "id": "LAzKuWVEnPmW",
        "outputId": "b821a5cf-123c-4141-ab90-e1f1f8d5527d"
      },
      "source": [
        "!cython -V"
      ],
      "execution_count": null,
      "outputs": [
        {
          "output_type": "stream",
          "text": [
            "Cython version 0.29.12\n"
          ],
          "name": "stdout"
        }
      ]
    },
    {
      "cell_type": "code",
      "metadata": {
        "id": "aFMMXa0AC_9_"
      },
      "source": [
        "import pickle"
      ],
      "execution_count": null,
      "outputs": []
    },
    {
      "cell_type": "code",
      "metadata": {
        "colab": {
          "base_uri": "https://localhost:8080/"
        },
        "id": "sdA6J6f-nTY1",
        "outputId": "44a36855-48f5-4169-dd48-43c95ab2d802"
      },
      "source": [
        "\n",
        "import gensim\n",
        "documents = [\"Will this work?  I'm not sure.  If not go to step #4 (above)\"]\n",
        "texts = [[word for word in document.lower().split()]\n",
        "         for document in documents]\n",
        "\n",
        "\n",
        "print (texts)\n",
        "model = gensim.models.Word2Vec(texts, size=100, window=5, min_count=1, workers=4,sg=1)"
      ],
      "execution_count": null,
      "outputs": [
        {
          "output_type": "stream",
          "text": [
            "[['will', 'this', 'work?', \"i'm\", 'not', 'sure.', 'if', 'not', 'go', 'to', 'step', '#4', '(above)']]\n"
          ],
          "name": "stdout"
        }
      ]
    },
    {
      "cell_type": "code",
      "metadata": {
        "colab": {
          "resources": {
            "http://localhost:8080/nbextensions/google.colab/files.js": {
              "data": "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",
              "ok": true,
              "headers": [
                [
                  "content-type",
                  "application/javascript"
                ]
              ],
              "status": 200,
              "status_text": ""
            }
          },
          "base_uri": "https://localhost:8080/",
          "height": 73
        },
        "id": "uKuk9gAdnV8w",
        "outputId": "a7e5f8d8-e1ce-414c-fe49-dd8646e5a2ea"
      },
      "source": [
        "from google.colab import files\n",
        "uploaded = files.upload()"
      ],
      "execution_count": null,
      "outputs": [
        {
          "output_type": "display_data",
          "data": {
            "text/html": [
              "\n",
              "     <input type=\"file\" id=\"files-2cf993e5-54bd-4595-9049-233318cbe4de\" name=\"files[]\" multiple disabled\n",
              "        style=\"border:none\" />\n",
              "     <output id=\"result-2cf993e5-54bd-4595-9049-233318cbe4de\">\n",
              "      Upload widget is only available when the cell has been executed in the\n",
              "      current browser session. Please rerun this cell to enable.\n",
              "      </output>\n",
              "      <script src=\"/nbextensions/google.colab/files.js\"></script> "
            ],
            "text/plain": [
              "<IPython.core.display.HTML object>"
            ]
          },
          "metadata": {
            "tags": []
          }
        },
        {
          "output_type": "stream",
          "text": [
            "Saving en_df.pkl to en_df (1).pkl\n"
          ],
          "name": "stdout"
        }
      ]
    },
    {
      "cell_type": "code",
      "metadata": {
        "id": "xJakvuF5oGoE"
      },
      "source": [
        "import nltk"
      ],
      "execution_count": null,
      "outputs": []
    },
    {
      "cell_type": "code",
      "metadata": {
        "colab": {
          "base_uri": "https://localhost:8080/"
        },
        "id": "WYwl4d9uoOSA",
        "outputId": "48b90cda-59b6-4f40-b8c1-a30479065a75"
      },
      "source": [
        "from nltk.corpus import stopwords\n",
        "nltk.download('stopwords')"
      ],
      "execution_count": null,
      "outputs": [
        {
          "output_type": "stream",
          "text": [
            "[nltk_data] Downloading package stopwords to /root/nltk_data...\n",
            "[nltk_data]   Unzipping corpora/stopwords.zip.\n"
          ],
          "name": "stdout"
        },
        {
          "output_type": "execute_result",
          "data": {
            "text/plain": [
              "True"
            ]
          },
          "metadata": {
            "tags": []
          },
          "execution_count": 6
        }
      ]
    },
    {
      "cell_type": "code",
      "metadata": {
        "id": "7XVt3aR1ofvg"
      },
      "source": [
        "stop_words_std = stopwords.words('english')\n",
        "stop = set(stop_words_std + ['https', 'http'] + list(uploaded['stopwords_long_ranks_nl.txt'].decode('utf-8')))"
      ],
      "execution_count": null,
      "outputs": []
    },
    {
      "cell_type": "code",
      "metadata": {
        "colab": {
          "base_uri": "https://localhost:8080/"
        },
        "id": "_F7RAZKMpVHj",
        "outputId": "679dd528-4307-4f60-8e27-25817421d045"
      },
      "source": [
        "len(stop)"
      ],
      "execution_count": null,
      "outputs": [
        {
          "output_type": "execute_result",
          "data": {
            "text/plain": [
              "203"
            ]
          },
          "metadata": {
            "tags": []
          },
          "execution_count": 13
        }
      ]
    },
    {
      "cell_type": "code",
      "metadata": {
        "colab": {
          "base_uri": "https://localhost:8080/"
        },
        "id": "ZJgj9m9VH7Qr",
        "outputId": "5bfdd5a5-693d-46b3-c484-bebada0d17a7"
      },
      "source": [
        "!pip install pickle5"
      ],
      "execution_count": null,
      "outputs": [
        {
          "output_type": "stream",
          "text": [
            "Collecting pickle5\n",
            "\u001b[?25l  Downloading https://files.pythonhosted.org/packages/f7/4c/5c4dd0462c8d3a6bc4af500a6af240763c2ebd1efdc736fc2c946d44b70a/pickle5-0.0.11.tar.gz (132kB)\n",
            "\r\u001b[K     |██▌                             | 10kB 19.4MB/s eta 0:00:01\r\u001b[K     |█████                           | 20kB 9.4MB/s eta 0:00:01\r\u001b[K     |███████▍                        | 30kB 6.1MB/s eta 0:00:01\r\u001b[K     |██████████                      | 40kB 5.7MB/s eta 0:00:01\r\u001b[K     |████████████▍                   | 51kB 4.2MB/s eta 0:00:01\r\u001b[K     |██████████████▉                 | 61kB 4.8MB/s eta 0:00:01\r\u001b[K     |█████████████████▍              | 71kB 4.9MB/s eta 0:00:01\r\u001b[K     |███████████████████▉            | 81kB 5.1MB/s eta 0:00:01\r\u001b[K     |██████████████████████▎         | 92kB 5.2MB/s eta 0:00:01\r\u001b[K     |████████████████████████▉       | 102kB 4.2MB/s eta 0:00:01\r\u001b[K     |███████████████████████████▎    | 112kB 4.2MB/s eta 0:00:01\r\u001b[K     |█████████████████████████████▊  | 122kB 4.2MB/s eta 0:00:01\r\u001b[K     |████████████████████████████████| 133kB 4.2MB/s \n",
            "\u001b[?25hBuilding wheels for collected packages: pickle5\n",
            "  Building wheel for pickle5 (setup.py) ... \u001b[?25l\u001b[?25hdone\n",
            "  Created wheel for pickle5: filename=pickle5-0.0.11-cp37-cp37m-linux_x86_64.whl size=219249 sha256=8f2da1caa362e8b8dc5ca823ddbd68e35176d4f69e24bfe4a4a8952e3ecdb679\n",
            "  Stored in directory: /root/.cache/pip/wheels/a6/90/95/f889ca4aa8b0e0c7f21c8470b6f5d6032f0390a3a141a9a3bd\n",
            "Successfully built pickle5\n",
            "Installing collected packages: pickle5\n",
            "Successfully installed pickle5-0.0.11\n"
          ],
          "name": "stdout"
        }
      ]
    },
    {
      "cell_type": "code",
      "metadata": {
        "id": "fZ3CsUzqH-3N"
      },
      "source": [
        "import pickle5 as pickle"
      ],
      "execution_count": null,
      "outputs": []
    },
    {
      "cell_type": "code",
      "metadata": {
        "id": "jPlweLhVDFqu"
      },
      "source": [
        "en_df = pickle.load(open('en_df.pkl', 'rb'))"
      ],
      "execution_count": null,
      "outputs": []
    },
    {
      "cell_type": "code",
      "metadata": {
        "id": "dKECUX6ECKBc"
      },
      "source": [
        "texts = [[word.lower() for word in tweet if word not in stop] for tweet in en_df.tokens.values]\n"
      ],
      "execution_count": null,
      "outputs": []
    },
    {
      "cell_type": "code",
      "metadata": {
        "colab": {
          "base_uri": "https://localhost:8080/"
        },
        "id": "R9fyMHrMIdJC",
        "outputId": "d5bdbbda-cabb-4682-d1bf-4f80dbd7e43f"
      },
      "source": [
        "texts[0:5]"
      ],
      "execution_count": null,
      "outputs": [
        {
          "output_type": "execute_result",
          "data": {
            "text/plain": [
              "[['she',\n",
              "  'khaleda',\n",
              "  'begum',\n",
              "  'age',\n",
              "  'years',\n",
              "  'saved',\n",
              "  'rs',\n",
              "  'lakh',\n",
              "  'perform',\n",
              "  'hajj',\n",
              "  'donated',\n",
              "  'corona',\n",
              "  'charity',\n",
              "  '❤'],\n",
              " ['imrankhanpti',\n",
              "  'clarencehouse',\n",
              "  'borisjohnson',\n",
              "  'koi',\n",
              "  'relief',\n",
              "  'nhi',\n",
              "  'mila',\n",
              "  'relief',\n",
              "  'granted',\n",
              "  'likha',\n",
              "  'ata',\n",
              "  'hy',\n",
              "  'dfa',\n",
              "  'complaint',\n",
              "  'ki',\n",
              "  'citizen',\n",
              "  'portal',\n",
              "  'complaint',\n",
              "  'cell',\n",
              "  'ki',\n",
              "  'post',\n",
              "  'office',\n",
              "  'calls',\n",
              "  'ki',\n",
              "  'kia',\n",
              "  'faida',\n",
              "  'hua',\n",
              "  'apka',\n",
              "  'itny',\n",
              "  'pese',\n",
              "  'lgany',\n",
              "  'ka',\n",
              "  'agr',\n",
              "  'aj',\n",
              "  'doctr',\n",
              "  'ali',\n",
              "  'hassan',\n",
              "  'awan',\n",
              "  'ko',\n",
              "  'mri',\n",
              "  'complaint',\n",
              "  'koi',\n",
              "  'saza',\n",
              "  'di',\n",
              "  'gai',\n",
              "  'hti',\n",
              "  'relief',\n",
              "  'na',\n",
              "  'dia',\n",
              "  'hta',\n",
              "  'corona'],\n",
              " ['sylver', 'corona', 'ye', 'ref'],\n",
              " ['the',\n",
              "  'new',\n",
              "  'music',\n",
              "  'post',\n",
              "  'quarantine',\n",
              "  'finna',\n",
              "  'repetitive',\n",
              "  'bet',\n",
              "  '’',\n",
              "  'gone',\n",
              "  'hear',\n",
              "  'countless',\n",
              "  'times',\n",
              "  'she',\n",
              "  'loner',\n",
              "  'loan',\n",
              "  'uh',\n",
              "  'i',\n",
              "  'kill',\n",
              "  'pussy',\n",
              "  'like',\n",
              "  'corona',\n",
              "  'the',\n",
              "  'rap',\n",
              "  'game',\n",
              "  'mine',\n",
              "  'i',\n",
              "  'murder',\n",
              "  'like',\n",
              "  'corona',\n",
              "  'columbine',\n",
              "  '🥴🥴🥴'],\n",
              " ['my',\n",
              "  'dad',\n",
              "  'high',\n",
              "  'risk',\n",
              "  'corona',\n",
              "  'bc',\n",
              "  'health',\n",
              "  'amp',\n",
              "  'i',\n",
              "  '’',\n",
              "  'still',\n",
              "  'working',\n",
              "  'amp',\n",
              "  'high',\n",
              "  'risk',\n",
              "  'transferring',\n",
              "  'i',\n",
              "  '’',\n",
              "  'able',\n",
              "  'visit',\n",
              "  'parents',\n",
              "  'weeks',\n",
              "  'my',\n",
              "  'adorable',\n",
              "  'mom',\n",
              "  'dropped',\n",
              "  'groceries',\n",
              "  'front',\n",
              "  'door',\n",
              "  'i',\n",
              "  '’',\n",
              "  'cracking',\n",
              "  'individual',\n",
              "  'slices',\n",
              "  'cheese',\n",
              "  'mayo']]"
            ]
          },
          "metadata": {
            "tags": []
          },
          "execution_count": 35
        }
      ]
    },
    {
      "cell_type": "code",
      "metadata": {
        "id": "3y1fL6pmpx9T"
      },
      "source": [
        "# word2vec embeddings using skipgram\n",
        "model = gensim.models.Word2Vec(texts, size=100, window=5, min_count=10, workers=2, sg=1)"
      ],
      "execution_count": null,
      "outputs": []
    },
    {
      "cell_type": "code",
      "metadata": {
        "id": "jl6A5cSeXkvd"
      },
      "source": [
        "model.save('en_word2vec.model')"
      ],
      "execution_count": null,
      "outputs": []
    },
    {
      "cell_type": "code",
      "metadata": {
        "colab": {
          "base_uri": "https://localhost:8080/"
        },
        "id": "nJGeYuwJIlOd",
        "outputId": "a0286e77-de2a-494d-e437-99fa128650cf"
      },
      "source": [
        "list(model.wv.vocab.items())[:7]"
      ],
      "execution_count": null,
      "outputs": [
        {
          "output_type": "execute_result",
          "data": {
            "text/plain": [
              "[('she', <gensim.models.keyedvectors.Vocab at 0x7f79e6b95090>),\n",
              " ('age', <gensim.models.keyedvectors.Vocab at 0x7f79e6be5810>),\n",
              " ('years', <gensim.models.keyedvectors.Vocab at 0x7f79e6625b90>),\n",
              " ('saved', <gensim.models.keyedvectors.Vocab at 0x7f79e6625950>),\n",
              " ('rs', <gensim.models.keyedvectors.Vocab at 0x7f793caaab50>),\n",
              " ('lakh', <gensim.models.keyedvectors.Vocab at 0x7f793caaa550>),\n",
              " ('perform', <gensim.models.keyedvectors.Vocab at 0x7f793caaa990>)]"
            ]
          },
          "metadata": {
            "tags": []
          },
          "execution_count": 37
        }
      ]
    },
    {
      "cell_type": "code",
      "metadata": {
        "colab": {
          "base_uri": "https://localhost:8080/"
        },
        "id": "fIES1oZWUpOv",
        "outputId": "aa93b96b-736d-4fb6-a4e4-2911f56b051f"
      },
      "source": [
        "model.most_similar('hoax', topn=8)"
      ],
      "execution_count": null,
      "outputs": [
        {
          "output_type": "stream",
          "text": [
            "/usr/local/lib/python3.7/dist-packages/ipykernel_launcher.py:1: DeprecationWarning: Call to deprecated `most_similar` (Method will be removed in 4.0.0, use self.wv.most_similar() instead).\n",
            "  \"\"\"Entry point for launching an IPython kernel.\n"
          ],
          "name": "stderr"
        },
        {
          "output_type": "execute_result",
          "data": {
            "text/plain": [
              "[('disbelief', 0.6866669654846191),\n",
              " ('conspiracy', 0.6836411356925964),\n",
              " ('cultist', 0.6810177564620972),\n",
              " ('scoffed', 0.6792352199554443),\n",
              " ('trumpsters', 0.6792014837265015),\n",
              " ('scamdemic', 0.6694905161857605),\n",
              " ('plandemic', 0.6676379442214966),\n",
              " ('nutters', 0.6586903929710388)]"
            ]
          },
          "metadata": {
            "tags": []
          },
          "execution_count": 38
        }
      ]
    },
    {
      "cell_type": "code",
      "metadata": {
        "colab": {
          "base_uri": "https://localhost:8080/"
        },
        "id": "nNOE3LyGUzfT",
        "outputId": "04fca8f5-9f0c-4dca-f8c1-b426f4508a73"
      },
      "source": [
        "model.most_similar('antivax', topn=8)"
      ],
      "execution_count": null,
      "outputs": [
        {
          "output_type": "stream",
          "text": [
            "/usr/local/lib/python3.7/dist-packages/ipykernel_launcher.py:1: DeprecationWarning: Call to deprecated `most_similar` (Method will be removed in 4.0.0, use self.wv.most_similar() instead).\n",
            "  \"\"\"Entry point for launching an IPython kernel.\n"
          ],
          "name": "stderr"
        },
        {
          "output_type": "execute_result",
          "data": {
            "text/plain": [
              "[('hoaxers', 0.8118895888328552),\n",
              " ('semitic', 0.8032591938972473),\n",
              " ('muzzles', 0.7997714281082153),\n",
              " ('antivaxxers', 0.7939993143081665),\n",
              " ('vaxer', 0.7919854521751404),\n",
              " ('vaxers', 0.7906237244606018),\n",
              " ('msblairewhite', 0.7847836017608643),\n",
              " ('chadfelixg', 0.7833392024040222)]"
            ]
          },
          "metadata": {
            "tags": []
          },
          "execution_count": 39
        }
      ]
    },
    {
      "cell_type": "code",
      "metadata": {
        "colab": {
          "base_uri": "https://localhost:8080/"
        },
        "id": "kqh4OY5LVdP_",
        "outputId": "94fdb3f0-1151-447e-df6f-5c3bae3ee604"
      },
      "source": [
        "model.most_similar('scamdemic', topn=8)"
      ],
      "execution_count": null,
      "outputs": [
        {
          "output_type": "stream",
          "text": [
            "/usr/local/lib/python3.7/dist-packages/ipykernel_launcher.py:1: DeprecationWarning: Call to deprecated `most_similar` (Method will be removed in 4.0.0, use self.wv.most_similar() instead).\n",
            "  \"\"\"Entry point for launching an IPython kernel.\n"
          ],
          "name": "stderr"
        },
        {
          "output_type": "execute_result",
          "data": {
            "text/plain": [
              "[('plandemic', 0.7795971035957336),\n",
              " ('covidhoax', 0.714319109916687),\n",
              " ('fearmongering', 0.6951512694358826),\n",
              " ('coronavirushoax', 0.691253662109375),\n",
              " ('fabricated', 0.6901524066925049),\n",
              " ('naysayers', 0.6844222545623779),\n",
              " ('davidicke', 0.679439127445221),\n",
              " ('smokescreen', 0.6741321682929993)]"
            ]
          },
          "metadata": {
            "tags": []
          },
          "execution_count": 40
        }
      ]
    },
    {
      "cell_type": "code",
      "metadata": {
        "colab": {
          "base_uri": "https://localhost:8080/"
        },
        "id": "Ou2ZAqMzWF_p",
        "outputId": "2b55b96e-2e2d-4988-ebeb-db544149fd4d"
      },
      "source": [
        "model.most_similar(positive=['remedy', 'remedies'], topn=10)"
      ],
      "execution_count": null,
      "outputs": [
        {
          "output_type": "stream",
          "text": [
            "/usr/local/lib/python3.7/dist-packages/ipykernel_launcher.py:1: DeprecationWarning: Call to deprecated `most_similar` (Method will be removed in 4.0.0, use self.wv.most_similar() instead).\n",
            "  \"\"\"Entry point for launching an IPython kernel.\n"
          ],
          "name": "stderr"
        },
        {
          "output_type": "execute_result",
          "data": {
            "text/plain": [
              "[('herbal', 0.7625945806503296),\n",
              " ('parasites', 0.7592906951904297),\n",
              " ('cure', 0.7407199144363403),\n",
              " ('ooni', 0.7370663285255432),\n",
              " ('urine', 0.7334702610969543),\n",
              " ('hydrochloroquine', 0.7281033992767334),\n",
              " ('substances', 0.7262742519378662),\n",
              " ('bloodstream', 0.7258157730102539),\n",
              " ('herbs', 0.7222033739089966),\n",
              " ('unsuccessful', 0.7116446495056152)]"
            ]
          },
          "metadata": {
            "tags": []
          },
          "execution_count": 43
        }
      ]
    },
    {
      "cell_type": "code",
      "metadata": {
        "colab": {
          "base_uri": "https://localhost:8080/"
        },
        "id": "HfYEYsZlWXG5",
        "outputId": "4509309b-e0ba-4a96-873e-91587556f241"
      },
      "source": [
        "model.most_similar('cure', topn=8)"
      ],
      "execution_count": null,
      "outputs": [
        {
          "output_type": "stream",
          "text": [
            "/usr/local/lib/python3.7/dist-packages/ipykernel_launcher.py:1: DeprecationWarning: Call to deprecated `most_similar` (Method will be removed in 4.0.0, use self.wv.most_similar() instead).\n",
            "  \"\"\"Entry point for launching an IPython kernel.\n"
          ],
          "name": "stderr"
        },
        {
          "output_type": "execute_result",
          "data": {
            "text/plain": [
              "[('herbal', 0.7360119819641113),\n",
              " ('cures', 0.7162877917289734),\n",
              " ('curing', 0.6998385190963745),\n",
              " ('madagascar', 0.698661744594574),\n",
              " ('remedy', 0.6931172609329224),\n",
              " ('ooni', 0.6907522678375244),\n",
              " ('remedies', 0.683501660823822),\n",
              " ('urine', 0.6746488213539124)]"
            ]
          },
          "metadata": {
            "tags": []
          },
          "execution_count": 44
        }
      ]
    },
    {
      "cell_type": "code",
      "metadata": {
        "colab": {
          "base_uri": "https://localhost:8080/"
        },
        "id": "yrrk63LlWcz4",
        "outputId": "45dc3a6b-22b3-47c9-e971-df4e7c046c32"
      },
      "source": [
        "model.most_similar('davidicke', topn=8)"
      ],
      "execution_count": null,
      "outputs": [
        {
          "output_type": "stream",
          "text": [
            "/usr/local/lib/python3.7/dist-packages/ipykernel_launcher.py:1: DeprecationWarning: Call to deprecated `most_similar` (Method will be removed in 4.0.0, use self.wv.most_similar() instead).\n",
            "  \"\"\"Entry point for launching an IPython kernel.\n"
          ],
          "name": "stderr"
        },
        {
          "output_type": "execute_result",
          "data": {
            "text/plain": [
              "[('domjoly', 0.8005249500274658),\n",
              " ('gabrielscally', 0.7959874868392944),\n",
              " ('mikecordingley', 0.7944686412811279),\n",
              " ('susanmichie', 0.7934791445732117),\n",
              " ('naysayers', 0.7927426695823669),\n",
              " ('ukcolumn', 0.7869039177894592),\n",
              " ('stevehofstetter', 0.7851220369338989),\n",
              " ('danwootton', 0.7840780019760132)]"
            ]
          },
          "metadata": {
            "tags": []
          },
          "execution_count": 46
        }
      ]
    },
    {
      "cell_type": "code",
      "metadata": {
        "colab": {
          "base_uri": "https://localhost:8080/"
        },
        "id": "s4mS-GrIWicZ",
        "outputId": "b38e642b-f927-42bc-ae5d-7a0a89274fcc"
      },
      "source": [
        "for i in en_df[en_df.tweet.str.contains('scamdemic')].tweet.values[:25]:\n",
        "  print(i); print(' ')"
      ],
      "execution_count": null,
      "outputs": [
        {
          "output_type": "stream",
          "text": [
            "Please watch this! The truth is out there! #coronavirus #COVID-19 #pandemic 🤷‍♀️ #scamdemic2020   https://t.co/BRrCbt3FKn\n",
            " \n",
            "Please watch this! The truth is out there! #coronavirus #COVID-19 #pandemic 🤷‍♀️ #scamdemic2020   https://t.co/BRrCbt3FKn\n",
            " \n",
            "There are less deaths this year by \"other causes\" such as \"cancer\" and \"heart disease\" than there has EVER been before!!!!!! So Corona is the ONLY thing people have been sadly dieing from this year!!!!!!! #makeitmakesense #scamdemic #COVID19 #endthelockdownuk\n",
            " \n",
            "Sad places close early to help stop spread of corona 🙄🙄 then why be open #scamdemic\n",
            " \n",
            "Well well she slipped up! Knew it was a #scamdemic from the start! Some serious questions need to be asked now starting with ⁦@BBCNews⁩ . #COVID__19 #endthelockdownuk  https://t.co/X06E3McpDL\n",
            " \n",
            "#truthteller #whistleblower #COVID #COVID19 #COVID19lies #COVID19hoax #pandemic #fakepandemic #scamdemic #plandemic #coronavirus #coronaviruslies #coronavirushoax #coronavirusisnotreal #nosuchthingasCOVID19 #COVIDtruth  https://t.co/zqcOod3GqI\n",
            " \n",
            "Think if corona virus was actually exposed to the screen and now you’re touching it directly and spreading it onto every product you purchased... now you bring it home to your loved ones and expose them as well 🤔🤔🤔 these are either pitiful precautions or a scamdemic 🤷‍♂️\n",
            " \n",
            "If they patronize corona virus scamdemics in any city. Theres a big chance they will compete with flies to eat more garbage on streets on the future. Love fine humor\n",
            " \n",
            "@chevymo And awfully convenient that the riots take centre stage as soon as the COVID scamdemic is shown to be a total con and overreaction.  The MSM is no longer showing the daily body counts and other virus porn.  Many gov't officials are breathing a sigh of relief for the riots.....\n",
            " \n",
            "🔥💦The fires will be put out,🔥💦the Covid-19 hoax is dying out. I've yet to see one \"murder hornet\"Conservative Americans of every race will still vote. Democrats suffered lo$$ to the scamdemic &amp; unreasonable Governors too! This will all backfire as Americans go to the polls!\n",
            " \n",
            "'We need some perspective' on the U.S. #COVID19 death toll.  https://t.co/tyv21QfJan With riots, looting and arson eclipsing COVID-mania, it's time to separate the scamdemic from the pandemic.\n",
            " \n",
            "@GovAndyBeshear Just went to a restaurant/bar, no one had a mask,  most weren't trying to social distance.  The COVID-1984 scamdemic is so over now.  Screw you Andy Beshear.\n",
            " \n",
            "@chevymo And awfully convenient that the riots take centre stage as soon as the COVID scamdemic is shown to be a total con and overreaction.  The MSM is no longer showing the daily body counts and other virus porn.  Many gov't officials are breathing a sigh of relief for the riots.....\n",
            " \n",
            "@LandauDave Corona scamdemic second wave. Coming soon to a city near you.\n",
            " \n",
            "Covid 19 is also a business venture for most people that have decided to take advantage of the scamdemic to defraud innocent lives.\n",
            " \n",
            "EVERY SINGLE DAY this #scamdemic is being EXPOSED!! Let's revisit face masks again = USELESS!!! Listen to @DrButtar 👇🏽👇🏽👇🏽 LOGIC!! STOP BEING A BRAINLESS SHEEP! THINK🧠👀#COVID19  #Covid19SA #Covid_19 #coronavirus  https://t.co/QG4KneDl4o\n",
            " \n",
            "@GovKemp @GradyHealth @tiftregional @EastsideMedical Yeah I'm sure the Healthcare industry would love to keep this scamdemic going. They get 13k for every dead patient with covid and 40k for anyone put on a respirator. Plus, a lot of nurses have been laid off supposedly while the hospitals are packed. Mandatory masks? What a joke.\n",
            " \n",
            "@thauserkstp Why not move all the homeless in there. This is all for drama so we think the scamdemic is for real.  83% of the COVID deaths were in LTC's that the Marxist GOV mishandled and they had a short life expectancy to begin with. We should open up all of MN NOW. This has gone too far\n",
            " \n",
            "@thauserkstp Why not move all the homeless in there. This is all for drama so we think the scamdemic is for real.  83% of the COVID deaths were in LTC's that the Marxist GOV mishandled and they had a short life expectancy to begin with. We should open up all of MN NOW. This has gone too far\n",
            " \n",
            "@BrevardEOC You wear a mask because you believe the lies shoveled into your TV. There is zero risk for healthy people. The survival rate for this strain of corona is 99.01%. Masks are useless and extra spacing, along with the masks, is a form of control. #scamdemic #scamdemic2020 #Plandemic\n",
            " \n",
            "@j082298 @jasonski777 I was thinking. Bill Gates is an expert in Malaria. His specialty. What if this scamdemic is just a simple corona virus with a GMO malaria like parasite in it. Same lung sypmtoms, fever. Would love a symptomatic patient 2be tested for malaria!\n",
            " \n",
            "@Behan0161 @latimeralder In 2003 there was SARS Cov 1. A relative that we know plenty about. We knew for example that HCQ treats it. But Boris banned HCQ and people died. Many flus are Corona viruses. We know plenty. Search You tube for Dr Judy Mikhovits or Prof Delores Cahill. This is a #scamdemic\n",
            " \n",
            "Go for it and spread the truth. The Corona scamdemic is a pure hoax designed to usher in the NWO and their agenda for us. #masksoff #KBF\n",
            " \n",
            "#wakeupsheeple #wwg1wga #fuckthegoverment #followthemoney #populationcontrol #doyourownresearch #plandemic #scamdemic #hoax #agenda2030 #corona #virus #thegreatawakening #nwo #NEWWORLDORDER #martiallaw #photooftheday…  https://t.co/KsY5NwkCRz\n",
            " \n",
            "The globalists attempts to undermine our democracy with Brexit will pale into insignificance compared to the unrelenting campaign of domestic terrorism they are prepared to unleash upon us to secure the agenda behind this Corona scamdemic.\n",
            " \n"
          ],
          "name": "stdout"
        }
      ]
    },
    {
      "cell_type": "code",
      "metadata": {
        "id": "elG2mn94WyZb"
      },
      "source": [
        "def retrieve_tweets(search_term, no_tweets):\n",
        "  for i in en_df[en_df.tweet.str.contains(search_term)].tweet.values[:no_tweets]:\n",
        "    print(i); print(' ')"
      ],
      "execution_count": null,
      "outputs": []
    },
    {
      "cell_type": "code",
      "metadata": {
        "colab": {
          "base_uri": "https://localhost:8080/"
        },
        "id": "B7d5DN_VY3cn",
        "outputId": "31bc877c-55ed-48d0-865a-1e1ec0ac7b2b"
      },
      "source": [
        "retrieve_tweets('plandemic', 25)"
      ],
      "execution_count": null,
      "outputs": [
        {
          "output_type": "stream",
          "text": [
            "The Coronavirus/COVID-19 truthers (the ones who deny it is happening or are calling it a “plandemic”) are absolutely bizarre.\n",
            " \n",
            "The Coronavirus/COVID-19 truthers (the ones who deny it is happening or are calling it a “plandemic”) are absolutely bizarre.\n",
            " \n",
            "The Coronavirus/COVID-19 truthers (the ones who deny it is happening or are calling it a “plandemic”) are absolutely bizarre.\n",
            " \n",
            "The Coronavirus/COVID-19 truthers (the ones who deny it is happening or are calling it a “plandemic”) are absolutely bizarre.\n",
            " \n",
            "👉Corona plandemic.👈 Blows the lid off of #censorship on #coronavirus, who's involved and #UN too   https://t.co/4VSb5XjNYn watch before its taken down @terresamonroe @newzealblog @Pearl45175632 @indigenous01 ** Everyone wanting truth must see this **\n",
            " \n",
            "👉Corona plandemic.👈 Blows the lid off of #censorship on #coronavirus, who's involved and #UN too   https://t.co/4VSb5XjNYn watch before its taken down @terresamonroe @newzealblog @Pearl45175632 @indigenous01 ** Everyone wanting truth must see this **\n",
            " \n",
            "@BenJolly9 Please watch this short video to understand the true nature of this plandemic - to mandate vaccines, 5G to bring driverless cars and how wireless tech causes many diseases, including COVID-19 symptoms.   https://t.co/tjlJD0me8H.\n",
            " \n",
            "#truthteller #whistleblower #COVID #COVID19 #COVID19lies #COVID19hoax #pandemic #fakepandemic #scamdemic #plandemic #coronavirus #coronaviruslies #coronavirushoax #coronavirusisnotreal #nosuchthingasCOVID19 #COVIDtruth  https://t.co/zqcOod3GqI\n",
            " \n",
            "what happened to the US fake plandemic?   US evil plan corona...\n",
            " \n",
            "The debate whether this is pandemic or  ‘plandemic’ is one thing but people are dying, don’t wait until it comes to you, act as if everyone around you has corona. #COVID19Pakistan\n",
            " \n",
            "And just like that corona virus #plandemic is seemingly over and out of the news but our governors in NJ and NY still have our states locked down #openny #opennj\n",
            " \n",
            "Yeah. Seems so much like a #plandemic. A short break from  #coronavirus to wild out and 3 weeks later the numbers of Covid deaths rise and back to lockdown. 2020 is a joke\n",
            " \n",
            "To the idiots saying covid is a plandemic because the media is covering riots now.. I thought you were the 1’s who *get it* that media covers what sells. How can you be SO dumb to think because they stop covering covid for a few days that it isn’t real? You IDIOTS\n",
            " \n",
            "@and_kell We interrupt you're regularly scheduled plandemic with this breaking distraction.  Your scheduled programming, Covid, The Second Wave, will resume this fall.  https://t.co/e1FSgHHkGl\n",
            " \n",
            "@and_kell We interrupt you're regularly scheduled plandemic with this breaking distraction.  Your scheduled programming, Covid, The Second Wave, will resume this fall.  https://t.co/e1FSgHHkGl\n",
            " \n",
            "#confirmed  #covid #cases have nothing to do with the 98% survival rate. That hasn't changed at all.  #covid19hoax #plandemic #plandemic2020 #liberalismisamentaldisorder #libtards #covid #corona #lockdown #trump2020 #trump2020nowmorethanever #trump2020landslide #fakenewsmedia\n",
            " \n",
            "Burundi's president Pierre Nkurunziza died from #COVID-19, not the virus but the evil people propping it up. Classic #WHO dunnit story. #plandemic #agenda2030 #event201 This man is a martyr and prayers to the #Burundi people to stay strong.  https://t.co/nlbeFaXbPQ\n",
            " \n",
            "@MikePerryavatar I escaped the pizza parlour bdsm basement sex island to tell you all that Covid is a plandemic to hurt trump.\n",
            " \n",
            "Everyone should look at  https://t.co/vS7lljcaHt on the plandemic covid-19\n",
            " \n",
            "@TRTWorldNow The reality is planned as ID2020. Please reserch for the truth. PCRtest can be POSITIVE with even papaya and goat. Covid-19 is just a new flu and all globalists made this plandemic. Fewer people are killed than normal flu. Italian people knew it😏#DefundUN @WHO\n",
            " \n",
            "@dyeward24 @X22Report Covid 19 plandemic  scam.\n",
            " \n",
            "@AVIT95231002 Why you even posting this. Surely in your beliefs it’s just more bullshit like you think Covid is. Or as you call it plandemic\n",
            " \n",
            "More evidence of a #plandemic. Car oil tests positive for corona...watch before deleted! Second Wave\" of Panic Explodes Through The Tell-Lie-Vision  https://t.co/7JxVlFKlcd  https://t.co/uU6iz57UeU\n",
            " \n",
            "Everything about the corona psndem8c was planned (plandemic)  https://t.co/r458Rr8m1u\n",
            " \n",
            "@susanoakes7 @AlexBerenson We know there i$ financial incentive for hospital$ to have patient$ with Corona. #plandemic\n",
            " \n"
          ],
          "name": "stdout"
        }
      ]
    },
    {
      "cell_type": "code",
      "metadata": {
        "colab": {
          "base_uri": "https://localhost:8080/"
        },
        "id": "fQiZ3U-RY86x",
        "outputId": "efa7668b-ab0f-4eaa-d78d-12a9c5ccfda3"
      },
      "source": [
        "model.most_similar('plandemic', topn=8)"
      ],
      "execution_count": null,
      "outputs": [
        {
          "output_type": "stream",
          "text": [
            "/usr/local/lib/python3.7/dist-packages/ipykernel_launcher.py:1: DeprecationWarning: Call to deprecated `most_similar` (Method will be removed in 4.0.0, use self.wv.most_similar() instead).\n",
            "  \"\"\"Entry point for launching an IPython kernel.\n"
          ],
          "name": "stderr"
        },
        {
          "output_type": "execute_result",
          "data": {
            "text/plain": [
              "[('scamdemic', 0.7795971035957336),\n",
              " ('chemtrails', 0.6996629238128662),\n",
              " ('coronavirushoax', 0.6960735321044922),\n",
              " ('covidhoax', 0.6931027770042419),\n",
              " ('fakepandemic', 0.6772801876068115),\n",
              " ('debunked', 0.6749926805496216),\n",
              " ('hoax', 0.6676379442214966),\n",
              " ('deepstate', 0.6597724556922913)]"
            ]
          },
          "metadata": {
            "tags": []
          },
          "execution_count": 59
        }
      ]
    },
    {
      "cell_type": "code",
      "metadata": {
        "colab": {
          "base_uri": "https://localhost:8080/"
        },
        "id": "h4MTyCQsZNji",
        "outputId": "552a958d-2db7-45de-d20e-735cbb95baf7"
      },
      "source": [
        "model.most_similar('covidhoax', topn=8)"
      ],
      "execution_count": null,
      "outputs": [
        {
          "output_type": "stream",
          "text": [
            "/usr/local/lib/python3.7/dist-packages/ipykernel_launcher.py:1: DeprecationWarning: Call to deprecated `most_similar` (Method will be removed in 4.0.0, use self.wv.most_similar() instead).\n",
            "  \"\"\"Entry point for launching an IPython kernel.\n"
          ],
          "name": "stderr"
        },
        {
          "output_type": "execute_result",
          "data": {
            "text/plain": [
              "[('coronavirushoax', 0.927299439907074),\n",
              " ('firefauci', 0.8801057934761047),\n",
              " ('faucithefraud', 0.8678849935531616),\n",
              " ('coronahoax', 0.8611629009246826),\n",
              " ('newworldorder', 0.8575589656829834),\n",
              " ('billgatesbioterrorist', 0.8516625761985779),\n",
              " ('godfamilyjesus', 0.83829265832901),\n",
              " ('coronavirusact', 0.8225740790367126)]"
            ]
          },
          "metadata": {
            "tags": []
          },
          "execution_count": 62
        }
      ]
    },
    {
      "cell_type": "code",
      "metadata": {
        "colab": {
          "base_uri": "https://localhost:8080/"
        },
        "id": "UFXLglQZZrrL",
        "outputId": "bec8c93d-ed22-49ec-9984-edb261f4ae88"
      },
      "source": [
        "model.most_similar('coronavirushoax', topn=8)"
      ],
      "execution_count": null,
      "outputs": [
        {
          "output_type": "stream",
          "text": [
            "/usr/local/lib/python3.7/dist-packages/ipykernel_launcher.py:1: DeprecationWarning: Call to deprecated `most_similar` (Method will be removed in 4.0.0, use self.wv.most_similar() instead).\n",
            "  \"\"\"Entry point for launching an IPython kernel.\n"
          ],
          "name": "stderr"
        },
        {
          "output_type": "execute_result",
          "data": {
            "text/plain": [
              "[('covidhoax', 0.927299439907074),\n",
              " ('newworldorder', 0.9120961427688599),\n",
              " ('firefauci', 0.8812800645828247),\n",
              " ('coronahoax', 0.8800473809242249),\n",
              " ('faucithefraud', 0.8684519529342651),\n",
              " ('truthmatters', 0.8673801422119141),\n",
              " ('！', 0.8583126068115234),\n",
              " ('antilockdown', 0.8563845753669739)]"
            ]
          },
          "metadata": {
            "tags": []
          },
          "execution_count": 64
        }
      ]
    },
    {
      "cell_type": "code",
      "metadata": {
        "colab": {
          "base_uri": "https://localhost:8080/"
        },
        "id": "pKqZ_BsPaUl0",
        "outputId": "ec08f206-36b7-4eca-df46-f368740a5714"
      },
      "source": [
        "retrieve_tweets('antilockdown', 10)"
      ],
      "execution_count": null,
      "outputs": [
        {
          "output_type": "stream",
          "text": [
            "I dag starter  denne serie fra @NGeografic  #anticorona #antilockdown #Corona  #CoronaPanik #coronavirus  #Coronavirustruth #covid19  #covid2019  #COVIDー19 #covid_19 #coronadk #coronadebat #Coronakrise #coronavirusdk #covid2019dk #NoMask #NoMasXenofobia.  https://t.co/zN0kbwVBhX\n",
            " \n",
            "Why some of us stick to deadly beliefs#anticorona   #antilockdown #Corona  #CoronaPanik #coronavirus  #Coronavirustruth #covid19  #covid2019  #COVIDー19 #covid_19 #coronadk #coronadebat #Coronakrise #coronavirusdk #covid2019dk #NoMask #NoMasXenofobia    https://t.co/P8jHDULxj6\n",
            " \n",
            "Why some of us stick to deadly beliefs#anticorona  #antilockdown #Corona  #CoronaPanik #coronavirus  #Coronavirustruth #covid19  #covid2019  #COVIDー19 #covid_19 #coronadk #coronadebat #Coronakrise #coronavirusdk #covid2019dk #NoMask #NoMasXenofobia    https://t.co/P8jHDULxj6\n",
            " \n",
            "Why some of us stick to deadly beliefs#anticorona #antilockdown #Corona  #CoronaPanik #coronavirus  #Coronavirustruth #covid19  #covid2019  #COVIDー19 #covid_19 #coronadk #coronadebat #Coronakrise #coronavirusdk #covid2019dk #NoMask #NoMasXenofobia    https://t.co/P8jHDULxj6\n",
            " \n",
            "Why some of us stick to deadly beliefs#anticorona  #antilockdown #Corona  #CoronaPanik #coronavirus  #Coronavirustruth #covid19  #covid2019  #COVIDー19 #covid_19 #coronadk #coronadebat #Coronakrise #coronavirusdk #covid2019dk #NoMask #NoMasXenofobia    https://t.co/P8jHDULxj6\n",
            " \n",
            "Why some of us stick to deadly beliefs#anticorona #antilockdown #Corona  #CoronaPanik #coronavirus  #Coronavirustruth #covid19  #covid2019  #COVIDー19 #covid_19 #coronadk #coronadebat #Coronakrise #coronavirusdk #covid2019dk #NoMask #NoMasXenofobia    https://t.co/P8jHDULxj6\n",
            " \n",
            "I dag starter  denne serie fra @NGeografic  #anticorona #antilockdown #Corona  #CoronaPanik #coronavirus  #Coronavirustruth #covid19  #covid2019  #COVIDー19 #covid_19 #coronadk #coronadebat #Coronakrise #coronavirusdk #covid2019dk #NoMask #NoMasXenofobia.  https://t.co/zN0kbwVBhX\n",
            " \n",
            "#anticorona #antilockdown #Corona #CoronaPanik #coronavirus #covid19 #covid2019  #COVIDー19 #covid_19 #coronadk #coronadebat #Coronakrise #coronavirusdk #covid2019dk #NoMask #NoMasXenofobia #vaccine #dkmedier #DK #Danmark #dksocial #nytår #nytårsfest   https://t.co/p5XTOh9Qth\n",
            " \n",
            "#anticorona #antilockdown #Corona #CoronaPanik #coronavirus #covid19 #covid2019  #COVIDー19 #covid_19 #coronadk #coronadebat #Coronakrise #coronavirusdk #covid2019dk #NoMask #NoMasXenofobia #vaccine #dkmedier #DK #Danmark #dksocial #nytår #nytårsfest    https://t.co/p5XTOh9Qth\n",
            " \n",
            "#anticorona #antilockdown #Corona #CoronaPanik #coronavirus #covid19 #covid2019  #COVIDー19 #covid_19 #coronadk #coronadebat #Coronakrise #coronavirusdk #covid2019dk #NoMask #NoMasXenofobia #vaccine #dkmedier #DK #Danmark #dksocial #nytår #nytårsfest  https://t.co/p5XTOh9Qth\n",
            " \n"
          ],
          "name": "stdout"
        }
      ]
    },
    {
      "cell_type": "code",
      "metadata": {
        "colab": {
          "base_uri": "https://localhost:8080/"
        },
        "id": "BhmDwp4qaeai",
        "outputId": "0f3beda1-d22e-4bfc-8035-94b1971dd399"
      },
      "source": [
        "retrieve_tweets('truthmatters', 10)"
      ],
      "execution_count": null,
      "outputs": [
        {
          "output_type": "stream",
          "text": [
            "One day Trump will be on his deathbed, and his last words will be “this is Obama’s fault.” #PresidentialAddress #blame #leadershipmatters #president #politics #Coronavirustruth #CoronavirusUSA #COVID19 #Covid_19 #TrumpVirus #PressConference #FactsMatter #truthmatters #freepress\n",
            " \n"
          ],
          "name": "stdout"
        }
      ]
    },
    {
      "cell_type": "code",
      "metadata": {
        "colab": {
          "base_uri": "https://localhost:8080/"
        },
        "id": "e5KkdJPzapAB",
        "outputId": "8e95e20d-84dc-463e-bc81-78eb374d181a"
      },
      "source": [
        "model.most_similar('wuhanvirus', topn=8)"
      ],
      "execution_count": null,
      "outputs": [
        {
          "output_type": "stream",
          "text": [
            "/usr/local/lib/python3.7/dist-packages/ipykernel_launcher.py:1: DeprecationWarning: Call to deprecated `most_similar` (Method will be removed in 4.0.0, use self.wv.most_similar() instead).\n",
            "  \"\"\"Entry point for launching an IPython kernel.\n"
          ],
          "name": "stderr"
        },
        {
          "output_type": "execute_result",
          "data": {
            "text/plain": [
              "[('ccpvirus', 0.919272780418396),\n",
              " ('chinaliedpeopledied', 0.8940836191177368),\n",
              " ('wuhancoronavirus', 0.8791123628616333),\n",
              " ('chinacoronavirus', 0.8748027682304382),\n",
              " ('chinavirus', 0.8734541535377502),\n",
              " ('武漢', 0.8673500418663025),\n",
              " ('ebolachan', 0.8426983952522278),\n",
              " ('coronavirusitaly', 0.8422478437423706)]"
            ]
          },
          "metadata": {
            "tags": []
          },
          "execution_count": 69
        }
      ]
    },
    {
      "cell_type": "code",
      "metadata": {
        "colab": {
          "base_uri": "https://localhost:8080/"
        },
        "id": "u0BBLxY7avco",
        "outputId": "8e8ebe7c-64f2-4a8f-c862-b6b4d53c0a43"
      },
      "source": [
        "model.most_similar('chinaliedpeopledied', topn=8)"
      ],
      "execution_count": null,
      "outputs": [
        {
          "output_type": "stream",
          "text": [
            "/usr/local/lib/python3.7/dist-packages/ipykernel_launcher.py:1: DeprecationWarning: Call to deprecated `most_similar` (Method will be removed in 4.0.0, use self.wv.most_similar() instead).\n",
            "  \"\"\"Entry point for launching an IPython kernel.\n"
          ],
          "name": "stderr"
        },
        {
          "output_type": "execute_result",
          "data": {
            "text/plain": [
              "[('ccpvirus', 0.9099514484405518),\n",
              " ('chinavirus', 0.8996278047561646),\n",
              " ('wuhanvirus', 0.8940836787223816),\n",
              " ('chinacoronavirus', 0.8795024156570435),\n",
              " ('coronavirusitaly', 0.8550641536712646),\n",
              " ('milesguo', 0.8533816337585449),\n",
              " ('indiachinafaceoff', 0.851619303226471),\n",
              " ('chinesevirus', 0.8515738844871521)]"
            ]
          },
          "metadata": {
            "tags": []
          },
          "execution_count": 70
        }
      ]
    },
    {
      "cell_type": "code",
      "metadata": {
        "colab": {
          "base_uri": "https://localhost:8080/"
        },
        "id": "xjXeiKtGa6Tt",
        "outputId": "5222b85f-848a-40a8-b409-717997f65498"
      },
      "source": [
        "model.most_similar('chinesevirus', topn=8)"
      ],
      "execution_count": null,
      "outputs": [
        {
          "output_type": "stream",
          "text": [
            "/usr/local/lib/python3.7/dist-packages/ipykernel_launcher.py:1: DeprecationWarning: Call to deprecated `most_similar` (Method will be removed in 4.0.0, use self.wv.most_similar() instead).\n",
            "  \"\"\"Entry point for launching an IPython kernel.\n"
          ],
          "name": "stderr"
        },
        {
          "output_type": "execute_result",
          "data": {
            "text/plain": [
              "[('chinaliedpeopledied', 0.8515738844871521),\n",
              " ('ccpvirus', 0.8163449764251709),\n",
              " ('coronav', 0.8135181665420532),\n",
              " ('wuhanvirus', 0.808754026889801),\n",
              " ('chinavirus', 0.8080449104309082),\n",
              " ('viruscorona', 0.7937629222869873),\n",
              " ('wuhancoronavirus', 0.7908786535263062),\n",
              " ('coronavirusitaly', 0.7824411988258362)]"
            ]
          },
          "metadata": {
            "tags": []
          },
          "execution_count": 71
        }
      ]
    },
    {
      "cell_type": "code",
      "metadata": {
        "colab": {
          "base_uri": "https://localhost:8080/"
        },
        "id": "eYhKhFila_0-",
        "outputId": "2ef8d778-8688-43c6-88a1-bc07dbc5b4cd"
      },
      "source": [
        "model.most_similar('ccpvirus', topn=8)"
      ],
      "execution_count": null,
      "outputs": [
        {
          "output_type": "stream",
          "text": [
            "/usr/local/lib/python3.7/dist-packages/ipykernel_launcher.py:1: DeprecationWarning: Call to deprecated `most_similar` (Method will be removed in 4.0.0, use self.wv.most_similar() instead).\n",
            "  \"\"\"Entry point for launching an IPython kernel.\n"
          ],
          "name": "stderr"
        },
        {
          "output_type": "execute_result",
          "data": {
            "text/plain": [
              "[('wuhanvirus', 0.9192728400230408),\n",
              " ('chinaliedpeopledied', 0.9099514484405518),\n",
              " ('chinavirus', 0.868865430355072),\n",
              " ('ccpchina', 0.8685430884361267),\n",
              " ('chinacoronavirus', 0.8620230555534363),\n",
              " ('milesguo', 0.8614311218261719),\n",
              " ('wuhancoronavirus', 0.8588829040527344),\n",
              " ('drlimengyan', 0.8450254201889038)]"
            ]
          },
          "metadata": {
            "tags": []
          },
          "execution_count": 72
        }
      ]
    },
    {
      "cell_type": "code",
      "metadata": {
        "colab": {
          "base_uri": "https://localhost:8080/"
        },
        "id": "bZ49eAUdd3zS",
        "outputId": "88e0b22e-ab7f-4036-e6ac-89efe44b37dd"
      },
      "source": [
        "retrieve_tweets('ccpvirus', 8)"
      ],
      "execution_count": null,
      "outputs": [
        {
          "output_type": "stream",
          "text": [
            "\"Compared to Europe and America, 4000 did not equals to no dead at all\"  Li Yi is a Chinese sociologist at Fuzhou University. a running dog of the communist party of China.   #ccpvirustruth #ccpvirus #virus #covid_19 #sarscov2 #bioweapen   #HCQ #drlimengyan #whistleblowermovement  https://t.co/BtYtXj5Ixp\n",
            " \n"
          ],
          "name": "stdout"
        }
      ]
    },
    {
      "cell_type": "code",
      "metadata": {
        "colab": {
          "base_uri": "https://localhost:8080/"
        },
        "id": "J-yAzjJWbDVL",
        "outputId": "ffe7c167-089a-494f-8ecb-1628119a81e4"
      },
      "source": [
        "model.most_similar('ebolachan', topn=8)"
      ],
      "execution_count": null,
      "outputs": [
        {
          "output_type": "stream",
          "text": [
            "/usr/local/lib/python3.7/dist-packages/ipykernel_launcher.py:1: DeprecationWarning: Call to deprecated `most_similar` (Method will be removed in 4.0.0, use self.wv.most_similar() instead).\n",
            "  \"\"\"Entry point for launching an IPython kernel.\n"
          ],
          "name": "stderr"
        },
        {
          "output_type": "execute_result",
          "data": {
            "text/plain": [
              "[('武漢', 0.9850952625274658),\n",
              " ('コロナちゃん', 0.9623492360115051),\n",
              " ('wuflu', 0.8924451470375061),\n",
              " ('coronachan', 0.8905728459358215),\n",
              " ('wuhancoronavirus', 0.8716447353363037),\n",
              " ('pndahugger', 0.8484799265861511),\n",
              " ('milesguo', 0.8433560729026794),\n",
              " ('wuhanvirus', 0.842698335647583)]"
            ]
          },
          "metadata": {
            "tags": []
          },
          "execution_count": 73
        }
      ]
    },
    {
      "cell_type": "code",
      "metadata": {
        "colab": {
          "base_uri": "https://localhost:8080/"
        },
        "id": "aEgYsLtzdhs6",
        "outputId": "ad755448-3049-42b4-dbd9-b054daecdc8b"
      },
      "source": [
        "retrieve_tweets('ebolachan', 10)"
      ],
      "execution_count": null,
      "outputs": [
        {
          "output_type": "stream",
          "text": [
            "Stop #coronavirus  Call for the resignation of Tedros Adhanom Ghebreyesus, #WHO Director General ⬇⬇✒  https://t.co/NkaCos8Ld5  #coronaviruschina #Pndahugger  #coronachan #corona_chan #コロナちゃん #コロナウイルスちゃん #WuhanVirus #武漢 #Ebola #ebolachan  https://t.co/bQEQFEFxGw\n",
            " \n",
            "Stop #coronavirus  Call for the resignation of Tedros Adhanom Ghebreyesus, #WHO Director General ⬇⬇✒  https://t.co/NkaCos8Ld5  #coronaviruschina #Pndahugger  #coronachan #corona_chan #コロナちゃん #コロナウイルスちゃん #WuhanVirus #武漢 #Ebola #ebolachan  https://t.co/bQEQFEFxGw\n",
            " \n",
            "Tedros, You're fired! ✒⬇  https://t.co/NkaCos8Ld5 #coronaviruschina #Pndahugger #coronachan #corona_chan #コロナちゃん #コロナウイルスちゃん #WuhanVirus #武漢 #coronavirus_chan #Ebola #ebolachan #ebola_chan #エボラちゃん #WuhanCoronavirus #Wuhan #coronavirusoutbreak #coronavirus\n",
            " \n",
            "Tedros, You're fired! ✒⬇  https://t.co/NkaCos8Ld5  #coronaviruschina #Pndahugger #coronachan #corona_chan #コロナちゃん #コロナウイルスちゃん #WuhanVirus #武漢 #wuflu #Ebola #ebolachan #ebola_chan #WuhanCoronavirus #Wuhan #coronavirusoutbreak #coronavirus  https://t.co/GGhfZLo3Vw\n",
            " \n",
            "Tedros, You're fired! ✒⬇  https://t.co/NkaCos8Ld5  #coronaviruschina #Pndahugger #coronachan #corona_chan #コロナちゃん #コロナウイルスちゃん #WuhanVirus #武漢 #wuflu #Ebola #ebolachan #ebola_chan #WuhanCoronavirus #Wuhan #coronavirusoutbreak #coronavirus  https://t.co/GGhfZLo3Vw\n",
            " \n",
            "Stop #coronavirus  Call for the resignation of Tedros Adhanom Ghebreyesus, #WHO Director General ⬇⬇✒  https://t.co/NkaCos8Ld5  #coronaviruschina #Pndahugger  #coronachan #corona_chan #コロナちゃん #コロナウィルスちゃん #WuhanVirus #武漢 #Ebola #ebolachan  https://t.co/VbjFzkepRI\n",
            " \n",
            "Stop #coronavirus  Call for the resignation of Tedros Adhanom Ghebreyesus, #WHO Director General ⬇⬇✒  https://t.co/NkaCos8Ld5  #coronaviruschina #Pndahugger  #coronachan #corona_chan #コロナちゃん #コロナウィルスちゃん #WuhanVirus #武漢 #Ebola #ebolachan  https://t.co/2k49YCuTQm\n",
            " \n",
            "Tedros, You're fired! ✒⬇  https://t.co/NkaCos8Ld5  #coronaviruschina #Pndahugger #coronachan #corona_chan #コロナちゃん #コロナウイルスちゃん #WuhanVirus #武漢 #wuflu #Ebola #ebolachan #ebola_chan #WuhanCoronavirus #Wuhan #coronavirusoutbreak #coronavirus  https://t.co/GGhfZLo3Vw\n",
            " \n",
            "Stop #coronavirus  Call for the resignation of Tedros Adhanom Ghebreyesus, #WHO Director General ⬇⬇✒  https://t.co/NkaCos8Ld5  #coronaviruschina #Pndahugger  #coronachan #corona_chan #コロナちゃん #コロナウィルスちゃん #WuhanVirus #武漢 #Ebola #ebolachan  https://t.co/VQ2gFSS62l\n",
            " \n",
            "Stop #coronavirus  Call for the resignation of Tedros Adhanom Ghebreyesus, #WHO Director General ⬇⬇✒  https://t.co/NkaCos8Ld5  #coronaviruschina #Pndahugger  #coronachan #corona_chan #コロナちゃん #コロナウイルスちゃん #WuhanVirus #武漢 #Ebola #ebolachan  https://t.co/bQEQFEFxGw\n",
            " \n"
          ],
          "name": "stdout"
        }
      ]
    },
    {
      "cell_type": "code",
      "metadata": {
        "colab": {
          "base_uri": "https://localhost:8080/"
        },
        "id": "bPNnD61NdmOZ",
        "outputId": "d82cb910-10d2-4f72-b5d1-8684c33c6083"
      },
      "source": [
        "retrieve_tweets('wuflu', 25)"
      ],
      "execution_count": null,
      "outputs": [
        {
          "output_type": "stream",
          "text": [
            "@Digbylj @jjcwow liberals= champagne socialists &amp; true fascists !  do as i say - not do ! hate of blue collar ! Corona is the new FLU it will be back again and again and again, as designed ! wuflu will kill the sick and weak only,  no matter age or wealth. no cure for the common cold or flu.\n",
            " \n",
            "Tedros, You're fired! ✒⬇  https://t.co/NkaCos8Ld5  #coronaviruschina #Pndahugger #coronachan #corona_chan #コロナちゃん #コロナウイルスちゃん #WuhanVirus #武漢 #wuflu #Ebola #ebolachan #ebola_chan #WuhanCoronavirus #Wuhan #coronavirusoutbreak #coronavirus  https://t.co/GGhfZLo3Vw\n",
            " \n",
            "Tedros, You're fired! ✒⬇  https://t.co/NkaCos8Ld5  #coronaviruschina #Pndahugger #coronachan #corona_chan #コロナちゃん #コロナウイルスちゃん #WuhanVirus #武漢 #wuflu #Ebola #ebolachan #ebola_chan #WuhanCoronavirus #Wuhan #coronavirusoutbreak #coronavirus  https://t.co/GGhfZLo3Vw\n",
            " \n",
            "Tedros, You're fired! ✒⬇  https://t.co/NkaCos8Ld5  #coronaviruschina #Pndahugger #coronachan #corona_chan #コロナちゃん #コロナウイルスちゃん #WuhanVirus #武漢 #wuflu #Ebola #ebolachan #ebola_chan #WuhanCoronavirus #Wuhan #coronavirusoutbreak #coronavirus  https://t.co/GGhfZLo3Vw\n",
            " \n"
          ],
          "name": "stdout"
        }
      ]
    },
    {
      "cell_type": "code",
      "metadata": {
        "colab": {
          "base_uri": "https://localhost:8080/",
          "height": 358
        },
        "id": "ssz79Pl3dvcn",
        "outputId": "6021b970-3463-451d-abf4-7b8efe97b37d"
      },
      "source": [
        ""
      ],
      "execution_count": null,
      "outputs": [
        {
          "output_type": "stream",
          "text": [
            "/usr/local/lib/python3.7/dist-packages/ipykernel_launcher.py:1: DeprecationWarning: Call to deprecated `most_similar` (Method will be removed in 4.0.0, use self.wv.most_similar() instead).\n",
            "  \"\"\"Entry point for launching an IPython kernel.\n"
          ],
          "name": "stderr"
        },
        {
          "output_type": "error",
          "ename": "KeyError",
          "evalue": "ignored",
          "traceback": [
            "\u001b[0;31m---------------------------------------------------------------------------\u001b[0m",
            "\u001b[0;31mKeyError\u001b[0m                                  Traceback (most recent call last)",
            "\u001b[0;32m<ipython-input-80-564bed55171c>\u001b[0m in \u001b[0;36m<module>\u001b[0;34m()\u001b[0m\n\u001b[0;32m----> 1\u001b[0;31m \u001b[0mmodel\u001b[0m\u001b[0;34m.\u001b[0m\u001b[0mmost_similar\u001b[0m\u001b[0;34m(\u001b[0m\u001b[0;34m'virustruth'\u001b[0m\u001b[0;34m,\u001b[0m \u001b[0mtopn\u001b[0m\u001b[0;34m=\u001b[0m\u001b[0;36m8\u001b[0m\u001b[0;34m)\u001b[0m\u001b[0;34m\u001b[0m\u001b[0;34m\u001b[0m\u001b[0m\n\u001b[0m",
            "\u001b[0;32m/usr/local/lib/python3.7/dist-packages/gensim/utils.py\u001b[0m in \u001b[0;36mnew_func1\u001b[0;34m(*args, **kwargs)\u001b[0m\n\u001b[1;32m   1420\u001b[0m                     \u001b[0mstacklevel\u001b[0m\u001b[0;34m=\u001b[0m\u001b[0;36m2\u001b[0m\u001b[0;34m\u001b[0m\u001b[0;34m\u001b[0m\u001b[0m\n\u001b[1;32m   1421\u001b[0m                 )\n\u001b[0;32m-> 1422\u001b[0;31m                 \u001b[0;32mreturn\u001b[0m \u001b[0mfunc\u001b[0m\u001b[0;34m(\u001b[0m\u001b[0;34m*\u001b[0m\u001b[0margs\u001b[0m\u001b[0;34m,\u001b[0m \u001b[0;34m**\u001b[0m\u001b[0mkwargs\u001b[0m\u001b[0;34m)\u001b[0m\u001b[0;34m\u001b[0m\u001b[0;34m\u001b[0m\u001b[0m\n\u001b[0m\u001b[1;32m   1423\u001b[0m \u001b[0;34m\u001b[0m\u001b[0m\n\u001b[1;32m   1424\u001b[0m             \u001b[0;32mreturn\u001b[0m \u001b[0mnew_func1\u001b[0m\u001b[0;34m\u001b[0m\u001b[0;34m\u001b[0m\u001b[0m\n",
            "\u001b[0;32m/usr/local/lib/python3.7/dist-packages/gensim/models/base_any2vec.py\u001b[0m in \u001b[0;36mmost_similar\u001b[0;34m(self, positive, negative, topn, restrict_vocab, indexer)\u001b[0m\n\u001b[1;32m   1395\u001b[0m \u001b[0;34m\u001b[0m\u001b[0m\n\u001b[1;32m   1396\u001b[0m         \"\"\"\n\u001b[0;32m-> 1397\u001b[0;31m         \u001b[0;32mreturn\u001b[0m \u001b[0mself\u001b[0m\u001b[0;34m.\u001b[0m\u001b[0mwv\u001b[0m\u001b[0;34m.\u001b[0m\u001b[0mmost_similar\u001b[0m\u001b[0;34m(\u001b[0m\u001b[0mpositive\u001b[0m\u001b[0;34m,\u001b[0m \u001b[0mnegative\u001b[0m\u001b[0;34m,\u001b[0m \u001b[0mtopn\u001b[0m\u001b[0;34m,\u001b[0m \u001b[0mrestrict_vocab\u001b[0m\u001b[0;34m,\u001b[0m \u001b[0mindexer\u001b[0m\u001b[0;34m)\u001b[0m\u001b[0;34m\u001b[0m\u001b[0;34m\u001b[0m\u001b[0m\n\u001b[0m\u001b[1;32m   1398\u001b[0m \u001b[0;34m\u001b[0m\u001b[0m\n\u001b[1;32m   1399\u001b[0m     \u001b[0;34m@\u001b[0m\u001b[0mdeprecated\u001b[0m\u001b[0;34m(\u001b[0m\u001b[0;34m\"Method will be removed in 4.0.0, use self.wv.wmdistance() instead\"\u001b[0m\u001b[0;34m)\u001b[0m\u001b[0;34m\u001b[0m\u001b[0;34m\u001b[0m\u001b[0m\n",
            "\u001b[0;32m/usr/local/lib/python3.7/dist-packages/gensim/models/keyedvectors.py\u001b[0m in \u001b[0;36mmost_similar\u001b[0;34m(self, positive, negative, topn, restrict_vocab, indexer)\u001b[0m\n\u001b[1;32m    529\u001b[0m                 \u001b[0mmean\u001b[0m\u001b[0;34m.\u001b[0m\u001b[0mappend\u001b[0m\u001b[0;34m(\u001b[0m\u001b[0mweight\u001b[0m \u001b[0;34m*\u001b[0m \u001b[0mword\u001b[0m\u001b[0;34m)\u001b[0m\u001b[0;34m\u001b[0m\u001b[0;34m\u001b[0m\u001b[0m\n\u001b[1;32m    530\u001b[0m             \u001b[0;32melse\u001b[0m\u001b[0;34m:\u001b[0m\u001b[0;34m\u001b[0m\u001b[0;34m\u001b[0m\u001b[0m\n\u001b[0;32m--> 531\u001b[0;31m                 \u001b[0mmean\u001b[0m\u001b[0;34m.\u001b[0m\u001b[0mappend\u001b[0m\u001b[0;34m(\u001b[0m\u001b[0mweight\u001b[0m \u001b[0;34m*\u001b[0m \u001b[0mself\u001b[0m\u001b[0;34m.\u001b[0m\u001b[0mword_vec\u001b[0m\u001b[0;34m(\u001b[0m\u001b[0mword\u001b[0m\u001b[0;34m,\u001b[0m \u001b[0muse_norm\u001b[0m\u001b[0;34m=\u001b[0m\u001b[0;32mTrue\u001b[0m\u001b[0;34m)\u001b[0m\u001b[0;34m)\u001b[0m\u001b[0;34m\u001b[0m\u001b[0;34m\u001b[0m\u001b[0m\n\u001b[0m\u001b[1;32m    532\u001b[0m                 \u001b[0;32mif\u001b[0m \u001b[0mword\u001b[0m \u001b[0;32min\u001b[0m \u001b[0mself\u001b[0m\u001b[0;34m.\u001b[0m\u001b[0mvocab\u001b[0m\u001b[0;34m:\u001b[0m\u001b[0;34m\u001b[0m\u001b[0;34m\u001b[0m\u001b[0m\n\u001b[1;32m    533\u001b[0m                     \u001b[0mall_words\u001b[0m\u001b[0;34m.\u001b[0m\u001b[0madd\u001b[0m\u001b[0;34m(\u001b[0m\u001b[0mself\u001b[0m\u001b[0;34m.\u001b[0m\u001b[0mvocab\u001b[0m\u001b[0;34m[\u001b[0m\u001b[0mword\u001b[0m\u001b[0;34m]\u001b[0m\u001b[0;34m.\u001b[0m\u001b[0mindex\u001b[0m\u001b[0;34m)\u001b[0m\u001b[0;34m\u001b[0m\u001b[0;34m\u001b[0m\u001b[0m\n",
            "\u001b[0;32m/usr/local/lib/python3.7/dist-packages/gensim/models/keyedvectors.py\u001b[0m in \u001b[0;36mword_vec\u001b[0;34m(self, word, use_norm)\u001b[0m\n\u001b[1;32m    450\u001b[0m             \u001b[0;32mreturn\u001b[0m \u001b[0mresult\u001b[0m\u001b[0;34m\u001b[0m\u001b[0;34m\u001b[0m\u001b[0m\n\u001b[1;32m    451\u001b[0m         \u001b[0;32melse\u001b[0m\u001b[0;34m:\u001b[0m\u001b[0;34m\u001b[0m\u001b[0;34m\u001b[0m\u001b[0m\n\u001b[0;32m--> 452\u001b[0;31m             \u001b[0;32mraise\u001b[0m \u001b[0mKeyError\u001b[0m\u001b[0;34m(\u001b[0m\u001b[0;34m\"word '%s' not in vocabulary\"\u001b[0m \u001b[0;34m%\u001b[0m \u001b[0mword\u001b[0m\u001b[0;34m)\u001b[0m\u001b[0;34m\u001b[0m\u001b[0;34m\u001b[0m\u001b[0m\n\u001b[0m\u001b[1;32m    453\u001b[0m \u001b[0;34m\u001b[0m\u001b[0m\n\u001b[1;32m    454\u001b[0m     \u001b[0;32mdef\u001b[0m \u001b[0mget_vector\u001b[0m\u001b[0;34m(\u001b[0m\u001b[0mself\u001b[0m\u001b[0;34m,\u001b[0m \u001b[0mword\u001b[0m\u001b[0;34m)\u001b[0m\u001b[0;34m:\u001b[0m\u001b[0;34m\u001b[0m\u001b[0;34m\u001b[0m\u001b[0m\n",
            "\u001b[0;31mKeyError\u001b[0m: \"word 'virustruth' not in vocabulary\""
          ]
        }
      ]
    },
    {
      "cell_type": "code",
      "metadata": {
        "colab": {
          "base_uri": "https://localhost:8080/"
        },
        "id": "J4QDcHcWeD06",
        "outputId": "03b499b2-c4ce-449f-832e-70b720cbbdb0"
      },
      "source": [
        "!java --version"
      ],
      "execution_count": null,
      "outputs": [
        {
          "output_type": "stream",
          "text": [
            "openjdk 11.0.10 2021-01-19\n",
            "OpenJDK Runtime Environment (build 11.0.10+9-Ubuntu-0ubuntu1.18.04)\n",
            "OpenJDK 64-Bit Server VM (build 11.0.10+9-Ubuntu-0ubuntu1.18.04, mixed mode, sharing)\n"
          ],
          "name": "stdout"
        }
      ]
    },
    {
      "cell_type": "code",
      "metadata": {
        "id": "dkxixiyRsLK2",
        "colab": {
          "base_uri": "https://localhost:8080/"
        },
        "outputId": "5c564c02-a535-4400-b751-9056391589be"
      },
      "source": [
        "%whos"
      ],
      "execution_count": null,
      "outputs": [
        {
          "output_type": "stream",
          "text": [
            "Variable   Type      Data/Info\n",
            "------------------------------\n",
            "drive      module    <module 'google.colab.dri<...>s/google/colab/drive.py'>\n"
          ],
          "name": "stdout"
        }
      ]
    },
    {
      "cell_type": "code",
      "metadata": {
        "id": "Sk8bnHDNI3yC"
      },
      "source": [
        ""
      ],
      "execution_count": null,
      "outputs": []
    },
    {
      "cell_type": "code",
      "metadata": {
        "id": "7xXH8T3GJBNB"
      },
      "source": [
        ""
      ],
      "execution_count": null,
      "outputs": []
    },
    {
      "cell_type": "code",
      "metadata": {
        "id": "9AF1KjH-JPKd"
      },
      "source": [
        ""
      ],
      "execution_count": null,
      "outputs": []
    },
    {
      "cell_type": "code",
      "metadata": {
        "id": "BGDD_Dp5JP2p"
      },
      "source": [
        ""
      ],
      "execution_count": null,
      "outputs": []
    },
    {
      "cell_type": "code",
      "metadata": {
        "id": "zoIABwudJd4M"
      },
      "source": [
        ""
      ],
      "execution_count": null,
      "outputs": []
    },
    {
      "cell_type": "code",
      "metadata": {
        "id": "4iMikjz_Jepn"
      },
      "source": [
        ""
      ],
      "execution_count": null,
      "outputs": []
    },
    {
      "cell_type": "code",
      "metadata": {
        "id": "fmhVAxvXJskb"
      },
      "source": [
        ""
      ],
      "execution_count": null,
      "outputs": []
    },
    {
      "cell_type": "code",
      "metadata": {
        "id": "taTSjO-AJtTO"
      },
      "source": [
        ""
      ],
      "execution_count": null,
      "outputs": []
    },
    {
      "cell_type": "code",
      "metadata": {
        "id": "7ZeeGCoIJ7N2"
      },
      "source": [
        ""
      ],
      "execution_count": null,
      "outputs": []
    },
    {
      "cell_type": "code",
      "metadata": {
        "id": "wrRzTRkfJ78v"
      },
      "source": [
        ""
      ],
      "execution_count": null,
      "outputs": []
    },
    {
      "cell_type": "code",
      "metadata": {
        "id": "UM-sAQQAKJ3d"
      },
      "source": [
        ""
      ],
      "execution_count": null,
      "outputs": []
    },
    {
      "cell_type": "code",
      "metadata": {
        "id": "Jre9Y8o9KKmV"
      },
      "source": [
        ""
      ],
      "execution_count": null,
      "outputs": []
    },
    {
      "cell_type": "code",
      "metadata": {
        "id": "vrZZ6fooKYg2"
      },
      "source": [
        ""
      ],
      "execution_count": null,
      "outputs": []
    },
    {
      "cell_type": "code",
      "metadata": {
        "id": "3GoRmpDsKZPu"
      },
      "source": [
        ""
      ],
      "execution_count": null,
      "outputs": []
    },
    {
      "cell_type": "code",
      "metadata": {
        "id": "bR2ZYOFRKnKo"
      },
      "source": [
        ""
      ],
      "execution_count": null,
      "outputs": []
    },
    {
      "cell_type": "code",
      "metadata": {
        "id": "TcUQDEAZKqlQ"
      },
      "source": [
        ""
      ],
      "execution_count": null,
      "outputs": []
    },
    {
      "cell_type": "code",
      "metadata": {
        "id": "pGJirE69K5O0"
      },
      "source": [
        ""
      ],
      "execution_count": null,
      "outputs": []
    },
    {
      "cell_type": "code",
      "metadata": {
        "id": "pENxLk84K5Pv"
      },
      "source": [
        ""
      ],
      "execution_count": null,
      "outputs": []
    },
    {
      "cell_type": "code",
      "metadata": {
        "id": "sFpztQx9LH4V"
      },
      "source": [
        ""
      ],
      "execution_count": null,
      "outputs": []
    },
    {
      "cell_type": "code",
      "metadata": {
        "id": "wSwXypsMLH5U"
      },
      "source": [
        ""
      ],
      "execution_count": null,
      "outputs": []
    }
  ]
}