{
 "cells": [
  {
   "cell_type": "code",
   "execution_count": 2,
   "id": "metallic-freeze",
   "metadata": {},
   "outputs": [],
   "source": [
    "import pandas as pd\n",
    "import numpy as np\n",
    "import csv\n",
    "from langdetect import detect_langs, detect\n",
    "from html.parser import HTMLParser\n",
    "import re\n",
    "import string"
   ]
  },
  {
   "cell_type": "code",
   "execution_count": null,
   "id": "protected-bunny",
   "metadata": {},
   "outputs": [],
   "source": [
    "import pickle"
   ]
  },
  {
   "cell_type": "code",
   "execution_count": 53,
   "id": "prescribed-series",
   "metadata": {},
   "outputs": [],
   "source": [
    "file_list = ['_03_20','04_20', '05_20', '06_20', '07_20', '08_20', '09_20' , '10_20', '11_20','12_20','01_21','02_21', '2_03_20', '2_04_20', '2_05_20', '2_06_20', '2_07_20', '2_08_20', '2_09_20', '2_10_20', '2_11_20', '2_12_20', '2_01_21','2_02_21']"
   ]
  },
  {
   "cell_type": "code",
   "execution_count": 54,
   "id": "auburn-walter",
   "metadata": {},
   "outputs": [],
   "source": [
    "url = '/Users/jess/workspace/twint/twint/english_tweets{}.csv'"
   ]
  },
  {
   "cell_type": "code",
   "execution_count": 5,
   "id": "bacterial-mathematics",
   "metadata": {},
   "outputs": [],
   "source": [
    "def get_data(file_list, url, sep):\n",
    "    df_list = []\n",
    "    for file in file_list:\n",
    "        file_url = url.format(file)\n",
    "        df_list.append(pd.read_csv(file_url, sep=sep))\n",
    "    return pd.concat(df_list)"
   ]
  },
  {
   "cell_type": "code",
   "execution_count": 68,
   "id": "drawn-anime",
   "metadata": {},
   "outputs": [
    {
     "name": "stderr",
     "output_type": "stream",
     "text": [
      "/Users/jess/anaconda3/envs/metis/lib/python3.8/site-packages/IPython/core/interactiveshell.py:3347: DtypeWarning: Columns (9) have mixed types.Specify dtype option on import or set low_memory=False.\n",
      "  if (await self.run_code(code, result,  async_=asy)):\n"
     ]
    }
   ],
   "source": [
    "init_df = get_data(file_list, url, sep='\\t')"
   ]
  },
  {
   "cell_type": "code",
   "execution_count": 69,
   "id": "shared-mailman",
   "metadata": {},
   "outputs": [
    {
     "data": {
      "text/html": [
       "<div>\n",
       "<style scoped>\n",
       "    .dataframe tbody tr th:only-of-type {\n",
       "        vertical-align: middle;\n",
       "    }\n",
       "\n",
       "    .dataframe tbody tr th {\n",
       "        vertical-align: top;\n",
       "    }\n",
       "\n",
       "    .dataframe thead th {\n",
       "        text-align: right;\n",
       "    }\n",
       "</style>\n",
       "<table border=\"1\" class=\"dataframe\">\n",
       "  <thead>\n",
       "    <tr style=\"text-align: right;\">\n",
       "      <th></th>\n",
       "      <th>id</th>\n",
       "      <th>conversation_id</th>\n",
       "      <th>created_at</th>\n",
       "      <th>date</th>\n",
       "      <th>time</th>\n",
       "      <th>timezone</th>\n",
       "      <th>user_id</th>\n",
       "      <th>username</th>\n",
       "      <th>name</th>\n",
       "      <th>place</th>\n",
       "      <th>...</th>\n",
       "      <th>geo</th>\n",
       "      <th>source</th>\n",
       "      <th>user_rt_id</th>\n",
       "      <th>user_rt</th>\n",
       "      <th>retweet_id</th>\n",
       "      <th>reply_to</th>\n",
       "      <th>retweet_date</th>\n",
       "      <th>translate</th>\n",
       "      <th>trans_src</th>\n",
       "      <th>trans_dest</th>\n",
       "    </tr>\n",
       "  </thead>\n",
       "  <tbody>\n",
       "    <tr>\n",
       "      <th>0</th>\n",
       "      <td>1244776419676303365</td>\n",
       "      <td>1244776419676303365</td>\n",
       "      <td>2020-03-30 18:59:59 CDT</td>\n",
       "      <td>2020-03-30</td>\n",
       "      <td>18:59:59</td>\n",
       "      <td>-600</td>\n",
       "      <td>1431335726</td>\n",
       "      <td>goreactforasl</td>\n",
       "      <td>GoReact for ASL</td>\n",
       "      <td>NaN</td>\n",
       "      <td>...</td>\n",
       "      <td>NaN</td>\n",
       "      <td>NaN</td>\n",
       "      <td>NaN</td>\n",
       "      <td>NaN</td>\n",
       "      <td>NaN</td>\n",
       "      <td>[]</td>\n",
       "      <td>NaN</td>\n",
       "      <td>NaN</td>\n",
       "      <td>NaN</td>\n",
       "      <td>NaN</td>\n",
       "    </tr>\n",
       "    <tr>\n",
       "      <th>1</th>\n",
       "      <td>1244776419051352069</td>\n",
       "      <td>1244776419051352069</td>\n",
       "      <td>2020-03-30 18:59:59 CDT</td>\n",
       "      <td>2020-03-30</td>\n",
       "      <td>18:59:59</td>\n",
       "      <td>-600</td>\n",
       "      <td>2790113576</td>\n",
       "      <td>nat_accord</td>\n",
       "      <td>NATIONAL ACCORD</td>\n",
       "      <td>NaN</td>\n",
       "      <td>...</td>\n",
       "      <td>NaN</td>\n",
       "      <td>NaN</td>\n",
       "      <td>NaN</td>\n",
       "      <td>NaN</td>\n",
       "      <td>NaN</td>\n",
       "      <td>[]</td>\n",
       "      <td>NaN</td>\n",
       "      <td>NaN</td>\n",
       "      <td>NaN</td>\n",
       "      <td>NaN</td>\n",
       "    </tr>\n",
       "    <tr>\n",
       "      <th>2</th>\n",
       "      <td>1244776418694836225</td>\n",
       "      <td>1244776418694836225</td>\n",
       "      <td>2020-03-30 18:59:59 CDT</td>\n",
       "      <td>2020-03-30</td>\n",
       "      <td>18:59:59</td>\n",
       "      <td>-600</td>\n",
       "      <td>66715854</td>\n",
       "      <td>contactohoy</td>\n",
       "      <td>Contacto Hoy</td>\n",
       "      <td>NaN</td>\n",
       "      <td>...</td>\n",
       "      <td>NaN</td>\n",
       "      <td>NaN</td>\n",
       "      <td>NaN</td>\n",
       "      <td>NaN</td>\n",
       "      <td>NaN</td>\n",
       "      <td>[]</td>\n",
       "      <td>NaN</td>\n",
       "      <td>NaN</td>\n",
       "      <td>NaN</td>\n",
       "      <td>NaN</td>\n",
       "    </tr>\n",
       "    <tr>\n",
       "      <th>3</th>\n",
       "      <td>1244776418598322177</td>\n",
       "      <td>1244776418598322177</td>\n",
       "      <td>2020-03-30 18:59:59 CDT</td>\n",
       "      <td>2020-03-30</td>\n",
       "      <td>18:59:59</td>\n",
       "      <td>-600</td>\n",
       "      <td>1239244116686508033</td>\n",
       "      <td>jockthemess</td>\n",
       "      <td>lenox avenue sosa</td>\n",
       "      <td>NaN</td>\n",
       "      <td>...</td>\n",
       "      <td>NaN</td>\n",
       "      <td>NaN</td>\n",
       "      <td>NaN</td>\n",
       "      <td>NaN</td>\n",
       "      <td>NaN</td>\n",
       "      <td>[]</td>\n",
       "      <td>NaN</td>\n",
       "      <td>NaN</td>\n",
       "      <td>NaN</td>\n",
       "      <td>NaN</td>\n",
       "    </tr>\n",
       "    <tr>\n",
       "      <th>4</th>\n",
       "      <td>1244776418355150849</td>\n",
       "      <td>1244776418355150849</td>\n",
       "      <td>2020-03-30 18:59:59 CDT</td>\n",
       "      <td>2020-03-30</td>\n",
       "      <td>18:59:59</td>\n",
       "      <td>-600</td>\n",
       "      <td>766285567806021634</td>\n",
       "      <td>iburgmetal</td>\n",
       "      <td>TobiB</td>\n",
       "      <td>NaN</td>\n",
       "      <td>...</td>\n",
       "      <td>NaN</td>\n",
       "      <td>NaN</td>\n",
       "      <td>NaN</td>\n",
       "      <td>NaN</td>\n",
       "      <td>NaN</td>\n",
       "      <td>[]</td>\n",
       "      <td>NaN</td>\n",
       "      <td>NaN</td>\n",
       "      <td>NaN</td>\n",
       "      <td>NaN</td>\n",
       "    </tr>\n",
       "  </tbody>\n",
       "</table>\n",
       "<p>5 rows × 36 columns</p>\n",
       "</div>"
      ],
      "text/plain": [
       "                    id      conversation_id               created_at  \\\n",
       "0  1244776419676303365  1244776419676303365  2020-03-30 18:59:59 CDT   \n",
       "1  1244776419051352069  1244776419051352069  2020-03-30 18:59:59 CDT   \n",
       "2  1244776418694836225  1244776418694836225  2020-03-30 18:59:59 CDT   \n",
       "3  1244776418598322177  1244776418598322177  2020-03-30 18:59:59 CDT   \n",
       "4  1244776418355150849  1244776418355150849  2020-03-30 18:59:59 CDT   \n",
       "\n",
       "         date      time  timezone              user_id       username  \\\n",
       "0  2020-03-30  18:59:59      -600           1431335726  goreactforasl   \n",
       "1  2020-03-30  18:59:59      -600           2790113576     nat_accord   \n",
       "2  2020-03-30  18:59:59      -600             66715854    contactohoy   \n",
       "3  2020-03-30  18:59:59      -600  1239244116686508033    jockthemess   \n",
       "4  2020-03-30  18:59:59      -600   766285567806021634     iburgmetal   \n",
       "\n",
       "                name place  ... geo source user_rt_id user_rt retweet_id  \\\n",
       "0    GoReact for ASL   NaN  ... NaN    NaN        NaN     NaN        NaN   \n",
       "1    NATIONAL ACCORD   NaN  ... NaN    NaN        NaN     NaN        NaN   \n",
       "2       Contacto Hoy   NaN  ... NaN    NaN        NaN     NaN        NaN   \n",
       "3  lenox avenue sosa   NaN  ... NaN    NaN        NaN     NaN        NaN   \n",
       "4              TobiB   NaN  ... NaN    NaN        NaN     NaN        NaN   \n",
       "\n",
       "   reply_to  retweet_date  translate trans_src trans_dest  \n",
       "0        []           NaN        NaN       NaN        NaN  \n",
       "1        []           NaN        NaN       NaN        NaN  \n",
       "2        []           NaN        NaN       NaN        NaN  \n",
       "3        []           NaN        NaN       NaN        NaN  \n",
       "4        []           NaN        NaN       NaN        NaN  \n",
       "\n",
       "[5 rows x 36 columns]"
      ]
     },
     "execution_count": 69,
     "metadata": {},
     "output_type": "execute_result"
    }
   ],
   "source": [
    "init_df.head()"
   ]
  },
  {
   "cell_type": "code",
   "execution_count": 70,
   "id": "reduced-values",
   "metadata": {},
   "outputs": [
    {
     "data": {
      "text/plain": [
       "(3296748, 36)"
      ]
     },
     "execution_count": 70,
     "metadata": {},
     "output_type": "execute_result"
    }
   ],
   "source": [
    "init_df.shape"
   ]
  },
  {
   "cell_type": "code",
   "execution_count": 71,
   "id": "liked-employer",
   "metadata": {},
   "outputs": [],
   "source": [
    "init_df.sort_values(by='date', inplace=True, ascending=True)"
   ]
  },
  {
   "cell_type": "code",
   "execution_count": 72,
   "id": "optimum-kazakhstan",
   "metadata": {},
   "outputs": [
    {
     "data": {
      "text/html": [
       "<div>\n",
       "<style scoped>\n",
       "    .dataframe tbody tr th:only-of-type {\n",
       "        vertical-align: middle;\n",
       "    }\n",
       "\n",
       "    .dataframe tbody tr th {\n",
       "        vertical-align: top;\n",
       "    }\n",
       "\n",
       "    .dataframe thead th {\n",
       "        text-align: right;\n",
       "    }\n",
       "</style>\n",
       "<table border=\"1\" class=\"dataframe\">\n",
       "  <thead>\n",
       "    <tr style=\"text-align: right;\">\n",
       "      <th></th>\n",
       "      <th>id</th>\n",
       "      <th>conversation_id</th>\n",
       "      <th>timezone</th>\n",
       "      <th>user_id</th>\n",
       "      <th>replies_count</th>\n",
       "      <th>retweets_count</th>\n",
       "      <th>likes_count</th>\n",
       "      <th>video</th>\n",
       "      <th>near</th>\n",
       "      <th>geo</th>\n",
       "      <th>source</th>\n",
       "      <th>user_rt_id</th>\n",
       "      <th>user_rt</th>\n",
       "      <th>retweet_id</th>\n",
       "      <th>retweet_date</th>\n",
       "      <th>translate</th>\n",
       "      <th>trans_src</th>\n",
       "      <th>trans_dest</th>\n",
       "    </tr>\n",
       "  </thead>\n",
       "  <tbody>\n",
       "    <tr>\n",
       "      <th>count</th>\n",
       "      <td>3.296748e+06</td>\n",
       "      <td>3.296748e+06</td>\n",
       "      <td>3296748.0</td>\n",
       "      <td>3.296748e+06</td>\n",
       "      <td>3.296748e+06</td>\n",
       "      <td>3.296748e+06</td>\n",
       "      <td>3.296748e+06</td>\n",
       "      <td>3.296748e+06</td>\n",
       "      <td>0.0</td>\n",
       "      <td>0.0</td>\n",
       "      <td>0.0</td>\n",
       "      <td>0.0</td>\n",
       "      <td>0.0</td>\n",
       "      <td>0.0</td>\n",
       "      <td>0.0</td>\n",
       "      <td>0.0</td>\n",
       "      <td>0.0</td>\n",
       "      <td>0.0</td>\n",
       "    </tr>\n",
       "    <tr>\n",
       "      <th>mean</th>\n",
       "      <td>1.301612e+18</td>\n",
       "      <td>1.301190e+18</td>\n",
       "      <td>-600.0</td>\n",
       "      <td>4.685562e+17</td>\n",
       "      <td>8.656834e-01</td>\n",
       "      <td>2.358445e+00</td>\n",
       "      <td>1.043739e+01</td>\n",
       "      <td>1.393370e-01</td>\n",
       "      <td>NaN</td>\n",
       "      <td>NaN</td>\n",
       "      <td>NaN</td>\n",
       "      <td>NaN</td>\n",
       "      <td>NaN</td>\n",
       "      <td>NaN</td>\n",
       "      <td>NaN</td>\n",
       "      <td>NaN</td>\n",
       "      <td>NaN</td>\n",
       "      <td>NaN</td>\n",
       "    </tr>\n",
       "    <tr>\n",
       "      <th>std</th>\n",
       "      <td>3.822727e+16</td>\n",
       "      <td>3.980626e+16</td>\n",
       "      <td>0.0</td>\n",
       "      <td>5.511021e+17</td>\n",
       "      <td>2.230864e+01</td>\n",
       "      <td>1.831830e+02</td>\n",
       "      <td>8.860953e+02</td>\n",
       "      <td>3.462979e-01</td>\n",
       "      <td>NaN</td>\n",
       "      <td>NaN</td>\n",
       "      <td>NaN</td>\n",
       "      <td>NaN</td>\n",
       "      <td>NaN</td>\n",
       "      <td>NaN</td>\n",
       "      <td>NaN</td>\n",
       "      <td>NaN</td>\n",
       "      <td>NaN</td>\n",
       "      <td>NaN</td>\n",
       "    </tr>\n",
       "    <tr>\n",
       "      <th>min</th>\n",
       "      <td>1.244678e+18</td>\n",
       "      <td>1.305819e+09</td>\n",
       "      <td>-600.0</td>\n",
       "      <td>2.200000e+01</td>\n",
       "      <td>0.000000e+00</td>\n",
       "      <td>0.000000e+00</td>\n",
       "      <td>0.000000e+00</td>\n",
       "      <td>0.000000e+00</td>\n",
       "      <td>NaN</td>\n",
       "      <td>NaN</td>\n",
       "      <td>NaN</td>\n",
       "      <td>NaN</td>\n",
       "      <td>NaN</td>\n",
       "      <td>NaN</td>\n",
       "      <td>NaN</td>\n",
       "      <td>NaN</td>\n",
       "      <td>NaN</td>\n",
       "      <td>NaN</td>\n",
       "    </tr>\n",
       "    <tr>\n",
       "      <th>25%</th>\n",
       "      <td>1.266831e+18</td>\n",
       "      <td>1.266811e+18</td>\n",
       "      <td>-600.0</td>\n",
       "      <td>2.744474e+08</td>\n",
       "      <td>0.000000e+00</td>\n",
       "      <td>0.000000e+00</td>\n",
       "      <td>0.000000e+00</td>\n",
       "      <td>0.000000e+00</td>\n",
       "      <td>NaN</td>\n",
       "      <td>NaN</td>\n",
       "      <td>NaN</td>\n",
       "      <td>NaN</td>\n",
       "      <td>NaN</td>\n",
       "      <td>NaN</td>\n",
       "      <td>NaN</td>\n",
       "      <td>NaN</td>\n",
       "      <td>NaN</td>\n",
       "      <td>NaN</td>\n",
       "    </tr>\n",
       "    <tr>\n",
       "      <th>50%</th>\n",
       "      <td>1.300208e+18</td>\n",
       "      <td>1.300199e+18</td>\n",
       "      <td>-600.0</td>\n",
       "      <td>2.888344e+09</td>\n",
       "      <td>0.000000e+00</td>\n",
       "      <td>0.000000e+00</td>\n",
       "      <td>0.000000e+00</td>\n",
       "      <td>0.000000e+00</td>\n",
       "      <td>NaN</td>\n",
       "      <td>NaN</td>\n",
       "      <td>NaN</td>\n",
       "      <td>NaN</td>\n",
       "      <td>NaN</td>\n",
       "      <td>NaN</td>\n",
       "      <td>NaN</td>\n",
       "      <td>NaN</td>\n",
       "      <td>NaN</td>\n",
       "      <td>NaN</td>\n",
       "    </tr>\n",
       "    <tr>\n",
       "      <th>75%</th>\n",
       "      <td>1.333158e+18</td>\n",
       "      <td>1.333138e+18</td>\n",
       "      <td>-600.0</td>\n",
       "      <td>1.079375e+18</td>\n",
       "      <td>1.000000e+00</td>\n",
       "      <td>0.000000e+00</td>\n",
       "      <td>2.000000e+00</td>\n",
       "      <td>0.000000e+00</td>\n",
       "      <td>NaN</td>\n",
       "      <td>NaN</td>\n",
       "      <td>NaN</td>\n",
       "      <td>NaN</td>\n",
       "      <td>NaN</td>\n",
       "      <td>NaN</td>\n",
       "      <td>NaN</td>\n",
       "      <td>NaN</td>\n",
       "      <td>NaN</td>\n",
       "      <td>NaN</td>\n",
       "    </tr>\n",
       "    <tr>\n",
       "      <th>max</th>\n",
       "      <td>1.365814e+18</td>\n",
       "      <td>1.365814e+18</td>\n",
       "      <td>-600.0</td>\n",
       "      <td>1.365723e+18</td>\n",
       "      <td>2.062400e+04</td>\n",
       "      <td>1.531890e+05</td>\n",
       "      <td>8.124310e+05</td>\n",
       "      <td>1.000000e+00</td>\n",
       "      <td>NaN</td>\n",
       "      <td>NaN</td>\n",
       "      <td>NaN</td>\n",
       "      <td>NaN</td>\n",
       "      <td>NaN</td>\n",
       "      <td>NaN</td>\n",
       "      <td>NaN</td>\n",
       "      <td>NaN</td>\n",
       "      <td>NaN</td>\n",
       "      <td>NaN</td>\n",
       "    </tr>\n",
       "  </tbody>\n",
       "</table>\n",
       "</div>"
      ],
      "text/plain": [
       "                 id  conversation_id   timezone       user_id  replies_count  \\\n",
       "count  3.296748e+06     3.296748e+06  3296748.0  3.296748e+06   3.296748e+06   \n",
       "mean   1.301612e+18     1.301190e+18     -600.0  4.685562e+17   8.656834e-01   \n",
       "std    3.822727e+16     3.980626e+16        0.0  5.511021e+17   2.230864e+01   \n",
       "min    1.244678e+18     1.305819e+09     -600.0  2.200000e+01   0.000000e+00   \n",
       "25%    1.266831e+18     1.266811e+18     -600.0  2.744474e+08   0.000000e+00   \n",
       "50%    1.300208e+18     1.300199e+18     -600.0  2.888344e+09   0.000000e+00   \n",
       "75%    1.333158e+18     1.333138e+18     -600.0  1.079375e+18   1.000000e+00   \n",
       "max    1.365814e+18     1.365814e+18     -600.0  1.365723e+18   2.062400e+04   \n",
       "\n",
       "       retweets_count   likes_count         video  near  geo  source  \\\n",
       "count    3.296748e+06  3.296748e+06  3.296748e+06   0.0  0.0     0.0   \n",
       "mean     2.358445e+00  1.043739e+01  1.393370e-01   NaN  NaN     NaN   \n",
       "std      1.831830e+02  8.860953e+02  3.462979e-01   NaN  NaN     NaN   \n",
       "min      0.000000e+00  0.000000e+00  0.000000e+00   NaN  NaN     NaN   \n",
       "25%      0.000000e+00  0.000000e+00  0.000000e+00   NaN  NaN     NaN   \n",
       "50%      0.000000e+00  0.000000e+00  0.000000e+00   NaN  NaN     NaN   \n",
       "75%      0.000000e+00  2.000000e+00  0.000000e+00   NaN  NaN     NaN   \n",
       "max      1.531890e+05  8.124310e+05  1.000000e+00   NaN  NaN     NaN   \n",
       "\n",
       "       user_rt_id  user_rt  retweet_id  retweet_date  translate  trans_src  \\\n",
       "count         0.0      0.0         0.0           0.0        0.0        0.0   \n",
       "mean          NaN      NaN         NaN           NaN        NaN        NaN   \n",
       "std           NaN      NaN         NaN           NaN        NaN        NaN   \n",
       "min           NaN      NaN         NaN           NaN        NaN        NaN   \n",
       "25%           NaN      NaN         NaN           NaN        NaN        NaN   \n",
       "50%           NaN      NaN         NaN           NaN        NaN        NaN   \n",
       "75%           NaN      NaN         NaN           NaN        NaN        NaN   \n",
       "max           NaN      NaN         NaN           NaN        NaN        NaN   \n",
       "\n",
       "       trans_dest  \n",
       "count         0.0  \n",
       "mean          NaN  \n",
       "std           NaN  \n",
       "min           NaN  \n",
       "25%           NaN  \n",
       "50%           NaN  \n",
       "75%           NaN  \n",
       "max           NaN  "
      ]
     },
     "execution_count": 72,
     "metadata": {},
     "output_type": "execute_result"
    }
   ],
   "source": [
    "init_df.describe()"
   ]
  },
  {
   "cell_type": "code",
   "execution_count": 73,
   "id": "respiratory-sarah",
   "metadata": {},
   "outputs": [],
   "source": [
    "init_df.drop(columns=['near', 'geo', 'source', 'user_rt_id', 'user_rt', 'retweet_id', 'retweet_date', 'translate', 'trans_src', 'trans_dest'], inplace=True)"
   ]
  },
  {
   "cell_type": "code",
   "execution_count": 74,
   "id": "ruled-narrow",
   "metadata": {},
   "outputs": [
    {
     "name": "stdout",
     "output_type": "stream",
     "text": [
      "2020-03-30 2021-02-27\n"
     ]
    }
   ],
   "source": [
    "print(init_df['date'].min(), init_df['date'].max())"
   ]
  },
  {
   "cell_type": "code",
   "execution_count": 75,
   "id": "violent-sport",
   "metadata": {},
   "outputs": [],
   "source": [
    "def clean_text(text):\n",
    "#     text = HTMLParser().unescape(text)\n",
    "    text = re.sub('[%s]' % re.escape(string.punctuation), ' ', text)\n",
    "    text = re.sub('[\\#\"\"''“”:]', ' ', text)\n",
    "    text = re.sub('\\w*\\d\\w*', ' ', text)\n",
    "    return text\n",
    "    "
   ]
  },
  {
   "cell_type": "code",
   "execution_count": 76,
   "id": "framed-tension",
   "metadata": {},
   "outputs": [],
   "source": [
    "init_df['text'] = init_df.tweet.apply(clean_text)"
   ]
  },
  {
   "cell_type": "code",
   "execution_count": 77,
   "id": "usual-fellow",
   "metadata": {},
   "outputs": [
    {
     "data": {
      "text/html": [
       "<div>\n",
       "<style scoped>\n",
       "    .dataframe tbody tr th:only-of-type {\n",
       "        vertical-align: middle;\n",
       "    }\n",
       "\n",
       "    .dataframe tbody tr th {\n",
       "        vertical-align: top;\n",
       "    }\n",
       "\n",
       "    .dataframe thead th {\n",
       "        text-align: right;\n",
       "    }\n",
       "</style>\n",
       "<table border=\"1\" class=\"dataframe\">\n",
       "  <thead>\n",
       "    <tr style=\"text-align: right;\">\n",
       "      <th></th>\n",
       "      <th>tweet</th>\n",
       "      <th>text</th>\n",
       "    </tr>\n",
       "  </thead>\n",
       "  <tbody>\n",
       "    <tr>\n",
       "      <th>0</th>\n",
       "      <td>Health Workers Study #SignLanguage to Care for...</td>\n",
       "      <td>Health Workers Study  SignLanguage to Care for...</td>\n",
       "    </tr>\n",
       "    <tr>\n",
       "      <th>119129</th>\n",
       "      <td>Corona Virus has spread among some of those wh...</td>\n",
       "      <td>Corona Virus has spread among some of those wh...</td>\n",
       "    </tr>\n",
       "    <tr>\n",
       "      <th>119130</th>\n",
       "      <td>@ArianaGrande bro pls after corona...have this...</td>\n",
       "      <td>ArianaGrande bro pls after corona   have this...</td>\n",
       "    </tr>\n",
       "    <tr>\n",
       "      <th>119131</th>\n",
       "      <td>@dhanyarajendran Thid Tabliqi thing has become...</td>\n",
       "      <td>dhanyarajendran Thid Tabliqi thing has become...</td>\n",
       "    </tr>\n",
       "    <tr>\n",
       "      <th>119132</th>\n",
       "      <td>Désolé mais loin de moi le corona</td>\n",
       "      <td>Désolé mais loin de moi le corona</td>\n",
       "    </tr>\n",
       "  </tbody>\n",
       "</table>\n",
       "</div>"
      ],
      "text/plain": [
       "                                                    tweet  \\\n",
       "0       Health Workers Study #SignLanguage to Care for...   \n",
       "119129  Corona Virus has spread among some of those wh...   \n",
       "119130  @ArianaGrande bro pls after corona...have this...   \n",
       "119131  @dhanyarajendran Thid Tabliqi thing has become...   \n",
       "119132                  Désolé mais loin de moi le corona   \n",
       "\n",
       "                                                     text  \n",
       "0       Health Workers Study  SignLanguage to Care for...  \n",
       "119129  Corona Virus has spread among some of those wh...  \n",
       "119130   ArianaGrande bro pls after corona   have this...  \n",
       "119131   dhanyarajendran Thid Tabliqi thing has become...  \n",
       "119132                  Désolé mais loin de moi le corona  "
      ]
     },
     "execution_count": 77,
     "metadata": {},
     "output_type": "execute_result"
    }
   ],
   "source": [
    "init_df[['tweet', 'text']].head()"
   ]
  },
  {
   "cell_type": "code",
   "execution_count": 78,
   "id": "infectious-friend",
   "metadata": {},
   "outputs": [],
   "source": [
    "def detect_lang(text):\n",
    "    try:\n",
    "        lang = detect(text)\n",
    "        return lang\n",
    "    except:\n",
    "        return \"NaN\"\n",
    "        "
   ]
  },
  {
   "cell_type": "code",
   "execution_count": 79,
   "id": "registered-botswana",
   "metadata": {},
   "outputs": [],
   "source": [
    "init_df['lang'] = init_df['text'].apply(detect_lang)"
   ]
  },
  {
   "cell_type": "code",
   "execution_count": 80,
   "id": "frank-nirvana",
   "metadata": {},
   "outputs": [
    {
     "data": {
      "text/plain": [
       "en       1691707\n",
       "es        420724\n",
       "pt        329158\n",
       "de        246497\n",
       "id        121663\n",
       "nl        107245\n",
       "fr         79894\n",
       "tr         79377\n",
       "it         53577\n",
       "ca         17090\n",
       "sw         16407\n",
       "tl         15601\n",
       "hi         13391\n",
       "sv         12279\n",
       "so         11345\n",
       "ja         10093\n",
       "ar          6662\n",
       "da          6306\n",
       "pl          5994\n",
       "et          5217\n",
       "hr          4953\n",
       "sl          3770\n",
       "ta          3618\n",
       "no          3588\n",
       "ru          3377\n",
       "ro          3126\n",
       "af          3004\n",
       "fi          2582\n",
       "el          2138\n",
       "cs          1853\n",
       "cy          1637\n",
       "vi          1549\n",
       "mr          1370\n",
       "hu           953\n",
       "sq           915\n",
       "ur           840\n",
       "sk           815\n",
       "lv           697\n",
       "gu           607\n",
       "th           543\n",
       "ne           510\n",
       "te           462\n",
       "fa           458\n",
       "uk           450\n",
       "lt           423\n",
       "bn           417\n",
       "kn           333\n",
       "ko           280\n",
       "NaN          261\n",
       "bg           219\n",
       "ml           189\n",
       "zh-cn        186\n",
       "he           147\n",
       "pa           116\n",
       "mk           105\n",
       "zh-tw         30\n",
       "Name: lang, dtype: int64"
      ]
     },
     "execution_count": 80,
     "metadata": {},
     "output_type": "execute_result"
    }
   ],
   "source": [
    "init_df.lang.value_counts()"
   ]
  },
  {
   "cell_type": "code",
   "execution_count": 81,
   "id": "vital-richmond",
   "metadata": {},
   "outputs": [
    {
     "data": {
      "text/plain": [
       "0"
      ]
     },
     "execution_count": 81,
     "metadata": {},
     "output_type": "execute_result"
    }
   ],
   "source": [
    "init_df['lang'].isnull().sum()"
   ]
  },
  {
   "cell_type": "code",
   "execution_count": 82,
   "id": "diverse-parker",
   "metadata": {},
   "outputs": [
    {
     "data": {
      "text/plain": [
       "1691707"
      ]
     },
     "execution_count": 82,
     "metadata": {},
     "output_type": "execute_result"
    }
   ],
   "source": [
    "(init_df.lang == 'en').sum()"
   ]
  },
  {
   "cell_type": "code",
   "execution_count": 83,
   "id": "dirty-cinema",
   "metadata": {},
   "outputs": [],
   "source": [
    "en_df = init_df[init_df['lang']=='en']"
   ]
  },
  {
   "cell_type": "code",
   "execution_count": 84,
   "id": "nervous-processor",
   "metadata": {},
   "outputs": [
    {
     "data": {
      "text/plain": [
       "(1691707, 28)"
      ]
     },
     "execution_count": 84,
     "metadata": {},
     "output_type": "execute_result"
    }
   ],
   "source": [
    "en_df.shape"
   ]
  },
  {
   "cell_type": "code",
   "execution_count": 67,
   "id": "liquid-sheep",
   "metadata": {},
   "outputs": [
    {
     "data": {
      "text/plain": [
       "(1252623, 28)"
      ]
     },
     "execution_count": 67,
     "metadata": {},
     "output_type": "execute_result"
    }
   ],
   "source": [
    "init_df.shape"
   ]
  },
  {
   "cell_type": "code",
   "execution_count": 85,
   "id": "extra-petroleum",
   "metadata": {},
   "outputs": [],
   "source": [
    "en_df.to_pickle(\"en_df.pkl\")"
   ]
  },
  {
   "cell_type": "code",
   "execution_count": null,
   "id": "simple-weapon",
   "metadata": {},
   "outputs": [],
   "source": []
  }
 ],
 "metadata": {
  "kernelspec": {
   "display_name": "Python [conda env:metis] *",
   "language": "python",
   "name": "conda-env-metis-py"
  },
  "language_info": {
   "codemirror_mode": {
    "name": "ipython",
    "version": 3
   },
   "file_extension": ".py",
   "mimetype": "text/x-python",
   "name": "python",
   "nbconvert_exporter": "python",
   "pygments_lexer": "ipython3",
   "version": "3.8.6"
  }
 },
 "nbformat": 4,
 "nbformat_minor": 5
}
