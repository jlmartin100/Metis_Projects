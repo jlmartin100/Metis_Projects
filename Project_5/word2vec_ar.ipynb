{
  "nbformat": 4,
  "nbformat_minor": 0,
  "metadata": {
    "colab": {
      "name": "word2vec_ar.ipynb",
      "provenance": [],
      "collapsed_sections": [],
      "machine_shape": "hm",
      "include_colab_link": true
    },
    "kernelspec": {
      "name": "python3",
      "display_name": "Python 3"
    },
    "language_info": {
      "name": "python"
    },
    "accelerator": "GPU"
  },
  "cells": [
    {
      "cell_type": "markdown",
      "metadata": {
        "id": "view-in-github",
        "colab_type": "text"
      },
      "source": [
        "<a href=\"https://colab.research.google.com/github/jlmartin100/Metis_Projects/blob/main/Project_5/word2vec_ar.ipynb\" target=\"_parent\"><img src=\"https://colab.research.google.com/assets/colab-badge.svg\" alt=\"Open In Colab\"/></a>"
      ]
    },
    {
      "cell_type": "code",
      "metadata": {
        "colab": {
          "base_uri": "https://localhost:8080/"
        },
        "id": "Mus2hE5InJoi",
        "outputId": "1c64a95e-7183-4ee5-f8f9-a2df336e0794"
      },
      "source": [
        "!pip install gensim"
      ],
      "execution_count": null,
      "outputs": [
        {
          "output_type": "stream",
          "text": [
            "Requirement already satisfied: gensim in /usr/local/lib/python3.7/dist-packages (3.6.0)\n",
            "Requirement already satisfied: numpy>=1.11.3 in /usr/local/lib/python3.7/dist-packages (from gensim) (1.19.5)\n",
            "Requirement already satisfied: six>=1.5.0 in /usr/local/lib/python3.7/dist-packages (from gensim) (1.15.0)\n",
            "Requirement already satisfied: smart-open>=1.2.1 in /usr/local/lib/python3.7/dist-packages (from gensim) (4.2.0)\n",
            "Requirement already satisfied: scipy>=0.18.1 in /usr/local/lib/python3.7/dist-packages (from gensim) (1.4.1)\n"
          ],
          "name": "stdout"
        }
      ]
    },
    {
      "cell_type": "code",
      "metadata": {
        "id": "tOmwIwqgEaak"
      },
      "source": [
        "import pandas as pd\n",
        "import numpy as np"
      ],
      "execution_count": 1,
      "outputs": []
    },
    {
      "cell_type": "code",
      "metadata": {
        "colab": {
          "base_uri": "https://localhost:8080/"
        },
        "id": "T_i_Wyy4Gp1l",
        "outputId": "679f36b1-d143-41c6-f485-49dac0c3aa6f"
      },
      "source": [
        "%whos"
      ],
      "execution_count": 2,
      "outputs": [
        {
          "output_type": "stream",
          "text": [
            "Variable   Type      Data/Info\n",
            "------------------------------\n",
            "np         module    <module 'numpy' from '/us<...>kages/numpy/__init__.py'>\n",
            "pd         module    <module 'pandas' from '/u<...>ages/pandas/__init__.py'>\n"
          ],
          "name": "stdout"
        }
      ]
    },
    {
      "cell_type": "code",
      "metadata": {
        "colab": {
          "base_uri": "https://localhost:8080/"
        },
        "id": "LAzKuWVEnPmW",
        "outputId": "4a495877-635d-454c-92f0-5b39a0732dd8"
      },
      "source": [
        "!cython -V"
      ],
      "execution_count": 3,
      "outputs": [
        {
          "output_type": "stream",
          "text": [
            "Cython version 0.29.12\n"
          ],
          "name": "stdout"
        }
      ]
    },
    {
      "cell_type": "code",
      "metadata": {
        "id": "aFMMXa0AC_9_"
      },
      "source": [
        "import pickle"
      ],
      "execution_count": 3,
      "outputs": []
    },
    {
      "cell_type": "code",
      "metadata": {
        "colab": {
          "base_uri": "https://localhost:8080/"
        },
        "id": "ZJgj9m9VH7Qr",
        "outputId": "f1c86d12-f75e-451d-a187-0a116fd0821f"
      },
      "source": [
        "!pip install pickle5"
      ],
      "execution_count": 4,
      "outputs": [
        {
          "output_type": "stream",
          "text": [
            "Collecting pickle5\n",
            "\u001b[?25l  Downloading https://files.pythonhosted.org/packages/f7/4c/5c4dd0462c8d3a6bc4af500a6af240763c2ebd1efdc736fc2c946d44b70a/pickle5-0.0.11.tar.gz (132kB)\n",
            "\r\u001b[K     |██▌                             | 10kB 23.1MB/s eta 0:00:01\r\u001b[K     |█████                           | 20kB 15.3MB/s eta 0:00:01\r\u001b[K     |███████▍                        | 30kB 14.7MB/s eta 0:00:01\r\u001b[K     |██████████                      | 40kB 13.6MB/s eta 0:00:01\r\u001b[K     |████████████▍                   | 51kB 9.4MB/s eta 0:00:01\r\u001b[K     |██████████████▉                 | 61kB 9.7MB/s eta 0:00:01\r\u001b[K     |█████████████████▍              | 71kB 9.8MB/s eta 0:00:01\r\u001b[K     |███████████████████▉            | 81kB 10.9MB/s eta 0:00:01\r\u001b[K     |██████████████████████▎         | 92kB 10.4MB/s eta 0:00:01\r\u001b[K     |████████████████████████▉       | 102kB 9.0MB/s eta 0:00:01\r\u001b[K     |███████████████████████████▎    | 112kB 9.0MB/s eta 0:00:01\r\u001b[K     |█████████████████████████████▊  | 122kB 9.0MB/s eta 0:00:01\r\u001b[K     |████████████████████████████████| 133kB 9.0MB/s \n",
            "\u001b[?25hBuilding wheels for collected packages: pickle5\n",
            "  Building wheel for pickle5 (setup.py) ... \u001b[?25l\u001b[?25hdone\n",
            "  Created wheel for pickle5: filename=pickle5-0.0.11-cp37-cp37m-linux_x86_64.whl size=219275 sha256=bc6a27b56a6a33ad79d39fc5abc947e7419af6a5847071d23752d5aaecc3d1fb\n",
            "  Stored in directory: /root/.cache/pip/wheels/a6/90/95/f889ca4aa8b0e0c7f21c8470b6f5d6032f0390a3a141a9a3bd\n",
            "Successfully built pickle5\n",
            "Installing collected packages: pickle5\n",
            "Successfully installed pickle5-0.0.11\n"
          ],
          "name": "stdout"
        }
      ]
    },
    {
      "cell_type": "code",
      "metadata": {
        "id": "fZ3CsUzqH-3N"
      },
      "source": [
        "import pickle5 as pickle"
      ],
      "execution_count": 5,
      "outputs": []
    },
    {
      "cell_type": "code",
      "metadata": {
        "colab": {
          "base_uri": "https://localhost:8080/"
        },
        "id": "sdA6J6f-nTY1",
        "outputId": "1e497f60-8070-4a27-b9e7-1df2620fbd1e"
      },
      "source": [
        "\n",
        "import gensim\n",
        "documents = [\"Will this work?  I'm not sure.  If not go to step #4 (above)\"]\n",
        "texts = [[word for word in document.lower().split()]\n",
        "         for document in documents]\n",
        "\n",
        "\n",
        "print (texts)\n",
        "model = gensim.models.Word2Vec(texts, size=100, window=5, min_count=1, workers=4,sg=1)"
      ],
      "execution_count": 6,
      "outputs": [
        {
          "output_type": "stream",
          "text": [
            "[['will', 'this', 'work?', \"i'm\", 'not', 'sure.', 'if', 'not', 'go', 'to', 'step', '#4', '(above)']]\n"
          ],
          "name": "stdout"
        }
      ]
    },
    {
      "cell_type": "code",
      "metadata": {
        "colab": {
          "resources": {
            "http://localhost:8080/nbextensions/google.colab/files.js": {
              "data": "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",
              "ok": true,
              "headers": [
                [
                  "content-type",
                  "application/javascript"
                ]
              ],
              "status": 200,
              "status_text": ""
            }
          },
          "base_uri": "https://localhost:8080/",
          "height": 73
        },
        "id": "uKuk9gAdnV8w",
        "outputId": "12a4d658-1fb5-4324-f91a-28f1745424b0"
      },
      "source": [
        "from google.colab import files\n",
        "uploaded = files.upload()"
      ],
      "execution_count": null,
      "outputs": [
        {
          "output_type": "display_data",
          "data": {
            "text/html": [
              "\n",
              "     <input type=\"file\" id=\"files-6747e718-1eec-45bc-9380-1c0928e4491d\" name=\"files[]\" multiple disabled\n",
              "        style=\"border:none\" />\n",
              "     <output id=\"result-6747e718-1eec-45bc-9380-1c0928e4491d\">\n",
              "      Upload widget is only available when the cell has been executed in the\n",
              "      current browser session. Please rerun this cell to enable.\n",
              "      </output>\n",
              "      <script src=\"/nbextensions/google.colab/files.js\"></script> "
            ],
            "text/plain": [
              "<IPython.core.display.HTML object>"
            ]
          },
          "metadata": {
            "tags": []
          }
        },
        {
          "output_type": "stream",
          "text": [
            "Saving ar_df.pkl to ar_df (1).pkl\n"
          ],
          "name": "stdout"
        }
      ]
    },
    {
      "cell_type": "code",
      "metadata": {
        "colab": {
          "base_uri": "https://localhost:8080/"
        },
        "id": "r4aVv753GzpO",
        "outputId": "a66c0ad9-1e10-4352-c63c-0a0621a8fc12"
      },
      "source": [
        "%whos"
      ],
      "execution_count": null,
      "outputs": [
        {
          "output_type": "stream",
          "text": [
            "Variable    Type        Data/Info\n",
            "---------------------------------\n",
            "documents   list        n=1\n",
            "gensim      module      <module 'gensim' from '/u<...>ages/gensim/__init__.py'>\n",
            "model       Word2Vec    Word2Vec(vocab=12, size=100, alpha=0.025)\n",
            "np          module      <module 'numpy' from '/us<...>kages/numpy/__init__.py'>\n",
            "pd          module      <module 'pandas' from '/u<...>ages/pandas/__init__.py'>\n",
            "pickle      module      <module 'pickle5' from '/<...>ges/pickle5/__init__.py'>\n",
            "texts       list        n=1\n"
          ],
          "name": "stdout"
        }
      ]
    },
    {
      "cell_type": "code",
      "metadata": {
        "id": "pDUWgJhHHCSo"
      },
      "source": [
        ""
      ],
      "execution_count": null,
      "outputs": []
    },
    {
      "cell_type": "code",
      "metadata": {
        "id": "E-K_n578NUt4"
      },
      "source": [
        ""
      ],
      "execution_count": null,
      "outputs": []
    },
    {
      "cell_type": "code",
      "metadata": {
        "id": "vWfWFV2RHQ8J"
      },
      "source": [
        ""
      ],
      "execution_count": null,
      "outputs": []
    },
    {
      "cell_type": "code",
      "metadata": {
        "id": "fYoZhDLFHflq"
      },
      "source": [
        ""
      ],
      "execution_count": null,
      "outputs": []
    },
    {
      "cell_type": "code",
      "metadata": {
        "id": "xJakvuF5oGoE"
      },
      "source": [
        "import nltk"
      ],
      "execution_count": 7,
      "outputs": []
    },
    {
      "cell_type": "code",
      "metadata": {
        "colab": {
          "base_uri": "https://localhost:8080/"
        },
        "id": "WYwl4d9uoOSA",
        "outputId": "051c8651-a415-404c-d619-036a34b6f8c7"
      },
      "source": [
        "from nltk.corpus import stopwords\n",
        "nltk.download('stopwords')"
      ],
      "execution_count": 8,
      "outputs": [
        {
          "output_type": "stream",
          "text": [
            "[nltk_data] Downloading package stopwords to /root/nltk_data...\n",
            "[nltk_data]   Unzipping corpora/stopwords.zip.\n"
          ],
          "name": "stdout"
        },
        {
          "output_type": "execute_result",
          "data": {
            "text/plain": [
              "True"
            ]
          },
          "metadata": {
            "tags": []
          },
          "execution_count": 8
        }
      ]
    },
    {
      "cell_type": "code",
      "metadata": {
        "id": "7XVt3aR1ofvg"
      },
      "source": [
        "stop_words_std = stopwords.words('arabic')\n"
      ],
      "execution_count": 9,
      "outputs": []
    },
    {
      "cell_type": "code",
      "metadata": {
        "id": "zeemhY5JCGdZ"
      },
      "source": [
        "file = open('drive/My Drive/list.txt','r')\n",
        "ar_stop_words = list(file.read())"
      ],
      "execution_count": 12,
      "outputs": []
    },
    {
      "cell_type": "code",
      "metadata": {
        "id": "x7WN8MQfC4Aw"
      },
      "source": [
        "file.close()"
      ],
      "execution_count": 13,
      "outputs": []
    },
    {
      "cell_type": "code",
      "metadata": {
        "id": "VrUq7arNBgMN"
      },
      "source": [
        "stop = set(stop_words_std + ['https', 'http'] + ar_stop_words)"
      ],
      "execution_count": 14,
      "outputs": []
    },
    {
      "cell_type": "code",
      "metadata": {
        "colab": {
          "base_uri": "https://localhost:8080/"
        },
        "id": "_F7RAZKMpVHj",
        "outputId": "6eaff2b3-5371-449a-af2a-f0b5b5d6fc24"
      },
      "source": [
        "len(stop)"
      ],
      "execution_count": 15,
      "outputs": [
        {
          "output_type": "execute_result",
          "data": {
            "text/plain": [
              "295"
            ]
          },
          "metadata": {
            "tags": []
          },
          "execution_count": 15
        }
      ]
    },
    {
      "cell_type": "code",
      "metadata": {
        "id": "jPlweLhVDFqu"
      },
      "source": [
        "ar_df = pickle.load(open('/content/drive/MyDrive/ar_df_3mo_seg.pkl', 'rb'))"
      ],
      "execution_count": 16,
      "outputs": []
    },
    {
      "cell_type": "code",
      "metadata": {
        "colab": {
          "base_uri": "https://localhost:8080/"
        },
        "id": "X5YFQ0F36-BJ",
        "outputId": "e170e69a-c01b-4ef5-b767-6c3c06e1d5f6"
      },
      "source": [
        "ar_df.columns"
      ],
      "execution_count": 17,
      "outputs": [
        {
          "output_type": "execute_result",
          "data": {
            "text/plain": [
              "Index(['id', 'conversation_id', 'created_at', 'date', 'time', 'timezone',\n",
              "       'user_id', 'username', 'name', 'place', 'tweet', 'language', 'mentions',\n",
              "       'urls', 'photos', 'replies_count', 'retweets_count', 'likes_count',\n",
              "       'hashtags', 'cashtags', 'link', 'retweet', 'quote_url', 'video',\n",
              "       'thumbnail', 'reply_to', 'text', 'lang', 'tokens', 'filtered'],\n",
              "      dtype='object')"
            ]
          },
          "metadata": {
            "tags": []
          },
          "execution_count": 17
        }
      ]
    },
    {
      "cell_type": "code",
      "metadata": {
        "colab": {
          "base_uri": "https://localhost:8080/"
        },
        "id": "oHRSrRaEEO69",
        "outputId": "e1fe1cdc-a2ab-4ed7-efbb-1ee2f8de6d50"
      },
      "source": [
        "ar_df.shape"
      ],
      "execution_count": 30,
      "outputs": [
        {
          "output_type": "execute_result",
          "data": {
            "text/plain": [
              "(288876, 30)"
            ]
          },
          "metadata": {
            "tags": []
          },
          "execution_count": 30
        }
      ]
    },
    {
      "cell_type": "code",
      "metadata": {
        "colab": {
          "base_uri": "https://localhost:8080/",
          "height": 585
        },
        "id": "hKHP_k9SE1pI",
        "outputId": "0d3cdaf4-c264-4377-b00a-12bdd43d8ed8"
      },
      "source": [
        "ar_df.head()"
      ],
      "execution_count": 38,
      "outputs": [
        {
          "output_type": "execute_result",
          "data": {
            "text/html": [
              "<div>\n",
              "<style scoped>\n",
              "    .dataframe tbody tr th:only-of-type {\n",
              "        vertical-align: middle;\n",
              "    }\n",
              "\n",
              "    .dataframe tbody tr th {\n",
              "        vertical-align: top;\n",
              "    }\n",
              "\n",
              "    .dataframe thead th {\n",
              "        text-align: right;\n",
              "    }\n",
              "</style>\n",
              "<table border=\"1\" class=\"dataframe\">\n",
              "  <thead>\n",
              "    <tr style=\"text-align: right;\">\n",
              "      <th></th>\n",
              "      <th>id</th>\n",
              "      <th>conversation_id</th>\n",
              "      <th>created_at</th>\n",
              "      <th>date</th>\n",
              "      <th>time</th>\n",
              "      <th>timezone</th>\n",
              "      <th>user_id</th>\n",
              "      <th>username</th>\n",
              "      <th>name</th>\n",
              "      <th>place</th>\n",
              "      <th>tweet</th>\n",
              "      <th>language</th>\n",
              "      <th>mentions</th>\n",
              "      <th>urls</th>\n",
              "      <th>photos</th>\n",
              "      <th>replies_count</th>\n",
              "      <th>retweets_count</th>\n",
              "      <th>likes_count</th>\n",
              "      <th>hashtags</th>\n",
              "      <th>cashtags</th>\n",
              "      <th>link</th>\n",
              "      <th>retweet</th>\n",
              "      <th>quote_url</th>\n",
              "      <th>video</th>\n",
              "      <th>thumbnail</th>\n",
              "      <th>reply_to</th>\n",
              "      <th>text</th>\n",
              "      <th>lang</th>\n",
              "      <th>tokens</th>\n",
              "      <th>filtered</th>\n",
              "    </tr>\n",
              "  </thead>\n",
              "  <tbody>\n",
              "    <tr>\n",
              "      <th>34138</th>\n",
              "      <td>1311516689650122752</td>\n",
              "      <td>1311516689650122752</td>\n",
              "      <td>2020-09-30 23:02:00 CDT</td>\n",
              "      <td>2020-09-30</td>\n",
              "      <td>23:02:00</td>\n",
              "      <td>-600</td>\n",
              "      <td>1174210043664838657</td>\n",
              "      <td>faoinuae</td>\n",
              "      <td>FAO for GCC states, UAE &amp; Yemen</td>\n",
              "      <td>NaN</td>\n",
              "      <td>هل_تعلم أن الأسماك 🐟🐠 تعد واحدة من السلع الغذا...</td>\n",
              "      <td>ar</td>\n",
              "      <td>[]</td>\n",
              "      <td>['https://bit.ly/2xsyhT0']</td>\n",
              "      <td>[]</td>\n",
              "      <td>0</td>\n",
              "      <td>1</td>\n",
              "      <td>2</td>\n",
              "      <td>['سبل_عيش', 'كوفيد_19']</td>\n",
              "      <td>[]</td>\n",
              "      <td>https://twitter.com/FAOinUAE/status/1311516689...</td>\n",
              "      <td>False</td>\n",
              "      <td>NaN</td>\n",
              "      <td>0</td>\n",
              "      <td>NaN</td>\n",
              "      <td>[]</td>\n",
              "      <td>هل تعلم أن الأسماك 🐟🐠 تعد واحدة من السلع الغذا...</td>\n",
              "      <td>ar</td>\n",
              "      <td>هل _ تعلم أن ال أسماك ? ? ? ? تعد واحد ة من ال...</td>\n",
              "      <td>[_, تعلم, ال, أسماك, ?, ?, ?, ?, تعد, ال, سلع,...</td>\n",
              "    </tr>\n",
              "    <tr>\n",
              "      <th>34146</th>\n",
              "      <td>1311507758160777216</td>\n",
              "      <td>1311507758160777216</td>\n",
              "      <td>2020-09-30 22:26:30 CDT</td>\n",
              "      <td>2020-09-30</td>\n",
              "      <td>22:26:30</td>\n",
              "      <td>-600</td>\n",
              "      <td>951917493442015232</td>\n",
              "      <td>addafternet</td>\n",
              "      <td>منصة الدفتر العلمية ®️</td>\n",
              "      <td>NaN</td>\n",
              "      <td>عمليات الإغلاق المترافقة مع انتشار فيروس كوفيد...</td>\n",
              "      <td>ar</td>\n",
              "      <td>[]</td>\n",
              "      <td>['https://www.addafter.net/?p=14668&amp;utm_source...</td>\n",
              "      <td>[]</td>\n",
              "      <td>0</td>\n",
              "      <td>0</td>\n",
              "      <td>0</td>\n",
              "      <td>[]</td>\n",
              "      <td>[]</td>\n",
              "      <td>https://twitter.com/addafternet/status/1311507...</td>\n",
              "      <td>False</td>\n",
              "      <td>NaN</td>\n",
              "      <td>0</td>\n",
              "      <td>NaN</td>\n",
              "      <td>[]</td>\n",
              "      <td>عمليات الإغلاق المترافقة مع انتشار فيروس كوفيد...</td>\n",
              "      <td>ar</td>\n",
              "      <td>عملي ات ال إغلاق ال مترافق ة مع انتشار فيروس ك...</td>\n",
              "      <td>[عملي, ات, ال, إغلاق, ال, مترافق, انتشار, فيرو...</td>\n",
              "    </tr>\n",
              "    <tr>\n",
              "      <th>34147</th>\n",
              "      <td>1311506585508773889</td>\n",
              "      <td>1311360242521985024</td>\n",
              "      <td>2020-09-30 22:21:51 CDT</td>\n",
              "      <td>2020-09-30</td>\n",
              "      <td>22:21:51</td>\n",
              "      <td>-600</td>\n",
              "      <td>718412478</td>\n",
              "      <td>eddy_gemayel</td>\n",
              "      <td>Eddy Gemayel</td>\n",
              "      <td>NaN</td>\n",
              "      <td>@issahamd1n الاطباء هم الأكثر عرضةً للهجرة أثن...</td>\n",
              "      <td>ar</td>\n",
              "      <td>[]</td>\n",
              "      <td>[]</td>\n",
              "      <td>[]</td>\n",
              "      <td>1</td>\n",
              "      <td>0</td>\n",
              "      <td>1</td>\n",
              "      <td>[]</td>\n",
              "      <td>[]</td>\n",
              "      <td>https://twitter.com/eddy_gemayel/status/131150...</td>\n",
              "      <td>False</td>\n",
              "      <td>NaN</td>\n",
              "      <td>0</td>\n",
              "      <td>NaN</td>\n",
              "      <td>[{'screen_name': 'issahamd1n', 'name': 'Issa H...</td>\n",
              "      <td>الاطباء هم الأكثر عرضةً للهجرة أثناء أزمة ا...</td>\n",
              "      <td>ar</td>\n",
              "      <td>@issahamd1n ال أطباء هم ال أكثر عرض ة ل ال هجر...</td>\n",
              "      <td>[@issahamd1n, ال, أطباء, ال, عرض, ال, هجر, أثن...</td>\n",
              "    </tr>\n",
              "    <tr>\n",
              "      <th>34148</th>\n",
              "      <td>1311505444657983489</td>\n",
              "      <td>1311505444657983489</td>\n",
              "      <td>2020-09-30 22:17:19 CDT</td>\n",
              "      <td>2020-09-30</td>\n",
              "      <td>22:17:19</td>\n",
              "      <td>-600</td>\n",
              "      <td>1017445720956198912</td>\n",
              "      <td>liallal_develop</td>\n",
              "      <td>liallal</td>\n",
              "      <td>NaN</td>\n",
              "      <td>I will do organic youtube video, spotify music...</td>\n",
              "      <td>und</td>\n",
              "      <td>[]</td>\n",
              "      <td>['https://lnkd.in/gKzUE2T']</td>\n",
              "      <td>[]</td>\n",
              "      <td>0</td>\n",
              "      <td>0</td>\n",
              "      <td>1</td>\n",
              "      <td>['سكاي_رياضه', 'ايران', 'كوفيد_19', 'سيف_بن_زا...</td>\n",
              "      <td>[]</td>\n",
              "      <td>https://twitter.com/liallal_develop/status/131...</td>\n",
              "      <td>False</td>\n",
              "      <td>NaN</td>\n",
              "      <td>0</td>\n",
              "      <td>NaN</td>\n",
              "      <td>[]</td>\n",
              "      <td>I will do organic youtube video  spotify music...</td>\n",
              "      <td>ar</td>\n",
              "      <td>I will do organic youtube video , spotify musi...</td>\n",
              "      <td>[I, will, do, organic, youtube, video, ,, spot...</td>\n",
              "    </tr>\n",
              "    <tr>\n",
              "      <th>34149</th>\n",
              "      <td>1311505387447705600</td>\n",
              "      <td>1311505387447705600</td>\n",
              "      <td>2020-09-30 22:17:05 CDT</td>\n",
              "      <td>2020-09-30</td>\n",
              "      <td>22:17:05</td>\n",
              "      <td>-600</td>\n",
              "      <td>1017445720956198912</td>\n",
              "      <td>liallal_develop</td>\n",
              "      <td>liallal</td>\n",
              "      <td>NaN</td>\n",
              "      <td>I will do organic promotion youtube video  htt...</td>\n",
              "      <td>und</td>\n",
              "      <td>[]</td>\n",
              "      <td>['https://lnkd.in/gZpZRnd']</td>\n",
              "      <td>[]</td>\n",
              "      <td>0</td>\n",
              "      <td>0</td>\n",
              "      <td>1</td>\n",
              "      <td>['سكاي_رياضه', 'ايران', 'كوفيد_19', 'سيف_بن_زا...</td>\n",
              "      <td>[]</td>\n",
              "      <td>https://twitter.com/liallal_develop/status/131...</td>\n",
              "      <td>False</td>\n",
              "      <td>NaN</td>\n",
              "      <td>0</td>\n",
              "      <td>NaN</td>\n",
              "      <td>[]</td>\n",
              "      <td>I will do organic promotion youtube video     ...</td>\n",
              "      <td>ar</td>\n",
              "      <td>I will do organic promotion youtube video http...</td>\n",
              "      <td>[I, will, do, organic, promotion, youtube, vid...</td>\n",
              "    </tr>\n",
              "  </tbody>\n",
              "</table>\n",
              "</div>"
            ],
            "text/plain": [
              "                        id  ...                                           filtered\n",
              "34138  1311516689650122752  ...  [_, تعلم, ال, أسماك, ?, ?, ?, ?, تعد, ال, سلع,...\n",
              "34146  1311507758160777216  ...  [عملي, ات, ال, إغلاق, ال, مترافق, انتشار, فيرو...\n",
              "34147  1311506585508773889  ...  [@issahamd1n, ال, أطباء, ال, عرض, ال, هجر, أثن...\n",
              "34148  1311505444657983489  ...  [I, will, do, organic, youtube, video, ,, spot...\n",
              "34149  1311505387447705600  ...  [I, will, do, organic, promotion, youtube, vid...\n",
              "\n",
              "[5 rows x 30 columns]"
            ]
          },
          "metadata": {
            "tags": []
          },
          "execution_count": 38
        }
      ]
    },
    {
      "cell_type": "code",
      "metadata": {
        "id": "dKECUX6ECKBc"
      },
      "source": [
        "texts = [[word for word in tweet if word not in stop] for tweet in ar_df.filtered.values]\n"
      ],
      "execution_count": 18,
      "outputs": []
    },
    {
      "cell_type": "code",
      "metadata": {
        "colab": {
          "base_uri": "https://localhost:8080/"
        },
        "id": "R9fyMHrMIdJC",
        "outputId": "f50f24a1-0f02-4906-c64a-ce467992f5d1"
      },
      "source": [
        "texts[0:5]"
      ],
      "execution_count": 41,
      "outputs": [
        {
          "output_type": "execute_result",
          "data": {
            "text/plain": [
              "[['_',\n",
              "  'تعلم',\n",
              "  'ال',\n",
              "  'أسماك',\n",
              "  'تعد',\n",
              "  'ال',\n",
              "  'سلع',\n",
              "  'ال',\n",
              "  'غذائي',\n",
              "  'ال',\n",
              "  'تداول',\n",
              "  'مستوى',\n",
              "  'ال',\n",
              "  'عالم',\n",
              "  '؟',\n",
              "  'ال',\n",
              "  'متوقع',\n",
              "  'ال',\n",
              "  'تأثير',\n",
              "  '#سبل_عيش',\n",
              "  'مجتمع',\n",
              "  'ات',\n",
              "  'ال',\n",
              "  'صياد',\n",
              "  'كبير',\n",
              "  'خاص',\n",
              "  'ال',\n",
              "  'بلدان',\n",
              "  'تعتمد',\n",
              "  'شكل',\n",
              "  'كبير',\n",
              "  'قطاع',\n",
              "  'ال',\n",
              "  'صيد',\n",
              "  '.',\n",
              "  'تعرف',\n",
              "  'ال',\n",
              "  'مزيد',\n",
              "  'https://t.co/SBGtvreCOm',\n",
              "  '#كوفيد_19'],\n",
              " ['عملي',\n",
              "  'ات',\n",
              "  'ال',\n",
              "  'إغلاق',\n",
              "  'ال',\n",
              "  'مترافق',\n",
              "  'انتشار',\n",
              "  'فيروس',\n",
              "  'كوفيد',\n",
              "  '-',\n",
              "  '19',\n",
              "  'تؤدي',\n",
              "  'زياد',\n",
              "  'إنتاج',\n",
              "  'ال',\n",
              "  'ال',\n",
              "  'شمسي',\n",
              "  'https://t.co/hHy6ftv8fL'],\n",
              " ['@issahamd1n',\n",
              "  'ال',\n",
              "  'أطباء',\n",
              "  'ال',\n",
              "  'عرض',\n",
              "  'ال',\n",
              "  'هجر',\n",
              "  'أثناء',\n",
              "  'أزم',\n",
              "  'اقتصادي',\n",
              "  '.',\n",
              "  'اتجاه',\n",
              "  'شوهد',\n",
              "  'بلدان',\n",
              "  'عديد',\n",
              "  'ال',\n",
              "  'عقد',\n",
              "  'ال',\n",
              "  'ماضي',\n",
              "  '.',\n",
              "  'ال',\n",
              "  'اسف',\n",
              "  'يأتي',\n",
              "  'كوفيد',\n",
              "  'لبنان',\n",
              "  'حاج',\n",
              "  '.',\n",
              "  'يتطلب',\n",
              "  'إجراء',\n",
              "  'ات',\n",
              "  'فوري',\n",
              "  'ال',\n",
              "  'حكوم',\n",
              "  'معالج',\n",
              "  'ال',\n",
              "  'أزم',\n",
              "  'ال',\n",
              "  'اقتصادي',\n",
              "  '.',\n",
              "  '..والا',\n",
              "  'ال',\n",
              "  'آتي',\n",
              "  'أعظم',\n",
              "  '!'],\n",
              " ['I',\n",
              "  'will',\n",
              "  'do',\n",
              "  'organic',\n",
              "  'youtube',\n",
              "  'video',\n",
              "  ',',\n",
              "  'spotify',\n",
              "  'music',\n",
              "  'promotion',\n",
              "  'https://t.co/EzYWizeLRG',\n",
              "  '#سكاي_رياضه',\n",
              "  '#ايران',\n",
              "  '#كوفيد_19',\n",
              "  '#سيف_بن_زايد',\n",
              "  '#BabriVerdict',\n",
              "  '#سكاي_اخبار',\n",
              "  '#البيان_القاري_دايما',\n",
              "  '#النصر_الاهلي',\n",
              "  '#فيروس_كورونا',\n",
              "  '#بايدن',\n",
              "  'ال',\n",
              "  'بال',\n",
              "  'اللهم',\n",
              "  'السع',\n",
              "  'جبر',\n",
              "  'خاطر'],\n",
              " ['I',\n",
              "  'will',\n",
              "  'do',\n",
              "  'organic',\n",
              "  'promotion',\n",
              "  'youtube',\n",
              "  'video',\n",
              "  'https://t.co/UIR3fpOfjs',\n",
              "  '#سكاي_رياضه',\n",
              "  '#ايران',\n",
              "  '#كوفيد_19',\n",
              "  '#سيف_بن_زايد',\n",
              "  '#BabriVerdict',\n",
              "  '#سكاي_اخبار',\n",
              "  '#البيان_القاري_دايما',\n",
              "  '#النصر_الاهلي',\n",
              "  '#فيروس_كورونا',\n",
              "  '#بايدن',\n",
              "  'ال',\n",
              "  'بال',\n",
              "  'اللهم',\n",
              "  'السع',\n",
              "  'جبر',\n",
              "  'خاطر']]"
            ]
          },
          "metadata": {
            "tags": []
          },
          "execution_count": 41
        }
      ]
    },
    {
      "cell_type": "code",
      "metadata": {
        "id": "3y1fL6pmpx9T"
      },
      "source": [
        "# word2vec embeddings using skipgram\n",
        "model = gensim.models.Word2Vec(texts, size=100, window=5, min_count=10, workers=2, sg=1)"
      ],
      "execution_count": 19,
      "outputs": []
    },
    {
      "cell_type": "code",
      "metadata": {
        "id": "jl6A5cSeXkvd"
      },
      "source": [
        "model.save('ar_word2vec.model')"
      ],
      "execution_count": 44,
      "outputs": []
    },
    {
      "cell_type": "code",
      "metadata": {
        "colab": {
          "base_uri": "https://localhost:8080/"
        },
        "id": "nJGeYuwJIlOd",
        "outputId": "6d59bfe0-9c80-4ad0-cea7-745e615836a2"
      },
      "source": [
        "list(model.wv.vocab.items())[:7]"
      ],
      "execution_count": 20,
      "outputs": [
        {
          "output_type": "execute_result",
          "data": {
            "text/plain": [
              "[('_', <gensim.models.keyedvectors.Vocab at 0x7f1fde65e810>),\n",
              " ('تعلم', <gensim.models.keyedvectors.Vocab at 0x7f1fd9312d90>),\n",
              " ('ال', <gensim.models.keyedvectors.Vocab at 0x7f1fd9312f10>),\n",
              " ('أسماك', <gensim.models.keyedvectors.Vocab at 0x7f1fd9312e10>),\n",
              " ('تعد', <gensim.models.keyedvectors.Vocab at 0x7f1fde673550>),\n",
              " ('سلع', <gensim.models.keyedvectors.Vocab at 0x7f1fde673590>),\n",
              " ('غذائي', <gensim.models.keyedvectors.Vocab at 0x7f1fde673610>)]"
            ]
          },
          "metadata": {
            "tags": []
          },
          "execution_count": 20
        }
      ]
    },
    {
      "cell_type": "code",
      "metadata": {
        "colab": {
          "base_uri": "https://localhost:8080/"
        },
        "id": "j_Q6bHkmApVy",
        "outputId": "94884b0d-1079-4e17-bbec-562a22b24eb1"
      },
      "source": [
        "model.most_similar('شفاء', topn=8)"
      ],
      "execution_count": 21,
      "outputs": [
        {
          "output_type": "stream",
          "text": [
            "/usr/local/lib/python3.7/dist-packages/ipykernel_launcher.py:1: DeprecationWarning: Call to deprecated `most_similar` (Method will be removed in 4.0.0, use self.wv.most_similar() instead).\n",
            "  \"\"\"Entry point for launching an IPython kernel.\n"
          ],
          "name": "stderr"
        },
        {
          "output_type": "execute_result",
          "data": {
            "text/plain": [
              "[('شفاؤ', 0.7124413251876831),\n",
              " ('229', 0.6617527604103088),\n",
              " ('102390', 0.6502078771591187),\n",
              " ('تماثل', 0.6376033425331116),\n",
              " ('1418', 0.6242807507514954),\n",
              " ('706', 0.6195377111434937),\n",
              " ('807', 0.6149370670318604),\n",
              " ('524', 0.613483190536499)]"
            ]
          },
          "metadata": {
            "tags": []
          },
          "execution_count": 21
        }
      ]
    },
    {
      "cell_type": "code",
      "metadata": {
        "colab": {
          "base_uri": "https://localhost:8080/"
        },
        "id": "fIES1oZWUpOv",
        "outputId": "a5e6d7a8-8bdc-4195-ebc6-6f7028cf0e3e"
      },
      "source": [
        "model.most_similar('كذب', topn=8)"
      ],
      "execution_count": 47,
      "outputs": [
        {
          "output_type": "stream",
          "text": [
            "/usr/local/lib/python3.7/dist-packages/ipykernel_launcher.py:1: DeprecationWarning: Call to deprecated `most_similar` (Method will be removed in 4.0.0, use self.wv.most_similar() instead).\n",
            "  \"\"\"Entry point for launching an IPython kernel.\n"
          ],
          "name": "stderr"
        },
        {
          "output_type": "execute_result",
          "data": {
            "text/plain": [
              "[('خدع', 0.7445266246795654),\n",
              " ('كذبه', 0.7346301674842834),\n",
              " ('اكذب', 0.7175458073616028),\n",
              " ('يصدق', 0.7104739546775818),\n",
              " ('اكاذيب', 0.7008508443832397),\n",
              " ('اشكال', 0.6980286240577698),\n",
              " ('تخويف', 0.6953993439674377),\n",
              " ('أفواه', 0.6928548812866211)]"
            ]
          },
          "metadata": {
            "tags": []
          },
          "execution_count": 47
        }
      ]
    },
    {
      "cell_type": "code",
      "metadata": {
        "colab": {
          "base_uri": "https://localhost:8080/"
        },
        "id": "nNOE3LyGUzfT",
        "outputId": "ca30e6d7-a777-47df-c9fb-02f4e8a98c6e"
      },
      "source": [
        "model.most_similar('صدق', topn=8)"
      ],
      "execution_count": 49,
      "outputs": [
        {
          "output_type": "stream",
          "text": [
            "/usr/local/lib/python3.7/dist-packages/ipykernel_launcher.py:1: DeprecationWarning: Call to deprecated `most_similar` (Method will be removed in 4.0.0, use self.wv.most_similar() instead).\n",
            "  \"\"\"Entry point for launching an IPython kernel.\n"
          ],
          "name": "stderr"
        },
        {
          "output_type": "execute_result",
          "data": {
            "text/plain": [
              "[('كذبه', 0.7100242972373962),\n",
              " ('احزن', 0.7081845998764038),\n",
              " ('تضايق', 0.7019261121749878),\n",
              " ('تحفيظ', 0.6986989974975586),\n",
              " ('قول', 0.6964496970176697),\n",
              " ('امثال', 0.6960124969482422),\n",
              " ('@no_oo51', 0.6936331391334534),\n",
              " ('اوري', 0.6873522400856018)]"
            ]
          },
          "metadata": {
            "tags": []
          },
          "execution_count": 49
        }
      ]
    },
    {
      "cell_type": "code",
      "metadata": {
        "colab": {
          "base_uri": "https://localhost:8080/"
        },
        "id": "7O7JxwfWPfX5",
        "outputId": "dd05e198-405b-4eef-cbb8-39da005d2058"
      },
      "source": [
        "model.most_similar('غلط', topn=8)"
      ],
      "execution_count": 86,
      "outputs": [
        {
          "output_type": "stream",
          "text": [
            "/usr/local/lib/python3.7/dist-packages/ipykernel_launcher.py:1: DeprecationWarning: Call to deprecated `most_similar` (Method will be removed in 4.0.0, use self.wv.most_similar() instead).\n",
            "  \"\"\"Entry point for launching an IPython kernel.\n"
          ],
          "name": "stderr"
        },
        {
          "output_type": "execute_result",
          "data": {
            "text/plain": [
              "[('هالناس', 0.7166898250579834),\n",
              " ('غلطان', 0.7164492011070251),\n",
              " ('يقارن', 0.7068625092506409),\n",
              " ('يعرفو', 0.703133225440979),\n",
              " ('@Breakingkw', 0.7005273103713989),\n",
              " ('نسيتو', 0.6940320134162903),\n",
              " ('حقار', 0.692850649356842),\n",
              " ('هدرج', 0.692360520362854)]"
            ]
          },
          "metadata": {
            "tags": []
          },
          "execution_count": 86
        }
      ]
    },
    {
      "cell_type": "code",
      "metadata": {
        "colab": {
          "base_uri": "https://localhost:8080/"
        },
        "id": "kqh4OY5LVdP_",
        "outputId": "9eeb82d9-5650-4606-f33a-838940f1fc97"
      },
      "source": [
        "model.most_similar('علاج', topn=8)"
      ],
      "execution_count": 51,
      "outputs": [
        {
          "output_type": "stream",
          "text": [
            "/usr/local/lib/python3.7/dist-packages/ipykernel_launcher.py:1: DeprecationWarning: Call to deprecated `most_similar` (Method will be removed in 4.0.0, use self.wv.most_similar() instead).\n",
            "  \"\"\"Entry point for launching an IPython kernel.\n"
          ],
          "name": "stderr"
        },
        {
          "output_type": "execute_result",
          "data": {
            "text/plain": [
              "[('#وطني_امن_للانسانية', 0.6372544169425964),\n",
              " ('انتفاخ', 0.6329689025878906),\n",
              " ('عقار', 0.6300724744796753),\n",
              " ('يعالج', 0.6243818402290344),\n",
              " ('ريمديسيفير', 0.6236236095428467),\n",
              " ('#ريمديسيفير', 0.622921347618103),\n",
              " ('شاعطاشر', 0.6119363307952881),\n",
              " ('أعشاب', 0.6063117384910583)]"
            ]
          },
          "metadata": {
            "tags": []
          },
          "execution_count": 51
        }
      ]
    },
    {
      "cell_type": "code",
      "metadata": {
        "colab": {
          "base_uri": "https://localhost:8080/"
        },
        "id": "Ou2ZAqMzWF_p",
        "outputId": "aba68ae6-cfec-4d8c-afd3-aca5ed19d3c4"
      },
      "source": [
        "model.most_similar(positive='فيتامين', topn=10)"
      ],
      "execution_count": 52,
      "outputs": [
        {
          "output_type": "stream",
          "text": [
            "/usr/local/lib/python3.7/dist-packages/ipykernel_launcher.py:1: DeprecationWarning: Call to deprecated `most_similar` (Method will be removed in 4.0.0, use self.wv.most_similar() instead).\n",
            "  \"\"\"Entry point for launching an IPython kernel.\n"
          ],
          "name": "stderr"
        },
        {
          "output_type": "execute_result",
          "data": {
            "text/plain": [
              "[('زنك', 0.7879124283790588),\n",
              " ('مغذي', 0.6642374396324158),\n",
              " ('D', 0.6630279421806335),\n",
              " ('C', 0.6614789366722107),\n",
              " ('أسبرين', 0.6368733644485474),\n",
              " ('بندول', 0.620030403137207),\n",
              " ('ميلاتونين', 0.6170986890792847),\n",
              " ('#فيتامين_د', 0.6101459264755249),\n",
              " ('معادن', 0.6020885705947876),\n",
              " ('تحييد', 0.5984216928482056)]"
            ]
          },
          "metadata": {
            "tags": []
          },
          "execution_count": 52
        }
      ]
    },
    {
      "cell_type": "code",
      "metadata": {
        "colab": {
          "base_uri": "https://localhost:8080/"
        },
        "id": "HfYEYsZlWXG5",
        "outputId": "ac794891-2c32-4ec4-d9c0-9d98180a5b31"
      },
      "source": [
        "model.most_similar('احتيال', topn=8)"
      ],
      "execution_count": 55,
      "outputs": [
        {
          "output_type": "stream",
          "text": [
            "/usr/local/lib/python3.7/dist-packages/ipykernel_launcher.py:1: DeprecationWarning: Call to deprecated `most_similar` (Method will be removed in 4.0.0, use self.wv.most_similar() instead).\n",
            "  \"\"\"Entry point for launching an IPython kernel.\n"
          ],
          "name": "stderr"
        },
        {
          "output_type": "execute_result",
          "data": {
            "text/plain": [
              "[('تضييق', 0.7057151794433594),\n",
              " ('تقويض', 0.704338788986206),\n",
              " ('إخفاق', 0.6882681846618652),\n",
              " ('نصب', 0.687771201133728),\n",
              " ('تتسم', 0.6861947178840637),\n",
              " ('إحتيال', 0.6817145347595215),\n",
              " ('أرصد', 0.6816983819007874),\n",
              " ('تجسس', 0.6810715198516846)]"
            ]
          },
          "metadata": {
            "tags": []
          },
          "execution_count": 55
        }
      ]
    },
    {
      "cell_type": "code",
      "metadata": {
        "colab": {
          "base_uri": "https://localhost:8080/"
        },
        "id": "yrrk63LlWcz4",
        "outputId": "c575834b-8325-42ee-b20e-1cff9b196e61"
      },
      "source": [
        "model.most_similar('تضليل', topn=8)"
      ],
      "execution_count": 57,
      "outputs": [
        {
          "output_type": "stream",
          "text": [
            "/usr/local/lib/python3.7/dist-packages/ipykernel_launcher.py:1: DeprecationWarning: Call to deprecated `most_similar` (Method will be removed in 4.0.0, use self.wv.most_similar() instead).\n",
            "  \"\"\"Entry point for launching an IPython kernel.\n"
          ],
          "name": "stderr"
        },
        {
          "output_type": "execute_result",
          "data": {
            "text/plain": [
              "[('أكاذيب', 0.9109851717948914),\n",
              " ('مغلوط', 0.7434934377670288),\n",
              " ('مضلل', 0.7412540316581726),\n",
              " ('مشكك', 0.732384204864502),\n",
              " ('مزيف', 0.7108391523361206),\n",
              " ('ضج', 0.7005358934402466),\n",
              " ('مثار', 0.6970096826553345),\n",
              " ('#ميركل', 0.692806601524353)]"
            ]
          },
          "metadata": {
            "tags": []
          },
          "execution_count": 57
        }
      ]
    },
    {
      "cell_type": "code",
      "metadata": {
        "colab": {
          "base_uri": "https://localhost:8080/"
        },
        "id": "s4mS-GrIWicZ",
        "outputId": "7b53dcb5-4c7b-4db0-f30b-1df0ff78f44a"
      },
      "source": [
        "for i in ar_df[ar_df.tweet.str.contains('ميركل')].tweet.values[:25]:\n",
        "  print(i); print(' ')"
      ],
      "execution_count": 59,
      "outputs": [
        {
          "output_type": "stream",
          "text": [
            "شاركت المستشارة #ميركل أمس في حدث جانبي على هامش أسبوع #الأمم_المتحدة حول المبادرة العالمية لتطوير وتوزيع اللقاحات والعلاجات والتشخيص (ACT-A). وأدلت ميركل ببيان افتراضي قصير، أكدت فيه على أهمية الوصول العادل على مستوى العالم إلى تشخيصات وعلاجات ولقاحات لفيروس كوفيد-19.  1/3  https://t.co/Ol8qhHrOsV\n",
            " \n",
            "⠀ فيروس كورونا في ألمانيا: أنجيلا ميركل تقارن القيود المرتبطة بـ كوفيد-19 بحياتها في جمهورية ألمانيا الديمقراطية ⠀ -⠀ 📸 AFP -⠀ #كورونا #فيروس #ألمانيا # أنجيلا ميركل  https://t.co/MC30LHea53\n",
            " \n",
            "ميركل: أصعب أشهر جائحة \"كوفيد -19\" لم تأت بعد، وللتفاصيل  https://t.co/5nVYQ53yeI  #الجُمان\n",
            " \n",
            "ميركل: الأسابيع القادمة حاسمة بالنسبة لتطور انتشار كورونا في الشتاء: (MENAFN - Youm7) حذرت المستشارة الألمانية، أنجيلا ميركل، الجمعة من أن هذه الأيام تمثل \"اللحظة الحاسمة\" للسيطرة على فيروس كورونا المستجد (كوفيد-19) ووق...  https://t.co/UuZqLdMbB7\n",
            " \n",
            "حذرت المستشارة الألمانية أنغيلا ميركل، من اتخاذ إجراءات أكثر صرامة إذا استمرت عدوى #كورونا بالارتفاع. وأشارت إلى أن #كوفيد_19 وانتشاره في #ألمانيا دخلا وضعا غير مستقر، وهذا ما سيدفع الدولة إلى اتخاذ إجراءات صارمة إذا ما بقي الوضع على حاله ضمن الإجراءات الحالية خلال 10 أيام\".  https://t.co/DQLRQolyG1\n",
            " \n",
            "ميركل تتشاور مع الولايات حول حظر الإقامة الفندقية  الحكومة الألمانية ترفض اتهامها بـ «إثارة الذعر» بسبب «كوفيد-19»  رفض المتحدث باسم الحكومة الألمانية، شتيفن زايبرت، اتهام الحكومة الاتحادية بـ«إثارة الذعر»، في ما    https://t.co/P51PJVrbY0\n",
            " \n",
            "بسبب ارتفاع إصابات \"كوفيد-19\".. ميركل تطالب بتشديد التدابير    https://t.co/2rZIdTatPr\n",
            " \n",
            "ونشرت هذه البيانات بعيد ساعات من إعلان المستشارة الألمانية، أنغيلا ميركل، مساء الأربعاء، في أعقاب اجتماع عقدته مع مسؤولي الولايات الاتّحادية الـ16، أنّ حكومتها ستفرض إجراءات جديدة أكثر شدّة لمكافحة كوفيد-19 في محاولة لمنع تسجيل طفرة وبائية جديدة في البلاد.\n",
            " \n",
            "سجّلت ألمانيا 6638 إصابة جديدة بفيروس كورونا   في حصيلة يومية قياسية،   فيما أعلنت المستشارة ميركل   أن حكومتها ستفرض إجراءات   أكثر شدة لمكافحة كوفيد 19.  #جعفر_توك  https://t.co/pipHDxPBe6\n",
            " \n",
            "لا توجد إجابات سهلة، بالأحرى: التحليل والحوار والتواصل: بعد ثماني ساعات من المشاورات مع رؤساء الوزراء الإقليميين \"Länder\" ، المستشارة ميركل تبين مخاوفها وتوصياتها حول كيفية معالجة موجة #كوفيد_19 الثانية.\n",
            " \n",
            "بوريس جونسون وأنجيلا ميركل يريدون خروج بريطانيا من الاتحاد الاوروبى دون اتفاق تجارى وأتوقع أن هذا سيحدث فى النهايه.مع العلم ان جونسون يصعد الامر الان للتغطيه على فشله فى مواجهه كوفيد ١٩.بوريس جونسون دائماً يختفى وقت الازمات.طيب الله أوقاتكم\n",
            " \n",
            "أعلنت المستشارة الألمانية #أنغيلا_ميركل مساء الأربعاء في أعقاب اجتماع مع مسؤولي الولايات الاتّحادية الـ16 أنّ حكومتها ستفرض إجراءات جديدة أكثر شدّة لمكافحة #كوفيد_19 في محاولة لمنع تسجيل طفرة وبائية جديدة في البلاد. #راديو_الآن  https://t.co/h5ePzSW0yO\n",
            " \n",
            "ميركل: جائحة كوفيد -19 أصبحت محسوسة في جميع الدول الأعضاء مرة أخرى... #Forex -  https://t.co/UGweKKQie8  https://t.co/9gkbU4SBM6\n",
            " \n",
            "ميركل: جائحة كوفيد -19 أصبحت أمرًا محسوسًا في جميع الدول الأعضاء مرة أخرى  https://t.co/BzfzEeh2ta #ألمانيا #فيروس كورونا #DAX\n",
            " \n",
            "#ميركل توجه رسالة للألمان مع زيادة إصابات #كورونا   https://t.co/68UPovfnjU  #فيروس_كورونا #كوفيد_19 #البيان_القارئ_دائما  https://t.co/tp0kMdYSCq\n",
            " \n",
            "يواجه حزب المستشارة الألمانية أنغيلا ميركل معضلة إيجاد خلف لها يحظى بقبول الجميع، وينظم السبت مناظرة لهذا الغرض بين ثلاثة مرشحين محتملين لملئ مكانها، في إطار حملة عرقلها إلى حد كبير تفشي وباء كوفيد-19.  https://t.co/QrqIeJTO0f\n",
            " \n",
            "#ميركل تحث الألمان على الحد من الاختلاط والسفر لكبح #كوفيد_19  https://t.co/Orf2QlDftW  #الشارقة24  https://t.co/xMF3gciuZC\n",
            " \n",
            "المستشارة الألمانية ميركل تتوجه بخطاب للشعب الألماني حول الموجه الثانية من كوفيد 19..  https://t.co/Mc6MSBYe4m\n",
            " \n",
            "ناشدت المستشارة الألمانية أنجيلا ميركل مواطنيها مجدداً المساعدة في احتواء جائحة فيروس كورونا المستجد، من خلال تقليل الاختلاط، وذلك في ظل الارتفاع الملحوظ في أعداد الإصابات بمرض «كوفيد-19»..  #الرؤية_بلا_حدود    https://t.co/NLTrMOjpwv\n",
            " \n",
            "⭕️👆: المستشارة الألمانية أنغيلا ميركل تحذر من أن بلادها \"على وشك فقدان السيطرة على معركتها ضد فيروس #كورونا المستجد\"،  و ان \"أشهر مقبلة صعبة للغاية\"، تنتظر مواطنيها و المانيا بسبب تفشي وباء #كوفيد_19   https://t.co/GXb4X3ldZj\n",
            " \n",
            "ميركل تحذر من الدخول في وضع صعب للغاية مع «كوفيد-19»  https://t.co/Ry9Os2Aiuh | #الإمارات_اليوم\n",
            " \n",
            "ميركل: #ألمانيا ستغلق بدءا من الاثنين ولمدة شهر المطاعم والمؤسسات الترفيهية والثقافية في سياق القيود الجديدة التي ستفرض لمواجهة الموجة الوبائية الثانية #كورونا #المدار_نيوز  https://t.co/9tf30Fn4U2\n",
            " \n",
            "ميركل: وضع كورونا في ألمانيا خطير جدًا وسريع الانتشار  https://t.co/9bmavix2jH\n",
            " \n",
            "ميركل: وضع كورونا في ألمانيا خطير جدًا وسريع الانتشار  https://t.co/J0DJyVQ5Sa\n",
            " \n",
            "Deutschland 🇩🇪  Germany   Lockdown light bis Ende November Nationale Kraftanstrengungen المتشارة الالمانية انجيلا ميركل : المانيا تدخل مرحلة التقيد الكامل من بداية تاريخ  11/2 /2020  بسبب #كورونا\n",
            " \n"
          ],
          "name": "stdout"
        }
      ]
    },
    {
      "cell_type": "code",
      "metadata": {
        "id": "elG2mn94WyZb"
      },
      "source": [
        "def retrieve_tweets(search_term, no_tweets):\n",
        "  for i in ar_df[ar_df.tweet.str.contains(search_term)].tweet.values[:no_tweets]:\n",
        "    print(i); print(' ')"
      ],
      "execution_count": 60,
      "outputs": []
    },
    {
      "cell_type": "code",
      "metadata": {
        "colab": {
          "base_uri": "https://localhost:8080/"
        },
        "id": "B7d5DN_VY3cn",
        "outputId": "728862f4-20a9-4b15-9b53-7c7e39fcbcf2"
      },
      "source": [
        "retrieve_tweets('علاج', 25)"
      ],
      "execution_count": 61,
      "outputs": [
        {
          "output_type": "stream",
          "text": [
            "علاج مرض السمنة يقلل من مضاعفات الكوفيد19. #رابطة_المتككممين #كوفيد_19  https://t.co/igU3Dil80U\n",
            " \n",
            "#اخبار -  https://t.co/x8348Q41lL الصحة العالمية توصى باستخدام الكورتيكوستيرويدات لعلاج الحالات الحرجة من كوفيد 19\n",
            " \n",
            "من فوائد التمارين العلاجية خلال رحلة التعافي من كوفيد-19  تحسين اللياقة، تحسين جودة التنفس، زيادة القوة العضلية و تحسين التوازن و تناسق الحركة #فيروس_كورونا_المستجدّ  #العلاج_الطبيعي  https://t.co/b95MypgwLw\n",
            " \n",
            "قلنا لكم المهدي المحمدي بريهش مغرور لا هو ولا صديقته ابيدمواوجيت ولا اصدقاؤه طوبة e_picureولا هاجر فاس ولا عبد الله االمغراوي نشروا مقال واحد حول فعالية hcq ضد covid19 لكنه بحتقر برفسورة طبيبة لها خبرة في علاج كوفيد  19 مريض الله يحفظ لي جا فيده مستقبلا معقد  https://t.co/WfLUF6wBa8\n",
            " \n",
            "إن صح ما ذُكر.. فهذا أعظم اختراع حتى الآن لمكافحة #كورونا (#كوفيد_١٩) أما العلاجات واللقاحات، فنسمع جعجعة ولا نرى طحناً..  https://t.co/hQh0kpHuQF\n",
            " \n",
            "توصي المنظمة باستخدام الكورتيكوستيرويدات الجهازية لعلاج المرضى الذين يعانون من الحالات الوخيمة والحرجة من #كوفيد_19، ولا توصي بها للمرضى الذين يعانون من حالات غير وخيمة من كوفيد-19، لأن هذا قد يكون ضارًا. ويجب أن يكون العلاج دائمًا تحت إشراف الطبيب:  https://t.co/hvyVzNPf9M  https://t.co/gkhKehknG2\n",
            " \n",
            "🟨 منظمة الصحة العالمية تجيز علاج \"كوفيد - 19\" بأعشاب إفريقية    https://t.co/FTXHD6tdDv...  https://t.co/FTXHD6tdDv\n",
            " \n",
            "🟨 منظمة الصحة العالمية تجيز علاج \"كوفيد - 19\" بأعشاب إفريقية    https://t.co/UQIWiX9zqA...  https://t.co/UQIWiX9zqA\n",
            " \n",
            "#عالم || أوصت  #الصحة_العالمية باستخدام دواء #الكورتيكوستيرويدات الجهازية لعلاج المرضى الذين يعانون من الحالات الوخيمة والحرجة من فيروس #كورونا المستجد (كوفيد 19) وذلك تحت إشراف الطبيب المختص.  https://t.co/S3rxnTT2Hj\n",
            " \n",
            "تساؤلات من مُنتصف ورطَة كوفيد - ١٩  ماهو علاج هذه المسافات إن كُنا لن  نحصل على علاج لهذه الأزمة ؟\n",
            " \n",
            "3️⃣ كوفيد- 19 والأمراض الأخرى تجتمع وتنتشر. منذ 2016 واليمن يعاني من انتشار الكوليرا بشكل فج بين أبنائه. يعاني الأطفال أيضًا من الأمراض التي يمكن علاجها. تصور أن أطفال اليمن تموت من أمراض لها علاج وأدوية ويمكن منعها في كل مكان آخر؛ عدا في اليمن.\n",
            " \n",
            "العالمية توصي باستخدام الكورتيكوستيرويدات لعلاج الحالات الحرجة من كوفيد 19  أوصت منظمة الصحة العالمية باستخدام الكورتيكوستيرويدات الجهازية لعلاج المرضى الذين يعانون من الحالات....إقرأ التفاصيل على الرابط التالي:  https://t.co/c2MqYhWmZd\n",
            " \n",
            "العلماء الأمريكيون والصينيون يعتمدون علاجا طبيعيا ضد كوفيد – 19  https://t.co/lPgM0ZYMeP\n",
            " \n",
            "العالمية توصي باستخدام الكورتيكوستيرويدات لعلاج الحالات الحرجة من كوفيد 19  https://t.co/UtfRlphRBR\n",
            " \n",
            "🟨 العلماء الأمريكيون والصينيون يعتمدون علاجا طبيعيا ضد \"كوفيد - 19\"...  https://t.co/Ez8y9op96r\n",
            " \n",
            "🟨 اقتراح طريقة جديدة لعلاج \"كوفيد-19\"    https://t.co/dusHrkjzM5...  https://t.co/dusHrkjzM5\n",
            " \n",
            "#الصحه_العالميه توصى باستخدام الـ #كورتيكوستيرويدات لعلاج الحالات الحرجة من #كوفيد_19 #كورونا للتفاصيل..  https://t.co/01GkF9280f\n",
            " \n",
            "علامتان في الأنف تدلان على الإصابة بكورونا - البيان الصحي - حياة: (MENAFN - Al-Bayan) التاريخ: 01 أكتوبر 2020 تسمح القدرة على التعرف على العلامات والأعراض المحتملة لـ \"كوفيد-19\"، بعلاج أسرع واتباع إرشادات العزل ال...  https://t.co/0uvdtQor6k  https://t.co/ru0EGzZNt2\n",
            " \n",
            "تعرَّف على دور أجهزة الاختبارات ولوازم المختبرات التي تبرَّعت بها الوكالة الأمريكية للتنمية الدولية في مساعدة مستشفيات #إثيوبيا على علاج الحالات الحرجة من مرضى #فيروس_كورونا (#كوفيد-19) -  https://t.co/9MlPv8RqBv\n",
            " \n",
            "يستطيع أخصائي #العلاج_الطبيعي مساعدتك أثناء رحلة تعافيك من كوفيد-19 حيث سيعمل كعضو ضمن فريق متعدد التخصصات لإرشادك حول كيفية اختيار التمارين المناسبة لحالتك و بخطة علاجية تناسب احتياجاتك كخبراء في الحركة و التمارين #فيروس_كورونا_المستجدّ\n",
            " \n",
            "على الرغم من أهمية الراحة خلال رحلة تعافيك من كوفيد-19 ، يوصي أخصائيو #العلاج_الطبيعي بالقيام بجلسات قصيرة و منتظمة من التمارين الرياضية بدلاً من الجلوس لفترات طويلة طويلة كالجلوس إلى الوقوف و السير في نفس المكان #فيروس_كورونا_المستجدّ\n",
            " \n",
            "#علاج_كرونا_كوفيد\n",
            " \n",
            "تعهدات جديدة بمليار دولار دعما لمبادرة القضاء على #كوفيد_19 والأمم المتحدة وشركاؤها يشددون على أهمية التضامن.  \"من المصلحة الذاتية الوطنية والاقتصادية لكل بلد العمل معا لتوسيع نطاق الوصول إلى الاختبارات والعلاج، ودعم لقاح متاح للجميع وبأسعار معقولة\".   https://t.co/obPzRWts6K\n",
            " \n",
            "من فوائد التمارين العلاجية خلال رحلة التعافي من كوفيد-19  تحسين اللياقة، تحسين جودة التنفس، زيادة القوة العضلية و تحسين التوازن و تناسق الحركة #فيروس_كورونا_المستجدّ  #العلاج_الطبيعي\n",
            " \n",
            "العلماء الأمريكيون والصينيون يعتمدون علاجا طبيعيا ضد “كوفيد – 19”   صحة / أينانيوز/ متابعة/ قد يصبح إنزي  https://t.co/c4httQrLK0العلماء-الأمريكيون-والصينيون-يعتمدو/صحة/\n",
            " \n"
          ],
          "name": "stdout"
        }
      ]
    },
    {
      "cell_type": "code",
      "metadata": {
        "colab": {
          "base_uri": "https://localhost:8080/"
        },
        "id": "ysPbERAhl2nS",
        "outputId": "34e45da3-fd37-43e3-f5ac-e81eec03b4cc"
      },
      "source": [
        "retrieve_tweets('ليمون', 10)"
      ],
      "execution_count": 113,
      "outputs": [
        {
          "output_type": "stream",
          "text": [
            "@realDonaldTrump اشرب ليمون مع العسل العربي الاصلي واخلط معه الزنجبيل ... سوف يقضي على فيروس كوفيد 19  ويقوي المناعه لديك ... نصيحة بالمجان .   ثمنها بعد الشفاء ان تسحب سفارة أمريكا في اسرائيل من القدس وتعترف بالقدس عاصمة للفلسطينين\n",
            " \n",
            "صرت شاربة 4 كاسات كبار كوكتيلات antibiotics بيتية من الليمون والزنجبيل والنعنع والعسل والكركدية والخل وماء ومغلي بزرة المانجو و6 panadol pills ودواء سعلة وodorless garlic capsules ووو بس عشان حسيت حلقي شوي بوجعني ويمكن يكون كوفيد ناينتين.  #COVID-19\n",
            " \n",
            "اعتمد على العصائر الطبيعية مثل عصير البرتقال الليمون الكيوي الجوافة الجريب فروت، التوت الأناناس مصدر ممتاز للفيتامينات والمعادن والمواد المغذية #مساء_الخير #العقل_السليم_في_الجسم_السليم #نبيها_صفر #كوفيد_19 #كورونا #نلتزم_لننتصر #لا_تشلون_هم #السلام_يصنعه_الشجعان\n",
            " \n",
            "@MoO0O0barak الف سلامه عليك لا دي فلونزة مستهبله بس لان كوفيد لا يصاحبها رشح سلامتك ليمون بقي وسؤال دافيه مع فيتامين C\n",
            " \n",
            "لي يومين مقضيها برتقال وشوربه وليمون وسوست من كورونا 🤦‍♂️\n",
            " \n",
            "@f_alabdulkarim ينتهي #كورونا بقدرة الله سبحانه  ثم بفعل الاسباب مثل الدعاء والصدقة والتباعد والتعقيم واكل الماكولات التي تعطي مناعة مثل الفواكه وشرب عصير الليمون\n",
            " \n",
            "شوربة العدس المطبوخة مع الباذنجان ومضاف عليها الليمون والثوم مفيدة جداً جداً للتغلب على الڤيروسات المستجدة  والله المستعان دائماً #كورونا\n",
            " \n",
            "🔴عاجل   منظمة الصحة العالمية أعلنت عن العلاج النهائي لفيروس كورونا : وهو شرب الماء بالعسل بالليمون لمدة خمس أيام ، واليوم السادس تشرب ماء بالليمون فقط ؟  بيطلع الفيروس يسألك وين العسل ؟ قوله : قاعد يقرأ الرسالة .. 😂😂😂😂😂😂😂😂😂😂😂😂😂😂😂😂😂😂😂😂😂😂\n",
            " \n",
            "@asmoom123 عزيزي ماخذ جزء من القرارات وتقول اشرب عصير ليمون خذها فديو وببرنامج حبيبكم قرار رسمي أي نادي لا يستطيع اكمال القائمه بسبب كورونا عنده 100 لاعب بالشباب والناشئين يستطيع الاستعانه بهم إستثنائياً . الآن انت اشرب حمضيات و روق وتحسر على حلم انسحاب النصر او عدم قدرته  يكمل 13 لاعب 😂😂  https://t.co/3iu5D0JiPC\n",
            " \n",
            "@Ask_madinah1 عادي لا تخافي، اعرف كثير جاهم وقت الحمل مثل حالتك؛ وراح المرض. اهم شي لا تخافي ولا تقلقي.  الخوف يفاقم المرض، كورونا مثل الزكام مع اختلاف بسيط؛ اهم شي لاتلبسي كمامه في البيت وحاولي تتنفسي بشكل جيد.  اتغذي مضبوط ولاتستخدمي اي دواء عدا مسكن الصداع وكثري من شاي نعناع مع الليمون.\n",
            " \n"
          ],
          "name": "stdout"
        }
      ]
    },
    {
      "cell_type": "code",
      "metadata": {
        "colab": {
          "base_uri": "https://localhost:8080/"
        },
        "id": "8xblSo2kpMyF",
        "outputId": "fcc54986-0f03-432a-e985-b49c4da2912b"
      },
      "source": [
        "retrieve_tweets(' ثوم ', 25)"
      ],
      "execution_count": 114,
      "outputs": [
        {
          "output_type": "stream",
          "text": [
            "#فيروس_كورونا اللي حاسة الشم والتذوق رايحين منه يجيب جبنه قديمه وفلفل حار ٣حبات وحبة طماطم ودرس ثوم يطحنه ويعصر عليهم ليمونه وتاني يوم هتبقا زي الفل عن تجربه والله\n",
            " \n",
            "هذا سيد تلقى هجوم كبير اول ما ظهرت كورونا  و كان كيقول للناس شنو ياكله من اكل صحي  وفعلا كلشي وقف على هضرتو كلشي ولا كيتعالج ب ثوم و البصل + العلاج الي كيعطيو  وعن تجربة اتحدت\n",
            " \n",
            "اي بسيطة شوية حمض و ملح و ثوم و شربوهم على الريق بنقضي على #كوفيد_20   😂#COVID20\n",
            " \n",
            "🤣 أبتسامة اليوم 😋  شالولاو  طبخة بكش بالملوخية مع ثوم عالي 🍀 تقديم🌿 محمود &amp; # سعد مع شوية مسبكات للقضاء علي فيروس كورونا كوفيد ١٩ هذا هو إعلام معظم العالم العربي وزغردي يا بطة وارقصي ياوزة يتسارع اليوم شيوخ الحارة والغفر للتصوير وهم يحصلوا علي مصل الفيروس لا احد يهرب من الموت  https://t.co/GpgyAP21X0\n",
            " \n",
            "@MsHWhatever عهالحالة ما كان لازم يصيبنا كورونا كل أكلاتنا فيها ثوم وخل😂😂\n",
            " \n",
            "ايران تنتج لقاح #كورونا   المكونات ( بصل + ثوم + قرنفل ) يمكن اضافة الزنجبيل  https://t.co/LjyhJEKNXZ\n",
            " \n",
            "@BBCArabic مكونات اللقاح في ايران بصل مع ثوم وزنجبيل  علماء ايران واطبائهم يعقمون المستشفيات بالبخور الحرمل والملح للوقاية من كورونا  سالت احد الايرانين ماهو انسب علاج للوقاية من الانفلونزا قال المخدرات ( الترياق )  هولاء يؤمنون بان الحرمل والبصل والمخدرات هو العلاج لا تنتظر منهم بوادر علاج  https://t.co/WljT728eHh\n",
            " \n",
            "• خبير أعشاب لبناني (أبو علي ) يعلن عن خلطة منزلية لمواجهة كورونا هي عبارة عن مزيج ثوم وقليلٌ من دهن الزعفران مع جانح بعوضة : جربتها على مصابي كورونا والنتيجة شفائهما!😂😂  https://t.co/EQ6V7eja9i\n",
            " \n"
          ],
          "name": "stdout"
        }
      ]
    },
    {
      "cell_type": "code",
      "metadata": {
        "colab": {
          "base_uri": "https://localhost:8080/"
        },
        "id": "AM3hfsKRqh6G",
        "outputId": "52fc8056-ea2b-4514-da10-8005db9f9d25"
      },
      "source": [
        "retrieve_tweets('أعشاب', 25)"
      ],
      "execution_count": 118,
      "outputs": [
        {
          "output_type": "stream",
          "text": [
            "🟨 منظمة الصحة العالمية تجيز علاج \"كوفيد - 19\" بأعشاب إفريقية    https://t.co/FTXHD6tdDv...  https://t.co/FTXHD6tdDv\n",
            " \n",
            "🟨 منظمة الصحة العالمية تجيز علاج \"كوفيد - 19\" بأعشاب إفريقية    https://t.co/UQIWiX9zqA...  https://t.co/UQIWiX9zqA\n",
            " \n",
            "بسبب #كورونا أصبحنا نعقم منازلنا كثيراً للوقاية من الإصابة بالفيروس الخطير، وهذا تحتاجه التربة أيضاً، فهي تحتاج إلى التعقيم الشمسي ☀️، وذلك لمقاومة مسببات الأمراض في التربة كالأعشاب والآفات، وتحسين جودة المنتج 💯، وزيادة معدل نمو النبات 🌱. #المملكة_العربية_السعودية  https://t.co/3HVEq2ILh4\n",
            " \n",
            "@Sadeem77312496 @NabdApp كلامك فيه الكثير من الصحة وهذا هو الأغلب ..لكن والله يابنتي هي محاوله.. مافيه حالياً أعشاب أقوى نستطيع اعطاءه اياها.. لكن فيه الاخ من بغداد والاخ العييري ذكروا ان فيه مصابين تشافوا وتحسنت حالتهم وهم كانوا في العناية المركزة بسبب فيروس #كورونا..\n",
            " \n",
            "@SAIIDO2020 كورونا هديك ماتنتظرش استعمل زيتروميسين و الفيتامين س و الزنك  و الأعشاب  والحامض و ماتستهترش بالمرض الله يشافيك\n",
            " \n",
            "#علاج_كورونا #المنادي_ابو_علي_الشيباني  يحصل على براءة أختراع بالطب البديل  بموافقة وزارة الصحه الأمريكيه  وبهذا الإنجاز يعتبر اهم علماء العالم المُهمين في طب الأعشاب.   ألف ألف مبروك🌹 يا #ناصر_الزهراء مشاهدة الحلقة  https://t.co/LTTqj55Pgi  https://t.co/JHOX3q0ZVW\n",
            " \n",
            "باش تعرفو بلي أطباء تاعنا مكانش  انا متأكد راهي حاكمتني كورونا راني  عاملة الحجر في دار ونشرب لأعشاب لمرة لأول كنت متردد باش نروح لطبيب لكن أمس تشجعت وروحت طبيبة ماقستلي السخانة ماوالو عطاتني حقنة وشويا ادوية   موالفين بيها وخلاص  بلاد تمشي بل المقلوب 👎🏻 مهم ربي يشفينا والجميع\n",
            " \n",
            "نصحت مجلة متخصصة في الطب والأعشاب بهذا العصير للوقاية من كورونا ونزلات البرد   https://t.co/P66n5L0ePf\n",
            " \n",
            "لقاحات وضعها مشكوك فيه بسبب طريقة التعامل الإعلامي ولأنه تم إعفاء صناعها من المحاسبة،ولوجود تخوف من مخطط ما خاصة مع تهميش علاجات بالأعشاب الطبيعية أما المسؤولون الذين تلقوا إبر،فلاحدث لأنه يمكن أن تكون مجرد أملاح للخداع الإعلامي #كورونا #كوفيد_19 #المال_أولا\n",
            " \n",
            "@Alaeddin_Alali دكتور بعض أعراض كوفيد 19 منها فقدان حاسة الشم و الذوق ألم في الصدر جفاف الحلق ألم الرأس الظهر و الحرارة كنت قد أصبت بها منذ سنوات قبل أن نسمع بهذا الوباء وشفيت ولله الحمد و استعملت بعض الأعشاب بيضة بلدي مخفوقةمع الحليب  حب الرشاد  الزنجبيل و دوليبران للحرارة\n",
            " \n",
            "@saamyone @BBCArabic وأنت مصدق الحمير ذولا  نسيت كانوا يدخلون ببخور أعشاب على المنومين من كورونا في المستشفيات   عجل الله فرج إيران من كلاب العمائم\n",
            " \n",
            "• خبير أعشاب لبناني (أبو علي ) يعلن عن خلطة منزلية لمواجهة كورونا هي عبارة عن مزيج ثوم وقليلٌ من دهن الزعفران مع جانح بعوضة : جربتها على مصابي كورونا والنتيجة شفائهما!😂😂  https://t.co/EQ6V7eja9i\n",
            " \n",
            "@_M__M1 @shamsofficial طيب كورونا أفضل من اللقاح مع أعشاب طبيه واهتمام بالمناعه ربنا يشفيك منها بس دا الله أعلم بيه 😔\n",
            " \n"
          ],
          "name": "stdout"
        }
      ]
    },
    {
      "cell_type": "code",
      "metadata": {
        "colab": {
          "base_uri": "https://localhost:8080/"
        },
        "id": "38aAdjmHspLZ",
        "outputId": "223bc30a-aa0e-4e76-bca9-d1888b97fc07"
      },
      "source": [
        "retrieve_tweets('سارين', 10)"
      ],
      "execution_count": 120,
      "outputs": [
        {
          "output_type": "stream",
          "text": [
            "@malthaidy سيدي العزيز   لنتحدث عن فيروس كوفيد 19  هو مصنع لغرض  معين  وثبت انه غاز السارين وليس كورونا  هذا ليس موضوعنا  موضوعنا هو الهلال  وكيف  انه استغل لتاجيل المباراة  ولكن الهلال له باع طويل  ولن يهزم  والدليل اليوم\n",
            " \n",
            "كل ما تمر بهي بلدنا الحبيب من كورونا فهو يمر في انحاء العالم جميعها ولم نرى احد من هاذه الجامعات فعلت ما تفعله جامعتنا يجب اتخاذ مسارين وايقاف استخدام lock down   #الأمل_بولي_العهد_جامعة_البحرين\n",
            " \n",
            "كل ما تمر بهي بلدنا الحبيب من كورونا فهو يمر في انحاء العالم جميعها ولم نرى احد من هاذه الجامعات فعلت ما تفعله جامعتنا يجب اتخاذ مسارين وايقاف استخدام lock down   #الامل_بولي_العهد_جامعه_البحرين\n",
            " \n",
            "@EmanAlDosary @bukhalifa3333 اذا حجتكم الغش ما شاء الله شعب البحرين واعي وحالات كورونا بأنخفاض سوو امتحانات حضورية اتحداكم تطلعون طالب يعترض على ذي الشي جامعات اعلى منكم بالتصنيف طبقت نظام المسارين ابي اعرف سبب عدم تطبيق هالنظام عندكم بأي حجة ماتطبقونه زعلانين لان الفصل اللي طاف مارسبتو احد 😂😂\n",
            " \n",
            "مو قاعدين نطلب المستحيل لانه اساسا بند من بنود الرجوع للجامعات والمدارس اثناء ازمة كورونا قاعدين نطالبهم بالعمل بالمعطيات الي ينشرونها 🙏🏽 نطالب بالمسارين . وبإيجاد بديل عاجل للوك داون براوزر .  #الامل_بولي_العهد_جامعه_البحرين\n",
            " \n",
            "الكورس اللي قبل ما يختلف عن هالكورس بكونه فصل استثنائي ، ليش الجامعة قاعدة تعذبنا جذي كأن احنا جبنا لهم كورونا!😭  معدلي فوق ال٣ احين بنزل بسبب هالكورس و الامتحانات التعجيزية💔 #مسارين_uob #الامل_بولي_العهد_جامعه_البحرين\n",
            " \n",
            "#الامل_بولي_العهد_جامعة_البحرين   الكورس اللي قبل ما يختلف عن هالكورس بكونه فصل استثنائي ، ليش الجامعة قاعدة تعذبنا جذي كأن احنا جبنا لهم كورونا !! احنا ضحية هالوباء 💔💔💔 نتمنى يطبق نظام المسارين\n",
            " \n",
            "تطبيق المسارين في ظل أزمة كورونا أصبح مهم لما يعانيه الطلبه من ناحية النفسية   #الأمل_بولي_العهد_جامعة_البحرين\n",
            " \n",
            "الحل الأنسب مسارين في ظل الظروف الاستثنائية لجائحة كورونا #الامل_بولي_العهد_جامعه_البحرين\n",
            " \n",
            "⁦@AlAYAM⁩ ⁦@albiladpress⁩ ⁦@Alwatan_Live⁩ ⁦@deertybhr⁩ ⁧#الامل_بولي_العهد_جامعه_البحرين نظام المسارين افضل نظام لا احد يتضرر منه في ظل جائحة كورونا\n",
            " \n"
          ],
          "name": "stdout"
        }
      ]
    },
    {
      "cell_type": "code",
      "metadata": {
        "colab": {
          "base_uri": "https://localhost:8080/"
        },
        "id": "G09H6r3etGYf",
        "outputId": "8c282db0-3303-460a-aed4-1a2b2785ff27"
      },
      "source": [
        "retrieve_tweets('ناموس', 10)"
      ],
      "execution_count": 121,
      "outputs": [
        {
          "output_type": "stream",
          "text": [
            "في ظل هذه الظروف لجائحة #كورونا #كوفيد_19 والتأثيرات الناتجة عنه إلا إننا بدعم #القيادة_الرشيدة في دولة #الإمارات واشراف معالي الشيخ #سلطان_بن_حمدان رئيس اتحاد سباقات الهجن #ملتزمون بكافة الإجراءات الإحترازية من قبل الجهات المعنية #الهجن #الناموس #البيت_متوحد  https://t.co/AVPgX5RlXi\n",
            " \n",
            "فرض حجر صحي ابتداء من الساعة 23:00 تواجه بيه الناموس تاع الليل ماشي الكورونا يا وزير الخرطي  #الجزائر #الحجر_الصحي #كورونا\n",
            " \n",
            "ناس رايحين يزوروا مريض كورونا معزول في بيته حاطينه في ناموسية ، على اساس إنهم صايدين دبانه .😂😂😂😂💔  https://t.co/iYlqeZtqPK\n",
            " \n",
            "الصحفيون حول العالم يتكونون على تغطية  كوفيد 19 وصحافة البيانات والعمل في ظل الأوبئة، واستخدام المصادر المفتوحة وصحافة الموبايل.  الصحافة عندنا تتكون على الناموسيات المشبعة ونقيب الصحفيين سيشكل فريق لمناصرة الزراعة.  هو مال كان فيه نيزك يهدد الأرض، ما تعرفو امنين الحك ؟\n",
            " \n",
            "الصحفيون حول العالم يتكونون على تغطية  كوفيد 19 وصحافة البيانات والعمل في ظل الأوبئة، واستخدام المصادر المفتوحة وصحافة الموبايل.  الصحافة عندنا تتكون على الناموسيات المشبعة ونقيب الصحفيين سيشكل فريق لمناصرة الزراعة.  هو مال كان فيه نيزك يهدد الأرض، ما تعرفو امنين الحك ؟\n",
            " \n",
            "@UAE_BARQ أرشح صاحب السمو الشيخ محمد بن زايد آل نهيان بوخالد الذي وقف مع الجميع بكل الأوقات وخاصة الأوقات الصعبة مثل جائحة كوفيد 19 المتطوع الصيدلي محمد يوسف محمد أبوناموس\n",
            " \n",
            "@UAE_BARQ أرشح صاحب السمو الشيخ محمد بن زايد آل نهيان بوخالد الذي وقف مع الجميع بكل الأوقات وخاصة الأوقات الصعبة مثل جائحة كوفيد 19 المتطوع الصيدلي محمد يوسف محمد أبوناموس في كوفيد 19\n",
            " \n",
            "@UAE_BARQ أرشح صاحب السمو الشيخ محمد بن زايد آل نهيان بوخالد الذي وقف مع الجميع بكل الأوقات وخاصة الأوقات الصعبة مثل جائحة كوفيد 19 المتطوع الصيدلي محمد يوسف محمد أبوناموس\n",
            " \n",
            "@UAE_BARQ أرشح صاحب السمو الشيخ محمد بن زايد آل نهيان بوخالد الذي وقف مع الجميع بكل الأوقات وخاصة الأوقات الصعبة مثل جائحة كوفيد 19 المتطوع الصيدلي محمد يوسف محمد أبوناموس في كوفيد 19\n",
            " \n",
            "ايه ده هي لو ناموسه قرصت واحد عندو كورونا وقرصت واحد تاني يتنقل له المرض 🙄\n",
            " \n"
          ],
          "name": "stdout"
        }
      ]
    },
    {
      "cell_type": "code",
      "metadata": {
        "colab": {
          "base_uri": "https://localhost:8080/"
        },
        "id": "6zwWcgk8tmcH",
        "outputId": "12af8d71-dd0b-4da1-f48e-457cfa2f4af0"
      },
      "source": [
        "retrieve_tweets('بعوض', 10)"
      ],
      "execution_count": 122,
      "outputs": [
        {
          "output_type": "stream",
          "text": [
            "وأوشك أن يقعَ القول عليكم بكويكب العذاب إضافةً إلى ما تُسمّونه وباء كورونا؛ بل هو عذابٌ مصدرُه من بعوضةٍ واحدةٍ فقط. #كورونا #كوفيد_19   الإمام ناصر محمد اليماني 04 - ذو الحجة - 1441 هـ 25 - 07 - 2020 م  https://t.co/7EMFTxmOL2\n",
            " \n",
            "@HashKSA سلسلةُ بيانات البعوضة الخفيّة وسرّ فايروس كورونا .. الإمام ناصر محمد اليمانيّ رابط البيانات  https://t.co/3gRvTTBhDE العلاج إصابة الشيخ عايض القرني فايروس كورونا العناية المركزه السعودية فرنسا تونسي الجزائر طوارئ حظر كلي إغلاق المطاعم المدينة  https://t.co/DWwJz3JzRo\n",
            " \n",
            "@OmarElshazly92 #البعوضة_الخفية_وسر_فايروس_كورونا \"فايروس كورونا.. وما هو بكورونا بل رجزٌ ذو شركاء، تحالفٌ فايروسيٌّ ..\" الإمام ناصر محمد اليماني 17 - ذو القعدة - 1441 هـ 08 - 07 - 2020 مـ 09:17 صباحاً  https://t.co/5Kcf2QAAxx COVID19  https://t.co/JzD3ysrVBV\n",
            " \n",
            "@3tmsh صراح كنت ابغي مكان هادي وطبطعه بعد كورونا ابغي صخب ومدينه مكتضه بالبشر بعوض فترة الحجر خاصه اني اصبت بكورنا وخلصت يعني صار عندي مناعه 😜\n",
            " \n",
            "@covid_19_Arabic متشابه في خلقه مختلف في جيناته خلَقَه الله من بويضات بعوضة ما أنثى واحدةٌلاتُحيطون بهاعلماًتلفُّ في العالم بكلمات الله تتنقّل في البرّوالبحروالجوّفتأتي بالمَدَد لِماتسمّونه فايروسات كورونا  https://t.co/jDReD1X53e الإمام المهديّ ناصر محمد اليمانيّ  07-ربيع الأول-1442 24 - 10 -2020\n",
            " \n",
            "@AlArabiya_Brk #البعوضة_الخفية_وسر_فايروس_كورونا\n",
            " \n",
            "@AlArabiya_Brk وأوشك أن يقعَ القول عليكم بكويكب العذاب إضافةً إلى ما تُسمّونه وباء كورونا؛ بل هو عذابٌ مصدرُه من بعوضةٍ واحدةٍ فقط.  الإمام ناصر محمد اليماني 04 - ذو الحجة - 1441 هـ 25 - 07 - 2020 مـ #إزمير  https://t.co/grAWnQk8gT\n",
            " \n",
            "@dressa65 وأُشهد الله وكفى بالله شهيداً أنّ كلّ ما يحدث في العالم من مكرِ ما تسمّونه فايروس #كورونا أنّه بسبب بعوضةٍ واحدةٍ مخلوق جديد من وعد الله في مُحكم كتابه لا يستحي أن يتحدّى المعرضين المُستكبرين عن اتّباع كتابه القرآن العظيم..  الإمام ناصر محمد اليماني 24 - 10 - 2020 م  https://t.co/f1eYMWvRYm\n",
            " \n",
            "@AJArabic وأوشك أن يقعَ القول عليكم بكويكب العذاب إضافةً إلى ما تُسمّونه وباء كورونا؛ بل هو عذابٌ مصدرُه من بعوضةٍ واحدةٍ فقط.  الإمام ناصر محمد اليماني 04 - ذو الحجة - 1441 هـ 25 - 07 - 2020 م #تركيا  https://t.co/CEu3CkEuE8\n",
            " \n",
            "#فيروس_جديد_قادم_قاصف_ومتين البعوضة الخفية وسر فايروس كورونا.  https://t.co/UeC6RGKU17\n",
            " \n"
          ],
          "name": "stdout"
        }
      ]
    },
    {
      "cell_type": "code",
      "metadata": {
        "colab": {
          "base_uri": "https://localhost:8080/"
        },
        "id": "v8oZ2ylcp3lT",
        "outputId": "b6e22032-cddc-40e7-bff0-b9be3a28c41e"
      },
      "source": [
        "retrieve_tweets('شفاء', 25)"
      ],
      "execution_count": 117,
      "outputs": [
        {
          "output_type": "stream",
          "text": [
            "#كوفيد_19 يطَال عدادات الكهرباء أيضاً وتدخل على إثرها العناية المركزة..  نتمنى لها الشفاء العاجل 😂  https://t.co/YGtY1S69O9\n",
            " \n",
            "10-2020- 1📆  شهر جديد لا نعلم خفاياه اللهم اجعله شهرًا ينحسر فيه الوباء وجعلها ايام شفاء لكل مريض يارب العالمين وخير للمسلمين وللعالم اجمع .#كورونا #كوفيد_19  https://t.co/8hpIcvWgHy\n",
            " \n",
            "كوفيد-19.. 2391 إصابة جديدة و 1421 حالة شفاء و35 وفاة خلال الـ24 ساعة الماضية  https://t.co/FPMfZVdtXz\n",
            " \n",
            "#حضرموت تشارك العالم وتدشن التوعية بالشهر الوردي( اكتوبر شهر التوعية بسرطان الثدي) مع التحذير من مخاوف كوفيد-19 والاحتفاء بشفاء 25 حالة كانت مصابة بسرطان الثدي  https://t.co/6L2x7UzoXu\n",
            " \n",
            "اللجنة المشتركة لرصد و متابعة تفشي وباء كورونا covid-19 حصيلة وباء كورونا كوفيد-19 ليوم الخميس 01 اكتوبر 2020 و 🔴 160 حالة جديدة  🔴 108 حالة تماثلت للشفاء  🔴 23 مريض متواجدون في العناية المركزة 🔴 07 وفيات.  https://t.co/GQ52LJu1nm\n",
            " \n",
            "حضرموت تشارك العالم وتدشن التوعية بالشهر الوردي( اكتوبر شهر التوعية بسرطان الثدي) مع التحذير من مخاوف كوفيد-19 والاحتفاء بشفاء 25 حالة كانت مصابة بسرطان الثدي   للتفاصيل:   https://t.co/1yPq3o9yBd  https://t.co/IEzzsCJbU8\n",
            " \n",
            "(كوفيد-19).. 2391 إصابة جديدة و 35 حالة شفاء خلال الـ24 ساعة الماضية  https://t.co/yaRtLeLV2J #(كوفيد-19).. 2391 إصابة جديدة و 35 حالة شفاء خلال الـ24 ساعة الماضية\n",
            " \n",
            "(كوفيد-19) .. تسجيل 2391 إصابة جديدة و 1421 حالة شفاء خلال الـ24 ساعة الماضية  https://t.co/yk3ey0pqWG\n",
            " \n",
            "#ثريد #حالات_اليوم 01-10-2020 #كورونا_السعودية #كوفيد19 #كوفيد_19   1 #المدينة_المنورة حالات جديدة(55) الشفاء(60) الوفاة(1) #ينبع حالات جديدة(52) الشفاء(52) الوفاة(0) #جدة حالات جديدة(39) الشفاء(50) الوفاة(3) #مكة_المكرمة حالات جديدة(39) الشفاء(77) الوفاة(2)\n",
            " \n",
            "\"كوفيد 19\": تسجيل 2391 حالة اصابة جديدة و 35 حالة وفاة مع 1421 حالة شفاء خلال 24 ساعة الاخيرة | حدث كم -  https://t.co/SyTZZXt5hZ  https://t.co/J9kqj1M3We\n",
            " \n",
            ". تسجيل 1421 حالة شفاء من كورونا خلال آخر 24 ساعة بالمغرب.. الحصيلة: 104136⠀⠀⠀⠀⠀ #كورونا #فيروس #صحة #كوفيد_19 #المغرب  https://t.co/Lyp1Pdw8Fe\n",
            " \n",
            "الحالة الوبائية بالمغرب خلال ال24 ساعة الأخيرة: 2391 حالة جديدة 1421 حالة شفاء 35 حالة وفاة #كوفيد_19 #كورونا #المغرب  https://t.co/qzmb8uK4Fd\n",
            " \n",
            "🔴 وزارة الصحة تعلن عن تسجيل 2391 إصابة جديدة بفيروس كورونا (كوفيد-19) في آخر 24 ساعة بالمغرب.. حالات الشفاء ترتفع إلى 104136 مقابل 2229 حالة وفاة.  للمزيد من الأرقام والتفاصيل:  https://t.co/xKC9Gf1Ueq  #كوفيد_19 #صحة #فيروس #كورونا #covid19 #كورونا_المغرب #المغرب  https://t.co/JQPuc3qOjL\n",
            " \n",
            "أهم الإحصائيات عالمياَ  آخر تحديث: 02-10-2020 04:11 ص اجمالي عدد الأصابات بالفايروس: 34,464,456 حالات الوفيات: 1,027,042 حالات الشفاء: 25,647,795 المصابين حالياَ بالفايروس: 7,789,619 عدد الحالات الغير حرجة: 7,723,564 عدد الحالات الحرجة: 66,055 #كورونا #كوفيد19 #كوفيد_19\n",
            " \n",
            "1179 حالة شفاء جديدة من كورونا بالدولة - عبر الإمارات - أخبار وتقارير: (MENAFN - Al-Bayan) التاريخ: 02 أكتوبر 2020 أعلنت وزارة الصحة ووقاية المجتمع عن شفاء 1,179 حالة جديدة لمصابين بفيروس 'كورونا المستجد (كوفيد 19) وتع...  https://t.co/sBGCSvE3co  https://t.co/C4gKcv7TZ2\n",
            " \n",
            "كلوديو برافو يعاني من التواء في الرباط الإنسي للركبة اليسرى ، من الدرجة الأولى إلى الثانية .  في هذه الأثناء ، السيد إريك بولجار في مرحلة الشفاء من كوفيد 19 ، دون ممارسة نشاط رياضي طبيعي في الوقت الحالي .  #SeleccionChilena  https://t.co/C8hYGzppoD\n",
            " \n",
            "#M24Actu #كوفيد_19.. 2391 إصابة جديدة و1421 حالة شفاء خلال الـ24 ساعة الماضية   https://t.co/hgoO48SDoP @Ministere_Sante  https://t.co/CBTD6rielR\n",
            " \n",
            "كوفيد-19: 2470 إصابة جديدة و2462 حالة شفاء خلال الـ24 ساعة الماضية:  https://t.co/aZ3xckKatl\n",
            " \n",
            "الحمدلله الذي من على والدتي وأخي وآخرين من الأقارب بالشفاء بعد إصابتهما بفيروس كورونا #كوفيد_19، آمل من الجميع توخي الحذر والالتزام بالإجراءات الاحترازية بلبس الكمامة والتباعد الاجتماعي، حيث الفيروس ما زال بيننا وما زال يشكل خطرًا، فلنحافظ على سلامتنا وسلامة من نحب❤️  https://t.co/YMcmooHp7e\n",
            " \n",
            "وزارة الصحة العامة: تسجيل 199 حالة إصابة جديدة مؤكدة بفيروس كورونا (كوفيد-19) في 24 ساعة الأخيرة، من بينها 188 حالة إصابة محلية مسجلة بين أفراد المجتمع و 11 حالة بين المسافرين العائدين من الخارج الذين يخضعون للحجر الصحي، وشفاء 212 حالة ليصل إجمالي المتعافين إلى 122911. #قنا  https://t.co/mDeu0ZfS1P\n",
            " \n",
            "وزارة الصحة العامة: تسجيل 199 حالة إصابة جديدة مؤكدة بفيروس كورونا (كوفيد-19) في 24 ساعة الأخيرة من بينها 188 حالة إصابة محلية مسجلة بين أفراد المجتمع و 11 حالة بين المسافرين العائدين من الخارج الذين يخضعون للحجر الصحي وشفاء 212 حالة ليصل إجمالي المتعافين إلى 122911 #قطر_قروب  https://t.co/O1Yrs2KFgU\n",
            " \n",
            "أعلنت وزارة الصحة العامة عن تسجيل 199 إصابة جديدة بفيروس #كورونا #كوفيد_19، وتعافي 212 ليصل إجمالي حالات الشفاء إلى 122911 حالة. #مرصد_قطر  https://t.co/ErwCd6aWgK\n",
            " \n",
            "أعلنت وزارة الصحة العامة عن تسجيل 199 إصابة جديدة بفيروس #كورونا #كوفيد_19، وتعافي 212 ليصل إجمالي حالات الشفاء إلى 122911 حالة. #مرصد_قطر  https://t.co/CSdWC1gnwA\n",
            " \n",
            "وزارة الصحة تعلن عن تسجيل 199 حالة إصابة جديدة مؤكدة بفيروس كورونا (كوفيد-19) وشفاء 212 حالة من الفيروس في الـ24 ساعة الأخيرة ليصل بذلك إجمالي عدد المتعافين من المرض في دولة قطر إلى 122911   #جريدة_الراية #قطر | #سلامتك_هي_سلامتي | @MOPHQatar  https://t.co/DuNdKMwFYl\n",
            " \n",
            "#وزارة_الصحة: حالات الإصابة والشفاء الجديدة: - تم الإعلان اليوم عن تسجيل 199 حالة إصابة جديدة مؤكدة بفيروس كورونا (كوفيد-19). 188 حالة من أفراد المجتمع، 11 حالة من المسافرين العائدين من الخارج  #جريدة_الراية #قطر | #سلامتك_هي_سلامتي | @MOPHQatar\n",
            " \n"
          ],
          "name": "stdout"
        }
      ]
    },
    {
      "cell_type": "code",
      "metadata": {
        "colab": {
          "base_uri": "https://localhost:8080/"
        },
        "id": "ZOGgrmRjPny3",
        "outputId": "718620a5-6616-46a7-a494-2070802981b8"
      },
      "source": [
        "retrieve_tweets(' غلط', 10)"
      ],
      "execution_count": 87,
      "outputs": [
        {
          "output_type": "stream",
          "text": [
            "صديق ليا عنده حد شغال في مراكز تحليل فيروس #كوفيد_19 بيقول ان 40% من تحليل الفيروس بتطلع نتيجته غلط.\n",
            " \n",
            "شذا اليوم الحلو البينكز نزلوا الالبوم من احلى الاغاني مافيه ولا غلطه و الكل عجبته ما تقدرون تطلعون شي تسبونه و اانجازات و اهم شي ترامب طلع فيه كوفيد هههااااي\n",
            " \n",
            "@m_kharashi لا لا غلطان هم سبب الخروج من الاسيويه بسبب تجاهلهم اتخاذ التدابير اللازمه للحمايه من كوفيد ١٩ واضاعو فرصه مميزه كانت في ظل ضعف اداء الفرق المشاركه واتاحوا الفرصه للطحالب والفقراويه ورغم ذلك فشلونا\n",
            " \n",
            "@KarimOsman1 ايه دا هو لسه فى حاجه اسمها كوفيد دا انا بالصدفه امبارح دخلت غلط العتبه ساعتها بس عرفت أن الكوفيد قرر مغادره البلاد خوفا على نفسه 😂😂😂😂\n",
            " \n",
            "معرفتك بإصابتك بكورونا تلزمك الكثير. أول التزاماتك: مخافة الله في الناس، و استشعار مسؤليتك و أمانتك بحجرك في منزلك لحين انتهاء مدة العزل الكاملة. أما انفلاتك على البشرية و أنانيتك بس لأنك \" طفشت \" ..و اللهِ غلط ..! #كوفيد_19\n",
            " \n",
            "شيلو مشاكل لبنان ع جنب. الصين ما سكّرت مطارها وما حاصرت الوباء بأرضها لصار متفشّى بكل العالم. الفكرة لحالها بتكرّه الواحد بالصين. أنا مش عنصرية بس رح يصرلنا سنة عايشين ع أعصابنا من ورا غلطة جهل وهبل. كلّفوا العالم كلّو مرض عالباب وموت الحياة. #فشّة_خلئ #كورونا #كوفيد_19\n",
            " \n",
            "قالك وزير الثقافة حبّو يعملولو تاست كوفيد ياخي غلطو عملولو تاست زطلة .. ياخي طلع كومام بوزيتيف ههه 😂😂😂\n",
            " \n",
            "على فكرة اللي بيقول إنه كل شيء صيني مو ضيان عالسريع بيخرب طلع غلطان 🤭 .. هي الكورونا مكملة معنا سنة كاملة وبكامل نشاطها واحتمال تكمل لكل العمر 👌.. #كورونا #كوفيد_19 #اختراع_صيني\n",
            " \n",
            "@Mandivan13 @bookshamza يا اخي العزيز قولك ان الانفلونزا الموسمية اخطر والله غلط.. اقرب بحث في قوقل بيعلمك المعلومة هذي مافية شيء مخفي ولا فيه مؤامرات.. وفيات الانفلونزا بين 200 الى 600 الف خلال 12 شهر بينما كوفيد-١٩ قتل اكثر من مليون في 10 شهور.. اللي معه عقل بيعرف الفرق ومين اخطر  https://t.co/zMX3WCq7wx\n",
            " \n",
            "الغاء #الحظر_الجزئي أصلاً كان غلط فادح ، كان همهم المجمعات والمولات وإنعاش جيوب التجار وكانت النتيجة تجمعات عائلية ومناسبات وسربته وعربده والدجاجة عنفصت وزادت أعداد الإصابات  على نفسها جنت براقش  #كورونا #كوفيد_19\n",
            " \n"
          ],
          "name": "stdout"
        }
      ]
    },
    {
      "cell_type": "code",
      "metadata": {
        "colab": {
          "base_uri": "https://localhost:8080/"
        },
        "id": "EeUzI3uWQ2eo",
        "outputId": "44512f50-ac25-414b-b2c4-09d4aa714d83"
      },
      "source": [
        "retrieve_tweets('اختراع', 25)"
      ],
      "execution_count": 89,
      "outputs": [
        {
          "output_type": "stream",
          "text": [
            "إن صح ما ذُكر.. فهذا أعظم اختراع حتى الآن لمكافحة #كورونا (#كوفيد_١٩) أما العلاجات واللقاحات، فنسمع جعجعة ولا نرى طحناً..  https://t.co/hQh0kpHuQF\n",
            " \n",
            "تقدم الفيزيائي صبري عبده عطالله الألفي، بتاريخ 8-9-2020 إلى أكاديمية البحث العلمي والتكنلوجيا- مكتب براءات الإختراع، وذلك للحصول على براءة اختراع لجهاز يؤكد هو أنه يمنع انتشار فيروس كوفيد 19 وأي فيروسات تصيب الجهاز التنفسي للإنسان، حيث يتم حجزها وتحللها، بحسب قوله.\n",
            " \n",
            "براءة اختراع روتشيلدز لاختبار كوفيد 19.  2015.\n",
            " \n",
            "على فكرة اللي بيقول إنه كل شيء صيني مو ضيان عالسريع بيخرب طلع غلطان 🤭 .. هي الكورونا مكملة معنا سنة كاملة وبكامل نشاطها واحتمال تكمل لكل العمر 👌.. #كورونا #كوفيد_19 #اختراع_صيني\n",
            " \n",
            "شركة مودرنا للأدوية تقول أنها لن تفرض براءة اختراع للقاح كوفيد-19 أثناء الجائحة  https://t.co/avdLPWaOZA\n",
            " \n",
            "قالت شركة مودرنا $MRNA أنها لن تفرض الالتزام ببراءات الاختراع السبع التي تمتلكها لمرشح لقاح كوفيد 19 خلال الجائحة. كما أنها مستعدة لترخيص براءات الاختراع لأي منظمة أخرى بعد انتهاء الجائحة  نقلا عن ذا وول ستريت جورنال #الأسهم_الأمريكية   https://t.co/4CHa4apKnu\n",
            " \n",
            "الرأي الأردنية: توقيف مدعي اختراع علاج #كوفيد_19 لمدة 14 يوما  #الأردن #فيروس_كورونا_المستجد   https://t.co/iCqHOBLP5V\n",
            " \n",
            "@Yousef1980cc هو فيه مرض محدش انكر ا. يوسف وفيه فيروس تم  انتاجه بمعامل ووهان بالصين بدعم فرنسى لينتقل من انسان لانسان وده تعديل للسارس واسمه كوفيد ١٩ ومسجل كبراءة اختراع فى فرنسا من سنة ٢٠٠٣ حضرتك برقم  مسلسل ومعروف لكل الارض.   اما اهم خصائص عائلة كورونا انها بتضعف بمرور الوقت بتعدد الاصابات\n",
            " \n",
            "تسجيل رسمي لبراءة اختراع هولندية لفحص كوفيد-١٩ في عام ٢٠١٥  https://t.co/jQCLgxy0Ab\n",
            " \n",
            "@pppp001111 متابع موضوع كلش مهم بلكي ينتهي التقاش فيه لاختراع لقاح كوفيد ١٩ او على الاقل حل مشكلة الكهرباء في ظل حكم اتباع ال البيت !!\n",
            " \n",
            "لمن لا يزال يصدق الاعلام الكاذب عن مخطط كوفيد هذا دليل اخر من موقع براءة الاختراعات الاوروبي لجهاز تقدمت به شركة روتشيلد اليهودية منذ عام ٢٠١٥ وذكرت فيه انه لفحص مرض كوفيد ١٩ منذ ٥ سنوات .  https://t.co/fNZyDWoI6v\n",
            " \n",
            "@Atheer_Oman #مساء_الخيرᅠ  عندنا مجلس البحث العلمي ، لماذا لا يتم تسخير الجهود للوصول الى افكار ابتكارية وابداعية واختراعات جديدةللتعامل والتعايش #كوفيد_19 ؟!  #عمان_تواجه_كورونا بعقول ابداعية 🧠 💡  Why don’t we invent creative ideas to deal and live with #Covid ?!  @mohpr_oman  @TRC_Oman  https://t.co/HlIJ4FB8EP\n",
            " \n",
            "مافي حل واختراعات جديدة غير الكمام ؟  عندنا مجلس البحث العلمي ،لماذا لا يتم تسخير الجهود للوصول الى افكار ابتكارية وابداعية واختراعات جديدةللتعامل والتعايش #كوفيد_19 ؟!  #عمان_تواجه_كورونا بعقول ابداعية  Why don’t we invent creative ideas to deal and live with #Covid ?! @TRC_Oman\n",
            " \n",
            "@OmanVSCovid19 عندنا مجلس البحث العلمي ، لماذا لا يتم تسخير الجهود للوصول الى افكار ابتكارية وابداعية واختراعات جديدةللتعامل والتعايش #كوفيد_19 ؟!  #عمان_تواجه_كورونا بعقول ابداعية 🧠 💡  Why don’t we invent creative ideas to deal and live with #Covid ?!  @TRC_Oman   https://t.co/WdcO4WXrkz\n",
            " \n",
            "@News_Ejazah كل التصريحات المحلية والعالمية اجمعت ان فايروس كرونا المستجد كوفيد-١٩ لاينتقل عبر النقود فين الاختراع طيب. اما ان التصريحات كانت كذب او ان الاختراع مجرد اعلام\n",
            " \n",
            "#فيروس_كورونا_المستجدّ يثبت ان هناك صراعا خفيا بين تيارين، إسلامي يحاول أثبات نفسه بالمحصنات والأدعية، واخر علماني يسعى ليل نهار لاختراع الأدوية، فمن سينتصر!.\n",
            " \n",
            "تمكن اللاجئ الفلسطيني المقيم في لبنان، عامر درويش، من اختراع جهاز تعقيم إلكتروني صغير الحجم من أجل مكافحة فيروس كورونا  https://t.co/rBIUqZGxhk\n",
            " \n",
            "مركز إماراتي ينال براءة اختراع لتطويره علاجاً بالخلايا الجذعية لالتهابات كوفيد-19  https://t.co/KmSgoeCvN0 #أمراض\n",
            " \n",
            "#التغريدة_السابقة نصرة ديننا الحنيف لن تأتي بقتل من يسيء لنبينا الأكرم ولا بمقاطعة اقتصادية ليس لها \"ولا نتفة تأثير\"، بالنصرة سوف تتحقق حين يوجهوا المسلمون طاقتهم لاختراع لقاح لداء كوفيد-١٩ والتعاون مع المنظمات الدولية لتوزيعه.\n",
            " \n",
            "الأهلي اللي سرق 30 مليون من الخزنه واختفوا والأهلي اللي خالف القوانين وقال للجمعية العمومية تنتخب ابن مرتضي بدل العتال ، تصدق بقي ان كورونا مش اختراع الصينيين ولا الأمريكان دة أختراع الأهلي علشان تصيب لاعيبة الرجاء ويتأجل الماتش .  مؤامرة ، فوق يا خطيب فووق ..#اعزله_كفايه_ياصبحي  https://t.co/Z9K4sJnmZ3\n",
            " \n",
            "الأهلي اللي سرق 30 مليون من الخزنه واختفوا والأهلي اللي خالف القوانين وقال للجمعية العمومية تنتخب ابن مرتضي بدل العتال ، تصدق بقي ان كورونا مش اختراع الصينيين ولا الأمريكان دة أختراع الأهلي علشان تصيب لاعيبة الرجاء ويتأجل الماتش ..  لا تصدق فعلاً مؤامرة ، فوق يا محمود فووق ..  https://t.co/QKMLhYT2fX\n",
            " \n",
            "#دمشق اساليب صلاة جديدة من اختراع حسون والاسد خوفا من فايروس كورونا فتوها تقوى وايمان😂😂  اشترك في القناة⤵️⤵️ تلغرام  https://t.co/AOCtYcw8Bc  https://t.co/iHnrZlI8Mc\n",
            " \n",
            "الأهلي اللي سرق 30 مليون من الخزنه واختفوا والأهلي اللي خالف القوانين وقال للجمعية العمومية تنتخب ابن مرتضي بدل العتال ، تصدق بقي ان كورونا مش اختراع الصينيين ولا الأمريكان دة أختراع الأهلي علشان تصيب لاعيبة الرجاء ويتأجل الماتش مؤامرة ، فوق يا خطيب #اعزله_كفاية_ياصبحي\n",
            " \n",
            "الأهلي اللي سرق 30 مليون من الخزنه واختفوا والأهلي اللي خالف القوانين وقال للجمعية العمومية تنتخب ابن مرتضي بدل العتال ، تصدق بقي ان كورونا مش اختراع الصينيين ولا الأمريكان دة أختراع الأهلي علشان تصيب لاعيبة الرجاء ويتأجل الماتش لا تصدق فعلاً مؤامرة ، فوق يا محمود ياخطيب فووووق😒  https://t.co/5gIAEds6JN\n",
            " \n",
            "اكره ام اللي يجلس عند الصراف بالساعات يبوي في اختراع تطبيق لكل بنك سدد فواتيرك  وحول منه وفكنا اما تزاحم الناس عالصرافات عشان تسدد هذا اكره من كورونا\n",
            " \n"
          ],
          "name": "stdout"
        }
      ]
    },
    {
      "cell_type": "code",
      "metadata": {
        "colab": {
          "base_uri": "https://localhost:8080/"
        },
        "id": "XqexyLYDRS_n",
        "outputId": "cfb18d2c-df59-4243-c531-85e7ae9062c8"
      },
      "source": [
        "retrieve_tweets('لقاح', 10)"
      ],
      "execution_count": 91,
      "outputs": [
        {
          "output_type": "stream",
          "text": [
            "🧐 #كوفيد_19 لن ينفع الأمل في إنتاج لقاح مضاد له مع علمنا بأنه متطور مستجد لا ننسى كيف يتشكل للتمويه يعني لو وفرت لقاح مضادة له تكون لفترة محدودة ليس مدى الحياة لا تتسرع و لا تنسى موسمه الثاني قادم ربما يكون أخطر و أشمل #٤٠يوم💥👽 #باقيه_لتكمل_علينا_كلنا  #البس_كمامة #WearAMask\n",
            " \n",
            "متحدث: #الصين توفر لقاحات \"كوفيد-19\" للعالم بسعر معقول قال وانغ ون بين، في إفادة صحفية دورية، إن \"اللقاحات من الدول المختلفة مازالت في طور التطوير. ومن غير المؤكد كيفية تسعيرهم، ولكن بالنسبة للصين ،هذا أمر واضح. سنوفر للعالم لقاحاتنا كمنتج بمنفعة عامة عالمية وبسعر عادل ومعقول\".  https://t.co/MFJ7m6kPW0\n",
            " \n",
            "حتى لا تضيع الفرصة.. مطلوب 15 مليار دولار للقاح #كورونا | #كوفيد_19 #Covid_19 #corona   https://t.co/eWe9hLPfzF\n",
            " \n",
            "لا نتائج لاختبارات لقاح \"موديرنا\" ضد كوفيد-19 قبل الانتخابات الرئاسية الأميركية  https://t.co/2ZOyxBZujX\n",
            " \n",
            "مختبر كيورفاك الألماني يبدأ المرحلة الثانية من التجربة السريرية حول لقاح ضد كوفيد-19 | Euronews  https://t.co/Xh0ZRRQQGF\n",
            " \n",
            "دعوة أممية لجمع 15 مليار دولار فورا لشراء لقاح كوفيد- 19 للدول الفقيرة لتخطي الحجب:  https://t.co/BWzzS3Tf8H للمزيد:  https://t.co/EBUTKitItS #كورونا #كوفيد19\n",
            " \n",
            "@yoshinoj20 @chayib3 @A_S_A_Alothman @ana44m @jamalhatawi1 يجب أن تقام مناظرة مباشرة علمية بين دكاترة كل طرف ليس حول الكوفيد بلل حول علم الفيروسات كله كتشخيص وعلاقته بالمرض واللقاح لأن مقاطع دكتور كاوفمان ظاهرها تتحدث عن كوفيد لكنه يتحدث عن كل شيء لكن مجرد لمحات دون أدلة باستثناء التشخيص\n",
            " \n",
            "🟨 جامعة أكسفورد: أمراض تجربة AstraZeneca قد لا تكون بسبب لقاح \"كوفيد-19\"!    https://t.co/ME8P69NZwy...  https://t.co/ME8P69NZwy\n",
            " \n",
            "مقالي في صحيفة #آراء_سعودية:   #قف_ممنوع_الاستهتار ! 🛑✋🏻   https://t.co/ZVsFAWgKxc  #كورونا #كوفيد_19 #نعود_بحذر #السعودية #الإمارات #الكويت  #الصحة #التوعية #لقاح #مقالات #أيمن_العريشي #رأينا #COVID19  https://t.co/oltggSOk2k\n",
            " \n",
            "@hmah55 عودة بحذر،،، نرجوا الله ان يتم اعتماد #لقاح_ كوفيد\n",
            " \n"
          ],
          "name": "stdout"
        }
      ]
    },
    {
      "cell_type": "code",
      "metadata": {
        "colab": {
          "base_uri": "https://localhost:8080/"
        },
        "id": "ljsXYUktRuqD",
        "outputId": "29f1bba2-2119-4ad7-a609-e3860721c835"
      },
      "source": [
        "retrieve_tweets('منزلي', 10)"
      ],
      "execution_count": 92,
      "outputs": [
        {
          "output_type": "stream",
          "text": [
            "@ARABLAAW  السلام عليكم لدي عاملة منزلية في إجازة وبعد إجازتها حضرت إلى المطار بمانيلا وقصت البوردنق ولكن تأخرت نتيجة فحص كوفيد ١٩ ومن ثم فاتتها الرحلة ولم تتمكن من إلغاء حجزها حتى الآن لكي تحجز على رحلة أخرى علماً بأنها طلبت ذلك ولم يتم التعاون معها نرجو إفادتنا ؟ ولكم الشكر.\n",
            " \n",
            "#ترامب تم فحصه عن كوفيد و يعاد فحصه.  للتأكد من النتائج.  خلال ساعات ستظهر النتيجة.  و عليه الاحتراز المنزلي ١٤ يوم\n",
            " \n",
            "الرعاية المنزلية لحالات كوفيد-19 المشتبه بها والخفيفة  #كورونا #توعية_المستهلك  https://t.co/fYI1OmWQzl\n",
            " \n",
            "الرعاية المنزلية لحالات كوفيد-19 المشتبه بها والخفيفة #نجاحنا_بالتزامنا_جميعاً  https://t.co/iB91gLqOka\n",
            " \n",
            "@0oHyamal 1. المرض يسمونه كوفيد-19 وينسبون سببه إلى فايروس كورونا.  2. عدم اتباع الإجراءات وعدم الخوف، يبقى 5g. وقبل كل شيء الاستعانة بالله والتمسك بروح الجهاد (ما قلت \"قتال\" قلت جهاد).  3. لا يوجد أدلة.  4. يرجى البحث عن الأضرار التي يسببها الكمام، المعقمات، الخوف، الحبس المنزلي، إلخ.  🌹\n",
            " \n",
            "بعد إصابته بفيروس #كورونا: من بين اقتراحات #ترامب لعلاج مرض كوفيد-19 حقن المريض بالمنظفات المنزلية أرشح لك كلوركس الأمريكي فقد جربته في #أمريكا عدة مرات في غسيل ملابسي ..  https://t.co/KZJaeglqZj\n",
            " \n",
            "تأكيد اصابة ترامب وزوجته بفيروس كوفيد 19 .. وسيخضع لحجر منزلي 14 يوم ..  https://t.co/SEfbYdhDdQ\n",
            " \n",
            "“أداة تعقّب الاستجابة العالمية لـ #كوفيد_19 من منظور #النوع_الاجتماعي”، التي أطلقتها هيئة الأمم المتحدة للمرأة وبرنامج الأمم المتحدة الإنمائي. #GenderTracker #المرأة #العنف_المنزلي #العائلة #تمكين #تعليم  https://t.co/3NDcQ4x2x4  https://t.co/ZNu9RD0yMt\n",
            " \n",
            "#ميلانيا ترامب على تويتر: \"#ترامب وأنا نخضع للحجر الصحي المنزلي بعد التأكد إصابتنا بـ #كورونا (كوفيد-19)، نحن بخير وقمت بتأجيل كافة الارتباطات القادمة. حافظوا على سلامتكم وسنتجاوز معاً هذه الأزمة.  https://t.co/79fJ45HP1s\n",
            " \n",
            "للعاملين في مجال #الرعاية_الصحية ولأهالي المصابين في الحجر المنزلي، نقدم لكم اليوم الدليل الشامل في النصائح الغذائية لمرضى #كوفيد_19 والذي أعده نخبة من أطبائنا المتخصصين:  د. أشواق باوزير د. ماجدة بن سعدون د. سماهر بافرجوم للقراءة والتحميل:  https://t.co/nBGWW5ia4V  إخراج فني:مطار  https://t.co/9oWh58n3jY\n",
            " \n"
          ],
          "name": "stdout"
        }
      ]
    },
    {
      "cell_type": "markdown",
      "metadata": {
        "id": "7e0nKx7nSNDF"
      },
      "source": [
        "\n",
        "@0oHyamal 1. المرض يسمونه كوفيد-19 وينسبون سببه إلى فايروس كورونا.  2. عدم اتباع الإجراءات وعدم الخوف، يبقى 5g. وقبل كل شيء الاستعانة بالله والتمسك بروح الجهاد (ما قلت \"قتال\" قلت جهاد).  3. لا يوجد أدلة.  4. يرجى البحث عن الأضرار التي يسببها الكمام، المعقمات، الخوف، الحبس المنزلي، إلخ. "
      ]
    },
    {
      "cell_type": "code",
      "metadata": {
        "colab": {
          "base_uri": "https://localhost:8080/"
        },
        "id": "b2NgP__BSYYn",
        "outputId": "4240438e-d845-4197-a4a7-3ccb31492742"
      },
      "source": [
        "model.most_similar('أدل', topn=8)"
      ],
      "execution_count": 94,
      "outputs": [
        {
          "output_type": "stream",
          "text": [
            "/usr/local/lib/python3.7/dist-packages/ipykernel_launcher.py:1: DeprecationWarning: Call to deprecated `most_similar` (Method will be removed in 4.0.0, use self.wv.most_similar() instead).\n",
            "  \"\"\"Entry point for launching an IPython kernel.\n"
          ],
          "name": "stderr"
        },
        {
          "output_type": "execute_result",
          "data": {
            "text/plain": [
              "[('دلائل', 0.7504321932792664),\n",
              " ('براهين', 0.7278854846954346),\n",
              " ('مترابط', 0.7086319923400879),\n",
              " ('استنتاج', 0.6954593658447266),\n",
              " ('تتلخص', 0.6901767253875732),\n",
              " ('قطعي', 0.6733895540237427),\n",
              " ('هرمون', 0.6724417209625244),\n",
              " ('تشير', 0.6714494824409485)]"
            ]
          },
          "metadata": {
            "tags": []
          },
          "execution_count": 94
        }
      ]
    },
    {
      "cell_type": "code",
      "metadata": {
        "colab": {
          "base_uri": "https://localhost:8080/"
        },
        "id": "_i0va6r0Slrv",
        "outputId": "96f99053-537d-410e-d76c-5c9ee6abc888"
      },
      "source": [
        "retrieve_tweets('أدلة', 10)"
      ],
      "execution_count": 95,
      "outputs": [
        {
          "output_type": "stream",
          "text": [
            "@yoshinoj20 @chayib3 @A_S_A_Alothman @ana44m @jamalhatawi1 يجب أن تقام مناظرة مباشرة علمية بين دكاترة كل طرف ليس حول الكوفيد بلل حول علم الفيروسات كله كتشخيص وعلاقته بالمرض واللقاح لأن مقاطع دكتور كاوفمان ظاهرها تتحدث عن كوفيد لكنه يتحدث عن كل شيء لكن مجرد لمحات دون أدلة باستثناء التشخيص\n",
            " \n",
            "@0oHyamal 1. المرض يسمونه كوفيد-19 وينسبون سببه إلى فايروس كورونا.  2. عدم اتباع الإجراءات وعدم الخوف، يبقى 5g. وقبل كل شيء الاستعانة بالله والتمسك بروح الجهاد (ما قلت \"قتال\" قلت جهاد).  3. لا يوجد أدلة.  4. يرجى البحث عن الأضرار التي يسببها الكمام، المعقمات، الخوف، الحبس المنزلي، إلخ.  🌹\n",
            " \n",
            "وتتكاثر الأدلة يومياً على خطورة السمنة وآثارها السلبية على الجسد ومقاومته لشتى الأمراض: السرطان السكري الضغط أمراض القلب الجهاز الهضمي المفاصل . . واليوم دليل جديد: السمنة تزيد من نسبة أعراض #كوفيد والتنويم 3 -4.5 مرات (ما يعادل خطورة الضغط والربو مجتمعين)  https://t.co/IgiPwEKsu6\n",
            " \n",
            "\" الأدلة التي تربط بين نقص فيتامين د وشدة مرض كوفيد -19 ظرفية لكنها كبيرة\"  وفقًا للورقة التي شاركت في تأليفها أستاذة علم الشيخوخة الطبي في ترينيتي كوليدج دبلن   ⤵️\n",
            " \n",
            "🗣️[استطلاع رأي] ثغرات أدلة كوفيد-19 في التعليم في حالات الطوارئ 1️⃣ ما هي الأدلة التي تحتاجونها في ضوء #كوفيد_19؟ 2️⃣ما هو البحث الذي تشاركون حالياً فيه؟ 3️⃣كيف يمكن مشاركة الأدلة الناشئة بالشكل الأفضل لدعم السياسات والبرامج المستقبلية استجابتاً لكوفيد-19؟  https://t.co/aOsFCGsYRw\n",
            " \n",
            "⁃ ترتفع نسبة المقاومة ضد الفايروسات بنسبة ٧٠ - ٩٠٪  عند أخذ اللقاح  ⁃ التخلف عن أخذ التعطيم يتسبب في زيادة نسبة خطورة الإصابة بالإنفلونزا.   ⁃ لا توجد أدلة علمية تربط التطعيمات الموسمية بفيروس كورونا المستجد ( كوفيد- 19 )  https://t.co/pod7i2lHjV\n",
            " \n",
            "تصريحات ترمب عن الأدوية إللي أخذها عشان #كورونا مالها علاقة بالعلم .. يسوق لها ويمدحها ويقول أنها تشفي من #كوفيد_19 وكأن عليها أدلة وبراهين لا نقاش فيها ! تخبط في كل العالم بسبب كورونا .. سبحان الله مخلوقات صغيرة جدا غيرت من حياتنا ومن العالم ..\n",
            " \n",
            "صدر حديثا ورقة عمل حول : Unmasking the Impact of COVID-19 on Businesses : Firm Level Evidence from Across the World, 2020 عنوان البحث : الكشف عن تأثير كوفيد-١٩ على الشركات: أدلة على مستوى الشركة من جميع أنحاء العالم #كوفيد_١٩ #الشركات  Full Text:  https://t.co/zTT0rXWH2V\n",
            " \n",
            "حددت هيئة الصحة بدبي 7 معايير لقبول وتنويم مرضى فيروس كورونا (كوفيد-19) بوحدة العناية المركزة في المنشآت الصحية الخاصة المرخصة من قبل الهيئة، مشيرة إلى أن هذه المعايير تم وضعها وفق أحدث الأبحاث العلمية والممارسات القائمة على الأدلة والبراهين.   https://t.co/2IjAs4MsxY\n",
            " \n",
            "في #اليوم_الدولي_للحد_من_الكوارث، الأمين العام @antonioguterres يؤكد أن جائحة #كوفيد_19 أظهرت أن المخاطر العامة تتطلب تعاونا دوليا، وأن الإدارة الجيدة لمخاطر الكوارث هي العمل بمقتضى المعرفة العلمية والأدلة القائمة.👇  https://t.co/LGBfYcD2RS   © @UNOCHA  https://t.co/swVvsx1qJg\n",
            " \n"
          ],
          "name": "stdout"
        }
      ]
    },
    {
      "cell_type": "code",
      "metadata": {
        "colab": {
          "base_uri": "https://localhost:8080/"
        },
        "id": "SllDEHroTN14",
        "outputId": "20db5be9-3728-4ed4-b3d2-cfa24c7df4fa"
      },
      "source": [
        "retrieve_tweets('براهين', 10)"
      ],
      "execution_count": 97,
      "outputs": [
        {
          "output_type": "stream",
          "text": [
            "تصريحات ترمب عن الأدوية إللي أخذها عشان #كورونا مالها علاقة بالعلم .. يسوق لها ويمدحها ويقول أنها تشفي من #كوفيد_19 وكأن عليها أدلة وبراهين لا نقاش فيها ! تخبط في كل العالم بسبب كورونا .. سبحان الله مخلوقات صغيرة جدا غيرت من حياتنا ومن العالم ..\n",
            " \n",
            "البراهين على تسبب علماء الهندسة الوراثية بتفشي جائحة فيروس كوفيد 19  https://t.co/pqoMtpqdSE\n",
            " \n",
            "حددت هيئة الصحة بدبي 7 معايير لقبول وتنويم مرضى فيروس كورونا (كوفيد-19) بوحدة العناية المركزة في المنشآت الصحية الخاصة المرخصة من قبل الهيئة، مشيرة إلى أن هذه المعايير تم وضعها وفق أحدث الأبحاث العلمية والممارسات القائمة على الأدلة والبراهين.   https://t.co/2IjAs4MsxY\n",
            " \n",
            "@AshrafTanago @LauriceC كوفيد-١٩ هو الذي هزم ترامب وليس بايدن لان في العادة نائب الرئيس لايصبح رئيس. ترامب قضى بجهله على الطب الامريكي المبني على البراهين كما قضى سياسي لبنان على طب لبنان العريق\n",
            " \n",
            "@AshrafTanago @LauriceC كوفيد-١٩ هو الذي هزم ترامب وليس بايدن لان في العادة نائب الرئيس لايصبح رئيس. ترامب قضى بجهله على الطب الامريكي المبني على البراهين كما قضى سياسي لبنان على طب لبنان العريق\n",
            " \n",
            "تفشي الوباء العالمي كورونا \" كوفيد-19\". وإن استهداف ميليشيات الحوثي المتكرّر للمدنيين والمنشآت المدنية والحيوية في المملكة ، هو امتداد للأعمال الإرهابية التي تستهداف المنشآت النفطية في ( بقيق وخريص ) والتي تبنتها المليشيا الحوثية واثبتت الأدلة والبراهين تورط النظام الإيراني في\n",
            " \n",
            "تفشي الوباء العالمي كورونا \" كوفيد-19\". وإن استهداف ميليشيات الحوثي المتكرّر للمدنيين والمنشآت المدنية والحيوية في المملكة ، هو امتداد للأعمال الإرهابية التي تستهداف المنشآت النفطية في ( بقيق وخريص ) والتي تبنتها المليشيا الحوثية واثبتت الأدلة والبراهين تورط النظام الإيراني في\n",
            " \n",
            "ما نؤكد عليه أننا في منظمة الصحة العالمية نعوّل على الدراسات ونأخذ بالبراهين العلمية لنعرف ما تأثير هذا الفيروس المتغيّر.  رابط فيديو حول السلالة المتغيرة من فيروس كوفيد-19👇:  https://t.co/7xqESoqoih\n",
            " \n",
            "ولله الحمد مرور يومين بعد لقاح كوفيد  ودون وجود اعراض ثقتي بالله سبحانه وتعالى ثقتي بالعلم والطب المبني على البراهين ثقتي بقرار الزملاء المتخصصين وليس الجهلاء ثقتي بحكومتنا الرشيده جعلتني أقرر وأقوم بالتسجيل من أجل لقاح كوفيد وقاية لي وللمجتمع الله يحفظنا ويحمينا واياكم وأحبابنا\n",
            " \n",
            "البراهين المتراكمة تثبت أن العلاج الكيماوي والعلاج المناعي لا يزيدان من خطر الوفاة للمرضى المصابين ب #كوفيد_19، وأيضا هذه العلاجات لم تنشط فايروس كورونا عند الاشخاص المتعافين. لذا في كثير من الحالات قد يكون العلاج الكيماوي آمنًا للاستخدام أثناء الجائحة  https://t.co/mGjTM4ePIy\n",
            " \n"
          ],
          "name": "stdout"
        }
      ]
    },
    {
      "cell_type": "code",
      "metadata": {
        "colab": {
          "base_uri": "https://localhost:8080/"
        },
        "id": "ku3zB8NCUWzB",
        "outputId": "e8a56c18-2ddf-4e51-9503-fd303a21cef3"
      },
      "source": [
        "retrieve_tweets('معركة_الوعي', 10)"
      ],
      "execution_count": 101,
      "outputs": [
        {
          "output_type": "stream",
          "text": [
            "في الوقت الذي يدعو معدومي العلم لمقاطعة البضائع الفرنسية [وليس الحكومة ورئيسها] كانت فرنسا وكراهيتها للاسلام على موعد مع عاصفة عنيفة من كوفيد-19 فرنسا تحت الحصار مجددا وربما اسوء  https://t.co/m3LmbSAo0A  طبعا لن تسمعوا عن هذا لانهم معدومي العلم  #معركة_الوعي\n",
            " \n",
            "في الوقت الذي يدعو فيه معدومي العلم لمقاطعة \"البضائع\" الفرنسية تشتغل فرنسا بفيروس اشد فتكا من كوفيد-19 ينتشر هو \"كراهية الاسلام\" طبعا معدومي العلم لدينا من المعممين وغير المعممين لا علاقة لهم من قريب او بعيد بنصرة اخوتنا المسلمين في فرنسا  #معركة_الوعي\n",
            " \n",
            "في عالم الطب إن إستطعت أن أضعك عَلى الحبوب، سوف أراك كل ثلاثة أشهر لمدى حياتك. هَكذا نَجنِي الأموَال بِالطِّب.! لَكِن إن وَضَعتُك علَى حِميَة نَبَاتيِّة وَأَخَذتَ تَتَحسّن، مُحتمل أن لَا أَراكَ مَرَّةً أُخرَى. #معركة_الوعي #شبكة_5g  #كورونا  https://t.co/TbgqhT7sOV\n",
            " \n",
            " https://t.co/Iur5pVpb02  رابط لقاء الطبيب الإيطالي وتصريحاته التي كشف فيها الكثير من الخداع الحاصل في العالم بخصوص كورونا، في المقال أيضا يُصرّح بأنّ الفايروس أصبح ضعيفاً جدّاً وأن الأرقام التي تُنشر كإحصائيات لإصابات ووفيّات حول العالم إحصائيات كاذبة. #معركة_الوعي #شبكة_5g\n",
            " \n",
            "#فيروس_كورونا (Covid-19) #الحرب_البيولوجية #معركة_الوعي #شبكة_5g  https://t.co/TZUqtg8A2t\n",
            " \n",
            "\"إن التخويف من فايروس كورونا هو عمل دولة عميقة وسيسجل على انه أكبر عملية نصب مرت بالتاريخ للتلاعب بالإقتصادات وقمع المعارضات وتوجيه الطب الجبري\"  -د. شيفا، دكتوراه MIT في علم هندسة الأحياء والجهاز المناعي #شبكة_5g  #معركة_الوعي #كورونا  https://t.co/JSb0Jl3Eoc\n",
            " \n",
            "في ألمانيا، أكثر من 500 طبيب: كوفيد-19 عملية إحتيال وجريمة عالمية.  في أسبانيا، 600 طبيب: كوفيد-19 وباء لا حقيقة له وعملية إجرامية.  في أمريكا: 27،000 طبيب: كوفيد-19 عملية إجرامية. #شبكة_5g #معركة_الوعي #كورونا  https://t.co/L150ogKSjj\n",
            " \n",
            "الدكتور جيمس نونشواندر تطعيمات الأطفال #شبكة_5g  #معركة_الوعي #كورونا  https://t.co/0oPF1N9cr6\n",
            " \n",
            "في ألمانيا، أكثر من 500 طبيب: كوفيد-19 عملية إحتيال وجريمة عالمية.  في أسبانيا، 600 طبيب: كوفيد-19 وباء لا حقيقة له وعملية إجرامية.  في أمريكا: 27،000 طبيب: كوفيد-19 عملية إجرامية. #شبكة_5g #معركة_الوعي #كورونا  https://t.co/L150ogKSjj\n",
            " \n",
            "@aawsat_News @MahaAboeid رئيس الوزراء اوقف العملية لعدم ثبوتها علميا  https://t.co/StdMLJDiVe  في النهاية هذه الحيوانات يتم (قتلها) من اجل فروها وباسلوب وحشي وهمجي لكن ايا من الاعلام لم يناقش هذه النقطة وركز على نشر خرافات كوفيد-19  #معركة_الوعي\n",
            " \n"
          ],
          "name": "stdout"
        }
      ]
    },
    {
      "cell_type": "markdown",
      "metadata": {
        "id": "xO5KqohoUbso"
      },
      "source": [
        "\n",
        "#فيروس_كورونا (Covid-19) #الحرب_البيولوجية #معركة_الوعي #شبكة_5g  https://t.co/TZUqtg8A2t"
      ]
    },
    {
      "cell_type": "markdown",
      "metadata": {
        "id": "pL9vj-brVTqD"
      },
      "source": [
        "\n",
        " https://t.co/Iur5pVpb02  رابط لقاء الطبيب الإيطالي وتصريحاته التي كشف فيها الكثير من الخداع الحاصل في العالم بخصوص كورونا، في المقال أيضا يُصرّح بأنّ الفايروس أصبح ضعيفاً جدّاً وأن الأرقام التي تُنشر كإحصائيات لإصابات ووفيّات حول العالم إحصائيات كاذبة. #معركة_الوعي #شبكة_5\n"
      ]
    },
    {
      "cell_type": "markdown",
      "metadata": {
        "id": "_4dH-BRNVde9"
      },
      "source": [
        "\n",
        "في عالم الطب إن إستطعت أن أضعك عَلى الحبوب، سوف أراك كل ثلاثة أشهر لمدى حياتك. هَكذا نَجنِي الأموَال بِالطِّب.! لَكِن إن وَضَعتُك علَى حِميَة نَبَاتيِّة وَأَخَذتَ تَتَحسّن، مُحتمل أن لَا أَراكَ مَرَّةً أُخرَى. #معركة_الوعي #شبكة_5g  #كورونا  https://t.co/TbgqhT7sOV"
      ]
    },
    {
      "cell_type": "code",
      "metadata": {
        "colab": {
          "base_uri": "https://localhost:8080/"
        },
        "id": "XCILErC9VQMe",
        "outputId": "a9b23b53-8e07-4a0c-c06e-bcbc20730472"
      },
      "source": [
        "retrieve_tweets('الحرب', 10)"
      ],
      "execution_count": 103,
      "outputs": [
        {
          "output_type": "stream",
          "text": [
            "المشهد من ووهان، حيث كسبت الصين الحرب على “كوفيد 19”: فريديريك شيفر – (وورلد كرنش) 26/9…  https://t.co/d0sPxBfloB\n",
            " \n",
            "@NidaaMajali هذه من طرق اقتناص الفرص، و التشبيك بين الفاسدين  و رأس المال القذر. لا بارك الله بهم جميعاً لا فرق ببنهم و بين اغنياء الحرب #كورونا_الاردن  #كوفيد_19\n",
            " \n",
            "الوهم ينتصر والشر يسيطر:  ترامب ليس مصاب وليس في الحجر وانما في الحجز  قد يعزلوه او يقتلوه بإسم الوهم او يحاكموه ويسجنوه بتهمة التقصير في الحرب ضد الوهم\"كوفيد\"\n",
            " \n",
            "ترامب ليس مصاب وليس في الحجر وانما في الحجز  قد يعزلوه او يقتلوه بإسم الوهم او يحاكموه ويسجنوه بتهمة التقصير في الحرب ضد الوهم\"كوفيد\"\n",
            " \n",
            "كيف أدت الحرب ضد فيروس #كوفيد_19  إلى خلق دور جديد للمدراء التنفيذيين في الإدارات العليا  #DCBusinessConnect #UAE #القادة_المتجددون #القيادة   https://t.co/ZjAVLmdMCu\n",
            " \n",
            "البحرين- تقرير: الدولة واجهت أزمة كورونا بسرعة وقوة وحسم: (MENAFN - Akhbar Al Khaleej) إعداد: أحمد عبدالحميد شكلت جائحة فيروس كورونا المستجد \"كوفيد-19 أكبر تحد واجهته الإنسانية منذ الحرب العالمية ال...  https://t.co/2G5ZIaGUpG  https://t.co/YlOC0lhw36\n",
            " \n",
            "@NameerNNN و سوف يكون الطلب على اللقاح الأمريكي ضد كوفيد ١٩ هو الأعلى مقارنة بالأَوروبي و الصيني خاصة في الدول الحليفة لأمريكا منذ مبطي ، و الحرب القادمة تسويقية 🤚🚫\n",
            " \n",
            "@aziz_bin_Razn #الصين  تهدف الى تبؤ صدارة العالم اقتصاديًا بحلول عام(٢٠٤٩) تزامناً مع احتفالها بالذكرى المئوية لتاسيسها. اعتقد انها بدأت تعيد النظر بذلك وتنتهج استراتيجيات آخرى خاصة بعد الحرب التجارية مع #امريكا والتوتر في منطقة اسيا والباسفيك، وجائحة #كوفيد_19 .\n",
            " \n",
            "كوريا الجنوبية تؤكد سعيها باستمرار إلى التعاون مع المجتمع الدولي من أجل إعلان نهاية الحرب في شبه الجزيرة الكورية، والتعاون في مجالي الصحة العامة والحجر الصحي لمكافحة /كوفيد-19/، وتنفيذ اقتراح تحويل المنطقة منزوعة السلاح إلى منطقة سلام دولية. #قنا\n",
            " \n",
            "@Sleepyyyunicorn على الهامش، بيسوى ندرس اقتصاد العدو، اعتماده عالمساعدات المالية الأميركية و اذا فعلاً بتأثر ع ميزان المدفوعات عنده أو لا. و ليش كتير تأثروا بأزمة كوفيد؟ للمقارنة، الحرب السورية عزلت لبنان عن العمق العربي و التعن سلافنا. كيف كيان محاصر براً كل الوقت قادر يستمر؟و ليش اللهث للتطبيع؟\n",
            " \n"
          ],
          "name": "stdout"
        }
      ]
    },
    {
      "cell_type": "markdown",
      "metadata": {
        "id": "zwE0QFvDeHXN"
      },
      "source": [
        "📝#التاريخ الذي لم يعد من #عمره_الكثير،أنه في2020 أوقفت #الصين #العالم ع #رجل،ونجحت تجربتها #البيولوجية في أسره لأشهر بعد أن أصيب بالهلع من عدو #غير_مرئي هو عبارة عن #فيروس سمى آخر عناصره #كوفيد_19 #covid19 #كورونا سبق أن تم توليده مرتين ع #مناطق بعينها قبل أن يغزوا #الكرةالأرضية\n"
      ]
    },
    {
      "cell_type": "markdown",
      "metadata": {
        "id": "BlGsaq_NemYV"
      },
      "source": [
        "باح_الخير #قابوس_في_قلوبنا #باحثون_عن_عمل_يستغيثون253 #عُمان  ✍️ مدير عام منظمة الصحة يتحدث عن اللقاح رقم ٩٩٩ وجميعها لم ترى النور ! والمثل العماني يقول (رابع الكذاب لين رز الباب)، ولكن ما أقوله أن #كوفيد_19 حرب بيولوجية إفتعلتها عصابة دولية بالتنسيق مع منظمة الصحة."
      ]
    },
    {
      "cell_type": "code",
      "metadata": {
        "colab": {
          "base_uri": "https://localhost:8080/"
        },
        "id": "wIKm9qzSdXld",
        "outputId": "fa421ae1-d16e-45f4-9137-860bd7d9b849"
      },
      "source": [
        "retrieve_tweets('بيولوجية', 25)"
      ],
      "execution_count": 104,
      "outputs": [
        {
          "output_type": "stream",
          "text": [
            "📝#التاريخ الذي لم يعد من #عمره_الكثير،أنه في2020 أوقفت #الصين #العالم ع #رجل،ونجحت تجربتها #البيولوجية في أسره لأشهر بعد أن أصيب بالهلع من عدو #غير_مرئي هو عبارة عن #فيروس سمى آخر عناصره #كوفيد_19 #covid19 #كورونا سبق أن تم توليده مرتين ع #مناطق بعينها قبل أن يغزوا #الكرةالأرضية\n",
            " \n",
            "سيتحول اسم كوفيد 19 من( الفيروس الصيني) كما يسميه ترامب  إلي (الفيروس الترامبي) لك نصيب يا ترامب يخلد اسمك في التاريخ من باب كورونا وليس من باب الرئاسة وإذا كانت الصين هي صانعة الفيروس كما يدعي ترامب ومات به فسيكون أول رئيس يموت في حرب بيولوجية وتصبح الصين قادمة\n",
            " \n",
            "#صباح_الخير #قابوس_في_قلوبنا #باحثون_عن_عمل_يستغيثون253 #عُمان  ✍️ مدير عام منظمة الصحة يتحدث عن اللقاح رقم ٩٩٩ وجميعها لم ترى النور ! والمثل العماني يقول (رابع الكذاب لين رز الباب)، ولكن ما أقوله أن #كوفيد_19 حرب بيولوجية إفتعلتها عصابة دولية بالتنسيق مع منظمة الصحة.  https://t.co/vhjqoybddW\n",
            " \n",
            "هل كورونا (كوفيد) سلاح حرب بيولوجية؟  🦠| أ. محمد المحروس   #صحة || @m_almahrous    https://t.co/gaHDUvrYXc\n",
            " \n",
            "@OmanVSCovid19 الحرب البيولوجية تنحو في اتجاهين : أولهما  قتل الناس، وثانيهما اضعاف الاقتصاد، فان كنتم لا تملكون سلاح المواجهة في اتجاه كوفيد 19، فلابد أن تخططوا لامتلاك القوة الاقتصادية في مواجهة  هذه الحرب.\n",
            " \n",
            "شهدت السنوات العشرين الماضية ارتفاعا هائلا في الكوارث المرتبطة بالمناخ!!  قبيل الاحتفال باليوم الدولي للحد من الكوارث، يدعو مكتب @UNDRR إلى الاستعداد بشكل أفضل للكوارث، من الزلازل والتسونامي إلى التهديدات البيولوجية مثل #كوفيد_19    https://t.co/lPesqLwE6D  https://t.co/eMGLhBaSav\n",
            " \n",
            "بلومبيرج: وافقت السلطات الصحية الروسية على لقاح كوفيد-19 الذي ابتكره مختبر سابق لأبحاث الأسلحة البيولوجية للاستخدام العام وهي المرة الثانية التي يتخطى فيها الكرملين البروتوكول العلمي المقبول بينما يحاول مكافحة الوباء.  https://t.co/2kFEFcVaeQ\n",
            " \n",
            "بحمد الله تم تسليم نتائج عينات المعايير البيولوجية المستخدمة في هذا التعاون للجهات الدولية لإعتماد هذه المعايير البيولوجية في تقييم لقاحات كوفيد-١٩.  فُحصت هذه المعايير باستخدام ٣ تقنيات مخبرية تم تطويرها في وحدة اللقاحات بكيمارك ونقوم باستخدامها في الدراسات المناعية.\n",
            " \n",
            "12 لإعاقة العلاج الطبي  \"كوفيد -19\" هي حرب بيولوجية وكهرومغناطيسية مدعومة بعملية \"دخان ومرايا\" واسعة النطاق ، والتي تثير الارتباك بين صفوف العاملين في المجال الطبي والمستشفيات  يمكن أن يكون \"Covid-19\" التحضير لعملية مشتركة على نطاق أوسع بكثير مصحوبة بغطاء دخان لإخفاء الاختبارات\n",
            " \n",
            "♒ كوفيد -19\" هي حرب بيولوجية وكهرومغناطيسية مدعومة بعملية \"دخان ومرايا\" واسعة النطاق ، والتي تثير الارتباك بين صفوف العاملين في المجال الطبي والمستشفيات\n",
            " \n",
            "كجزء من دعم واسع النطاق للقدرات المختبرية الوطنية لإدارة اختبارات #كوفيد_19، وفرت منظمة الصحة العالمية العاملين الصحيين المهرة والمعدات والإمدادات الصحية، وساعدت على تزويد المركز الوطني لمختبرات الصحة العامة المركزية في #الحديدة بوحدة الجزيئية والبيولوجية (PCR) مجهزة بالكامل.  https://t.co/5mPbyQL2ud\n",
            " \n",
            "هل ينقلب #ترامب على #أمريكا ؟؟  #الحرس_الوطنى #كوفيد_19#كورونا #الحرب_البيولوجية #الديموقراطية  https://t.co/VpecXVchgv\n",
            " \n",
            "@MaritaMarie4 أعتقد أنك لن تجدي موضوعا حساسا ومهما كالأمن السيبراني في إقتصاد المعرفة للقوى المهيمنة(الو.م.ا)و القوى الصاعدة (الصين). شركة هواوي نموذجا. أو تتخذين  من موضوع الساعة وهو الحرب البيولوجية(كوفيد_19 ) نموذجا. كل التوفيق لك\n",
            " \n",
            "بقاء الرأس مالية على هرم الإقتصاد العالمي هو المسبب الأول لبقاء كوفيد 19 أطول فترة ممكنة وفي حال إنهيار الرأس مالية وتدهور الإقتصاد الأمريكي سنشهد حرب #بيولوجية قذره في السنوات الثلاث المقبلة على أقل تقدير بين الأطراف المعنية بذلك وهما الولايات المتحدة الأمريكية وجمهورية الصين\n",
            " \n",
            "اُختيرت وحدة اللقاحات في مركز الملك عبدالله العالمي للأبحاث الطبية \"كيمارك\"، ضمن 10 جهات عالمية لإجراء اختبارات تهدف لتوحيد معايير بيولوجية لتقييم اللقاحات المختلفة ضد #كورونا \"كوفيد - 19\" وجزء من تحالف دولي من قبل منظمات الـ WHO و CEPI و NIBSC. #السعودية  https://t.co/xo4eiFE7Rt\n",
            " \n",
            "للابد متاكده انها حرب بيولوجية! ولا وش معنى بالصين ماانتشر الا بمدينه وحده وبعدين شبه وقف عندهم ؟ الشي الثاني ترامب مايهرول عبث وتصريحاته تأكد هالشي #فيروس_كورونا\n",
            " \n",
            "#فيروس_كورونا (Covid-19) #الحرب_البيولوجية #معركة_الوعي #شبكة_5g  https://t.co/TZUqtg8A2t\n",
            " \n",
            "بدء اختبار لقاح موحد ضد الإنفلونزا و فيروس كورونا  بدأ مركز \"فيكتور\" الروسي للفيروسات والتكنولوجيات البيولوجية اختبار لقاح موحد ضد \"كوفيد – 19\" والإنفلونزا...إقرأ التفاصيل على الرابط التالي:  https://t.co/ZcYVC283jM\n",
            " \n",
            "الاردن- بدء اختبار لقاح موحد ضد الإنفلونزا وكورونا: (MENAFN - Khaberni) خبرني - بدأ مركز \"فيكتور\" الروسي للفيروسات والتكنولوجيات البيولوجية اختبار لقاح موحد ضد \"كوفيد 19\" والإنفلونزا. أفادت ب...  https://t.co/u3iZHda8Zg  https://t.co/tLiMgfdi0s\n",
            " \n",
            "الاردن- بدء اختبار لقاح موحد ضد الإنفلونزا وكورونا: (MENAFN - Khaberni) خبرني - بدأ مركز \"فيكتور\" الروسي للفيروسات والتكنولوجيات البيولوجية اختبار لقاح موحد ضد \"كوفيد 19\" والإنفلونزا. أفادت ب...  https://t.co/u3iZHda8Zg  https://t.co/tLiMgfdi0s\n",
            " \n",
            "بدء اختبار لقاح موحد ضد الإنفلونزا و فيروس كورونا  بدأ مركز \"فيكتور\" الروسي للفيروسات والتكنولوجيات البيولوجية اختبار لقاح موحد ضد \"كوفيد – 19\" والإنفلونزا...إقرأ التفاصيل على الرابط التالي:  https://t.co/ZcYVC283jM\n",
            " \n",
            "@Hassan_alsai الخبر في إطار تحفيز الأنظمة الصحية على التدريب والتأهب والاستعداد لمواجهة الأوبئة بشكل عام. وربما يكون #كوفيد_19 مجرد اختبار لهذه الأنظمة، يبدو أن ما نُشر عن حروب بيولوجية واقع لا مفرّ منه\n",
            " \n",
            "@Hassan_alsai الخبر في إطار تحفيز الأنظمة الصحية على التدريب والتأهب والاستعداد لمواجهة الأوبئة بشكل عام. وربما يكون #كوفيد_19 مجرد اختبار لهذه الأنظمة، يبدو أن ما نُشر عن حروب بيولوجية واقع لا مفرّ منه\n",
            " \n",
            "دعوة لحضور ندوة يوم السبت 14 الشهر حول علم فوق الجينات وصحة المجتمع وعن علاقة فوق الجينات بالأمراض بما فيها كوفيد ١٩ (COVID-19) وكيف ممكن أن يكون هناك تقاطع بين عوامل فسيولوجية بيولوجية بىئية لها دور في تطور الأمراض وحدتها بما فيها مرض كوفيد ١٩. للتسجيل:  https://t.co/97cX0v53GK  https://t.co/DndMTN3d8B\n",
            " \n",
            "دعوة لحضور ندوة يوم السبت 14 الشهر حول علم فوق الجينات وصحة المجتمع وعن علاقة فوق الجينات بالأمراض بما فيها كوفيد ١٩ (COVID-19) وكيف ممكن أن يكون هناك تقاطع بين عوامل فسيولوجية بيولوجية بىئية لها دور في تطور الأمراض وحدتها بما فيها مرض كوفيد ١٩. للتسجيل:  https://t.co/97cX0v53GK  https://t.co/DndMTN3d8B\n",
            " \n"
          ],
          "name": "stdout"
        }
      ]
    },
    {
      "cell_type": "markdown",
      "metadata": {
        "id": "RIIEACZdhC70"
      },
      "source": [
        "إعاقة العلاج الطبي  \"كوفيد -19\" هي حرب بيولوجية وكهرومغناطيسية مدعومة بعملية \"دخان ومرايا\" واسعة النطاق ، والتي تثير الارتباك بين صفوف العاملين في المجال الطبي والمستشفيات  يمكن أن يكون \"Covid-19\" التحضير لعملية مشتركة على نطاق أوسع بكثير مصحوبة بغطاء دخان لإخفاء الاختبارات"
      ]
    },
    {
      "cell_type": "markdown",
      "metadata": {
        "id": "njMmDKoWfBHb"
      },
      "source": [
        "لحرب البيولوجية تنحو في اتجاهين : أولهما  قتل الناس، وثانيهما اضعاف الاقتصاد، فان كنتم لا تملكون سلاح المواجهة في اتجاه كوفيد 19، فلابد أن تخططوا لامتلاك القوة الاقتصادية في مواجهة  هذه الحرب."
      ]
    },
    {
      "cell_type": "code",
      "metadata": {
        "colab": {
          "base_uri": "https://localhost:8080/"
        },
        "id": "sETENG9XUAmE",
        "outputId": "49be5c16-7643-43c4-fd4c-2585902cbe4b"
      },
      "source": [
        "retrieve_tweets('5g ', 10)"
      ],
      "execution_count": 99,
      "outputs": [
        {
          "output_type": "stream",
          "text": [
            "للاشتراك بالانترنت ألياف البصرية فايبر 4g5g في أي منطقة بالمملكة ارجو الاتصال 0582116349 #الهلال #كوفيد_19 #عاجل_السعودية #كورونا_السعوديه #صباح_الخميس #الخميس_الونيس #صباح_السعودية #ابدأ_صح #السودة #ايفون_12 #مقالات_الرياض #الاسهم_السعودية #تاسي #السعودية #بيئة_العمل #سناب_شات  https://t.co/3PqKrbhI63\n",
            " \n",
            "ألمانيا تعلن العودة إلى الإغلاق لمواجهة موجة كورونا الثانية  https://t.co/idKVgfbk5g #السوسنة #المانيا #كورونا\n",
            " \n",
            "#الجزائر تمدد #حظر_التجوال في 20 ولاية بسبب #كورونا  https://t.co/8dTwDDGl5g  https://t.co/OEYsx3rZh9\n",
            " \n",
            "@omar25g @architect6657 فيست تريكو يقي من البرد ويريحنا من كورونا\n",
            " \n",
            "في عالم الطب إن إستطعت أن أضعك عَلى الحبوب، سوف أراك كل ثلاثة أشهر لمدى حياتك. هَكذا نَجنِي الأموَال بِالطِّب.! لَكِن إن وَضَعتُك علَى حِميَة نَبَاتيِّة وَأَخَذتَ تَتَحسّن، مُحتمل أن لَا أَراكَ مَرَّةً أُخرَى. #معركة_الوعي #شبكة_5g  #كورونا  https://t.co/TbgqhT7sOV\n",
            " \n",
            "#فيروس_كورونا (Covid-19) #الحرب_البيولوجية #معركة_الوعي #شبكة_5g  https://t.co/TZUqtg8A2t\n",
            " \n",
            "@salrashed في ريف ايجيبت مفيش 5g مفيش حد اتصاب ب كورونا\n",
            " \n",
            "\"إن التخويف من فايروس كورونا هو عمل دولة عميقة وسيسجل على انه أكبر عملية نصب مرت بالتاريخ للتلاعب بالإقتصادات وقمع المعارضات وتوجيه الطب الجبري\"  -د. شيفا، دكتوراه MIT في علم هندسة الأحياء والجهاز المناعي #شبكة_5g  #معركة_الوعي #كورونا  https://t.co/JSb0Jl3Eoc\n",
            " \n",
            "في ألمانيا، أكثر من 500 طبيب: كوفيد-19 عملية إحتيال وجريمة عالمية.  في أسبانيا، 600 طبيب: كوفيد-19 وباء لا حقيقة له وعملية إجرامية.  في أمريكا: 27،000 طبيب: كوفيد-19 عملية إجرامية. #شبكة_5g #معركة_الوعي #كورونا  https://t.co/L150ogKSjj\n",
            " \n",
            "الدكتور جيمس نونشواندر تطعيمات الأطفال #شبكة_5g  #معركة_الوعي #كورونا  https://t.co/0oPF1N9cr6\n",
            " \n"
          ],
          "name": "stdout"
        }
      ]
    },
    {
      "cell_type": "code",
      "metadata": {
        "colab": {
          "base_uri": "https://localhost:8080/"
        },
        "id": "HpzWP2pLk4mC",
        "outputId": "d1e61627-663f-493c-c022-13ad304e6710"
      },
      "source": [
        "retrieve_tweets('بالأعشاب', 10)"
      ],
      "execution_count": 112,
      "outputs": [
        {
          "output_type": "stream",
          "text": [
            "لقاحات وضعها مشكوك فيه بسبب طريقة التعامل الإعلامي ولأنه تم إعفاء صناعها من المحاسبة،ولوجود تخوف من مخطط ما خاصة مع تهميش علاجات بالأعشاب الطبيعية أما المسؤولون الذين تلقوا إبر،فلاحدث لأنه يمكن أن تكون مجرد أملاح للخداع الإعلامي #كورونا #كوفيد_19 #المال_أولا\n",
            " \n"
          ],
          "name": "stdout"
        }
      ]
    },
    {
      "cell_type": "code",
      "metadata": {
        "colab": {
          "base_uri": "https://localhost:8080/"
        },
        "id": "0D2HX_nPhjWm",
        "outputId": "8b234126-8fa2-4374-b90c-b6ab8960891d"
      },
      "source": [
        "retrieve_tweets('بيل جيتس', 25)"
      ],
      "execution_count": 105,
      "outputs": [
        {
          "output_type": "stream",
          "text": [
            "🔴 “بيل جيتس” يتوقع موعد توافر لقاح “كوفيد -19”  https://t.co/RdUUw5TTKs\n",
            " \n",
            "بيل جيتس الحياة قد تعود الي طبيعتها في 2021 اذا نجح لقاح كوفيد  https://t.co/VgDlZWkgPf\n",
            " \n",
            "\"ملايين آخرين سيموتون قبل أن تنتهي جائحة كوفيد-19\" هذا ما قاله بيل جيتس. وأضاف: \"إن معظم هذه الوفيات لن يكون سببها المرض نفسه ولكن بسبب الضغط على أنظمة الرعاية الصحية\" كما توقع أن الوباء لن ينتهي قبل نهاية عام 2021 وأن اللقاح سيُنتج بشكل ضخم لتحصين أكبر نسبة ممكنة من سكان العالم.  https://t.co/4OixKKL6OE\n",
            " \n",
            "2.ولكن الملياردير الأمريكي بيل جيتس لم يعرض هذا العلاج الجديد على أمريكا رغم إصابة أكثر من 8 مليون أمريكي ألا ترون أن هناك علامات استفهام كبيرة بين فيروس كوفيد 19 ونصب جورجيا الذي ظهر فجأة وهو يحمل بين سطور كتاباته كلمات الشريرة تدعو الى هلاك الكثير من البشر.\n",
            " \n",
            "بيل جيتس: كوفيد-19 يشبه حربًا عالمية  https://t.co/oeXfyBRQLa #كوفيد\n",
            " \n",
            "مشروع بيل جيتس وروكفلر يرى النور اخيراً، المبررات المختلقه غير موجودة في الجواز الرقمي ( كوفيد سيف ) كما في نهاية التقرير لكن قوة المتبني للفكرة اقوى من كل نقاط الضعف في الفكرة والهدف فرض اللقاحات ومنع غير الملقحين من السفر.  @FatimaKefah @novaxorg  https://t.co/jH9tziuvNt\n",
            " \n",
            "بيل جيتس💀: فيروس كورونا يعني أننا بحاجة إلى \"شهادات رقمية\" لإثبات من حصل على اللقاح  https://t.co/5XRmBGIwJi\n",
            " \n",
            "@202sll هذي الأزمات الاقتصاديه اللي نمر بها هذا سياسه خبراء اقتصاديين وجائحه كورونا قد تكلم فيها اوباما وتكلم فيها بيل جيتس وقد اسسو لهذي الجائحه شركات خاصه بالكمامات وهذا نوع من التلاعب باقتصاديات العالم بترهيب العالم بالجائحه وممكن تطيحين دول بسبب الوضع هذا\n",
            " \n",
            "سيناريو :- فوتشي وبيل جيتس اطلقوا كوفيد 19 من الصين ثم تتكفل الدول العميقة حول العالم في نشره ف الهواء لضمان عدم موته او تحوره لانفلونزا عادية لاجبار الشعب الامريكي ع التصويت من بيوتهم لتسرق هذا التصويت لدعم فوز الديمقراطي بايدن وضمان تطعيم ID 2020\n",
            " \n",
            "سيناريو :- فوتشي وبيل جيتس اطلقوا كوفيد 19 من الصين ثم تتكفل الدول العميقة حول العالم في نشره ف الهواء لضمان عدم موته او تحوره لانفلونزا عادية لاجبار الشعب الامريكي ع التصويت من بيوتهم لتسرق هذا التصويت لدعم فوز الديمقراطي بايدن وضمان تطعيم ID 2020\n",
            " \n",
            "جماعات مناهضة التطعيم #antivaxxers تنشط الآن للترويج لنظرياتها حول خطورة #لقاح_كورونا وأن هناك خطة خفية للسيطرة على البشر. وبعضهم ذهب بعيدًا للحديث عن “خطة بيل جيتس السرية لزرع رقاقات داخل البشر”  ماذا يعملنا التاريخ قبل لقاح #كوفيد_19؟ .. طالعوا المقال  https://t.co/W7Xzpffv6U\n",
            " \n",
            "جماعات مناهضة التطعيم #antivaxxers تنشط الآن للترويج لنظرياتها حول خطورة #لقاح_كورونا وأن هناك خطة خفية للسيطرة على البشر. وبعضهم ذهب بعيدًا للحديث عن “خطة بيل جيتس السرية لزرع رقاقات داخل البشر”  ماذا يعملنا التاريخ قبل لقاح #كوفيد_19؟ .. طالعوا المقال  https://t.co/W7Xzpffv6U\n",
            " \n",
            "@alhunayan هل هي الانفلونزا وغير اسمها ال كورونا مع اعتماد فحص pcr لتضخيم الاعداد  وبروتكول علاج خاطئ لزيادة ارقام المتوفين  ولما لم يكفوا  عدلوا اسباب الوفيات الى كوفيد وكل هذا لخلق جو مشحون ورعب من كورونا  لتسويق وبيع اللقاحات  التي تنبأ بها بيل جيتس قبل سنه  https://t.co/1Zd405TcZM\n",
            " \n",
            "@alhunayan هل هي الانفلونزا وغير اسمها ال كورونا مع اعتماد فحص pcr لتضخيم الاعداد  وبروتكول علاج خاطئ لزيادة ارقام المتوفين  ولما لم يكفوا  عدلوا اسباب الوفيات الى كوفيد وكل هذا لخلق جو مشحون ورعب من كورونا  لتسويق وبيع اللقاحات  التي تنبأ بها بيل جيتس قبل سنه  https://t.co/1Zd405TcZM\n",
            " \n",
            "توقع بيل جيتس الشريك المؤسس لشركة #مايكروسوفت في مقابلة مع أندرو روس سوركين خلال مؤتمر ديدبوك انخفاضًا بنسبة تزيد عن 50% في رحلات الأعمال بعد تفشي فيروس #كورونا المستجد (كوفيد-19)، وتوقع أيضًا أن يقضي الموظفين 30% من ساعات عملهم في المنزل.   https://t.co/dua5zgVcxQ\n",
            " \n",
            "توقع بيل جيتس الشريك المؤسس لشركة #مايكروسوفت في مقابلة مع أندرو روس سوركين خلال مؤتمر ديدبوك انخفاضًا بنسبة تزيد عن 50% في رحلات الأعمال بعد تفشي فيروس #كورونا المستجد (كوفيد-19)، وتوقع أيضًا أن يقضي الموظفين 30% من ساعات عملهم في المنزل.   https://t.co/dua5zgVcxQ\n",
            " \n",
            "@aaatwaahmed اول من نادى بالأغلاق و الحظر كان فرد واحد وهو بيل جيتس احد ممولي منظمة الصحة العالمية .... الدول و الحكومات نفذوا استراتيجية التباعد الاجتماعي و الكمامات في المدارس و الشوارع بناء على طلب منظمة واحدة ومستغرب ازاي اجندة كوفيد ٢١ هاتتنفذ ؟؟؟\n",
            " \n",
            "@aaatwaahmed اول من نادى بالأغلاق و الحظر كان فرد واحد وهو بيل جيتس احد ممولي منظمة الصحة العالمية .... الدول و الحكومات نفذوا استراتيجية التباعد الاجتماعي و الكمامات في المدارس و الشوارع بناء على طلب منظمة واحدة ومستغرب ازاي اجندة كوفيد ٢١ هاتتنفذ ؟؟؟\n",
            " \n",
            "يقول بيل جيتس إن أكثر من 50٪ من رحلات العمل ستختفي في عالم ما بعد فيروس #كورونا #كوفيد_19\n",
            " \n",
            "\"بيل جيتس\": كافة لقاحات \"كوفيد-19\" قد تثبت أنها فعالة وآمنة للغاية بحلول فبراير، وللتفاصيل  https://t.co/1j4tP6kTpB  #الجُمان\n",
            " \n",
            "يقول بيل جيتس إن أكثر من 50٪ من رحلات العمل ستختفي في عالم ما بعد فيروس #كورونا #كوفيد_19\n",
            " \n",
            "\"بيل جيتس\": كافة لقاحات \"كوفيد-19\" قد تثبت أنها فعالة وآمنة للغاية بحلول فبراير، وللتفاصيل  https://t.co/1j4tP6kTpB  #الجُمان\n",
            " \n",
            "لقاح الكورونا الله اعلم ماذا سيفعل في البشر. كثرة الوفيات في افريقيا و الهند بسبب لقاحات القذر بيل جيتس. اللهم رد كيدهم في نحورهم. #كورونا #كورونا_الاردن #الحظر_الشامل #الأردن\n",
            " \n",
            "@KPTAWCPT هاي الفلوس يا. احمد  بجيوب  بيل  جيتس  وروتشيلد وىوكغلر  وهم مجرمين ضد الإنسانية لأنهم هم من صنعة كورونا ب ووهان الصينية ونشروه  واوجدو علاجه هم نفسهم    اذن محاربة اخذ اللقاح   لأنه مسموم  هو العلاج لمحاربة بيل جيتس وجماعته\n",
            " \n",
            "#بوابة_الوفد| الحب يتحدى كورونا.. ابنة بيل جيتس في صورة مع نايل نصار: أنا محظوظة  https://t.co/AYIXZpUwhD  https://t.co/B4nnPVlUx6\n",
            " \n"
          ],
          "name": "stdout"
        }
      ]
    },
    {
      "cell_type": "markdown",
      "metadata": {
        "id": "0ivUQvV-kVoJ"
      },
      "source": [
        "@KPTAWCPT هاي الفلوس يا. احمد  بجيوب  بيل  جيتس  وروتشيلد وىوكغلر  وهم مجرمين ضد الإنسانية لأنهم هم من صنعة كورونا ب ووهان الصينية ونشروه  واوجدو علاجه هم نفسهم    اذن محاربة اخذ اللقاح   لأنه مسموم  هو العلاج لمحاربة بيل جيتس وجماعته\n"
      ]
    },
    {
      "cell_type": "markdown",
      "metadata": {
        "id": "GHPTFNc3kQUH"
      },
      "source": [
        "\n",
        "لقاح الكورونا الله اعلم ماذا سيفعل في البشر. كثرة الوفيات في افريقيا و الهند بسبب لقاحات القذر بيل جيتس. اللهم رد كيدهم في نحورهم. #كورونا #كورونا_الاردن #الحظر_الشامل #الأردن"
      ]
    },
    {
      "cell_type": "markdown",
      "metadata": {
        "id": "CIYQCgcbj9bT"
      },
      "source": [
        "@aaatwaahmed اول من نادى بالأغلاق و الحظر كان فرد واحد وهو بيل جيتس احد ممولي منظمة الصحة العالمية .... الدول و الحكومات نفذوا استراتيجية التباعد الاجتماعي و الكمامات في المدارس و الشوارع بناء على طلب منظمة واحدة ومستغرب ازاي اجندة كوفيد ٢١ هاتتنفذ"
      ]
    },
    {
      "cell_type": "markdown",
      "metadata": {
        "id": "m3iKjBw0jlsN"
      },
      "source": [
        "@alhunayan هل هي الانفلونزا وغير اسمها ال كورونا مع اعتماد فحص pcr لتضخيم الاعداد  وبروتكول علاج خاطئ لزيادة ارقام المتوفين  ولما لم يكفوا  عدلوا اسباب الوفيات الى كوفيد وكل هذا لخلق جو مشحون ورعب من كورونا  لتسويق وبيع اللقاحات  التي تنبأ بها بيل جيتس قبل سنه  https://t.co/1Zd405TcZM\n",
        " "
      ]
    },
    {
      "cell_type": "markdown",
      "metadata": {
        "id": "mSaLHu7zi2Rb"
      },
      "source": [
        "سيناريو :- فوتشي وبيل جيتس اطلقوا كوفيد 19 من الصين ثم تتكفل الدول العميقة حول العالم في نشره ف الهواء لضمان عدم موته او تحوره لانفلونزا عادية لاجبار الشعب الامريكي ع التصويت من بيوتهم لتسرق هذا التصويت لدعم فوز الديمقراطي بايدن وضمان تطعيم ID 2020\n"
      ]
    },
    {
      "cell_type": "markdown",
      "metadata": {
        "id": "ocyEASsBiPSf"
      },
      "source": [
        "مشروع بيل جيتس وروكفلر يرى النور اخيراً، المبررات المختلقه غير موجودة في الجواز الرقمي ( كوفيد سيف ) كما في نهاية التقرير لكن قوة المتبني للفكرة اقوى من كل نقاط الضعف في الفكرة والهدف فرض اللقاحات ومنع غير الملقحين من السفر.  @FatimaKefah @novaxorg  https://t.co/jH9tziuvNt\n",
        " "
      ]
    },
    {
      "cell_type": "markdown",
      "metadata": {
        "id": "wKmd7Iphh8Q3"
      },
      "source": [
        "2.ولكن الملياردير الأمريكي بيل جيتس لم يعرض هذا العلاج الجديد على أمريكا رغم إصابة أكثر من 8 مليون أمريكي ألا ترون أن هناك علامات استفهام كبيرة بين فيروس كوفيد 19 ونصب جورجيا الذي ظهر فجأة وهو يحمل بين سطور كتاباته كلمات الشريرة تدعو الى هلاك الكثير من البشر.\n",
        " "
      ]
    },
    {
      "cell_type": "code",
      "metadata": {
        "colab": {
          "base_uri": "https://localhost:8080/"
        },
        "id": "fQiZ3U-RY86x",
        "outputId": "e8e190c7-77b9-4490-c1dd-60e502690798"
      },
      "source": [
        "model.most_similar('منزلي', topn=8)"
      ],
      "execution_count": 63,
      "outputs": [
        {
          "output_type": "stream",
          "text": [
            "/usr/local/lib/python3.7/dist-packages/ipykernel_launcher.py:1: DeprecationWarning: Call to deprecated `most_similar` (Method will be removed in 4.0.0, use self.wv.most_similar() instead).\n",
            "  \"\"\"Entry point for launching an IPython kernel.\n"
          ],
          "name": "stderr"
        },
        {
          "output_type": "execute_result",
          "data": {
            "text/plain": [
              "[('تعقب', 0.6503981947898865),\n",
              " ('منزلى', 0.6480768322944641),\n",
              " ('عزل', 0.6475063562393188),\n",
              " ('حجر', 0.6448168754577637),\n",
              " ('مكوث', 0.600164532661438),\n",
              " ('يستثنى', 0.5912467241287231),\n",
              " ('منزل', 0.5874573588371277),\n",
              " ('طوعي', 0.5798035860061646)]"
            ]
          },
          "metadata": {
            "tags": []
          },
          "execution_count": 63
        }
      ]
    },
    {
      "cell_type": "code",
      "metadata": {
        "colab": {
          "base_uri": "https://localhost:8080/"
        },
        "id": "wEAC90aUjDQm",
        "outputId": "c8b8c79c-7e49-4a93-eb80-6ed4c56b81e2"
      },
      "source": [
        "retrieve_tweets('تطعيم', 10)"
      ],
      "execution_count": 106,
      "outputs": [
        {
          "output_type": "stream",
          "text": [
            "لماذا يعتبر أخذ #تطعيم_الإنفلونزا الموسمية في هذا العام أهم من الأعوام السابقة؟  - تخفيف الضغط على المستشفيات بسبب جائحة كوفيد-19 - حماية كبار السن وأصحاب الأمراض المزمنة حولك - تشابه الأعراض مع كوفيد-19 مما يعرضك لأخذ المسحة - لا أحد يضمن عدم احتياجه لدخول المستشفى بسبب الأعراض\n",
            " \n",
            "الحمدلله و الشكر لأول مرة ينزل العدد عن ٢٠٠ و الله يجعل الشر في قصور و يارب يارب يارب يارب يارب أرنا عجائب قدرتك في زوال وباء كورونا كوفيد ١٩ عاجلاً غير آجل و لا تجعلنا في حاجة لتطعيم هذا الوباء 🙌 و يا من تقول كن فيكون أجعله كأن لم يكون 🙌⬇️\n",
            " \n",
            "#كورونا مع قرب #موسم_الإنفلونزا واستمرارالمواجهةمع #كوفيد_19 والمخاوف من #الموجة_الثانية: ♦️نحتاج وعي أفرادالمجتمع. ♦️#الإنفلونزا يمكن منعه بالتطعيم بإذن الله ♦️دور #أطباء_الأسرة و #الطب_الوقائي مهم دائماً؛ ويزداد أهميةًهذه الأيام (هنا بعض توصيات CDC لهم)  https://t.co/c6iyYJw7QU\n",
            " \n",
            "«»الصحة» تعلن تطعيم العاملين في مطار الشارقة بالجرعة الأولى من لقاح «كوفيد-19  https://t.co/iJPMYGQCoT  https://t.co/QrzwVJ1zYp\n",
            " \n",
            "@ero90055 تطعيم ضد كوفيد ولا ايه 😂😂😂😂😊😊\n",
            " \n",
            "مؤسس مايكروسوفت بيل غايتس يكتب عن اللقاح المٌحتمَل لكورونا: التطعيم ضد فيروس كوفيد-19: حيث يلتقي الإستئثار بالمصلحة الذاتية لقراءة المقال أنقر على الرابط التالي:   https://t.co/ICUEpU6Asy via @asswak_alarab\n",
            " \n",
            "مؤسس مايكروسوفت بيل غايتس يكتب عن اللقاح المٌحتمَل لكورونا: التطعيم ضد فيروس كوفيد-19: حيث يلتقي الإستئثار بالمصلحة الذاتية لقراءة المقال أنقر على الرابط التالي:   https://t.co/HsbuOGJnNJ via @asswak_alarab\n",
            " \n",
            "@JordanianTulip فعلا مشكله كبيره اذا اصيب طالب او طالبه في مدرسه تكون مشكله علي الجميع مفروض التعليم عن بعد لحين الحصول علي تطعيم ل كوفيد ١٩\n",
            " \n",
            "٢٠ مخططة على أساس العدوى.  العدوى ليست ذات صلة لأن اختبار PCR هو احتيال علمي ولأن عدد الوفيات هو المهم فقط، ولن يقبل السكان المستيقظون الإغلاق الثاني (نشهد ذلك الآن في فرنسا وألمانيا وانجلترا وإيطاليا).  جمع الحمض النووي والتطعيم وما بعد الإنسانية  ومن خلال اختبار كوفيد\n",
            " \n",
            "مساء الخير اليوم هو اليوم الثالث من التطعيم اللي اخذته ل #كوفيد_19  الحمد لله كل شي ممتاز وانا مرتاحه جداً وثقتي في بلادي انها صاحبه الرياده دائماً اسال الله ان ينفع به الانسانيه جميعاً #بنت_زايد #الحمدلله_على_نعمة_الامارات  #الامارات  https://t.co/iVMTmcLcIS\n",
            " \n"
          ],
          "name": "stdout"
        }
      ]
    },
    {
      "cell_type": "code",
      "metadata": {
        "colab": {
          "base_uri": "https://localhost:8080/"
        },
        "id": "h4MTyCQsZNji",
        "outputId": "3b57dd9d-d4c7-414f-babb-80da696f6590"
      },
      "source": [
        "model.most_similar('مزاعم', topn=8)"
      ],
      "execution_count": 82,
      "outputs": [
        {
          "output_type": "stream",
          "text": [
            "/usr/local/lib/python3.7/dist-packages/ipykernel_launcher.py:1: DeprecationWarning: Call to deprecated `most_similar` (Method will be removed in 4.0.0, use self.wv.most_similar() instead).\n",
            "  \"\"\"Entry point for launching an IPython kernel.\n"
          ],
          "name": "stderr"
        },
        {
          "output_type": "execute_result",
          "data": {
            "text/plain": [
              "[('يفند', 0.7747776508331299),\n",
              " ('فوربس', 0.7051571607589722),\n",
              " ('#رويترز', 0.7018991708755493),\n",
              " ('براهين', 0.6954440474510193),\n",
              " ('متضارب', 0.6848250031471252),\n",
              " ('مسوق', 0.6827217936515808),\n",
              " ('أخفت', 0.6819915771484375),\n",
              " ('روج', 0.6816293597221375)]"
            ]
          },
          "metadata": {
            "tags": []
          },
          "execution_count": 82
        }
      ]
    },
    {
      "cell_type": "code",
      "metadata": {
        "colab": {
          "base_uri": "https://localhost:8080/"
        },
        "id": "UFXLglQZZrrL",
        "outputId": "d793fc23-9727-4351-a5c7-b7b3ad262aa0"
      },
      "source": [
        "model.most_similar('حجر', topn=8)"
      ],
      "execution_count": 67,
      "outputs": [
        {
          "output_type": "stream",
          "text": [
            "/usr/local/lib/python3.7/dist-packages/ipykernel_launcher.py:1: DeprecationWarning: Call to deprecated `most_similar` (Method will be removed in 4.0.0, use self.wv.most_similar() instead).\n",
            "  \"\"\"Entry point for launching an IPython kernel.\n"
          ],
          "name": "stderr"
        },
        {
          "output_type": "execute_result",
          "data": {
            "text/plain": [
              "[('نتوزع', 0.6761351227760315),\n",
              " ('منزلي', 0.6448168754577637),\n",
              " ('فندقي', 0.6197299957275391),\n",
              " ('جحر', 0.6159895658493042),\n",
              " ('بروتوكل', 0.6085975170135498),\n",
              " ('منزلى', 0.6066579222679138),\n",
              " ('نكملو', 0.6025376319885254),\n",
              " ('#قطر_تريند', 0.5966686606407166)]"
            ]
          },
          "metadata": {
            "tags": []
          },
          "execution_count": 67
        }
      ]
    },
    {
      "cell_type": "code",
      "metadata": {
        "colab": {
          "base_uri": "https://localhost:8080/"
        },
        "id": "pKqZ_BsPaUl0",
        "outputId": "97ebbcb8-ec7a-426d-be44-6ac93fef85e7"
      },
      "source": [
        "retrieve_tweets('بروتوكل', 10)"
      ],
      "execution_count": 68,
      "outputs": [
        {
          "output_type": "stream",
          "text": [
            "قدمت اليوم المديرة المساعده أ. مروة العجمية مشغلا بعنوان\" الإجراءات الصحيه لتشغيل المدارس في ظل جائحة فيروس كورونا كوفيد ١٩، تم بث المشغل بطريقة مباشرة، وغير مباشرة عبر تطبيق زوم، أعقب المشغل اعداد خطة إجرائية لتطبيق البروتوكل الصحي في المدرسة #فعاليات_تعليمية_شمال_الباطنة  https://t.co/b0FI2muaZ9\n",
            " \n",
            "@asmaHB5 @KathemAmin لو مش بحاجة لاكسجين ما كانو دخلوهم المستشفى ،حسب بروتوكلات \"كوفيد\" اللي بيدخل المستشفى هم اصحاب الاعراض المتوسطة والشديدة ،وعالاغلب هاي الناس بتكون تعاني من مشاكل بالتنفس . الفكرة انه الاهمال ممكن يكون سبب رئيسي في ازدياد الوفيات ،وهاد الحكي انحكى ما قبل في الصحافة عا فكرة\n",
            " \n",
            "@CouldYouSeeIt هؤلاء هم من يمثل المجتمع الطبي الذي يسعى للحفاظ على صحتك وتسلمه رقبتك بكل سلاسه ويرقص لاجل اسعادك بالرغم من حالات الوفيات والتكدس الشديد بالمستشفيات .. اعتقد هذا احد بروتوكلات العلاج من كوفيد ناين طين ! رائحة معقمات بعد الرقصة 😷\n",
            " \n",
            "#أبطال_الامن من شرطة #عنيزة تتابع تطبيق (البروتوكلات) الوقائية، لمواجهة جائحة #فيروس_كورونا وتطبيق مخالفة الذوق العام، سواء في الطرق الرئيسية أو المجمعات التجارية .. شكرًا لجهود فرسان أمننا للحفاظ على صحتنا .. @security_gov  https://t.co/LEXbiTaUl9\n",
            " \n",
            "@EiadAkk @RafaelNadal الوضع تغير تماما في جميع انحاء العالم كورونا اول كان في بدايته و الوضع كان صعب لاكن مع نجاح تنظيم بطولات التنس تبين ان الخطر قليل جداً جداً جداً وفق البروتوكلات المتبعه من المنظمين ..   دائما اخ اياد التطورات تغير القرارات و وجهات النظر .. 20 🏆\n",
            " \n",
            "يجب على وزارة الصحه والجهات المعنية زيادة الحملات التوعوية ضد انتشار مرض كورونا لانه يلاحظ فيه تساهل وعدم القيام بالاحترازات ضد انتشار المرض وعدم لبس الكمام او التقيد بالتعليمات والبروتوكلات الخاصه باالحد من من انتشاره وخاصه في الاسواق واماكن العمل والاجتماعات .\n",
            " \n",
            "ماذا فعلت يا #الحلافي ؟ عدم تشديدك على الاحترازات الصحية والبروتوكلات الموضوعة للوقاية من كوفيد 19 والضرب بها عرض الحائط دمر الفريق (المشروع)  فهاهم لاعبي واداريي #النصر يتساقطون واحداً تلو الآخر ب(كورونا)؟  التحقيق وتقصي الحقائق ومحاسبة المتسبب امر ضروري ونتمنى الشفاء للجميع\n",
            " \n",
            "جمهور الأهلي يعتقد أن كل الفرق على مسافة واحدة..!!  لذلك هو يطالب بتطبيق بروتوكل كورونا على احمد حجازي  هل نسيتم تأجيل ايقاف الثلاثي الاتحادي قبل مباراتهم مع الأهلي وبإذن من اتحاد القدم والتنسيق مع حمد الصنيع  ركزوا في دعمكم لفريقكم ولاتتأملوا فيهم خير💚\n",
            " \n",
            "🚨| أنهى \"فييتو\" الحجر الصحي حسب البروتوكل للقادمين من خارج السعودية (48 ساعة، وبإنتظار نتائج المسحة للتأكد من سلامته من فايروس كورونا، ليتمكن من المشاركة في تدريبات الفريق.  https://t.co/oSoPe0SIMw\n",
            " \n",
            "أنهى الأرجنتيني فييتو لاعب #الهلال الحجر الصحي حسب البروتوكل للقادمين من خارج #السعودية (48 ساعة، وبإنتظار نتائج المسحة للتأكد من سلامته من فايروس كورونا المستجد، ليتمكن من المشاركة في تدريبات الفريق .. زورو من المؤكد أنه لن يستطيع المشاركة في لقاء غدًا، على أن يتم تجهيزه للاتفاق  https://t.co/tsQoP8BtrE\n",
            " \n"
          ],
          "name": "stdout"
        }
      ]
    },
    {
      "cell_type": "code",
      "metadata": {
        "colab": {
          "base_uri": "https://localhost:8080/"
        },
        "id": "BhmDwp4qaeai",
        "outputId": "2d22452d-975d-43e7-e18f-0fb054c7d0cd"
      },
      "source": [
        "retrieve_tweets('عزلة', 10)"
      ],
      "execution_count": 69,
      "outputs": [
        {
          "output_type": "stream",
          "text": [
            "موجة ‘كوفيد-19’ الثانية قد تجبر العالم على العزلة الذاتية مرة أخرى  https://t.co/2rgfT42XfJ\n",
            " \n",
            "@AlArabiya_Seha هذه  #كوفيد19 المتطورة المستجدة لتشكيل فيروس يغير شكله للتمويه و المناعة لاتتعرف عليه، القاتل المتحول لشكل اخر يقتحم المناعة و يدمر الجسم و بذلك يصبح كوفيد_20 اللذي قضى علينا و انقرضت البشرية و لا يعلم مصيرها هناك من نجى و من في عزلة مع نفسه حتى يزول الخطر و النجاة أحياء خائفين.\n",
            " \n",
            "TNT sports |    ▶ فريق يوفنتوس في عزلة وقائية بسبب حالتي إصابة بفيروس كوفيد -19 في النادي  ▶ سيتم اختبار جميع اللاعبين  ▶ إذا كانت النتيجة سلبية ، سيسافر ديبالا للانضمام إلى المنتخب الأرجنتيني 🇦🇷  https://t.co/J29bsjEgiC\n",
            " \n",
            "جائحة #كوفيد_19 عطلت خدمات الصحة النفسية الضرورية في 93 في المائة من البلدان التي شملها مسح أجرته منظمة الصحة العالمية.  \"تؤدي الفجائع الناجمة عن فقدان الأحباب بسبب الموت، والعزلة، وفقدان الدخل، والخوف، إلى ظهور حالات صحية نفسية أو تفاقم الحالات القائمة\".   https://t.co/VMWqGFPO5y\n",
            " \n",
            "لزيادة توضيح الاختلاف 💡، ولنبين معنى مصطلح العزلة الاجتماعية بشكل اوضح 📌📚✨  #كوفيد_19  https://t.co/Iom5Wki5Tj\n",
            " \n",
            "استجابة ترامب لفيروس كورونا أصبحت تشكل تهديدًا للأمن القومي في الولايات المتحدة بطرق لا حصر لها. الآن هيئة الأركان المشتركة في عزلة بعد فحص إيجابي لـ كوفيد-19 لأميرال خفر السواحل مارك ميلي كما صرح البنتاغون.  https://t.co/ak4NMahJ8V\n",
            " \n",
            "تتسبب جائحة #كوفيد_19 في زيادة الطلب على خدمات الصحة النفسية، فالفقد والعزلة وخسارة مصدر الدخل والشعور بالخوف جميعها مسببات للإصابة بحالات نفسية أو تفاقمها. وقد يلجأ الكثير من الناس إلى تعاطي كميات متزايدة من الكحول والمخدرات، وقد يعانون من الأرق والقلق.  https://t.co/PmhOMl47DC\n",
            " \n",
            "علي اليمين لوحتي في معرض الفن في العزلة: الابتكار في زمن جائحة كوفيد-١٩، بمؤسسة الشرق الأوسط بواشنطن بمشاركة ٣٩ فنان من هواة لمحترفين كأول مشاركة عالمية لي. مبسوطة جداً بالمستوى الوصلت ليهو و لسه ماشة عليه بإذن الله 🙏🏽❤️ كل أعمال المعرض متوفرة أونلاين 👇🏽   https://t.co/NoIHwTHSyR  https://t.co/XEMaUr7sSM\n",
            " \n",
            "\" ويسألونك عن حُبِّ العزلة، قل: هي راحةٌ من غِيبة، وفِرارٌ من نميمة، ودرءٌ من سقطاتِ اللسان، ورحماتٌ من القيلِ والقال \"  #MapOfTheSoulOne #BTSARMY #احمد_فهمي #دستورنا_هو_رحيلكم #كوفيد_19 #رشا_العبدالله #البيض #انفجار_البيض #Algerie #الجزائر #coronavirus #حساب_المواطن\n",
            " \n",
            "براثن الفقر أو الذين يعيشون في بيئات إنسانية هشة ويفتقرون إلى الحماية من كوفيد-19؛ والأشخاص المصابين بالحالات الصحية النفسية ويعاني العديد منهم من العزلة الاجتماعية أكثر من ذي قبل، ناهيك عن هؤلاء الذين يواجهون الحزن على رحيل شخص عزيز لم يتمكنوا في بعض الأحيان من وداعه.\n",
            " \n"
          ],
          "name": "stdout"
        }
      ]
    },
    {
      "cell_type": "code",
      "metadata": {
        "colab": {
          "base_uri": "https://localhost:8080/"
        },
        "id": "e5KkdJPzapAB",
        "outputId": "54a27619-8382-4ea1-a450-8a61b70509ec"
      },
      "source": [
        "model.most_similar('ووهان', topn=8)"
      ],
      "execution_count": 70,
      "outputs": [
        {
          "output_type": "stream",
          "text": [
            "/usr/local/lib/python3.7/dist-packages/ipykernel_launcher.py:1: DeprecationWarning: Call to deprecated `most_similar` (Method will be removed in 4.0.0, use self.wv.most_similar() instead).\n",
            "  \"\"\"Entry point for launching an IPython kernel.\n"
          ],
          "name": "stderr"
        },
        {
          "output_type": "execute_result",
          "data": {
            "text/plain": [
              "[('#ووهان', 0.7639188766479492),\n",
              " ('هوبي', 0.7087404727935791),\n",
              " ('صيني', 0.6714229583740234),\n",
              " ('يوهان', 0.6462534070014954),\n",
              " ('تسجن', 0.6384220123291016),\n",
              " ('#الصين،', 0.6359992623329163),\n",
              " ('تشينغداو', 0.619361400604248),\n",
              " ('صينيه', 0.6152423620223999)]"
            ]
          },
          "metadata": {
            "tags": []
          },
          "execution_count": 70
        }
      ]
    },
    {
      "cell_type": "code",
      "metadata": {
        "colab": {
          "base_uri": "https://localhost:8080/"
        },
        "id": "u0BBLxY7avco",
        "outputId": "34e6adf9-63ad-4ab3-cea0-a005d70c7b6d"
      },
      "source": [
        "model.most_similar('أنفلونزا', topn=8)"
      ],
      "execution_count": 71,
      "outputs": [
        {
          "output_type": "stream",
          "text": [
            "/usr/local/lib/python3.7/dist-packages/ipykernel_launcher.py:1: DeprecationWarning: Call to deprecated `most_similar` (Method will be removed in 4.0.0, use self.wv.most_similar() instead).\n",
            "  \"\"\"Entry point for launching an IPython kernel.\n"
          ],
          "name": "stderr"
        },
        {
          "output_type": "execute_result",
          "data": {
            "text/plain": [
              "[('موسمي', 0.8542202115058899),\n",
              " ('إنفلونزا', 0.8012586832046509),\n",
              " ('يتعارض', 0.7569338083267212),\n",
              " ('#عززصحتك🇰🇼🇰🇼', 0.7289174795150757),\n",
              " ('انفلونزا', 0.7285037040710449),\n",
              " ('عاديه', 0.7038642764091492),\n",
              " ('#كوفيد-19🦠🦠', 0.6955845355987549),\n",
              " ('موانع', 0.6893033981323242)]"
            ]
          },
          "metadata": {
            "tags": []
          },
          "execution_count": 71
        }
      ]
    },
    {
      "cell_type": "code",
      "metadata": {
        "colab": {
          "base_uri": "https://localhost:8080/"
        },
        "id": "xjXeiKtGa6Tt",
        "outputId": "30164b17-1e77-4dd7-c366-c0ed07563dcc"
      },
      "source": [
        "model.most_similar('زائف', topn=8)"
      ],
      "execution_count": 76,
      "outputs": [
        {
          "output_type": "stream",
          "text": [
            "/usr/local/lib/python3.7/dist-packages/ipykernel_launcher.py:1: DeprecationWarning: Call to deprecated `most_similar` (Method will be removed in 4.0.0, use self.wv.most_similar() instead).\n",
            "  \"\"\"Entry point for launching an IPython kernel.\n"
          ],
          "name": "stderr"
        },
        {
          "output_type": "execute_result",
          "data": {
            "text/plain": [
              "[('إشاع', 0.7789984941482544),\n",
              " ('مغلوط', 0.6950494050979614),\n",
              " ('مزيف', 0.6914504766464233),\n",
              " ('إخفاء', 0.6486808657646179),\n",
              " ('ترويج', 0.6382901668548584),\n",
              " ('زيف', 0.6352092623710632),\n",
              " ('تهويل', 0.6331198811531067),\n",
              " ('تناقل', 0.6263988018035889)]"
            ]
          },
          "metadata": {
            "tags": []
          },
          "execution_count": 76
        }
      ]
    },
    {
      "cell_type": "code",
      "metadata": {
        "colab": {
          "base_uri": "https://localhost:8080/"
        },
        "id": "0FmpenBeJyyT",
        "outputId": "f06bc0a1-d0d1-47ba-8c5b-eea667b394f5"
      },
      "source": [
        "model.most_similar('تضليل', topn=8)"
      ],
      "execution_count": 77,
      "outputs": [
        {
          "output_type": "stream",
          "text": [
            "/usr/local/lib/python3.7/dist-packages/ipykernel_launcher.py:1: DeprecationWarning: Call to deprecated `most_similar` (Method will be removed in 4.0.0, use self.wv.most_similar() instead).\n",
            "  \"\"\"Entry point for launching an IPython kernel.\n"
          ],
          "name": "stderr"
        },
        {
          "output_type": "execute_result",
          "data": {
            "text/plain": [
              "[('أكاذيب', 0.9109851717948914),\n",
              " ('مغلوط', 0.7434934377670288),\n",
              " ('مضلل', 0.7412540316581726),\n",
              " ('مشكك', 0.732384204864502),\n",
              " ('مزيف', 0.7108391523361206),\n",
              " ('ضج', 0.7005358934402466),\n",
              " ('مثار', 0.6970096826553345),\n",
              " ('#ميركل', 0.692806601524353)]"
            ]
          },
          "metadata": {
            "tags": []
          },
          "execution_count": 77
        }
      ]
    },
    {
      "cell_type": "code",
      "metadata": {
        "colab": {
          "base_uri": "https://localhost:8080/"
        },
        "id": "I-1pZh6kKEnN",
        "outputId": "87a48028-8a96-45b6-e2d8-9a578f5b2a30"
      },
      "source": [
        "model.most_similar('خاطئ', topn=8)"
      ],
      "execution_count": 78,
      "outputs": [
        {
          "output_type": "stream",
          "text": [
            "/usr/local/lib/python3.7/dist-packages/ipykernel_launcher.py:1: DeprecationWarning: Call to deprecated `most_similar` (Method will be removed in 4.0.0, use self.wv.most_similar() instead).\n",
            "  \"\"\"Entry point for launching an IPython kernel.\n"
          ],
          "name": "stderr"
        },
        {
          "output_type": "execute_result",
          "data": {
            "text/plain": [
              "[('تتناقل', 0.7870112657546997),\n",
              " ('مغلوط', 0.7128145694732666),\n",
              " ('أشاع', 0.6937205791473389),\n",
              " ('موضع', 0.6844605207443237),\n",
              " ('تبسيط', 0.6742812991142273),\n",
              " ('ترهيب', 0.6677976846694946),\n",
              " ('زيف', 0.6648075580596924),\n",
              " ('سطحي', 0.6618359088897705)]"
            ]
          },
          "metadata": {
            "tags": []
          },
          "execution_count": 78
        }
      ]
    },
    {
      "cell_type": "code",
      "metadata": {
        "colab": {
          "base_uri": "https://localhost:8080/"
        },
        "id": "eYhKhFila_0-",
        "outputId": "dbf5c535-1caa-4084-84d2-2b4becee91d9"
      },
      "source": [
        "model.most_similar('مؤامر', topn=8)"
      ],
      "execution_count": 72,
      "outputs": [
        {
          "output_type": "stream",
          "text": [
            "/usr/local/lib/python3.7/dist-packages/ipykernel_launcher.py:1: DeprecationWarning: Call to deprecated `most_similar` (Method will be removed in 4.0.0, use self.wv.most_similar() instead).\n",
            "  \"\"\"Entry point for launching an IPython kernel.\n"
          ],
          "name": "stderr"
        },
        {
          "output_type": "execute_result",
          "data": {
            "text/plain": [
              "[('نظري', 0.8240101337432861),\n",
              " ('مؤامره', 0.7446557879447937),\n",
              " ('خدع', 0.6993073225021362),\n",
              " ('اكاذيب', 0.6991248726844788),\n",
              " ('يصدق', 0.6974978446960449),\n",
              " ('تخويف', 0.6948933005332947),\n",
              " ('أؤمن', 0.6899834275245667),\n",
              " ('استهان', 0.6867741346359253)]"
            ]
          },
          "metadata": {
            "tags": []
          },
          "execution_count": 72
        }
      ]
    },
    {
      "cell_type": "code",
      "metadata": {
        "colab": {
          "base_uri": "https://localhost:8080/"
        },
        "id": "-3G2Cqi7KVAt",
        "outputId": "5d6e69f0-1b31-41d9-d33f-34bd4167251a"
      },
      "source": [
        "model.most_similar('معجز', topn=8)"
      ],
      "execution_count": 79,
      "outputs": [
        {
          "output_type": "stream",
          "text": [
            "/usr/local/lib/python3.7/dist-packages/ipykernel_launcher.py:1: DeprecationWarning: Call to deprecated `most_similar` (Method will be removed in 4.0.0, use self.wv.most_similar() instead).\n",
            "  \"\"\"Entry point for launching an IPython kernel.\n"
          ],
          "name": "stderr"
        },
        {
          "output_type": "execute_result",
          "data": {
            "text/plain": [
              "[('https://t.co/zpnp4c67VF', 0.6295936107635498),\n",
              " ('انتصر', 0.6080400943756104),\n",
              " ('@ElwatanNews', 0.5959616899490356),\n",
              " ('مهدي', 0.5795369148254395),\n",
              " ('@TRTArabi', 0.5672096014022827),\n",
              " ('@AlMosahf', 0.5659348964691162),\n",
              " ('@alhurranews', 0.5648635029792786),\n",
              " ('سعار', 0.5587259531021118)]"
            ]
          },
          "metadata": {
            "tags": []
          },
          "execution_count": 79
        }
      ]
    },
    {
      "cell_type": "code",
      "metadata": {
        "colab": {
          "base_uri": "https://localhost:8080/"
        },
        "id": "bZ49eAUdd3zS",
        "outputId": "7d5d7d7f-8339-40da-e28f-52674a825ad2"
      },
      "source": [
        "retrieve_tweets('مؤامر', 8)"
      ],
      "execution_count": 73,
      "outputs": [
        {
          "output_type": "stream",
          "text": [
            "دراسة من جامعة كورونيل🇺🇸 @Cornell  عن المعلومات الخاطئة بشأن كوفيد-١٩  🔝يعتبر الرئيس الأمريكي ترامب @realDonaldTrump من أبرز مصادر المعلومات الخاطئة بنسبة48%  🔝بينما شكّلت نظرية المؤامرة نسبة47%  🤷‍♂️لايزال الناس يعتقدون أن ترامب مصدر طبي/دوائي موثوق🤦‍♂️   https://t.co/ZlLQ9cO8t3  https://t.co/SFeT37YB1A\n",
            " \n",
            "ماندري مالذي يحدث فى العالم احيانا يحيرك هذآ العالم تسمع أخبارا حتى تصدقها وفجئة ترى العكس مثلا ما يخص الفيروس كوفيد 19كناك اخبار متضاربة هل هو فيروس كورونا أم هو مؤامرة دوليةلانقاص سكان الارض ؟كما يقول بعض الأطباء المتخصصين فى هذا المجال ويوثق بدلائل تؤيد هذا الرأي بل يتهم الإع\n",
            " \n",
            "مخطط ترامب كما تنبأ جون كامو  #مؤامرة #كورونا #لقاح #كوفيد_19\n",
            " \n",
            "\" مفاجأة أكتوبر\" المتكررة في كل انتخابات أميركية، تلعب الآن مع ذهنية المؤامرة في إصابة ترامب بكورونا: الرئيس السبعيني مصابٌ سياسياً. يحجر نفسه أسبوعين، ويسترد تعاطفاً شعبياً بعد فشله في المناظرة مع بايدن، ويعود متعافيا، ليكسب فئة كبار السن، والدوغما مُنكري كوفيد.   #ترامب_كورونا\n",
            " \n",
            "بعد إصابة دونالد ترامب بفايروس كورونا  هل لا زال بعض الأغبياء يعتقدون إنها مؤامرة ؟ #TrumpHasCovid #كوفيد_19  https://t.co/Q6ds7F1sNS\n",
            " \n",
            "بعد تأكيد إصابة الرئيس الأمريكي #ترامب  بفيروس #كوفيد_19 ..  هل ما زال البعض يرى أن #كورونا  مؤامرة على العالم الإسلامي ؟\n",
            " \n",
            "هناك من يتمتع في نفي وجود #كوفيد_19. وهؤلاء هم أنفسهم من تحدثوا عن مؤامرة 11 سبتمبر وأن الأبراج انتحرت لوحدها ونفوا نزول الأميركيين على القمر ويشككون في أن الأرض كروية وطبعا سيعتبرون أن #ترامب ليس مريضا بل يدعي ذلك... بعض هؤلاء متعلمون مثقفون بارك الله بهم وبآلهم🤷‍♂️  https://t.co/Bq04cvHquk\n",
            " \n",
            "امانه الي كانوا يدزون pc عن لقاح #كوفيد_19  وان مؤامره ويزرعون شريحة لكم تحت الجلد هوووب لحظه... انتوا نت فلكس مالكم نفس الي  عندنا العادي ولا تبع مغامرات الفضاء   دوق فليد ودايسكي!  https://t.co/pTi7HLFgKC\n",
            " \n"
          ],
          "name": "stdout"
        }
      ]
    },
    {
      "cell_type": "code",
      "metadata": {
        "colab": {
          "base_uri": "https://localhost:8080/"
        },
        "id": "ZaPWV1UrOa8K",
        "outputId": "063f6a0e-a3bb-4182-e5fa-82788fcf9871"
      },
      "source": [
        "retrieve_tweets(' روج', 8)"
      ],
      "execution_count": 85,
      "outputs": [
        {
          "output_type": "stream",
          "text": [
            "نشر نتائج تجربة سريرية جديدة لعقار روج له #ترامب للوقاية من كوفيد-19  تفاصيل:   https://t.co/ue0NON5f4T  https://t.co/5I4sztTxIh\n",
            " \n",
            "قبل سنوات كان هناك من يروج لاحد المخالفين للعقيدة والسنة ويسميه أسد بانشير و جيفارا افغانستان وكان يصور لنا كبطل قومي خارق ،.  اليوم هناك ترويج من نوع اخر تحت مسميات مختلفة ك #بطل_كوفيد و #دوكفليد و #قراندايزر لذا #خلك_واعي و #كن_فطن ولا تغتر بالمسميات فمن روج لذاك يروج لهذا !!  https://t.co/ZyXdWPzexV\n",
            " \n",
            "🛑 \"الشتاء قادم\".. هل حضرت الموجة الثانية من كوفيد-19 بالفعل؟! تقرير طويل لكن مفيد جدا  للدكتور  روجر كيربي، رئيس الجمعية الملكية للطب، الإذاعة البريطانية   بسم الله نبدأ 👇\n",
            " \n",
            "تعرض نحو 70 قطعة أثرية من بينها قطع فرعوينة لتخريب متعمد في جزيرة المتاحف بالعاصمة الألمانية برلين   تجدر الإشارة إلى أن أتيلا هيلدمان الذي روج نظريات مؤامرة بشأن وباء كوفيد-19 قد زعم أن أحد جزيرة المتاحف هو عرش الشيطان  مصر.. تحرك رسمي بعد واقعة \"إتلاف آثار بالزيت\" في برلين\n",
            " \n",
            "كان المفروض الآن نادال عنده 809 اسبوع في ال TOP 10 لكن بسبب كورونا وقفوا احتساب اسابيع التصنيف من بطولة اكابولكو لغاية العودة في بطولة سنسيناتي  لهذا السبب نادال عنده الآن 789 إسبوع في الTop 10  الاكثر بقاء في التوب 10 عبر التاريخ :  نادال 789 اسبوع كونرز 788 اسبوع روجر 734 اسبوع\n",
            " \n",
            "Forza PSV ❤️🤍 : كورونا والأرض لن تقف ضد روجر بإذن الله..\n",
            " \n",
            "@jkfvll البوم ٧ الالبوم العظيم يكفي دفنوا بلاك سوان اللي مفترض تكون هي الرئيسية وترويجات on كانت بدايه كورونا وكانت  رجه وغلط اما ديناميت روجوا لها مره صح بكل مكان تشوفونها🥺\n",
            " \n",
            "لم أفرح لاصابة اي لاعب منافس ، فالتنافس شريف ، ولم الق اللوم على أداري فريقهم كما روجو على أداري فريقي ، ولن اقول افراحهم بتأهلهم للكأس والخمخمه سبب تفشي #فيروس_كورونا اختلف عنهم بعزتي وشموخي وتنافسي الشريف .\n",
            " \n"
          ],
          "name": "stdout"
        }
      ]
    },
    {
      "cell_type": "code",
      "metadata": {
        "colab": {
          "base_uri": "https://localhost:8080/"
        },
        "id": "J-yAzjJWbDVL",
        "outputId": "2688905d-e5a8-42dd-fc23-e0cc92e0244e"
      },
      "source": [
        "model.most_similar('شرائح', topn=8)"
      ],
      "execution_count": 74,
      "outputs": [
        {
          "output_type": "stream",
          "text": [
            "/usr/local/lib/python3.7/dist-packages/ipykernel_launcher.py:1: DeprecationWarning: Call to deprecated `most_similar` (Method will be removed in 4.0.0, use self.wv.most_similar() instead).\n",
            "  \"\"\"Entry point for launching an IPython kernel.\n"
          ],
          "name": "stderr"
        },
        {
          "output_type": "execute_result",
          "data": {
            "text/plain": [
              "[('وظف', 0.6907738447189331),\n",
              " ('تحاكي', 0.6773618459701538),\n",
              " ('حاسوب', 0.6737838983535767),\n",
              " ('ذوات', 0.6713823080062866),\n",
              " ('تقويض', 0.6639434099197388),\n",
              " ('إستغلال', 0.6631990075111389),\n",
              " ('ايصال', 0.659903883934021),\n",
              " ('إشكال', 0.6569551229476929)]"
            ]
          },
          "metadata": {
            "tags": []
          },
          "execution_count": 74
        }
      ]
    },
    {
      "cell_type": "code",
      "metadata": {
        "colab": {
          "base_uri": "https://localhost:8080/"
        },
        "id": "aEgYsLtzdhs6",
        "outputId": "a96c351d-1b0a-4406-9535-54954ca518cb"
      },
      "source": [
        "retrieve_tweets('مضلل', 10)"
      ],
      "execution_count": 75,
      "outputs": [
        {
          "output_type": "stream",
          "text": [
            "خبراء صحيون أمريكيون: مستشار بالبيت الأبيض يقدم لترامب معلومات مضللة حول \"كوفيد-19\" أخبر أنتوني فاوتشي، قناة ((سي ان ان)) أنه قلق من أن المعلومات التي قدمها مستشار البيت الأبيض سكوت أطلس \"إما أنها خرجت بالفعل عن سياقها أو غير صحيحة بالفعل\".  https://t.co/CpoDfND5nR\n",
            " \n",
            "باحثون ب #جامعة_كورنيل بعد تحليلهم ل ٣٨ مليون مقال متعلق ب #جائحة_كورونا حول العالم يكتشفون أن الرئيس #ترامب تم ذكره في ٣٨% من الحوارات المضللة مما يجعله المصدر الأكبر في العالم للمعلومات الخاطئة في ظل الجائحة. #كوفيد_١٩ #شائعات #إشاعات    https://t.co/4oDcGPbyHj\n",
            " \n",
            "وكان الدافع وراء عملها هو ضرورة إيقاف المعلومات المضللة وتزويد أفراد المجتمع بمعلومات دقيقة عن كوفيد-١٩. نحن نكرم فاطمة لعملها الرائع!\n",
            " \n",
            "#تويتر بوضع ملصق تحذيري على التغريدة  قائلة إن المنشور يتضمن معلومات  \"يُحتمل أن تكون مضللة\"! #رويترز:  \"ترامب\" يقلل من أهمية جائحة  كوفيد-19 مجددا ويشبه \"كورونا\" بالأنفلونزا؟ #تعليقي: ما يقارب 36 مليون مصاب وأكثر من \"مليون\" وفاة عالميا هذا ما يؤخذ على \"فخامته\"..!  https://t.co/aXHjH9PYbo\n",
            " \n",
            "قلل الرئيس الأميركي، دونالد ترامب، من أهمية جائحة “كوفيد-19” مجددا وشبهها بالإنفلونزا في تغريدة، بينما ردت شركة “تويتر” بوضع تنبيه على التغريدة، قائلة إن المنشور يتضمن معلومات يُحتمل أن تكون مضللة.\n",
            " \n",
            "وكيلة الأمين العام للتواصل العالمي @MelissaFleming تقول إن الطفرة في المعلومات المضللة بشأن #كوفيد_19 حول العالم، تتسبب في إعاقة الاستجابة الصحية وتثير الاضطرابات.  \"لدينا جميعا دور نلعبه في وقف انتشار المعلومات المضللة.\"  #انتبه_قبل_المشاركة   https://t.co/LJCFyL58MH\n",
            " \n",
            "بعد زعمه أن الإنفلونزا الموسمية أكثر فتكاً من فيروس كورونا (كوفيد-19)، فيسبوك يحذف منشوراً للرئيس الأمريكي دونالد ترمب بينما وضع تويتر علامة تحذيرية على تغريدة له عن نفس الموضوع منبهاً إلى أنها تتضمن معلومات مضللة بشأن الفيروس المستجد.  https://t.co/jcsHTrXl2I\n",
            " \n",
            "محاضرة بعنوان الأخبار المضللة وجائحة كوفيد-19 قدمها السيد / فيليب شيتويند مدير الأخبار العالمية وكالة الصحافة الفرنسية وذلك لمنتسبي #البرنامج_الإعلامي_الوطني_للشباب . @DubaiPressClub  @AFP  https://t.co/ppk44umfg9\n",
            " \n",
            "نيويورك تايمز: وجد باحثو جامعة كورنيل الذين قاموا بتحليل 38 مليون مقال باللغة الإنجليزية حول جائحة كورونا أن الرئيس ترامب كان المحرك الأكبر لـ \"الوباء المعلوماتي\" من فيض المعلومات المضللة ونظريات المؤامرة إلى الأكاذيب حول كوفيد-19 يبرز خيط مشترك واحد: الرئيس ترامب.  https://t.co/wPmGRWiBvI\n",
            " \n",
            "#تويتر تضع علامة تحذير على تغريدة لـ #ترامب: تتضمن مزاعم صحية مضللة عن #كوفيد_19   #الصدارة_نيوز  https://t.co/tPC0NU3uQe\n",
            " \n"
          ],
          "name": "stdout"
        }
      ]
    },
    {
      "cell_type": "code",
      "metadata": {
        "colab": {
          "base_uri": "https://localhost:8080/"
        },
        "id": "bPNnD61NdmOZ",
        "outputId": "4521f6c6-97dc-450a-eea3-d5662ad55f4d"
      },
      "source": [
        "retrieve_tweets('خفافيش', 25)"
      ],
      "execution_count": 80,
      "outputs": [
        {
          "output_type": "stream",
          "text": [
            "تخضع للفحص دراسة نشرت في مجلة ⁦@nature⁩ الشهيرة عن #عالم_كوفيد_١٩ و #الخفافيش، استشهد بها أكثر من 3000 مرة، حيث تحوم شكوك حول تناقضات بها، ويرجح أن تكون في البيانات الخام الصينية المصدر من #زمن_كورونا😷🦠  https://t.co/oYbBIcEioU\n",
            " \n",
            "عدم سماع الدعوى بالنسبة للخفافيش في تهمة التسبب بوباء كوفيد-19 حسب الباحثين.  https://t.co/6I4uZt2Ngo\n",
            " \n",
            "لماذا يعتبر علماء أن #الخفافيش ليست مسؤولة عن نقل عدوى #كوفيد-19؟  https://t.co/k5PquqLDaq\n",
            " \n",
            "فيروس كورونا: الخفافيش \"تتباعد اجتماعيا\" عندما تشعر بالمرض  https://t.co/jajhGwP8gF\n",
            " \n",
            "بي بي سي عربي/ فيروس كورونا: الخفافيش \"تتباعد اجتماعيا\" عندما تشعر بالمرض - عبر تطبيق نبض @NabdApp   https://t.co/wdVzW3BG3P\n",
            " \n",
            "تحديد الطفرات \"الصامتة\" التي أعطت فيروس كورونا ميزة تطورية ملخص: حدد الباحثون عددًا من الطفرات \" الصامتة '' في ما يقرب من 30 ألف حرف من الشفرة الجينية لفيروس COVID-19 والتي ساعدته على الازدهار بمجرد أن حقق قفزة من الخفافيش والحياة البرية الأخرى إلى ...  https://t.co/s0VxQcFTeB\n",
            " \n",
            "أخبار بي بي س - فيروس كورونا: الخفافيش \"تتباعد اجتماعيا\" عندما تشعر بالمرض  https://t.co/3kwKMWdF52\n",
            " \n",
            "لطالما عانت الخفافيش من سمعة سيئة ، حتى قبل ظهور كوفيد-19. هذه المخلوقات عالية الحركة التي تعيش في مستعمرات عنقودية وتعد مستودعات معروفة جيدًا للفيروسات ، بما في ذلك فيروسات كورونا   https://t.co/EfWKs52I5S  https://t.co/4H8QskKsx3\n",
            " \n",
            "بي بي سي عربي/فيروس كورونا: الخفافيش \"تتباعد اجتماعيا\" عندما تشعر بالمرض  https://t.co/iZZBBdGCiY\n",
            " \n",
            "هذي آخرتها ،، صرنا خفافيش🤣  BCC عربي/ فيروس كورونا: الخفافيش \"تتباعد اجتماعيا\" عندما تشعر بالمرض    https://t.co/0NiqZ83zR2\n",
            " \n",
            "بي بي سي عربي/ فيروس كورونا: الخفافيش \"تتباعد اجتماعيا\" عندما تشعر بالمرض - عبر تطبيق نبض @NabdApp   https://t.co/PTkRmfxpbw\n",
            " \n",
            "بي بي سي عربي/ فيروس كورونا: الخفافيش \"تتباعد اجتماعيا\" عندما تشعر بالمرض - عبر تطبيق نبض @NabdApp   https://t.co/Yngf5HBErg\n",
            " \n",
            "الخفافيش تتباعد إجتماعياً عندما تشعر بالمرض(كورونا) المصدر BBC\n",
            " \n",
            "بي بي سي عربي/ فيروس كورونا: الخفافيش \"تتباعد اجتماعيا\" عندما تشعر بالمرض - عبر تطبيق نبض @NabdApp   https://t.co/GuFd6ZbV3j\n",
            " \n",
            "فيروس كورونا: الخفافيش \"تتباعد اجتماعيا\" عندما تشعر بالمرض  #الاردن24 #جو24   https://t.co/Wax3c8oTzi\n",
            " \n",
            "صاير ومكتر #كورونا كل اللي قالته الاسطورة نجوى كرم  للسياسيين الفاسدين بوجهوا انا للصين و خفافيشهم @najwakaram  والله تعبت من كورونا 🐥  https://t.co/bgRJSkftGl\n",
            " \n",
            "يصادف اليوم ، الذكرى السنوية لحساء الخفافيش يللي حضرها زلمي من ووهان الصينية و أباد نص البشرية 😐 #كورونا\n",
            " \n",
            "قد تكون الخفافيش المسؤولةَ عن نقل فيروس «كورونا» إلى البشر، لكن يبدو أن هناك مخلوقات غير البشر يمكن أن تكون على درجة وعي كبيرة بالصحة. فبحسب دراسة جديدة، فإن الخفافيش البرية مصاصة الدماء تتباعد اجتماعياً عندما تمرض  https://t.co/tGnP3LuBEZ\n",
            " \n",
            "الوسيلة الأفضل للوقاية من #كورونا غسل اليدين 40 ثانية  والدعاء على آكلين الصراصير والفيران والخفافيش بالهلاك القريب  #كلنا_مسؤول  https://t.co/pTeYXEXgBX\n",
            " \n",
            "@northernhights اي انا من شفت الفيديو مال كورونا اعتقد كان عدهم وقت مغرب وطارت فوك رأسه الخفافيش لان اكو يمه مزارع فتاكدت انه الخفافيش جاي تنتقم منه 😁\n",
            " \n",
            "انو واحد اكل خفافيش بالصين قام التعن سما البشرية؟؟؟؟يا عمي شي بمخول الدماغ.... #كورونا\n",
            " \n",
            "خلاص يا جماعه عرفت ان كليتي مش هلاقي منها شغل وعارفه أن الصيني لغة بنت كلب وعارفه أني سبت لغات العالم كله ومسكت ف لغه كل معلوماتكو عنها أنها بتاعت كورونا وخفافيش وان كل واحد هيكلمني هتبقي كليته بيخترعو فيها الذره وانا بلعب سودوكو ممكن تسبوني العب سودكو من غير رأيكو بقي\n",
            " \n",
            "#فيروس_كورونا : الخفافيش “تتباعد اجتماعيا” عندما تشعر بالمرض  https://t.co/Kz4JLPKjoG\n",
            " \n",
            "فيروس كورونا: الخفافيش &amp;#8220;تتباعد اجتماعيا&amp;#8221; عندما تشعر بالمرض  https://t.co/vyBbgXvKjP\n",
            " \n",
            "فيروس كورونا: الخفافيش “تتباعد اجتماعيا” عندما تشعر بالمرض  https://t.co/Q0n29fVdlH\n",
            " \n"
          ],
          "name": "stdout"
        }
      ]
    },
    {
      "cell_type": "code",
      "metadata": {
        "colab": {
          "base_uri": "https://localhost:8080/"
        },
        "id": "lGB3W0ucMGCA",
        "outputId": "a865dfbe-edbd-47ca-a265-b09eafbe4068"
      },
      "source": [
        "retrieve_tweets('نباتي', 25)"
      ],
      "execution_count": 81,
      "outputs": [
        {
          "output_type": "stream",
          "text": [
            "#إيران-ندرة الزيت النباتي الصلب ، على الرغم من الوضع الأحمر في مختلف المدن بسبب #كورونا، بما في ذلك دامغان وزنجان وزاهدان،دفعت الناس إلى الشوارع. وبسبب عدم كفاية وكلاء النظام في تأمين معيشة الشعب والتوزيع الجائر للطعام ، اضطر الناس إلى الانتظار لساعات للحصول على الزيت الصلب.  https://t.co/u52SugVHID\n",
            " \n",
            "#إيران-وكالة الأنباء الحكومية إيلنا 28 أكتوبر: رغم استمرار الوضع الأحمر في دامغان انتظر مواطنو دامغان لساعات للحصول على الزيت النباتي الصلب. ندرة الزيت النباتي الصلب في دامغان. واضطر المواطنون نزول إلى الشوارع دون خوف من #كورونا. #كوفيد_19  #الفساد  #النهب  https://t.co/8P3sfl767k\n",
            " \n",
            "إيران .. طوابير طويلة لشراء الزيت النباتي في مدن مختلفة رغم انتشار كورونا  https://t.co/Lh43crahVC\n",
            " \n",
            "أهم ما یقدمه موقع #مجاهدي_خلق الإیرانیة 29 اکتوبر 2020 أن عدد ضحايا #كورونا في460 مدينة في #إيران قد تجاوز 136300 شخص. إيران .. طوابير طويلة لشراء الزيت النباتي في مدن مختلفة رغم انتشار كورونا شركة الفيسبوك تحجب عدة صفحات لنظام الملالي على الفيسبوك وإنستغرام  https://t.co/vmBM8vwpfL\n",
            " \n",
            "#إيران-وكالة الأنباء الحكومية إيلنا 28 أكتوبر: رغم استمرار الوضع الأحمر في دامغان انتظر مواطنو دامغان لساعات للحصول على الزيت النباتي الصلب. ندرة الزيت النباتي الصلب في دامغان. واضطر المواطنون نزول إلى الشوارع دون خوف من #كورونا. #كوفيد_19  #الفساد  #النهب  https://t.co/8P3sfl767k\n",
            " \n",
            "@dietitianZorro وربي دول النباتيين صايرين وباء اخطر من كورونا ايش القروشه دي 🙂صادق الي قال كلو عشب وانتو ساكتين\n",
            " \n",
            "نشرت الدراسة دورية \"فيتوميديسين\" في 22 أكتوبر، وهي دورية شهرية متخصصة في الطب النباتي. وشارك في الدراسة باحثون من الصين وألمانيا. ويحظى استخدام الطب العشبي الصيني في مكافحة كوفيد-19 باهتمام عالمي نظرا لاستخدامه بشكل دوري في الصين خلال فترة تفشي المرض،\n",
            " \n",
            "نشرت الدراسة دورية \"فيتوميديسين\" في 22 أكتوبر، وهي دورية شهرية متخصصة في الطب النباتي. وشارك في الدراسة باحثون من الصين وألمانيا. ويحظى استخدام الطب العشبي الصيني في مكافحة كوفيد-19 باهتمام عالمي نظرا لاستخدامه بشكل دوري في الصين خلال فترة تفشي المرض،\n",
            " \n",
            "وفي التجارب المعملية والحيوانية التي أجريت أثناء تفشي السارس في عام 2003، تبين أن هذه المواد تقلل من قدرة الفيروس على التكاثر واختراق الخلايا. والآن ، تقارن الدراسة نتائج مرضى كوفيد 19 الذين منحوا هذه المواد الكيميائية النباتية كمكمل مع آخرين منحوا دواءً وهمياً.  https://t.co/6vn5LMk6XR\n",
            " \n",
            "وفي التجارب المعملية والحيوانية التي أجريت أثناء تفشي السارس في عام 2003، تبين أن هذه المواد تقلل من قدرة الفيروس على التكاثر واختراق الخلايا. والآن ، تقارن الدراسة نتائج مرضى كوفيد 19 الذين منحوا هذه المواد الكيميائية النباتية كمكمل مع آخرين منحوا دواءً وهمياً.  https://t.co/6vn5LMk6XR\n",
            " \n",
            "١٧- وثمة المئات من لقاحات كوفيد قيد التطوير، ولا نملك تفاصيل عن مكون كل واحد منها على حتى الآن، لكن من المتوقع أن تكون العديد من لقاحات كوفيد نباتية أو صديقة للنباتيين.\n",
            " \n",
            "١٧- وثمة المئات من لقاحات كوفيد قيد التطوير، ولا نملك تفاصيل عن مكون كل واحد منها على حتى الآن، لكن من المتوقع أن تكون العديد من لقاحات كوفيد نباتية أو صديقة للنباتيين.\n",
            " \n",
            "لن ينفع اللقاح هذا إن وجد... لكن العرب لا يريد الحقيقة . تعود على الاكاذيب. .العربي يعني ego محط كورونا ليس فيروس كما تعتقدون قلتها مرارا وسأذكركم لاحقا. الحل الوحيد   (الحمية النباتية والتأمل)   باقي ما تبقى هرهرة كلام فارغ . اعذر من انذر.\n",
            " \n",
            "@NoosA101080 من ضم أسباب كورونا اللعين.كوفيد 19..أكل الطرب والكفتة ..لو حضرتك نباتية يبقى أحسن الدعاء إلى الله سبحانه وتعالى بالشفاء العاجل والتام امين يارب\n",
            " \n",
            "@NoosA101080 من ضم أسباب كورونا اللعين.كوفيد 19..أكل الطرب والكفتة ..لو حضرتك نباتية يبقى أحسن الدعاء إلى الله سبحانه وتعالى بالشفاء العاجل والتام امين يارب\n",
            " \n",
            "@NoosA101080 من ضم أسباب كورونا اللعين.كوفيد 19..أكل الطرب والكفتة ..لو حضرتك نباتية يبقى أحسن الدعاء إلى الله سبحانه وتعالى بالشفاء العاجل والتام امين يارب\n",
            " \n",
            "أطعمة تقلل #الكوليسترول و #الدهون الثلاثية بالجسم -#الشوفان -#المكسرات -الحبوب الكاملة -الزيوت النباتية زيت الزيتون  -#السمك- مستخلص #الثوم - الحمضيات للمعلومات والنصائح @dnp2001  #الجمعة_البيضاء #كورونا\n",
            " \n",
            "#عاجل ضبط (٤٧٠٠) كغم من الألبان والأجبان المخالفة بمزجها مع زيوت نباتية مهدرجة   #الوقائع #الوقائع_الاخبارية #الاردن الوقائع - alwakaai #الاردن #كورونا   https://t.co/buRvR8Z432\n",
            " \n",
            "شركة $IBIO ستبدأ الأسبوع القادم التجارب السريرية على لقاح نباتي لفيروس #كورونا . إذا نجحت التجارب ستؤثر وبقوه في سعر السهم ( الآن ١.١٤ ) #السوق_الامريكي\n",
            " \n",
            "كل الشكر والتقدير لمنسوبي قسم #الإنتاج_النباتي #جامعة_الملك_سعود على نجاح الإختبارات الفصلية الأولى لعام ١٤٤٢ حضوريا بتطبيق الإجراءات الاحترازية لمنع إنتشار #كورونا #COVID19 مع أطيب الأمنيات للجميع بإجازة فصلية ممتعة وأمانة بإذن الله.\n",
            " \n"
          ],
          "name": "stdout"
        }
      ]
    },
    {
      "cell_type": "markdown",
      "metadata": {
        "id": "ZT-Sv6tAHuTg"
      },
      "source": [
        "# New Section"
      ]
    },
    {
      "cell_type": "code",
      "metadata": {
        "colab": {
          "base_uri": "https://localhost:8080/"
        },
        "id": "BpfKHutJAdC2",
        "outputId": "8131e351-e99b-4ff0-bd20-622988de4fda"
      },
      "source": [
        "from google.colab import drive\n",
        "drive.mount('/content/drive')"
      ],
      "execution_count": 11,
      "outputs": [
        {
          "output_type": "stream",
          "text": [
            "Mounted at /content/drive\n"
          ],
          "name": "stdout"
        }
      ]
    },
    {
      "cell_type": "code",
      "metadata": {
        "id": "J4QDcHcWeD06"
      },
      "source": [
        ""
      ],
      "execution_count": null,
      "outputs": []
    },
    {
      "cell_type": "code",
      "metadata": {
        "id": "BMdMNaW9NNyr"
      },
      "source": [
        ""
      ],
      "execution_count": null,
      "outputs": []
    }
  ]
}