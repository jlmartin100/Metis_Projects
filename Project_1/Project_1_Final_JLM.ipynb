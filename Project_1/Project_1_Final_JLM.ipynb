{
 "cells": [
  {
   "cell_type": "markdown",
   "metadata": {},
   "source": [
    "# Project 1\n",
    "\n",
    "## MTA Turnstile Data\n",
    "\n",
    "### Objective: To locate appropriate turnstile locations for street team contact work\n"
   ]
  },
  {
   "cell_type": "code",
   "execution_count": 45,
   "metadata": {},
   "outputs": [],
   "source": [
    "import pandas as pd\n",
    "import seaborn as sns\n",
    "%matplotlib inline\n",
    "import matplotlib.pyplot as plt"
   ]
  },
  {
   "cell_type": "code",
   "execution_count": 3,
   "metadata": {},
   "outputs": [
    {
     "name": "stdout",
     "output_type": "stream",
     "text": [
      "pandas version:   1.1.5\n"
     ]
    }
   ],
   "source": [
    "print(\"pandas version:  \", pd.__version__)"
   ]
  },
  {
   "cell_type": "code",
   "execution_count": 4,
   "metadata": {},
   "outputs": [],
   "source": [
    "pd.set_option('display.max_columns', 20)\n",
    "pd.set_option('display.max_rows', 50)\n",
    "pd.set_option('display.precision', 2)"
   ]
  },
  {
   "cell_type": "markdown",
   "metadata": {},
   "source": [
    "### Import and load data\n",
    "(Project Starter Challenge 1)\n",
    "\n",
    "Source: [http://web.mta.info/developers/turnstile.html](http://web.mta.info/developers/turnstile.html)"
   ]
  },
  {
   "cell_type": "code",
   "execution_count": null,
   "metadata": {},
   "outputs": [],
   "source": [
    "# initial group code\n",
    "\n",
    "# df_5_w1 = pd.read_csv('http://web.mta.info/developers/data/nyct/turnstile/turnstile_190504.txt')\n",
    "# df_5_w2 = pd.read_csv('http://web.mta.info/developers/data/nyct/turnstile/turnstile_190511.txt')\n",
    "# df_5_w3 = pd.read_csv('http://web.mta.info/developers/data/nyct/turnstile/turnstile_190518.txt')\n",
    "# df_5_w4 = pd.read_csv('http://web.mta.info/developers/data/nyct/turnstile/turnstile_190525.txt')\n",
    "# df_6_w1 = pd.read_csv('http://web.mta.info/developers/data/nyct/turnstile/turnstile_190601.txt')\n",
    "# df_6_w2 = pd.read_csv('http://web.mta.info/developers/data/nyct/turnstile/turnstile_190608.txt')\n",
    "# df_5_w1.shape"
   ]
  },
  {
   "cell_type": "code",
   "execution_count": null,
   "metadata": {},
   "outputs": [],
   "source": [
    "# df = pd.concat([df_5_w1, df_5_w2, df_5_w3, df_5_w4, df_6_w1, df_6_w2]).reset_index()\n",
    "# df.shape"
   ]
  },
  {
   "cell_type": "code",
   "execution_count": 11,
   "metadata": {},
   "outputs": [
    {
     "data": {
      "text/html": [
       "<div>\n",
       "<style scoped>\n",
       "    .dataframe tbody tr th:only-of-type {\n",
       "        vertical-align: middle;\n",
       "    }\n",
       "\n",
       "    .dataframe tbody tr th {\n",
       "        vertical-align: top;\n",
       "    }\n",
       "\n",
       "    .dataframe thead th {\n",
       "        text-align: right;\n",
       "    }\n",
       "</style>\n",
       "<table border=\"1\" class=\"dataframe\">\n",
       "  <thead>\n",
       "    <tr style=\"text-align: right;\">\n",
       "      <th></th>\n",
       "      <th>C/A</th>\n",
       "      <th>UNIT</th>\n",
       "      <th>SCP</th>\n",
       "      <th>STATION</th>\n",
       "      <th>LINENAME</th>\n",
       "      <th>DIVISION</th>\n",
       "      <th>DATE</th>\n",
       "      <th>TIME</th>\n",
       "      <th>DESC</th>\n",
       "      <th>ENTRIES</th>\n",
       "      <th>EXITS</th>\n",
       "    </tr>\n",
       "  </thead>\n",
       "  <tbody>\n",
       "    <tr>\n",
       "      <th>0</th>\n",
       "      <td>A002</td>\n",
       "      <td>R051</td>\n",
       "      <td>02-00-00</td>\n",
       "      <td>59 ST</td>\n",
       "      <td>NQR456W</td>\n",
       "      <td>BMT</td>\n",
       "      <td>04/27/2019</td>\n",
       "      <td>00:00:00</td>\n",
       "      <td>REGULAR</td>\n",
       "      <td>7035249</td>\n",
       "      <td>2384833</td>\n",
       "    </tr>\n",
       "    <tr>\n",
       "      <th>1</th>\n",
       "      <td>A002</td>\n",
       "      <td>R051</td>\n",
       "      <td>02-00-00</td>\n",
       "      <td>59 ST</td>\n",
       "      <td>NQR456W</td>\n",
       "      <td>BMT</td>\n",
       "      <td>04/27/2019</td>\n",
       "      <td>04:00:00</td>\n",
       "      <td>REGULAR</td>\n",
       "      <td>7035269</td>\n",
       "      <td>2384840</td>\n",
       "    </tr>\n",
       "    <tr>\n",
       "      <th>2</th>\n",
       "      <td>A002</td>\n",
       "      <td>R051</td>\n",
       "      <td>02-00-00</td>\n",
       "      <td>59 ST</td>\n",
       "      <td>NQR456W</td>\n",
       "      <td>BMT</td>\n",
       "      <td>04/27/2019</td>\n",
       "      <td>08:00:00</td>\n",
       "      <td>REGULAR</td>\n",
       "      <td>7035292</td>\n",
       "      <td>2384875</td>\n",
       "    </tr>\n",
       "    <tr>\n",
       "      <th>3</th>\n",
       "      <td>A002</td>\n",
       "      <td>R051</td>\n",
       "      <td>02-00-00</td>\n",
       "      <td>59 ST</td>\n",
       "      <td>NQR456W</td>\n",
       "      <td>BMT</td>\n",
       "      <td>04/27/2019</td>\n",
       "      <td>12:00:00</td>\n",
       "      <td>REGULAR</td>\n",
       "      <td>7035392</td>\n",
       "      <td>2384951</td>\n",
       "    </tr>\n",
       "    <tr>\n",
       "      <th>4</th>\n",
       "      <td>A002</td>\n",
       "      <td>R051</td>\n",
       "      <td>02-00-00</td>\n",
       "      <td>59 ST</td>\n",
       "      <td>NQR456W</td>\n",
       "      <td>BMT</td>\n",
       "      <td>04/27/2019</td>\n",
       "      <td>16:00:00</td>\n",
       "      <td>REGULAR</td>\n",
       "      <td>7035651</td>\n",
       "      <td>2385020</td>\n",
       "    </tr>\n",
       "  </tbody>\n",
       "</table>\n",
       "</div>"
      ],
      "text/plain": [
       "    C/A  UNIT       SCP STATION LINENAME DIVISION        DATE      TIME  \\\n",
       "0  A002  R051  02-00-00   59 ST  NQR456W      BMT  04/27/2019  00:00:00   \n",
       "1  A002  R051  02-00-00   59 ST  NQR456W      BMT  04/27/2019  04:00:00   \n",
       "2  A002  R051  02-00-00   59 ST  NQR456W      BMT  04/27/2019  08:00:00   \n",
       "3  A002  R051  02-00-00   59 ST  NQR456W      BMT  04/27/2019  12:00:00   \n",
       "4  A002  R051  02-00-00   59 ST  NQR456W      BMT  04/27/2019  16:00:00   \n",
       "\n",
       "      DESC  ENTRIES  \\\n",
       "0  REGULAR  7035249   \n",
       "1  REGULAR  7035269   \n",
       "2  REGULAR  7035292   \n",
       "3  REGULAR  7035392   \n",
       "4  REGULAR  7035651   \n",
       "\n",
       "   EXITS                                                                 \n",
       "0                                            2384833                     \n",
       "1                                            2384840                     \n",
       "2                                            2384875                     \n",
       "3                                            2384951                     \n",
       "4                                            2385020                     "
      ]
     },
     "execution_count": 11,
     "metadata": {},
     "output_type": "execute_result"
    }
   ],
   "source": [
    "# Improved code from class discussion\n",
    "\n",
    "def get_data(week_nums):\n",
    "    url = \"http://web.mta.info/developers/data/nyct/turnstile/turnstile_{}.txt\"\n",
    "    df_list = []\n",
    "    for week_num in week_nums:\n",
    "        file_url = url.format(week_num)\n",
    "        df_list.append(pd.read_csv(file_url))\n",
    "    return pd.concat(df_list)\n",
    "\n",
    "week_nums = [190504, 190511, 190518, 190525, 190601, 190608]\n",
    "init_df = get_data(week_nums)\n",
    "init_df.head()\n"
   ]
  },
  {
   "cell_type": "code",
   "execution_count": 22,
   "metadata": {},
   "outputs": [
    {
     "data": {
      "text/plain": [
       "(1231795, 12)"
      ]
     },
     "execution_count": 22,
     "metadata": {},
     "output_type": "execute_result"
    }
   ],
   "source": [
    "init_df.shape"
   ]
  },
  {
   "cell_type": "markdown",
   "metadata": {},
   "source": [
    "### Create A Datetime Column\n",
    "(Project Starter Challenge 2)"
   ]
  },
  {
   "cell_type": "code",
   "execution_count": 12,
   "metadata": {},
   "outputs": [
    {
     "data": {
      "text/html": [
       "<div>\n",
       "<style scoped>\n",
       "    .dataframe tbody tr th:only-of-type {\n",
       "        vertical-align: middle;\n",
       "    }\n",
       "\n",
       "    .dataframe tbody tr th {\n",
       "        vertical-align: top;\n",
       "    }\n",
       "\n",
       "    .dataframe thead th {\n",
       "        text-align: right;\n",
       "    }\n",
       "</style>\n",
       "<table border=\"1\" class=\"dataframe\">\n",
       "  <thead>\n",
       "    <tr style=\"text-align: right;\">\n",
       "      <th></th>\n",
       "      <th>C/A</th>\n",
       "      <th>UNIT</th>\n",
       "      <th>SCP</th>\n",
       "      <th>STATION</th>\n",
       "      <th>LINENAME</th>\n",
       "      <th>DIVISION</th>\n",
       "      <th>DATE</th>\n",
       "      <th>TIME</th>\n",
       "      <th>DESC</th>\n",
       "      <th>ENTRIES</th>\n",
       "      <th>EXITS</th>\n",
       "      <th>DATETIME</th>\n",
       "    </tr>\n",
       "  </thead>\n",
       "  <tbody>\n",
       "    <tr>\n",
       "      <th>0</th>\n",
       "      <td>A002</td>\n",
       "      <td>R051</td>\n",
       "      <td>02-00-00</td>\n",
       "      <td>59 ST</td>\n",
       "      <td>NQR456W</td>\n",
       "      <td>BMT</td>\n",
       "      <td>2019-04-27</td>\n",
       "      <td>2021-01-09 00:00:00</td>\n",
       "      <td>REGULAR</td>\n",
       "      <td>7035249</td>\n",
       "      <td>2384833</td>\n",
       "      <td>2019-04-27 00:00:00</td>\n",
       "    </tr>\n",
       "    <tr>\n",
       "      <th>1</th>\n",
       "      <td>A002</td>\n",
       "      <td>R051</td>\n",
       "      <td>02-00-00</td>\n",
       "      <td>59 ST</td>\n",
       "      <td>NQR456W</td>\n",
       "      <td>BMT</td>\n",
       "      <td>2019-04-27</td>\n",
       "      <td>2021-01-09 04:00:00</td>\n",
       "      <td>REGULAR</td>\n",
       "      <td>7035269</td>\n",
       "      <td>2384840</td>\n",
       "      <td>2019-04-27 04:00:00</td>\n",
       "    </tr>\n",
       "    <tr>\n",
       "      <th>2</th>\n",
       "      <td>A002</td>\n",
       "      <td>R051</td>\n",
       "      <td>02-00-00</td>\n",
       "      <td>59 ST</td>\n",
       "      <td>NQR456W</td>\n",
       "      <td>BMT</td>\n",
       "      <td>2019-04-27</td>\n",
       "      <td>2021-01-09 08:00:00</td>\n",
       "      <td>REGULAR</td>\n",
       "      <td>7035292</td>\n",
       "      <td>2384875</td>\n",
       "      <td>2019-04-27 08:00:00</td>\n",
       "    </tr>\n",
       "    <tr>\n",
       "      <th>3</th>\n",
       "      <td>A002</td>\n",
       "      <td>R051</td>\n",
       "      <td>02-00-00</td>\n",
       "      <td>59 ST</td>\n",
       "      <td>NQR456W</td>\n",
       "      <td>BMT</td>\n",
       "      <td>2019-04-27</td>\n",
       "      <td>2021-01-09 12:00:00</td>\n",
       "      <td>REGULAR</td>\n",
       "      <td>7035392</td>\n",
       "      <td>2384951</td>\n",
       "      <td>2019-04-27 12:00:00</td>\n",
       "    </tr>\n",
       "    <tr>\n",
       "      <th>4</th>\n",
       "      <td>A002</td>\n",
       "      <td>R051</td>\n",
       "      <td>02-00-00</td>\n",
       "      <td>59 ST</td>\n",
       "      <td>NQR456W</td>\n",
       "      <td>BMT</td>\n",
       "      <td>2019-04-27</td>\n",
       "      <td>2021-01-09 16:00:00</td>\n",
       "      <td>REGULAR</td>\n",
       "      <td>7035651</td>\n",
       "      <td>2385020</td>\n",
       "      <td>2019-04-27 16:00:00</td>\n",
       "    </tr>\n",
       "  </tbody>\n",
       "</table>\n",
       "</div>"
      ],
      "text/plain": [
       "    C/A  UNIT       SCP STATION LINENAME DIVISION       DATE  \\\n",
       "0  A002  R051  02-00-00   59 ST  NQR456W      BMT 2019-04-27   \n",
       "1  A002  R051  02-00-00   59 ST  NQR456W      BMT 2019-04-27   \n",
       "2  A002  R051  02-00-00   59 ST  NQR456W      BMT 2019-04-27   \n",
       "3  A002  R051  02-00-00   59 ST  NQR456W      BMT 2019-04-27   \n",
       "4  A002  R051  02-00-00   59 ST  NQR456W      BMT 2019-04-27   \n",
       "\n",
       "                 TIME     DESC  ENTRIES  \\\n",
       "0 2021-01-09 00:00:00  REGULAR  7035249   \n",
       "1 2021-01-09 04:00:00  REGULAR  7035269   \n",
       "2 2021-01-09 08:00:00  REGULAR  7035292   \n",
       "3 2021-01-09 12:00:00  REGULAR  7035392   \n",
       "4 2021-01-09 16:00:00  REGULAR  7035651   \n",
       "\n",
       "   EXITS                                                                 \\\n",
       "0                                            2384833                      \n",
       "1                                            2384840                      \n",
       "2                                            2384875                      \n",
       "3                                            2384951                      \n",
       "4                                            2385020                      \n",
       "\n",
       "             DATETIME  \n",
       "0 2019-04-27 00:00:00  \n",
       "1 2019-04-27 04:00:00  \n",
       "2 2019-04-27 08:00:00  \n",
       "3 2019-04-27 12:00:00  \n",
       "4 2019-04-27 16:00:00  "
      ]
     },
     "execution_count": 12,
     "metadata": {},
     "output_type": "execute_result"
    }
   ],
   "source": [
    "init_df['DATETIME'] = init_df['DATE'] + ' ' + init_df['TIME']\n",
    "init_df['DATETIME'] = pd.to_datetime(init_df['DATETIME'])\n",
    "\n",
    "init_df['DATE'] = pd.to_datetime(init_df['DATE'])\n",
    "init_df['TIME'] = pd.to_datetime(init_df['TIME'])\n",
    "init_df.head()"
   ]
  },
  {
   "cell_type": "code",
   "execution_count": 17,
   "metadata": {},
   "outputs": [
    {
     "name": "stdout",
     "output_type": "stream",
     "text": [
      "['C/A', 'UNIT', 'SCP', 'STATION', 'LINENAME', 'DIVISION', 'DATE', 'TIME', 'DESC', 'ENTRIES', 'EXITS                                                               ', 'DATETIME']\n"
     ]
    }
   ],
   "source": [
    "# clean up columns and column names\n",
    "col_list = list(init_df.columns)\n",
    "print(col_list)"
   ]
  },
  {
   "cell_type": "code",
   "execution_count": 18,
   "metadata": {},
   "outputs": [],
   "source": [
    "col_list = ['C/A', 'UNIT', 'SCP', 'STATION', 'LINENAME', 'DIVISION',\n",
    "            'DATE', 'TIME', 'DESC', 'ENTRIES', 'EXITS', 'DATETIME']"
   ]
  },
  {
   "cell_type": "code",
   "execution_count": 19,
   "metadata": {},
   "outputs": [],
   "source": [
    "init_df.columns = col_list"
   ]
  },
  {
   "cell_type": "markdown",
   "metadata": {},
   "source": [
    "### Daily Entries For Each Turnstile\n",
    "(Project Starter Challenge 3)\n",
    "\n",
    "Group the data to represent daily entries for each turnstile, grouped by the combination of control area, remote unit, SCP, and station."
   ]
  },
  {
   "cell_type": "code",
   "execution_count": 26,
   "metadata": {},
   "outputs": [
    {
     "data": {
      "text/html": [
       "<div>\n",
       "<style scoped>\n",
       "    .dataframe tbody tr th:only-of-type {\n",
       "        vertical-align: middle;\n",
       "    }\n",
       "\n",
       "    .dataframe tbody tr th {\n",
       "        vertical-align: top;\n",
       "    }\n",
       "\n",
       "    .dataframe thead th {\n",
       "        text-align: right;\n",
       "    }\n",
       "</style>\n",
       "<table border=\"1\" class=\"dataframe\">\n",
       "  <thead>\n",
       "    <tr style=\"text-align: right;\">\n",
       "      <th></th>\n",
       "      <th>C/A</th>\n",
       "      <th>UNIT</th>\n",
       "      <th>SCP</th>\n",
       "      <th>STATION</th>\n",
       "      <th>DATETIME</th>\n",
       "      <th>ENTRIES</th>\n",
       "      <th>EXITS</th>\n",
       "    </tr>\n",
       "  </thead>\n",
       "  <tbody>\n",
       "    <tr>\n",
       "      <th>0</th>\n",
       "      <td>A002</td>\n",
       "      <td>R051</td>\n",
       "      <td>02-00-00</td>\n",
       "      <td>59 ST</td>\n",
       "      <td>2019-04-27 00:00:00</td>\n",
       "      <td>7035249</td>\n",
       "      <td>2384833</td>\n",
       "    </tr>\n",
       "    <tr>\n",
       "      <th>1</th>\n",
       "      <td>A002</td>\n",
       "      <td>R051</td>\n",
       "      <td>02-00-00</td>\n",
       "      <td>59 ST</td>\n",
       "      <td>2019-04-27 04:00:00</td>\n",
       "      <td>7035269</td>\n",
       "      <td>2384840</td>\n",
       "    </tr>\n",
       "    <tr>\n",
       "      <th>2</th>\n",
       "      <td>A002</td>\n",
       "      <td>R051</td>\n",
       "      <td>02-00-00</td>\n",
       "      <td>59 ST</td>\n",
       "      <td>2019-04-27 08:00:00</td>\n",
       "      <td>7035292</td>\n",
       "      <td>2384875</td>\n",
       "    </tr>\n",
       "    <tr>\n",
       "      <th>3</th>\n",
       "      <td>A002</td>\n",
       "      <td>R051</td>\n",
       "      <td>02-00-00</td>\n",
       "      <td>59 ST</td>\n",
       "      <td>2019-04-27 12:00:00</td>\n",
       "      <td>7035392</td>\n",
       "      <td>2384951</td>\n",
       "    </tr>\n",
       "    <tr>\n",
       "      <th>4</th>\n",
       "      <td>A002</td>\n",
       "      <td>R051</td>\n",
       "      <td>02-00-00</td>\n",
       "      <td>59 ST</td>\n",
       "      <td>2019-04-27 16:00:00</td>\n",
       "      <td>7035651</td>\n",
       "      <td>2385020</td>\n",
       "    </tr>\n",
       "  </tbody>\n",
       "</table>\n",
       "</div>"
      ],
      "text/plain": [
       "    C/A  UNIT       SCP STATION            DATETIME  ENTRIES    EXITS\n",
       "0  A002  R051  02-00-00   59 ST 2019-04-27 00:00:00  7035249  2384833\n",
       "1  A002  R051  02-00-00   59 ST 2019-04-27 04:00:00  7035269  2384840\n",
       "2  A002  R051  02-00-00   59 ST 2019-04-27 08:00:00  7035292  2384875\n",
       "3  A002  R051  02-00-00   59 ST 2019-04-27 12:00:00  7035392  2384951\n",
       "4  A002  R051  02-00-00   59 ST 2019-04-27 16:00:00  7035651  2385020"
      ]
     },
     "execution_count": 26,
     "metadata": {},
     "output_type": "execute_result"
    }
   ],
   "source": [
    "daily_ts_df = init_df.groupby(['C/A', 'UNIT', 'SCP', 'STATION', 'DATETIME'])\\\n",
    ".agg('sum').reset_index()\n",
    "daily_ts_df.head()"
   ]
  },
  {
   "cell_type": "markdown",
   "metadata": {},
   "source": [
    "The output of this daily entries and exits groupby indicates that the `ENTRIES` column is a cumulative running total, and not the number of entries per individual date.\n",
    "\n",
    "Using the code from the in-class discussion, we attempted to confirm that there were no duplicate datetimes.  However, our group code still missed the duplicate entries.  This groupby should have been done on our initial imported data, not on our already completed daily entries groupby.  Below are both our original code and the correct code to find the duplicates."
   ]
  },
  {
   "cell_type": "code",
   "execution_count": 23,
   "metadata": {},
   "outputs": [
    {
     "data": {
      "text/html": [
       "<div>\n",
       "<style scoped>\n",
       "    .dataframe tbody tr th:only-of-type {\n",
       "        vertical-align: middle;\n",
       "    }\n",
       "\n",
       "    .dataframe tbody tr th {\n",
       "        vertical-align: top;\n",
       "    }\n",
       "\n",
       "    .dataframe thead th {\n",
       "        text-align: right;\n",
       "    }\n",
       "</style>\n",
       "<table border=\"1\" class=\"dataframe\">\n",
       "  <thead>\n",
       "    <tr style=\"text-align: right;\">\n",
       "      <th></th>\n",
       "      <th>C/A</th>\n",
       "      <th>UNIT</th>\n",
       "      <th>SCP</th>\n",
       "      <th>STATION</th>\n",
       "      <th>DATETIME</th>\n",
       "      <th>ENTRIES</th>\n",
       "    </tr>\n",
       "  </thead>\n",
       "  <tbody>\n",
       "    <tr>\n",
       "      <th>0</th>\n",
       "      <td>A002</td>\n",
       "      <td>R051</td>\n",
       "      <td>02-00-00</td>\n",
       "      <td>59 ST</td>\n",
       "      <td>2019-04-27 00:00:00</td>\n",
       "      <td>1</td>\n",
       "    </tr>\n",
       "    <tr>\n",
       "      <th>821194</th>\n",
       "      <td>R143</td>\n",
       "      <td>R032</td>\n",
       "      <td>02-00-01</td>\n",
       "      <td>TIMES SQ-42 ST</td>\n",
       "      <td>2019-05-11 04:00:00</td>\n",
       "      <td>1</td>\n",
       "    </tr>\n",
       "    <tr>\n",
       "      <th>821192</th>\n",
       "      <td>R143</td>\n",
       "      <td>R032</td>\n",
       "      <td>02-00-01</td>\n",
       "      <td>TIMES SQ-42 ST</td>\n",
       "      <td>2019-05-10 20:00:00</td>\n",
       "      <td>1</td>\n",
       "    </tr>\n",
       "    <tr>\n",
       "      <th>821191</th>\n",
       "      <td>R143</td>\n",
       "      <td>R032</td>\n",
       "      <td>02-00-01</td>\n",
       "      <td>TIMES SQ-42 ST</td>\n",
       "      <td>2019-05-10 16:00:00</td>\n",
       "      <td>1</td>\n",
       "    </tr>\n",
       "    <tr>\n",
       "      <th>821190</th>\n",
       "      <td>R143</td>\n",
       "      <td>R032</td>\n",
       "      <td>02-00-01</td>\n",
       "      <td>TIMES SQ-42 ST</td>\n",
       "      <td>2019-05-10 12:00:00</td>\n",
       "      <td>1</td>\n",
       "    </tr>\n",
       "  </tbody>\n",
       "</table>\n",
       "</div>"
      ],
      "text/plain": [
       "         C/A  UNIT       SCP         STATION            DATETIME  ENTRIES\n",
       "0       A002  R051  02-00-00           59 ST 2019-04-27 00:00:00        1\n",
       "821194  R143  R032  02-00-01  TIMES SQ-42 ST 2019-05-11 04:00:00        1\n",
       "821192  R143  R032  02-00-01  TIMES SQ-42 ST 2019-05-10 20:00:00        1\n",
       "821191  R143  R032  02-00-01  TIMES SQ-42 ST 2019-05-10 16:00:00        1\n",
       "821190  R143  R032  02-00-01  TIMES SQ-42 ST 2019-05-10 12:00:00        1"
      ]
     },
     "execution_count": 23,
     "metadata": {},
     "output_type": "execute_result"
    }
   ],
   "source": [
    "# group code from in-class solution\n",
    "# *BUT* still misses the duplicate entries\n",
    "\n",
    "(daily_ts_df.groupby(['C/A', 'UNIT', 'SCP', 'STATION', 'DATETIME'])\n",
    ".ENTRIES.count()\n",
    ".reset_index()\n",
    ".sort_values('ENTRIES', ascending=False)).head()"
   ]
  },
  {
   "cell_type": "code",
   "execution_count": null,
   "metadata": {},
   "outputs": [],
   "source": [
    "# correct code to find duplicate entries\n",
    "\n",
    "# (init_df.groupby(['C/A', 'UNIT', 'SCP', 'STATION', 'DATETIME'])\n",
    "# .ENTRIES.count()\n",
    "# .reset_index()\n",
    "# .sort_values('ENTRIES', ascending=False)).head()"
   ]
  },
  {
   "cell_type": "markdown",
   "metadata": {},
   "source": [
    "Since the `ENTRIES` column is a running total, we must subtract the previous day's entries from the current day's entries in order to obtain the actual daily entries number per turnstile per day.  \n",
    "\n",
    "To avoid duplication per date, we take the first `ENTRIES` count per day, create a `PREV_ENTRIES` column, shift that column by one row, and then subtract."
   ]
  },
  {
   "cell_type": "code",
   "execution_count": 35,
   "metadata": {},
   "outputs": [
    {
     "data": {
      "text/html": [
       "<div>\n",
       "<style scoped>\n",
       "    .dataframe tbody tr th:only-of-type {\n",
       "        vertical-align: middle;\n",
       "    }\n",
       "\n",
       "    .dataframe tbody tr th {\n",
       "        vertical-align: top;\n",
       "    }\n",
       "\n",
       "    .dataframe thead th {\n",
       "        text-align: right;\n",
       "    }\n",
       "</style>\n",
       "<table border=\"1\" class=\"dataframe\">\n",
       "  <thead>\n",
       "    <tr style=\"text-align: right;\">\n",
       "      <th></th>\n",
       "      <th>C/A</th>\n",
       "      <th>UNIT</th>\n",
       "      <th>SCP</th>\n",
       "      <th>STATION</th>\n",
       "      <th>DATE</th>\n",
       "      <th>ENTRIES</th>\n",
       "    </tr>\n",
       "  </thead>\n",
       "  <tbody>\n",
       "    <tr>\n",
       "      <th>0</th>\n",
       "      <td>A002</td>\n",
       "      <td>R051</td>\n",
       "      <td>02-00-00</td>\n",
       "      <td>59 ST</td>\n",
       "      <td>2019-04-27</td>\n",
       "      <td>7035249</td>\n",
       "    </tr>\n",
       "    <tr>\n",
       "      <th>1</th>\n",
       "      <td>A002</td>\n",
       "      <td>R051</td>\n",
       "      <td>02-00-00</td>\n",
       "      <td>59 ST</td>\n",
       "      <td>2019-04-28</td>\n",
       "      <td>7036100</td>\n",
       "    </tr>\n",
       "    <tr>\n",
       "      <th>2</th>\n",
       "      <td>A002</td>\n",
       "      <td>R051</td>\n",
       "      <td>02-00-00</td>\n",
       "      <td>59 ST</td>\n",
       "      <td>2019-04-29</td>\n",
       "      <td>7036746</td>\n",
       "    </tr>\n",
       "    <tr>\n",
       "      <th>3</th>\n",
       "      <td>A002</td>\n",
       "      <td>R051</td>\n",
       "      <td>02-00-00</td>\n",
       "      <td>59 ST</td>\n",
       "      <td>2019-04-30</td>\n",
       "      <td>7038242</td>\n",
       "    </tr>\n",
       "    <tr>\n",
       "      <th>4</th>\n",
       "      <td>A002</td>\n",
       "      <td>R051</td>\n",
       "      <td>02-00-00</td>\n",
       "      <td>59 ST</td>\n",
       "      <td>2019-05-01</td>\n",
       "      <td>7039729</td>\n",
       "    </tr>\n",
       "  </tbody>\n",
       "</table>\n",
       "</div>"
      ],
      "text/plain": [
       "    C/A  UNIT       SCP STATION       DATE  ENTRIES\n",
       "0  A002  R051  02-00-00   59 ST 2019-04-27  7035249\n",
       "1  A002  R051  02-00-00   59 ST 2019-04-28  7036100\n",
       "2  A002  R051  02-00-00   59 ST 2019-04-29  7036746\n",
       "3  A002  R051  02-00-00   59 ST 2019-04-30  7038242\n",
       "4  A002  R051  02-00-00   59 ST 2019-05-01  7039729"
      ]
     },
     "execution_count": 35,
     "metadata": {},
     "output_type": "execute_result"
    }
   ],
   "source": [
    "# taking first entry for every day\n",
    "\n",
    "df_daily = (init_df.groupby(['C/A', 'UNIT', 'SCP', 'STATION', 'DATE'], as_index = False)\\\n",
    "            .ENTRIES.first())\n",
    "df_daily.head()"
   ]
  },
  {
   "cell_type": "code",
   "execution_count": 36,
   "metadata": {},
   "outputs": [
    {
     "name": "stderr",
     "output_type": "stream",
     "text": [
      "<ipython-input-36-2d8d0dcc5183>:2: FutureWarning: Indexing with multiple keys (implicitly converted to a tuple of keys) will be deprecated, use a list instead.\n",
      "  (df_daily.groupby(['C/A', 'UNIT', 'SCP', 'STATION'])['DATE', 'ENTRIES']\n"
     ]
    }
   ],
   "source": [
    "df_daily[['PREV_DATE', 'PREV_ENTRIES']] = \\\n",
    "    (df_daily.groupby(['C/A', 'UNIT', 'SCP', 'STATION'])['DATE', 'ENTRIES']\n",
    "     .apply(lambda grp: grp.shift(1)))\n"
   ]
  },
  {
   "cell_type": "markdown",
   "metadata": {},
   "source": [
    "This leaves an initial entry for each week period for which there is no `PREV_DATE` or `PREV_ENTRIES` to subtract.  So we drop these rows with `NaN` values in the `PREV_DATE` column.  Then we use a function to iterate through the rows and subtract to get the actual daily entries amounts."
   ]
  },
  {
   "cell_type": "code",
   "execution_count": 37,
   "metadata": {},
   "outputs": [
    {
     "name": "stdout",
     "output_type": "stream",
     "text": [
      "(203009, 8)\n",
      "(198127, 8)\n"
     ]
    }
   ],
   "source": [
    "print(df_daily.shape)\n",
    "# drop rows for earliest date in df\n",
    "df_daily.dropna(subset=['PREV_DATE'], axis = 0, inplace=True)\n",
    "print(df_daily.shape)\n"
   ]
  },
  {
   "cell_type": "code",
   "execution_count": 38,
   "metadata": {},
   "outputs": [],
   "source": [
    "def get_daily_counts(row, max_counter):\n",
    "    counter = row[\"ENTRIES\"] - row[\"PREV_ENTRIES\"]\n",
    "    if counter < 0:\n",
    "        # Maybe counter is reversed?\n",
    "        counter = -counter\n",
    "    if counter > max_counter:\n",
    "        # Maybe counter was reset to 0? \n",
    "        print(row[\"ENTRIES\"], row[\"PREV_ENTRIES\"])\n",
    "        counter = min(row[\"ENTRIES\"], row[\"PREV_ENTRIES\"])\n",
    "    if counter > max_counter:\n",
    "        # Check it again to make sure we're not still giving a counter that's too big\n",
    "        return 0\n",
    "    return counter"
   ]
  },
  {
   "cell_type": "code",
   "execution_count": 39,
   "metadata": {},
   "outputs": [
    {
     "name": "stdout",
     "output_type": "stream",
     "text": [
      "158 1087620.0\n",
      "482 4317177.0\n",
      "107 7245002.0\n",
      "4050695 5903004.0\n",
      "7246468 4050451.0\n",
      "882 15418815.0\n",
      "1435 4767402.0\n",
      "335092671 3422305.0\n",
      "412 3073070.0\n",
      "161 4605408.0\n",
      "681 6527713.0\n",
      "569320813 4807409.0\n",
      "279 9029146.0\n",
      "65536 839317244.0\n",
      "184608117 746094.0\n",
      "80 2586370.0\n",
      "238 2898346.0\n",
      "50 1544092.0\n",
      "607 3912014.0\n",
      "196614 2998692.0\n",
      "514 3755842.0\n",
      "8 2020892.0\n",
      "3003 6999467.0\n",
      "408 8876564.0\n",
      "1178879075 4471988.0\n",
      "149 1252884.0\n",
      "4666 2201975.0\n",
      "14 1327005.0\n",
      "196633 68461839.0\n",
      "200 36966261.0\n",
      "1017 2357557.0\n",
      "12 4887309.0\n",
      "7 9441168.0\n",
      "1058702 102390686.0\n",
      "393355 1661809141.0\n",
      "10 7602347.0\n",
      "1463 1068632.0\n",
      "29 6332751.0\n",
      "30933207 6069289.0\n",
      "71 7192933.0\n",
      "115 12739117.0\n",
      "1122 6546797.0\n",
      "16779493 81157.0\n",
      "637574909 2502854.0\n",
      "231 637595004.0\n",
      "68859156 436510383.0\n",
      "607126914 594465.0\n",
      "140397413 1577638340.0\n",
      "458752 100663296.0\n",
      "23 203977549.0\n",
      "452993428 1830432.0\n",
      "259 7480462.0\n",
      "20 3000575.0\n",
      "683737068 458752.0\n",
      "905996437 3558247.0\n",
      "0 5176463.0\n",
      "7 13653544.0\n",
      "182 10462950.0\n",
      "2063649382 8123310.0\n",
      "1129054878 2501599.0\n"
     ]
    },
    {
     "data": {
      "text/html": [
       "<div>\n",
       "<style scoped>\n",
       "    .dataframe tbody tr th:only-of-type {\n",
       "        vertical-align: middle;\n",
       "    }\n",
       "\n",
       "    .dataframe tbody tr th {\n",
       "        vertical-align: top;\n",
       "    }\n",
       "\n",
       "    .dataframe thead th {\n",
       "        text-align: right;\n",
       "    }\n",
       "</style>\n",
       "<table border=\"1\" class=\"dataframe\">\n",
       "  <thead>\n",
       "    <tr style=\"text-align: right;\">\n",
       "      <th></th>\n",
       "      <th>C/A</th>\n",
       "      <th>UNIT</th>\n",
       "      <th>SCP</th>\n",
       "      <th>STATION</th>\n",
       "      <th>DATE</th>\n",
       "      <th>ENTRIES</th>\n",
       "      <th>PREV_DATE</th>\n",
       "      <th>PREV_ENTRIES</th>\n",
       "      <th>DAILY_ENTRIES</th>\n",
       "    </tr>\n",
       "  </thead>\n",
       "  <tbody>\n",
       "    <tr>\n",
       "      <th>1</th>\n",
       "      <td>A002</td>\n",
       "      <td>R051</td>\n",
       "      <td>02-00-00</td>\n",
       "      <td>59 ST</td>\n",
       "      <td>2019-04-28</td>\n",
       "      <td>7036100</td>\n",
       "      <td>2019-04-27</td>\n",
       "      <td>7.04e+06</td>\n",
       "      <td>851.0</td>\n",
       "    </tr>\n",
       "    <tr>\n",
       "      <th>2</th>\n",
       "      <td>A002</td>\n",
       "      <td>R051</td>\n",
       "      <td>02-00-00</td>\n",
       "      <td>59 ST</td>\n",
       "      <td>2019-04-29</td>\n",
       "      <td>7036746</td>\n",
       "      <td>2019-04-28</td>\n",
       "      <td>7.04e+06</td>\n",
       "      <td>646.0</td>\n",
       "    </tr>\n",
       "    <tr>\n",
       "      <th>3</th>\n",
       "      <td>A002</td>\n",
       "      <td>R051</td>\n",
       "      <td>02-00-00</td>\n",
       "      <td>59 ST</td>\n",
       "      <td>2019-04-30</td>\n",
       "      <td>7038242</td>\n",
       "      <td>2019-04-29</td>\n",
       "      <td>7.04e+06</td>\n",
       "      <td>1496.0</td>\n",
       "    </tr>\n",
       "    <tr>\n",
       "      <th>4</th>\n",
       "      <td>A002</td>\n",
       "      <td>R051</td>\n",
       "      <td>02-00-00</td>\n",
       "      <td>59 ST</td>\n",
       "      <td>2019-05-01</td>\n",
       "      <td>7039729</td>\n",
       "      <td>2019-04-30</td>\n",
       "      <td>7.04e+06</td>\n",
       "      <td>1487.0</td>\n",
       "    </tr>\n",
       "    <tr>\n",
       "      <th>5</th>\n",
       "      <td>A002</td>\n",
       "      <td>R051</td>\n",
       "      <td>02-00-00</td>\n",
       "      <td>59 ST</td>\n",
       "      <td>2019-05-02</td>\n",
       "      <td>7041303</td>\n",
       "      <td>2019-05-01</td>\n",
       "      <td>7.04e+06</td>\n",
       "      <td>1574.0</td>\n",
       "    </tr>\n",
       "  </tbody>\n",
       "</table>\n",
       "</div>"
      ],
      "text/plain": [
       "    C/A  UNIT       SCP STATION       DATE  ENTRIES  PREV_DATE  PREV_ENTRIES  \\\n",
       "1  A002  R051  02-00-00   59 ST 2019-04-28  7036100 2019-04-27      7.04e+06   \n",
       "2  A002  R051  02-00-00   59 ST 2019-04-29  7036746 2019-04-28      7.04e+06   \n",
       "3  A002  R051  02-00-00   59 ST 2019-04-30  7038242 2019-04-29      7.04e+06   \n",
       "4  A002  R051  02-00-00   59 ST 2019-05-01  7039729 2019-04-30      7.04e+06   \n",
       "5  A002  R051  02-00-00   59 ST 2019-05-02  7041303 2019-05-01      7.04e+06   \n",
       "\n",
       "   DAILY_ENTRIES  \n",
       "1          851.0  \n",
       "2          646.0  \n",
       "3         1496.0  \n",
       "4         1487.0  \n",
       "5         1574.0  "
      ]
     },
     "execution_count": 39,
     "metadata": {},
     "output_type": "execute_result"
    }
   ],
   "source": [
    "df_daily['DAILY_ENTRIES'] = df_daily.apply(get_daily_counts, axis=1, max_counter=1000000)\n",
    "# df_daily[df_daily.DAILY_ENTRIES == df_daily.DAILY_ENTRIES.max()]\n",
    "df_daily.head()"
   ]
  },
  {
   "cell_type": "markdown",
   "metadata": {},
   "source": [
    "### Plotting The Daily Time Series For A Single Turnstile\n",
    "Project Starter Challenge 4"
   ]
  },
  {
   "cell_type": "code",
   "execution_count": 48,
   "metadata": {},
   "outputs": [
    {
     "data": {
      "text/plain": [
       "array(['R045', 'R046', 'R047', 'R048'], dtype=object)"
      ]
     },
     "execution_count": 48,
     "metadata": {},
     "output_type": "execute_result"
    }
   ],
   "source": [
    "df_daily[df_daily.STATION == 'GRD CNTRL-42 ST'].UNIT.unique()"
   ]
  },
  {
   "cell_type": "code",
   "execution_count": 49,
   "metadata": {},
   "outputs": [
    {
     "data": {
      "text/plain": [
       "array(['R236', 'R237', 'R237B', 'R238', 'R238A', 'R240', 'R241A'],\n",
       "      dtype=object)"
      ]
     },
     "execution_count": 49,
     "metadata": {},
     "output_type": "execute_result"
    }
   ],
   "source": [
    "df_daily[df_daily.STATION == 'GRD CNTRL-42 ST']['C/A'].unique()"
   ]
  },
  {
   "cell_type": "code",
   "execution_count": 50,
   "metadata": {},
   "outputs": [
    {
     "data": {
      "text/plain": [
       "array(['00-00-00', '00-00-01', '00-00-02', '00-00-03', '00-00-04',\n",
       "       '00-00-05', '00-03-00', '00-03-01', '00-03-02', '00-03-03',\n",
       "       '00-06-00', '00-06-01', '01-00-00', '01-00-01', '01-00-02',\n",
       "       '01-00-03', '01-00-04', '01-00-05', '01-00-06', '00-00-06',\n",
       "       '00-00-07', '00-03-04', '00-05-00', '00-05-01', '00-06-02',\n",
       "       '02-00-00', '02-00-01', '02-00-02', '02-00-03', '02-00-04',\n",
       "       '02-03-00', '02-03-01', '02-03-02', '00-03-05', '00-03-06',\n",
       "       '00-03-07', '00-03-08'], dtype=object)"
      ]
     },
     "execution_count": 50,
     "metadata": {},
     "output_type": "execute_result"
    }
   ],
   "source": [
    "df_daily[df_daily.STATION == 'GRD CNTRL-42 ST'].SCP.unique()"
   ]
  },
  {
   "cell_type": "code",
   "execution_count": 46,
   "metadata": {},
   "outputs": [],
   "source": [
    "single_turn = df_daily[(df_daily['C/A'] =='R236') & \\\n",
    "                       (df_daily['UNIT'] =='R045') & \\\n",
    "                       (df_daily['SCP'] == '00-00-00') & \\\n",
    "                       (df_daily['STATION'] == 'GRD CNTRL-42 ST')]"
   ]
  },
  {
   "cell_type": "code",
   "execution_count": 47,
   "metadata": {},
   "outputs": [
    {
     "data": {
      "image/png": "[encoded data removed]",
      "text/plain": [
       "<Figure size 720x216 with 1 Axes>"
      ]
     },
     "metadata": {
      "needs_background": "light"
     },
     "output_type": "display_data"
    }
   ],
   "source": [
    "plt.figure(figsize=(10,3))\n",
    "plt.plot(single_turn['DATE'], single_turn['DAILY_ENTRIES']);"
   ]
  },
  {
   "cell_type": "markdown",
   "metadata": {},
   "source": [
    "### Combining Turnstiles In The Same Control Area/Unit/Station Combo\n",
    "(Project Starter Challenge 5)"
   ]
  },
  {
   "cell_type": "code",
   "execution_count": 61,
   "metadata": {},
   "outputs": [],
   "source": [
    "df_combo = df_daily.groupby(['C/A', 'UNIT', 'STATION', 'DATE']).agg({\n",
    "    'DAILY_ENTRIES': 'sum',\n",
    "    'PREV_ENTRIES': 'sum',\n",
    "    'ENTRIES':'sum'}).reset_index()"
   ]
  },
  {
   "cell_type": "code",
   "execution_count": 62,
   "metadata": {},
   "outputs": [
    {
     "data": {
      "text/html": [
       "<div>\n",
       "<style scoped>\n",
       "    .dataframe tbody tr th:only-of-type {\n",
       "        vertical-align: middle;\n",
       "    }\n",
       "\n",
       "    .dataframe tbody tr th {\n",
       "        vertical-align: top;\n",
       "    }\n",
       "\n",
       "    .dataframe thead th {\n",
       "        text-align: right;\n",
       "    }\n",
       "</style>\n",
       "<table border=\"1\" class=\"dataframe\">\n",
       "  <thead>\n",
       "    <tr style=\"text-align: right;\">\n",
       "      <th></th>\n",
       "      <th>C/A</th>\n",
       "      <th>UNIT</th>\n",
       "      <th>STATION</th>\n",
       "      <th>DATE</th>\n",
       "      <th>DAILY_ENTRIES</th>\n",
       "      <th>PREV_ENTRIES</th>\n",
       "      <th>ENTRIES</th>\n",
       "    </tr>\n",
       "  </thead>\n",
       "  <tbody>\n",
       "    <tr>\n",
       "      <th>0</th>\n",
       "      <td>A002</td>\n",
       "      <td>R051</td>\n",
       "      <td>59 ST</td>\n",
       "      <td>2019-04-28</td>\n",
       "      <td>8394.0</td>\n",
       "      <td>5.51e+07</td>\n",
       "      <td>55118106</td>\n",
       "    </tr>\n",
       "    <tr>\n",
       "      <th>1</th>\n",
       "      <td>A002</td>\n",
       "      <td>R051</td>\n",
       "      <td>59 ST</td>\n",
       "      <td>2019-04-29</td>\n",
       "      <td>6337.0</td>\n",
       "      <td>5.51e+07</td>\n",
       "      <td>55124443</td>\n",
       "    </tr>\n",
       "    <tr>\n",
       "      <th>2</th>\n",
       "      <td>A002</td>\n",
       "      <td>R051</td>\n",
       "      <td>59 ST</td>\n",
       "      <td>2019-04-30</td>\n",
       "      <td>13132.0</td>\n",
       "      <td>5.51e+07</td>\n",
       "      <td>55137575</td>\n",
       "    </tr>\n",
       "    <tr>\n",
       "      <th>3</th>\n",
       "      <td>A002</td>\n",
       "      <td>R051</td>\n",
       "      <td>59 ST</td>\n",
       "      <td>2019-05-01</td>\n",
       "      <td>13664.0</td>\n",
       "      <td>5.51e+07</td>\n",
       "      <td>55151239</td>\n",
       "    </tr>\n",
       "    <tr>\n",
       "      <th>4</th>\n",
       "      <td>A002</td>\n",
       "      <td>R051</td>\n",
       "      <td>59 ST</td>\n",
       "      <td>2019-05-02</td>\n",
       "      <td>13748.0</td>\n",
       "      <td>5.52e+07</td>\n",
       "      <td>55164987</td>\n",
       "    </tr>\n",
       "  </tbody>\n",
       "</table>\n",
       "</div>"
      ],
      "text/plain": [
       "    C/A  UNIT STATION       DATE  DAILY_ENTRIES  PREV_ENTRIES   ENTRIES\n",
       "0  A002  R051   59 ST 2019-04-28         8394.0      5.51e+07  55118106\n",
       "1  A002  R051   59 ST 2019-04-29         6337.0      5.51e+07  55124443\n",
       "2  A002  R051   59 ST 2019-04-30        13132.0      5.51e+07  55137575\n",
       "3  A002  R051   59 ST 2019-05-01        13664.0      5.51e+07  55151239\n",
       "4  A002  R051   59 ST 2019-05-02        13748.0      5.52e+07  55164987"
      ]
     },
     "execution_count": 62,
     "metadata": {},
     "output_type": "execute_result"
    }
   ],
   "source": [
    "df_combo.head()"
   ]
  },
  {
   "cell_type": "markdown",
   "metadata": {},
   "source": [
    "### Combining All Turnstiles In Each Station\n",
    "(Project Starter Challenge 6)"
   ]
  },
  {
   "cell_type": "code",
   "execution_count": 64,
   "metadata": {},
   "outputs": [],
   "source": [
    "df_sta_combo = df_daily.groupby(['STATION', 'DATE']).agg({\n",
    "    'DAILY_ENTRIES': 'sum',\n",
    "    'PREV_ENTRIES': 'sum',\n",
    "    'ENTRIES':'sum'}).reset_index()"
   ]
  },
  {
   "cell_type": "code",
   "execution_count": 65,
   "metadata": {},
   "outputs": [
    {
     "data": {
      "text/html": [
       "<div>\n",
       "<style scoped>\n",
       "    .dataframe tbody tr th:only-of-type {\n",
       "        vertical-align: middle;\n",
       "    }\n",
       "\n",
       "    .dataframe tbody tr th {\n",
       "        vertical-align: top;\n",
       "    }\n",
       "\n",
       "    .dataframe thead th {\n",
       "        text-align: right;\n",
       "    }\n",
       "</style>\n",
       "<table border=\"1\" class=\"dataframe\">\n",
       "  <thead>\n",
       "    <tr style=\"text-align: right;\">\n",
       "      <th></th>\n",
       "      <th>STATION</th>\n",
       "      <th>DATE</th>\n",
       "      <th>DAILY_ENTRIES</th>\n",
       "      <th>PREV_ENTRIES</th>\n",
       "      <th>ENTRIES</th>\n",
       "    </tr>\n",
       "  </thead>\n",
       "  <tbody>\n",
       "    <tr>\n",
       "      <th>0</th>\n",
       "      <td>1 AV</td>\n",
       "      <td>2019-04-28</td>\n",
       "      <td>6338.0</td>\n",
       "      <td>1.41e+09</td>\n",
       "      <td>1413321232</td>\n",
       "    </tr>\n",
       "    <tr>\n",
       "      <th>1</th>\n",
       "      <td>1 AV</td>\n",
       "      <td>2019-04-29</td>\n",
       "      <td>4555.0</td>\n",
       "      <td>1.41e+09</td>\n",
       "      <td>1413325787</td>\n",
       "    </tr>\n",
       "    <tr>\n",
       "      <th>2</th>\n",
       "      <td>1 AV</td>\n",
       "      <td>2019-04-30</td>\n",
       "      <td>18018.0</td>\n",
       "      <td>1.41e+09</td>\n",
       "      <td>1413343805</td>\n",
       "    </tr>\n",
       "    <tr>\n",
       "      <th>3</th>\n",
       "      <td>1 AV</td>\n",
       "      <td>2019-05-01</td>\n",
       "      <td>18923.0</td>\n",
       "      <td>1.41e+09</td>\n",
       "      <td>1413362728</td>\n",
       "    </tr>\n",
       "    <tr>\n",
       "      <th>4</th>\n",
       "      <td>1 AV</td>\n",
       "      <td>2019-05-02</td>\n",
       "      <td>19226.0</td>\n",
       "      <td>1.41e+09</td>\n",
       "      <td>1413381954</td>\n",
       "    </tr>\n",
       "  </tbody>\n",
       "</table>\n",
       "</div>"
      ],
      "text/plain": [
       "  STATION       DATE  DAILY_ENTRIES  PREV_ENTRIES     ENTRIES\n",
       "0    1 AV 2019-04-28         6338.0      1.41e+09  1413321232\n",
       "1    1 AV 2019-04-29         4555.0      1.41e+09  1413325787\n",
       "2    1 AV 2019-04-30        18018.0      1.41e+09  1413343805\n",
       "3    1 AV 2019-05-01        18923.0      1.41e+09  1413362728\n",
       "4    1 AV 2019-05-02        19226.0      1.41e+09  1413381954"
      ]
     },
     "execution_count": 65,
     "metadata": {},
     "output_type": "execute_result"
    }
   ],
   "source": [
    "df_sta_combo.head()"
   ]
  },
  {
   "cell_type": "markdown",
   "metadata": {},
   "source": [
    "### Plotting The Daily Time Series For A Station\n",
    "(Project Starter Challenge 7)"
   ]
  },
  {
   "cell_type": "code",
   "execution_count": 66,
   "metadata": {},
   "outputs": [
    {
     "data": {
      "text/html": [
       "<div>\n",
       "<style scoped>\n",
       "    .dataframe tbody tr th:only-of-type {\n",
       "        vertical-align: middle;\n",
       "    }\n",
       "\n",
       "    .dataframe tbody tr th {\n",
       "        vertical-align: top;\n",
       "    }\n",
       "\n",
       "    .dataframe thead th {\n",
       "        text-align: right;\n",
       "    }\n",
       "</style>\n",
       "<table border=\"1\" class=\"dataframe\">\n",
       "  <thead>\n",
       "    <tr style=\"text-align: right;\">\n",
       "      <th></th>\n",
       "      <th>index</th>\n",
       "      <th>STATION</th>\n",
       "      <th>DATE</th>\n",
       "      <th>DAILY_ENTRIES</th>\n",
       "      <th>PREV_ENTRIES</th>\n",
       "      <th>ENTRIES</th>\n",
       "    </tr>\n",
       "  </thead>\n",
       "  <tbody>\n",
       "    <tr>\n",
       "      <th>36</th>\n",
       "      <td>1471</td>\n",
       "      <td>183 ST</td>\n",
       "      <td>2019-06-03</td>\n",
       "      <td>2981.0</td>\n",
       "      <td>3.15e+09</td>\n",
       "      <td>3150490145</td>\n",
       "    </tr>\n",
       "    <tr>\n",
       "      <th>37</th>\n",
       "      <td>1472</td>\n",
       "      <td>183 ST</td>\n",
       "      <td>2019-06-04</td>\n",
       "      <td>5813.0</td>\n",
       "      <td>3.15e+09</td>\n",
       "      <td>3150495958</td>\n",
       "    </tr>\n",
       "    <tr>\n",
       "      <th>38</th>\n",
       "      <td>1473</td>\n",
       "      <td>183 ST</td>\n",
       "      <td>2019-06-05</td>\n",
       "      <td>5333.0</td>\n",
       "      <td>3.15e+09</td>\n",
       "      <td>3150501291</td>\n",
       "    </tr>\n",
       "    <tr>\n",
       "      <th>39</th>\n",
       "      <td>1474</td>\n",
       "      <td>183 ST</td>\n",
       "      <td>2019-06-06</td>\n",
       "      <td>5883.0</td>\n",
       "      <td>3.15e+09</td>\n",
       "      <td>3150507174</td>\n",
       "    </tr>\n",
       "    <tr>\n",
       "      <th>40</th>\n",
       "      <td>1475</td>\n",
       "      <td>183 ST</td>\n",
       "      <td>2019-06-07</td>\n",
       "      <td>5601.0</td>\n",
       "      <td>3.15e+09</td>\n",
       "      <td>3150512775</td>\n",
       "    </tr>\n",
       "  </tbody>\n",
       "</table>\n",
       "</div>"
      ],
      "text/plain": [
       "    index STATION       DATE  DAILY_ENTRIES  PREV_ENTRIES     ENTRIES\n",
       "36   1471  183 ST 2019-06-03         2981.0      3.15e+09  3150490145\n",
       "37   1472  183 ST 2019-06-04         5813.0      3.15e+09  3150495958\n",
       "38   1473  183 ST 2019-06-05         5333.0      3.15e+09  3150501291\n",
       "39   1474  183 ST 2019-06-06         5883.0      3.15e+09  3150507174\n",
       "40   1475  183 ST 2019-06-07         5601.0      3.15e+09  3150512775"
      ]
     },
     "execution_count": 66,
     "metadata": {},
     "output_type": "execute_result"
    }
   ],
   "source": [
    "df_183st = df_sta_combo[df_sta_combo.STATION == '183 ST'].reset_index()\n",
    "df_183st.tail()"
   ]
  },
  {
   "cell_type": "code",
   "execution_count": 67,
   "metadata": {},
   "outputs": [
    {
     "data": {
      "image/png": "[encoded data removed]",
      "text/plain": [
       "<Figure size 720x216 with 1 Axes>"
      ]
     },
     "metadata": {
      "needs_background": "light"
     },
     "output_type": "display_data"
    }
   ],
   "source": [
    "plt.figure(figsize=(10,3))\n",
    "plt.plot(df_183st['DATE'], df_183st['DAILY_ENTRIES']);"
   ]
  },
  {
   "cell_type": "markdown",
   "metadata": {},
   "source": [
    "### Stations With Highest Traffic\n",
    "Finding the stations with the highest weekly average traffic"
   ]
  },
  {
   "cell_type": "code",
   "execution_count": 71,
   "metadata": {},
   "outputs": [
    {
     "name": "stderr",
     "output_type": "stream",
     "text": [
      "<ipython-input-71-3c3b4a8291fa>:3: FutureWarning: Series.dt.weekofyear and Series.dt.week have been deprecated.  Please use Series.dt.isocalendar().week instead.\n",
      "  df_sta_combo['WEEK'] = df_sta_combo['DATE_SHIFT'].dt.week\n"
     ]
    },
    {
     "data": {
      "text/plain": [
       "array([17, 18, 19, 20, 21, 22, 23])"
      ]
     },
     "execution_count": 71,
     "metadata": {},
     "output_type": "execute_result"
    }
   ],
   "source": [
    "df_sta_combo['DATE_SHIFT'] = df_sta_combo['DATE'] + pd.DateOffset(days=-1)\n",
    "df_sta_combo['WEEKDAY'] = df_sta_combo['DATE_SHIFT'].dt.day_name()\n",
    "df_sta_combo['WEEK'] = df_sta_combo['DATE_SHIFT'].dt.week\n",
    "df_sta_combo.WEEK.unique()"
   ]
  },
  {
   "cell_type": "code",
   "execution_count": 79,
   "metadata": {},
   "outputs": [
    {
     "data": {
      "text/plain": [
       "22    2645\n",
       "21    2640\n",
       "20    2639\n",
       "19    2637\n",
       "18    2637\n",
       "Name: WEEK, dtype: int64"
      ]
     },
     "execution_count": 79,
     "metadata": {},
     "output_type": "execute_result"
    }
   ],
   "source": [
    "df_sta_combo_5wks = df_sta_combo[\n",
    "    (df_sta_combo['WEEK'] !=17) &\\\n",
    "    (df_sta_combo['WEEK'] != 23)]\n",
    "df_sta_combo_5wks = df_sta_combo_5wks.drop(['PREV_ENTRIES', 'ENTRIES'], axis=1, errors = 'ignore')\n",
    "df_sta_combo_5wks.WEEK.value_counts()"
   ]
  },
  {
   "cell_type": "code",
   "execution_count": 80,
   "metadata": {},
   "outputs": [
    {
     "data": {
      "text/html": [
       "<div>\n",
       "<style scoped>\n",
       "    .dataframe tbody tr th:only-of-type {\n",
       "        vertical-align: middle;\n",
       "    }\n",
       "\n",
       "    .dataframe tbody tr th {\n",
       "        vertical-align: top;\n",
       "    }\n",
       "\n",
       "    .dataframe thead th {\n",
       "        text-align: right;\n",
       "    }\n",
       "</style>\n",
       "<table border=\"1\" class=\"dataframe\">\n",
       "  <thead>\n",
       "    <tr style=\"text-align: right;\">\n",
       "      <th></th>\n",
       "      <th>STATION</th>\n",
       "      <th>DATE</th>\n",
       "      <th>DAILY_ENTRIES</th>\n",
       "      <th>DATE_SHIFT</th>\n",
       "      <th>WEEKDAY</th>\n",
       "      <th>WEEK</th>\n",
       "    </tr>\n",
       "  </thead>\n",
       "  <tbody>\n",
       "    <tr>\n",
       "      <th>2</th>\n",
       "      <td>1 AV</td>\n",
       "      <td>2019-04-30</td>\n",
       "      <td>18018.0</td>\n",
       "      <td>2019-04-29</td>\n",
       "      <td>Monday</td>\n",
       "      <td>18</td>\n",
       "    </tr>\n",
       "    <tr>\n",
       "      <th>3</th>\n",
       "      <td>1 AV</td>\n",
       "      <td>2019-05-01</td>\n",
       "      <td>18923.0</td>\n",
       "      <td>2019-04-30</td>\n",
       "      <td>Tuesday</td>\n",
       "      <td>18</td>\n",
       "    </tr>\n",
       "    <tr>\n",
       "      <th>4</th>\n",
       "      <td>1 AV</td>\n",
       "      <td>2019-05-02</td>\n",
       "      <td>19226.0</td>\n",
       "      <td>2019-05-01</td>\n",
       "      <td>Wednesday</td>\n",
       "      <td>18</td>\n",
       "    </tr>\n",
       "    <tr>\n",
       "      <th>5</th>\n",
       "      <td>1 AV</td>\n",
       "      <td>2019-05-03</td>\n",
       "      <td>19745.0</td>\n",
       "      <td>2019-05-02</td>\n",
       "      <td>Thursday</td>\n",
       "      <td>18</td>\n",
       "    </tr>\n",
       "    <tr>\n",
       "      <th>6</th>\n",
       "      <td>1 AV</td>\n",
       "      <td>2019-05-04</td>\n",
       "      <td>20046.0</td>\n",
       "      <td>2019-05-03</td>\n",
       "      <td>Friday</td>\n",
       "      <td>18</td>\n",
       "    </tr>\n",
       "  </tbody>\n",
       "</table>\n",
       "</div>"
      ],
      "text/plain": [
       "  STATION       DATE  DAILY_ENTRIES DATE_SHIFT    WEEKDAY  WEEK\n",
       "2    1 AV 2019-04-30        18018.0 2019-04-29     Monday    18\n",
       "3    1 AV 2019-05-01        18923.0 2019-04-30    Tuesday    18\n",
       "4    1 AV 2019-05-02        19226.0 2019-05-01  Wednesday    18\n",
       "5    1 AV 2019-05-03        19745.0 2019-05-02   Thursday    18\n",
       "6    1 AV 2019-05-04        20046.0 2019-05-03     Friday    18"
      ]
     },
     "execution_count": 80,
     "metadata": {},
     "output_type": "execute_result"
    }
   ],
   "source": [
    "df_sta_combo_5wks.head()"
   ]
  },
  {
   "cell_type": "code",
   "execution_count": 82,
   "metadata": {},
   "outputs": [
    {
     "data": {
      "text/plain": [
       "22    378\n",
       "21    378\n",
       "20    377\n",
       "19    377\n",
       "18    377\n",
       "Name: WEEK, dtype: int64"
      ]
     },
     "execution_count": 82,
     "metadata": {},
     "output_type": "execute_result"
    }
   ],
   "source": [
    "df_week_total = df_sta_combo_5wks.groupby(['STATION', 'WEEK']).agg('sum').reset_index()\n",
    "df_week_total.WEEK.value_counts()"
   ]
  },
  {
   "cell_type": "code",
   "execution_count": 83,
   "metadata": {},
   "outputs": [
    {
     "data": {
      "text/html": [
       "<div>\n",
       "<style scoped>\n",
       "    .dataframe tbody tr th:only-of-type {\n",
       "        vertical-align: middle;\n",
       "    }\n",
       "\n",
       "    .dataframe tbody tr th {\n",
       "        vertical-align: top;\n",
       "    }\n",
       "\n",
       "    .dataframe thead th {\n",
       "        text-align: right;\n",
       "    }\n",
       "</style>\n",
       "<table border=\"1\" class=\"dataframe\">\n",
       "  <thead>\n",
       "    <tr style=\"text-align: right;\">\n",
       "      <th></th>\n",
       "      <th>STATION</th>\n",
       "      <th>WEEK</th>\n",
       "      <th>DAILY_ENTRIES</th>\n",
       "    </tr>\n",
       "  </thead>\n",
       "  <tbody>\n",
       "    <tr>\n",
       "      <th>0</th>\n",
       "      <td>1 AV</td>\n",
       "      <td>20.0</td>\n",
       "      <td>104773.0</td>\n",
       "    </tr>\n",
       "    <tr>\n",
       "      <th>1</th>\n",
       "      <td>103 ST</td>\n",
       "      <td>20.0</td>\n",
       "      <td>188559.4</td>\n",
       "    </tr>\n",
       "    <tr>\n",
       "      <th>2</th>\n",
       "      <td>103 ST-CORONA</td>\n",
       "      <td>20.0</td>\n",
       "      <td>125926.2</td>\n",
       "    </tr>\n",
       "    <tr>\n",
       "      <th>3</th>\n",
       "      <td>104 ST</td>\n",
       "      <td>20.0</td>\n",
       "      <td>27019.8</td>\n",
       "    </tr>\n",
       "    <tr>\n",
       "      <th>4</th>\n",
       "      <td>110 ST</td>\n",
       "      <td>20.0</td>\n",
       "      <td>66246.6</td>\n",
       "    </tr>\n",
       "  </tbody>\n",
       "</table>\n",
       "</div>"
      ],
      "text/plain": [
       "         STATION  WEEK  DAILY_ENTRIES\n",
       "0           1 AV  20.0       104773.0\n",
       "1         103 ST  20.0       188559.4\n",
       "2  103 ST-CORONA  20.0       125926.2\n",
       "3         104 ST  20.0        27019.8\n",
       "4         110 ST  20.0        66246.6"
      ]
     },
     "execution_count": 83,
     "metadata": {},
     "output_type": "execute_result"
    }
   ],
   "source": [
    "df_week_mean = df_week_total.groupby('STATION').agg('mean').reset_index()\n",
    "df_week_mean.head()"
   ]
  },
  {
   "cell_type": "code",
   "execution_count": 84,
   "metadata": {},
   "outputs": [],
   "source": [
    "df_week_mean = df_week_mean.drop('WEEK', axis=1)"
   ]
  },
  {
   "cell_type": "code",
   "execution_count": 85,
   "metadata": {},
   "outputs": [],
   "source": [
    "df_week_mean_sorted = df_week_mean.sort_values(by='DAILY_ENTRIES', ascending=False).reset_index()"
   ]
  },
  {
   "cell_type": "code",
   "execution_count": 86,
   "metadata": {},
   "outputs": [
    {
     "data": {
      "text/html": [
       "<div>\n",
       "<style scoped>\n",
       "    .dataframe tbody tr th:only-of-type {\n",
       "        vertical-align: middle;\n",
       "    }\n",
       "\n",
       "    .dataframe tbody tr th {\n",
       "        vertical-align: top;\n",
       "    }\n",
       "\n",
       "    .dataframe thead th {\n",
       "        text-align: right;\n",
       "    }\n",
       "</style>\n",
       "<table border=\"1\" class=\"dataframe\">\n",
       "  <thead>\n",
       "    <tr style=\"text-align: right;\">\n",
       "      <th></th>\n",
       "      <th>index</th>\n",
       "      <th>STATION</th>\n",
       "      <th>DAILY_ENTRIES</th>\n",
       "      <th>AVG_WEEKLY_ENTRIES</th>\n",
       "    </tr>\n",
       "  </thead>\n",
       "  <tbody>\n",
       "    <tr>\n",
       "      <th>0</th>\n",
       "      <td>61</td>\n",
       "      <td>34 ST-PENN STA</td>\n",
       "      <td>1.06e+06</td>\n",
       "      <td>1.06e+06</td>\n",
       "    </tr>\n",
       "    <tr>\n",
       "      <th>1</th>\n",
       "      <td>232</td>\n",
       "      <td>GRD CNTRL-42 ST</td>\n",
       "      <td>8.92e+05</td>\n",
       "      <td>8.92e+05</td>\n",
       "    </tr>\n",
       "    <tr>\n",
       "      <th>2</th>\n",
       "      <td>314</td>\n",
       "      <td>PATH NEW WTC</td>\n",
       "      <td>8.46e+05</td>\n",
       "      <td>8.46e+05</td>\n",
       "    </tr>\n",
       "    <tr>\n",
       "      <th>3</th>\n",
       "      <td>352</td>\n",
       "      <td>TIMES SQ-42 ST</td>\n",
       "      <td>8.08e+05</td>\n",
       "      <td>8.08e+05</td>\n",
       "    </tr>\n",
       "    <tr>\n",
       "      <th>4</th>\n",
       "      <td>46</td>\n",
       "      <td>23 ST</td>\n",
       "      <td>7.65e+05</td>\n",
       "      <td>7.65e+05</td>\n",
       "    </tr>\n",
       "  </tbody>\n",
       "</table>\n",
       "</div>"
      ],
      "text/plain": [
       "   index          STATION  DAILY_ENTRIES  AVG_WEEKLY_ENTRIES\n",
       "0     61   34 ST-PENN STA       1.06e+06            1.06e+06\n",
       "1    232  GRD CNTRL-42 ST       8.92e+05            8.92e+05\n",
       "2    314     PATH NEW WTC       8.46e+05            8.46e+05\n",
       "3    352   TIMES SQ-42 ST       8.08e+05            8.08e+05\n",
       "4     46            23 ST       7.65e+05            7.65e+05"
      ]
     },
     "execution_count": 86,
     "metadata": {},
     "output_type": "execute_result"
    }
   ],
   "source": [
    "df_week_mean_sorted['AVG_WEEKLY_ENTRIES'] = df_week_mean_sorted['DAILY_ENTRIES']\n",
    "df_week_mean_sorted.head()"
   ]
  },
  {
   "cell_type": "code",
   "execution_count": 87,
   "metadata": {},
   "outputs": [
    {
     "data": {
      "text/html": [
       "<div>\n",
       "<style scoped>\n",
       "    .dataframe tbody tr th:only-of-type {\n",
       "        vertical-align: middle;\n",
       "    }\n",
       "\n",
       "    .dataframe tbody tr th {\n",
       "        vertical-align: top;\n",
       "    }\n",
       "\n",
       "    .dataframe thead th {\n",
       "        text-align: right;\n",
       "    }\n",
       "</style>\n",
       "<table border=\"1\" class=\"dataframe\">\n",
       "  <thead>\n",
       "    <tr style=\"text-align: right;\">\n",
       "      <th></th>\n",
       "      <th>index</th>\n",
       "      <th>STATION</th>\n",
       "      <th>DAILY_ENTRIES</th>\n",
       "      <th>AVG_WEEKLY_ENTRIES</th>\n",
       "    </tr>\n",
       "  </thead>\n",
       "  <tbody>\n",
       "    <tr>\n",
       "      <th>0</th>\n",
       "      <td>61</td>\n",
       "      <td>34 ST-PENN STA</td>\n",
       "      <td>1.06e+06</td>\n",
       "      <td>1.06e+06</td>\n",
       "    </tr>\n",
       "    <tr>\n",
       "      <th>1</th>\n",
       "      <td>232</td>\n",
       "      <td>GRD CNTRL-42 ST</td>\n",
       "      <td>8.92e+05</td>\n",
       "      <td>8.92e+05</td>\n",
       "    </tr>\n",
       "    <tr>\n",
       "      <th>2</th>\n",
       "      <td>314</td>\n",
       "      <td>PATH NEW WTC</td>\n",
       "      <td>8.46e+05</td>\n",
       "      <td>8.46e+05</td>\n",
       "    </tr>\n",
       "    <tr>\n",
       "      <th>3</th>\n",
       "      <td>352</td>\n",
       "      <td>TIMES SQ-42 ST</td>\n",
       "      <td>8.08e+05</td>\n",
       "      <td>8.08e+05</td>\n",
       "    </tr>\n",
       "    <tr>\n",
       "      <th>4</th>\n",
       "      <td>46</td>\n",
       "      <td>23 ST</td>\n",
       "      <td>7.65e+05</td>\n",
       "      <td>7.65e+05</td>\n",
       "    </tr>\n",
       "    <tr>\n",
       "      <th>5</th>\n",
       "      <td>59</td>\n",
       "      <td>34 ST-HERALD SQ</td>\n",
       "      <td>7.64e+05</td>\n",
       "      <td>7.64e+05</td>\n",
       "    </tr>\n",
       "    <tr>\n",
       "      <th>6</th>\n",
       "      <td>14</td>\n",
       "      <td>14 ST-UNION SQ</td>\n",
       "      <td>7.32e+05</td>\n",
       "      <td>7.32e+05</td>\n",
       "    </tr>\n",
       "    <tr>\n",
       "      <th>7</th>\n",
       "      <td>68</td>\n",
       "      <td>42 ST-PORT AUTH</td>\n",
       "      <td>6.53e+05</td>\n",
       "      <td>6.53e+05</td>\n",
       "    </tr>\n",
       "    <tr>\n",
       "      <th>8</th>\n",
       "      <td>225</td>\n",
       "      <td>FULTON ST</td>\n",
       "      <td>6.26e+05</td>\n",
       "      <td>6.26e+05</td>\n",
       "    </tr>\n",
       "    <tr>\n",
       "      <th>9</th>\n",
       "      <td>110</td>\n",
       "      <td>86 ST</td>\n",
       "      <td>6.19e+05</td>\n",
       "      <td>6.19e+05</td>\n",
       "    </tr>\n",
       "  </tbody>\n",
       "</table>\n",
       "</div>"
      ],
      "text/plain": [
       "   index          STATION  DAILY_ENTRIES  AVG_WEEKLY_ENTRIES\n",
       "0     61   34 ST-PENN STA       1.06e+06            1.06e+06\n",
       "1    232  GRD CNTRL-42 ST       8.92e+05            8.92e+05\n",
       "2    314     PATH NEW WTC       8.46e+05            8.46e+05\n",
       "3    352   TIMES SQ-42 ST       8.08e+05            8.08e+05\n",
       "4     46            23 ST       7.65e+05            7.65e+05\n",
       "5     59  34 ST-HERALD SQ       7.64e+05            7.64e+05\n",
       "6     14   14 ST-UNION SQ       7.32e+05            7.32e+05\n",
       "7     68  42 ST-PORT AUTH       6.53e+05            6.53e+05\n",
       "8    225        FULTON ST       6.26e+05            6.26e+05\n",
       "9    110            86 ST       6.19e+05            6.19e+05"
      ]
     },
     "execution_count": 87,
     "metadata": {},
     "output_type": "execute_result"
    }
   ],
   "source": [
    "top_weekly_avg = df_week_mean_sorted.head(10)\n",
    "top_weekly_avg"
   ]
  },
  {
   "cell_type": "code",
   "execution_count": 88,
   "metadata": {},
   "outputs": [
    {
     "data": {
      "image/png": "[encoded data removed]",
      "text/plain": [
       "<Figure size 432x288 with 1 Axes>"
      ]
     },
     "metadata": {},
     "output_type": "display_data"
    }
   ],
   "source": [
    "sns.set_context('talk')\n",
    "sns.set_style('ticks')\n",
    "g = sns.barplot(data = top_weekly_avg,\n",
    "               y = 'STATION',\n",
    "               x = 'AVG_WEEKLY_ENTRIES',\n",
    "               palette = 'rainbow')\n",
    "\n",
    "for item in g.get_xticklabels():\n",
    "    item.set_rotation(45)\n",
    "\n",
    "g.set_title('Stations With Highest Weekly Traffic')\n",
    "g.figure.savefig('top_10_v.png', bbox_inches='tight')"
   ]
  },
  {
   "cell_type": "markdown",
   "metadata": {},
   "source": [
    "### Plotting Daily Entries Week Over Week For A Single Station\n",
    "(Project Starter Challenge 8)"
   ]
  },
  {
   "cell_type": "code",
   "execution_count": 97,
   "metadata": {},
   "outputs": [],
   "source": [
    "dataframe = df_sta_combo_5wks\n",
    "\n",
    "station1 = '34 ST-PENN STA'\n",
    "station2 = 'GRD CNTRL-42 ST'\n",
    "station3 = 'PATH NEW WTC'\n",
    "station4 = 'TIMES SQ-42 ST'"
   ]
  },
  {
   "cell_type": "code",
   "execution_count": 98,
   "metadata": {},
   "outputs": [],
   "source": [
    "filtered_by_station = dataframe[(dataframe.STATION == station1) |\n",
    "                               (dataframe.STATION == station2)]"
   ]
  },
  {
   "cell_type": "code",
   "execution_count": 99,
   "metadata": {},
   "outputs": [],
   "source": [
    "filtered_by_station_reduced_max = filtered_by_station[filtered_by_station.DAILY_ENTRIES < 0.5e+06]"
   ]
  },
  {
   "cell_type": "code",
   "execution_count": 101,
   "metadata": {},
   "outputs": [
    {
     "data": {
      "image/png": "[encoded data removed]",
      "text/plain": [
       "<Figure size 797.65x720 with 2 Axes>"
      ]
     },
     "metadata": {},
     "output_type": "display_data"
    }
   ],
   "source": [
    "g = sns.relplot(data = filtered_by_station_reduced_max, \n",
    "            x = 'WEEKDAY', \n",
    "            y = 'DAILY_ENTRIES',\n",
    "           row = 'STATION',\n",
    "            hue = 'WEEK',\n",
    "            kind = 'line',\n",
    "            sort = False,\n",
    "            aspect = 2,\n",
    "            palette = 'rainbow',\n",
    "            legend = 'full'\n",
    "           )\n",
    "plt.ylim(0, 300000)\n",
    "g.savefig('weekday_by_station.png', bbox_inches = 'tight')"
   ]
  },
  {
   "cell_type": "code",
   "execution_count": 104,
   "metadata": {},
   "outputs": [],
   "source": [
    "filtered_by_station = dataframe[(dataframe.STATION == station3) |\n",
    "                               (dataframe.STATION == station4)]"
   ]
  },
  {
   "cell_type": "code",
   "execution_count": 105,
   "metadata": {},
   "outputs": [],
   "source": [
    "filtered_by_station_reduced_max = filtered_by_station[filtered_by_station.DAILY_ENTRIES < 0.5e+06]"
   ]
  },
  {
   "cell_type": "code",
   "execution_count": 106,
   "metadata": {},
   "outputs": [
    {
     "data": {
      "image/png": "[encoded data removed]",
      "text/plain": [
       "<Figure size 797.65x720 with 2 Axes>"
      ]
     },
     "metadata": {},
     "output_type": "display_data"
    }
   ],
   "source": [
    "g = sns.relplot(data = filtered_by_station_reduced_max, \n",
    "            x = 'WEEKDAY', \n",
    "            y = 'DAILY_ENTRIES',\n",
    "           row = 'STATION',\n",
    "            hue = 'WEEK',\n",
    "            kind = 'line',\n",
    "            sort = False,\n",
    "            aspect = 2,\n",
    "            palette = 'rainbow',\n",
    "            legend = 'full'\n",
    "           )\n",
    "plt.ylim(0, 300000)\n",
    "g.savefig('weekday_by_station2.png', bbox_inches = 'tight')"
   ]
  },
  {
   "cell_type": "markdown",
   "metadata": {},
   "source": [
    "# Missing Single Day Single Turnstiles Here"
   ]
  },
  {
   "cell_type": "markdown",
   "metadata": {},
   "source": [
    "###  A Single Day's Entries for a Single Station By Unit"
   ]
  },
  {
   "cell_type": "code",
   "execution_count": 52,
   "metadata": {},
   "outputs": [
    {
     "data": {
      "text/plain": [
       "2739.9841269841268"
      ]
     },
     "execution_count": 52,
     "metadata": {},
     "output_type": "execute_result"
    }
   ],
   "source": [
    "df_single_day = df_daily[(df_daily.STATION == 'GRD CNTRL-42 ST') &\\\n",
    "                        (df_daily.DATE == '2019-05-15') &\\\n",
    "                        (df_daily.ENTRIES != 0)]\n",
    "df_single_day.DAILY_ENTRIES.mean()"
   ]
  },
  {
   "cell_type": "code",
   "execution_count": 53,
   "metadata": {},
   "outputs": [
    {
     "data": {
      "text/html": [
       "<div>\n",
       "<style scoped>\n",
       "    .dataframe tbody tr th:only-of-type {\n",
       "        vertical-align: middle;\n",
       "    }\n",
       "\n",
       "    .dataframe tbody tr th {\n",
       "        vertical-align: top;\n",
       "    }\n",
       "\n",
       "    .dataframe thead th {\n",
       "        text-align: right;\n",
       "    }\n",
       "</style>\n",
       "<table border=\"1\" class=\"dataframe\">\n",
       "  <thead>\n",
       "    <tr style=\"text-align: right;\">\n",
       "      <th></th>\n",
       "      <th>UNIT</th>\n",
       "      <th>ENTRIES</th>\n",
       "      <th>PREV_ENTRIES</th>\n",
       "      <th>DAILY_ENTRIES</th>\n",
       "    </tr>\n",
       "  </thead>\n",
       "  <tbody>\n",
       "    <tr>\n",
       "      <th>0</th>\n",
       "      <td>R045</td>\n",
       "      <td>61899707</td>\n",
       "      <td>6.19e+07</td>\n",
       "      <td>29184.0</td>\n",
       "    </tr>\n",
       "    <tr>\n",
       "      <th>1</th>\n",
       "      <td>R046</td>\n",
       "      <td>1763074430</td>\n",
       "      <td>1.76e+09</td>\n",
       "      <td>80886.0</td>\n",
       "    </tr>\n",
       "    <tr>\n",
       "      <th>2</th>\n",
       "      <td>R047</td>\n",
       "      <td>100251170</td>\n",
       "      <td>1.00e+08</td>\n",
       "      <td>47352.0</td>\n",
       "    </tr>\n",
       "    <tr>\n",
       "      <th>3</th>\n",
       "      <td>R048</td>\n",
       "      <td>20421471</td>\n",
       "      <td>2.04e+07</td>\n",
       "      <td>15197.0</td>\n",
       "    </tr>\n",
       "  </tbody>\n",
       "</table>\n",
       "</div>"
      ],
      "text/plain": [
       "   UNIT     ENTRIES  PREV_ENTRIES  DAILY_ENTRIES\n",
       "0  R045    61899707      6.19e+07        29184.0\n",
       "1  R046  1763074430      1.76e+09        80886.0\n",
       "2  R047   100251170      1.00e+08        47352.0\n",
       "3  R048    20421471      2.04e+07        15197.0"
      ]
     },
     "execution_count": 53,
     "metadata": {},
     "output_type": "execute_result"
    }
   ],
   "source": [
    "# Grouping the turnstiles by unit\n",
    "df_single_day_unit = df_single_day.groupby('UNIT').agg('sum').reset_index()\n",
    "df_single_day_unit.head()"
   ]
  },
  {
   "cell_type": "code",
   "execution_count": 54,
   "metadata": {},
   "outputs": [
    {
     "data": {
      "image/png": "[encoded data removed]",
      "text/plain": [
       "<Figure size 432x288 with 1 Axes>"
      ]
     },
     "metadata": {
      "needs_background": "light"
     },
     "output_type": "display_data"
    }
   ],
   "source": [
    "# plotting single day, single station, by unit\n",
    "sns.barplot(data=df_single_day_unit, x = 'UNIT', y ='DAILY_ENTRIES');"
   ]
  },
  {
   "cell_type": "markdown",
   "metadata": {},
   "source": [
    "### Identifying Highest Average Turnstiles at Highest Average Stations\n"
   ]
  },
  {
   "cell_type": "markdown",
   "metadata": {},
   "source": [
    "In the process of calculating highest average turnstiles at highest average stations, it became clear that the cutoff threshold for outliers (`max_counter = 1000000`) wasn't sufficiently stringent.\n",
    "\n",
    "Operating on the assumption that turnstiles could likely not process more than one commuter per second, we reset the `max_counter` value to 864000, or the number of seconds in a day."
   ]
  },
  {
   "cell_type": "code",
   "execution_count": 139,
   "metadata": {},
   "outputs": [
    {
     "name": "stdout",
     "output_type": "stream",
     "text": [
      "158 1087620.0\n",
      "482 4317177.0\n",
      "107 7245002.0\n",
      "4050695 5903004.0\n",
      "7246468 4050451.0\n",
      "882 15418815.0\n",
      "1435 4767402.0\n",
      "335092671 3422305.0\n",
      "412 3073070.0\n",
      "161 4605408.0\n",
      "681 6527713.0\n",
      "569320813 4807409.0\n",
      "279 9029146.0\n",
      "65536 839317244.0\n",
      "184608117 746094.0\n",
      "80 2586370.0\n",
      "238 2898346.0\n",
      "50 1544092.0\n",
      "607 3912014.0\n",
      "196614 2998692.0\n",
      "514 3755842.0\n",
      "8 2020892.0\n",
      "3003 6999467.0\n",
      "408 8876564.0\n",
      "1178879075 4471988.0\n",
      "149 1252884.0\n",
      "706 899109.0\n",
      "4666 2201975.0\n",
      "14 1327005.0\n",
      "196633 68461839.0\n",
      "200 36966261.0\n",
      "1017 2357557.0\n",
      "12 4887309.0\n",
      "7 9441168.0\n",
      "1058702 102390686.0\n",
      "393355 1661809141.0\n",
      "10 7602347.0\n",
      "1463 1068632.0\n",
      "29 6332751.0\n",
      "30933207 6069289.0\n",
      "71 7192933.0\n",
      "115 12739117.0\n",
      "1122 6546797.0\n",
      "16779493 81157.0\n",
      "637574909 2502854.0\n",
      "231 637595004.0\n",
      "68859156 436510383.0\n",
      "607126914 594465.0\n",
      "140397413 1577638340.0\n",
      "458752 100663296.0\n",
      "23 203977549.0\n",
      "452993428 1830432.0\n",
      "259 7480462.0\n",
      "20 3000575.0\n",
      "683737068 458752.0\n",
      "905996437 3558247.0\n",
      "0 5176463.0\n",
      "7 13653544.0\n",
      "182 10462950.0\n",
      "2063649382 8123310.0\n",
      "1129054878 2501599.0\n"
     ]
    },
    {
     "data": {
      "text/html": [
       "<div>\n",
       "<style scoped>\n",
       "    .dataframe tbody tr th:only-of-type {\n",
       "        vertical-align: middle;\n",
       "    }\n",
       "\n",
       "    .dataframe tbody tr th {\n",
       "        vertical-align: top;\n",
       "    }\n",
       "\n",
       "    .dataframe thead th {\n",
       "        text-align: right;\n",
       "    }\n",
       "</style>\n",
       "<table border=\"1\" class=\"dataframe\">\n",
       "  <thead>\n",
       "    <tr style=\"text-align: right;\">\n",
       "      <th></th>\n",
       "      <th>C/A</th>\n",
       "      <th>UNIT</th>\n",
       "      <th>SCP</th>\n",
       "      <th>STATION</th>\n",
       "      <th>DATE</th>\n",
       "      <th>ENTRIES</th>\n",
       "      <th>PREV_DATE</th>\n",
       "      <th>PREV_ENTRIES</th>\n",
       "      <th>DAILY_ENTRIES</th>\n",
       "    </tr>\n",
       "  </thead>\n",
       "  <tbody>\n",
       "    <tr>\n",
       "      <th>1</th>\n",
       "      <td>A002</td>\n",
       "      <td>R051</td>\n",
       "      <td>02-00-00</td>\n",
       "      <td>59 ST</td>\n",
       "      <td>2019-04-28</td>\n",
       "      <td>7036100</td>\n",
       "      <td>2019-04-27</td>\n",
       "      <td>7.04e+06</td>\n",
       "      <td>851.0</td>\n",
       "    </tr>\n",
       "    <tr>\n",
       "      <th>2</th>\n",
       "      <td>A002</td>\n",
       "      <td>R051</td>\n",
       "      <td>02-00-00</td>\n",
       "      <td>59 ST</td>\n",
       "      <td>2019-04-29</td>\n",
       "      <td>7036746</td>\n",
       "      <td>2019-04-28</td>\n",
       "      <td>7.04e+06</td>\n",
       "      <td>646.0</td>\n",
       "    </tr>\n",
       "    <tr>\n",
       "      <th>3</th>\n",
       "      <td>A002</td>\n",
       "      <td>R051</td>\n",
       "      <td>02-00-00</td>\n",
       "      <td>59 ST</td>\n",
       "      <td>2019-04-30</td>\n",
       "      <td>7038242</td>\n",
       "      <td>2019-04-29</td>\n",
       "      <td>7.04e+06</td>\n",
       "      <td>1496.0</td>\n",
       "    </tr>\n",
       "    <tr>\n",
       "      <th>4</th>\n",
       "      <td>A002</td>\n",
       "      <td>R051</td>\n",
       "      <td>02-00-00</td>\n",
       "      <td>59 ST</td>\n",
       "      <td>2019-05-01</td>\n",
       "      <td>7039729</td>\n",
       "      <td>2019-04-30</td>\n",
       "      <td>7.04e+06</td>\n",
       "      <td>1487.0</td>\n",
       "    </tr>\n",
       "    <tr>\n",
       "      <th>5</th>\n",
       "      <td>A002</td>\n",
       "      <td>R051</td>\n",
       "      <td>02-00-00</td>\n",
       "      <td>59 ST</td>\n",
       "      <td>2019-05-02</td>\n",
       "      <td>7041303</td>\n",
       "      <td>2019-05-01</td>\n",
       "      <td>7.04e+06</td>\n",
       "      <td>1574.0</td>\n",
       "    </tr>\n",
       "  </tbody>\n",
       "</table>\n",
       "</div>"
      ],
      "text/plain": [
       "    C/A  UNIT       SCP STATION       DATE  ENTRIES  PREV_DATE  PREV_ENTRIES  \\\n",
       "1  A002  R051  02-00-00   59 ST 2019-04-28  7036100 2019-04-27      7.04e+06   \n",
       "2  A002  R051  02-00-00   59 ST 2019-04-29  7036746 2019-04-28      7.04e+06   \n",
       "3  A002  R051  02-00-00   59 ST 2019-04-30  7038242 2019-04-29      7.04e+06   \n",
       "4  A002  R051  02-00-00   59 ST 2019-05-01  7039729 2019-04-30      7.04e+06   \n",
       "5  A002  R051  02-00-00   59 ST 2019-05-02  7041303 2019-05-01      7.04e+06   \n",
       "\n",
       "   DAILY_ENTRIES  \n",
       "1          851.0  \n",
       "2          646.0  \n",
       "3         1496.0  \n",
       "4         1487.0  \n",
       "5         1574.0  "
      ]
     },
     "execution_count": 139,
     "metadata": {},
     "output_type": "execute_result"
    }
   ],
   "source": [
    "df_daily['DAILY_ENTRIES'] = df_daily.apply(get_daily_counts, axis=1, max_counter=864000)\n",
    "df_daily.head()"
   ]
  },
  {
   "cell_type": "code",
   "execution_count": 157,
   "metadata": {},
   "outputs": [
    {
     "data": {
      "text/html": [
       "<div>\n",
       "<style scoped>\n",
       "    .dataframe tbody tr th:only-of-type {\n",
       "        vertical-align: middle;\n",
       "    }\n",
       "\n",
       "    .dataframe tbody tr th {\n",
       "        vertical-align: top;\n",
       "    }\n",
       "\n",
       "    .dataframe thead th {\n",
       "        text-align: right;\n",
       "    }\n",
       "</style>\n",
       "<table border=\"1\" class=\"dataframe\">\n",
       "  <thead>\n",
       "    <tr style=\"text-align: right;\">\n",
       "      <th></th>\n",
       "      <th>C/A</th>\n",
       "      <th>UNIT</th>\n",
       "      <th>SCP</th>\n",
       "      <th>STATION</th>\n",
       "      <th>DATE</th>\n",
       "      <th>DAILY_ENTRIES</th>\n",
       "    </tr>\n",
       "  </thead>\n",
       "  <tbody>\n",
       "    <tr>\n",
       "      <th>1</th>\n",
       "      <td>A002</td>\n",
       "      <td>R051</td>\n",
       "      <td>02-00-00</td>\n",
       "      <td>59 ST</td>\n",
       "      <td>2019-04-28</td>\n",
       "      <td>851.0</td>\n",
       "    </tr>\n",
       "    <tr>\n",
       "      <th>2</th>\n",
       "      <td>A002</td>\n",
       "      <td>R051</td>\n",
       "      <td>02-00-00</td>\n",
       "      <td>59 ST</td>\n",
       "      <td>2019-04-29</td>\n",
       "      <td>646.0</td>\n",
       "    </tr>\n",
       "    <tr>\n",
       "      <th>3</th>\n",
       "      <td>A002</td>\n",
       "      <td>R051</td>\n",
       "      <td>02-00-00</td>\n",
       "      <td>59 ST</td>\n",
       "      <td>2019-04-30</td>\n",
       "      <td>1496.0</td>\n",
       "    </tr>\n",
       "    <tr>\n",
       "      <th>4</th>\n",
       "      <td>A002</td>\n",
       "      <td>R051</td>\n",
       "      <td>02-00-00</td>\n",
       "      <td>59 ST</td>\n",
       "      <td>2019-05-01</td>\n",
       "      <td>1487.0</td>\n",
       "    </tr>\n",
       "    <tr>\n",
       "      <th>5</th>\n",
       "      <td>A002</td>\n",
       "      <td>R051</td>\n",
       "      <td>02-00-00</td>\n",
       "      <td>59 ST</td>\n",
       "      <td>2019-05-02</td>\n",
       "      <td>1574.0</td>\n",
       "    </tr>\n",
       "  </tbody>\n",
       "</table>\n",
       "</div>"
      ],
      "text/plain": [
       "    C/A  UNIT       SCP STATION       DATE  DAILY_ENTRIES\n",
       "1  A002  R051  02-00-00   59 ST 2019-04-28          851.0\n",
       "2  A002  R051  02-00-00   59 ST 2019-04-29          646.0\n",
       "3  A002  R051  02-00-00   59 ST 2019-04-30         1496.0\n",
       "4  A002  R051  02-00-00   59 ST 2019-05-01         1487.0\n",
       "5  A002  R051  02-00-00   59 ST 2019-05-02         1574.0"
      ]
     },
     "execution_count": 157,
     "metadata": {},
     "output_type": "execute_result"
    }
   ],
   "source": [
    "weekday_ts = df_daily.drop(['PREV_DATE','PREV_ENTRIES', 'ENTRIES'], axis = 1)\n",
    "weekday_ts.head()"
   ]
  },
  {
   "cell_type": "code",
   "execution_count": 159,
   "metadata": {},
   "outputs": [
    {
     "name": "stderr",
     "output_type": "stream",
     "text": [
      "<ipython-input-159-5fec1e4ed6b9>:3: FutureWarning: Series.dt.weekofyear and Series.dt.week have been deprecated.  Please use Series.dt.isocalendar().week instead.\n",
      "  weekday_ts['WEEK'] = weekday_ts['DATE_SHIFT'].dt.week\n"
     ]
    },
    {
     "data": {
      "text/html": [
       "<div>\n",
       "<style scoped>\n",
       "    .dataframe tbody tr th:only-of-type {\n",
       "        vertical-align: middle;\n",
       "    }\n",
       "\n",
       "    .dataframe tbody tr th {\n",
       "        vertical-align: top;\n",
       "    }\n",
       "\n",
       "    .dataframe thead th {\n",
       "        text-align: right;\n",
       "    }\n",
       "</style>\n",
       "<table border=\"1\" class=\"dataframe\">\n",
       "  <thead>\n",
       "    <tr style=\"text-align: right;\">\n",
       "      <th></th>\n",
       "      <th>C/A</th>\n",
       "      <th>UNIT</th>\n",
       "      <th>SCP</th>\n",
       "      <th>STATION</th>\n",
       "      <th>DATE</th>\n",
       "      <th>DAILY_ENTRIES</th>\n",
       "      <th>DATE_SHIFT</th>\n",
       "      <th>WEEKDAY</th>\n",
       "      <th>WEEK</th>\n",
       "    </tr>\n",
       "  </thead>\n",
       "  <tbody>\n",
       "    <tr>\n",
       "      <th>1</th>\n",
       "      <td>A002</td>\n",
       "      <td>R051</td>\n",
       "      <td>02-00-00</td>\n",
       "      <td>59 ST</td>\n",
       "      <td>2019-04-28</td>\n",
       "      <td>851.0</td>\n",
       "      <td>2019-04-29</td>\n",
       "      <td>Monday</td>\n",
       "      <td>18</td>\n",
       "    </tr>\n",
       "    <tr>\n",
       "      <th>2</th>\n",
       "      <td>A002</td>\n",
       "      <td>R051</td>\n",
       "      <td>02-00-00</td>\n",
       "      <td>59 ST</td>\n",
       "      <td>2019-04-29</td>\n",
       "      <td>646.0</td>\n",
       "      <td>2019-04-30</td>\n",
       "      <td>Tuesday</td>\n",
       "      <td>18</td>\n",
       "    </tr>\n",
       "    <tr>\n",
       "      <th>3</th>\n",
       "      <td>A002</td>\n",
       "      <td>R051</td>\n",
       "      <td>02-00-00</td>\n",
       "      <td>59 ST</td>\n",
       "      <td>2019-04-30</td>\n",
       "      <td>1496.0</td>\n",
       "      <td>2019-05-01</td>\n",
       "      <td>Wednesday</td>\n",
       "      <td>18</td>\n",
       "    </tr>\n",
       "    <tr>\n",
       "      <th>4</th>\n",
       "      <td>A002</td>\n",
       "      <td>R051</td>\n",
       "      <td>02-00-00</td>\n",
       "      <td>59 ST</td>\n",
       "      <td>2019-05-01</td>\n",
       "      <td>1487.0</td>\n",
       "      <td>2019-05-02</td>\n",
       "      <td>Thursday</td>\n",
       "      <td>18</td>\n",
       "    </tr>\n",
       "    <tr>\n",
       "      <th>5</th>\n",
       "      <td>A002</td>\n",
       "      <td>R051</td>\n",
       "      <td>02-00-00</td>\n",
       "      <td>59 ST</td>\n",
       "      <td>2019-05-02</td>\n",
       "      <td>1574.0</td>\n",
       "      <td>2019-05-03</td>\n",
       "      <td>Friday</td>\n",
       "      <td>18</td>\n",
       "    </tr>\n",
       "  </tbody>\n",
       "</table>\n",
       "</div>"
      ],
      "text/plain": [
       "    C/A  UNIT       SCP STATION       DATE  DAILY_ENTRIES DATE_SHIFT  \\\n",
       "1  A002  R051  02-00-00   59 ST 2019-04-28          851.0 2019-04-29   \n",
       "2  A002  R051  02-00-00   59 ST 2019-04-29          646.0 2019-04-30   \n",
       "3  A002  R051  02-00-00   59 ST 2019-04-30         1496.0 2019-05-01   \n",
       "4  A002  R051  02-00-00   59 ST 2019-05-01         1487.0 2019-05-02   \n",
       "5  A002  R051  02-00-00   59 ST 2019-05-02         1574.0 2019-05-03   \n",
       "\n",
       "     WEEKDAY  WEEK  \n",
       "1     Monday    18  \n",
       "2    Tuesday    18  \n",
       "3  Wednesday    18  \n",
       "4   Thursday    18  \n",
       "5     Friday    18  "
      ]
     },
     "execution_count": 159,
     "metadata": {},
     "output_type": "execute_result"
    }
   ],
   "source": [
    "weekday_ts['DATE_SHIFT'] = weekday_ts['DATE'] + pd.DateOffset(days=1)\n",
    "weekday_ts['WEEKDAY'] = weekday_ts['DATE_SHIFT'].dt.day_name()\n",
    "weekday_ts['WEEK'] = weekday_ts['DATE_SHIFT'].dt.week\n",
    "weekday_ts.head()"
   ]
  },
  {
   "cell_type": "code",
   "execution_count": 160,
   "metadata": {},
   "outputs": [],
   "source": [
    "# breaking out combined turnstile data for each station\n",
    "\n",
    "ts_df_penn = weekday_ts[weekday_ts['STATION'] =='34 ST-PENN STA']\n",
    "ts_df_gct = weekday_ts[weekday_ts['STATION'] =='GRD CNTRL-42 ST']\n",
    "ts_df_timesq = weekday_ts[weekday_ts['STATION'] =='TIMES SQ-42 ST']\n",
    "ts_df_34herald = weekday_ts[weekday_ts['STATION'] =='34 ST-HERALD SQ']"
   ]
  },
  {
   "cell_type": "code",
   "execution_count": 161,
   "metadata": {},
   "outputs": [
    {
     "data": {
      "text/html": [
       "<div>\n",
       "<style scoped>\n",
       "    .dataframe tbody tr th:only-of-type {\n",
       "        vertical-align: middle;\n",
       "    }\n",
       "\n",
       "    .dataframe tbody tr th {\n",
       "        vertical-align: top;\n",
       "    }\n",
       "\n",
       "    .dataframe thead th {\n",
       "        text-align: right;\n",
       "    }\n",
       "</style>\n",
       "<table border=\"1\" class=\"dataframe\">\n",
       "  <thead>\n",
       "    <tr style=\"text-align: right;\">\n",
       "      <th></th>\n",
       "      <th>SCP</th>\n",
       "      <th>WEEK</th>\n",
       "      <th>STATION</th>\n",
       "      <th>C/A</th>\n",
       "      <th>UNIT</th>\n",
       "      <th>DAILY_ENTRIES</th>\n",
       "    </tr>\n",
       "  </thead>\n",
       "  <tbody>\n",
       "    <tr>\n",
       "      <th>0</th>\n",
       "      <td>00-03-04</td>\n",
       "      <td>23</td>\n",
       "      <td>34 ST-PENN STA</td>\n",
       "      <td>N067</td>\n",
       "      <td>R012</td>\n",
       "      <td>231745.0</td>\n",
       "    </tr>\n",
       "    <tr>\n",
       "      <th>1</th>\n",
       "      <td>00-00-04</td>\n",
       "      <td>21</td>\n",
       "      <td>34 ST-PENN STA</td>\n",
       "      <td>N067</td>\n",
       "      <td>R012</td>\n",
       "      <td>57387.0</td>\n",
       "    </tr>\n",
       "    <tr>\n",
       "      <th>2</th>\n",
       "      <td>00-00-04</td>\n",
       "      <td>20</td>\n",
       "      <td>34 ST-PENN STA</td>\n",
       "      <td>N067</td>\n",
       "      <td>R012</td>\n",
       "      <td>56736.0</td>\n",
       "    </tr>\n",
       "    <tr>\n",
       "      <th>3</th>\n",
       "      <td>00-00-04</td>\n",
       "      <td>19</td>\n",
       "      <td>34 ST-PENN STA</td>\n",
       "      <td>N067</td>\n",
       "      <td>R012</td>\n",
       "      <td>55159.0</td>\n",
       "    </tr>\n",
       "    <tr>\n",
       "      <th>4</th>\n",
       "      <td>00-00-04</td>\n",
       "      <td>18</td>\n",
       "      <td>34 ST-PENN STA</td>\n",
       "      <td>N067</td>\n",
       "      <td>R012</td>\n",
       "      <td>55150.0</td>\n",
       "    </tr>\n",
       "  </tbody>\n",
       "</table>\n",
       "</div>"
      ],
      "text/plain": [
       "        SCP  WEEK         STATION   C/A  UNIT  DAILY_ENTRIES\n",
       "0  00-03-04    23  34 ST-PENN STA  N067  R012       231745.0\n",
       "1  00-00-04    21  34 ST-PENN STA  N067  R012        57387.0\n",
       "2  00-00-04    20  34 ST-PENN STA  N067  R012        56736.0\n",
       "3  00-00-04    19  34 ST-PENN STA  N067  R012        55159.0\n",
       "4  00-00-04    18  34 ST-PENN STA  N067  R012        55150.0"
      ]
     },
     "execution_count": 161,
     "metadata": {},
     "output_type": "execute_result"
    }
   ],
   "source": [
    "# sum SCP turnstiles by week, keeping station, unit, c/a labels\n",
    "\n",
    "ts_df_penn_wksum = ts_df_penn.groupby(['SCP', 'WEEK']).agg({\n",
    "    'STATION':'first',\n",
    "    'C/A':'first',\n",
    "    'UNIT': 'first',\n",
    "    'DAILY_ENTRIES':'sum'\n",
    "}).sort_values(by='DAILY_ENTRIES', ascending=False).reset_index()\n",
    "ts_df_penn_wksum.head()"
   ]
  },
  {
   "cell_type": "code",
   "execution_count": 162,
   "metadata": {},
   "outputs": [
    {
     "data": {
      "text/html": [
       "<div>\n",
       "<style scoped>\n",
       "    .dataframe tbody tr th:only-of-type {\n",
       "        vertical-align: middle;\n",
       "    }\n",
       "\n",
       "    .dataframe tbody tr th {\n",
       "        vertical-align: top;\n",
       "    }\n",
       "\n",
       "    .dataframe thead th {\n",
       "        text-align: right;\n",
       "    }\n",
       "</style>\n",
       "<table border=\"1\" class=\"dataframe\">\n",
       "  <thead>\n",
       "    <tr style=\"text-align: right;\">\n",
       "      <th></th>\n",
       "      <th>SCP</th>\n",
       "      <th>WEEK</th>\n",
       "      <th>STATION</th>\n",
       "      <th>C/A</th>\n",
       "      <th>UNIT</th>\n",
       "      <th>DAILY_ENTRIES</th>\n",
       "    </tr>\n",
       "  </thead>\n",
       "  <tbody>\n",
       "    <tr>\n",
       "      <th>0</th>\n",
       "      <td>00-03-03</td>\n",
       "      <td>18</td>\n",
       "      <td>GRD CNTRL-42 ST</td>\n",
       "      <td>R236</td>\n",
       "      <td>R045</td>\n",
       "      <td>65165.0</td>\n",
       "    </tr>\n",
       "    <tr>\n",
       "      <th>1</th>\n",
       "      <td>02-00-04</td>\n",
       "      <td>20</td>\n",
       "      <td>GRD CNTRL-42 ST</td>\n",
       "      <td>R238A</td>\n",
       "      <td>R046</td>\n",
       "      <td>61925.0</td>\n",
       "    </tr>\n",
       "    <tr>\n",
       "      <th>2</th>\n",
       "      <td>00-00-01</td>\n",
       "      <td>18</td>\n",
       "      <td>GRD CNTRL-42 ST</td>\n",
       "      <td>R236</td>\n",
       "      <td>R045</td>\n",
       "      <td>60822.0</td>\n",
       "    </tr>\n",
       "    <tr>\n",
       "      <th>3</th>\n",
       "      <td>00-00-01</td>\n",
       "      <td>19</td>\n",
       "      <td>GRD CNTRL-42 ST</td>\n",
       "      <td>R236</td>\n",
       "      <td>R045</td>\n",
       "      <td>58666.0</td>\n",
       "    </tr>\n",
       "    <tr>\n",
       "      <th>4</th>\n",
       "      <td>00-00-01</td>\n",
       "      <td>21</td>\n",
       "      <td>GRD CNTRL-42 ST</td>\n",
       "      <td>R236</td>\n",
       "      <td>R045</td>\n",
       "      <td>57859.0</td>\n",
       "    </tr>\n",
       "  </tbody>\n",
       "</table>\n",
       "</div>"
      ],
      "text/plain": [
       "        SCP  WEEK          STATION    C/A  UNIT  DAILY_ENTRIES\n",
       "0  00-03-03    18  GRD CNTRL-42 ST   R236  R045        65165.0\n",
       "1  02-00-04    20  GRD CNTRL-42 ST  R238A  R046        61925.0\n",
       "2  00-00-01    18  GRD CNTRL-42 ST   R236  R045        60822.0\n",
       "3  00-00-01    19  GRD CNTRL-42 ST   R236  R045        58666.0\n",
       "4  00-00-01    21  GRD CNTRL-42 ST   R236  R045        57859.0"
      ]
     },
     "execution_count": 162,
     "metadata": {},
     "output_type": "execute_result"
    }
   ],
   "source": [
    "# sum SCP turnstiles by week, keeping station, unit, c/a labels\n",
    "\n",
    "ts_df_gct_wksum = ts_df_gct.groupby(['SCP', 'WEEK']).agg({\n",
    "    'STATION':'first',\n",
    "    'C/A':'first',\n",
    "    'UNIT': 'first',\n",
    "    'DAILY_ENTRIES':'sum'\n",
    "}).sort_values(by='DAILY_ENTRIES', ascending=False).reset_index()\n",
    "ts_df_gct_wksum.head()"
   ]
  },
  {
   "cell_type": "code",
   "execution_count": 163,
   "metadata": {},
   "outputs": [
    {
     "data": {
      "text/html": [
       "<div>\n",
       "<style scoped>\n",
       "    .dataframe tbody tr th:only-of-type {\n",
       "        vertical-align: middle;\n",
       "    }\n",
       "\n",
       "    .dataframe tbody tr th {\n",
       "        vertical-align: top;\n",
       "    }\n",
       "\n",
       "    .dataframe thead th {\n",
       "        text-align: right;\n",
       "    }\n",
       "</style>\n",
       "<table border=\"1\" class=\"dataframe\">\n",
       "  <thead>\n",
       "    <tr style=\"text-align: right;\">\n",
       "      <th></th>\n",
       "      <th>SCP</th>\n",
       "      <th>WEEK</th>\n",
       "      <th>STATION</th>\n",
       "      <th>C/A</th>\n",
       "      <th>UNIT</th>\n",
       "      <th>DAILY_ENTRIES</th>\n",
       "    </tr>\n",
       "  </thead>\n",
       "  <tbody>\n",
       "    <tr>\n",
       "      <th>0</th>\n",
       "      <td>00-00-07</td>\n",
       "      <td>19</td>\n",
       "      <td>TIMES SQ-42 ST</td>\n",
       "      <td>R151</td>\n",
       "      <td>R033</td>\n",
       "      <td>876469.0</td>\n",
       "    </tr>\n",
       "    <tr>\n",
       "      <th>1</th>\n",
       "      <td>00-00-01</td>\n",
       "      <td>18</td>\n",
       "      <td>TIMES SQ-42 ST</td>\n",
       "      <td>R145</td>\n",
       "      <td>R032</td>\n",
       "      <td>43787.0</td>\n",
       "    </tr>\n",
       "    <tr>\n",
       "      <th>2</th>\n",
       "      <td>01-00-00</td>\n",
       "      <td>20</td>\n",
       "      <td>TIMES SQ-42 ST</td>\n",
       "      <td>A021</td>\n",
       "      <td>R032</td>\n",
       "      <td>41787.0</td>\n",
       "    </tr>\n",
       "    <tr>\n",
       "      <th>3</th>\n",
       "      <td>00-00-01</td>\n",
       "      <td>19</td>\n",
       "      <td>TIMES SQ-42 ST</td>\n",
       "      <td>R145</td>\n",
       "      <td>R032</td>\n",
       "      <td>41528.0</td>\n",
       "    </tr>\n",
       "    <tr>\n",
       "      <th>4</th>\n",
       "      <td>01-00-00</td>\n",
       "      <td>21</td>\n",
       "      <td>TIMES SQ-42 ST</td>\n",
       "      <td>A021</td>\n",
       "      <td>R032</td>\n",
       "      <td>41275.0</td>\n",
       "    </tr>\n",
       "  </tbody>\n",
       "</table>\n",
       "</div>"
      ],
      "text/plain": [
       "        SCP  WEEK         STATION   C/A  UNIT  DAILY_ENTRIES\n",
       "0  00-00-07    19  TIMES SQ-42 ST  R151  R033       876469.0\n",
       "1  00-00-01    18  TIMES SQ-42 ST  R145  R032        43787.0\n",
       "2  01-00-00    20  TIMES SQ-42 ST  A021  R032        41787.0\n",
       "3  00-00-01    19  TIMES SQ-42 ST  R145  R032        41528.0\n",
       "4  01-00-00    21  TIMES SQ-42 ST  A021  R032        41275.0"
      ]
     },
     "execution_count": 163,
     "metadata": {},
     "output_type": "execute_result"
    }
   ],
   "source": [
    "# sum SCP turnstiles by week, keeping station, unit, c/a labels\n",
    "\n",
    "ts_df_timesq_wksum = ts_df_timesq.groupby(['SCP', 'WEEK']).agg({\n",
    "    'STATION':'first',\n",
    "    'C/A':'first',\n",
    "    'UNIT': 'first',\n",
    "    'DAILY_ENTRIES':'sum'\n",
    "}).sort_values(by='DAILY_ENTRIES', ascending=False).reset_index()\n",
    "ts_df_timesq_wksum.head()"
   ]
  },
  {
   "cell_type": "code",
   "execution_count": 164,
   "metadata": {},
   "outputs": [
    {
     "data": {
      "text/html": [
       "<div>\n",
       "<style scoped>\n",
       "    .dataframe tbody tr th:only-of-type {\n",
       "        vertical-align: middle;\n",
       "    }\n",
       "\n",
       "    .dataframe tbody tr th {\n",
       "        vertical-align: top;\n",
       "    }\n",
       "\n",
       "    .dataframe thead th {\n",
       "        text-align: right;\n",
       "    }\n",
       "</style>\n",
       "<table border=\"1\" class=\"dataframe\">\n",
       "  <thead>\n",
       "    <tr style=\"text-align: right;\">\n",
       "      <th></th>\n",
       "      <th>SCP</th>\n",
       "      <th>WEEK</th>\n",
       "      <th>STATION</th>\n",
       "      <th>C/A</th>\n",
       "      <th>UNIT</th>\n",
       "      <th>DAILY_ENTRIES</th>\n",
       "    </tr>\n",
       "  </thead>\n",
       "  <tbody>\n",
       "    <tr>\n",
       "      <th>0</th>\n",
       "      <td>01-00-02</td>\n",
       "      <td>20</td>\n",
       "      <td>34 ST-HERALD SQ</td>\n",
       "      <td>A022</td>\n",
       "      <td>R022</td>\n",
       "      <td>55110.0</td>\n",
       "    </tr>\n",
       "    <tr>\n",
       "      <th>1</th>\n",
       "      <td>01-00-02</td>\n",
       "      <td>21</td>\n",
       "      <td>34 ST-HERALD SQ</td>\n",
       "      <td>A022</td>\n",
       "      <td>R022</td>\n",
       "      <td>54995.0</td>\n",
       "    </tr>\n",
       "    <tr>\n",
       "      <th>2</th>\n",
       "      <td>01-00-02</td>\n",
       "      <td>18</td>\n",
       "      <td>34 ST-HERALD SQ</td>\n",
       "      <td>A022</td>\n",
       "      <td>R022</td>\n",
       "      <td>54605.0</td>\n",
       "    </tr>\n",
       "    <tr>\n",
       "      <th>3</th>\n",
       "      <td>01-00-02</td>\n",
       "      <td>19</td>\n",
       "      <td>34 ST-HERALD SQ</td>\n",
       "      <td>A022</td>\n",
       "      <td>R022</td>\n",
       "      <td>54222.0</td>\n",
       "    </tr>\n",
       "    <tr>\n",
       "      <th>4</th>\n",
       "      <td>01-00-01</td>\n",
       "      <td>21</td>\n",
       "      <td>34 ST-HERALD SQ</td>\n",
       "      <td>A022</td>\n",
       "      <td>R022</td>\n",
       "      <td>53388.0</td>\n",
       "    </tr>\n",
       "  </tbody>\n",
       "</table>\n",
       "</div>"
      ],
      "text/plain": [
       "        SCP  WEEK          STATION   C/A  UNIT  DAILY_ENTRIES\n",
       "0  01-00-02    20  34 ST-HERALD SQ  A022  R022        55110.0\n",
       "1  01-00-02    21  34 ST-HERALD SQ  A022  R022        54995.0\n",
       "2  01-00-02    18  34 ST-HERALD SQ  A022  R022        54605.0\n",
       "3  01-00-02    19  34 ST-HERALD SQ  A022  R022        54222.0\n",
       "4  01-00-01    21  34 ST-HERALD SQ  A022  R022        53388.0"
      ]
     },
     "execution_count": 164,
     "metadata": {},
     "output_type": "execute_result"
    }
   ],
   "source": [
    "# sum SCP turnstiles by week, keeping station, unit, c/a labels\n",
    "\n",
    "ts_df_34herald_wksum = ts_df_34herald.groupby(['SCP', 'WEEK']).agg({\n",
    "    'STATION':'first',\n",
    "    'C/A':'first',\n",
    "    'UNIT': 'first',\n",
    "    'DAILY_ENTRIES':'sum'\n",
    "}).sort_values(by='DAILY_ENTRIES', ascending=False).reset_index()\n",
    "ts_df_34herald_wksum.head()"
   ]
  },
  {
   "cell_type": "code",
   "execution_count": 165,
   "metadata": {},
   "outputs": [],
   "source": [
    "# create SCP_UNIT_CA column and label\n",
    "\n",
    "ts_df_penn_wksum['SCP_UNIT_CA'] = ts_df_penn_wksum['SCP'] \\\n",
    "+ ' ' + ts_df_penn_wksum['UNIT'] + ' ' \\\n",
    "+ ts_df_penn_wksum['C/A']\n",
    "\n",
    "ts_df_gct_wksum['SCP_UNIT_CA'] = ts_df_gct_wksum['SCP'] \\\n",
    "+ ' ' + ts_df_gct_wksum['UNIT'] + ' ' \\\n",
    "+ ts_df_gct_wksum['C/A']\n",
    "\n",
    "ts_df_timesq_wksum['SCP_UNIT_CA'] = ts_df_timesq_wksum['SCP'] \\\n",
    "+ ' ' + ts_df_timesq_wksum['UNIT'] + ' ' \\\n",
    "+ ts_df_timesq_wksum['C/A']\n",
    "\n",
    "ts_df_34herald_wksum['SCP_UNIT_CA'] = ts_df_34herald_wksum['SCP'] \\\n",
    "+ ' ' + ts_df_34herald_wksum['UNIT'] + ' ' \\\n",
    "+ ts_df_34herald_wksum['C/A']"
   ]
  },
  {
   "cell_type": "code",
   "execution_count": 166,
   "metadata": {},
   "outputs": [
    {
     "data": {
      "text/html": [
       "<div>\n",
       "<style scoped>\n",
       "    .dataframe tbody tr th:only-of-type {\n",
       "        vertical-align: middle;\n",
       "    }\n",
       "\n",
       "    .dataframe tbody tr th {\n",
       "        vertical-align: top;\n",
       "    }\n",
       "\n",
       "    .dataframe thead th {\n",
       "        text-align: right;\n",
       "    }\n",
       "</style>\n",
       "<table border=\"1\" class=\"dataframe\">\n",
       "  <thead>\n",
       "    <tr style=\"text-align: right;\">\n",
       "      <th></th>\n",
       "      <th>SCP_UNIT_CA</th>\n",
       "      <th>STATION</th>\n",
       "      <th>C/A</th>\n",
       "      <th>UNIT</th>\n",
       "      <th>AVG_WEEKLY_ENTRIES</th>\n",
       "    </tr>\n",
       "  </thead>\n",
       "  <tbody>\n",
       "    <tr>\n",
       "      <th>0</th>\n",
       "      <td>00-03-04 R012 N067</td>\n",
       "      <td>34 ST-PENN STA</td>\n",
       "      <td>N067</td>\n",
       "      <td>R012</td>\n",
       "      <td>70306.0</td>\n",
       "    </tr>\n",
       "    <tr>\n",
       "      <th>1</th>\n",
       "      <td>00-00-04 R012 N067</td>\n",
       "      <td>34 ST-PENN STA</td>\n",
       "      <td>N067</td>\n",
       "      <td>R012</td>\n",
       "      <td>53353.0</td>\n",
       "    </tr>\n",
       "    <tr>\n",
       "      <th>2</th>\n",
       "      <td>00-00-03 R012 N067</td>\n",
       "      <td>34 ST-PENN STA</td>\n",
       "      <td>N067</td>\n",
       "      <td>R012</td>\n",
       "      <td>49053.0</td>\n",
       "    </tr>\n",
       "    <tr>\n",
       "      <th>3</th>\n",
       "      <td>00-00-01 R012 N067</td>\n",
       "      <td>34 ST-PENN STA</td>\n",
       "      <td>N067</td>\n",
       "      <td>R012</td>\n",
       "      <td>46599.0</td>\n",
       "    </tr>\n",
       "    <tr>\n",
       "      <th>4</th>\n",
       "      <td>00-00-02 R012 N067</td>\n",
       "      <td>34 ST-PENN STA</td>\n",
       "      <td>N067</td>\n",
       "      <td>R012</td>\n",
       "      <td>40522.0</td>\n",
       "    </tr>\n",
       "  </tbody>\n",
       "</table>\n",
       "</div>"
      ],
      "text/plain": [
       "          SCP_UNIT_CA         STATION   C/A  UNIT  AVG_WEEKLY_ENTRIES\n",
       "0  00-03-04 R012 N067  34 ST-PENN STA  N067  R012             70306.0\n",
       "1  00-00-04 R012 N067  34 ST-PENN STA  N067  R012             53353.0\n",
       "2  00-00-03 R012 N067  34 ST-PENN STA  N067  R012             49053.0\n",
       "3  00-00-01 R012 N067  34 ST-PENN STA  N067  R012             46599.0\n",
       "4  00-00-02 R012 N067  34 ST-PENN STA  N067  R012             40522.0"
      ]
     },
     "execution_count": 166,
     "metadata": {},
     "output_type": "execute_result"
    }
   ],
   "source": [
    "# use turnstile weekly sums to determine turnstile weekly averages\n",
    "ts_df_penn_wkmean = ts_df_penn_wksum.groupby('SCP_UNIT_CA').agg({\n",
    "    'STATION':'first',\n",
    "    'C/A':'first',\n",
    "    'UNIT':'first',\n",
    "    'DAILY_ENTRIES':'mean'\n",
    "}).sort_values(by='DAILY_ENTRIES', ascending=False).reset_index()\n",
    "\n",
    "ts_df_penn_wkmean['AVG_WEEKLY_ENTRIES'] = ts_df_penn_wkmean['DAILY_ENTRIES']\n",
    "\n",
    "ts_df_penn_wkmean = ts_df_penn_wkmean.drop(columns = [\n",
    "    'WEEK', \n",
    "    'DAILY_ENTRIES'], errors='ignore')\n",
    "\n",
    "ts_df_penn_wkmean.head()"
   ]
  },
  {
   "cell_type": "code",
   "execution_count": 167,
   "metadata": {},
   "outputs": [
    {
     "data": {
      "text/html": [
       "<div>\n",
       "<style scoped>\n",
       "    .dataframe tbody tr th:only-of-type {\n",
       "        vertical-align: middle;\n",
       "    }\n",
       "\n",
       "    .dataframe tbody tr th {\n",
       "        vertical-align: top;\n",
       "    }\n",
       "\n",
       "    .dataframe thead th {\n",
       "        text-align: right;\n",
       "    }\n",
       "</style>\n",
       "<table border=\"1\" class=\"dataframe\">\n",
       "  <thead>\n",
       "    <tr style=\"text-align: right;\">\n",
       "      <th></th>\n",
       "      <th>SCP_UNIT_CA</th>\n",
       "      <th>STATION</th>\n",
       "      <th>C/A</th>\n",
       "      <th>UNIT</th>\n",
       "      <th>AVG_WEEKLY_ENTRIES</th>\n",
       "    </tr>\n",
       "  </thead>\n",
       "  <tbody>\n",
       "    <tr>\n",
       "      <th>0</th>\n",
       "      <td>00-00-01 R045 R236</td>\n",
       "      <td>GRD CNTRL-42 ST</td>\n",
       "      <td>R236</td>\n",
       "      <td>R045</td>\n",
       "      <td>55566.50</td>\n",
       "    </tr>\n",
       "    <tr>\n",
       "      <th>1</th>\n",
       "      <td>02-00-04 R046 R238A</td>\n",
       "      <td>GRD CNTRL-42 ST</td>\n",
       "      <td>R238A</td>\n",
       "      <td>R046</td>\n",
       "      <td>49215.33</td>\n",
       "    </tr>\n",
       "    <tr>\n",
       "      <th>2</th>\n",
       "      <td>00-00-00 R045 R236</td>\n",
       "      <td>GRD CNTRL-42 ST</td>\n",
       "      <td>R236</td>\n",
       "      <td>R045</td>\n",
       "      <td>48589.17</td>\n",
       "    </tr>\n",
       "    <tr>\n",
       "      <th>3</th>\n",
       "      <td>02-00-03 R046 R238A</td>\n",
       "      <td>GRD CNTRL-42 ST</td>\n",
       "      <td>R238A</td>\n",
       "      <td>R046</td>\n",
       "      <td>42752.00</td>\n",
       "    </tr>\n",
       "    <tr>\n",
       "      <th>4</th>\n",
       "      <td>02-03-01 R046 R238A</td>\n",
       "      <td>GRD CNTRL-42 ST</td>\n",
       "      <td>R238A</td>\n",
       "      <td>R046</td>\n",
       "      <td>39523.00</td>\n",
       "    </tr>\n",
       "  </tbody>\n",
       "</table>\n",
       "</div>"
      ],
      "text/plain": [
       "           SCP_UNIT_CA          STATION    C/A  UNIT  AVG_WEEKLY_ENTRIES\n",
       "0   00-00-01 R045 R236  GRD CNTRL-42 ST   R236  R045            55566.50\n",
       "1  02-00-04 R046 R238A  GRD CNTRL-42 ST  R238A  R046            49215.33\n",
       "2   00-00-00 R045 R236  GRD CNTRL-42 ST   R236  R045            48589.17\n",
       "3  02-00-03 R046 R238A  GRD CNTRL-42 ST  R238A  R046            42752.00\n",
       "4  02-03-01 R046 R238A  GRD CNTRL-42 ST  R238A  R046            39523.00"
      ]
     },
     "execution_count": 167,
     "metadata": {},
     "output_type": "execute_result"
    }
   ],
   "source": [
    "# use turnstile weekly sums to determine turnstile weekly averages\n",
    "ts_df_gct_wkmean = ts_df_gct_wksum.groupby('SCP_UNIT_CA').agg({\n",
    "    'STATION':'first',\n",
    "    'C/A':'first',\n",
    "    'UNIT':'first',\n",
    "    'DAILY_ENTRIES':'mean'\n",
    "}).sort_values(by='DAILY_ENTRIES', ascending=False).reset_index()\n",
    "\n",
    "ts_df_gct_wkmean['AVG_WEEKLY_ENTRIES'] = ts_df_gct_wkmean['DAILY_ENTRIES']\n",
    "\n",
    "ts_df_gct_wkmean = ts_df_gct_wkmean.drop(columns = [\n",
    "    'WEEK', \n",
    "    'DAILY_ENTRIES'], errors='ignore')\n",
    "\n",
    "ts_df_gct_wkmean.head()"
   ]
  },
  {
   "cell_type": "code",
   "execution_count": 168,
   "metadata": {},
   "outputs": [
    {
     "data": {
      "text/html": [
       "<div>\n",
       "<style scoped>\n",
       "    .dataframe tbody tr th:only-of-type {\n",
       "        vertical-align: middle;\n",
       "    }\n",
       "\n",
       "    .dataframe tbody tr th {\n",
       "        vertical-align: top;\n",
       "    }\n",
       "\n",
       "    .dataframe thead th {\n",
       "        text-align: right;\n",
       "    }\n",
       "</style>\n",
       "<table border=\"1\" class=\"dataframe\">\n",
       "  <thead>\n",
       "    <tr style=\"text-align: right;\">\n",
       "      <th></th>\n",
       "      <th>SCP_UNIT_CA</th>\n",
       "      <th>STATION</th>\n",
       "      <th>C/A</th>\n",
       "      <th>UNIT</th>\n",
       "      <th>AVG_WEEKLY_ENTRIES</th>\n",
       "    </tr>\n",
       "  </thead>\n",
       "  <tbody>\n",
       "    <tr>\n",
       "      <th>0</th>\n",
       "      <td>00-00-07 R033 R151</td>\n",
       "      <td>TIMES SQ-42 ST</td>\n",
       "      <td>R151</td>\n",
       "      <td>R033</td>\n",
       "      <td>163036.17</td>\n",
       "    </tr>\n",
       "    <tr>\n",
       "      <th>1</th>\n",
       "      <td>00-00-01 R032 R145</td>\n",
       "      <td>TIMES SQ-42 ST</td>\n",
       "      <td>R145</td>\n",
       "      <td>R032</td>\n",
       "      <td>39750.83</td>\n",
       "    </tr>\n",
       "    <tr>\n",
       "      <th>2</th>\n",
       "      <td>01-00-00 R032 A021</td>\n",
       "      <td>TIMES SQ-42 ST</td>\n",
       "      <td>A021</td>\n",
       "      <td>R032</td>\n",
       "      <td>39461.17</td>\n",
       "    </tr>\n",
       "    <tr>\n",
       "      <th>3</th>\n",
       "      <td>01-00-01 R032 A021</td>\n",
       "      <td>TIMES SQ-42 ST</td>\n",
       "      <td>A021</td>\n",
       "      <td>R032</td>\n",
       "      <td>30491.67</td>\n",
       "    </tr>\n",
       "    <tr>\n",
       "      <th>4</th>\n",
       "      <td>00-00-02 R032 R145</td>\n",
       "      <td>TIMES SQ-42 ST</td>\n",
       "      <td>R145</td>\n",
       "      <td>R032</td>\n",
       "      <td>30179.67</td>\n",
       "    </tr>\n",
       "  </tbody>\n",
       "</table>\n",
       "</div>"
      ],
      "text/plain": [
       "          SCP_UNIT_CA         STATION   C/A  UNIT  AVG_WEEKLY_ENTRIES\n",
       "0  00-00-07 R033 R151  TIMES SQ-42 ST  R151  R033           163036.17\n",
       "1  00-00-01 R032 R145  TIMES SQ-42 ST  R145  R032            39750.83\n",
       "2  01-00-00 R032 A021  TIMES SQ-42 ST  A021  R032            39461.17\n",
       "3  01-00-01 R032 A021  TIMES SQ-42 ST  A021  R032            30491.67\n",
       "4  00-00-02 R032 R145  TIMES SQ-42 ST  R145  R032            30179.67"
      ]
     },
     "execution_count": 168,
     "metadata": {},
     "output_type": "execute_result"
    }
   ],
   "source": [
    "# use turnstile weekly sums to determine turnstile weekly averages\n",
    "ts_df_timesq_wkmean = ts_df_timesq_wksum.groupby('SCP_UNIT_CA').agg({\n",
    "    'STATION':'first',\n",
    "    'C/A':'first',\n",
    "    'UNIT':'first',\n",
    "    'DAILY_ENTRIES':'mean'\n",
    "}).sort_values(by='DAILY_ENTRIES', ascending=False).reset_index()\n",
    "\n",
    "ts_df_timesq_wkmean['AVG_WEEKLY_ENTRIES'] = ts_df_timesq_wkmean['DAILY_ENTRIES']\n",
    "\n",
    "ts_df_timesq_wkmean = ts_df_timesq_wkmean.drop(columns = [\n",
    "    'WEEK', \n",
    "    'DAILY_ENTRIES'], errors='ignore')\n",
    "\n",
    "ts_df_timesq_wkmean.head()"
   ]
  },
  {
   "cell_type": "code",
   "execution_count": 169,
   "metadata": {},
   "outputs": [
    {
     "data": {
      "text/html": [
       "<div>\n",
       "<style scoped>\n",
       "    .dataframe tbody tr th:only-of-type {\n",
       "        vertical-align: middle;\n",
       "    }\n",
       "\n",
       "    .dataframe tbody tr th {\n",
       "        vertical-align: top;\n",
       "    }\n",
       "\n",
       "    .dataframe thead th {\n",
       "        text-align: right;\n",
       "    }\n",
       "</style>\n",
       "<table border=\"1\" class=\"dataframe\">\n",
       "  <thead>\n",
       "    <tr style=\"text-align: right;\">\n",
       "      <th></th>\n",
       "      <th>SCP_UNIT_CA</th>\n",
       "      <th>STATION</th>\n",
       "      <th>C/A</th>\n",
       "      <th>UNIT</th>\n",
       "      <th>AVG_WEEKLY_ENTRIES</th>\n",
       "    </tr>\n",
       "  </thead>\n",
       "  <tbody>\n",
       "    <tr>\n",
       "      <th>0</th>\n",
       "      <td>01-00-02 R022 A022</td>\n",
       "      <td>34 ST-HERALD SQ</td>\n",
       "      <td>A022</td>\n",
       "      <td>R022</td>\n",
       "      <td>52681.33</td>\n",
       "    </tr>\n",
       "    <tr>\n",
       "      <th>1</th>\n",
       "      <td>01-00-01 R022 A022</td>\n",
       "      <td>34 ST-HERALD SQ</td>\n",
       "      <td>A022</td>\n",
       "      <td>R022</td>\n",
       "      <td>50177.33</td>\n",
       "    </tr>\n",
       "    <tr>\n",
       "      <th>2</th>\n",
       "      <td>01-00-00 R022 A022</td>\n",
       "      <td>34 ST-HERALD SQ</td>\n",
       "      <td>A022</td>\n",
       "      <td>R022</td>\n",
       "      <td>48545.33</td>\n",
       "    </tr>\n",
       "    <tr>\n",
       "      <th>3</th>\n",
       "      <td>00-05-05 R022 N506</td>\n",
       "      <td>34 ST-HERALD SQ</td>\n",
       "      <td>N506</td>\n",
       "      <td>R022</td>\n",
       "      <td>34448.67</td>\n",
       "    </tr>\n",
       "    <tr>\n",
       "      <th>4</th>\n",
       "      <td>00-05-04 R022 N506</td>\n",
       "      <td>34 ST-HERALD SQ</td>\n",
       "      <td>N506</td>\n",
       "      <td>R022</td>\n",
       "      <td>29471.17</td>\n",
       "    </tr>\n",
       "  </tbody>\n",
       "</table>\n",
       "</div>"
      ],
      "text/plain": [
       "          SCP_UNIT_CA          STATION   C/A  UNIT  AVG_WEEKLY_ENTRIES\n",
       "0  01-00-02 R022 A022  34 ST-HERALD SQ  A022  R022            52681.33\n",
       "1  01-00-01 R022 A022  34 ST-HERALD SQ  A022  R022            50177.33\n",
       "2  01-00-00 R022 A022  34 ST-HERALD SQ  A022  R022            48545.33\n",
       "3  00-05-05 R022 N506  34 ST-HERALD SQ  N506  R022            34448.67\n",
       "4  00-05-04 R022 N506  34 ST-HERALD SQ  N506  R022            29471.17"
      ]
     },
     "execution_count": 169,
     "metadata": {},
     "output_type": "execute_result"
    }
   ],
   "source": [
    "# use turnstile weekly sums to determine turnstile weekly averages\n",
    "ts_df_34herald_wkmean = ts_df_34herald_wksum.groupby('SCP_UNIT_CA').agg({\n",
    "    'STATION':'first',\n",
    "    'C/A':'first',\n",
    "    'UNIT':'first',\n",
    "    'DAILY_ENTRIES':'mean'\n",
    "}).sort_values(by='DAILY_ENTRIES', ascending=False).reset_index()\n",
    "\n",
    "ts_df_34herald_wkmean['AVG_WEEKLY_ENTRIES'] = ts_df_34herald_wkmean['DAILY_ENTRIES']\n",
    "\n",
    "ts_df_34herald_wkmean = ts_df_34herald_wkmean.drop(columns = [\n",
    "    'WEEK', \n",
    "    'DAILY_ENTRIES'], errors='ignore')\n",
    "\n",
    "ts_df_34herald_wkmean.head()"
   ]
  },
  {
   "cell_type": "code",
   "execution_count": 170,
   "metadata": {},
   "outputs": [
    {
     "data": {
      "image/png": "[encoded data removed]",
      "text/plain": [
       "<Figure size 432x288 with 1 Axes>"
      ]
     },
     "metadata": {},
     "output_type": "display_data"
    }
   ],
   "source": [
    "sns.set_context('talk')\n",
    "sns.set_style('ticks')\n",
    "g = sns.barplot(data = ts_df_penn_wkmean.head(), \n",
    "                y = 'SCP_UNIT_CA', \n",
    "                x = 'AVG_WEEKLY_ENTRIES', \n",
    "                palette = 'rainbow')\n",
    "\n",
    "#g.set_title('Turnstiles: 34th St Penn Station - Highest Weekly Average')\n",
    "g.figure.savefig('top_5_ts_penn.png', bbox_inches='tight')"
   ]
  },
  {
   "cell_type": "code",
   "execution_count": 171,
   "metadata": {},
   "outputs": [
    {
     "data": {
      "image/png": "[encoded data removed]",
      "text/plain": [
       "<Figure size 432x288 with 1 Axes>"
      ]
     },
     "metadata": {},
     "output_type": "display_data"
    }
   ],
   "source": [
    "sns.set_context('talk')\n",
    "sns.set_style('ticks')\n",
    "g = sns.barplot(data = ts_df_gct_wkmean.head(), \n",
    "                y = 'SCP_UNIT_CA', \n",
    "                x = 'AVG_WEEKLY_ENTRIES', \n",
    "                palette = 'rainbow')\n",
    "\n",
    "#g.set_title('Turnstiles: Grand Central 42nd St - Highest Weekly Average')\n",
    "g.figure.savefig('top_5_ts_gct.png', bbox_inches='tight')"
   ]
  },
  {
   "cell_type": "code",
   "execution_count": 172,
   "metadata": {},
   "outputs": [
    {
     "data": {
      "image/png": "[encoded data removed]",
      "text/plain": [
       "<Figure size 432x288 with 1 Axes>"
      ]
     },
     "metadata": {},
     "output_type": "display_data"
    }
   ],
   "source": [
    "sns.set_context('talk')\n",
    "sns.set_style('ticks')\n",
    "g = sns.barplot(data = ts_df_34herald_wkmean.head(), \n",
    "                y = 'SCP_UNIT_CA', \n",
    "                x = 'AVG_WEEKLY_ENTRIES', \n",
    "                palette = 'rainbow')\n",
    "\n",
    "#g.set_title('Turnstiles: 34th St Herald Square - Highest Weekly Average')\n",
    "g.figure.savefig('top_5_ts_34herald.png', bbox_inches='tight')"
   ]
  },
  {
   "cell_type": "code",
   "execution_count": 173,
   "metadata": {},
   "outputs": [
    {
     "data": {
      "image/png": "[encoded data removed]",
      "text/plain": [
       "<Figure size 432x288 with 1 Axes>"
      ]
     },
     "metadata": {},
     "output_type": "display_data"
    }
   ],
   "source": [
    "sns.set_context('talk')\n",
    "sns.set_style('ticks')\n",
    "g = sns.barplot(data = ts_df_timesq_wkmean.head(), \n",
    "                y = 'SCP_UNIT_CA', \n",
    "                x = 'AVG_WEEKLY_ENTRIES', \n",
    "                palette = 'rainbow')\n",
    "\n",
    "#g.set_title('Turnstiles: Times Square 42nd St - Highest Weekly Average')\n",
    "g.figure.savefig('top_5_ts_timesq.png', bbox_inches='tight')"
   ]
  }
 ],
 "metadata": {
  "kernelspec": {
   "display_name": "Python 3",
   "language": "python",
   "name": "python3"
  },
  "language_info": {
   "codemirror_mode": {
    "name": "ipython",
    "version": 3
   },
   "file_extension": ".py",
   "mimetype": "text/x-python",
   "name": "python",
   "nbconvert_exporter": "python",
   "pygments_lexer": "ipython3",
   "version": "3.8.5"
  }
 },
 "nbformat": 4,
 "nbformat_minor": 4
}
