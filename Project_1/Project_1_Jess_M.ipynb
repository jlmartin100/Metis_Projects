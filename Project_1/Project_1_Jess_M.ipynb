{
 "cells": [
  {
   "cell_type": "code",
   "execution_count": 29,
   "metadata": {},
   "outputs": [],
   "source": [
    "import numpy as np\n",
    "import pandas as pd"
   ]
  },
  {
   "cell_type": "code",
   "execution_count": 34,
   "metadata": {},
   "outputs": [
    {
     "name": "stdout",
     "output_type": "stream",
     "text": [
      "Pandas version:  1.1.5\n",
      "Numpy version:  1.19.2\n"
     ]
    }
   ],
   "source": [
    "print(\"Pandas version: \", pd.__version__)\n",
    "print(\"Numpy version: \", np.__version__)"
   ]
  },
  {
   "cell_type": "code",
   "execution_count": 35,
   "metadata": {},
   "outputs": [],
   "source": [
    "pd.set_option('display.max_columns', None)\n",
    "pd.set_option('display.max_rows', 25)\n",
    "pd.set_option('display.precision', 3)"
   ]
  },
  {
   "cell_type": "code",
   "execution_count": 36,
   "metadata": {},
   "outputs": [],
   "source": [
    "turnstiles_2017_file = \"https://data.ny.gov/resource/v5y5-mwpb.csv\"\n",
    "turnstiles_2018_file = \"https://data.ny.gov/resource/bjcb-yee3.csv\"\n",
    "turnstiles_2019_file = \"https://data.ny.gov/resource/xfn5-qji9.csv\""
   ]
  },
  {
   "cell_type": "code",
   "execution_count": 45,
   "metadata": {},
   "outputs": [],
   "source": [
    "pd.read_csv?"
   ]
  },
  {
   "cell_type": "code",
   "execution_count": 37,
   "metadata": {},
   "outputs": [],
   "source": [
    "ts_2017 = pd.read_csv(turnstiles_2017_file)\n",
    "ts_2018 = pd.read_csv(turnstiles_2018_file)\n",
    "ts_2019 = pd.read_csv(turnstiles_2019_file)"
   ]
  },
  {
   "cell_type": "code",
   "execution_count": 38,
   "metadata": {},
   "outputs": [
    {
     "data": {
      "text/html": [
       "<div>\n",
       "<style scoped>\n",
       "    .dataframe tbody tr th:only-of-type {\n",
       "        vertical-align: middle;\n",
       "    }\n",
       "\n",
       "    .dataframe tbody tr th {\n",
       "        vertical-align: top;\n",
       "    }\n",
       "\n",
       "    .dataframe thead th {\n",
       "        text-align: right;\n",
       "    }\n",
       "</style>\n",
       "<table border=\"1\" class=\"dataframe\">\n",
       "  <thead>\n",
       "    <tr style=\"text-align: right;\">\n",
       "      <th></th>\n",
       "      <th>c_a</th>\n",
       "      <th>unit</th>\n",
       "      <th>scp</th>\n",
       "      <th>station</th>\n",
       "      <th>line_name</th>\n",
       "      <th>division</th>\n",
       "      <th>date</th>\n",
       "      <th>time</th>\n",
       "      <th>description</th>\n",
       "      <th>entries</th>\n",
       "      <th>exits</th>\n",
       "    </tr>\n",
       "  </thead>\n",
       "  <tbody>\n",
       "    <tr>\n",
       "      <th>0</th>\n",
       "      <td>A033</td>\n",
       "      <td>R170</td>\n",
       "      <td>02-00-04</td>\n",
       "      <td>14 ST-UNION SQ</td>\n",
       "      <td>LNQR456W</td>\n",
       "      <td>BMT</td>\n",
       "      <td>2019-12-27T00:00:00.000</td>\n",
       "      <td>00:00:00</td>\n",
       "      <td>REGULAR</td>\n",
       "      <td>6483080</td>\n",
       "      <td>4945335</td>\n",
       "    </tr>\n",
       "    <tr>\n",
       "      <th>1</th>\n",
       "      <td>A033</td>\n",
       "      <td>R170</td>\n",
       "      <td>02-00-05</td>\n",
       "      <td>14 ST-UNION SQ</td>\n",
       "      <td>LNQR456W</td>\n",
       "      <td>BMT</td>\n",
       "      <td>2019-12-27T00:00:00.000</td>\n",
       "      <td>00:00:00</td>\n",
       "      <td>REGULAR</td>\n",
       "      <td>17538854</td>\n",
       "      <td>7031168</td>\n",
       "    </tr>\n",
       "    <tr>\n",
       "      <th>2</th>\n",
       "      <td>A033</td>\n",
       "      <td>R170</td>\n",
       "      <td>02-06-01</td>\n",
       "      <td>14 ST-UNION SQ</td>\n",
       "      <td>LNQR456W</td>\n",
       "      <td>BMT</td>\n",
       "      <td>2019-12-27T00:00:00.000</td>\n",
       "      <td>00:00:00</td>\n",
       "      <td>REGULAR</td>\n",
       "      <td>71047673</td>\n",
       "      <td>20925389</td>\n",
       "    </tr>\n",
       "    <tr>\n",
       "      <th>3</th>\n",
       "      <td>A033</td>\n",
       "      <td>R170</td>\n",
       "      <td>02-00-01</td>\n",
       "      <td>14 ST-UNION SQ</td>\n",
       "      <td>LNQR456W</td>\n",
       "      <td>BMT</td>\n",
       "      <td>2019-12-27T00:00:00.000</td>\n",
       "      <td>00:00:00</td>\n",
       "      <td>REGULAR</td>\n",
       "      <td>2430093</td>\n",
       "      <td>2921770</td>\n",
       "    </tr>\n",
       "    <tr>\n",
       "      <th>4</th>\n",
       "      <td>A033</td>\n",
       "      <td>R170</td>\n",
       "      <td>02-00-02</td>\n",
       "      <td>14 ST-UNION SQ</td>\n",
       "      <td>LNQR456W</td>\n",
       "      <td>BMT</td>\n",
       "      <td>2019-12-27T00:00:00.000</td>\n",
       "      <td>00:00:00</td>\n",
       "      <td>REGULAR</td>\n",
       "      <td>14983900</td>\n",
       "      <td>14554087</td>\n",
       "    </tr>\n",
       "  </tbody>\n",
       "</table>\n",
       "</div>"
      ],
      "text/plain": [
       "    c_a  unit       scp         station line_name division  \\\n",
       "0  A033  R170  02-00-04  14 ST-UNION SQ  LNQR456W      BMT   \n",
       "1  A033  R170  02-00-05  14 ST-UNION SQ  LNQR456W      BMT   \n",
       "2  A033  R170  02-06-01  14 ST-UNION SQ  LNQR456W      BMT   \n",
       "3  A033  R170  02-00-01  14 ST-UNION SQ  LNQR456W      BMT   \n",
       "4  A033  R170  02-00-02  14 ST-UNION SQ  LNQR456W      BMT   \n",
       "\n",
       "                      date      time description   entries     exits  \n",
       "0  2019-12-27T00:00:00.000  00:00:00     REGULAR   6483080   4945335  \n",
       "1  2019-12-27T00:00:00.000  00:00:00     REGULAR  17538854   7031168  \n",
       "2  2019-12-27T00:00:00.000  00:00:00     REGULAR  71047673  20925389  \n",
       "3  2019-12-27T00:00:00.000  00:00:00     REGULAR   2430093   2921770  \n",
       "4  2019-12-27T00:00:00.000  00:00:00     REGULAR  14983900  14554087  "
      ]
     },
     "execution_count": 38,
     "metadata": {},
     "output_type": "execute_result"
    }
   ],
   "source": [
    "ts_2019.head()"
   ]
  },
  {
   "cell_type": "code",
   "execution_count": 46,
   "metadata": {},
   "outputs": [
    {
     "data": {
      "text/plain": [
       "(1000, 11)"
      ]
     },
     "execution_count": 46,
     "metadata": {},
     "output_type": "execute_result"
    }
   ],
   "source": [
    "# not sure why this is showing only 1000 rows - maybe something in the read_csv settings?\n",
    "# maybe needs a chunk size?\n",
    "# and clearly the dates below show that the imported data is truncated\n",
    "ts_2019.shape"
   ]
  },
  {
   "cell_type": "code",
   "execution_count": 42,
   "metadata": {},
   "outputs": [
    {
     "data": {
      "text/plain": [
       "'2019-12-27T00:00:00.000'"
      ]
     },
     "execution_count": 42,
     "metadata": {},
     "output_type": "execute_result"
    }
   ],
   "source": [
    "ts_2019['date'].min()"
   ]
  },
  {
   "cell_type": "code",
   "execution_count": 44,
   "metadata": {},
   "outputs": [
    {
     "data": {
      "text/plain": [
       "'2019-12-27T00:00:00.000'"
      ]
     },
     "execution_count": 44,
     "metadata": {},
     "output_type": "execute_result"
    }
   ],
   "source": [
    "ts_2019['date'].max()"
   ]
  },
  {
   "cell_type": "code",
   "execution_count": null,
   "metadata": {},
   "outputs": [],
   "source": []
  }
 ],
 "metadata": {
  "kernelspec": {
   "display_name": "Python 3",
   "language": "python",
   "name": "python3"
  },
  "language_info": {
   "codemirror_mode": {
    "name": "ipython",
    "version": 3
   },
   "file_extension": ".py",
   "mimetype": "text/x-python",
   "name": "python",
   "nbconvert_exporter": "python",
   "pygments_lexer": "ipython3",
   "version": "3.8.5"
  }
 },
 "nbformat": 4,
 "nbformat_minor": 4
}
