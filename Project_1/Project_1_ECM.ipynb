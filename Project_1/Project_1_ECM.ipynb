{
 "cells": [
  {
   "cell_type": "code",
   "execution_count": 167,
   "metadata": {},
   "outputs": [],
   "source": [
    "import pandas as pd\n",
    "import seaborn as sns"
   ]
  },
  {
   "cell_type": "markdown",
   "metadata": {},
   "source": [
    "## Challenge 1"
   ]
  },
  {
   "cell_type": "code",
   "execution_count": 168,
   "metadata": {},
   "outputs": [
    {
     "data": {
      "text/plain": [
       "(206857, 11)"
      ]
     },
     "execution_count": 168,
     "metadata": {},
     "output_type": "execute_result"
    }
   ],
   "source": [
    "df_5_w1 = pd.read_csv('http://web.mta.info/developers/data/nyct/turnstile/turnstile_190504.txt')\n",
    "df_5_w2 = pd.read_csv('http://web.mta.info/developers/data/nyct/turnstile/turnstile_190511.txt')\n",
    "df_5_w3 = pd.read_csv('http://web.mta.info/developers/data/nyct/turnstile/turnstile_190518.txt')\n",
    "df_5_w4 = pd.read_csv('http://web.mta.info/developers/data/nyct/turnstile/turnstile_190525.txt')\n",
    "df_6_w1 = pd.read_csv('http://web.mta.info/developers/data/nyct/turnstile/turnstile_190601.txt')\n",
    "df_6_w2 = pd.read_csv('http://web.mta.info/developers/data/nyct/turnstile/turnstile_190608.txt')\n",
    "df_5_w1.shape"
   ]
  },
  {
   "cell_type": "code",
   "execution_count": 169,
   "metadata": {},
   "outputs": [
    {
     "data": {
      "text/plain": [
       "(1231795, 12)"
      ]
     },
     "execution_count": 169,
     "metadata": {},
     "output_type": "execute_result"
    }
   ],
   "source": [
    "df = pd.concat([df_5_w1, df_5_w2, df_5_w3, df_5_w4, df_6_w1, df_6_w2]).reset_index()\n",
    "df.shape"
   ]
  },
  {
   "cell_type": "code",
   "execution_count": 170,
   "metadata": {},
   "outputs": [
    {
     "data": {
      "text/html": [
       "<div>\n",
       "<style scoped>\n",
       "    .dataframe tbody tr th:only-of-type {\n",
       "        vertical-align: middle;\n",
       "    }\n",
       "\n",
       "    .dataframe tbody tr th {\n",
       "        vertical-align: top;\n",
       "    }\n",
       "\n",
       "    .dataframe thead th {\n",
       "        text-align: right;\n",
       "    }\n",
       "</style>\n",
       "<table border=\"1\" class=\"dataframe\">\n",
       "  <thead>\n",
       "    <tr style=\"text-align: right;\">\n",
       "      <th></th>\n",
       "      <th>index</th>\n",
       "      <th>C/A</th>\n",
       "      <th>UNIT</th>\n",
       "      <th>SCP</th>\n",
       "      <th>STATION</th>\n",
       "      <th>LINENAME</th>\n",
       "      <th>DIVISION</th>\n",
       "      <th>DATE</th>\n",
       "      <th>TIME</th>\n",
       "      <th>DESC</th>\n",
       "      <th>ENTRIES</th>\n",
       "      <th>EXITS</th>\n",
       "    </tr>\n",
       "  </thead>\n",
       "  <tbody>\n",
       "    <tr>\n",
       "      <th>0</th>\n",
       "      <td>0</td>\n",
       "      <td>A002</td>\n",
       "      <td>R051</td>\n",
       "      <td>02-00-00</td>\n",
       "      <td>59 ST</td>\n",
       "      <td>NQR456W</td>\n",
       "      <td>BMT</td>\n",
       "      <td>04/27/2019</td>\n",
       "      <td>00:00:00</td>\n",
       "      <td>REGULAR</td>\n",
       "      <td>7035249</td>\n",
       "      <td>2384833</td>\n",
       "    </tr>\n",
       "    <tr>\n",
       "      <th>1</th>\n",
       "      <td>1</td>\n",
       "      <td>A002</td>\n",
       "      <td>R051</td>\n",
       "      <td>02-00-00</td>\n",
       "      <td>59 ST</td>\n",
       "      <td>NQR456W</td>\n",
       "      <td>BMT</td>\n",
       "      <td>04/27/2019</td>\n",
       "      <td>04:00:00</td>\n",
       "      <td>REGULAR</td>\n",
       "      <td>7035269</td>\n",
       "      <td>2384840</td>\n",
       "    </tr>\n",
       "    <tr>\n",
       "      <th>2</th>\n",
       "      <td>2</td>\n",
       "      <td>A002</td>\n",
       "      <td>R051</td>\n",
       "      <td>02-00-00</td>\n",
       "      <td>59 ST</td>\n",
       "      <td>NQR456W</td>\n",
       "      <td>BMT</td>\n",
       "      <td>04/27/2019</td>\n",
       "      <td>08:00:00</td>\n",
       "      <td>REGULAR</td>\n",
       "      <td>7035292</td>\n",
       "      <td>2384875</td>\n",
       "    </tr>\n",
       "    <tr>\n",
       "      <th>3</th>\n",
       "      <td>3</td>\n",
       "      <td>A002</td>\n",
       "      <td>R051</td>\n",
       "      <td>02-00-00</td>\n",
       "      <td>59 ST</td>\n",
       "      <td>NQR456W</td>\n",
       "      <td>BMT</td>\n",
       "      <td>04/27/2019</td>\n",
       "      <td>12:00:00</td>\n",
       "      <td>REGULAR</td>\n",
       "      <td>7035392</td>\n",
       "      <td>2384951</td>\n",
       "    </tr>\n",
       "    <tr>\n",
       "      <th>4</th>\n",
       "      <td>4</td>\n",
       "      <td>A002</td>\n",
       "      <td>R051</td>\n",
       "      <td>02-00-00</td>\n",
       "      <td>59 ST</td>\n",
       "      <td>NQR456W</td>\n",
       "      <td>BMT</td>\n",
       "      <td>04/27/2019</td>\n",
       "      <td>16:00:00</td>\n",
       "      <td>REGULAR</td>\n",
       "      <td>7035651</td>\n",
       "      <td>2385020</td>\n",
       "    </tr>\n",
       "  </tbody>\n",
       "</table>\n",
       "</div>"
      ],
      "text/plain": [
       "   index   C/A  UNIT       SCP STATION LINENAME DIVISION        DATE  \\\n",
       "0      0  A002  R051  02-00-00   59 ST  NQR456W      BMT  04/27/2019   \n",
       "1      1  A002  R051  02-00-00   59 ST  NQR456W      BMT  04/27/2019   \n",
       "2      2  A002  R051  02-00-00   59 ST  NQR456W      BMT  04/27/2019   \n",
       "3      3  A002  R051  02-00-00   59 ST  NQR456W      BMT  04/27/2019   \n",
       "4      4  A002  R051  02-00-00   59 ST  NQR456W      BMT  04/27/2019   \n",
       "\n",
       "       TIME     DESC  ENTRIES  \\\n",
       "0  00:00:00  REGULAR  7035249   \n",
       "1  04:00:00  REGULAR  7035269   \n",
       "2  08:00:00  REGULAR  7035292   \n",
       "3  12:00:00  REGULAR  7035392   \n",
       "4  16:00:00  REGULAR  7035651   \n",
       "\n",
       "   EXITS                                                                 \n",
       "0                                            2384833                     \n",
       "1                                            2384840                     \n",
       "2                                            2384875                     \n",
       "3                                            2384951                     \n",
       "4                                            2385020                     "
      ]
     },
     "execution_count": 170,
     "metadata": {},
     "output_type": "execute_result"
    }
   ],
   "source": [
    "df.head()"
   ]
  },
  {
   "cell_type": "markdown",
   "metadata": {},
   "source": [
    "## Challenge 2"
   ]
  },
  {
   "cell_type": "code",
   "execution_count": 171,
   "metadata": {},
   "outputs": [
    {
     "data": {
      "text/plain": [
       "Index(['C/A', 'UNIT', 'SCP', 'STATION', 'LINENAME', 'DIVISION', 'DATE', 'TIME',\n",
       "       'DESC', 'ENTRIES',\n",
       "       'EXITS                                                               ',\n",
       "       'DATETIME'],\n",
       "      dtype='object')"
      ]
     },
     "execution_count": 171,
     "metadata": {},
     "output_type": "execute_result"
    }
   ],
   "source": [
    "#concat date and time columns\n",
    "\n",
    "df['DATETIME'] = df['DATE'] + \" \" + df['TIME']\n",
    "df['DATETIME'] = pd.to_datetime(df['DATETIME'])\n",
    "df['DATE'] = pd.to_datetime(df['DATE'])\n",
    "df['TIME'] = pd.to_datetime(df['TIME'])\n",
    "\n",
    "df = df.drop(columns = 'index')\n",
    "df.columns"
   ]
  },
  {
   "cell_type": "markdown",
   "metadata": {},
   "source": [
    "## Challenge 3"
   ]
  },
  {
   "cell_type": "code",
   "execution_count": 172,
   "metadata": {},
   "outputs": [
    {
     "data": {
      "text/html": [
       "<div>\n",
       "<style scoped>\n",
       "    .dataframe tbody tr th:only-of-type {\n",
       "        vertical-align: middle;\n",
       "    }\n",
       "\n",
       "    .dataframe tbody tr th {\n",
       "        vertical-align: top;\n",
       "    }\n",
       "\n",
       "    .dataframe thead th {\n",
       "        text-align: right;\n",
       "    }\n",
       "</style>\n",
       "<table border=\"1\" class=\"dataframe\">\n",
       "  <thead>\n",
       "    <tr style=\"text-align: right;\">\n",
       "      <th></th>\n",
       "      <th>C/A</th>\n",
       "      <th>UNIT</th>\n",
       "      <th>SCP</th>\n",
       "      <th>STATION</th>\n",
       "      <th>DATETIME</th>\n",
       "      <th>ENTRIES</th>\n",
       "      <th>EXITS</th>\n",
       "    </tr>\n",
       "  </thead>\n",
       "  <tbody>\n",
       "    <tr>\n",
       "      <th>0</th>\n",
       "      <td>A002</td>\n",
       "      <td>R051</td>\n",
       "      <td>02-00-00</td>\n",
       "      <td>59 ST</td>\n",
       "      <td>2019-04-27 00:00:00</td>\n",
       "      <td>7035249</td>\n",
       "      <td>2384833</td>\n",
       "    </tr>\n",
       "    <tr>\n",
       "      <th>1</th>\n",
       "      <td>A002</td>\n",
       "      <td>R051</td>\n",
       "      <td>02-00-00</td>\n",
       "      <td>59 ST</td>\n",
       "      <td>2019-04-27 04:00:00</td>\n",
       "      <td>7035269</td>\n",
       "      <td>2384840</td>\n",
       "    </tr>\n",
       "    <tr>\n",
       "      <th>2</th>\n",
       "      <td>A002</td>\n",
       "      <td>R051</td>\n",
       "      <td>02-00-00</td>\n",
       "      <td>59 ST</td>\n",
       "      <td>2019-04-27 08:00:00</td>\n",
       "      <td>7035292</td>\n",
       "      <td>2384875</td>\n",
       "    </tr>\n",
       "    <tr>\n",
       "      <th>3</th>\n",
       "      <td>A002</td>\n",
       "      <td>R051</td>\n",
       "      <td>02-00-00</td>\n",
       "      <td>59 ST</td>\n",
       "      <td>2019-04-27 12:00:00</td>\n",
       "      <td>7035392</td>\n",
       "      <td>2384951</td>\n",
       "    </tr>\n",
       "    <tr>\n",
       "      <th>4</th>\n",
       "      <td>A002</td>\n",
       "      <td>R051</td>\n",
       "      <td>02-00-00</td>\n",
       "      <td>59 ST</td>\n",
       "      <td>2019-04-27 16:00:00</td>\n",
       "      <td>7035651</td>\n",
       "      <td>2385020</td>\n",
       "    </tr>\n",
       "    <tr>\n",
       "      <th>...</th>\n",
       "      <td>...</td>\n",
       "      <td>...</td>\n",
       "      <td>...</td>\n",
       "      <td>...</td>\n",
       "      <td>...</td>\n",
       "      <td>...</td>\n",
       "      <td>...</td>\n",
       "    </tr>\n",
       "    <tr>\n",
       "      <th>1231778</th>\n",
       "      <td>TRAM2</td>\n",
       "      <td>R469</td>\n",
       "      <td>00-05-01</td>\n",
       "      <td>RIT-ROOSEVELT</td>\n",
       "      <td>2019-06-05 17:00:00</td>\n",
       "      <td>5554</td>\n",
       "      <td>379</td>\n",
       "    </tr>\n",
       "    <tr>\n",
       "      <th>1231779</th>\n",
       "      <td>TRAM2</td>\n",
       "      <td>R469</td>\n",
       "      <td>00-05-01</td>\n",
       "      <td>RIT-ROOSEVELT</td>\n",
       "      <td>2019-06-05 21:00:00</td>\n",
       "      <td>5554</td>\n",
       "      <td>379</td>\n",
       "    </tr>\n",
       "    <tr>\n",
       "      <th>1231780</th>\n",
       "      <td>TRAM2</td>\n",
       "      <td>R469</td>\n",
       "      <td>00-05-01</td>\n",
       "      <td>RIT-ROOSEVELT</td>\n",
       "      <td>2019-06-06 01:00:00</td>\n",
       "      <td>5554</td>\n",
       "      <td>379</td>\n",
       "    </tr>\n",
       "    <tr>\n",
       "      <th>1231781</th>\n",
       "      <td>TRAM2</td>\n",
       "      <td>R469</td>\n",
       "      <td>00-05-01</td>\n",
       "      <td>RIT-ROOSEVELT</td>\n",
       "      <td>2019-06-06 05:00:00</td>\n",
       "      <td>5554</td>\n",
       "      <td>379</td>\n",
       "    </tr>\n",
       "    <tr>\n",
       "      <th>1231782</th>\n",
       "      <td>TRAM2</td>\n",
       "      <td>R469</td>\n",
       "      <td>00-05-01</td>\n",
       "      <td>RIT-ROOSEVELT</td>\n",
       "      <td>2019-06-06 09:00:00</td>\n",
       "      <td>5554</td>\n",
       "      <td>379</td>\n",
       "    </tr>\n",
       "  </tbody>\n",
       "</table>\n",
       "<p>1231783 rows × 7 columns</p>\n",
       "</div>"
      ],
      "text/plain": [
       "           C/A  UNIT       SCP        STATION            DATETIME  ENTRIES  \\\n",
       "0         A002  R051  02-00-00          59 ST 2019-04-27 00:00:00  7035249   \n",
       "1         A002  R051  02-00-00          59 ST 2019-04-27 04:00:00  7035269   \n",
       "2         A002  R051  02-00-00          59 ST 2019-04-27 08:00:00  7035292   \n",
       "3         A002  R051  02-00-00          59 ST 2019-04-27 12:00:00  7035392   \n",
       "4         A002  R051  02-00-00          59 ST 2019-04-27 16:00:00  7035651   \n",
       "...        ...   ...       ...            ...                 ...      ...   \n",
       "1231778  TRAM2  R469  00-05-01  RIT-ROOSEVELT 2019-06-05 17:00:00     5554   \n",
       "1231779  TRAM2  R469  00-05-01  RIT-ROOSEVELT 2019-06-05 21:00:00     5554   \n",
       "1231780  TRAM2  R469  00-05-01  RIT-ROOSEVELT 2019-06-06 01:00:00     5554   \n",
       "1231781  TRAM2  R469  00-05-01  RIT-ROOSEVELT 2019-06-06 05:00:00     5554   \n",
       "1231782  TRAM2  R469  00-05-01  RIT-ROOSEVELT 2019-06-06 09:00:00     5554   \n",
       "\n",
       "         EXITS                                                                 \n",
       "0                                                  2384833                     \n",
       "1                                                  2384840                     \n",
       "2                                                  2384875                     \n",
       "3                                                  2384951                     \n",
       "4                                                  2385020                     \n",
       "...                                                    ...                     \n",
       "1231778                                                379                     \n",
       "1231779                                                379                     \n",
       "1231780                                                379                     \n",
       "1231781                                                379                     \n",
       "1231782                                                379                     \n",
       "\n",
       "[1231783 rows x 7 columns]"
      ]
     },
     "execution_count": 172,
     "metadata": {},
     "output_type": "execute_result"
    }
   ],
   "source": [
    "df_group = df.groupby(['C/A', 'UNIT', 'SCP', 'STATION', 'DATETIME']).agg('sum').reset_index()\n",
    "#confirm no duplicate datetimes \n",
    "(df_group\n",
    " .groupby([\"C/A\", \"UNIT\", \"SCP\", \"STATION\", \"DATETIME\"])\n",
    " .ENTRIES.count()\n",
    " .reset_index()\n",
    " .sort_values(\"ENTRIES\", ascending=False)).head(5)\n",
    "df_group"
   ]
  },
  {
   "cell_type": "code",
   "execution_count": 173,
   "metadata": {},
   "outputs": [
    {
     "data": {
      "text/html": [
       "<div>\n",
       "<style scoped>\n",
       "    .dataframe tbody tr th:only-of-type {\n",
       "        vertical-align: middle;\n",
       "    }\n",
       "\n",
       "    .dataframe tbody tr th {\n",
       "        vertical-align: top;\n",
       "    }\n",
       "\n",
       "    .dataframe thead th {\n",
       "        text-align: right;\n",
       "    }\n",
       "</style>\n",
       "<table border=\"1\" class=\"dataframe\">\n",
       "  <thead>\n",
       "    <tr style=\"text-align: right;\">\n",
       "      <th></th>\n",
       "      <th>C/A</th>\n",
       "      <th>UNIT</th>\n",
       "      <th>SCP</th>\n",
       "      <th>STATION</th>\n",
       "      <th>DATE</th>\n",
       "      <th>ENTRIES</th>\n",
       "    </tr>\n",
       "  </thead>\n",
       "  <tbody>\n",
       "    <tr>\n",
       "      <th>0</th>\n",
       "      <td>A002</td>\n",
       "      <td>R051</td>\n",
       "      <td>02-00-00</td>\n",
       "      <td>59 ST</td>\n",
       "      <td>2019-04-27</td>\n",
       "      <td>7035249</td>\n",
       "    </tr>\n",
       "    <tr>\n",
       "      <th>1</th>\n",
       "      <td>A002</td>\n",
       "      <td>R051</td>\n",
       "      <td>02-00-00</td>\n",
       "      <td>59 ST</td>\n",
       "      <td>2019-04-28</td>\n",
       "      <td>7036100</td>\n",
       "    </tr>\n",
       "    <tr>\n",
       "      <th>2</th>\n",
       "      <td>A002</td>\n",
       "      <td>R051</td>\n",
       "      <td>02-00-00</td>\n",
       "      <td>59 ST</td>\n",
       "      <td>2019-04-29</td>\n",
       "      <td>7036746</td>\n",
       "    </tr>\n",
       "    <tr>\n",
       "      <th>3</th>\n",
       "      <td>A002</td>\n",
       "      <td>R051</td>\n",
       "      <td>02-00-00</td>\n",
       "      <td>59 ST</td>\n",
       "      <td>2019-04-30</td>\n",
       "      <td>7038242</td>\n",
       "    </tr>\n",
       "    <tr>\n",
       "      <th>4</th>\n",
       "      <td>A002</td>\n",
       "      <td>R051</td>\n",
       "      <td>02-00-00</td>\n",
       "      <td>59 ST</td>\n",
       "      <td>2019-05-01</td>\n",
       "      <td>7039729</td>\n",
       "    </tr>\n",
       "    <tr>\n",
       "      <th>...</th>\n",
       "      <td>...</td>\n",
       "      <td>...</td>\n",
       "      <td>...</td>\n",
       "      <td>...</td>\n",
       "      <td>...</td>\n",
       "      <td>...</td>\n",
       "    </tr>\n",
       "    <tr>\n",
       "      <th>203004</th>\n",
       "      <td>TRAM2</td>\n",
       "      <td>R469</td>\n",
       "      <td>00-05-01</td>\n",
       "      <td>RIT-ROOSEVELT</td>\n",
       "      <td>2019-06-02</td>\n",
       "      <td>5554</td>\n",
       "    </tr>\n",
       "    <tr>\n",
       "      <th>203005</th>\n",
       "      <td>TRAM2</td>\n",
       "      <td>R469</td>\n",
       "      <td>00-05-01</td>\n",
       "      <td>RIT-ROOSEVELT</td>\n",
       "      <td>2019-06-03</td>\n",
       "      <td>5554</td>\n",
       "    </tr>\n",
       "    <tr>\n",
       "      <th>203006</th>\n",
       "      <td>TRAM2</td>\n",
       "      <td>R469</td>\n",
       "      <td>00-05-01</td>\n",
       "      <td>RIT-ROOSEVELT</td>\n",
       "      <td>2019-06-04</td>\n",
       "      <td>5554</td>\n",
       "    </tr>\n",
       "    <tr>\n",
       "      <th>203007</th>\n",
       "      <td>TRAM2</td>\n",
       "      <td>R469</td>\n",
       "      <td>00-05-01</td>\n",
       "      <td>RIT-ROOSEVELT</td>\n",
       "      <td>2019-06-05</td>\n",
       "      <td>5554</td>\n",
       "    </tr>\n",
       "    <tr>\n",
       "      <th>203008</th>\n",
       "      <td>TRAM2</td>\n",
       "      <td>R469</td>\n",
       "      <td>00-05-01</td>\n",
       "      <td>RIT-ROOSEVELT</td>\n",
       "      <td>2019-06-06</td>\n",
       "      <td>5554</td>\n",
       "    </tr>\n",
       "  </tbody>\n",
       "</table>\n",
       "<p>203009 rows × 6 columns</p>\n",
       "</div>"
      ],
      "text/plain": [
       "          C/A  UNIT       SCP        STATION       DATE  ENTRIES\n",
       "0        A002  R051  02-00-00          59 ST 2019-04-27  7035249\n",
       "1        A002  R051  02-00-00          59 ST 2019-04-28  7036100\n",
       "2        A002  R051  02-00-00          59 ST 2019-04-29  7036746\n",
       "3        A002  R051  02-00-00          59 ST 2019-04-30  7038242\n",
       "4        A002  R051  02-00-00          59 ST 2019-05-01  7039729\n",
       "...       ...   ...       ...            ...        ...      ...\n",
       "203004  TRAM2  R469  00-05-01  RIT-ROOSEVELT 2019-06-02     5554\n",
       "203005  TRAM2  R469  00-05-01  RIT-ROOSEVELT 2019-06-03     5554\n",
       "203006  TRAM2  R469  00-05-01  RIT-ROOSEVELT 2019-06-04     5554\n",
       "203007  TRAM2  R469  00-05-01  RIT-ROOSEVELT 2019-06-05     5554\n",
       "203008  TRAM2  R469  00-05-01  RIT-ROOSEVELT 2019-06-06     5554\n",
       "\n",
       "[203009 rows x 6 columns]"
      ]
     },
     "execution_count": 173,
     "metadata": {},
     "output_type": "execute_result"
    }
   ],
   "source": [
    "df_daily = (df.groupby(['C/A', 'UNIT', 'SCP', 'STATION', 'DATE'], as_index = False).ENTRIES.first())\n",
    "df_daily"
   ]
  },
  {
   "cell_type": "code",
   "execution_count": 174,
   "metadata": {},
   "outputs": [
    {
     "name": "stderr",
     "output_type": "stream",
     "text": [
      "<ipython-input-174-bc70613c2733>:1: FutureWarning: Indexing with multiple keys (implicitly converted to a tuple of keys) will be deprecated, use a list instead.\n",
      "  df_daily[['PREV_DATE', 'PREV_ENTRIES']] = (df_daily.groupby([\"C/A\", \"UNIT\", \"SCP\", \"STATION\"])['DATE', 'ENTRIES']\n"
     ]
    }
   ],
   "source": [
    "df_daily[['PREV_DATE', 'PREV_ENTRIES']] = (df_daily.groupby([\"C/A\", \"UNIT\", \"SCP\", \"STATION\"])['DATE', 'ENTRIES']\n",
    "                                    .apply(lambda grp: grp.shift(1)))"
   ]
  },
  {
   "cell_type": "code",
   "execution_count": 175,
   "metadata": {},
   "outputs": [
    {
     "name": "stdout",
     "output_type": "stream",
     "text": [
      "(203009, 8)\n",
      "(198127, 8)\n"
     ]
    }
   ],
   "source": [
    "print(df_daily.shape)\n",
    "df_daily.dropna(subset = ['PREV_DATE'], axis = 0, inplace = True)\n",
    "print(df_daily.shape)"
   ]
  },
  {
   "cell_type": "code",
   "execution_count": 262,
   "metadata": {},
   "outputs": [],
   "source": [
    "def get_daily_counts(row, max_counter):\n",
    "    counter = row[\"ENTRIES\"] - row[\"PREV_ENTRIES\"]\n",
    "    if counter < 0:\n",
    "        # Maybe counter is reversed?\n",
    "        counter = -counter\n",
    "    if counter > max_counter:\n",
    "        # Maybe counter was reset to 0? \n",
    "        #print(row[\"ENTRIES\"], row[\"PREV_ENTRIES\"])\n",
    "        counter = min(row[\"ENTRIES\"], row[\"PREV_ENTRIES\"])\n",
    "    return counter"
   ]
  },
  {
   "cell_type": "code",
   "execution_count": 264,
   "metadata": {},
   "outputs": [],
   "source": [
    "def get_daily_counts(row, max_counter):\n",
    "    counter = row[\"ENTRIES\"] - row[\"PREV_ENTRIES\"]\n",
    "    if counter < 0:\n",
    "        # Maybe counter is reversed?\n",
    "        counter = -counter\n",
    "    if counter > max_counter:\n",
    "        # Maybe counter was reset to 0? \n",
    "        print(row[\"ENTRIES\"], row[\"PREV_ENTRIES\"])\n",
    "        counter = min(row[\"ENTRIES\"], row[\"PREV_ENTRIES\"])\n",
    "    if counter > max_counter:\n",
    "        # Check it again to make sure we're not still giving a counter that's too big\n",
    "        return 0\n",
    "    return counter"
   ]
  },
  {
   "cell_type": "code",
   "execution_count": null,
   "metadata": {},
   "outputs": [],
   "source": []
  },
  {
   "cell_type": "code",
   "execution_count": 265,
   "metadata": {},
   "outputs": [
    {
     "name": "stdout",
     "output_type": "stream",
     "text": [
      "158 1087620.0\n",
      "482 4317177.0\n",
      "107 7245002.0\n",
      "4050695 5903004.0\n",
      "7246468 4050451.0\n",
      "882 15418815.0\n",
      "1435 4767402.0\n",
      "335092671 3422305.0\n",
      "412 3073070.0\n",
      "161 4605408.0\n",
      "681 6527713.0\n",
      "569320813 4807409.0\n",
      "279 9029146.0\n",
      "65536 839317244.0\n",
      "184608117 746094.0\n",
      "80 2586370.0\n",
      "238 2898346.0\n",
      "50 1544092.0\n",
      "607 3912014.0\n",
      "196614 2998692.0\n",
      "514 3755842.0\n",
      "8 2020892.0\n",
      "3003 6999467.0\n",
      "408 8876564.0\n",
      "1178879075 4471988.0\n",
      "149 1252884.0\n",
      "4666 2201975.0\n",
      "14 1327005.0\n",
      "196633 68461839.0\n",
      "200 36966261.0\n",
      "1017 2357557.0\n",
      "12 4887309.0\n",
      "7 9441168.0\n",
      "1058702 102390686.0\n",
      "393355 1661809141.0\n",
      "10 7602347.0\n",
      "1463 1068632.0\n",
      "29 6332751.0\n",
      "30933207 6069289.0\n",
      "71 7192933.0\n",
      "115 12739117.0\n",
      "1122 6546797.0\n",
      "16779493 81157.0\n",
      "637574909 2502854.0\n",
      "231 637595004.0\n",
      "68859156 436510383.0\n",
      "607126914 594465.0\n",
      "140397413 1577638340.0\n",
      "458752 100663296.0\n",
      "23 203977549.0\n",
      "452993428 1830432.0\n",
      "259 7480462.0\n",
      "20 3000575.0\n",
      "683737068 458752.0\n",
      "905996437 3558247.0\n",
      "0 5176463.0\n",
      "7 13653544.0\n",
      "182 10462950.0\n",
      "2063649382 8123310.0\n",
      "1129054878 2501599.0\n"
     ]
    },
    {
     "data": {
      "text/html": [
       "<div>\n",
       "<style scoped>\n",
       "    .dataframe tbody tr th:only-of-type {\n",
       "        vertical-align: middle;\n",
       "    }\n",
       "\n",
       "    .dataframe tbody tr th {\n",
       "        vertical-align: top;\n",
       "    }\n",
       "\n",
       "    .dataframe thead th {\n",
       "        text-align: right;\n",
       "    }\n",
       "</style>\n",
       "<table border=\"1\" class=\"dataframe\">\n",
       "  <thead>\n",
       "    <tr style=\"text-align: right;\">\n",
       "      <th></th>\n",
       "      <th>C/A</th>\n",
       "      <th>UNIT</th>\n",
       "      <th>SCP</th>\n",
       "      <th>STATION</th>\n",
       "      <th>DATE</th>\n",
       "      <th>ENTRIES</th>\n",
       "      <th>PREV_DATE</th>\n",
       "      <th>PREV_ENTRIES</th>\n",
       "      <th>DAILY_ENTRIES</th>\n",
       "    </tr>\n",
       "  </thead>\n",
       "  <tbody>\n",
       "    <tr>\n",
       "      <th>119806</th>\n",
       "      <td>PTH13</td>\n",
       "      <td>R541</td>\n",
       "      <td>00-04-00</td>\n",
       "      <td>THIRTY ST</td>\n",
       "      <td>2019-05-19</td>\n",
       "      <td>706</td>\n",
       "      <td>2019-05-18</td>\n",
       "      <td>899109.0</td>\n",
       "      <td>898403.0</td>\n",
       "    </tr>\n",
       "  </tbody>\n",
       "</table>\n",
       "</div>"
      ],
      "text/plain": [
       "          C/A  UNIT       SCP    STATION       DATE  ENTRIES  PREV_DATE  \\\n",
       "119806  PTH13  R541  00-04-00  THIRTY ST 2019-05-19      706 2019-05-18   \n",
       "\n",
       "        PREV_ENTRIES  DAILY_ENTRIES  \n",
       "119806      899109.0       898403.0  "
      ]
     },
     "execution_count": 265,
     "metadata": {},
     "output_type": "execute_result"
    }
   ],
   "source": [
    "df_daily['DAILY_ENTRIES'] = df_daily.apply(get_daily_counts, axis=1, max_counter=1000000)\n",
    "df_daily[df_daily.DAILY_ENTRIES == df_daily.DAILY_ENTRIES.max()]"
   ]
  },
  {
   "cell_type": "code",
   "execution_count": 254,
   "metadata": {},
   "outputs": [
    {
     "data": {
      "text/html": [
       "<div>\n",
       "<style scoped>\n",
       "    .dataframe tbody tr th:only-of-type {\n",
       "        vertical-align: middle;\n",
       "    }\n",
       "\n",
       "    .dataframe tbody tr th {\n",
       "        vertical-align: top;\n",
       "    }\n",
       "\n",
       "    .dataframe thead th {\n",
       "        text-align: right;\n",
       "    }\n",
       "</style>\n",
       "<table border=\"1\" class=\"dataframe\">\n",
       "  <thead>\n",
       "    <tr style=\"text-align: right;\">\n",
       "      <th></th>\n",
       "      <th>C/A</th>\n",
       "      <th>UNIT</th>\n",
       "      <th>SCP</th>\n",
       "      <th>STATION</th>\n",
       "      <th>DATE</th>\n",
       "      <th>ENTRIES</th>\n",
       "      <th>PREV_DATE</th>\n",
       "      <th>PREV_ENTRIES</th>\n",
       "      <th>DAILY_ENTRIES</th>\n",
       "    </tr>\n",
       "  </thead>\n",
       "  <tbody>\n",
       "    <tr>\n",
       "      <th>150694</th>\n",
       "      <td>R210</td>\n",
       "      <td>R044</td>\n",
       "      <td>00-00-00</td>\n",
       "      <td>BROOKLYN BRIDGE</td>\n",
       "      <td>2019-04-28</td>\n",
       "      <td>68335369</td>\n",
       "      <td>2019-04-27</td>\n",
       "      <td>68335075.0</td>\n",
       "      <td>294.0</td>\n",
       "    </tr>\n",
       "    <tr>\n",
       "      <th>150695</th>\n",
       "      <td>R210</td>\n",
       "      <td>R044</td>\n",
       "      <td>00-00-00</td>\n",
       "      <td>BROOKLYN BRIDGE</td>\n",
       "      <td>2019-04-29</td>\n",
       "      <td>68335830</td>\n",
       "      <td>2019-04-28</td>\n",
       "      <td>68335369.0</td>\n",
       "      <td>461.0</td>\n",
       "    </tr>\n",
       "    <tr>\n",
       "      <th>150696</th>\n",
       "      <td>R210</td>\n",
       "      <td>R044</td>\n",
       "      <td>00-00-00</td>\n",
       "      <td>BROOKLYN BRIDGE</td>\n",
       "      <td>2019-04-30</td>\n",
       "      <td>68336653</td>\n",
       "      <td>2019-04-29</td>\n",
       "      <td>68335830.0</td>\n",
       "      <td>823.0</td>\n",
       "    </tr>\n",
       "    <tr>\n",
       "      <th>150697</th>\n",
       "      <td>R210</td>\n",
       "      <td>R044</td>\n",
       "      <td>00-00-00</td>\n",
       "      <td>BROOKLYN BRIDGE</td>\n",
       "      <td>2019-05-01</td>\n",
       "      <td>68337523</td>\n",
       "      <td>2019-04-30</td>\n",
       "      <td>68336653.0</td>\n",
       "      <td>870.0</td>\n",
       "    </tr>\n",
       "    <tr>\n",
       "      <th>150698</th>\n",
       "      <td>R210</td>\n",
       "      <td>R044</td>\n",
       "      <td>00-00-00</td>\n",
       "      <td>BROOKLYN BRIDGE</td>\n",
       "      <td>2019-05-02</td>\n",
       "      <td>68338083</td>\n",
       "      <td>2019-05-01</td>\n",
       "      <td>68337523.0</td>\n",
       "      <td>560.0</td>\n",
       "    </tr>\n",
       "    <tr>\n",
       "      <th>...</th>\n",
       "      <td>...</td>\n",
       "      <td>...</td>\n",
       "      <td>...</td>\n",
       "      <td>...</td>\n",
       "      <td>...</td>\n",
       "      <td>...</td>\n",
       "      <td>...</td>\n",
       "      <td>...</td>\n",
       "      <td>...</td>\n",
       "    </tr>\n",
       "    <tr>\n",
       "      <th>151402</th>\n",
       "      <td>R210A</td>\n",
       "      <td>R044</td>\n",
       "      <td>03-06-01</td>\n",
       "      <td>BROOKLYN BRIDGE</td>\n",
       "      <td>2019-06-03</td>\n",
       "      <td>1419166</td>\n",
       "      <td>2019-06-02</td>\n",
       "      <td>1419151.0</td>\n",
       "      <td>15.0</td>\n",
       "    </tr>\n",
       "    <tr>\n",
       "      <th>151403</th>\n",
       "      <td>R210A</td>\n",
       "      <td>R044</td>\n",
       "      <td>03-06-01</td>\n",
       "      <td>BROOKLYN BRIDGE</td>\n",
       "      <td>2019-06-04</td>\n",
       "      <td>1419449</td>\n",
       "      <td>2019-06-03</td>\n",
       "      <td>1419166.0</td>\n",
       "      <td>283.0</td>\n",
       "    </tr>\n",
       "    <tr>\n",
       "      <th>151404</th>\n",
       "      <td>R210A</td>\n",
       "      <td>R044</td>\n",
       "      <td>03-06-01</td>\n",
       "      <td>BROOKLYN BRIDGE</td>\n",
       "      <td>2019-06-05</td>\n",
       "      <td>1419718</td>\n",
       "      <td>2019-06-04</td>\n",
       "      <td>1419449.0</td>\n",
       "      <td>269.0</td>\n",
       "    </tr>\n",
       "    <tr>\n",
       "      <th>151405</th>\n",
       "      <td>R210A</td>\n",
       "      <td>R044</td>\n",
       "      <td>03-06-01</td>\n",
       "      <td>BROOKLYN BRIDGE</td>\n",
       "      <td>2019-06-06</td>\n",
       "      <td>1420023</td>\n",
       "      <td>2019-06-05</td>\n",
       "      <td>1419718.0</td>\n",
       "      <td>305.0</td>\n",
       "    </tr>\n",
       "    <tr>\n",
       "      <th>151406</th>\n",
       "      <td>R210A</td>\n",
       "      <td>R044</td>\n",
       "      <td>03-06-01</td>\n",
       "      <td>BROOKLYN BRIDGE</td>\n",
       "      <td>2019-06-07</td>\n",
       "      <td>1420314</td>\n",
       "      <td>2019-06-06</td>\n",
       "      <td>1420023.0</td>\n",
       "      <td>291.0</td>\n",
       "    </tr>\n",
       "  </tbody>\n",
       "</table>\n",
       "<p>697 rows × 9 columns</p>\n",
       "</div>"
      ],
      "text/plain": [
       "          C/A  UNIT       SCP          STATION       DATE   ENTRIES  \\\n",
       "150694   R210  R044  00-00-00  BROOKLYN BRIDGE 2019-04-28  68335369   \n",
       "150695   R210  R044  00-00-00  BROOKLYN BRIDGE 2019-04-29  68335830   \n",
       "150696   R210  R044  00-00-00  BROOKLYN BRIDGE 2019-04-30  68336653   \n",
       "150697   R210  R044  00-00-00  BROOKLYN BRIDGE 2019-05-01  68337523   \n",
       "150698   R210  R044  00-00-00  BROOKLYN BRIDGE 2019-05-02  68338083   \n",
       "...       ...   ...       ...              ...        ...       ...   \n",
       "151402  R210A  R044  03-06-01  BROOKLYN BRIDGE 2019-06-03   1419166   \n",
       "151403  R210A  R044  03-06-01  BROOKLYN BRIDGE 2019-06-04   1419449   \n",
       "151404  R210A  R044  03-06-01  BROOKLYN BRIDGE 2019-06-05   1419718   \n",
       "151405  R210A  R044  03-06-01  BROOKLYN BRIDGE 2019-06-06   1420023   \n",
       "151406  R210A  R044  03-06-01  BROOKLYN BRIDGE 2019-06-07   1420314   \n",
       "\n",
       "        PREV_DATE  PREV_ENTRIES  DAILY_ENTRIES  \n",
       "150694 2019-04-27    68335075.0          294.0  \n",
       "150695 2019-04-28    68335369.0          461.0  \n",
       "150696 2019-04-29    68335830.0          823.0  \n",
       "150697 2019-04-30    68336653.0          870.0  \n",
       "150698 2019-05-01    68337523.0          560.0  \n",
       "...           ...           ...            ...  \n",
       "151402 2019-06-02     1419151.0           15.0  \n",
       "151403 2019-06-03     1419166.0          283.0  \n",
       "151404 2019-06-04     1419449.0          269.0  \n",
       "151405 2019-06-05     1419718.0          305.0  \n",
       "151406 2019-06-06     1420023.0          291.0  \n",
       "\n",
       "[697 rows x 9 columns]"
      ]
     },
     "execution_count": 254,
     "metadata": {},
     "output_type": "execute_result"
    }
   ],
   "source": [
    "df_daily[df_daily.STATION == 'BROOKLYN BRIDGE']"
   ]
  },
  {
   "cell_type": "markdown",
   "metadata": {},
   "source": [
    "## Challenge 4"
   ]
  },
  {
   "cell_type": "code",
   "execution_count": 266,
   "metadata": {},
   "outputs": [],
   "source": [
    "%matplotlib inline"
   ]
  },
  {
   "cell_type": "code",
   "execution_count": 267,
   "metadata": {},
   "outputs": [],
   "source": [
    "import matplotlib.pyplot as plt"
   ]
  },
  {
   "cell_type": "code",
   "execution_count": 268,
   "metadata": {},
   "outputs": [],
   "source": [
    "single_turn = df_daily[(df_daily['C/A'] == 'R236') & (df_daily['UNIT'] == 'R045') & \n",
    "                       (df_daily['SCP'] == '00-00-00') & (df_daily['STATION'] == 'GRD CNTRL-42 ST')]"
   ]
  },
  {
   "cell_type": "code",
   "execution_count": 269,
   "metadata": {},
   "outputs": [
    {
     "data": {
      "text/plain": [
       "[<matplotlib.lines.Line2D at 0x7fb559763be0>]"
      ]
     },
     "execution_count": 269,
     "metadata": {},
     "output_type": "execute_result"
    },
    {
     "data": {
      "image/png": "[encoded data removed]",
      "text/plain": [
       "<Figure size 720x216 with 1 Axes>"
      ]
     },
     "metadata": {
      "needs_background": "light"
     },
     "output_type": "display_data"
    }
   ],
   "source": [
    "plt.figure(figsize=(10,3))\n",
    "plt.plot(single_turn['DATE'],single_turn['DAILY_ENTRIES'])"
   ]
  },
  {
   "cell_type": "code",
   "execution_count": 270,
   "metadata": {},
   "outputs": [
    {
     "data": {
      "text/plain": [
       "array(['R045', 'R046', 'R047', 'R048'], dtype=object)"
      ]
     },
     "execution_count": 270,
     "metadata": {},
     "output_type": "execute_result"
    }
   ],
   "source": [
    "df_group[df_group.STATION == 'GRD CNTRL-42 ST'].UNIT.unique()"
   ]
  },
  {
   "cell_type": "code",
   "execution_count": 271,
   "metadata": {},
   "outputs": [
    {
     "data": {
      "text/plain": [
       "array(['R236', 'R237', 'R237B', 'R238', 'R238A', 'R240', 'R241A'],\n",
       "      dtype=object)"
      ]
     },
     "execution_count": 271,
     "metadata": {},
     "output_type": "execute_result"
    }
   ],
   "source": [
    "df_group[df_group.STATION == 'GRD CNTRL-42 ST']['C/A'].unique()"
   ]
  },
  {
   "cell_type": "code",
   "execution_count": 272,
   "metadata": {},
   "outputs": [
    {
     "data": {
      "text/plain": [
       "array(['00-00-00', '00-00-01', '00-00-02', '00-00-03', '00-00-04',\n",
       "       '00-00-05', '00-03-00', '00-03-01', '00-03-02', '00-03-03',\n",
       "       '00-06-00', '00-06-01', '01-00-00', '01-00-01', '01-00-02',\n",
       "       '01-00-03', '01-00-04', '01-00-05', '01-00-06', '00-00-06',\n",
       "       '00-00-07', '00-03-04', '00-05-00', '00-05-01', '00-06-02',\n",
       "       '02-00-00', '02-00-01', '02-00-02', '02-00-03', '02-00-04',\n",
       "       '02-03-00', '02-03-01', '02-03-02', '00-03-05', '00-03-06',\n",
       "       '00-03-07', '00-03-08'], dtype=object)"
      ]
     },
     "execution_count": 272,
     "metadata": {},
     "output_type": "execute_result"
    }
   ],
   "source": [
    "df_group[df_group.STATION == 'GRD CNTRL-42 ST'].SCP.unique()"
   ]
  },
  {
   "cell_type": "markdown",
   "metadata": {},
   "source": [
    "## Challenge 5"
   ]
  },
  {
   "cell_type": "code",
   "execution_count": 273,
   "metadata": {},
   "outputs": [],
   "source": [
    "df_c5 = df_daily.groupby(['C/A', 'UNIT', 'STATION', 'DATE']).agg({'DAILY_ENTRIES': 'sum', 'PREV_ENTRIES': 'sum', \n",
    "                                                                  'ENTRIES': 'sum'}).reset_index()"
   ]
  },
  {
   "cell_type": "code",
   "execution_count": 274,
   "metadata": {},
   "outputs": [
    {
     "data": {
      "text/html": [
       "<div>\n",
       "<style scoped>\n",
       "    .dataframe tbody tr th:only-of-type {\n",
       "        vertical-align: middle;\n",
       "    }\n",
       "\n",
       "    .dataframe tbody tr th {\n",
       "        vertical-align: top;\n",
       "    }\n",
       "\n",
       "    .dataframe thead th {\n",
       "        text-align: right;\n",
       "    }\n",
       "</style>\n",
       "<table border=\"1\" class=\"dataframe\">\n",
       "  <thead>\n",
       "    <tr style=\"text-align: right;\">\n",
       "      <th></th>\n",
       "      <th>C/A</th>\n",
       "      <th>UNIT</th>\n",
       "      <th>STATION</th>\n",
       "      <th>DATE</th>\n",
       "      <th>DAILY_ENTRIES</th>\n",
       "      <th>PREV_ENTRIES</th>\n",
       "      <th>ENTRIES</th>\n",
       "    </tr>\n",
       "  </thead>\n",
       "  <tbody>\n",
       "    <tr>\n",
       "      <th>0</th>\n",
       "      <td>A002</td>\n",
       "      <td>R051</td>\n",
       "      <td>59 ST</td>\n",
       "      <td>2019-04-28</td>\n",
       "      <td>8394.0</td>\n",
       "      <td>55109712.0</td>\n",
       "      <td>55118106</td>\n",
       "    </tr>\n",
       "    <tr>\n",
       "      <th>1</th>\n",
       "      <td>A002</td>\n",
       "      <td>R051</td>\n",
       "      <td>59 ST</td>\n",
       "      <td>2019-04-29</td>\n",
       "      <td>6337.0</td>\n",
       "      <td>55118106.0</td>\n",
       "      <td>55124443</td>\n",
       "    </tr>\n",
       "    <tr>\n",
       "      <th>2</th>\n",
       "      <td>A002</td>\n",
       "      <td>R051</td>\n",
       "      <td>59 ST</td>\n",
       "      <td>2019-04-30</td>\n",
       "      <td>13132.0</td>\n",
       "      <td>55124443.0</td>\n",
       "      <td>55137575</td>\n",
       "    </tr>\n",
       "    <tr>\n",
       "      <th>3</th>\n",
       "      <td>A002</td>\n",
       "      <td>R051</td>\n",
       "      <td>59 ST</td>\n",
       "      <td>2019-05-01</td>\n",
       "      <td>13664.0</td>\n",
       "      <td>55137575.0</td>\n",
       "      <td>55151239</td>\n",
       "    </tr>\n",
       "    <tr>\n",
       "      <th>4</th>\n",
       "      <td>A002</td>\n",
       "      <td>R051</td>\n",
       "      <td>59 ST</td>\n",
       "      <td>2019-05-02</td>\n",
       "      <td>13748.0</td>\n",
       "      <td>55151239.0</td>\n",
       "      <td>55164987</td>\n",
       "    </tr>\n",
       "  </tbody>\n",
       "</table>\n",
       "</div>"
      ],
      "text/plain": [
       "    C/A  UNIT STATION       DATE  DAILY_ENTRIES  PREV_ENTRIES   ENTRIES\n",
       "0  A002  R051   59 ST 2019-04-28         8394.0    55109712.0  55118106\n",
       "1  A002  R051   59 ST 2019-04-29         6337.0    55118106.0  55124443\n",
       "2  A002  R051   59 ST 2019-04-30        13132.0    55124443.0  55137575\n",
       "3  A002  R051   59 ST 2019-05-01        13664.0    55137575.0  55151239\n",
       "4  A002  R051   59 ST 2019-05-02        13748.0    55151239.0  55164987"
      ]
     },
     "execution_count": 274,
     "metadata": {},
     "output_type": "execute_result"
    }
   ],
   "source": [
    "df_c5.head()"
   ]
  },
  {
   "cell_type": "markdown",
   "metadata": {},
   "source": [
    "## Challenge 6"
   ]
  },
  {
   "cell_type": "code",
   "execution_count": 275,
   "metadata": {},
   "outputs": [],
   "source": [
    "df_c6 = df_daily.groupby(['STATION', 'DATE']).agg({'DAILY_ENTRIES': 'sum', 'PREV_ENTRIES': 'sum', \n",
    "                                                                  'ENTRIES': 'sum'}).reset_index()"
   ]
  },
  {
   "cell_type": "code",
   "execution_count": 276,
   "metadata": {},
   "outputs": [
    {
     "data": {
      "text/html": [
       "<div>\n",
       "<style scoped>\n",
       "    .dataframe tbody tr th:only-of-type {\n",
       "        vertical-align: middle;\n",
       "    }\n",
       "\n",
       "    .dataframe tbody tr th {\n",
       "        vertical-align: top;\n",
       "    }\n",
       "\n",
       "    .dataframe thead th {\n",
       "        text-align: right;\n",
       "    }\n",
       "</style>\n",
       "<table border=\"1\" class=\"dataframe\">\n",
       "  <thead>\n",
       "    <tr style=\"text-align: right;\">\n",
       "      <th></th>\n",
       "      <th>STATION</th>\n",
       "      <th>DATE</th>\n",
       "      <th>DAILY_ENTRIES</th>\n",
       "      <th>PREV_ENTRIES</th>\n",
       "      <th>ENTRIES</th>\n",
       "    </tr>\n",
       "  </thead>\n",
       "  <tbody>\n",
       "    <tr>\n",
       "      <th>0</th>\n",
       "      <td>1 AV</td>\n",
       "      <td>2019-04-28</td>\n",
       "      <td>6338.0</td>\n",
       "      <td>1.413315e+09</td>\n",
       "      <td>1413321232</td>\n",
       "    </tr>\n",
       "    <tr>\n",
       "      <th>1</th>\n",
       "      <td>1 AV</td>\n",
       "      <td>2019-04-29</td>\n",
       "      <td>4555.0</td>\n",
       "      <td>1.413321e+09</td>\n",
       "      <td>1413325787</td>\n",
       "    </tr>\n",
       "    <tr>\n",
       "      <th>2</th>\n",
       "      <td>1 AV</td>\n",
       "      <td>2019-04-30</td>\n",
       "      <td>18018.0</td>\n",
       "      <td>1.413326e+09</td>\n",
       "      <td>1413343805</td>\n",
       "    </tr>\n",
       "    <tr>\n",
       "      <th>3</th>\n",
       "      <td>1 AV</td>\n",
       "      <td>2019-05-01</td>\n",
       "      <td>18923.0</td>\n",
       "      <td>1.413344e+09</td>\n",
       "      <td>1413362728</td>\n",
       "    </tr>\n",
       "    <tr>\n",
       "      <th>4</th>\n",
       "      <td>1 AV</td>\n",
       "      <td>2019-05-02</td>\n",
       "      <td>19226.0</td>\n",
       "      <td>1.413363e+09</td>\n",
       "      <td>1413381954</td>\n",
       "    </tr>\n",
       "  </tbody>\n",
       "</table>\n",
       "</div>"
      ],
      "text/plain": [
       "  STATION       DATE  DAILY_ENTRIES  PREV_ENTRIES     ENTRIES\n",
       "0    1 AV 2019-04-28         6338.0  1.413315e+09  1413321232\n",
       "1    1 AV 2019-04-29         4555.0  1.413321e+09  1413325787\n",
       "2    1 AV 2019-04-30        18018.0  1.413326e+09  1413343805\n",
       "3    1 AV 2019-05-01        18923.0  1.413344e+09  1413362728\n",
       "4    1 AV 2019-05-02        19226.0  1.413363e+09  1413381954"
      ]
     },
     "execution_count": 276,
     "metadata": {},
     "output_type": "execute_result"
    }
   ],
   "source": [
    "df_c6.head()"
   ]
  },
  {
   "cell_type": "markdown",
   "metadata": {},
   "source": [
    "## Challenge 7"
   ]
  },
  {
   "cell_type": "code",
   "execution_count": 277,
   "metadata": {},
   "outputs": [
    {
     "data": {
      "text/plain": [
       "(41, 6)"
      ]
     },
     "execution_count": 277,
     "metadata": {},
     "output_type": "execute_result"
    }
   ],
   "source": [
    "df_c6_bb = df_c6[df_c6.STATION == '183 ST'].reset_index()\n",
    "df_c6_bb.shape"
   ]
  },
  {
   "cell_type": "code",
   "execution_count": 278,
   "metadata": {},
   "outputs": [
    {
     "data": {
      "text/plain": [
       "[<matplotlib.lines.Line2D at 0x7fb5399dbfd0>]"
      ]
     },
     "execution_count": 278,
     "metadata": {},
     "output_type": "execute_result"
    },
    {
     "data": {
      "image/png": "[encoded data removed]",
      "text/plain": [
       "<Figure size 720x216 with 1 Axes>"
      ]
     },
     "metadata": {
      "needs_background": "light"
     },
     "output_type": "display_data"
    }
   ],
   "source": [
    "plt.figure(figsize=(10,3))\n",
    "plt.plot(df_c6_bb['DATE'],df_c6_bb['DAILY_ENTRIES'])\n",
    "#plt.xticks(['2019-05-12', '2019-05-13', '2019-05-14', '2019-05-15', '2019-05-16'])\n",
    "#plt.xlim(['2019-05-27', '2019-06-05'])\n",
    "#plt.ylim([0.1e10,1e10])"
   ]
  },
  {
   "attachments": {
    "image.png": {
     "image/png": "[encoded data removed]"
    }
   },
   "cell_type": "markdown",
   "metadata": {},
   "source": [
    "![image.png](attachment:image.png)"
   ]
  },
  {
   "cell_type": "markdown",
   "metadata": {},
   "source": []
  },
  {
   "cell_type": "markdown",
   "metadata": {},
   "source": [
    "## Challenge 8"
   ]
  },
  {
   "cell_type": "code",
   "execution_count": 191,
   "metadata": {},
   "outputs": [],
   "source": [
    "weekday = df_c6_bb.drop(['PREV_ENTRIES', 'ENTRIES', 'index'], axis = 1)"
   ]
  },
  {
   "cell_type": "code",
   "execution_count": 192,
   "metadata": {},
   "outputs": [
    {
     "data": {
      "text/html": [
       "<div>\n",
       "<style scoped>\n",
       "    .dataframe tbody tr th:only-of-type {\n",
       "        vertical-align: middle;\n",
       "    }\n",
       "\n",
       "    .dataframe tbody tr th {\n",
       "        vertical-align: top;\n",
       "    }\n",
       "\n",
       "    .dataframe thead th {\n",
       "        text-align: right;\n",
       "    }\n",
       "</style>\n",
       "<table border=\"1\" class=\"dataframe\">\n",
       "  <thead>\n",
       "    <tr style=\"text-align: right;\">\n",
       "      <th></th>\n",
       "      <th>STATION</th>\n",
       "      <th>DATE</th>\n",
       "      <th>DAILY_ENTRIES</th>\n",
       "    </tr>\n",
       "  </thead>\n",
       "  <tbody>\n",
       "    <tr>\n",
       "      <th>0</th>\n",
       "      <td>BROOKLYN BRIDGE</td>\n",
       "      <td>2019-04-28</td>\n",
       "      <td>11143.0</td>\n",
       "    </tr>\n",
       "    <tr>\n",
       "      <th>1</th>\n",
       "      <td>BROOKLYN BRIDGE</td>\n",
       "      <td>2019-04-29</td>\n",
       "      <td>6712.0</td>\n",
       "    </tr>\n",
       "    <tr>\n",
       "      <th>2</th>\n",
       "      <td>BROOKLYN BRIDGE</td>\n",
       "      <td>2019-04-30</td>\n",
       "      <td>22427.0</td>\n",
       "    </tr>\n",
       "    <tr>\n",
       "      <th>3</th>\n",
       "      <td>BROOKLYN BRIDGE</td>\n",
       "      <td>2019-05-01</td>\n",
       "      <td>22469.0</td>\n",
       "    </tr>\n",
       "    <tr>\n",
       "      <th>4</th>\n",
       "      <td>BROOKLYN BRIDGE</td>\n",
       "      <td>2019-05-02</td>\n",
       "      <td>22231.0</td>\n",
       "    </tr>\n",
       "  </tbody>\n",
       "</table>\n",
       "</div>"
      ],
      "text/plain": [
       "           STATION       DATE  DAILY_ENTRIES\n",
       "0  BROOKLYN BRIDGE 2019-04-28        11143.0\n",
       "1  BROOKLYN BRIDGE 2019-04-29         6712.0\n",
       "2  BROOKLYN BRIDGE 2019-04-30        22427.0\n",
       "3  BROOKLYN BRIDGE 2019-05-01        22469.0\n",
       "4  BROOKLYN BRIDGE 2019-05-02        22231.0"
      ]
     },
     "execution_count": 192,
     "metadata": {},
     "output_type": "execute_result"
    }
   ],
   "source": [
    "weekday.head()"
   ]
  },
  {
   "cell_type": "code",
   "execution_count": 397,
   "metadata": {},
   "outputs": [
    {
     "data": {
      "text/html": [
       "<div>\n",
       "<style scoped>\n",
       "    .dataframe tbody tr th:only-of-type {\n",
       "        vertical-align: middle;\n",
       "    }\n",
       "\n",
       "    .dataframe tbody tr th {\n",
       "        vertical-align: top;\n",
       "    }\n",
       "\n",
       "    .dataframe thead th {\n",
       "        text-align: right;\n",
       "    }\n",
       "</style>\n",
       "<table border=\"1\" class=\"dataframe\">\n",
       "  <thead>\n",
       "    <tr style=\"text-align: right;\">\n",
       "      <th></th>\n",
       "      <th>STATION</th>\n",
       "      <th>DATE</th>\n",
       "      <th>DAILY_ENTRIES</th>\n",
       "      <th>WEEKDAY</th>\n",
       "      <th>WEEK</th>\n",
       "      <th>DATE_SHIFT</th>\n",
       "    </tr>\n",
       "  </thead>\n",
       "  <tbody>\n",
       "    <tr>\n",
       "      <th>0</th>\n",
       "      <td>BROOKLYN BRIDGE</td>\n",
       "      <td>2019-04-28</td>\n",
       "      <td>11143.0</td>\n",
       "      <td>Monday</td>\n",
       "      <td>18</td>\n",
       "      <td>2019-04-29</td>\n",
       "    </tr>\n",
       "    <tr>\n",
       "      <th>1</th>\n",
       "      <td>BROOKLYN BRIDGE</td>\n",
       "      <td>2019-04-29</td>\n",
       "      <td>6712.0</td>\n",
       "      <td>Tuesday</td>\n",
       "      <td>18</td>\n",
       "      <td>2019-04-30</td>\n",
       "    </tr>\n",
       "    <tr>\n",
       "      <th>2</th>\n",
       "      <td>BROOKLYN BRIDGE</td>\n",
       "      <td>2019-04-30</td>\n",
       "      <td>22427.0</td>\n",
       "      <td>Wednesday</td>\n",
       "      <td>18</td>\n",
       "      <td>2019-05-01</td>\n",
       "    </tr>\n",
       "    <tr>\n",
       "      <th>3</th>\n",
       "      <td>BROOKLYN BRIDGE</td>\n",
       "      <td>2019-05-01</td>\n",
       "      <td>22469.0</td>\n",
       "      <td>Thursday</td>\n",
       "      <td>18</td>\n",
       "      <td>2019-05-02</td>\n",
       "    </tr>\n",
       "    <tr>\n",
       "      <th>4</th>\n",
       "      <td>BROOKLYN BRIDGE</td>\n",
       "      <td>2019-05-02</td>\n",
       "      <td>22231.0</td>\n",
       "      <td>Friday</td>\n",
       "      <td>18</td>\n",
       "      <td>2019-05-03</td>\n",
       "    </tr>\n",
       "  </tbody>\n",
       "</table>\n",
       "</div>"
      ],
      "text/plain": [
       "           STATION       DATE  DAILY_ENTRIES    WEEKDAY  WEEK DATE_SHIFT\n",
       "0  BROOKLYN BRIDGE 2019-04-28        11143.0     Monday    18 2019-04-29\n",
       "1  BROOKLYN BRIDGE 2019-04-29         6712.0    Tuesday    18 2019-04-30\n",
       "2  BROOKLYN BRIDGE 2019-04-30        22427.0  Wednesday    18 2019-05-01\n",
       "3  BROOKLYN BRIDGE 2019-05-01        22469.0   Thursday    18 2019-05-02\n",
       "4  BROOKLYN BRIDGE 2019-05-02        22231.0     Friday    18 2019-05-03"
      ]
     },
     "execution_count": 397,
     "metadata": {},
     "output_type": "execute_result"
    }
   ],
   "source": [
    "weekday['DATE_SHIFT'] = weekday['DATE'] + pd.DateOffset(days=1)\n",
    "weekday['WEEKDAY'] = weekday['DATE_SHIFT'].dt.day_name()\n",
    "weekday['WEEK'] = weekday['DATE_SHIFT'].dt.week\n",
    "weekday.head()"
   ]
  },
  {
   "cell_type": "code",
   "execution_count": null,
   "metadata": {},
   "outputs": [],
   "source": []
  },
  {
   "cell_type": "markdown",
   "metadata": {},
   "source": [
    "Overall recommendation: XYZ\n",
    "    \n",
    "    1) most popular station\n",
    "        - bar chart with top 10\n",
    "        - (if we have time) map representation/indicate geographical clusters on barchart\n",
    "        - indicate how many stations will be chosen\n",
    "   \n",
    "    2) most popular group of turnstiles\n",
    "        - 2/3 per station?\n",
    "        \n",
    "    3) best day of the week\n",
    "        - 1 to 2\n"
   ]
  },
  {
   "cell_type": "code",
   "execution_count": 166,
   "metadata": {},
   "outputs": [
    {
     "data": {
      "text/plain": [
       "array(['BROOKLYN BRIDGE'], dtype=object)"
      ]
     },
     "execution_count": 166,
     "metadata": {},
     "output_type": "execute_result"
    }
   ],
   "source": [
    "weekday.STATION.unique()"
   ]
  },
  {
   "cell_type": "code",
   "execution_count": 416,
   "metadata": {},
   "outputs": [
    {
     "data": {
      "text/html": [
       "<div>\n",
       "<style scoped>\n",
       "    .dataframe tbody tr th:only-of-type {\n",
       "        vertical-align: middle;\n",
       "    }\n",
       "\n",
       "    .dataframe tbody tr th {\n",
       "        vertical-align: top;\n",
       "    }\n",
       "\n",
       "    .dataframe thead th {\n",
       "        text-align: right;\n",
       "    }\n",
       "</style>\n",
       "<table border=\"1\" class=\"dataframe\">\n",
       "  <thead>\n",
       "    <tr style=\"text-align: right;\">\n",
       "      <th></th>\n",
       "      <th>STATION</th>\n",
       "      <th>DATE</th>\n",
       "      <th>DAILY_ENTRIES</th>\n",
       "      <th>WEEKDAY</th>\n",
       "      <th>WEEK</th>\n",
       "    </tr>\n",
       "  </thead>\n",
       "  <tbody>\n",
       "    <tr>\n",
       "      <th>0</th>\n",
       "      <td>1 AV</td>\n",
       "      <td>2019-04-28</td>\n",
       "      <td>6338.0</td>\n",
       "      <td>Sunday</td>\n",
       "      <td>17</td>\n",
       "    </tr>\n",
       "    <tr>\n",
       "      <th>1</th>\n",
       "      <td>1 AV</td>\n",
       "      <td>2019-04-29</td>\n",
       "      <td>4555.0</td>\n",
       "      <td>Monday</td>\n",
       "      <td>18</td>\n",
       "    </tr>\n",
       "    <tr>\n",
       "      <th>2</th>\n",
       "      <td>1 AV</td>\n",
       "      <td>2019-04-30</td>\n",
       "      <td>18018.0</td>\n",
       "      <td>Tuesday</td>\n",
       "      <td>18</td>\n",
       "    </tr>\n",
       "    <tr>\n",
       "      <th>3</th>\n",
       "      <td>1 AV</td>\n",
       "      <td>2019-05-01</td>\n",
       "      <td>18923.0</td>\n",
       "      <td>Wednesday</td>\n",
       "      <td>18</td>\n",
       "    </tr>\n",
       "    <tr>\n",
       "      <th>4</th>\n",
       "      <td>1 AV</td>\n",
       "      <td>2019-05-02</td>\n",
       "      <td>19226.0</td>\n",
       "      <td>Thursday</td>\n",
       "      <td>18</td>\n",
       "    </tr>\n",
       "  </tbody>\n",
       "</table>\n",
       "</div>"
      ],
      "text/plain": [
       "  STATION       DATE  DAILY_ENTRIES    WEEKDAY  WEEK\n",
       "0    1 AV 2019-04-28         6338.0     Sunday    17\n",
       "1    1 AV 2019-04-29         4555.0     Monday    18\n",
       "2    1 AV 2019-04-30        18018.0    Tuesday    18\n",
       "3    1 AV 2019-05-01        18923.0  Wednesday    18\n",
       "4    1 AV 2019-05-02        19226.0   Thursday    18"
      ]
     },
     "execution_count": 416,
     "metadata": {},
     "output_type": "execute_result"
    }
   ],
   "source": [
    "#df_c6 = df_c6.drop(['PREV_ENTRIES', 'ENTRIES'], axis = 1)\n",
    "df_c6.head()"
   ]
  },
  {
   "cell_type": "code",
   "execution_count": 450,
   "metadata": {},
   "outputs": [
    {
     "data": {
      "text/html": [
       "<div>\n",
       "<style scoped>\n",
       "    .dataframe tbody tr th:only-of-type {\n",
       "        vertical-align: middle;\n",
       "    }\n",
       "\n",
       "    .dataframe tbody tr th {\n",
       "        vertical-align: top;\n",
       "    }\n",
       "\n",
       "    .dataframe thead th {\n",
       "        text-align: right;\n",
       "    }\n",
       "</style>\n",
       "<table border=\"1\" class=\"dataframe\">\n",
       "  <thead>\n",
       "    <tr style=\"text-align: right;\">\n",
       "      <th></th>\n",
       "      <th>STATION</th>\n",
       "      <th>DATE</th>\n",
       "      <th>DAILY_ENTRIES</th>\n",
       "      <th>WEEKDAY</th>\n",
       "      <th>WEEK</th>\n",
       "      <th>DATE_SHIFT</th>\n",
       "    </tr>\n",
       "  </thead>\n",
       "  <tbody>\n",
       "    <tr>\n",
       "      <th>0</th>\n",
       "      <td>1 AV</td>\n",
       "      <td>2019-04-28</td>\n",
       "      <td>6338.0</td>\n",
       "      <td>Saturday</td>\n",
       "      <td>17</td>\n",
       "      <td>2019-04-27</td>\n",
       "    </tr>\n",
       "    <tr>\n",
       "      <th>1</th>\n",
       "      <td>1 AV</td>\n",
       "      <td>2019-04-29</td>\n",
       "      <td>4555.0</td>\n",
       "      <td>Sunday</td>\n",
       "      <td>17</td>\n",
       "      <td>2019-04-28</td>\n",
       "    </tr>\n",
       "    <tr>\n",
       "      <th>2</th>\n",
       "      <td>1 AV</td>\n",
       "      <td>2019-04-30</td>\n",
       "      <td>18018.0</td>\n",
       "      <td>Monday</td>\n",
       "      <td>18</td>\n",
       "      <td>2019-04-29</td>\n",
       "    </tr>\n",
       "    <tr>\n",
       "      <th>3</th>\n",
       "      <td>1 AV</td>\n",
       "      <td>2019-05-01</td>\n",
       "      <td>18923.0</td>\n",
       "      <td>Tuesday</td>\n",
       "      <td>18</td>\n",
       "      <td>2019-04-30</td>\n",
       "    </tr>\n",
       "    <tr>\n",
       "      <th>4</th>\n",
       "      <td>1 AV</td>\n",
       "      <td>2019-05-02</td>\n",
       "      <td>19226.0</td>\n",
       "      <td>Wednesday</td>\n",
       "      <td>18</td>\n",
       "      <td>2019-05-01</td>\n",
       "    </tr>\n",
       "  </tbody>\n",
       "</table>\n",
       "</div>"
      ],
      "text/plain": [
       "  STATION       DATE  DAILY_ENTRIES    WEEKDAY  WEEK DATE_SHIFT\n",
       "0    1 AV 2019-04-28         6338.0   Saturday    17 2019-04-27\n",
       "1    1 AV 2019-04-29         4555.0     Sunday    17 2019-04-28\n",
       "2    1 AV 2019-04-30        18018.0     Monday    18 2019-04-29\n",
       "3    1 AV 2019-05-01        18923.0    Tuesday    18 2019-04-30\n",
       "4    1 AV 2019-05-02        19226.0  Wednesday    18 2019-05-01"
      ]
     },
     "execution_count": 450,
     "metadata": {},
     "output_type": "execute_result"
    }
   ],
   "source": [
    "df_c6['DATE_SHIFT'] = df_c6['DATE'] + pd.DateOffset(days=-1)\n",
    "df_c6['WEEKDAY'] = df_c6['DATE_SHIFT'].dt.day_name()\n",
    "df_c6['WEEK'] = df_c6['DATE_SHIFT'].dt.week\n",
    "df_c6.head()"
   ]
  },
  {
   "cell_type": "code",
   "execution_count": 451,
   "metadata": {},
   "outputs": [
    {
     "data": {
      "text/plain": [
       "22    2645\n",
       "21    2640\n",
       "20    2639\n",
       "19    2637\n",
       "18    2637\n",
       "Name: WEEK, dtype: int64"
      ]
     },
     "execution_count": 451,
     "metadata": {},
     "output_type": "execute_result"
    }
   ],
   "source": [
    "df_c6_d17 = df_c6[(df_c6['WEEK'] != 17) & (df_c6['WEEK'] != 23)]\n",
    "df_c6_d17.WEEK.value_counts()"
   ]
  },
  {
   "cell_type": "code",
   "execution_count": 452,
   "metadata": {},
   "outputs": [
    {
     "data": {
      "text/html": [
       "<div>\n",
       "<style scoped>\n",
       "    .dataframe tbody tr th:only-of-type {\n",
       "        vertical-align: middle;\n",
       "    }\n",
       "\n",
       "    .dataframe tbody tr th {\n",
       "        vertical-align: top;\n",
       "    }\n",
       "\n",
       "    .dataframe thead th {\n",
       "        text-align: right;\n",
       "    }\n",
       "</style>\n",
       "<table border=\"1\" class=\"dataframe\">\n",
       "  <thead>\n",
       "    <tr style=\"text-align: right;\">\n",
       "      <th></th>\n",
       "      <th>STATION</th>\n",
       "      <th>DATE</th>\n",
       "      <th>DAILY_ENTRIES</th>\n",
       "      <th>WEEKDAY</th>\n",
       "      <th>WEEK</th>\n",
       "      <th>DATE_SHIFT</th>\n",
       "    </tr>\n",
       "  </thead>\n",
       "  <tbody>\n",
       "    <tr>\n",
       "      <th>2</th>\n",
       "      <td>1 AV</td>\n",
       "      <td>2019-04-30</td>\n",
       "      <td>18018.0</td>\n",
       "      <td>Monday</td>\n",
       "      <td>18</td>\n",
       "      <td>2019-04-29</td>\n",
       "    </tr>\n",
       "    <tr>\n",
       "      <th>3</th>\n",
       "      <td>1 AV</td>\n",
       "      <td>2019-05-01</td>\n",
       "      <td>18923.0</td>\n",
       "      <td>Tuesday</td>\n",
       "      <td>18</td>\n",
       "      <td>2019-04-30</td>\n",
       "    </tr>\n",
       "    <tr>\n",
       "      <th>4</th>\n",
       "      <td>1 AV</td>\n",
       "      <td>2019-05-02</td>\n",
       "      <td>19226.0</td>\n",
       "      <td>Wednesday</td>\n",
       "      <td>18</td>\n",
       "      <td>2019-05-01</td>\n",
       "    </tr>\n",
       "    <tr>\n",
       "      <th>5</th>\n",
       "      <td>1 AV</td>\n",
       "      <td>2019-05-03</td>\n",
       "      <td>19745.0</td>\n",
       "      <td>Thursday</td>\n",
       "      <td>18</td>\n",
       "      <td>2019-05-02</td>\n",
       "    </tr>\n",
       "    <tr>\n",
       "      <th>6</th>\n",
       "      <td>1 AV</td>\n",
       "      <td>2019-05-04</td>\n",
       "      <td>20046.0</td>\n",
       "      <td>Friday</td>\n",
       "      <td>18</td>\n",
       "      <td>2019-05-03</td>\n",
       "    </tr>\n",
       "  </tbody>\n",
       "</table>\n",
       "</div>"
      ],
      "text/plain": [
       "  STATION       DATE  DAILY_ENTRIES    WEEKDAY  WEEK DATE_SHIFT\n",
       "2    1 AV 2019-04-30        18018.0     Monday    18 2019-04-29\n",
       "3    1 AV 2019-05-01        18923.0    Tuesday    18 2019-04-30\n",
       "4    1 AV 2019-05-02        19226.0  Wednesday    18 2019-05-01\n",
       "5    1 AV 2019-05-03        19745.0   Thursday    18 2019-05-02\n",
       "6    1 AV 2019-05-04        20046.0     Friday    18 2019-05-03"
      ]
     },
     "execution_count": 452,
     "metadata": {},
     "output_type": "execute_result"
    }
   ],
   "source": [
    "df_c6_d17.head()"
   ]
  },
  {
   "cell_type": "code",
   "execution_count": 453,
   "metadata": {},
   "outputs": [
    {
     "data": {
      "text/html": [
       "<div>\n",
       "<style scoped>\n",
       "    .dataframe tbody tr th:only-of-type {\n",
       "        vertical-align: middle;\n",
       "    }\n",
       "\n",
       "    .dataframe tbody tr th {\n",
       "        vertical-align: top;\n",
       "    }\n",
       "\n",
       "    .dataframe thead th {\n",
       "        text-align: right;\n",
       "    }\n",
       "</style>\n",
       "<table border=\"1\" class=\"dataframe\">\n",
       "  <thead>\n",
       "    <tr style=\"text-align: right;\">\n",
       "      <th></th>\n",
       "      <th>STATION</th>\n",
       "      <th>WEEK</th>\n",
       "      <th>DAILY_ENTRIES</th>\n",
       "    </tr>\n",
       "  </thead>\n",
       "  <tbody>\n",
       "    <tr>\n",
       "      <th>0</th>\n",
       "      <td>1 AV</td>\n",
       "      <td>18</td>\n",
       "      <td>107652.0</td>\n",
       "    </tr>\n",
       "    <tr>\n",
       "      <th>1</th>\n",
       "      <td>1 AV</td>\n",
       "      <td>19</td>\n",
       "      <td>106758.0</td>\n",
       "    </tr>\n",
       "    <tr>\n",
       "      <th>2</th>\n",
       "      <td>1 AV</td>\n",
       "      <td>20</td>\n",
       "      <td>108946.0</td>\n",
       "    </tr>\n",
       "    <tr>\n",
       "      <th>3</th>\n",
       "      <td>1 AV</td>\n",
       "      <td>21</td>\n",
       "      <td>107751.0</td>\n",
       "    </tr>\n",
       "    <tr>\n",
       "      <th>4</th>\n",
       "      <td>1 AV</td>\n",
       "      <td>22</td>\n",
       "      <td>92758.0</td>\n",
       "    </tr>\n",
       "  </tbody>\n",
       "</table>\n",
       "</div>"
      ],
      "text/plain": [
       "  STATION  WEEK  DAILY_ENTRIES\n",
       "0    1 AV    18       107652.0\n",
       "1    1 AV    19       106758.0\n",
       "2    1 AV    20       108946.0\n",
       "3    1 AV    21       107751.0\n",
       "4    1 AV    22        92758.0"
      ]
     },
     "execution_count": 453,
     "metadata": {},
     "output_type": "execute_result"
    }
   ],
   "source": [
    "df_week = df_c6_d17.groupby(['STATION', 'WEEK']).agg('sum').reset_index()\n",
    "df_week.head()"
   ]
  },
  {
   "cell_type": "code",
   "execution_count": 454,
   "metadata": {},
   "outputs": [
    {
     "data": {
      "text/html": [
       "<div>\n",
       "<style scoped>\n",
       "    .dataframe tbody tr th:only-of-type {\n",
       "        vertical-align: middle;\n",
       "    }\n",
       "\n",
       "    .dataframe tbody tr th {\n",
       "        vertical-align: top;\n",
       "    }\n",
       "\n",
       "    .dataframe thead th {\n",
       "        text-align: right;\n",
       "    }\n",
       "</style>\n",
       "<table border=\"1\" class=\"dataframe\">\n",
       "  <thead>\n",
       "    <tr style=\"text-align: right;\">\n",
       "      <th></th>\n",
       "      <th>STATION</th>\n",
       "      <th>WEEK</th>\n",
       "      <th>DAILY_ENTRIES</th>\n",
       "    </tr>\n",
       "  </thead>\n",
       "  <tbody>\n",
       "    <tr>\n",
       "      <th>0</th>\n",
       "      <td>1 AV</td>\n",
       "      <td>20.0</td>\n",
       "      <td>104773.0</td>\n",
       "    </tr>\n",
       "    <tr>\n",
       "      <th>1</th>\n",
       "      <td>103 ST</td>\n",
       "      <td>20.0</td>\n",
       "      <td>188559.4</td>\n",
       "    </tr>\n",
       "    <tr>\n",
       "      <th>2</th>\n",
       "      <td>103 ST-CORONA</td>\n",
       "      <td>20.0</td>\n",
       "      <td>125926.2</td>\n",
       "    </tr>\n",
       "    <tr>\n",
       "      <th>3</th>\n",
       "      <td>104 ST</td>\n",
       "      <td>20.0</td>\n",
       "      <td>27019.8</td>\n",
       "    </tr>\n",
       "    <tr>\n",
       "      <th>4</th>\n",
       "      <td>110 ST</td>\n",
       "      <td>20.0</td>\n",
       "      <td>66246.6</td>\n",
       "    </tr>\n",
       "  </tbody>\n",
       "</table>\n",
       "</div>"
      ],
      "text/plain": [
       "         STATION  WEEK  DAILY_ENTRIES\n",
       "0           1 AV  20.0       104773.0\n",
       "1         103 ST  20.0       188559.4\n",
       "2  103 ST-CORONA  20.0       125926.2\n",
       "3         104 ST  20.0        27019.8\n",
       "4         110 ST  20.0        66246.6"
      ]
     },
     "execution_count": 454,
     "metadata": {},
     "output_type": "execute_result"
    }
   ],
   "source": [
    "df_week = df_week.groupby('STATION').agg('mean').reset_index()\n",
    "df_week.head()"
   ]
  },
  {
   "cell_type": "code",
   "execution_count": 455,
   "metadata": {},
   "outputs": [],
   "source": [
    "df_week = df_week.drop('WEEK', axis = 1)"
   ]
  },
  {
   "cell_type": "code",
   "execution_count": 456,
   "metadata": {},
   "outputs": [],
   "source": [
    "df_week_sorted = df_week.sort_values(by = 'DAILY_ENTRIES', ascending = False).reset_index()"
   ]
  },
  {
   "cell_type": "code",
   "execution_count": 457,
   "metadata": {},
   "outputs": [
    {
     "data": {
      "text/html": [
       "<div>\n",
       "<style scoped>\n",
       "    .dataframe tbody tr th:only-of-type {\n",
       "        vertical-align: middle;\n",
       "    }\n",
       "\n",
       "    .dataframe tbody tr th {\n",
       "        vertical-align: top;\n",
       "    }\n",
       "\n",
       "    .dataframe thead th {\n",
       "        text-align: right;\n",
       "    }\n",
       "</style>\n",
       "<table border=\"1\" class=\"dataframe\">\n",
       "  <thead>\n",
       "    <tr style=\"text-align: right;\">\n",
       "      <th></th>\n",
       "      <th>index</th>\n",
       "      <th>STATION</th>\n",
       "      <th>DAILY_ENTRIES</th>\n",
       "      <th>AVG_WEEKLY_ENTRIES</th>\n",
       "    </tr>\n",
       "  </thead>\n",
       "  <tbody>\n",
       "    <tr>\n",
       "      <th>0</th>\n",
       "      <td>61</td>\n",
       "      <td>34 ST-PENN STA</td>\n",
       "      <td>1064290.6</td>\n",
       "      <td>1064290.6</td>\n",
       "    </tr>\n",
       "    <tr>\n",
       "      <th>1</th>\n",
       "      <td>232</td>\n",
       "      <td>GRD CNTRL-42 ST</td>\n",
       "      <td>891950.6</td>\n",
       "      <td>891950.6</td>\n",
       "    </tr>\n",
       "    <tr>\n",
       "      <th>2</th>\n",
       "      <td>314</td>\n",
       "      <td>PATH NEW WTC</td>\n",
       "      <td>845690.8</td>\n",
       "      <td>845690.8</td>\n",
       "    </tr>\n",
       "    <tr>\n",
       "      <th>3</th>\n",
       "      <td>352</td>\n",
       "      <td>TIMES SQ-42 ST</td>\n",
       "      <td>807833.2</td>\n",
       "      <td>807833.2</td>\n",
       "    </tr>\n",
       "    <tr>\n",
       "      <th>4</th>\n",
       "      <td>46</td>\n",
       "      <td>23 ST</td>\n",
       "      <td>764613.0</td>\n",
       "      <td>764613.0</td>\n",
       "    </tr>\n",
       "  </tbody>\n",
       "</table>\n",
       "</div>"
      ],
      "text/plain": [
       "   index          STATION  DAILY_ENTRIES  AVG_WEEKLY_ENTRIES\n",
       "0     61   34 ST-PENN STA      1064290.6           1064290.6\n",
       "1    232  GRD CNTRL-42 ST       891950.6            891950.6\n",
       "2    314     PATH NEW WTC       845690.8            845690.8\n",
       "3    352   TIMES SQ-42 ST       807833.2            807833.2\n",
       "4     46            23 ST       764613.0            764613.0"
      ]
     },
     "execution_count": 457,
     "metadata": {},
     "output_type": "execute_result"
    }
   ],
   "source": [
    "df_week_sorted.head(20)\n",
    "df_week_sorted['AVG_WEEKLY_ENTRIES'] = df_week_sorted['DAILY_ENTRIES']\n",
    "df_week_sorted.head()"
   ]
  },
  {
   "cell_type": "code",
   "execution_count": 458,
   "metadata": {},
   "outputs": [
    {
     "data": {
      "text/html": [
       "<div>\n",
       "<style scoped>\n",
       "    .dataframe tbody tr th:only-of-type {\n",
       "        vertical-align: middle;\n",
       "    }\n",
       "\n",
       "    .dataframe tbody tr th {\n",
       "        vertical-align: top;\n",
       "    }\n",
       "\n",
       "    .dataframe thead th {\n",
       "        text-align: right;\n",
       "    }\n",
       "</style>\n",
       "<table border=\"1\" class=\"dataframe\">\n",
       "  <thead>\n",
       "    <tr style=\"text-align: right;\">\n",
       "      <th></th>\n",
       "      <th>index</th>\n",
       "      <th>STATION</th>\n",
       "      <th>DAILY_ENTRIES</th>\n",
       "      <th>AVG_WEEKLY_ENTRIES</th>\n",
       "    </tr>\n",
       "  </thead>\n",
       "  <tbody>\n",
       "    <tr>\n",
       "      <th>0</th>\n",
       "      <td>61</td>\n",
       "      <td>34 ST-PENN STA</td>\n",
       "      <td>1064290.6</td>\n",
       "      <td>1064290.6</td>\n",
       "    </tr>\n",
       "    <tr>\n",
       "      <th>1</th>\n",
       "      <td>232</td>\n",
       "      <td>GRD CNTRL-42 ST</td>\n",
       "      <td>891950.6</td>\n",
       "      <td>891950.6</td>\n",
       "    </tr>\n",
       "    <tr>\n",
       "      <th>2</th>\n",
       "      <td>314</td>\n",
       "      <td>PATH NEW WTC</td>\n",
       "      <td>845690.8</td>\n",
       "      <td>845690.8</td>\n",
       "    </tr>\n",
       "    <tr>\n",
       "      <th>3</th>\n",
       "      <td>352</td>\n",
       "      <td>TIMES SQ-42 ST</td>\n",
       "      <td>807833.2</td>\n",
       "      <td>807833.2</td>\n",
       "    </tr>\n",
       "    <tr>\n",
       "      <th>4</th>\n",
       "      <td>46</td>\n",
       "      <td>23 ST</td>\n",
       "      <td>764613.0</td>\n",
       "      <td>764613.0</td>\n",
       "    </tr>\n",
       "    <tr>\n",
       "      <th>5</th>\n",
       "      <td>59</td>\n",
       "      <td>34 ST-HERALD SQ</td>\n",
       "      <td>764343.4</td>\n",
       "      <td>764343.4</td>\n",
       "    </tr>\n",
       "    <tr>\n",
       "      <th>6</th>\n",
       "      <td>14</td>\n",
       "      <td>14 ST-UNION SQ</td>\n",
       "      <td>731598.2</td>\n",
       "      <td>731598.2</td>\n",
       "    </tr>\n",
       "    <tr>\n",
       "      <th>7</th>\n",
       "      <td>68</td>\n",
       "      <td>42 ST-PORT AUTH</td>\n",
       "      <td>653464.0</td>\n",
       "      <td>653464.0</td>\n",
       "    </tr>\n",
       "    <tr>\n",
       "      <th>8</th>\n",
       "      <td>225</td>\n",
       "      <td>FULTON ST</td>\n",
       "      <td>625888.0</td>\n",
       "      <td>625888.0</td>\n",
       "    </tr>\n",
       "    <tr>\n",
       "      <th>9</th>\n",
       "      <td>110</td>\n",
       "      <td>86 ST</td>\n",
       "      <td>619370.4</td>\n",
       "      <td>619370.4</td>\n",
       "    </tr>\n",
       "  </tbody>\n",
       "</table>\n",
       "</div>"
      ],
      "text/plain": [
       "   index          STATION  DAILY_ENTRIES  AVG_WEEKLY_ENTRIES\n",
       "0     61   34 ST-PENN STA      1064290.6           1064290.6\n",
       "1    232  GRD CNTRL-42 ST       891950.6            891950.6\n",
       "2    314     PATH NEW WTC       845690.8            845690.8\n",
       "3    352   TIMES SQ-42 ST       807833.2            807833.2\n",
       "4     46            23 ST       764613.0            764613.0\n",
       "5     59  34 ST-HERALD SQ       764343.4            764343.4\n",
       "6     14   14 ST-UNION SQ       731598.2            731598.2\n",
       "7     68  42 ST-PORT AUTH       653464.0            653464.0\n",
       "8    225        FULTON ST       625888.0            625888.0\n",
       "9    110            86 ST       619370.4            619370.4"
      ]
     },
     "execution_count": 458,
     "metadata": {},
     "output_type": "execute_result"
    }
   ],
   "source": [
    "top_weekly_avg = df_week_sorted.head(10)\n",
    "top_weekly_avg"
   ]
  },
  {
   "cell_type": "code",
   "execution_count": 459,
   "metadata": {},
   "outputs": [],
   "source": [
    "import seaborn as sns"
   ]
  },
  {
   "cell_type": "code",
   "execution_count": 460,
   "metadata": {},
   "outputs": [
    {
     "data": {
      "image/png": "[encoded data removed]",
      "text/plain": [
       "<Figure size 842.4x595.44 with 1 Axes>"
      ]
     },
     "metadata": {},
     "output_type": "display_data"
    }
   ],
   "source": [
    "sns.set_context('talk')\n",
    "sns.set_style(\"ticks\")\n",
    "g = sns.barplot(data = top_weekly_avg, y = 'STATION', x = 'AVG_WEEKLY_ENTRIES', palette = 'rainbow')\n",
    "\n",
    "#for item in g.get_xticklabels():\n",
    "#    item.set_rotation(90)\n",
    "g.set_title('Stations with Highest Weekly Traffic')\n",
    "g.figure.savefig('top_10.png', bbox_inches = 'tight')\n",
    "# *also pull map and/or grey out bars related to cluster*"
   ]
  },
  {
   "cell_type": "code",
   "execution_count": 461,
   "metadata": {},
   "outputs": [],
   "source": [
    "dataframe = df_c6_d17\n",
    "station1 = '34 ST-PENN STA'\n",
    "station2 = 'GRD CNTRL-42 ST'\n",
    "station3 = 'PATH NEW WTC'\n",
    "station4 = 'TIMES SQ-42 ST'"
   ]
  },
  {
   "cell_type": "code",
   "execution_count": 466,
   "metadata": {},
   "outputs": [
    {
     "data": {
      "text/html": [
       "<div>\n",
       "<style scoped>\n",
       "    .dataframe tbody tr th:only-of-type {\n",
       "        vertical-align: middle;\n",
       "    }\n",
       "\n",
       "    .dataframe tbody tr th {\n",
       "        vertical-align: top;\n",
       "    }\n",
       "\n",
       "    .dataframe thead th {\n",
       "        text-align: right;\n",
       "    }\n",
       "</style>\n",
       "<table border=\"1\" class=\"dataframe\">\n",
       "  <thead>\n",
       "    <tr style=\"text-align: right;\">\n",
       "      <th></th>\n",
       "      <th>STATION</th>\n",
       "      <th>DATE</th>\n",
       "      <th>DAILY_ENTRIES</th>\n",
       "      <th>WEEKDAY</th>\n",
       "      <th>WEEK</th>\n",
       "      <th>DATE_SHIFT</th>\n",
       "    </tr>\n",
       "  </thead>\n",
       "  <tbody>\n",
       "    <tr>\n",
       "      <th>2501</th>\n",
       "      <td>34 ST-PENN STA</td>\n",
       "      <td>2019-04-30</td>\n",
       "      <td>169571.0</td>\n",
       "      <td>Monday</td>\n",
       "      <td>18</td>\n",
       "      <td>2019-04-29</td>\n",
       "    </tr>\n",
       "    <tr>\n",
       "      <th>2502</th>\n",
       "      <td>34 ST-PENN STA</td>\n",
       "      <td>2019-05-01</td>\n",
       "      <td>176127.0</td>\n",
       "      <td>Tuesday</td>\n",
       "      <td>18</td>\n",
       "      <td>2019-04-30</td>\n",
       "    </tr>\n",
       "    <tr>\n",
       "      <th>2503</th>\n",
       "      <td>34 ST-PENN STA</td>\n",
       "      <td>2019-05-02</td>\n",
       "      <td>177186.0</td>\n",
       "      <td>Wednesday</td>\n",
       "      <td>18</td>\n",
       "      <td>2019-05-01</td>\n",
       "    </tr>\n",
       "    <tr>\n",
       "      <th>2504</th>\n",
       "      <td>34 ST-PENN STA</td>\n",
       "      <td>2019-05-03</td>\n",
       "      <td>178299.0</td>\n",
       "      <td>Thursday</td>\n",
       "      <td>18</td>\n",
       "      <td>2019-05-02</td>\n",
       "    </tr>\n",
       "    <tr>\n",
       "      <th>2505</th>\n",
       "      <td>34 ST-PENN STA</td>\n",
       "      <td>2019-05-04</td>\n",
       "      <td>170839.0</td>\n",
       "      <td>Friday</td>\n",
       "      <td>18</td>\n",
       "      <td>2019-05-03</td>\n",
       "    </tr>\n",
       "  </tbody>\n",
       "</table>\n",
       "</div>"
      ],
      "text/plain": [
       "             STATION       DATE  DAILY_ENTRIES    WEEKDAY  WEEK DATE_SHIFT\n",
       "2501  34 ST-PENN STA 2019-04-30       169571.0     Monday    18 2019-04-29\n",
       "2502  34 ST-PENN STA 2019-05-01       176127.0    Tuesday    18 2019-04-30\n",
       "2503  34 ST-PENN STA 2019-05-02       177186.0  Wednesday    18 2019-05-01\n",
       "2504  34 ST-PENN STA 2019-05-03       178299.0   Thursday    18 2019-05-02\n",
       "2505  34 ST-PENN STA 2019-05-04       170839.0     Friday    18 2019-05-03"
      ]
     },
     "execution_count": 466,
     "metadata": {},
     "output_type": "execute_result"
    }
   ],
   "source": [
    "filtered_by_station = dataframe[(dataframe.STATION == station1) |\n",
    "                               (dataframe.STATION == station2) |\n",
    "                               (dataframe.STATION == station3)]\n",
    "filtered_by_station.head()"
   ]
  },
  {
   "cell_type": "code",
   "execution_count": 467,
   "metadata": {},
   "outputs": [
    {
     "data": {
      "text/plain": [
       "<seaborn.axisgrid.FacetGrid at 0x7fb54ca33130>"
      ]
     },
     "execution_count": 467,
     "metadata": {},
     "output_type": "execute_result"
    },
    {
     "data": {
      "image/png": "[encoded data removed]",
      "text/plain": [
       "<Figure size 827.775x1080 with 3 Axes>"
      ]
     },
     "metadata": {},
     "output_type": "display_data"
    }
   ],
   "source": [
    "sns.relplot(data = filtered_by_station, \n",
    "            x = 'WEEKDAY', \n",
    "            y = 'DAILY_ENTRIES',\n",
    "           row = 'STATION',\n",
    "            hue = 'WEEK',\n",
    "            kind = 'line',\n",
    "            sort = False,\n",
    "            aspect = 2,\n",
    "            palette = 'rainbow'\n",
    "           )"
   ]
  },
  {
   "cell_type": "code",
   "execution_count": 468,
   "metadata": {},
   "outputs": [],
   "source": [
    "filtered_by_station_reduced_max = filtered_by_station[filtered_by_station.DAILY_ENTRIES < 0.5e+06]"
   ]
  },
  {
   "cell_type": "code",
   "execution_count": 471,
   "metadata": {},
   "outputs": [
    {
     "data": {
      "image/png": "[encoded data removed]",
      "text/plain": [
       "<Figure size 2267.78x360 with 3 Axes>"
      ]
     },
     "metadata": {},
     "output_type": "display_data"
    }
   ],
   "source": [
    "g = sns.relplot(data = filtered_by_station_reduced_max, \n",
    "            x = 'WEEKDAY', \n",
    "            y = 'DAILY_ENTRIES',\n",
    "           col = 'STATION',\n",
    "            hue = 'WEEK',\n",
    "            kind = 'line',\n",
    "            sort = False,\n",
    "            aspect = 2,\n",
    "            palette = 'rainbow'\n",
    "           )\n",
    "\n",
    "g.savefig('weekday_by_station.png', bbox_inches = 'tight')"
   ]
  },
  {
   "cell_type": "code",
   "execution_count": null,
   "metadata": {},
   "outputs": [],
   "source": []
  }
 ],
 "metadata": {
  "kernelspec": {
   "display_name": "Python 3",
   "language": "python",
   "name": "python3"
  },
  "language_info": {
   "codemirror_mode": {
    "name": "ipython",
    "version": 3
   },
   "file_extension": ".py",
   "mimetype": "text/x-python",
   "name": "python",
   "nbconvert_exporter": "python",
   "pygments_lexer": "ipython3",
   "version": "3.8.3"
  }
 },
 "nbformat": 4,
 "nbformat_minor": 4
}
